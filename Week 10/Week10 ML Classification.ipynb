{
 "cells": [
  {
   "cell_type": "code",
   "execution_count": 39,
   "metadata": {},
   "outputs": [],
   "source": [
    "import torch\n",
    "import torch.nn as nn\n",
    "import torch.optim as optim\n",
    "from torch.utils.data import DataLoader, TensorDataset\n",
    "import itertools\n",
    "import pandas as pd\n",
    "from sklearn.model_selection import train_test_split\n",
    "from sklearn.preprocessing import StandardScaler, LabelEncoder\n",
    "from sklearn.metrics import accuracy_score"
   ]
  },
  {
   "cell_type": "code",
   "execution_count": 40,
   "metadata": {},
   "outputs": [
    {
     "name": "stderr",
     "output_type": "stream",
     "text": [
      "<>:2: SyntaxWarning: invalid escape sequence '\\D'\n",
      "<>:2: SyntaxWarning: invalid escape sequence '\\D'\n",
      "C:\\Users\\user\\AppData\\Local\\Temp\\ipykernel_21540\\2773329279.py:2: SyntaxWarning: invalid escape sequence '\\D'\n",
      "  file_path = 'D:\\Download\\Documents\\Semester 7\\ML\\Week 10\\Dataset\\Student Performance\\student-por.csv'\n"
     ]
    },
    {
     "data": {
      "text/html": [
       "<div>\n",
       "<style scoped>\n",
       "    .dataframe tbody tr th:only-of-type {\n",
       "        vertical-align: middle;\n",
       "    }\n",
       "\n",
       "    .dataframe tbody tr th {\n",
       "        vertical-align: top;\n",
       "    }\n",
       "\n",
       "    .dataframe thead th {\n",
       "        text-align: right;\n",
       "    }\n",
       "</style>\n",
       "<table border=\"1\" class=\"dataframe\">\n",
       "  <thead>\n",
       "    <tr style=\"text-align: right;\">\n",
       "      <th></th>\n",
       "      <th>school</th>\n",
       "      <th>sex</th>\n",
       "      <th>age</th>\n",
       "      <th>address</th>\n",
       "      <th>famsize</th>\n",
       "      <th>Pstatus</th>\n",
       "      <th>Medu</th>\n",
       "      <th>Fedu</th>\n",
       "      <th>Mjob</th>\n",
       "      <th>Fjob</th>\n",
       "      <th>...</th>\n",
       "      <th>famrel</th>\n",
       "      <th>freetime</th>\n",
       "      <th>goout</th>\n",
       "      <th>Dalc</th>\n",
       "      <th>Walc</th>\n",
       "      <th>health</th>\n",
       "      <th>absences</th>\n",
       "      <th>G1</th>\n",
       "      <th>G2</th>\n",
       "      <th>G3</th>\n",
       "    </tr>\n",
       "  </thead>\n",
       "  <tbody>\n",
       "    <tr>\n",
       "      <th>0</th>\n",
       "      <td>GP</td>\n",
       "      <td>F</td>\n",
       "      <td>18</td>\n",
       "      <td>U</td>\n",
       "      <td>GT3</td>\n",
       "      <td>A</td>\n",
       "      <td>4</td>\n",
       "      <td>4</td>\n",
       "      <td>at_home</td>\n",
       "      <td>teacher</td>\n",
       "      <td>...</td>\n",
       "      <td>4</td>\n",
       "      <td>3</td>\n",
       "      <td>4</td>\n",
       "      <td>1</td>\n",
       "      <td>1</td>\n",
       "      <td>3</td>\n",
       "      <td>4</td>\n",
       "      <td>0</td>\n",
       "      <td>11</td>\n",
       "      <td>11</td>\n",
       "    </tr>\n",
       "    <tr>\n",
       "      <th>1</th>\n",
       "      <td>GP</td>\n",
       "      <td>F</td>\n",
       "      <td>17</td>\n",
       "      <td>U</td>\n",
       "      <td>GT3</td>\n",
       "      <td>T</td>\n",
       "      <td>1</td>\n",
       "      <td>1</td>\n",
       "      <td>at_home</td>\n",
       "      <td>other</td>\n",
       "      <td>...</td>\n",
       "      <td>5</td>\n",
       "      <td>3</td>\n",
       "      <td>3</td>\n",
       "      <td>1</td>\n",
       "      <td>1</td>\n",
       "      <td>3</td>\n",
       "      <td>2</td>\n",
       "      <td>9</td>\n",
       "      <td>11</td>\n",
       "      <td>11</td>\n",
       "    </tr>\n",
       "    <tr>\n",
       "      <th>2</th>\n",
       "      <td>GP</td>\n",
       "      <td>F</td>\n",
       "      <td>15</td>\n",
       "      <td>U</td>\n",
       "      <td>LE3</td>\n",
       "      <td>T</td>\n",
       "      <td>1</td>\n",
       "      <td>1</td>\n",
       "      <td>at_home</td>\n",
       "      <td>other</td>\n",
       "      <td>...</td>\n",
       "      <td>4</td>\n",
       "      <td>3</td>\n",
       "      <td>2</td>\n",
       "      <td>2</td>\n",
       "      <td>3</td>\n",
       "      <td>3</td>\n",
       "      <td>6</td>\n",
       "      <td>12</td>\n",
       "      <td>13</td>\n",
       "      <td>12</td>\n",
       "    </tr>\n",
       "    <tr>\n",
       "      <th>3</th>\n",
       "      <td>GP</td>\n",
       "      <td>F</td>\n",
       "      <td>15</td>\n",
       "      <td>U</td>\n",
       "      <td>GT3</td>\n",
       "      <td>T</td>\n",
       "      <td>4</td>\n",
       "      <td>2</td>\n",
       "      <td>health</td>\n",
       "      <td>services</td>\n",
       "      <td>...</td>\n",
       "      <td>3</td>\n",
       "      <td>2</td>\n",
       "      <td>2</td>\n",
       "      <td>1</td>\n",
       "      <td>1</td>\n",
       "      <td>5</td>\n",
       "      <td>0</td>\n",
       "      <td>14</td>\n",
       "      <td>14</td>\n",
       "      <td>14</td>\n",
       "    </tr>\n",
       "    <tr>\n",
       "      <th>4</th>\n",
       "      <td>GP</td>\n",
       "      <td>F</td>\n",
       "      <td>16</td>\n",
       "      <td>U</td>\n",
       "      <td>GT3</td>\n",
       "      <td>T</td>\n",
       "      <td>3</td>\n",
       "      <td>3</td>\n",
       "      <td>other</td>\n",
       "      <td>other</td>\n",
       "      <td>...</td>\n",
       "      <td>4</td>\n",
       "      <td>3</td>\n",
       "      <td>2</td>\n",
       "      <td>1</td>\n",
       "      <td>2</td>\n",
       "      <td>5</td>\n",
       "      <td>0</td>\n",
       "      <td>11</td>\n",
       "      <td>13</td>\n",
       "      <td>13</td>\n",
       "    </tr>\n",
       "  </tbody>\n",
       "</table>\n",
       "<p>5 rows × 33 columns</p>\n",
       "</div>"
      ],
      "text/plain": [
       "  school sex  age address famsize Pstatus  Medu  Fedu     Mjob      Fjob  ...  \\\n",
       "0     GP   F   18       U     GT3       A     4     4  at_home   teacher  ...   \n",
       "1     GP   F   17       U     GT3       T     1     1  at_home     other  ...   \n",
       "2     GP   F   15       U     LE3       T     1     1  at_home     other  ...   \n",
       "3     GP   F   15       U     GT3       T     4     2   health  services  ...   \n",
       "4     GP   F   16       U     GT3       T     3     3    other     other  ...   \n",
       "\n",
       "  famrel freetime  goout  Dalc  Walc health absences  G1  G2  G3  \n",
       "0      4        3      4     1     1      3        4   0  11  11  \n",
       "1      5        3      3     1     1      3        2   9  11  11  \n",
       "2      4        3      2     2     3      3        6  12  13  12  \n",
       "3      3        2      2     1     1      5        0  14  14  14  \n",
       "4      4        3      2     1     2      5        0  11  13  13  \n",
       "\n",
       "[5 rows x 33 columns]"
      ]
     },
     "execution_count": 40,
     "metadata": {},
     "output_type": "execute_result"
    }
   ],
   "source": [
    "# Load the dataset\n",
    "file_path = 'D:\\Download\\Documents\\Semester 7\\ML\\Week 10\\Dataset\\Student Performance\\student-por.csv'\n",
    "data = pd.read_csv(file_path, sep=';')\n",
    "\n",
    "# Display the first few rows of the dataset\n",
    "data.head()"
   ]
  },
  {
   "cell_type": "code",
   "execution_count": 41,
   "metadata": {},
   "outputs": [],
   "source": [
    "# Preprocessing\n",
    "label_cols = ['school', 'sex', 'address', 'famsize', 'Pstatus', 'Mjob', 'Fjob', \n",
    "              'reason', 'guardian', 'schoolsup', 'famsup', 'paid', 'activities', \n",
    "              'nursery', 'higher', 'internet', 'romantic']\n",
    "numeric_cols = list(set(data.columns) - set(label_cols) - {'G3'})\n",
    "\n",
    "# Encode categorical columns\n",
    "for col in label_cols:\n",
    "    data[col] = LabelEncoder().fit_transform(data[col])\n",
    "\n",
    "# Standardize numeric columns\n",
    "scaler = StandardScaler()\n",
    "data[numeric_cols] = scaler.fit_transform(data[numeric_cols])\n",
    "\n",
    "# Prepare features and target\n",
    "X = data.drop('G3', axis=1).values\n",
    "y = data['G3'].values\n",
    "\n",
    "# Split into train and test sets\n",
    "X_train, X_test, y_train, y_test = train_test_split(X, y, test_size=0.2, random_state=42)"
   ]
  },
  {
   "cell_type": "code",
   "execution_count": 42,
   "metadata": {},
   "outputs": [],
   "source": [
    "# Convert to PyTorch tensors\n",
    "X_train_tensor = torch.tensor(X_train, dtype=torch.float32)\n",
    "y_train_tensor = torch.tensor(y_train, dtype=torch.long)\n",
    "X_test_tensor = torch.tensor(X_test, dtype=torch.float32)\n",
    "y_test_tensor = torch.tensor(y_test, dtype=torch.long)\n",
    "\n",
    "# Create datasets\n",
    "train_dataset = TensorDataset(X_train_tensor, y_train_tensor)\n",
    "test_dataset = TensorDataset(X_test_tensor, y_test_tensor)\n",
    "\n",
    "# Define MLP model\n",
    "class MLPModel(nn.Module):\n",
    "    def __init__(self, input_size, hidden_layers, activation_fn):\n",
    "        super(MLPModel, self).__init__()\n",
    "        layers = []\n",
    "        for i in range(len(hidden_layers)):\n",
    "            if i == 0:\n",
    "                layers.append(nn.Linear(input_size, hidden_layers[i]))\n",
    "            else:\n",
    "                layers.append(nn.Linear(hidden_layers[i-1], hidden_layers[i]))\n",
    "            layers.append(activation_fn())\n",
    "        layers.append(nn.Linear(hidden_layers[-1], 20))  # Output layer for 20 classes (G3 has 0-20 possible values)\n",
    "        self.model = nn.Sequential(*layers)\n",
    "\n",
    "    def forward(self, x):\n",
    "        return self.model(x)\n",
    "\n",
    "# Experiment hyperparameters\n",
    "hidden_layers_options = [[4], [8, 4], [16, 8, 4]]\n",
    "activation_options = [nn.Identity, nn.Sigmoid, nn.ReLU, nn.Softmax, nn.Tanh]\n",
    "epoch_options = [1, 10, 25, 50, 100, 250]\n",
    "learning_rate_options = [10, 1, 0.1, 0.01, 0.001, 0.0001]\n",
    "batch_size_options = [16, 32, 64, 128, 256, 512]    "
   ]
  },
  {
   "cell_type": "code",
   "execution_count": 43,
   "metadata": {},
   "outputs": [
    {
     "name": "stdout",
     "output_type": "stream",
     "text": [
      "Hidden Layers: [4], Activation: Identity, Epochs: 1, LR: 10, Batch Size: 16, Accuracy: 0.0615\n",
      "Hidden Layers: [4], Activation: Identity, Epochs: 1, LR: 10, Batch Size: 32, Accuracy: 0.1385\n",
      "Hidden Layers: [4], Activation: Identity, Epochs: 1, LR: 10, Batch Size: 64, Accuracy: 0.1462\n",
      "Hidden Layers: [4], Activation: Identity, Epochs: 1, LR: 10, Batch Size: 128, Accuracy: 0.1077\n",
      "Hidden Layers: [4], Activation: Identity, Epochs: 1, LR: 10, Batch Size: 256, Accuracy: 0.1615\n",
      "Hidden Layers: [4], Activation: Identity, Epochs: 1, LR: 10, Batch Size: 512, Accuracy: 0.0231\n",
      "Hidden Layers: [4], Activation: Identity, Epochs: 1, LR: 1, Batch Size: 16, Accuracy: 0.1154\n",
      "Hidden Layers: [4], Activation: Identity, Epochs: 1, LR: 1, Batch Size: 32, Accuracy: 0.1615\n",
      "Hidden Layers: [4], Activation: Identity, Epochs: 1, LR: 1, Batch Size: 64, Accuracy: 0.1538\n",
      "Hidden Layers: [4], Activation: Identity, Epochs: 1, LR: 1, Batch Size: 128, Accuracy: 0.1385\n",
      "Hidden Layers: [4], Activation: Identity, Epochs: 1, LR: 1, Batch Size: 256, Accuracy: 0.1308\n",
      "Hidden Layers: [4], Activation: Identity, Epochs: 1, LR: 1, Batch Size: 512, Accuracy: 0.1154\n",
      "Hidden Layers: [4], Activation: Identity, Epochs: 1, LR: 0.1, Batch Size: 16, Accuracy: 0.2462\n",
      "Hidden Layers: [4], Activation: Identity, Epochs: 1, LR: 0.1, Batch Size: 32, Accuracy: 0.2692\n",
      "Hidden Layers: [4], Activation: Identity, Epochs: 1, LR: 0.1, Batch Size: 64, Accuracy: 0.2538\n",
      "Hidden Layers: [4], Activation: Identity, Epochs: 1, LR: 0.1, Batch Size: 128, Accuracy: 0.1538\n",
      "Hidden Layers: [4], Activation: Identity, Epochs: 1, LR: 0.1, Batch Size: 256, Accuracy: 0.1000\n",
      "Hidden Layers: [4], Activation: Identity, Epochs: 1, LR: 0.1, Batch Size: 512, Accuracy: 0.2000\n",
      "Hidden Layers: [4], Activation: Identity, Epochs: 1, LR: 0.01, Batch Size: 16, Accuracy: 0.1692\n",
      "Hidden Layers: [4], Activation: Identity, Epochs: 1, LR: 0.01, Batch Size: 32, Accuracy: 0.1000\n",
      "Hidden Layers: [4], Activation: Identity, Epochs: 1, LR: 0.01, Batch Size: 64, Accuracy: 0.0308\n",
      "Hidden Layers: [4], Activation: Identity, Epochs: 1, LR: 0.01, Batch Size: 128, Accuracy: 0.0692\n",
      "Hidden Layers: [4], Activation: Identity, Epochs: 1, LR: 0.01, Batch Size: 256, Accuracy: 0.0692\n",
      "Hidden Layers: [4], Activation: Identity, Epochs: 1, LR: 0.01, Batch Size: 512, Accuracy: 0.1231\n",
      "Hidden Layers: [4], Activation: Identity, Epochs: 1, LR: 0.001, Batch Size: 16, Accuracy: 0.0462\n",
      "Hidden Layers: [4], Activation: Identity, Epochs: 1, LR: 0.001, Batch Size: 32, Accuracy: 0.0385\n",
      "Hidden Layers: [4], Activation: Identity, Epochs: 1, LR: 0.001, Batch Size: 64, Accuracy: 0.0538\n",
      "Hidden Layers: [4], Activation: Identity, Epochs: 1, LR: 0.001, Batch Size: 128, Accuracy: 0.0308\n",
      "Hidden Layers: [4], Activation: Identity, Epochs: 1, LR: 0.001, Batch Size: 256, Accuracy: 0.0923\n",
      "Hidden Layers: [4], Activation: Identity, Epochs: 1, LR: 0.001, Batch Size: 512, Accuracy: 0.0231\n",
      "Hidden Layers: [4], Activation: Identity, Epochs: 1, LR: 0.0001, Batch Size: 16, Accuracy: 0.0385\n",
      "Hidden Layers: [4], Activation: Identity, Epochs: 1, LR: 0.0001, Batch Size: 32, Accuracy: 0.0077\n",
      "Hidden Layers: [4], Activation: Identity, Epochs: 1, LR: 0.0001, Batch Size: 64, Accuracy: 0.0308\n",
      "Hidden Layers: [4], Activation: Identity, Epochs: 1, LR: 0.0001, Batch Size: 128, Accuracy: 0.0154\n",
      "Hidden Layers: [4], Activation: Identity, Epochs: 1, LR: 0.0001, Batch Size: 256, Accuracy: 0.0231\n",
      "Hidden Layers: [4], Activation: Identity, Epochs: 1, LR: 0.0001, Batch Size: 512, Accuracy: 0.0846\n",
      "Hidden Layers: [4], Activation: Identity, Epochs: 10, LR: 10, Batch Size: 16, Accuracy: 0.1538\n",
      "Hidden Layers: [4], Activation: Identity, Epochs: 10, LR: 10, Batch Size: 32, Accuracy: 0.1846\n",
      "Hidden Layers: [4], Activation: Identity, Epochs: 10, LR: 10, Batch Size: 64, Accuracy: 0.1385\n",
      "Hidden Layers: [4], Activation: Identity, Epochs: 10, LR: 10, Batch Size: 128, Accuracy: 0.2077\n",
      "Hidden Layers: [4], Activation: Identity, Epochs: 10, LR: 10, Batch Size: 256, Accuracy: 0.2615\n",
      "Hidden Layers: [4], Activation: Identity, Epochs: 10, LR: 10, Batch Size: 512, Accuracy: 0.1077\n",
      "Hidden Layers: [4], Activation: Identity, Epochs: 10, LR: 1, Batch Size: 16, Accuracy: 0.1692\n",
      "Hidden Layers: [4], Activation: Identity, Epochs: 10, LR: 1, Batch Size: 32, Accuracy: 0.2154\n",
      "Hidden Layers: [4], Activation: Identity, Epochs: 10, LR: 1, Batch Size: 64, Accuracy: 0.3000\n",
      "Hidden Layers: [4], Activation: Identity, Epochs: 10, LR: 1, Batch Size: 128, Accuracy: 0.1385\n",
      "Hidden Layers: [4], Activation: Identity, Epochs: 10, LR: 1, Batch Size: 256, Accuracy: 0.1615\n",
      "Hidden Layers: [4], Activation: Identity, Epochs: 10, LR: 1, Batch Size: 512, Accuracy: 0.1077\n",
      "Hidden Layers: [4], Activation: Identity, Epochs: 10, LR: 0.1, Batch Size: 16, Accuracy: 0.4154\n",
      "Hidden Layers: [4], Activation: Identity, Epochs: 10, LR: 0.1, Batch Size: 32, Accuracy: 0.3538\n",
      "Hidden Layers: [4], Activation: Identity, Epochs: 10, LR: 0.1, Batch Size: 64, Accuracy: 0.4154\n",
      "Hidden Layers: [4], Activation: Identity, Epochs: 10, LR: 0.1, Batch Size: 128, Accuracy: 0.3308\n",
      "Hidden Layers: [4], Activation: Identity, Epochs: 10, LR: 0.1, Batch Size: 256, Accuracy: 0.2462\n",
      "Hidden Layers: [4], Activation: Identity, Epochs: 10, LR: 0.1, Batch Size: 512, Accuracy: 0.2000\n",
      "Hidden Layers: [4], Activation: Identity, Epochs: 10, LR: 0.01, Batch Size: 16, Accuracy: 0.3615\n",
      "Hidden Layers: [4], Activation: Identity, Epochs: 10, LR: 0.01, Batch Size: 32, Accuracy: 0.3692\n",
      "Hidden Layers: [4], Activation: Identity, Epochs: 10, LR: 0.01, Batch Size: 64, Accuracy: 0.2769\n",
      "Hidden Layers: [4], Activation: Identity, Epochs: 10, LR: 0.01, Batch Size: 128, Accuracy: 0.3000\n",
      "Hidden Layers: [4], Activation: Identity, Epochs: 10, LR: 0.01, Batch Size: 256, Accuracy: 0.1769\n",
      "Hidden Layers: [4], Activation: Identity, Epochs: 10, LR: 0.01, Batch Size: 512, Accuracy: 0.1538\n",
      "Hidden Layers: [4], Activation: Identity, Epochs: 10, LR: 0.001, Batch Size: 16, Accuracy: 0.2385\n",
      "Hidden Layers: [4], Activation: Identity, Epochs: 10, LR: 0.001, Batch Size: 32, Accuracy: 0.1923\n",
      "Hidden Layers: [4], Activation: Identity, Epochs: 10, LR: 0.001, Batch Size: 64, Accuracy: 0.1615\n",
      "Hidden Layers: [4], Activation: Identity, Epochs: 10, LR: 0.001, Batch Size: 128, Accuracy: 0.1692\n",
      "Hidden Layers: [4], Activation: Identity, Epochs: 10, LR: 0.001, Batch Size: 256, Accuracy: 0.1231\n",
      "Hidden Layers: [4], Activation: Identity, Epochs: 10, LR: 0.001, Batch Size: 512, Accuracy: 0.0846\n",
      "Hidden Layers: [4], Activation: Identity, Epochs: 10, LR: 0.0001, Batch Size: 16, Accuracy: 0.0000\n",
      "Hidden Layers: [4], Activation: Identity, Epochs: 10, LR: 0.0001, Batch Size: 32, Accuracy: 0.1077\n",
      "Hidden Layers: [4], Activation: Identity, Epochs: 10, LR: 0.0001, Batch Size: 64, Accuracy: 0.0154\n",
      "Hidden Layers: [4], Activation: Identity, Epochs: 10, LR: 0.0001, Batch Size: 128, Accuracy: 0.0077\n",
      "Hidden Layers: [4], Activation: Identity, Epochs: 10, LR: 0.0001, Batch Size: 256, Accuracy: 0.0154\n",
      "Hidden Layers: [4], Activation: Identity, Epochs: 10, LR: 0.0001, Batch Size: 512, Accuracy: 0.0923\n",
      "Hidden Layers: [4], Activation: Identity, Epochs: 25, LR: 10, Batch Size: 16, Accuracy: 0.0846\n",
      "Hidden Layers: [4], Activation: Identity, Epochs: 25, LR: 10, Batch Size: 32, Accuracy: 0.1538\n",
      "Hidden Layers: [4], Activation: Identity, Epochs: 25, LR: 10, Batch Size: 64, Accuracy: 0.2385\n",
      "Hidden Layers: [4], Activation: Identity, Epochs: 25, LR: 10, Batch Size: 128, Accuracy: 0.1538\n",
      "Hidden Layers: [4], Activation: Identity, Epochs: 25, LR: 10, Batch Size: 256, Accuracy: 0.2231\n",
      "Hidden Layers: [4], Activation: Identity, Epochs: 25, LR: 10, Batch Size: 512, Accuracy: 0.1923\n",
      "Hidden Layers: [4], Activation: Identity, Epochs: 25, LR: 1, Batch Size: 16, Accuracy: 0.1615\n",
      "Hidden Layers: [4], Activation: Identity, Epochs: 25, LR: 1, Batch Size: 32, Accuracy: 0.2923\n",
      "Hidden Layers: [4], Activation: Identity, Epochs: 25, LR: 1, Batch Size: 64, Accuracy: 0.2385\n",
      "Hidden Layers: [4], Activation: Identity, Epochs: 25, LR: 1, Batch Size: 128, Accuracy: 0.2462\n",
      "Hidden Layers: [4], Activation: Identity, Epochs: 25, LR: 1, Batch Size: 256, Accuracy: 0.2308\n",
      "Hidden Layers: [4], Activation: Identity, Epochs: 25, LR: 1, Batch Size: 512, Accuracy: 0.1231\n",
      "Hidden Layers: [4], Activation: Identity, Epochs: 25, LR: 0.1, Batch Size: 16, Accuracy: 0.3538\n",
      "Hidden Layers: [4], Activation: Identity, Epochs: 25, LR: 0.1, Batch Size: 32, Accuracy: 0.3923\n",
      "Hidden Layers: [4], Activation: Identity, Epochs: 25, LR: 0.1, Batch Size: 64, Accuracy: 0.2769\n",
      "Hidden Layers: [4], Activation: Identity, Epochs: 25, LR: 0.1, Batch Size: 128, Accuracy: 0.3462\n",
      "Hidden Layers: [4], Activation: Identity, Epochs: 25, LR: 0.1, Batch Size: 256, Accuracy: 0.3154\n",
      "Hidden Layers: [4], Activation: Identity, Epochs: 25, LR: 0.1, Batch Size: 512, Accuracy: 0.2846\n",
      "Hidden Layers: [4], Activation: Identity, Epochs: 25, LR: 0.01, Batch Size: 16, Accuracy: 0.4154\n",
      "Hidden Layers: [4], Activation: Identity, Epochs: 25, LR: 0.01, Batch Size: 32, Accuracy: 0.4462\n",
      "Hidden Layers: [4], Activation: Identity, Epochs: 25, LR: 0.01, Batch Size: 64, Accuracy: 0.3692\n",
      "Hidden Layers: [4], Activation: Identity, Epochs: 25, LR: 0.01, Batch Size: 128, Accuracy: 0.2846\n",
      "Hidden Layers: [4], Activation: Identity, Epochs: 25, LR: 0.01, Batch Size: 256, Accuracy: 0.1615\n",
      "Hidden Layers: [4], Activation: Identity, Epochs: 25, LR: 0.01, Batch Size: 512, Accuracy: 0.2692\n",
      "Hidden Layers: [4], Activation: Identity, Epochs: 25, LR: 0.001, Batch Size: 16, Accuracy: 0.2615\n",
      "Hidden Layers: [4], Activation: Identity, Epochs: 25, LR: 0.001, Batch Size: 32, Accuracy: 0.2462\n",
      "Hidden Layers: [4], Activation: Identity, Epochs: 25, LR: 0.001, Batch Size: 64, Accuracy: 0.2000\n",
      "Hidden Layers: [4], Activation: Identity, Epochs: 25, LR: 0.001, Batch Size: 128, Accuracy: 0.1615\n",
      "Hidden Layers: [4], Activation: Identity, Epochs: 25, LR: 0.001, Batch Size: 256, Accuracy: 0.1231\n",
      "Hidden Layers: [4], Activation: Identity, Epochs: 25, LR: 0.001, Batch Size: 512, Accuracy: 0.1385\n",
      "Hidden Layers: [4], Activation: Identity, Epochs: 25, LR: 0.0001, Batch Size: 16, Accuracy: 0.0923\n",
      "Hidden Layers: [4], Activation: Identity, Epochs: 25, LR: 0.0001, Batch Size: 32, Accuracy: 0.1077\n",
      "Hidden Layers: [4], Activation: Identity, Epochs: 25, LR: 0.0001, Batch Size: 64, Accuracy: 0.0846\n",
      "Hidden Layers: [4], Activation: Identity, Epochs: 25, LR: 0.0001, Batch Size: 128, Accuracy: 0.1231\n",
      "Hidden Layers: [4], Activation: Identity, Epochs: 25, LR: 0.0001, Batch Size: 256, Accuracy: 0.1000\n",
      "Hidden Layers: [4], Activation: Identity, Epochs: 25, LR: 0.0001, Batch Size: 512, Accuracy: 0.0077\n",
      "Hidden Layers: [4], Activation: Identity, Epochs: 50, LR: 10, Batch Size: 16, Accuracy: 0.1538\n",
      "Hidden Layers: [4], Activation: Identity, Epochs: 50, LR: 10, Batch Size: 32, Accuracy: 0.1385\n",
      "Hidden Layers: [4], Activation: Identity, Epochs: 50, LR: 10, Batch Size: 64, Accuracy: 0.2231\n",
      "Hidden Layers: [4], Activation: Identity, Epochs: 50, LR: 10, Batch Size: 128, Accuracy: 0.1846\n",
      "Hidden Layers: [4], Activation: Identity, Epochs: 50, LR: 10, Batch Size: 256, Accuracy: 0.2000\n",
      "Hidden Layers: [4], Activation: Identity, Epochs: 50, LR: 10, Batch Size: 512, Accuracy: 0.2769\n",
      "Hidden Layers: [4], Activation: Identity, Epochs: 50, LR: 1, Batch Size: 16, Accuracy: 0.1846\n",
      "Hidden Layers: [4], Activation: Identity, Epochs: 50, LR: 1, Batch Size: 32, Accuracy: 0.2923\n",
      "Hidden Layers: [4], Activation: Identity, Epochs: 50, LR: 1, Batch Size: 64, Accuracy: 0.2000\n",
      "Hidden Layers: [4], Activation: Identity, Epochs: 50, LR: 1, Batch Size: 128, Accuracy: 0.1308\n",
      "Hidden Layers: [4], Activation: Identity, Epochs: 50, LR: 1, Batch Size: 256, Accuracy: 0.2308\n",
      "Hidden Layers: [4], Activation: Identity, Epochs: 50, LR: 1, Batch Size: 512, Accuracy: 0.1923\n",
      "Hidden Layers: [4], Activation: Identity, Epochs: 50, LR: 0.1, Batch Size: 16, Accuracy: 0.3385\n",
      "Hidden Layers: [4], Activation: Identity, Epochs: 50, LR: 0.1, Batch Size: 32, Accuracy: 0.3154\n",
      "Hidden Layers: [4], Activation: Identity, Epochs: 50, LR: 0.1, Batch Size: 64, Accuracy: 0.3923\n",
      "Hidden Layers: [4], Activation: Identity, Epochs: 50, LR: 0.1, Batch Size: 128, Accuracy: 0.3846\n",
      "Hidden Layers: [4], Activation: Identity, Epochs: 50, LR: 0.1, Batch Size: 256, Accuracy: 0.3538\n",
      "Hidden Layers: [4], Activation: Identity, Epochs: 50, LR: 0.1, Batch Size: 512, Accuracy: 0.3077\n",
      "Hidden Layers: [4], Activation: Identity, Epochs: 50, LR: 0.01, Batch Size: 16, Accuracy: 0.4154\n",
      "Hidden Layers: [4], Activation: Identity, Epochs: 50, LR: 0.01, Batch Size: 32, Accuracy: 0.4000\n",
      "Hidden Layers: [4], Activation: Identity, Epochs: 50, LR: 0.01, Batch Size: 64, Accuracy: 0.4692\n",
      "Hidden Layers: [4], Activation: Identity, Epochs: 50, LR: 0.01, Batch Size: 128, Accuracy: 0.3308\n",
      "Hidden Layers: [4], Activation: Identity, Epochs: 50, LR: 0.01, Batch Size: 256, Accuracy: 0.3308\n",
      "Hidden Layers: [4], Activation: Identity, Epochs: 50, LR: 0.01, Batch Size: 512, Accuracy: 0.3077\n",
      "Hidden Layers: [4], Activation: Identity, Epochs: 50, LR: 0.001, Batch Size: 16, Accuracy: 0.3077\n",
      "Hidden Layers: [4], Activation: Identity, Epochs: 50, LR: 0.001, Batch Size: 32, Accuracy: 0.3000\n",
      "Hidden Layers: [4], Activation: Identity, Epochs: 50, LR: 0.001, Batch Size: 64, Accuracy: 0.2231\n",
      "Hidden Layers: [4], Activation: Identity, Epochs: 50, LR: 0.001, Batch Size: 128, Accuracy: 0.1923\n",
      "Hidden Layers: [4], Activation: Identity, Epochs: 50, LR: 0.001, Batch Size: 256, Accuracy: 0.1846\n",
      "Hidden Layers: [4], Activation: Identity, Epochs: 50, LR: 0.001, Batch Size: 512, Accuracy: 0.1846\n",
      "Hidden Layers: [4], Activation: Identity, Epochs: 50, LR: 0.0001, Batch Size: 16, Accuracy: 0.1462\n",
      "Hidden Layers: [4], Activation: Identity, Epochs: 50, LR: 0.0001, Batch Size: 32, Accuracy: 0.1462\n",
      "Hidden Layers: [4], Activation: Identity, Epochs: 50, LR: 0.0001, Batch Size: 64, Accuracy: 0.1462\n",
      "Hidden Layers: [4], Activation: Identity, Epochs: 50, LR: 0.0001, Batch Size: 128, Accuracy: 0.0154\n",
      "Hidden Layers: [4], Activation: Identity, Epochs: 50, LR: 0.0001, Batch Size: 256, Accuracy: 0.0692\n",
      "Hidden Layers: [4], Activation: Identity, Epochs: 50, LR: 0.0001, Batch Size: 512, Accuracy: 0.0308\n",
      "Hidden Layers: [4], Activation: Identity, Epochs: 100, LR: 10, Batch Size: 16, Accuracy: 0.1462\n",
      "Hidden Layers: [4], Activation: Identity, Epochs: 100, LR: 10, Batch Size: 32, Accuracy: 0.2154\n",
      "Hidden Layers: [4], Activation: Identity, Epochs: 100, LR: 10, Batch Size: 64, Accuracy: 0.2923\n",
      "Hidden Layers: [4], Activation: Identity, Epochs: 100, LR: 10, Batch Size: 128, Accuracy: 0.1923\n",
      "Hidden Layers: [4], Activation: Identity, Epochs: 100, LR: 10, Batch Size: 256, Accuracy: 0.3154\n",
      "Hidden Layers: [4], Activation: Identity, Epochs: 100, LR: 10, Batch Size: 512, Accuracy: 0.0692\n",
      "Hidden Layers: [4], Activation: Identity, Epochs: 100, LR: 1, Batch Size: 16, Accuracy: 0.2077\n",
      "Hidden Layers: [4], Activation: Identity, Epochs: 100, LR: 1, Batch Size: 32, Accuracy: 0.2538\n",
      "Hidden Layers: [4], Activation: Identity, Epochs: 100, LR: 1, Batch Size: 64, Accuracy: 0.1846\n",
      "Hidden Layers: [4], Activation: Identity, Epochs: 100, LR: 1, Batch Size: 128, Accuracy: 0.2077\n",
      "Hidden Layers: [4], Activation: Identity, Epochs: 100, LR: 1, Batch Size: 256, Accuracy: 0.2231\n",
      "Hidden Layers: [4], Activation: Identity, Epochs: 100, LR: 1, Batch Size: 512, Accuracy: 0.1538\n",
      "Hidden Layers: [4], Activation: Identity, Epochs: 100, LR: 0.1, Batch Size: 16, Accuracy: 0.4615\n",
      "Hidden Layers: [4], Activation: Identity, Epochs: 100, LR: 0.1, Batch Size: 32, Accuracy: 0.3462\n",
      "Hidden Layers: [4], Activation: Identity, Epochs: 100, LR: 0.1, Batch Size: 64, Accuracy: 0.4385\n",
      "Hidden Layers: [4], Activation: Identity, Epochs: 100, LR: 0.1, Batch Size: 128, Accuracy: 0.3231\n",
      "Hidden Layers: [4], Activation: Identity, Epochs: 100, LR: 0.1, Batch Size: 256, Accuracy: 0.4538\n",
      "Hidden Layers: [4], Activation: Identity, Epochs: 100, LR: 0.1, Batch Size: 512, Accuracy: 0.3000\n",
      "Hidden Layers: [4], Activation: Identity, Epochs: 100, LR: 0.01, Batch Size: 16, Accuracy: 0.4231\n",
      "Hidden Layers: [4], Activation: Identity, Epochs: 100, LR: 0.01, Batch Size: 32, Accuracy: 0.4000\n",
      "Hidden Layers: [4], Activation: Identity, Epochs: 100, LR: 0.01, Batch Size: 64, Accuracy: 0.4308\n",
      "Hidden Layers: [4], Activation: Identity, Epochs: 100, LR: 0.01, Batch Size: 128, Accuracy: 0.3769\n",
      "Hidden Layers: [4], Activation: Identity, Epochs: 100, LR: 0.01, Batch Size: 256, Accuracy: 0.3923\n",
      "Hidden Layers: [4], Activation: Identity, Epochs: 100, LR: 0.01, Batch Size: 512, Accuracy: 0.2692\n",
      "Hidden Layers: [4], Activation: Identity, Epochs: 100, LR: 0.001, Batch Size: 16, Accuracy: 0.3923\n",
      "Hidden Layers: [4], Activation: Identity, Epochs: 100, LR: 0.001, Batch Size: 32, Accuracy: 0.3385\n",
      "Hidden Layers: [4], Activation: Identity, Epochs: 100, LR: 0.001, Batch Size: 64, Accuracy: 0.3154\n",
      "Hidden Layers: [4], Activation: Identity, Epochs: 100, LR: 0.001, Batch Size: 128, Accuracy: 0.2615\n",
      "Hidden Layers: [4], Activation: Identity, Epochs: 100, LR: 0.001, Batch Size: 256, Accuracy: 0.2077\n",
      "Hidden Layers: [4], Activation: Identity, Epochs: 100, LR: 0.001, Batch Size: 512, Accuracy: 0.1769\n",
      "Hidden Layers: [4], Activation: Identity, Epochs: 100, LR: 0.0001, Batch Size: 16, Accuracy: 0.1692\n",
      "Hidden Layers: [4], Activation: Identity, Epochs: 100, LR: 0.0001, Batch Size: 32, Accuracy: 0.1846\n",
      "Hidden Layers: [4], Activation: Identity, Epochs: 100, LR: 0.0001, Batch Size: 64, Accuracy: 0.1077\n",
      "Hidden Layers: [4], Activation: Identity, Epochs: 100, LR: 0.0001, Batch Size: 128, Accuracy: 0.1231\n",
      "Hidden Layers: [4], Activation: Identity, Epochs: 100, LR: 0.0001, Batch Size: 256, Accuracy: 0.1538\n",
      "Hidden Layers: [4], Activation: Identity, Epochs: 100, LR: 0.0001, Batch Size: 512, Accuracy: 0.1077\n",
      "Hidden Layers: [4], Activation: Identity, Epochs: 250, LR: 10, Batch Size: 16, Accuracy: 0.2846\n",
      "Hidden Layers: [4], Activation: Identity, Epochs: 250, LR: 10, Batch Size: 32, Accuracy: 0.2462\n",
      "Hidden Layers: [4], Activation: Identity, Epochs: 250, LR: 10, Batch Size: 64, Accuracy: 0.2077\n",
      "Hidden Layers: [4], Activation: Identity, Epochs: 250, LR: 10, Batch Size: 128, Accuracy: 0.1846\n",
      "Hidden Layers: [4], Activation: Identity, Epochs: 250, LR: 10, Batch Size: 256, Accuracy: 0.1692\n",
      "Hidden Layers: [4], Activation: Identity, Epochs: 250, LR: 10, Batch Size: 512, Accuracy: 0.1923\n",
      "Hidden Layers: [4], Activation: Identity, Epochs: 250, LR: 1, Batch Size: 16, Accuracy: 0.1923\n",
      "Hidden Layers: [4], Activation: Identity, Epochs: 250, LR: 1, Batch Size: 32, Accuracy: 0.1769\n",
      "Hidden Layers: [4], Activation: Identity, Epochs: 250, LR: 1, Batch Size: 64, Accuracy: 0.2308\n",
      "Hidden Layers: [4], Activation: Identity, Epochs: 250, LR: 1, Batch Size: 128, Accuracy: 0.2462\n",
      "Hidden Layers: [4], Activation: Identity, Epochs: 250, LR: 1, Batch Size: 256, Accuracy: 0.2923\n",
      "Hidden Layers: [4], Activation: Identity, Epochs: 250, LR: 1, Batch Size: 512, Accuracy: 0.2462\n",
      "Hidden Layers: [4], Activation: Identity, Epochs: 250, LR: 0.1, Batch Size: 16, Accuracy: 0.3692\n",
      "Hidden Layers: [4], Activation: Identity, Epochs: 250, LR: 0.1, Batch Size: 32, Accuracy: 0.4308\n",
      "Hidden Layers: [4], Activation: Identity, Epochs: 250, LR: 0.1, Batch Size: 64, Accuracy: 0.4308\n",
      "Hidden Layers: [4], Activation: Identity, Epochs: 250, LR: 0.1, Batch Size: 128, Accuracy: 0.3923\n",
      "Hidden Layers: [4], Activation: Identity, Epochs: 250, LR: 0.1, Batch Size: 256, Accuracy: 0.3615\n",
      "Hidden Layers: [4], Activation: Identity, Epochs: 250, LR: 0.1, Batch Size: 512, Accuracy: 0.4385\n",
      "Hidden Layers: [4], Activation: Identity, Epochs: 250, LR: 0.01, Batch Size: 16, Accuracy: 0.4538\n",
      "Hidden Layers: [4], Activation: Identity, Epochs: 250, LR: 0.01, Batch Size: 32, Accuracy: 0.4385\n",
      "Hidden Layers: [4], Activation: Identity, Epochs: 250, LR: 0.01, Batch Size: 64, Accuracy: 0.4000\n",
      "Hidden Layers: [4], Activation: Identity, Epochs: 250, LR: 0.01, Batch Size: 128, Accuracy: 0.4231\n",
      "Hidden Layers: [4], Activation: Identity, Epochs: 250, LR: 0.01, Batch Size: 256, Accuracy: 0.4308\n",
      "Hidden Layers: [4], Activation: Identity, Epochs: 250, LR: 0.01, Batch Size: 512, Accuracy: 0.4462\n",
      "Hidden Layers: [4], Activation: Identity, Epochs: 250, LR: 0.001, Batch Size: 16, Accuracy: 0.4308\n",
      "Hidden Layers: [4], Activation: Identity, Epochs: 250, LR: 0.001, Batch Size: 32, Accuracy: 0.4538\n",
      "Hidden Layers: [4], Activation: Identity, Epochs: 250, LR: 0.001, Batch Size: 64, Accuracy: 0.4000\n",
      "Hidden Layers: [4], Activation: Identity, Epochs: 250, LR: 0.001, Batch Size: 128, Accuracy: 0.3154\n",
      "Hidden Layers: [4], Activation: Identity, Epochs: 250, LR: 0.001, Batch Size: 256, Accuracy: 0.3000\n",
      "Hidden Layers: [4], Activation: Identity, Epochs: 250, LR: 0.001, Batch Size: 512, Accuracy: 0.2231\n",
      "Hidden Layers: [4], Activation: Identity, Epochs: 250, LR: 0.0001, Batch Size: 16, Accuracy: 0.3000\n",
      "Hidden Layers: [4], Activation: Identity, Epochs: 250, LR: 0.0001, Batch Size: 32, Accuracy: 0.2538\n",
      "Hidden Layers: [4], Activation: Identity, Epochs: 250, LR: 0.0001, Batch Size: 64, Accuracy: 0.2308\n",
      "Hidden Layers: [4], Activation: Identity, Epochs: 250, LR: 0.0001, Batch Size: 128, Accuracy: 0.1769\n",
      "Hidden Layers: [4], Activation: Identity, Epochs: 250, LR: 0.0001, Batch Size: 256, Accuracy: 0.0769\n",
      "Hidden Layers: [4], Activation: Identity, Epochs: 250, LR: 0.0001, Batch Size: 512, Accuracy: 0.1000\n",
      "Hidden Layers: [4], Activation: Sigmoid, Epochs: 1, LR: 10, Batch Size: 16, Accuracy: 0.1923\n",
      "Hidden Layers: [4], Activation: Sigmoid, Epochs: 1, LR: 10, Batch Size: 32, Accuracy: 0.1692\n",
      "Hidden Layers: [4], Activation: Sigmoid, Epochs: 1, LR: 10, Batch Size: 64, Accuracy: 0.1538\n",
      "Hidden Layers: [4], Activation: Sigmoid, Epochs: 1, LR: 10, Batch Size: 128, Accuracy: 0.0923\n",
      "Hidden Layers: [4], Activation: Sigmoid, Epochs: 1, LR: 10, Batch Size: 256, Accuracy: 0.1000\n",
      "Hidden Layers: [4], Activation: Sigmoid, Epochs: 1, LR: 10, Batch Size: 512, Accuracy: 0.0923\n",
      "Hidden Layers: [4], Activation: Sigmoid, Epochs: 1, LR: 1, Batch Size: 16, Accuracy: 0.1231\n",
      "Hidden Layers: [4], Activation: Sigmoid, Epochs: 1, LR: 1, Batch Size: 32, Accuracy: 0.1385\n",
      "Hidden Layers: [4], Activation: Sigmoid, Epochs: 1, LR: 1, Batch Size: 64, Accuracy: 0.1000\n",
      "Hidden Layers: [4], Activation: Sigmoid, Epochs: 1, LR: 1, Batch Size: 128, Accuracy: 0.1231\n",
      "Hidden Layers: [4], Activation: Sigmoid, Epochs: 1, LR: 1, Batch Size: 256, Accuracy: 0.1231\n",
      "Hidden Layers: [4], Activation: Sigmoid, Epochs: 1, LR: 1, Batch Size: 512, Accuracy: 0.1000\n",
      "Hidden Layers: [4], Activation: Sigmoid, Epochs: 1, LR: 0.1, Batch Size: 16, Accuracy: 0.1846\n",
      "Hidden Layers: [4], Activation: Sigmoid, Epochs: 1, LR: 0.1, Batch Size: 32, Accuracy: 0.2077\n",
      "Hidden Layers: [4], Activation: Sigmoid, Epochs: 1, LR: 0.1, Batch Size: 64, Accuracy: 0.1308\n",
      "Hidden Layers: [4], Activation: Sigmoid, Epochs: 1, LR: 0.1, Batch Size: 128, Accuracy: 0.1923\n",
      "Hidden Layers: [4], Activation: Sigmoid, Epochs: 1, LR: 0.1, Batch Size: 256, Accuracy: 0.1923\n",
      "Hidden Layers: [4], Activation: Sigmoid, Epochs: 1, LR: 0.1, Batch Size: 512, Accuracy: 0.0385\n",
      "Hidden Layers: [4], Activation: Sigmoid, Epochs: 1, LR: 0.01, Batch Size: 16, Accuracy: 0.1308\n",
      "Hidden Layers: [4], Activation: Sigmoid, Epochs: 1, LR: 0.01, Batch Size: 32, Accuracy: 0.1769\n",
      "Hidden Layers: [4], Activation: Sigmoid, Epochs: 1, LR: 0.01, Batch Size: 64, Accuracy: 0.1000\n",
      "Hidden Layers: [4], Activation: Sigmoid, Epochs: 1, LR: 0.01, Batch Size: 128, Accuracy: 0.1308\n",
      "Hidden Layers: [4], Activation: Sigmoid, Epochs: 1, LR: 0.01, Batch Size: 256, Accuracy: 0.0000\n",
      "Hidden Layers: [4], Activation: Sigmoid, Epochs: 1, LR: 0.01, Batch Size: 512, Accuracy: 0.1231\n",
      "Hidden Layers: [4], Activation: Sigmoid, Epochs: 1, LR: 0.001, Batch Size: 16, Accuracy: 0.0000\n",
      "Hidden Layers: [4], Activation: Sigmoid, Epochs: 1, LR: 0.001, Batch Size: 32, Accuracy: 0.1846\n",
      "Hidden Layers: [4], Activation: Sigmoid, Epochs: 1, LR: 0.001, Batch Size: 64, Accuracy: 0.0154\n",
      "Hidden Layers: [4], Activation: Sigmoid, Epochs: 1, LR: 0.001, Batch Size: 128, Accuracy: 0.1231\n",
      "Hidden Layers: [4], Activation: Sigmoid, Epochs: 1, LR: 0.001, Batch Size: 256, Accuracy: 0.0000\n",
      "Hidden Layers: [4], Activation: Sigmoid, Epochs: 1, LR: 0.001, Batch Size: 512, Accuracy: 0.0077\n",
      "Hidden Layers: [4], Activation: Sigmoid, Epochs: 1, LR: 0.0001, Batch Size: 16, Accuracy: 0.0231\n",
      "Hidden Layers: [4], Activation: Sigmoid, Epochs: 1, LR: 0.0001, Batch Size: 32, Accuracy: 0.0462\n",
      "Hidden Layers: [4], Activation: Sigmoid, Epochs: 1, LR: 0.0001, Batch Size: 64, Accuracy: 0.0923\n",
      "Hidden Layers: [4], Activation: Sigmoid, Epochs: 1, LR: 0.0001, Batch Size: 128, Accuracy: 0.0692\n",
      "Hidden Layers: [4], Activation: Sigmoid, Epochs: 1, LR: 0.0001, Batch Size: 256, Accuracy: 0.0692\n",
      "Hidden Layers: [4], Activation: Sigmoid, Epochs: 1, LR: 0.0001, Batch Size: 512, Accuracy: 0.0077\n",
      "Hidden Layers: [4], Activation: Sigmoid, Epochs: 10, LR: 10, Batch Size: 16, Accuracy: 0.1308\n",
      "Hidden Layers: [4], Activation: Sigmoid, Epochs: 10, LR: 10, Batch Size: 32, Accuracy: 0.1923\n",
      "Hidden Layers: [4], Activation: Sigmoid, Epochs: 10, LR: 10, Batch Size: 64, Accuracy: 0.1923\n",
      "Hidden Layers: [4], Activation: Sigmoid, Epochs: 10, LR: 10, Batch Size: 128, Accuracy: 0.1308\n",
      "Hidden Layers: [4], Activation: Sigmoid, Epochs: 10, LR: 10, Batch Size: 256, Accuracy: 0.1846\n",
      "Hidden Layers: [4], Activation: Sigmoid, Epochs: 10, LR: 10, Batch Size: 512, Accuracy: 0.1000\n",
      "Hidden Layers: [4], Activation: Sigmoid, Epochs: 10, LR: 1, Batch Size: 16, Accuracy: 0.1077\n",
      "Hidden Layers: [4], Activation: Sigmoid, Epochs: 10, LR: 1, Batch Size: 32, Accuracy: 0.1077\n",
      "Hidden Layers: [4], Activation: Sigmoid, Epochs: 10, LR: 1, Batch Size: 64, Accuracy: 0.1000\n",
      "Hidden Layers: [4], Activation: Sigmoid, Epochs: 10, LR: 1, Batch Size: 128, Accuracy: 0.2615\n",
      "Hidden Layers: [4], Activation: Sigmoid, Epochs: 10, LR: 1, Batch Size: 256, Accuracy: 0.2000\n",
      "Hidden Layers: [4], Activation: Sigmoid, Epochs: 10, LR: 1, Batch Size: 512, Accuracy: 0.1000\n",
      "Hidden Layers: [4], Activation: Sigmoid, Epochs: 10, LR: 0.1, Batch Size: 16, Accuracy: 0.2846\n",
      "Hidden Layers: [4], Activation: Sigmoid, Epochs: 10, LR: 0.1, Batch Size: 32, Accuracy: 0.3538\n",
      "Hidden Layers: [4], Activation: Sigmoid, Epochs: 10, LR: 0.1, Batch Size: 64, Accuracy: 0.3462\n",
      "Hidden Layers: [4], Activation: Sigmoid, Epochs: 10, LR: 0.1, Batch Size: 128, Accuracy: 0.3077\n",
      "Hidden Layers: [4], Activation: Sigmoid, Epochs: 10, LR: 0.1, Batch Size: 256, Accuracy: 0.2154\n",
      "Hidden Layers: [4], Activation: Sigmoid, Epochs: 10, LR: 0.1, Batch Size: 512, Accuracy: 0.2308\n",
      "Hidden Layers: [4], Activation: Sigmoid, Epochs: 10, LR: 0.01, Batch Size: 16, Accuracy: 0.3077\n",
      "Hidden Layers: [4], Activation: Sigmoid, Epochs: 10, LR: 0.01, Batch Size: 32, Accuracy: 0.2000\n",
      "Hidden Layers: [4], Activation: Sigmoid, Epochs: 10, LR: 0.01, Batch Size: 64, Accuracy: 0.2769\n",
      "Hidden Layers: [4], Activation: Sigmoid, Epochs: 10, LR: 0.01, Batch Size: 128, Accuracy: 0.1846\n",
      "Hidden Layers: [4], Activation: Sigmoid, Epochs: 10, LR: 0.01, Batch Size: 256, Accuracy: 0.1385\n",
      "Hidden Layers: [4], Activation: Sigmoid, Epochs: 10, LR: 0.01, Batch Size: 512, Accuracy: 0.1308\n",
      "Hidden Layers: [4], Activation: Sigmoid, Epochs: 10, LR: 0.001, Batch Size: 16, Accuracy: 0.1846\n",
      "Hidden Layers: [4], Activation: Sigmoid, Epochs: 10, LR: 0.001, Batch Size: 32, Accuracy: 0.1308\n",
      "Hidden Layers: [4], Activation: Sigmoid, Epochs: 10, LR: 0.001, Batch Size: 64, Accuracy: 0.1308\n",
      "Hidden Layers: [4], Activation: Sigmoid, Epochs: 10, LR: 0.001, Batch Size: 128, Accuracy: 0.1308\n",
      "Hidden Layers: [4], Activation: Sigmoid, Epochs: 10, LR: 0.001, Batch Size: 256, Accuracy: 0.0923\n",
      "Hidden Layers: [4], Activation: Sigmoid, Epochs: 10, LR: 0.001, Batch Size: 512, Accuracy: 0.1308\n",
      "Hidden Layers: [4], Activation: Sigmoid, Epochs: 10, LR: 0.0001, Batch Size: 16, Accuracy: 0.1538\n",
      "Hidden Layers: [4], Activation: Sigmoid, Epochs: 10, LR: 0.0001, Batch Size: 32, Accuracy: 0.0385\n",
      "Hidden Layers: [4], Activation: Sigmoid, Epochs: 10, LR: 0.0001, Batch Size: 64, Accuracy: 0.0846\n",
      "Hidden Layers: [4], Activation: Sigmoid, Epochs: 10, LR: 0.0001, Batch Size: 128, Accuracy: 0.0000\n",
      "Hidden Layers: [4], Activation: Sigmoid, Epochs: 10, LR: 0.0001, Batch Size: 256, Accuracy: 0.0077\n",
      "Hidden Layers: [4], Activation: Sigmoid, Epochs: 10, LR: 0.0001, Batch Size: 512, Accuracy: 0.0692\n",
      "Hidden Layers: [4], Activation: Sigmoid, Epochs: 25, LR: 10, Batch Size: 16, Accuracy: 0.1000\n",
      "Hidden Layers: [4], Activation: Sigmoid, Epochs: 25, LR: 10, Batch Size: 32, Accuracy: 0.0462\n",
      "Hidden Layers: [4], Activation: Sigmoid, Epochs: 25, LR: 10, Batch Size: 64, Accuracy: 0.1462\n",
      "Hidden Layers: [4], Activation: Sigmoid, Epochs: 25, LR: 10, Batch Size: 128, Accuracy: 0.1308\n",
      "Hidden Layers: [4], Activation: Sigmoid, Epochs: 25, LR: 10, Batch Size: 256, Accuracy: 0.1000\n",
      "Hidden Layers: [4], Activation: Sigmoid, Epochs: 25, LR: 10, Batch Size: 512, Accuracy: 0.0462\n",
      "Hidden Layers: [4], Activation: Sigmoid, Epochs: 25, LR: 1, Batch Size: 16, Accuracy: 0.2231\n",
      "Hidden Layers: [4], Activation: Sigmoid, Epochs: 25, LR: 1, Batch Size: 32, Accuracy: 0.1385\n",
      "Hidden Layers: [4], Activation: Sigmoid, Epochs: 25, LR: 1, Batch Size: 64, Accuracy: 0.1308\n",
      "Hidden Layers: [4], Activation: Sigmoid, Epochs: 25, LR: 1, Batch Size: 128, Accuracy: 0.2154\n",
      "Hidden Layers: [4], Activation: Sigmoid, Epochs: 25, LR: 1, Batch Size: 256, Accuracy: 0.2462\n",
      "Hidden Layers: [4], Activation: Sigmoid, Epochs: 25, LR: 1, Batch Size: 512, Accuracy: 0.2077\n",
      "Hidden Layers: [4], Activation: Sigmoid, Epochs: 25, LR: 0.1, Batch Size: 16, Accuracy: 0.3077\n",
      "Hidden Layers: [4], Activation: Sigmoid, Epochs: 25, LR: 0.1, Batch Size: 32, Accuracy: 0.3538\n",
      "Hidden Layers: [4], Activation: Sigmoid, Epochs: 25, LR: 0.1, Batch Size: 64, Accuracy: 0.3846\n",
      "Hidden Layers: [4], Activation: Sigmoid, Epochs: 25, LR: 0.1, Batch Size: 128, Accuracy: 0.3231\n",
      "Hidden Layers: [4], Activation: Sigmoid, Epochs: 25, LR: 0.1, Batch Size: 256, Accuracy: 0.3000\n",
      "Hidden Layers: [4], Activation: Sigmoid, Epochs: 25, LR: 0.1, Batch Size: 512, Accuracy: 0.3385\n",
      "Hidden Layers: [4], Activation: Sigmoid, Epochs: 25, LR: 0.01, Batch Size: 16, Accuracy: 0.3923\n",
      "Hidden Layers: [4], Activation: Sigmoid, Epochs: 25, LR: 0.01, Batch Size: 32, Accuracy: 0.3385\n",
      "Hidden Layers: [4], Activation: Sigmoid, Epochs: 25, LR: 0.01, Batch Size: 64, Accuracy: 0.2769\n",
      "Hidden Layers: [4], Activation: Sigmoid, Epochs: 25, LR: 0.01, Batch Size: 128, Accuracy: 0.2154\n",
      "Hidden Layers: [4], Activation: Sigmoid, Epochs: 25, LR: 0.01, Batch Size: 256, Accuracy: 0.2462\n",
      "Hidden Layers: [4], Activation: Sigmoid, Epochs: 25, LR: 0.01, Batch Size: 512, Accuracy: 0.2231\n",
      "Hidden Layers: [4], Activation: Sigmoid, Epochs: 25, LR: 0.001, Batch Size: 16, Accuracy: 0.2308\n",
      "Hidden Layers: [4], Activation: Sigmoid, Epochs: 25, LR: 0.001, Batch Size: 32, Accuracy: 0.1308\n",
      "Hidden Layers: [4], Activation: Sigmoid, Epochs: 25, LR: 0.001, Batch Size: 64, Accuracy: 0.1308\n",
      "Hidden Layers: [4], Activation: Sigmoid, Epochs: 25, LR: 0.001, Batch Size: 128, Accuracy: 0.1846\n",
      "Hidden Layers: [4], Activation: Sigmoid, Epochs: 25, LR: 0.001, Batch Size: 256, Accuracy: 0.1308\n",
      "Hidden Layers: [4], Activation: Sigmoid, Epochs: 25, LR: 0.001, Batch Size: 512, Accuracy: 0.0846\n",
      "Hidden Layers: [4], Activation: Sigmoid, Epochs: 25, LR: 0.0001, Batch Size: 16, Accuracy: 0.1077\n",
      "Hidden Layers: [4], Activation: Sigmoid, Epochs: 25, LR: 0.0001, Batch Size: 32, Accuracy: 0.0385\n",
      "Hidden Layers: [4], Activation: Sigmoid, Epochs: 25, LR: 0.0001, Batch Size: 64, Accuracy: 0.1308\n",
      "Hidden Layers: [4], Activation: Sigmoid, Epochs: 25, LR: 0.0001, Batch Size: 128, Accuracy: 0.0692\n",
      "Hidden Layers: [4], Activation: Sigmoid, Epochs: 25, LR: 0.0001, Batch Size: 256, Accuracy: 0.0769\n",
      "Hidden Layers: [4], Activation: Sigmoid, Epochs: 25, LR: 0.0001, Batch Size: 512, Accuracy: 0.0615\n",
      "Hidden Layers: [4], Activation: Sigmoid, Epochs: 50, LR: 10, Batch Size: 16, Accuracy: 0.1385\n",
      "Hidden Layers: [4], Activation: Sigmoid, Epochs: 50, LR: 10, Batch Size: 32, Accuracy: 0.1923\n",
      "Hidden Layers: [4], Activation: Sigmoid, Epochs: 50, LR: 10, Batch Size: 64, Accuracy: 0.0154\n",
      "Hidden Layers: [4], Activation: Sigmoid, Epochs: 50, LR: 10, Batch Size: 128, Accuracy: 0.1000\n",
      "Hidden Layers: [4], Activation: Sigmoid, Epochs: 50, LR: 10, Batch Size: 256, Accuracy: 0.0769\n",
      "Hidden Layers: [4], Activation: Sigmoid, Epochs: 50, LR: 10, Batch Size: 512, Accuracy: 0.1923\n",
      "Hidden Layers: [4], Activation: Sigmoid, Epochs: 50, LR: 1, Batch Size: 16, Accuracy: 0.1308\n",
      "Hidden Layers: [4], Activation: Sigmoid, Epochs: 50, LR: 1, Batch Size: 32, Accuracy: 0.1615\n",
      "Hidden Layers: [4], Activation: Sigmoid, Epochs: 50, LR: 1, Batch Size: 64, Accuracy: 0.2692\n",
      "Hidden Layers: [4], Activation: Sigmoid, Epochs: 50, LR: 1, Batch Size: 128, Accuracy: 0.0769\n",
      "Hidden Layers: [4], Activation: Sigmoid, Epochs: 50, LR: 1, Batch Size: 256, Accuracy: 0.2154\n",
      "Hidden Layers: [4], Activation: Sigmoid, Epochs: 50, LR: 1, Batch Size: 512, Accuracy: 0.1000\n",
      "Hidden Layers: [4], Activation: Sigmoid, Epochs: 50, LR: 0.1, Batch Size: 16, Accuracy: 0.2538\n",
      "Hidden Layers: [4], Activation: Sigmoid, Epochs: 50, LR: 0.1, Batch Size: 32, Accuracy: 0.3308\n",
      "Hidden Layers: [4], Activation: Sigmoid, Epochs: 50, LR: 0.1, Batch Size: 64, Accuracy: 0.3231\n",
      "Hidden Layers: [4], Activation: Sigmoid, Epochs: 50, LR: 0.1, Batch Size: 128, Accuracy: 0.3154\n",
      "Hidden Layers: [4], Activation: Sigmoid, Epochs: 50, LR: 0.1, Batch Size: 256, Accuracy: 0.2846\n",
      "Hidden Layers: [4], Activation: Sigmoid, Epochs: 50, LR: 0.1, Batch Size: 512, Accuracy: 0.3462\n",
      "Hidden Layers: [4], Activation: Sigmoid, Epochs: 50, LR: 0.01, Batch Size: 16, Accuracy: 0.4000\n",
      "Hidden Layers: [4], Activation: Sigmoid, Epochs: 50, LR: 0.01, Batch Size: 32, Accuracy: 0.3692\n",
      "Hidden Layers: [4], Activation: Sigmoid, Epochs: 50, LR: 0.01, Batch Size: 64, Accuracy: 0.3846\n",
      "Hidden Layers: [4], Activation: Sigmoid, Epochs: 50, LR: 0.01, Batch Size: 128, Accuracy: 0.3154\n",
      "Hidden Layers: [4], Activation: Sigmoid, Epochs: 50, LR: 0.01, Batch Size: 256, Accuracy: 0.2385\n",
      "Hidden Layers: [4], Activation: Sigmoid, Epochs: 50, LR: 0.01, Batch Size: 512, Accuracy: 0.1615\n",
      "Hidden Layers: [4], Activation: Sigmoid, Epochs: 50, LR: 0.001, Batch Size: 16, Accuracy: 0.2000\n",
      "Hidden Layers: [4], Activation: Sigmoid, Epochs: 50, LR: 0.001, Batch Size: 32, Accuracy: 0.2308\n",
      "Hidden Layers: [4], Activation: Sigmoid, Epochs: 50, LR: 0.001, Batch Size: 64, Accuracy: 0.1923\n",
      "Hidden Layers: [4], Activation: Sigmoid, Epochs: 50, LR: 0.001, Batch Size: 128, Accuracy: 0.1231\n",
      "Hidden Layers: [4], Activation: Sigmoid, Epochs: 50, LR: 0.001, Batch Size: 256, Accuracy: 0.1308\n",
      "Hidden Layers: [4], Activation: Sigmoid, Epochs: 50, LR: 0.001, Batch Size: 512, Accuracy: 0.1385\n",
      "Hidden Layers: [4], Activation: Sigmoid, Epochs: 50, LR: 0.0001, Batch Size: 16, Accuracy: 0.0308\n",
      "Hidden Layers: [4], Activation: Sigmoid, Epochs: 50, LR: 0.0001, Batch Size: 32, Accuracy: 0.0308\n",
      "Hidden Layers: [4], Activation: Sigmoid, Epochs: 50, LR: 0.0001, Batch Size: 64, Accuracy: 0.1231\n",
      "Hidden Layers: [4], Activation: Sigmoid, Epochs: 50, LR: 0.0001, Batch Size: 128, Accuracy: 0.0538\n",
      "Hidden Layers: [4], Activation: Sigmoid, Epochs: 50, LR: 0.0001, Batch Size: 256, Accuracy: 0.0769\n",
      "Hidden Layers: [4], Activation: Sigmoid, Epochs: 50, LR: 0.0001, Batch Size: 512, Accuracy: 0.0538\n",
      "Hidden Layers: [4], Activation: Sigmoid, Epochs: 100, LR: 10, Batch Size: 16, Accuracy: 0.1231\n",
      "Hidden Layers: [4], Activation: Sigmoid, Epochs: 100, LR: 10, Batch Size: 32, Accuracy: 0.1308\n",
      "Hidden Layers: [4], Activation: Sigmoid, Epochs: 100, LR: 10, Batch Size: 64, Accuracy: 0.0923\n",
      "Hidden Layers: [4], Activation: Sigmoid, Epochs: 100, LR: 10, Batch Size: 128, Accuracy: 0.1000\n",
      "Hidden Layers: [4], Activation: Sigmoid, Epochs: 100, LR: 10, Batch Size: 256, Accuracy: 0.1308\n",
      "Hidden Layers: [4], Activation: Sigmoid, Epochs: 100, LR: 10, Batch Size: 512, Accuracy: 0.1923\n",
      "Hidden Layers: [4], Activation: Sigmoid, Epochs: 100, LR: 1, Batch Size: 16, Accuracy: 0.0923\n",
      "Hidden Layers: [4], Activation: Sigmoid, Epochs: 100, LR: 1, Batch Size: 32, Accuracy: 0.2231\n",
      "Hidden Layers: [4], Activation: Sigmoid, Epochs: 100, LR: 1, Batch Size: 64, Accuracy: 0.1308\n",
      "Hidden Layers: [4], Activation: Sigmoid, Epochs: 100, LR: 1, Batch Size: 128, Accuracy: 0.1308\n",
      "Hidden Layers: [4], Activation: Sigmoid, Epochs: 100, LR: 1, Batch Size: 256, Accuracy: 0.1385\n",
      "Hidden Layers: [4], Activation: Sigmoid, Epochs: 100, LR: 1, Batch Size: 512, Accuracy: 0.2154\n",
      "Hidden Layers: [4], Activation: Sigmoid, Epochs: 100, LR: 0.1, Batch Size: 16, Accuracy: 0.4385\n",
      "Hidden Layers: [4], Activation: Sigmoid, Epochs: 100, LR: 0.1, Batch Size: 32, Accuracy: 0.3692\n",
      "Hidden Layers: [4], Activation: Sigmoid, Epochs: 100, LR: 0.1, Batch Size: 64, Accuracy: 0.4000\n",
      "Hidden Layers: [4], Activation: Sigmoid, Epochs: 100, LR: 0.1, Batch Size: 128, Accuracy: 0.3462\n",
      "Hidden Layers: [4], Activation: Sigmoid, Epochs: 100, LR: 0.1, Batch Size: 256, Accuracy: 0.2615\n",
      "Hidden Layers: [4], Activation: Sigmoid, Epochs: 100, LR: 0.1, Batch Size: 512, Accuracy: 0.3538\n",
      "Hidden Layers: [4], Activation: Sigmoid, Epochs: 100, LR: 0.01, Batch Size: 16, Accuracy: 0.3769\n",
      "Hidden Layers: [4], Activation: Sigmoid, Epochs: 100, LR: 0.01, Batch Size: 32, Accuracy: 0.3846\n",
      "Hidden Layers: [4], Activation: Sigmoid, Epochs: 100, LR: 0.01, Batch Size: 64, Accuracy: 0.4077\n",
      "Hidden Layers: [4], Activation: Sigmoid, Epochs: 100, LR: 0.01, Batch Size: 128, Accuracy: 0.4154\n",
      "Hidden Layers: [4], Activation: Sigmoid, Epochs: 100, LR: 0.01, Batch Size: 256, Accuracy: 0.3154\n",
      "Hidden Layers: [4], Activation: Sigmoid, Epochs: 100, LR: 0.01, Batch Size: 512, Accuracy: 0.3000\n",
      "Hidden Layers: [4], Activation: Sigmoid, Epochs: 100, LR: 0.001, Batch Size: 16, Accuracy: 0.2923\n",
      "Hidden Layers: [4], Activation: Sigmoid, Epochs: 100, LR: 0.001, Batch Size: 32, Accuracy: 0.2538\n",
      "Hidden Layers: [4], Activation: Sigmoid, Epochs: 100, LR: 0.001, Batch Size: 64, Accuracy: 0.2615\n",
      "Hidden Layers: [4], Activation: Sigmoid, Epochs: 100, LR: 0.001, Batch Size: 128, Accuracy: 0.1308\n",
      "Hidden Layers: [4], Activation: Sigmoid, Epochs: 100, LR: 0.001, Batch Size: 256, Accuracy: 0.2154\n",
      "Hidden Layers: [4], Activation: Sigmoid, Epochs: 100, LR: 0.001, Batch Size: 512, Accuracy: 0.1000\n",
      "Hidden Layers: [4], Activation: Sigmoid, Epochs: 100, LR: 0.0001, Batch Size: 16, Accuracy: 0.1308\n",
      "Hidden Layers: [4], Activation: Sigmoid, Epochs: 100, LR: 0.0001, Batch Size: 32, Accuracy: 0.1231\n",
      "Hidden Layers: [4], Activation: Sigmoid, Epochs: 100, LR: 0.0001, Batch Size: 64, Accuracy: 0.1923\n",
      "Hidden Layers: [4], Activation: Sigmoid, Epochs: 100, LR: 0.0001, Batch Size: 128, Accuracy: 0.1462\n",
      "Hidden Layers: [4], Activation: Sigmoid, Epochs: 100, LR: 0.0001, Batch Size: 256, Accuracy: 0.1000\n",
      "Hidden Layers: [4], Activation: Sigmoid, Epochs: 100, LR: 0.0001, Batch Size: 512, Accuracy: 0.0154\n",
      "Hidden Layers: [4], Activation: Sigmoid, Epochs: 250, LR: 10, Batch Size: 16, Accuracy: 0.0385\n",
      "Hidden Layers: [4], Activation: Sigmoid, Epochs: 250, LR: 10, Batch Size: 32, Accuracy: 0.1923\n",
      "Hidden Layers: [4], Activation: Sigmoid, Epochs: 250, LR: 10, Batch Size: 64, Accuracy: 0.0385\n",
      "Hidden Layers: [4], Activation: Sigmoid, Epochs: 250, LR: 10, Batch Size: 128, Accuracy: 0.1308\n",
      "Hidden Layers: [4], Activation: Sigmoid, Epochs: 250, LR: 10, Batch Size: 256, Accuracy: 0.0077\n",
      "Hidden Layers: [4], Activation: Sigmoid, Epochs: 250, LR: 10, Batch Size: 512, Accuracy: 0.0385\n",
      "Hidden Layers: [4], Activation: Sigmoid, Epochs: 250, LR: 1, Batch Size: 16, Accuracy: 0.1846\n",
      "Hidden Layers: [4], Activation: Sigmoid, Epochs: 250, LR: 1, Batch Size: 32, Accuracy: 0.2000\n",
      "Hidden Layers: [4], Activation: Sigmoid, Epochs: 250, LR: 1, Batch Size: 64, Accuracy: 0.2077\n",
      "Hidden Layers: [4], Activation: Sigmoid, Epochs: 250, LR: 1, Batch Size: 128, Accuracy: 0.2000\n",
      "Hidden Layers: [4], Activation: Sigmoid, Epochs: 250, LR: 1, Batch Size: 256, Accuracy: 0.2231\n",
      "Hidden Layers: [4], Activation: Sigmoid, Epochs: 250, LR: 1, Batch Size: 512, Accuracy: 0.2154\n",
      "Hidden Layers: [4], Activation: Sigmoid, Epochs: 250, LR: 0.1, Batch Size: 16, Accuracy: 0.3615\n",
      "Hidden Layers: [4], Activation: Sigmoid, Epochs: 250, LR: 0.1, Batch Size: 32, Accuracy: 0.4154\n",
      "Hidden Layers: [4], Activation: Sigmoid, Epochs: 250, LR: 0.1, Batch Size: 64, Accuracy: 0.3538\n",
      "Hidden Layers: [4], Activation: Sigmoid, Epochs: 250, LR: 0.1, Batch Size: 128, Accuracy: 0.3615\n",
      "Hidden Layers: [4], Activation: Sigmoid, Epochs: 250, LR: 0.1, Batch Size: 256, Accuracy: 0.3462\n",
      "Hidden Layers: [4], Activation: Sigmoid, Epochs: 250, LR: 0.1, Batch Size: 512, Accuracy: 0.3077\n",
      "Hidden Layers: [4], Activation: Sigmoid, Epochs: 250, LR: 0.01, Batch Size: 16, Accuracy: 0.4231\n",
      "Hidden Layers: [4], Activation: Sigmoid, Epochs: 250, LR: 0.01, Batch Size: 32, Accuracy: 0.3692\n",
      "Hidden Layers: [4], Activation: Sigmoid, Epochs: 250, LR: 0.01, Batch Size: 64, Accuracy: 0.3615\n",
      "Hidden Layers: [4], Activation: Sigmoid, Epochs: 250, LR: 0.01, Batch Size: 128, Accuracy: 0.4385\n",
      "Hidden Layers: [4], Activation: Sigmoid, Epochs: 250, LR: 0.01, Batch Size: 256, Accuracy: 0.3385\n",
      "Hidden Layers: [4], Activation: Sigmoid, Epochs: 250, LR: 0.01, Batch Size: 512, Accuracy: 0.3154\n",
      "Hidden Layers: [4], Activation: Sigmoid, Epochs: 250, LR: 0.001, Batch Size: 16, Accuracy: 0.3846\n",
      "Hidden Layers: [4], Activation: Sigmoid, Epochs: 250, LR: 0.001, Batch Size: 32, Accuracy: 0.3538\n",
      "Hidden Layers: [4], Activation: Sigmoid, Epochs: 250, LR: 0.001, Batch Size: 64, Accuracy: 0.2769\n",
      "Hidden Layers: [4], Activation: Sigmoid, Epochs: 250, LR: 0.001, Batch Size: 128, Accuracy: 0.2385\n",
      "Hidden Layers: [4], Activation: Sigmoid, Epochs: 250, LR: 0.001, Batch Size: 256, Accuracy: 0.2462\n",
      "Hidden Layers: [4], Activation: Sigmoid, Epochs: 250, LR: 0.001, Batch Size: 512, Accuracy: 0.1923\n",
      "Hidden Layers: [4], Activation: Sigmoid, Epochs: 250, LR: 0.0001, Batch Size: 16, Accuracy: 0.2308\n",
      "Hidden Layers: [4], Activation: Sigmoid, Epochs: 250, LR: 0.0001, Batch Size: 32, Accuracy: 0.1231\n",
      "Hidden Layers: [4], Activation: Sigmoid, Epochs: 250, LR: 0.0001, Batch Size: 64, Accuracy: 0.1923\n",
      "Hidden Layers: [4], Activation: Sigmoid, Epochs: 250, LR: 0.0001, Batch Size: 128, Accuracy: 0.1231\n",
      "Hidden Layers: [4], Activation: Sigmoid, Epochs: 250, LR: 0.0001, Batch Size: 256, Accuracy: 0.1077\n",
      "Hidden Layers: [4], Activation: Sigmoid, Epochs: 250, LR: 0.0001, Batch Size: 512, Accuracy: 0.0692\n",
      "Hidden Layers: [4], Activation: ReLU, Epochs: 1, LR: 10, Batch Size: 16, Accuracy: 0.0769\n",
      "Hidden Layers: [4], Activation: ReLU, Epochs: 1, LR: 10, Batch Size: 32, Accuracy: 0.0385\n",
      "Hidden Layers: [4], Activation: ReLU, Epochs: 1, LR: 10, Batch Size: 64, Accuracy: 0.0385\n",
      "Hidden Layers: [4], Activation: ReLU, Epochs: 1, LR: 10, Batch Size: 128, Accuracy: 0.0769\n",
      "Hidden Layers: [4], Activation: ReLU, Epochs: 1, LR: 10, Batch Size: 256, Accuracy: 0.1231\n",
      "Hidden Layers: [4], Activation: ReLU, Epochs: 1, LR: 10, Batch Size: 512, Accuracy: 0.1000\n",
      "Hidden Layers: [4], Activation: ReLU, Epochs: 1, LR: 1, Batch Size: 16, Accuracy: 0.1231\n",
      "Hidden Layers: [4], Activation: ReLU, Epochs: 1, LR: 1, Batch Size: 32, Accuracy: 0.1000\n",
      "Hidden Layers: [4], Activation: ReLU, Epochs: 1, LR: 1, Batch Size: 64, Accuracy: 0.1923\n",
      "Hidden Layers: [4], Activation: ReLU, Epochs: 1, LR: 1, Batch Size: 128, Accuracy: 0.1308\n",
      "Hidden Layers: [4], Activation: ReLU, Epochs: 1, LR: 1, Batch Size: 256, Accuracy: 0.0769\n",
      "Hidden Layers: [4], Activation: ReLU, Epochs: 1, LR: 1, Batch Size: 512, Accuracy: 0.1077\n",
      "Hidden Layers: [4], Activation: ReLU, Epochs: 1, LR: 0.1, Batch Size: 16, Accuracy: 0.1769\n",
      "Hidden Layers: [4], Activation: ReLU, Epochs: 1, LR: 0.1, Batch Size: 32, Accuracy: 0.1308\n",
      "Hidden Layers: [4], Activation: ReLU, Epochs: 1, LR: 0.1, Batch Size: 64, Accuracy: 0.2000\n",
      "Hidden Layers: [4], Activation: ReLU, Epochs: 1, LR: 0.1, Batch Size: 128, Accuracy: 0.2077\n",
      "Hidden Layers: [4], Activation: ReLU, Epochs: 1, LR: 0.1, Batch Size: 256, Accuracy: 0.1000\n",
      "Hidden Layers: [4], Activation: ReLU, Epochs: 1, LR: 0.1, Batch Size: 512, Accuracy: 0.1154\n",
      "Hidden Layers: [4], Activation: ReLU, Epochs: 1, LR: 0.01, Batch Size: 16, Accuracy: 0.2154\n",
      "Hidden Layers: [4], Activation: ReLU, Epochs: 1, LR: 0.01, Batch Size: 32, Accuracy: 0.1923\n",
      "Hidden Layers: [4], Activation: ReLU, Epochs: 1, LR: 0.01, Batch Size: 64, Accuracy: 0.1308\n",
      "Hidden Layers: [4], Activation: ReLU, Epochs: 1, LR: 0.01, Batch Size: 128, Accuracy: 0.1077\n",
      "Hidden Layers: [4], Activation: ReLU, Epochs: 1, LR: 0.01, Batch Size: 256, Accuracy: 0.0846\n",
      "Hidden Layers: [4], Activation: ReLU, Epochs: 1, LR: 0.01, Batch Size: 512, Accuracy: 0.0000\n",
      "Hidden Layers: [4], Activation: ReLU, Epochs: 1, LR: 0.001, Batch Size: 16, Accuracy: 0.0692\n",
      "Hidden Layers: [4], Activation: ReLU, Epochs: 1, LR: 0.001, Batch Size: 32, Accuracy: 0.0692\n",
      "Hidden Layers: [4], Activation: ReLU, Epochs: 1, LR: 0.001, Batch Size: 64, Accuracy: 0.0308\n",
      "Hidden Layers: [4], Activation: ReLU, Epochs: 1, LR: 0.001, Batch Size: 128, Accuracy: 0.0154\n",
      "Hidden Layers: [4], Activation: ReLU, Epochs: 1, LR: 0.001, Batch Size: 256, Accuracy: 0.0000\n",
      "Hidden Layers: [4], Activation: ReLU, Epochs: 1, LR: 0.001, Batch Size: 512, Accuracy: 0.0077\n",
      "Hidden Layers: [4], Activation: ReLU, Epochs: 1, LR: 0.0001, Batch Size: 16, Accuracy: 0.0846\n",
      "Hidden Layers: [4], Activation: ReLU, Epochs: 1, LR: 0.0001, Batch Size: 32, Accuracy: 0.0154\n",
      "Hidden Layers: [4], Activation: ReLU, Epochs: 1, LR: 0.0001, Batch Size: 64, Accuracy: 0.0154\n",
      "Hidden Layers: [4], Activation: ReLU, Epochs: 1, LR: 0.0001, Batch Size: 128, Accuracy: 0.0308\n",
      "Hidden Layers: [4], Activation: ReLU, Epochs: 1, LR: 0.0001, Batch Size: 256, Accuracy: 0.1231\n",
      "Hidden Layers: [4], Activation: ReLU, Epochs: 1, LR: 0.0001, Batch Size: 512, Accuracy: 0.0462\n",
      "Hidden Layers: [4], Activation: ReLU, Epochs: 10, LR: 10, Batch Size: 16, Accuracy: 0.1846\n",
      "Hidden Layers: [4], Activation: ReLU, Epochs: 10, LR: 10, Batch Size: 32, Accuracy: 0.0923\n",
      "Hidden Layers: [4], Activation: ReLU, Epochs: 10, LR: 10, Batch Size: 64, Accuracy: 0.1231\n",
      "Hidden Layers: [4], Activation: ReLU, Epochs: 10, LR: 10, Batch Size: 128, Accuracy: 0.1231\n",
      "Hidden Layers: [4], Activation: ReLU, Epochs: 10, LR: 10, Batch Size: 256, Accuracy: 0.0923\n",
      "Hidden Layers: [4], Activation: ReLU, Epochs: 10, LR: 10, Batch Size: 512, Accuracy: 0.1923\n",
      "Hidden Layers: [4], Activation: ReLU, Epochs: 10, LR: 1, Batch Size: 16, Accuracy: 0.1923\n",
      "Hidden Layers: [4], Activation: ReLU, Epochs: 10, LR: 1, Batch Size: 32, Accuracy: 0.1308\n",
      "Hidden Layers: [4], Activation: ReLU, Epochs: 10, LR: 1, Batch Size: 64, Accuracy: 0.1923\n",
      "Hidden Layers: [4], Activation: ReLU, Epochs: 10, LR: 1, Batch Size: 128, Accuracy: 0.1308\n",
      "Hidden Layers: [4], Activation: ReLU, Epochs: 10, LR: 1, Batch Size: 256, Accuracy: 0.0538\n",
      "Hidden Layers: [4], Activation: ReLU, Epochs: 10, LR: 1, Batch Size: 512, Accuracy: 0.1231\n",
      "Hidden Layers: [4], Activation: ReLU, Epochs: 10, LR: 0.1, Batch Size: 16, Accuracy: 0.3077\n",
      "Hidden Layers: [4], Activation: ReLU, Epochs: 10, LR: 0.1, Batch Size: 32, Accuracy: 0.3923\n",
      "Hidden Layers: [4], Activation: ReLU, Epochs: 10, LR: 0.1, Batch Size: 64, Accuracy: 0.2923\n",
      "Hidden Layers: [4], Activation: ReLU, Epochs: 10, LR: 0.1, Batch Size: 128, Accuracy: 0.3308\n",
      "Hidden Layers: [4], Activation: ReLU, Epochs: 10, LR: 0.1, Batch Size: 256, Accuracy: 0.1846\n",
      "Hidden Layers: [4], Activation: ReLU, Epochs: 10, LR: 0.1, Batch Size: 512, Accuracy: 0.1769\n",
      "Hidden Layers: [4], Activation: ReLU, Epochs: 10, LR: 0.01, Batch Size: 16, Accuracy: 0.4077\n",
      "Hidden Layers: [4], Activation: ReLU, Epochs: 10, LR: 0.01, Batch Size: 32, Accuracy: 0.3462\n",
      "Hidden Layers: [4], Activation: ReLU, Epochs: 10, LR: 0.01, Batch Size: 64, Accuracy: 0.2231\n",
      "Hidden Layers: [4], Activation: ReLU, Epochs: 10, LR: 0.01, Batch Size: 128, Accuracy: 0.3231\n",
      "Hidden Layers: [4], Activation: ReLU, Epochs: 10, LR: 0.01, Batch Size: 256, Accuracy: 0.1923\n",
      "Hidden Layers: [4], Activation: ReLU, Epochs: 10, LR: 0.01, Batch Size: 512, Accuracy: 0.1308\n",
      "Hidden Layers: [4], Activation: ReLU, Epochs: 10, LR: 0.001, Batch Size: 16, Accuracy: 0.2308\n",
      "Hidden Layers: [4], Activation: ReLU, Epochs: 10, LR: 0.001, Batch Size: 32, Accuracy: 0.1923\n",
      "Hidden Layers: [4], Activation: ReLU, Epochs: 10, LR: 0.001, Batch Size: 64, Accuracy: 0.1231\n",
      "Hidden Layers: [4], Activation: ReLU, Epochs: 10, LR: 0.001, Batch Size: 128, Accuracy: 0.1077\n",
      "Hidden Layers: [4], Activation: ReLU, Epochs: 10, LR: 0.001, Batch Size: 256, Accuracy: 0.1462\n",
      "Hidden Layers: [4], Activation: ReLU, Epochs: 10, LR: 0.001, Batch Size: 512, Accuracy: 0.1000\n",
      "Hidden Layers: [4], Activation: ReLU, Epochs: 10, LR: 0.0001, Batch Size: 16, Accuracy: 0.0923\n",
      "Hidden Layers: [4], Activation: ReLU, Epochs: 10, LR: 0.0001, Batch Size: 32, Accuracy: 0.0846\n",
      "Hidden Layers: [4], Activation: ReLU, Epochs: 10, LR: 0.0001, Batch Size: 64, Accuracy: 0.0769\n",
      "Hidden Layers: [4], Activation: ReLU, Epochs: 10, LR: 0.0001, Batch Size: 128, Accuracy: 0.0538\n",
      "Hidden Layers: [4], Activation: ReLU, Epochs: 10, LR: 0.0001, Batch Size: 256, Accuracy: 0.1077\n",
      "Hidden Layers: [4], Activation: ReLU, Epochs: 10, LR: 0.0001, Batch Size: 512, Accuracy: 0.0385\n",
      "Hidden Layers: [4], Activation: ReLU, Epochs: 25, LR: 10, Batch Size: 16, Accuracy: 0.0385\n",
      "Hidden Layers: [4], Activation: ReLU, Epochs: 25, LR: 10, Batch Size: 32, Accuracy: 0.0923\n",
      "Hidden Layers: [4], Activation: ReLU, Epochs: 25, LR: 10, Batch Size: 64, Accuracy: 0.1308\n",
      "Hidden Layers: [4], Activation: ReLU, Epochs: 25, LR: 10, Batch Size: 128, Accuracy: 0.1923\n",
      "Hidden Layers: [4], Activation: ReLU, Epochs: 25, LR: 10, Batch Size: 256, Accuracy: 0.0385\n",
      "Hidden Layers: [4], Activation: ReLU, Epochs: 25, LR: 10, Batch Size: 512, Accuracy: 0.1923\n",
      "Hidden Layers: [4], Activation: ReLU, Epochs: 25, LR: 1, Batch Size: 16, Accuracy: 0.1231\n",
      "Hidden Layers: [4], Activation: ReLU, Epochs: 25, LR: 1, Batch Size: 32, Accuracy: 0.1308\n",
      "Hidden Layers: [4], Activation: ReLU, Epochs: 25, LR: 1, Batch Size: 64, Accuracy: 0.1308\n",
      "Hidden Layers: [4], Activation: ReLU, Epochs: 25, LR: 1, Batch Size: 128, Accuracy: 0.1923\n",
      "Hidden Layers: [4], Activation: ReLU, Epochs: 25, LR: 1, Batch Size: 256, Accuracy: 0.1308\n",
      "Hidden Layers: [4], Activation: ReLU, Epochs: 25, LR: 1, Batch Size: 512, Accuracy: 0.1000\n",
      "Hidden Layers: [4], Activation: ReLU, Epochs: 25, LR: 0.1, Batch Size: 16, Accuracy: 0.3231\n",
      "Hidden Layers: [4], Activation: ReLU, Epochs: 25, LR: 0.1, Batch Size: 32, Accuracy: 0.3615\n",
      "Hidden Layers: [4], Activation: ReLU, Epochs: 25, LR: 0.1, Batch Size: 64, Accuracy: 0.4077\n",
      "Hidden Layers: [4], Activation: ReLU, Epochs: 25, LR: 0.1, Batch Size: 128, Accuracy: 0.3077\n",
      "Hidden Layers: [4], Activation: ReLU, Epochs: 25, LR: 0.1, Batch Size: 256, Accuracy: 0.3308\n",
      "Hidden Layers: [4], Activation: ReLU, Epochs: 25, LR: 0.1, Batch Size: 512, Accuracy: 0.2846\n",
      "Hidden Layers: [4], Activation: ReLU, Epochs: 25, LR: 0.01, Batch Size: 16, Accuracy: 0.4231\n",
      "Hidden Layers: [4], Activation: ReLU, Epochs: 25, LR: 0.01, Batch Size: 32, Accuracy: 0.3769\n",
      "Hidden Layers: [4], Activation: ReLU, Epochs: 25, LR: 0.01, Batch Size: 64, Accuracy: 0.3692\n",
      "Hidden Layers: [4], Activation: ReLU, Epochs: 25, LR: 0.01, Batch Size: 128, Accuracy: 0.3615\n",
      "Hidden Layers: [4], Activation: ReLU, Epochs: 25, LR: 0.01, Batch Size: 256, Accuracy: 0.2538\n",
      "Hidden Layers: [4], Activation: ReLU, Epochs: 25, LR: 0.01, Batch Size: 512, Accuracy: 0.2231\n",
      "Hidden Layers: [4], Activation: ReLU, Epochs: 25, LR: 0.001, Batch Size: 16, Accuracy: 0.3154\n",
      "Hidden Layers: [4], Activation: ReLU, Epochs: 25, LR: 0.001, Batch Size: 32, Accuracy: 0.2154\n",
      "Hidden Layers: [4], Activation: ReLU, Epochs: 25, LR: 0.001, Batch Size: 64, Accuracy: 0.1308\n",
      "Hidden Layers: [4], Activation: ReLU, Epochs: 25, LR: 0.001, Batch Size: 128, Accuracy: 0.0769\n",
      "Hidden Layers: [4], Activation: ReLU, Epochs: 25, LR: 0.001, Batch Size: 256, Accuracy: 0.0923\n",
      "Hidden Layers: [4], Activation: ReLU, Epochs: 25, LR: 0.001, Batch Size: 512, Accuracy: 0.0615\n",
      "Hidden Layers: [4], Activation: ReLU, Epochs: 25, LR: 0.0001, Batch Size: 16, Accuracy: 0.0231\n",
      "Hidden Layers: [4], Activation: ReLU, Epochs: 25, LR: 0.0001, Batch Size: 32, Accuracy: 0.1308\n",
      "Hidden Layers: [4], Activation: ReLU, Epochs: 25, LR: 0.0001, Batch Size: 64, Accuracy: 0.1385\n",
      "Hidden Layers: [4], Activation: ReLU, Epochs: 25, LR: 0.0001, Batch Size: 128, Accuracy: 0.0769\n",
      "Hidden Layers: [4], Activation: ReLU, Epochs: 25, LR: 0.0001, Batch Size: 256, Accuracy: 0.0077\n",
      "Hidden Layers: [4], Activation: ReLU, Epochs: 25, LR: 0.0001, Batch Size: 512, Accuracy: 0.0231\n",
      "Hidden Layers: [4], Activation: ReLU, Epochs: 50, LR: 10, Batch Size: 16, Accuracy: 0.1231\n",
      "Hidden Layers: [4], Activation: ReLU, Epochs: 50, LR: 10, Batch Size: 32, Accuracy: 0.0923\n",
      "Hidden Layers: [4], Activation: ReLU, Epochs: 50, LR: 10, Batch Size: 64, Accuracy: 0.1308\n",
      "Hidden Layers: [4], Activation: ReLU, Epochs: 50, LR: 10, Batch Size: 128, Accuracy: 0.1923\n",
      "Hidden Layers: [4], Activation: ReLU, Epochs: 50, LR: 10, Batch Size: 256, Accuracy: 0.0769\n",
      "Hidden Layers: [4], Activation: ReLU, Epochs: 50, LR: 10, Batch Size: 512, Accuracy: 0.0692\n",
      "Hidden Layers: [4], Activation: ReLU, Epochs: 50, LR: 1, Batch Size: 16, Accuracy: 0.1923\n",
      "Hidden Layers: [4], Activation: ReLU, Epochs: 50, LR: 1, Batch Size: 32, Accuracy: 0.1923\n",
      "Hidden Layers: [4], Activation: ReLU, Epochs: 50, LR: 1, Batch Size: 64, Accuracy: 0.1923\n",
      "Hidden Layers: [4], Activation: ReLU, Epochs: 50, LR: 1, Batch Size: 128, Accuracy: 0.1231\n",
      "Hidden Layers: [4], Activation: ReLU, Epochs: 50, LR: 1, Batch Size: 256, Accuracy: 0.1923\n",
      "Hidden Layers: [4], Activation: ReLU, Epochs: 50, LR: 1, Batch Size: 512, Accuracy: 0.1308\n",
      "Hidden Layers: [4], Activation: ReLU, Epochs: 50, LR: 0.1, Batch Size: 16, Accuracy: 0.4154\n",
      "Hidden Layers: [4], Activation: ReLU, Epochs: 50, LR: 0.1, Batch Size: 32, Accuracy: 0.4385\n",
      "Hidden Layers: [4], Activation: ReLU, Epochs: 50, LR: 0.1, Batch Size: 64, Accuracy: 0.3846\n",
      "Hidden Layers: [4], Activation: ReLU, Epochs: 50, LR: 0.1, Batch Size: 128, Accuracy: 0.3308\n",
      "Hidden Layers: [4], Activation: ReLU, Epochs: 50, LR: 0.1, Batch Size: 256, Accuracy: 0.3308\n",
      "Hidden Layers: [4], Activation: ReLU, Epochs: 50, LR: 0.1, Batch Size: 512, Accuracy: 0.3538\n",
      "Hidden Layers: [4], Activation: ReLU, Epochs: 50, LR: 0.01, Batch Size: 16, Accuracy: 0.4077\n",
      "Hidden Layers: [4], Activation: ReLU, Epochs: 50, LR: 0.01, Batch Size: 32, Accuracy: 0.4231\n",
      "Hidden Layers: [4], Activation: ReLU, Epochs: 50, LR: 0.01, Batch Size: 64, Accuracy: 0.4538\n",
      "Hidden Layers: [4], Activation: ReLU, Epochs: 50, LR: 0.01, Batch Size: 128, Accuracy: 0.4000\n",
      "Hidden Layers: [4], Activation: ReLU, Epochs: 50, LR: 0.01, Batch Size: 256, Accuracy: 0.3231\n",
      "Hidden Layers: [4], Activation: ReLU, Epochs: 50, LR: 0.01, Batch Size: 512, Accuracy: 0.1923\n",
      "Hidden Layers: [4], Activation: ReLU, Epochs: 50, LR: 0.001, Batch Size: 16, Accuracy: 0.3846\n",
      "Hidden Layers: [4], Activation: ReLU, Epochs: 50, LR: 0.001, Batch Size: 32, Accuracy: 0.2769\n",
      "Hidden Layers: [4], Activation: ReLU, Epochs: 50, LR: 0.001, Batch Size: 64, Accuracy: 0.3154\n",
      "Hidden Layers: [4], Activation: ReLU, Epochs: 50, LR: 0.001, Batch Size: 128, Accuracy: 0.1846\n",
      "Hidden Layers: [4], Activation: ReLU, Epochs: 50, LR: 0.001, Batch Size: 256, Accuracy: 0.1000\n",
      "Hidden Layers: [4], Activation: ReLU, Epochs: 50, LR: 0.001, Batch Size: 512, Accuracy: 0.1308\n",
      "Hidden Layers: [4], Activation: ReLU, Epochs: 50, LR: 0.0001, Batch Size: 16, Accuracy: 0.1846\n",
      "Hidden Layers: [4], Activation: ReLU, Epochs: 50, LR: 0.0001, Batch Size: 32, Accuracy: 0.1538\n",
      "Hidden Layers: [4], Activation: ReLU, Epochs: 50, LR: 0.0001, Batch Size: 64, Accuracy: 0.1385\n",
      "Hidden Layers: [4], Activation: ReLU, Epochs: 50, LR: 0.0001, Batch Size: 128, Accuracy: 0.0769\n",
      "Hidden Layers: [4], Activation: ReLU, Epochs: 50, LR: 0.0001, Batch Size: 256, Accuracy: 0.0462\n",
      "Hidden Layers: [4], Activation: ReLU, Epochs: 50, LR: 0.0001, Batch Size: 512, Accuracy: 0.0462\n",
      "Hidden Layers: [4], Activation: ReLU, Epochs: 100, LR: 10, Batch Size: 16, Accuracy: 0.1308\n",
      "Hidden Layers: [4], Activation: ReLU, Epochs: 100, LR: 10, Batch Size: 32, Accuracy: 0.1923\n",
      "Hidden Layers: [4], Activation: ReLU, Epochs: 100, LR: 10, Batch Size: 64, Accuracy: 0.1308\n",
      "Hidden Layers: [4], Activation: ReLU, Epochs: 100, LR: 10, Batch Size: 128, Accuracy: 0.0385\n",
      "Hidden Layers: [4], Activation: ReLU, Epochs: 100, LR: 10, Batch Size: 256, Accuracy: 0.1308\n",
      "Hidden Layers: [4], Activation: ReLU, Epochs: 100, LR: 10, Batch Size: 512, Accuracy: 0.0769\n",
      "Hidden Layers: [4], Activation: ReLU, Epochs: 100, LR: 1, Batch Size: 16, Accuracy: 0.1000\n",
      "Hidden Layers: [4], Activation: ReLU, Epochs: 100, LR: 1, Batch Size: 32, Accuracy: 0.1923\n",
      "Hidden Layers: [4], Activation: ReLU, Epochs: 100, LR: 1, Batch Size: 64, Accuracy: 0.1308\n",
      "Hidden Layers: [4], Activation: ReLU, Epochs: 100, LR: 1, Batch Size: 128, Accuracy: 0.1308\n",
      "Hidden Layers: [4], Activation: ReLU, Epochs: 100, LR: 1, Batch Size: 256, Accuracy: 0.1000\n",
      "Hidden Layers: [4], Activation: ReLU, Epochs: 100, LR: 1, Batch Size: 512, Accuracy: 0.1308\n",
      "Hidden Layers: [4], Activation: ReLU, Epochs: 100, LR: 0.1, Batch Size: 16, Accuracy: 0.3769\n",
      "Hidden Layers: [4], Activation: ReLU, Epochs: 100, LR: 0.1, Batch Size: 32, Accuracy: 0.3385\n",
      "Hidden Layers: [4], Activation: ReLU, Epochs: 100, LR: 0.1, Batch Size: 64, Accuracy: 0.4000\n",
      "Hidden Layers: [4], Activation: ReLU, Epochs: 100, LR: 0.1, Batch Size: 128, Accuracy: 0.3231\n",
      "Hidden Layers: [4], Activation: ReLU, Epochs: 100, LR: 0.1, Batch Size: 256, Accuracy: 0.3462\n",
      "Hidden Layers: [4], Activation: ReLU, Epochs: 100, LR: 0.1, Batch Size: 512, Accuracy: 0.2769\n",
      "Hidden Layers: [4], Activation: ReLU, Epochs: 100, LR: 0.01, Batch Size: 16, Accuracy: 0.3923\n",
      "Hidden Layers: [4], Activation: ReLU, Epochs: 100, LR: 0.01, Batch Size: 32, Accuracy: 0.4000\n",
      "Hidden Layers: [4], Activation: ReLU, Epochs: 100, LR: 0.01, Batch Size: 64, Accuracy: 0.4231\n",
      "Hidden Layers: [4], Activation: ReLU, Epochs: 100, LR: 0.01, Batch Size: 128, Accuracy: 0.4000\n",
      "Hidden Layers: [4], Activation: ReLU, Epochs: 100, LR: 0.01, Batch Size: 256, Accuracy: 0.4000\n",
      "Hidden Layers: [4], Activation: ReLU, Epochs: 100, LR: 0.01, Batch Size: 512, Accuracy: 0.3154\n",
      "Hidden Layers: [4], Activation: ReLU, Epochs: 100, LR: 0.001, Batch Size: 16, Accuracy: 0.3231\n",
      "Hidden Layers: [4], Activation: ReLU, Epochs: 100, LR: 0.001, Batch Size: 32, Accuracy: 0.4385\n",
      "Hidden Layers: [4], Activation: ReLU, Epochs: 100, LR: 0.001, Batch Size: 64, Accuracy: 0.2462\n",
      "Hidden Layers: [4], Activation: ReLU, Epochs: 100, LR: 0.001, Batch Size: 128, Accuracy: 0.2154\n",
      "Hidden Layers: [4], Activation: ReLU, Epochs: 100, LR: 0.001, Batch Size: 256, Accuracy: 0.2077\n",
      "Hidden Layers: [4], Activation: ReLU, Epochs: 100, LR: 0.001, Batch Size: 512, Accuracy: 0.0462\n",
      "Hidden Layers: [4], Activation: ReLU, Epochs: 100, LR: 0.0001, Batch Size: 16, Accuracy: 0.2692\n",
      "Hidden Layers: [4], Activation: ReLU, Epochs: 100, LR: 0.0001, Batch Size: 32, Accuracy: 0.2077\n",
      "Hidden Layers: [4], Activation: ReLU, Epochs: 100, LR: 0.0001, Batch Size: 64, Accuracy: 0.1769\n",
      "Hidden Layers: [4], Activation: ReLU, Epochs: 100, LR: 0.0001, Batch Size: 128, Accuracy: 0.1154\n",
      "Hidden Layers: [4], Activation: ReLU, Epochs: 100, LR: 0.0001, Batch Size: 256, Accuracy: 0.0000\n",
      "Hidden Layers: [4], Activation: ReLU, Epochs: 100, LR: 0.0001, Batch Size: 512, Accuracy: 0.0154\n",
      "Hidden Layers: [4], Activation: ReLU, Epochs: 250, LR: 10, Batch Size: 16, Accuracy: 0.1923\n",
      "Hidden Layers: [4], Activation: ReLU, Epochs: 250, LR: 10, Batch Size: 32, Accuracy: 0.1000\n",
      "Hidden Layers: [4], Activation: ReLU, Epochs: 250, LR: 10, Batch Size: 64, Accuracy: 0.1000\n",
      "Hidden Layers: [4], Activation: ReLU, Epochs: 250, LR: 10, Batch Size: 128, Accuracy: 0.1923\n",
      "Hidden Layers: [4], Activation: ReLU, Epochs: 250, LR: 10, Batch Size: 256, Accuracy: 0.1923\n",
      "Hidden Layers: [4], Activation: ReLU, Epochs: 250, LR: 10, Batch Size: 512, Accuracy: 0.0385\n",
      "Hidden Layers: [4], Activation: ReLU, Epochs: 250, LR: 1, Batch Size: 16, Accuracy: 0.1231\n",
      "Hidden Layers: [4], Activation: ReLU, Epochs: 250, LR: 1, Batch Size: 32, Accuracy: 0.1231\n",
      "Hidden Layers: [4], Activation: ReLU, Epochs: 250, LR: 1, Batch Size: 64, Accuracy: 0.1231\n",
      "Hidden Layers: [4], Activation: ReLU, Epochs: 250, LR: 1, Batch Size: 128, Accuracy: 0.1308\n",
      "Hidden Layers: [4], Activation: ReLU, Epochs: 250, LR: 1, Batch Size: 256, Accuracy: 0.1923\n",
      "Hidden Layers: [4], Activation: ReLU, Epochs: 250, LR: 1, Batch Size: 512, Accuracy: 0.1308\n",
      "Hidden Layers: [4], Activation: ReLU, Epochs: 250, LR: 0.1, Batch Size: 16, Accuracy: 0.4000\n",
      "Hidden Layers: [4], Activation: ReLU, Epochs: 250, LR: 0.1, Batch Size: 32, Accuracy: 0.3846\n",
      "Hidden Layers: [4], Activation: ReLU, Epochs: 250, LR: 0.1, Batch Size: 64, Accuracy: 0.4231\n",
      "Hidden Layers: [4], Activation: ReLU, Epochs: 250, LR: 0.1, Batch Size: 128, Accuracy: 0.3846\n",
      "Hidden Layers: [4], Activation: ReLU, Epochs: 250, LR: 0.1, Batch Size: 256, Accuracy: 0.3231\n",
      "Hidden Layers: [4], Activation: ReLU, Epochs: 250, LR: 0.1, Batch Size: 512, Accuracy: 0.3154\n",
      "Hidden Layers: [4], Activation: ReLU, Epochs: 250, LR: 0.01, Batch Size: 16, Accuracy: 0.4538\n",
      "Hidden Layers: [4], Activation: ReLU, Epochs: 250, LR: 0.01, Batch Size: 32, Accuracy: 0.4692\n",
      "Hidden Layers: [4], Activation: ReLU, Epochs: 250, LR: 0.01, Batch Size: 64, Accuracy: 0.4923\n",
      "Hidden Layers: [4], Activation: ReLU, Epochs: 250, LR: 0.01, Batch Size: 128, Accuracy: 0.4615\n",
      "Hidden Layers: [4], Activation: ReLU, Epochs: 250, LR: 0.01, Batch Size: 256, Accuracy: 0.4615\n",
      "Hidden Layers: [4], Activation: ReLU, Epochs: 250, LR: 0.01, Batch Size: 512, Accuracy: 0.3615\n",
      "Hidden Layers: [4], Activation: ReLU, Epochs: 250, LR: 0.001, Batch Size: 16, Accuracy: 0.4077\n",
      "Hidden Layers: [4], Activation: ReLU, Epochs: 250, LR: 0.001, Batch Size: 32, Accuracy: 0.3385\n",
      "Hidden Layers: [4], Activation: ReLU, Epochs: 250, LR: 0.001, Batch Size: 64, Accuracy: 0.3615\n",
      "Hidden Layers: [4], Activation: ReLU, Epochs: 250, LR: 0.001, Batch Size: 128, Accuracy: 0.3154\n",
      "Hidden Layers: [4], Activation: ReLU, Epochs: 250, LR: 0.001, Batch Size: 256, Accuracy: 0.2846\n",
      "Hidden Layers: [4], Activation: ReLU, Epochs: 250, LR: 0.001, Batch Size: 512, Accuracy: 0.2077\n",
      "Hidden Layers: [4], Activation: ReLU, Epochs: 250, LR: 0.0001, Batch Size: 16, Accuracy: 0.2846\n",
      "Hidden Layers: [4], Activation: ReLU, Epochs: 250, LR: 0.0001, Batch Size: 32, Accuracy: 0.2154\n",
      "Hidden Layers: [4], Activation: ReLU, Epochs: 250, LR: 0.0001, Batch Size: 64, Accuracy: 0.1615\n",
      "Hidden Layers: [4], Activation: ReLU, Epochs: 250, LR: 0.0001, Batch Size: 128, Accuracy: 0.1538\n",
      "Hidden Layers: [4], Activation: ReLU, Epochs: 250, LR: 0.0001, Batch Size: 256, Accuracy: 0.1154\n",
      "Hidden Layers: [4], Activation: ReLU, Epochs: 250, LR: 0.0001, Batch Size: 512, Accuracy: 0.0077\n",
      "Hidden Layers: [4], Activation: Softmax, Epochs: 1, LR: 10, Batch Size: 16, Accuracy: 0.0923\n",
      "Hidden Layers: [4], Activation: Softmax, Epochs: 1, LR: 10, Batch Size: 32, Accuracy: 0.0385\n",
      "Hidden Layers: [4], Activation: Softmax, Epochs: 1, LR: 10, Batch Size: 64, Accuracy: 0.1308\n",
      "Hidden Layers: [4], Activation: Softmax, Epochs: 1, LR: 10, Batch Size: 128, Accuracy: 0.0615\n",
      "Hidden Layers: [4], Activation: Softmax, Epochs: 1, LR: 10, Batch Size: 256, Accuracy: 0.1231\n",
      "Hidden Layers: [4], Activation: Softmax, Epochs: 1, LR: 10, Batch Size: 512, Accuracy: 0.1000\n",
      "Hidden Layers: [4], Activation: Softmax, Epochs: 1, LR: 1, Batch Size: 16, Accuracy: 0.1231\n"
     ]
    },
    {
     "name": "stderr",
     "output_type": "stream",
     "text": [
      "C:\\Users\\user\\AppData\\Local\\Packages\\PythonSoftwareFoundation.Python.3.12_qbz5n2kfra8p0\\LocalCache\\local-packages\\Python312\\site-packages\\torch\\nn\\modules\\module.py:1736: UserWarning: Implicit dimension choice for softmax has been deprecated. Change the call to include dim=X as an argument.\n",
      "  return self._call_impl(*args, **kwargs)\n",
      "C:\\Users\\user\\AppData\\Local\\Packages\\PythonSoftwareFoundation.Python.3.12_qbz5n2kfra8p0\\LocalCache\\local-packages\\Python312\\site-packages\\torch\\nn\\modules\\module.py:1736: UserWarning: Implicit dimension choice for softmax has been deprecated. Change the call to include dim=X as an argument.\n",
      "  return self._call_impl(*args, **kwargs)\n",
      "C:\\Users\\user\\AppData\\Local\\Packages\\PythonSoftwareFoundation.Python.3.12_qbz5n2kfra8p0\\LocalCache\\local-packages\\Python312\\site-packages\\torch\\nn\\modules\\module.py:1736: UserWarning: Implicit dimension choice for softmax has been deprecated. Change the call to include dim=X as an argument.\n",
      "  return self._call_impl(*args, **kwargs)\n",
      "C:\\Users\\user\\AppData\\Local\\Packages\\PythonSoftwareFoundation.Python.3.12_qbz5n2kfra8p0\\LocalCache\\local-packages\\Python312\\site-packages\\torch\\nn\\modules\\module.py:1736: UserWarning: Implicit dimension choice for softmax has been deprecated. Change the call to include dim=X as an argument.\n",
      "  return self._call_impl(*args, **kwargs)\n",
      "C:\\Users\\user\\AppData\\Local\\Packages\\PythonSoftwareFoundation.Python.3.12_qbz5n2kfra8p0\\LocalCache\\local-packages\\Python312\\site-packages\\torch\\nn\\modules\\module.py:1736: UserWarning: Implicit dimension choice for softmax has been deprecated. Change the call to include dim=X as an argument.\n",
      "  return self._call_impl(*args, **kwargs)\n",
      "C:\\Users\\user\\AppData\\Local\\Packages\\PythonSoftwareFoundation.Python.3.12_qbz5n2kfra8p0\\LocalCache\\local-packages\\Python312\\site-packages\\torch\\nn\\modules\\module.py:1736: UserWarning: Implicit dimension choice for softmax has been deprecated. Change the call to include dim=X as an argument.\n",
      "  return self._call_impl(*args, **kwargs)\n",
      "C:\\Users\\user\\AppData\\Local\\Packages\\PythonSoftwareFoundation.Python.3.12_qbz5n2kfra8p0\\LocalCache\\local-packages\\Python312\\site-packages\\torch\\nn\\modules\\module.py:1736: UserWarning: Implicit dimension choice for softmax has been deprecated. Change the call to include dim=X as an argument.\n",
      "  return self._call_impl(*args, **kwargs)\n",
      "C:\\Users\\user\\AppData\\Local\\Packages\\PythonSoftwareFoundation.Python.3.12_qbz5n2kfra8p0\\LocalCache\\local-packages\\Python312\\site-packages\\torch\\nn\\modules\\module.py:1736: UserWarning: Implicit dimension choice for softmax has been deprecated. Change the call to include dim=X as an argument.\n",
      "  return self._call_impl(*args, **kwargs)\n"
     ]
    },
    {
     "name": "stdout",
     "output_type": "stream",
     "text": [
      "Hidden Layers: [4], Activation: Softmax, Epochs: 1, LR: 1, Batch Size: 32, Accuracy: 0.1923\n",
      "Hidden Layers: [4], Activation: Softmax, Epochs: 1, LR: 1, Batch Size: 64, Accuracy: 0.0538\n",
      "Hidden Layers: [4], Activation: Softmax, Epochs: 1, LR: 1, Batch Size: 128, Accuracy: 0.0538\n",
      "Hidden Layers: [4], Activation: Softmax, Epochs: 1, LR: 1, Batch Size: 256, Accuracy: 0.1231\n",
      "Hidden Layers: [4], Activation: Softmax, Epochs: 1, LR: 1, Batch Size: 512, Accuracy: 0.0923\n",
      "Hidden Layers: [4], Activation: Softmax, Epochs: 1, LR: 0.1, Batch Size: 16, Accuracy: 0.2308\n",
      "Hidden Layers: [4], Activation: Softmax, Epochs: 1, LR: 0.1, Batch Size: 32, Accuracy: 0.1308\n",
      "Hidden Layers: [4], Activation: Softmax, Epochs: 1, LR: 0.1, Batch Size: 64, Accuracy: 0.1923\n",
      "Hidden Layers: [4], Activation: Softmax, Epochs: 1, LR: 0.1, Batch Size: 128, Accuracy: 0.1000\n",
      "Hidden Layers: [4], Activation: Softmax, Epochs: 1, LR: 0.1, Batch Size: 256, Accuracy: 0.1462\n"
     ]
    },
    {
     "name": "stderr",
     "output_type": "stream",
     "text": [
      "C:\\Users\\user\\AppData\\Local\\Packages\\PythonSoftwareFoundation.Python.3.12_qbz5n2kfra8p0\\LocalCache\\local-packages\\Python312\\site-packages\\torch\\nn\\modules\\module.py:1736: UserWarning: Implicit dimension choice for softmax has been deprecated. Change the call to include dim=X as an argument.\n",
      "  return self._call_impl(*args, **kwargs)\n",
      "C:\\Users\\user\\AppData\\Local\\Packages\\PythonSoftwareFoundation.Python.3.12_qbz5n2kfra8p0\\LocalCache\\local-packages\\Python312\\site-packages\\torch\\nn\\modules\\module.py:1736: UserWarning: Implicit dimension choice for softmax has been deprecated. Change the call to include dim=X as an argument.\n",
      "  return self._call_impl(*args, **kwargs)\n",
      "C:\\Users\\user\\AppData\\Local\\Packages\\PythonSoftwareFoundation.Python.3.12_qbz5n2kfra8p0\\LocalCache\\local-packages\\Python312\\site-packages\\torch\\nn\\modules\\module.py:1736: UserWarning: Implicit dimension choice for softmax has been deprecated. Change the call to include dim=X as an argument.\n",
      "  return self._call_impl(*args, **kwargs)\n",
      "C:\\Users\\user\\AppData\\Local\\Packages\\PythonSoftwareFoundation.Python.3.12_qbz5n2kfra8p0\\LocalCache\\local-packages\\Python312\\site-packages\\torch\\nn\\modules\\module.py:1736: UserWarning: Implicit dimension choice for softmax has been deprecated. Change the call to include dim=X as an argument.\n",
      "  return self._call_impl(*args, **kwargs)\n",
      "C:\\Users\\user\\AppData\\Local\\Packages\\PythonSoftwareFoundation.Python.3.12_qbz5n2kfra8p0\\LocalCache\\local-packages\\Python312\\site-packages\\torch\\nn\\modules\\module.py:1736: UserWarning: Implicit dimension choice for softmax has been deprecated. Change the call to include dim=X as an argument.\n",
      "  return self._call_impl(*args, **kwargs)\n",
      "C:\\Users\\user\\AppData\\Local\\Packages\\PythonSoftwareFoundation.Python.3.12_qbz5n2kfra8p0\\LocalCache\\local-packages\\Python312\\site-packages\\torch\\nn\\modules\\module.py:1736: UserWarning: Implicit dimension choice for softmax has been deprecated. Change the call to include dim=X as an argument.\n",
      "  return self._call_impl(*args, **kwargs)\n",
      "C:\\Users\\user\\AppData\\Local\\Packages\\PythonSoftwareFoundation.Python.3.12_qbz5n2kfra8p0\\LocalCache\\local-packages\\Python312\\site-packages\\torch\\nn\\modules\\module.py:1736: UserWarning: Implicit dimension choice for softmax has been deprecated. Change the call to include dim=X as an argument.\n",
      "  return self._call_impl(*args, **kwargs)\n",
      "C:\\Users\\user\\AppData\\Local\\Packages\\PythonSoftwareFoundation.Python.3.12_qbz5n2kfra8p0\\LocalCache\\local-packages\\Python312\\site-packages\\torch\\nn\\modules\\module.py:1736: UserWarning: Implicit dimension choice for softmax has been deprecated. Change the call to include dim=X as an argument.\n",
      "  return self._call_impl(*args, **kwargs)\n",
      "C:\\Users\\user\\AppData\\Local\\Packages\\PythonSoftwareFoundation.Python.3.12_qbz5n2kfra8p0\\LocalCache\\local-packages\\Python312\\site-packages\\torch\\nn\\modules\\module.py:1736: UserWarning: Implicit dimension choice for softmax has been deprecated. Change the call to include dim=X as an argument.\n",
      "  return self._call_impl(*args, **kwargs)\n",
      "C:\\Users\\user\\AppData\\Local\\Packages\\PythonSoftwareFoundation.Python.3.12_qbz5n2kfra8p0\\LocalCache\\local-packages\\Python312\\site-packages\\torch\\nn\\modules\\module.py:1736: UserWarning: Implicit dimension choice for softmax has been deprecated. Change the call to include dim=X as an argument.\n",
      "  return self._call_impl(*args, **kwargs)\n",
      "C:\\Users\\user\\AppData\\Local\\Packages\\PythonSoftwareFoundation.Python.3.12_qbz5n2kfra8p0\\LocalCache\\local-packages\\Python312\\site-packages\\torch\\nn\\modules\\module.py:1736: UserWarning: Implicit dimension choice for softmax has been deprecated. Change the call to include dim=X as an argument.\n",
      "  return self._call_impl(*args, **kwargs)\n",
      "C:\\Users\\user\\AppData\\Local\\Packages\\PythonSoftwareFoundation.Python.3.12_qbz5n2kfra8p0\\LocalCache\\local-packages\\Python312\\site-packages\\torch\\nn\\modules\\module.py:1736: UserWarning: Implicit dimension choice for softmax has been deprecated. Change the call to include dim=X as an argument.\n",
      "  return self._call_impl(*args, **kwargs)\n",
      "C:\\Users\\user\\AppData\\Local\\Packages\\PythonSoftwareFoundation.Python.3.12_qbz5n2kfra8p0\\LocalCache\\local-packages\\Python312\\site-packages\\torch\\nn\\modules\\module.py:1736: UserWarning: Implicit dimension choice for softmax has been deprecated. Change the call to include dim=X as an argument.\n",
      "  return self._call_impl(*args, **kwargs)\n",
      "C:\\Users\\user\\AppData\\Local\\Packages\\PythonSoftwareFoundation.Python.3.12_qbz5n2kfra8p0\\LocalCache\\local-packages\\Python312\\site-packages\\torch\\nn\\modules\\module.py:1736: UserWarning: Implicit dimension choice for softmax has been deprecated. Change the call to include dim=X as an argument.\n",
      "  return self._call_impl(*args, **kwargs)\n",
      "C:\\Users\\user\\AppData\\Local\\Packages\\PythonSoftwareFoundation.Python.3.12_qbz5n2kfra8p0\\LocalCache\\local-packages\\Python312\\site-packages\\torch\\nn\\modules\\module.py:1736: UserWarning: Implicit dimension choice for softmax has been deprecated. Change the call to include dim=X as an argument.\n",
      "  return self._call_impl(*args, **kwargs)\n",
      "C:\\Users\\user\\AppData\\Local\\Packages\\PythonSoftwareFoundation.Python.3.12_qbz5n2kfra8p0\\LocalCache\\local-packages\\Python312\\site-packages\\torch\\nn\\modules\\module.py:1736: UserWarning: Implicit dimension choice for softmax has been deprecated. Change the call to include dim=X as an argument.\n",
      "  return self._call_impl(*args, **kwargs)\n",
      "C:\\Users\\user\\AppData\\Local\\Packages\\PythonSoftwareFoundation.Python.3.12_qbz5n2kfra8p0\\LocalCache\\local-packages\\Python312\\site-packages\\torch\\nn\\modules\\module.py:1736: UserWarning: Implicit dimension choice for softmax has been deprecated. Change the call to include dim=X as an argument.\n",
      "  return self._call_impl(*args, **kwargs)\n",
      "C:\\Users\\user\\AppData\\Local\\Packages\\PythonSoftwareFoundation.Python.3.12_qbz5n2kfra8p0\\LocalCache\\local-packages\\Python312\\site-packages\\torch\\nn\\modules\\module.py:1736: UserWarning: Implicit dimension choice for softmax has been deprecated. Change the call to include dim=X as an argument.\n",
      "  return self._call_impl(*args, **kwargs)\n"
     ]
    },
    {
     "name": "stdout",
     "output_type": "stream",
     "text": [
      "Hidden Layers: [4], Activation: Softmax, Epochs: 1, LR: 0.1, Batch Size: 512, Accuracy: 0.1000\n",
      "Hidden Layers: [4], Activation: Softmax, Epochs: 1, LR: 0.01, Batch Size: 16, Accuracy: 0.1923\n",
      "Hidden Layers: [4], Activation: Softmax, Epochs: 1, LR: 0.01, Batch Size: 32, Accuracy: 0.1000\n",
      "Hidden Layers: [4], Activation: Softmax, Epochs: 1, LR: 0.01, Batch Size: 64, Accuracy: 0.0923\n",
      "Hidden Layers: [4], Activation: Softmax, Epochs: 1, LR: 0.01, Batch Size: 128, Accuracy: 0.0923\n",
      "Hidden Layers: [4], Activation: Softmax, Epochs: 1, LR: 0.01, Batch Size: 256, Accuracy: 0.0769\n",
      "Hidden Layers: [4], Activation: Softmax, Epochs: 1, LR: 0.01, Batch Size: 512, Accuracy: 0.0923\n",
      "Hidden Layers: [4], Activation: Softmax, Epochs: 1, LR: 0.001, Batch Size: 16, Accuracy: 0.1154\n",
      "Hidden Layers: [4], Activation: Softmax, Epochs: 1, LR: 0.001, Batch Size: 32, Accuracy: 0.0000\n",
      "Hidden Layers: [4], Activation: Softmax, Epochs: 1, LR: 0.001, Batch Size: 64, Accuracy: 0.1923\n",
      "Hidden Layers: [4], Activation: Softmax, Epochs: 1, LR: 0.001, Batch Size: 128, Accuracy: 0.0000\n",
      "Hidden Layers: [4], Activation: Softmax, Epochs: 1, LR: 0.001, Batch Size: 256, Accuracy: 0.1846\n",
      "Hidden Layers: [4], Activation: Softmax, Epochs: 1, LR: 0.001, Batch Size: 512, Accuracy: 0.0462\n",
      "Hidden Layers: [4], Activation: Softmax, Epochs: 1, LR: 0.0001, Batch Size: 16, Accuracy: 0.1769\n",
      "Hidden Layers: [4], Activation: Softmax, Epochs: 1, LR: 0.0001, Batch Size: 32, Accuracy: 0.0923\n"
     ]
    },
    {
     "name": "stderr",
     "output_type": "stream",
     "text": [
      "C:\\Users\\user\\AppData\\Local\\Packages\\PythonSoftwareFoundation.Python.3.12_qbz5n2kfra8p0\\LocalCache\\local-packages\\Python312\\site-packages\\torch\\nn\\modules\\module.py:1736: UserWarning: Implicit dimension choice for softmax has been deprecated. Change the call to include dim=X as an argument.\n",
      "  return self._call_impl(*args, **kwargs)\n",
      "C:\\Users\\user\\AppData\\Local\\Packages\\PythonSoftwareFoundation.Python.3.12_qbz5n2kfra8p0\\LocalCache\\local-packages\\Python312\\site-packages\\torch\\nn\\modules\\module.py:1736: UserWarning: Implicit dimension choice for softmax has been deprecated. Change the call to include dim=X as an argument.\n",
      "  return self._call_impl(*args, **kwargs)\n",
      "C:\\Users\\user\\AppData\\Local\\Packages\\PythonSoftwareFoundation.Python.3.12_qbz5n2kfra8p0\\LocalCache\\local-packages\\Python312\\site-packages\\torch\\nn\\modules\\module.py:1736: UserWarning: Implicit dimension choice for softmax has been deprecated. Change the call to include dim=X as an argument.\n",
      "  return self._call_impl(*args, **kwargs)\n",
      "C:\\Users\\user\\AppData\\Local\\Packages\\PythonSoftwareFoundation.Python.3.12_qbz5n2kfra8p0\\LocalCache\\local-packages\\Python312\\site-packages\\torch\\nn\\modules\\module.py:1736: UserWarning: Implicit dimension choice for softmax has been deprecated. Change the call to include dim=X as an argument.\n",
      "  return self._call_impl(*args, **kwargs)\n",
      "C:\\Users\\user\\AppData\\Local\\Packages\\PythonSoftwareFoundation.Python.3.12_qbz5n2kfra8p0\\LocalCache\\local-packages\\Python312\\site-packages\\torch\\nn\\modules\\module.py:1736: UserWarning: Implicit dimension choice for softmax has been deprecated. Change the call to include dim=X as an argument.\n",
      "  return self._call_impl(*args, **kwargs)\n",
      "C:\\Users\\user\\AppData\\Local\\Packages\\PythonSoftwareFoundation.Python.3.12_qbz5n2kfra8p0\\LocalCache\\local-packages\\Python312\\site-packages\\torch\\nn\\modules\\module.py:1736: UserWarning: Implicit dimension choice for softmax has been deprecated. Change the call to include dim=X as an argument.\n",
      "  return self._call_impl(*args, **kwargs)\n",
      "C:\\Users\\user\\AppData\\Local\\Packages\\PythonSoftwareFoundation.Python.3.12_qbz5n2kfra8p0\\LocalCache\\local-packages\\Python312\\site-packages\\torch\\nn\\modules\\module.py:1736: UserWarning: Implicit dimension choice for softmax has been deprecated. Change the call to include dim=X as an argument.\n",
      "  return self._call_impl(*args, **kwargs)\n",
      "C:\\Users\\user\\AppData\\Local\\Packages\\PythonSoftwareFoundation.Python.3.12_qbz5n2kfra8p0\\LocalCache\\local-packages\\Python312\\site-packages\\torch\\nn\\modules\\module.py:1736: UserWarning: Implicit dimension choice for softmax has been deprecated. Change the call to include dim=X as an argument.\n",
      "  return self._call_impl(*args, **kwargs)\n",
      "C:\\Users\\user\\AppData\\Local\\Packages\\PythonSoftwareFoundation.Python.3.12_qbz5n2kfra8p0\\LocalCache\\local-packages\\Python312\\site-packages\\torch\\nn\\modules\\module.py:1736: UserWarning: Implicit dimension choice for softmax has been deprecated. Change the call to include dim=X as an argument.\n",
      "  return self._call_impl(*args, **kwargs)\n",
      "C:\\Users\\user\\AppData\\Local\\Packages\\PythonSoftwareFoundation.Python.3.12_qbz5n2kfra8p0\\LocalCache\\local-packages\\Python312\\site-packages\\torch\\nn\\modules\\module.py:1736: UserWarning: Implicit dimension choice for softmax has been deprecated. Change the call to include dim=X as an argument.\n",
      "  return self._call_impl(*args, **kwargs)\n",
      "C:\\Users\\user\\AppData\\Local\\Packages\\PythonSoftwareFoundation.Python.3.12_qbz5n2kfra8p0\\LocalCache\\local-packages\\Python312\\site-packages\\torch\\nn\\modules\\module.py:1736: UserWarning: Implicit dimension choice for softmax has been deprecated. Change the call to include dim=X as an argument.\n",
      "  return self._call_impl(*args, **kwargs)\n"
     ]
    },
    {
     "name": "stdout",
     "output_type": "stream",
     "text": [
      "Hidden Layers: [4], Activation: Softmax, Epochs: 1, LR: 0.0001, Batch Size: 64, Accuracy: 0.0538\n",
      "Hidden Layers: [4], Activation: Softmax, Epochs: 1, LR: 0.0001, Batch Size: 128, Accuracy: 0.0846\n",
      "Hidden Layers: [4], Activation: Softmax, Epochs: 1, LR: 0.0001, Batch Size: 256, Accuracy: 0.0000\n",
      "Hidden Layers: [4], Activation: Softmax, Epochs: 1, LR: 0.0001, Batch Size: 512, Accuracy: 0.0000\n",
      "Hidden Layers: [4], Activation: Softmax, Epochs: 10, LR: 10, Batch Size: 16, Accuracy: 0.1231\n"
     ]
    },
    {
     "name": "stderr",
     "output_type": "stream",
     "text": [
      "C:\\Users\\user\\AppData\\Local\\Packages\\PythonSoftwareFoundation.Python.3.12_qbz5n2kfra8p0\\LocalCache\\local-packages\\Python312\\site-packages\\torch\\nn\\modules\\module.py:1736: UserWarning: Implicit dimension choice for softmax has been deprecated. Change the call to include dim=X as an argument.\n",
      "  return self._call_impl(*args, **kwargs)\n"
     ]
    },
    {
     "name": "stdout",
     "output_type": "stream",
     "text": [
      "Hidden Layers: [4], Activation: Softmax, Epochs: 10, LR: 10, Batch Size: 32, Accuracy: 0.2077\n",
      "Hidden Layers: [4], Activation: Softmax, Epochs: 10, LR: 10, Batch Size: 64, Accuracy: 0.2000\n"
     ]
    },
    {
     "name": "stderr",
     "output_type": "stream",
     "text": [
      "C:\\Users\\user\\AppData\\Local\\Packages\\PythonSoftwareFoundation.Python.3.12_qbz5n2kfra8p0\\LocalCache\\local-packages\\Python312\\site-packages\\torch\\nn\\modules\\module.py:1736: UserWarning: Implicit dimension choice for softmax has been deprecated. Change the call to include dim=X as an argument.\n",
      "  return self._call_impl(*args, **kwargs)\n",
      "C:\\Users\\user\\AppData\\Local\\Packages\\PythonSoftwareFoundation.Python.3.12_qbz5n2kfra8p0\\LocalCache\\local-packages\\Python312\\site-packages\\torch\\nn\\modules\\module.py:1736: UserWarning: Implicit dimension choice for softmax has been deprecated. Change the call to include dim=X as an argument.\n",
      "  return self._call_impl(*args, **kwargs)\n"
     ]
    },
    {
     "name": "stdout",
     "output_type": "stream",
     "text": [
      "Hidden Layers: [4], Activation: Softmax, Epochs: 10, LR: 10, Batch Size: 128, Accuracy: 0.1000\n",
      "Hidden Layers: [4], Activation: Softmax, Epochs: 10, LR: 10, Batch Size: 256, Accuracy: 0.0769\n",
      "Hidden Layers: [4], Activation: Softmax, Epochs: 10, LR: 10, Batch Size: 512, Accuracy: 0.0769\n"
     ]
    },
    {
     "name": "stderr",
     "output_type": "stream",
     "text": [
      "C:\\Users\\user\\AppData\\Local\\Packages\\PythonSoftwareFoundation.Python.3.12_qbz5n2kfra8p0\\LocalCache\\local-packages\\Python312\\site-packages\\torch\\nn\\modules\\module.py:1736: UserWarning: Implicit dimension choice for softmax has been deprecated. Change the call to include dim=X as an argument.\n",
      "  return self._call_impl(*args, **kwargs)\n",
      "C:\\Users\\user\\AppData\\Local\\Packages\\PythonSoftwareFoundation.Python.3.12_qbz5n2kfra8p0\\LocalCache\\local-packages\\Python312\\site-packages\\torch\\nn\\modules\\module.py:1736: UserWarning: Implicit dimension choice for softmax has been deprecated. Change the call to include dim=X as an argument.\n",
      "  return self._call_impl(*args, **kwargs)\n",
      "C:\\Users\\user\\AppData\\Local\\Packages\\PythonSoftwareFoundation.Python.3.12_qbz5n2kfra8p0\\LocalCache\\local-packages\\Python312\\site-packages\\torch\\nn\\modules\\module.py:1736: UserWarning: Implicit dimension choice for softmax has been deprecated. Change the call to include dim=X as an argument.\n",
      "  return self._call_impl(*args, **kwargs)\n"
     ]
    },
    {
     "name": "stdout",
     "output_type": "stream",
     "text": [
      "Hidden Layers: [4], Activation: Softmax, Epochs: 10, LR: 1, Batch Size: 16, Accuracy: 0.1077\n"
     ]
    },
    {
     "name": "stderr",
     "output_type": "stream",
     "text": [
      "C:\\Users\\user\\AppData\\Local\\Packages\\PythonSoftwareFoundation.Python.3.12_qbz5n2kfra8p0\\LocalCache\\local-packages\\Python312\\site-packages\\torch\\nn\\modules\\module.py:1736: UserWarning: Implicit dimension choice for softmax has been deprecated. Change the call to include dim=X as an argument.\n",
      "  return self._call_impl(*args, **kwargs)\n"
     ]
    },
    {
     "name": "stdout",
     "output_type": "stream",
     "text": [
      "Hidden Layers: [4], Activation: Softmax, Epochs: 10, LR: 1, Batch Size: 32, Accuracy: 0.1308\n",
      "Hidden Layers: [4], Activation: Softmax, Epochs: 10, LR: 1, Batch Size: 64, Accuracy: 0.2308\n"
     ]
    },
    {
     "name": "stderr",
     "output_type": "stream",
     "text": [
      "C:\\Users\\user\\AppData\\Local\\Packages\\PythonSoftwareFoundation.Python.3.12_qbz5n2kfra8p0\\LocalCache\\local-packages\\Python312\\site-packages\\torch\\nn\\modules\\module.py:1736: UserWarning: Implicit dimension choice for softmax has been deprecated. Change the call to include dim=X as an argument.\n",
      "  return self._call_impl(*args, **kwargs)\n",
      "C:\\Users\\user\\AppData\\Local\\Packages\\PythonSoftwareFoundation.Python.3.12_qbz5n2kfra8p0\\LocalCache\\local-packages\\Python312\\site-packages\\torch\\nn\\modules\\module.py:1736: UserWarning: Implicit dimension choice for softmax has been deprecated. Change the call to include dim=X as an argument.\n",
      "  return self._call_impl(*args, **kwargs)\n"
     ]
    },
    {
     "name": "stdout",
     "output_type": "stream",
     "text": [
      "Hidden Layers: [4], Activation: Softmax, Epochs: 10, LR: 1, Batch Size: 128, Accuracy: 0.2769\n",
      "Hidden Layers: [4], Activation: Softmax, Epochs: 10, LR: 1, Batch Size: 256, Accuracy: 0.0692\n",
      "Hidden Layers: [4], Activation: Softmax, Epochs: 10, LR: 1, Batch Size: 512, Accuracy: 0.1538\n"
     ]
    },
    {
     "name": "stderr",
     "output_type": "stream",
     "text": [
      "C:\\Users\\user\\AppData\\Local\\Packages\\PythonSoftwareFoundation.Python.3.12_qbz5n2kfra8p0\\LocalCache\\local-packages\\Python312\\site-packages\\torch\\nn\\modules\\module.py:1736: UserWarning: Implicit dimension choice for softmax has been deprecated. Change the call to include dim=X as an argument.\n",
      "  return self._call_impl(*args, **kwargs)\n",
      "C:\\Users\\user\\AppData\\Local\\Packages\\PythonSoftwareFoundation.Python.3.12_qbz5n2kfra8p0\\LocalCache\\local-packages\\Python312\\site-packages\\torch\\nn\\modules\\module.py:1736: UserWarning: Implicit dimension choice for softmax has been deprecated. Change the call to include dim=X as an argument.\n",
      "  return self._call_impl(*args, **kwargs)\n",
      "C:\\Users\\user\\AppData\\Local\\Packages\\PythonSoftwareFoundation.Python.3.12_qbz5n2kfra8p0\\LocalCache\\local-packages\\Python312\\site-packages\\torch\\nn\\modules\\module.py:1736: UserWarning: Implicit dimension choice for softmax has been deprecated. Change the call to include dim=X as an argument.\n",
      "  return self._call_impl(*args, **kwargs)\n"
     ]
    },
    {
     "name": "stdout",
     "output_type": "stream",
     "text": [
      "Hidden Layers: [4], Activation: Softmax, Epochs: 10, LR: 0.1, Batch Size: 16, Accuracy: 0.3077\n"
     ]
    },
    {
     "name": "stderr",
     "output_type": "stream",
     "text": [
      "C:\\Users\\user\\AppData\\Local\\Packages\\PythonSoftwareFoundation.Python.3.12_qbz5n2kfra8p0\\LocalCache\\local-packages\\Python312\\site-packages\\torch\\nn\\modules\\module.py:1736: UserWarning: Implicit dimension choice for softmax has been deprecated. Change the call to include dim=X as an argument.\n",
      "  return self._call_impl(*args, **kwargs)\n"
     ]
    },
    {
     "name": "stdout",
     "output_type": "stream",
     "text": [
      "Hidden Layers: [4], Activation: Softmax, Epochs: 10, LR: 0.1, Batch Size: 32, Accuracy: 0.2385\n",
      "Hidden Layers: [4], Activation: Softmax, Epochs: 10, LR: 0.1, Batch Size: 64, Accuracy: 0.2692\n"
     ]
    },
    {
     "name": "stderr",
     "output_type": "stream",
     "text": [
      "C:\\Users\\user\\AppData\\Local\\Packages\\PythonSoftwareFoundation.Python.3.12_qbz5n2kfra8p0\\LocalCache\\local-packages\\Python312\\site-packages\\torch\\nn\\modules\\module.py:1736: UserWarning: Implicit dimension choice for softmax has been deprecated. Change the call to include dim=X as an argument.\n",
      "  return self._call_impl(*args, **kwargs)\n",
      "C:\\Users\\user\\AppData\\Local\\Packages\\PythonSoftwareFoundation.Python.3.12_qbz5n2kfra8p0\\LocalCache\\local-packages\\Python312\\site-packages\\torch\\nn\\modules\\module.py:1736: UserWarning: Implicit dimension choice for softmax has been deprecated. Change the call to include dim=X as an argument.\n",
      "  return self._call_impl(*args, **kwargs)\n"
     ]
    },
    {
     "name": "stdout",
     "output_type": "stream",
     "text": [
      "Hidden Layers: [4], Activation: Softmax, Epochs: 10, LR: 0.1, Batch Size: 128, Accuracy: 0.2692\n",
      "Hidden Layers: [4], Activation: Softmax, Epochs: 10, LR: 0.1, Batch Size: 256, Accuracy: 0.2231\n",
      "Hidden Layers: [4], Activation: Softmax, Epochs: 10, LR: 0.1, Batch Size: 512, Accuracy: 0.2000\n"
     ]
    },
    {
     "name": "stderr",
     "output_type": "stream",
     "text": [
      "C:\\Users\\user\\AppData\\Local\\Packages\\PythonSoftwareFoundation.Python.3.12_qbz5n2kfra8p0\\LocalCache\\local-packages\\Python312\\site-packages\\torch\\nn\\modules\\module.py:1736: UserWarning: Implicit dimension choice for softmax has been deprecated. Change the call to include dim=X as an argument.\n",
      "  return self._call_impl(*args, **kwargs)\n",
      "C:\\Users\\user\\AppData\\Local\\Packages\\PythonSoftwareFoundation.Python.3.12_qbz5n2kfra8p0\\LocalCache\\local-packages\\Python312\\site-packages\\torch\\nn\\modules\\module.py:1736: UserWarning: Implicit dimension choice for softmax has been deprecated. Change the call to include dim=X as an argument.\n",
      "  return self._call_impl(*args, **kwargs)\n",
      "C:\\Users\\user\\AppData\\Local\\Packages\\PythonSoftwareFoundation.Python.3.12_qbz5n2kfra8p0\\LocalCache\\local-packages\\Python312\\site-packages\\torch\\nn\\modules\\module.py:1736: UserWarning: Implicit dimension choice for softmax has been deprecated. Change the call to include dim=X as an argument.\n",
      "  return self._call_impl(*args, **kwargs)\n"
     ]
    },
    {
     "name": "stdout",
     "output_type": "stream",
     "text": [
      "Hidden Layers: [4], Activation: Softmax, Epochs: 10, LR: 0.01, Batch Size: 16, Accuracy: 0.3308\n"
     ]
    },
    {
     "name": "stderr",
     "output_type": "stream",
     "text": [
      "C:\\Users\\user\\AppData\\Local\\Packages\\PythonSoftwareFoundation.Python.3.12_qbz5n2kfra8p0\\LocalCache\\local-packages\\Python312\\site-packages\\torch\\nn\\modules\\module.py:1736: UserWarning: Implicit dimension choice for softmax has been deprecated. Change the call to include dim=X as an argument.\n",
      "  return self._call_impl(*args, **kwargs)\n"
     ]
    },
    {
     "name": "stdout",
     "output_type": "stream",
     "text": [
      "Hidden Layers: [4], Activation: Softmax, Epochs: 10, LR: 0.01, Batch Size: 32, Accuracy: 0.2692\n",
      "Hidden Layers: [4], Activation: Softmax, Epochs: 10, LR: 0.01, Batch Size: 64, Accuracy: 0.2308\n"
     ]
    },
    {
     "name": "stderr",
     "output_type": "stream",
     "text": [
      "C:\\Users\\user\\AppData\\Local\\Packages\\PythonSoftwareFoundation.Python.3.12_qbz5n2kfra8p0\\LocalCache\\local-packages\\Python312\\site-packages\\torch\\nn\\modules\\module.py:1736: UserWarning: Implicit dimension choice for softmax has been deprecated. Change the call to include dim=X as an argument.\n",
      "  return self._call_impl(*args, **kwargs)\n",
      "C:\\Users\\user\\AppData\\Local\\Packages\\PythonSoftwareFoundation.Python.3.12_qbz5n2kfra8p0\\LocalCache\\local-packages\\Python312\\site-packages\\torch\\nn\\modules\\module.py:1736: UserWarning: Implicit dimension choice for softmax has been deprecated. Change the call to include dim=X as an argument.\n",
      "  return self._call_impl(*args, **kwargs)\n"
     ]
    },
    {
     "name": "stdout",
     "output_type": "stream",
     "text": [
      "Hidden Layers: [4], Activation: Softmax, Epochs: 10, LR: 0.01, Batch Size: 128, Accuracy: 0.2000\n",
      "Hidden Layers: [4], Activation: Softmax, Epochs: 10, LR: 0.01, Batch Size: 256, Accuracy: 0.1846\n",
      "Hidden Layers: [4], Activation: Softmax, Epochs: 10, LR: 0.01, Batch Size: 512, Accuracy: 0.1308\n"
     ]
    },
    {
     "name": "stderr",
     "output_type": "stream",
     "text": [
      "C:\\Users\\user\\AppData\\Local\\Packages\\PythonSoftwareFoundation.Python.3.12_qbz5n2kfra8p0\\LocalCache\\local-packages\\Python312\\site-packages\\torch\\nn\\modules\\module.py:1736: UserWarning: Implicit dimension choice for softmax has been deprecated. Change the call to include dim=X as an argument.\n",
      "  return self._call_impl(*args, **kwargs)\n",
      "C:\\Users\\user\\AppData\\Local\\Packages\\PythonSoftwareFoundation.Python.3.12_qbz5n2kfra8p0\\LocalCache\\local-packages\\Python312\\site-packages\\torch\\nn\\modules\\module.py:1736: UserWarning: Implicit dimension choice for softmax has been deprecated. Change the call to include dim=X as an argument.\n",
      "  return self._call_impl(*args, **kwargs)\n",
      "C:\\Users\\user\\AppData\\Local\\Packages\\PythonSoftwareFoundation.Python.3.12_qbz5n2kfra8p0\\LocalCache\\local-packages\\Python312\\site-packages\\torch\\nn\\modules\\module.py:1736: UserWarning: Implicit dimension choice for softmax has been deprecated. Change the call to include dim=X as an argument.\n",
      "  return self._call_impl(*args, **kwargs)\n"
     ]
    },
    {
     "name": "stdout",
     "output_type": "stream",
     "text": [
      "Hidden Layers: [4], Activation: Softmax, Epochs: 10, LR: 0.001, Batch Size: 16, Accuracy: 0.1846\n"
     ]
    },
    {
     "name": "stderr",
     "output_type": "stream",
     "text": [
      "C:\\Users\\user\\AppData\\Local\\Packages\\PythonSoftwareFoundation.Python.3.12_qbz5n2kfra8p0\\LocalCache\\local-packages\\Python312\\site-packages\\torch\\nn\\modules\\module.py:1736: UserWarning: Implicit dimension choice for softmax has been deprecated. Change the call to include dim=X as an argument.\n",
      "  return self._call_impl(*args, **kwargs)\n"
     ]
    },
    {
     "name": "stdout",
     "output_type": "stream",
     "text": [
      "Hidden Layers: [4], Activation: Softmax, Epochs: 10, LR: 0.001, Batch Size: 32, Accuracy: 0.1538\n",
      "Hidden Layers: [4], Activation: Softmax, Epochs: 10, LR: 0.001, Batch Size: 64, Accuracy: 0.0692\n"
     ]
    },
    {
     "name": "stderr",
     "output_type": "stream",
     "text": [
      "C:\\Users\\user\\AppData\\Local\\Packages\\PythonSoftwareFoundation.Python.3.12_qbz5n2kfra8p0\\LocalCache\\local-packages\\Python312\\site-packages\\torch\\nn\\modules\\module.py:1736: UserWarning: Implicit dimension choice for softmax has been deprecated. Change the call to include dim=X as an argument.\n",
      "  return self._call_impl(*args, **kwargs)\n",
      "C:\\Users\\user\\AppData\\Local\\Packages\\PythonSoftwareFoundation.Python.3.12_qbz5n2kfra8p0\\LocalCache\\local-packages\\Python312\\site-packages\\torch\\nn\\modules\\module.py:1736: UserWarning: Implicit dimension choice for softmax has been deprecated. Change the call to include dim=X as an argument.\n",
      "  return self._call_impl(*args, **kwargs)\n"
     ]
    },
    {
     "name": "stdout",
     "output_type": "stream",
     "text": [
      "Hidden Layers: [4], Activation: Softmax, Epochs: 10, LR: 0.001, Batch Size: 128, Accuracy: 0.1000\n",
      "Hidden Layers: [4], Activation: Softmax, Epochs: 10, LR: 0.001, Batch Size: 256, Accuracy: 0.1308\n",
      "Hidden Layers: [4], Activation: Softmax, Epochs: 10, LR: 0.001, Batch Size: 512, Accuracy: 0.0692\n"
     ]
    },
    {
     "name": "stderr",
     "output_type": "stream",
     "text": [
      "C:\\Users\\user\\AppData\\Local\\Packages\\PythonSoftwareFoundation.Python.3.12_qbz5n2kfra8p0\\LocalCache\\local-packages\\Python312\\site-packages\\torch\\nn\\modules\\module.py:1736: UserWarning: Implicit dimension choice for softmax has been deprecated. Change the call to include dim=X as an argument.\n",
      "  return self._call_impl(*args, **kwargs)\n",
      "C:\\Users\\user\\AppData\\Local\\Packages\\PythonSoftwareFoundation.Python.3.12_qbz5n2kfra8p0\\LocalCache\\local-packages\\Python312\\site-packages\\torch\\nn\\modules\\module.py:1736: UserWarning: Implicit dimension choice for softmax has been deprecated. Change the call to include dim=X as an argument.\n",
      "  return self._call_impl(*args, **kwargs)\n",
      "C:\\Users\\user\\AppData\\Local\\Packages\\PythonSoftwareFoundation.Python.3.12_qbz5n2kfra8p0\\LocalCache\\local-packages\\Python312\\site-packages\\torch\\nn\\modules\\module.py:1736: UserWarning: Implicit dimension choice for softmax has been deprecated. Change the call to include dim=X as an argument.\n",
      "  return self._call_impl(*args, **kwargs)\n"
     ]
    },
    {
     "name": "stdout",
     "output_type": "stream",
     "text": [
      "Hidden Layers: [4], Activation: Softmax, Epochs: 10, LR: 0.0001, Batch Size: 16, Accuracy: 0.0308\n"
     ]
    },
    {
     "name": "stderr",
     "output_type": "stream",
     "text": [
      "C:\\Users\\user\\AppData\\Local\\Packages\\PythonSoftwareFoundation.Python.3.12_qbz5n2kfra8p0\\LocalCache\\local-packages\\Python312\\site-packages\\torch\\nn\\modules\\module.py:1736: UserWarning: Implicit dimension choice for softmax has been deprecated. Change the call to include dim=X as an argument.\n",
      "  return self._call_impl(*args, **kwargs)\n"
     ]
    },
    {
     "name": "stdout",
     "output_type": "stream",
     "text": [
      "Hidden Layers: [4], Activation: Softmax, Epochs: 10, LR: 0.0001, Batch Size: 32, Accuracy: 0.0923\n",
      "Hidden Layers: [4], Activation: Softmax, Epochs: 10, LR: 0.0001, Batch Size: 64, Accuracy: 0.0538\n"
     ]
    },
    {
     "name": "stderr",
     "output_type": "stream",
     "text": [
      "C:\\Users\\user\\AppData\\Local\\Packages\\PythonSoftwareFoundation.Python.3.12_qbz5n2kfra8p0\\LocalCache\\local-packages\\Python312\\site-packages\\torch\\nn\\modules\\module.py:1736: UserWarning: Implicit dimension choice for softmax has been deprecated. Change the call to include dim=X as an argument.\n",
      "  return self._call_impl(*args, **kwargs)\n",
      "C:\\Users\\user\\AppData\\Local\\Packages\\PythonSoftwareFoundation.Python.3.12_qbz5n2kfra8p0\\LocalCache\\local-packages\\Python312\\site-packages\\torch\\nn\\modules\\module.py:1736: UserWarning: Implicit dimension choice for softmax has been deprecated. Change the call to include dim=X as an argument.\n",
      "  return self._call_impl(*args, **kwargs)\n"
     ]
    },
    {
     "name": "stdout",
     "output_type": "stream",
     "text": [
      "Hidden Layers: [4], Activation: Softmax, Epochs: 10, LR: 0.0001, Batch Size: 128, Accuracy: 0.0692\n",
      "Hidden Layers: [4], Activation: Softmax, Epochs: 10, LR: 0.0001, Batch Size: 256, Accuracy: 0.0538\n",
      "Hidden Layers: [4], Activation: Softmax, Epochs: 10, LR: 0.0001, Batch Size: 512, Accuracy: 0.1923\n"
     ]
    },
    {
     "name": "stderr",
     "output_type": "stream",
     "text": [
      "C:\\Users\\user\\AppData\\Local\\Packages\\PythonSoftwareFoundation.Python.3.12_qbz5n2kfra8p0\\LocalCache\\local-packages\\Python312\\site-packages\\torch\\nn\\modules\\module.py:1736: UserWarning: Implicit dimension choice for softmax has been deprecated. Change the call to include dim=X as an argument.\n",
      "  return self._call_impl(*args, **kwargs)\n",
      "C:\\Users\\user\\AppData\\Local\\Packages\\PythonSoftwareFoundation.Python.3.12_qbz5n2kfra8p0\\LocalCache\\local-packages\\Python312\\site-packages\\torch\\nn\\modules\\module.py:1736: UserWarning: Implicit dimension choice for softmax has been deprecated. Change the call to include dim=X as an argument.\n",
      "  return self._call_impl(*args, **kwargs)\n",
      "C:\\Users\\user\\AppData\\Local\\Packages\\PythonSoftwareFoundation.Python.3.12_qbz5n2kfra8p0\\LocalCache\\local-packages\\Python312\\site-packages\\torch\\nn\\modules\\module.py:1736: UserWarning: Implicit dimension choice for softmax has been deprecated. Change the call to include dim=X as an argument.\n",
      "  return self._call_impl(*args, **kwargs)\n"
     ]
    },
    {
     "name": "stdout",
     "output_type": "stream",
     "text": [
      "Hidden Layers: [4], Activation: Softmax, Epochs: 25, LR: 10, Batch Size: 16, Accuracy: 0.1231\n"
     ]
    },
    {
     "name": "stderr",
     "output_type": "stream",
     "text": [
      "C:\\Users\\user\\AppData\\Local\\Packages\\PythonSoftwareFoundation.Python.3.12_qbz5n2kfra8p0\\LocalCache\\local-packages\\Python312\\site-packages\\torch\\nn\\modules\\module.py:1736: UserWarning: Implicit dimension choice for softmax has been deprecated. Change the call to include dim=X as an argument.\n",
      "  return self._call_impl(*args, **kwargs)\n"
     ]
    },
    {
     "name": "stdout",
     "output_type": "stream",
     "text": [
      "Hidden Layers: [4], Activation: Softmax, Epochs: 25, LR: 10, Batch Size: 32, Accuracy: 0.1923\n"
     ]
    },
    {
     "name": "stderr",
     "output_type": "stream",
     "text": [
      "C:\\Users\\user\\AppData\\Local\\Packages\\PythonSoftwareFoundation.Python.3.12_qbz5n2kfra8p0\\LocalCache\\local-packages\\Python312\\site-packages\\torch\\nn\\modules\\module.py:1736: UserWarning: Implicit dimension choice for softmax has been deprecated. Change the call to include dim=X as an argument.\n",
      "  return self._call_impl(*args, **kwargs)\n"
     ]
    },
    {
     "name": "stdout",
     "output_type": "stream",
     "text": [
      "Hidden Layers: [4], Activation: Softmax, Epochs: 25, LR: 10, Batch Size: 64, Accuracy: 0.1923\n"
     ]
    },
    {
     "name": "stderr",
     "output_type": "stream",
     "text": [
      "C:\\Users\\user\\AppData\\Local\\Packages\\PythonSoftwareFoundation.Python.3.12_qbz5n2kfra8p0\\LocalCache\\local-packages\\Python312\\site-packages\\torch\\nn\\modules\\module.py:1736: UserWarning: Implicit dimension choice for softmax has been deprecated. Change the call to include dim=X as an argument.\n",
      "  return self._call_impl(*args, **kwargs)\n"
     ]
    },
    {
     "name": "stdout",
     "output_type": "stream",
     "text": [
      "Hidden Layers: [4], Activation: Softmax, Epochs: 25, LR: 10, Batch Size: 128, Accuracy: 0.1615\n",
      "Hidden Layers: [4], Activation: Softmax, Epochs: 25, LR: 10, Batch Size: 256, Accuracy: 0.1769\n"
     ]
    },
    {
     "name": "stderr",
     "output_type": "stream",
     "text": [
      "C:\\Users\\user\\AppData\\Local\\Packages\\PythonSoftwareFoundation.Python.3.12_qbz5n2kfra8p0\\LocalCache\\local-packages\\Python312\\site-packages\\torch\\nn\\modules\\module.py:1736: UserWarning: Implicit dimension choice for softmax has been deprecated. Change the call to include dim=X as an argument.\n",
      "  return self._call_impl(*args, **kwargs)\n",
      "C:\\Users\\user\\AppData\\Local\\Packages\\PythonSoftwareFoundation.Python.3.12_qbz5n2kfra8p0\\LocalCache\\local-packages\\Python312\\site-packages\\torch\\nn\\modules\\module.py:1736: UserWarning: Implicit dimension choice for softmax has been deprecated. Change the call to include dim=X as an argument.\n",
      "  return self._call_impl(*args, **kwargs)\n"
     ]
    },
    {
     "name": "stdout",
     "output_type": "stream",
     "text": [
      "Hidden Layers: [4], Activation: Softmax, Epochs: 25, LR: 10, Batch Size: 512, Accuracy: 0.0692\n"
     ]
    },
    {
     "name": "stderr",
     "output_type": "stream",
     "text": [
      "C:\\Users\\user\\AppData\\Local\\Packages\\PythonSoftwareFoundation.Python.3.12_qbz5n2kfra8p0\\LocalCache\\local-packages\\Python312\\site-packages\\torch\\nn\\modules\\module.py:1736: UserWarning: Implicit dimension choice for softmax has been deprecated. Change the call to include dim=X as an argument.\n",
      "  return self._call_impl(*args, **kwargs)\n"
     ]
    },
    {
     "name": "stdout",
     "output_type": "stream",
     "text": [
      "Hidden Layers: [4], Activation: Softmax, Epochs: 25, LR: 1, Batch Size: 16, Accuracy: 0.1308\n"
     ]
    },
    {
     "name": "stderr",
     "output_type": "stream",
     "text": [
      "C:\\Users\\user\\AppData\\Local\\Packages\\PythonSoftwareFoundation.Python.3.12_qbz5n2kfra8p0\\LocalCache\\local-packages\\Python312\\site-packages\\torch\\nn\\modules\\module.py:1736: UserWarning: Implicit dimension choice for softmax has been deprecated. Change the call to include dim=X as an argument.\n",
      "  return self._call_impl(*args, **kwargs)\n"
     ]
    },
    {
     "name": "stdout",
     "output_type": "stream",
     "text": [
      "Hidden Layers: [4], Activation: Softmax, Epochs: 25, LR: 1, Batch Size: 32, Accuracy: 0.1308\n"
     ]
    },
    {
     "name": "stderr",
     "output_type": "stream",
     "text": [
      "C:\\Users\\user\\AppData\\Local\\Packages\\PythonSoftwareFoundation.Python.3.12_qbz5n2kfra8p0\\LocalCache\\local-packages\\Python312\\site-packages\\torch\\nn\\modules\\module.py:1736: UserWarning: Implicit dimension choice for softmax has been deprecated. Change the call to include dim=X as an argument.\n",
      "  return self._call_impl(*args, **kwargs)\n"
     ]
    },
    {
     "name": "stdout",
     "output_type": "stream",
     "text": [
      "Hidden Layers: [4], Activation: Softmax, Epochs: 25, LR: 1, Batch Size: 64, Accuracy: 0.1462\n"
     ]
    },
    {
     "name": "stderr",
     "output_type": "stream",
     "text": [
      "C:\\Users\\user\\AppData\\Local\\Packages\\PythonSoftwareFoundation.Python.3.12_qbz5n2kfra8p0\\LocalCache\\local-packages\\Python312\\site-packages\\torch\\nn\\modules\\module.py:1736: UserWarning: Implicit dimension choice for softmax has been deprecated. Change the call to include dim=X as an argument.\n",
      "  return self._call_impl(*args, **kwargs)\n"
     ]
    },
    {
     "name": "stdout",
     "output_type": "stream",
     "text": [
      "Hidden Layers: [4], Activation: Softmax, Epochs: 25, LR: 1, Batch Size: 128, Accuracy: 0.2154\n"
     ]
    },
    {
     "name": "stderr",
     "output_type": "stream",
     "text": [
      "C:\\Users\\user\\AppData\\Local\\Packages\\PythonSoftwareFoundation.Python.3.12_qbz5n2kfra8p0\\LocalCache\\local-packages\\Python312\\site-packages\\torch\\nn\\modules\\module.py:1736: UserWarning: Implicit dimension choice for softmax has been deprecated. Change the call to include dim=X as an argument.\n",
      "  return self._call_impl(*args, **kwargs)\n"
     ]
    },
    {
     "name": "stdout",
     "output_type": "stream",
     "text": [
      "Hidden Layers: [4], Activation: Softmax, Epochs: 25, LR: 1, Batch Size: 256, Accuracy: 0.1923\n"
     ]
    },
    {
     "name": "stderr",
     "output_type": "stream",
     "text": [
      "C:\\Users\\user\\AppData\\Local\\Packages\\PythonSoftwareFoundation.Python.3.12_qbz5n2kfra8p0\\LocalCache\\local-packages\\Python312\\site-packages\\torch\\nn\\modules\\module.py:1736: UserWarning: Implicit dimension choice for softmax has been deprecated. Change the call to include dim=X as an argument.\n",
      "  return self._call_impl(*args, **kwargs)\n"
     ]
    },
    {
     "name": "stdout",
     "output_type": "stream",
     "text": [
      "Hidden Layers: [4], Activation: Softmax, Epochs: 25, LR: 1, Batch Size: 512, Accuracy: 0.1769\n"
     ]
    },
    {
     "name": "stderr",
     "output_type": "stream",
     "text": [
      "C:\\Users\\user\\AppData\\Local\\Packages\\PythonSoftwareFoundation.Python.3.12_qbz5n2kfra8p0\\LocalCache\\local-packages\\Python312\\site-packages\\torch\\nn\\modules\\module.py:1736: UserWarning: Implicit dimension choice for softmax has been deprecated. Change the call to include dim=X as an argument.\n",
      "  return self._call_impl(*args, **kwargs)\n"
     ]
    },
    {
     "name": "stdout",
     "output_type": "stream",
     "text": [
      "Hidden Layers: [4], Activation: Softmax, Epochs: 25, LR: 0.1, Batch Size: 16, Accuracy: 0.2154\n"
     ]
    },
    {
     "name": "stderr",
     "output_type": "stream",
     "text": [
      "C:\\Users\\user\\AppData\\Local\\Packages\\PythonSoftwareFoundation.Python.3.12_qbz5n2kfra8p0\\LocalCache\\local-packages\\Python312\\site-packages\\torch\\nn\\modules\\module.py:1736: UserWarning: Implicit dimension choice for softmax has been deprecated. Change the call to include dim=X as an argument.\n",
      "  return self._call_impl(*args, **kwargs)\n"
     ]
    },
    {
     "name": "stdout",
     "output_type": "stream",
     "text": [
      "Hidden Layers: [4], Activation: Softmax, Epochs: 25, LR: 0.1, Batch Size: 32, Accuracy: 0.2692\n"
     ]
    },
    {
     "name": "stderr",
     "output_type": "stream",
     "text": [
      "C:\\Users\\user\\AppData\\Local\\Packages\\PythonSoftwareFoundation.Python.3.12_qbz5n2kfra8p0\\LocalCache\\local-packages\\Python312\\site-packages\\torch\\nn\\modules\\module.py:1736: UserWarning: Implicit dimension choice for softmax has been deprecated. Change the call to include dim=X as an argument.\n",
      "  return self._call_impl(*args, **kwargs)\n"
     ]
    },
    {
     "name": "stdout",
     "output_type": "stream",
     "text": [
      "Hidden Layers: [4], Activation: Softmax, Epochs: 25, LR: 0.1, Batch Size: 64, Accuracy: 0.3077\n"
     ]
    },
    {
     "name": "stderr",
     "output_type": "stream",
     "text": [
      "C:\\Users\\user\\AppData\\Local\\Packages\\PythonSoftwareFoundation.Python.3.12_qbz5n2kfra8p0\\LocalCache\\local-packages\\Python312\\site-packages\\torch\\nn\\modules\\module.py:1736: UserWarning: Implicit dimension choice for softmax has been deprecated. Change the call to include dim=X as an argument.\n",
      "  return self._call_impl(*args, **kwargs)\n"
     ]
    },
    {
     "name": "stdout",
     "output_type": "stream",
     "text": [
      "Hidden Layers: [4], Activation: Softmax, Epochs: 25, LR: 0.1, Batch Size: 128, Accuracy: 0.2769\n"
     ]
    },
    {
     "name": "stderr",
     "output_type": "stream",
     "text": [
      "C:\\Users\\user\\AppData\\Local\\Packages\\PythonSoftwareFoundation.Python.3.12_qbz5n2kfra8p0\\LocalCache\\local-packages\\Python312\\site-packages\\torch\\nn\\modules\\module.py:1736: UserWarning: Implicit dimension choice for softmax has been deprecated. Change the call to include dim=X as an argument.\n",
      "  return self._call_impl(*args, **kwargs)\n"
     ]
    },
    {
     "name": "stdout",
     "output_type": "stream",
     "text": [
      "Hidden Layers: [4], Activation: Softmax, Epochs: 25, LR: 0.1, Batch Size: 256, Accuracy: 0.2615\n",
      "Hidden Layers: [4], Activation: Softmax, Epochs: 25, LR: 0.1, Batch Size: 512, Accuracy: 0.2692\n"
     ]
    },
    {
     "name": "stderr",
     "output_type": "stream",
     "text": [
      "C:\\Users\\user\\AppData\\Local\\Packages\\PythonSoftwareFoundation.Python.3.12_qbz5n2kfra8p0\\LocalCache\\local-packages\\Python312\\site-packages\\torch\\nn\\modules\\module.py:1736: UserWarning: Implicit dimension choice for softmax has been deprecated. Change the call to include dim=X as an argument.\n",
      "  return self._call_impl(*args, **kwargs)\n",
      "C:\\Users\\user\\AppData\\Local\\Packages\\PythonSoftwareFoundation.Python.3.12_qbz5n2kfra8p0\\LocalCache\\local-packages\\Python312\\site-packages\\torch\\nn\\modules\\module.py:1736: UserWarning: Implicit dimension choice for softmax has been deprecated. Change the call to include dim=X as an argument.\n",
      "  return self._call_impl(*args, **kwargs)\n"
     ]
    },
    {
     "name": "stdout",
     "output_type": "stream",
     "text": [
      "Hidden Layers: [4], Activation: Softmax, Epochs: 25, LR: 0.01, Batch Size: 16, Accuracy: 0.2923\n"
     ]
    },
    {
     "name": "stderr",
     "output_type": "stream",
     "text": [
      "C:\\Users\\user\\AppData\\Local\\Packages\\PythonSoftwareFoundation.Python.3.12_qbz5n2kfra8p0\\LocalCache\\local-packages\\Python312\\site-packages\\torch\\nn\\modules\\module.py:1736: UserWarning: Implicit dimension choice for softmax has been deprecated. Change the call to include dim=X as an argument.\n",
      "  return self._call_impl(*args, **kwargs)\n"
     ]
    },
    {
     "name": "stdout",
     "output_type": "stream",
     "text": [
      "Hidden Layers: [4], Activation: Softmax, Epochs: 25, LR: 0.01, Batch Size: 32, Accuracy: 0.2538\n"
     ]
    },
    {
     "name": "stderr",
     "output_type": "stream",
     "text": [
      "C:\\Users\\user\\AppData\\Local\\Packages\\PythonSoftwareFoundation.Python.3.12_qbz5n2kfra8p0\\LocalCache\\local-packages\\Python312\\site-packages\\torch\\nn\\modules\\module.py:1736: UserWarning: Implicit dimension choice for softmax has been deprecated. Change the call to include dim=X as an argument.\n",
      "  return self._call_impl(*args, **kwargs)\n"
     ]
    },
    {
     "name": "stdout",
     "output_type": "stream",
     "text": [
      "Hidden Layers: [4], Activation: Softmax, Epochs: 25, LR: 0.01, Batch Size: 64, Accuracy: 0.2615\n"
     ]
    },
    {
     "name": "stderr",
     "output_type": "stream",
     "text": [
      "C:\\Users\\user\\AppData\\Local\\Packages\\PythonSoftwareFoundation.Python.3.12_qbz5n2kfra8p0\\LocalCache\\local-packages\\Python312\\site-packages\\torch\\nn\\modules\\module.py:1736: UserWarning: Implicit dimension choice for softmax has been deprecated. Change the call to include dim=X as an argument.\n",
      "  return self._call_impl(*args, **kwargs)\n"
     ]
    },
    {
     "name": "stdout",
     "output_type": "stream",
     "text": [
      "Hidden Layers: [4], Activation: Softmax, Epochs: 25, LR: 0.01, Batch Size: 128, Accuracy: 0.2615\n"
     ]
    },
    {
     "name": "stderr",
     "output_type": "stream",
     "text": [
      "C:\\Users\\user\\AppData\\Local\\Packages\\PythonSoftwareFoundation.Python.3.12_qbz5n2kfra8p0\\LocalCache\\local-packages\\Python312\\site-packages\\torch\\nn\\modules\\module.py:1736: UserWarning: Implicit dimension choice for softmax has been deprecated. Change the call to include dim=X as an argument.\n",
      "  return self._call_impl(*args, **kwargs)\n"
     ]
    },
    {
     "name": "stdout",
     "output_type": "stream",
     "text": [
      "Hidden Layers: [4], Activation: Softmax, Epochs: 25, LR: 0.01, Batch Size: 256, Accuracy: 0.2000\n"
     ]
    },
    {
     "name": "stderr",
     "output_type": "stream",
     "text": [
      "C:\\Users\\user\\AppData\\Local\\Packages\\PythonSoftwareFoundation.Python.3.12_qbz5n2kfra8p0\\LocalCache\\local-packages\\Python312\\site-packages\\torch\\nn\\modules\\module.py:1736: UserWarning: Implicit dimension choice for softmax has been deprecated. Change the call to include dim=X as an argument.\n",
      "  return self._call_impl(*args, **kwargs)\n"
     ]
    },
    {
     "name": "stdout",
     "output_type": "stream",
     "text": [
      "Hidden Layers: [4], Activation: Softmax, Epochs: 25, LR: 0.01, Batch Size: 512, Accuracy: 0.1846\n"
     ]
    },
    {
     "name": "stderr",
     "output_type": "stream",
     "text": [
      "C:\\Users\\user\\AppData\\Local\\Packages\\PythonSoftwareFoundation.Python.3.12_qbz5n2kfra8p0\\LocalCache\\local-packages\\Python312\\site-packages\\torch\\nn\\modules\\module.py:1736: UserWarning: Implicit dimension choice for softmax has been deprecated. Change the call to include dim=X as an argument.\n",
      "  return self._call_impl(*args, **kwargs)\n"
     ]
    },
    {
     "name": "stdout",
     "output_type": "stream",
     "text": [
      "Hidden Layers: [4], Activation: Softmax, Epochs: 25, LR: 0.001, Batch Size: 16, Accuracy: 0.2077\n"
     ]
    },
    {
     "name": "stderr",
     "output_type": "stream",
     "text": [
      "C:\\Users\\user\\AppData\\Local\\Packages\\PythonSoftwareFoundation.Python.3.12_qbz5n2kfra8p0\\LocalCache\\local-packages\\Python312\\site-packages\\torch\\nn\\modules\\module.py:1736: UserWarning: Implicit dimension choice for softmax has been deprecated. Change the call to include dim=X as an argument.\n",
      "  return self._call_impl(*args, **kwargs)\n"
     ]
    },
    {
     "name": "stdout",
     "output_type": "stream",
     "text": [
      "Hidden Layers: [4], Activation: Softmax, Epochs: 25, LR: 0.001, Batch Size: 32, Accuracy: 0.1923\n"
     ]
    },
    {
     "name": "stderr",
     "output_type": "stream",
     "text": [
      "C:\\Users\\user\\AppData\\Local\\Packages\\PythonSoftwareFoundation.Python.3.12_qbz5n2kfra8p0\\LocalCache\\local-packages\\Python312\\site-packages\\torch\\nn\\modules\\module.py:1736: UserWarning: Implicit dimension choice for softmax has been deprecated. Change the call to include dim=X as an argument.\n",
      "  return self._call_impl(*args, **kwargs)\n"
     ]
    },
    {
     "name": "stdout",
     "output_type": "stream",
     "text": [
      "Hidden Layers: [4], Activation: Softmax, Epochs: 25, LR: 0.001, Batch Size: 64, Accuracy: 0.2000\n"
     ]
    },
    {
     "name": "stderr",
     "output_type": "stream",
     "text": [
      "C:\\Users\\user\\AppData\\Local\\Packages\\PythonSoftwareFoundation.Python.3.12_qbz5n2kfra8p0\\LocalCache\\local-packages\\Python312\\site-packages\\torch\\nn\\modules\\module.py:1736: UserWarning: Implicit dimension choice for softmax has been deprecated. Change the call to include dim=X as an argument.\n",
      "  return self._call_impl(*args, **kwargs)\n"
     ]
    },
    {
     "name": "stdout",
     "output_type": "stream",
     "text": [
      "Hidden Layers: [4], Activation: Softmax, Epochs: 25, LR: 0.001, Batch Size: 128, Accuracy: 0.1308\n"
     ]
    },
    {
     "name": "stderr",
     "output_type": "stream",
     "text": [
      "C:\\Users\\user\\AppData\\Local\\Packages\\PythonSoftwareFoundation.Python.3.12_qbz5n2kfra8p0\\LocalCache\\local-packages\\Python312\\site-packages\\torch\\nn\\modules\\module.py:1736: UserWarning: Implicit dimension choice for softmax has been deprecated. Change the call to include dim=X as an argument.\n",
      "  return self._call_impl(*args, **kwargs)\n"
     ]
    },
    {
     "name": "stdout",
     "output_type": "stream",
     "text": [
      "Hidden Layers: [4], Activation: Softmax, Epochs: 25, LR: 0.001, Batch Size: 256, Accuracy: 0.1231\n"
     ]
    },
    {
     "name": "stderr",
     "output_type": "stream",
     "text": [
      "C:\\Users\\user\\AppData\\Local\\Packages\\PythonSoftwareFoundation.Python.3.12_qbz5n2kfra8p0\\LocalCache\\local-packages\\Python312\\site-packages\\torch\\nn\\modules\\module.py:1736: UserWarning: Implicit dimension choice for softmax has been deprecated. Change the call to include dim=X as an argument.\n",
      "  return self._call_impl(*args, **kwargs)\n"
     ]
    },
    {
     "name": "stdout",
     "output_type": "stream",
     "text": [
      "Hidden Layers: [4], Activation: Softmax, Epochs: 25, LR: 0.001, Batch Size: 512, Accuracy: 0.0923\n"
     ]
    },
    {
     "name": "stderr",
     "output_type": "stream",
     "text": [
      "C:\\Users\\user\\AppData\\Local\\Packages\\PythonSoftwareFoundation.Python.3.12_qbz5n2kfra8p0\\LocalCache\\local-packages\\Python312\\site-packages\\torch\\nn\\modules\\module.py:1736: UserWarning: Implicit dimension choice for softmax has been deprecated. Change the call to include dim=X as an argument.\n",
      "  return self._call_impl(*args, **kwargs)\n"
     ]
    },
    {
     "name": "stdout",
     "output_type": "stream",
     "text": [
      "Hidden Layers: [4], Activation: Softmax, Epochs: 25, LR: 0.0001, Batch Size: 16, Accuracy: 0.1231\n"
     ]
    },
    {
     "name": "stderr",
     "output_type": "stream",
     "text": [
      "C:\\Users\\user\\AppData\\Local\\Packages\\PythonSoftwareFoundation.Python.3.12_qbz5n2kfra8p0\\LocalCache\\local-packages\\Python312\\site-packages\\torch\\nn\\modules\\module.py:1736: UserWarning: Implicit dimension choice for softmax has been deprecated. Change the call to include dim=X as an argument.\n",
      "  return self._call_impl(*args, **kwargs)\n"
     ]
    },
    {
     "name": "stdout",
     "output_type": "stream",
     "text": [
      "Hidden Layers: [4], Activation: Softmax, Epochs: 25, LR: 0.0001, Batch Size: 32, Accuracy: 0.1538\n"
     ]
    },
    {
     "name": "stderr",
     "output_type": "stream",
     "text": [
      "C:\\Users\\user\\AppData\\Local\\Packages\\PythonSoftwareFoundation.Python.3.12_qbz5n2kfra8p0\\LocalCache\\local-packages\\Python312\\site-packages\\torch\\nn\\modules\\module.py:1736: UserWarning: Implicit dimension choice for softmax has been deprecated. Change the call to include dim=X as an argument.\n",
      "  return self._call_impl(*args, **kwargs)\n"
     ]
    },
    {
     "name": "stdout",
     "output_type": "stream",
     "text": [
      "Hidden Layers: [4], Activation: Softmax, Epochs: 25, LR: 0.0001, Batch Size: 64, Accuracy: 0.1000\n"
     ]
    },
    {
     "name": "stderr",
     "output_type": "stream",
     "text": [
      "C:\\Users\\user\\AppData\\Local\\Packages\\PythonSoftwareFoundation.Python.3.12_qbz5n2kfra8p0\\LocalCache\\local-packages\\Python312\\site-packages\\torch\\nn\\modules\\module.py:1736: UserWarning: Implicit dimension choice for softmax has been deprecated. Change the call to include dim=X as an argument.\n",
      "  return self._call_impl(*args, **kwargs)\n"
     ]
    },
    {
     "name": "stdout",
     "output_type": "stream",
     "text": [
      "Hidden Layers: [4], Activation: Softmax, Epochs: 25, LR: 0.0001, Batch Size: 128, Accuracy: 0.0385\n"
     ]
    },
    {
     "name": "stderr",
     "output_type": "stream",
     "text": [
      "C:\\Users\\user\\AppData\\Local\\Packages\\PythonSoftwareFoundation.Python.3.12_qbz5n2kfra8p0\\LocalCache\\local-packages\\Python312\\site-packages\\torch\\nn\\modules\\module.py:1736: UserWarning: Implicit dimension choice for softmax has been deprecated. Change the call to include dim=X as an argument.\n",
      "  return self._call_impl(*args, **kwargs)\n"
     ]
    },
    {
     "name": "stdout",
     "output_type": "stream",
     "text": [
      "Hidden Layers: [4], Activation: Softmax, Epochs: 25, LR: 0.0001, Batch Size: 256, Accuracy: 0.0000\n",
      "Hidden Layers: [4], Activation: Softmax, Epochs: 25, LR: 0.0001, Batch Size: 512, Accuracy: 0.0385\n"
     ]
    },
    {
     "name": "stderr",
     "output_type": "stream",
     "text": [
      "C:\\Users\\user\\AppData\\Local\\Packages\\PythonSoftwareFoundation.Python.3.12_qbz5n2kfra8p0\\LocalCache\\local-packages\\Python312\\site-packages\\torch\\nn\\modules\\module.py:1736: UserWarning: Implicit dimension choice for softmax has been deprecated. Change the call to include dim=X as an argument.\n",
      "  return self._call_impl(*args, **kwargs)\n",
      "C:\\Users\\user\\AppData\\Local\\Packages\\PythonSoftwareFoundation.Python.3.12_qbz5n2kfra8p0\\LocalCache\\local-packages\\Python312\\site-packages\\torch\\nn\\modules\\module.py:1736: UserWarning: Implicit dimension choice for softmax has been deprecated. Change the call to include dim=X as an argument.\n",
      "  return self._call_impl(*args, **kwargs)\n"
     ]
    },
    {
     "name": "stdout",
     "output_type": "stream",
     "text": [
      "Hidden Layers: [4], Activation: Softmax, Epochs: 50, LR: 10, Batch Size: 16, Accuracy: 0.1923\n"
     ]
    },
    {
     "name": "stderr",
     "output_type": "stream",
     "text": [
      "C:\\Users\\user\\AppData\\Local\\Packages\\PythonSoftwareFoundation.Python.3.12_qbz5n2kfra8p0\\LocalCache\\local-packages\\Python312\\site-packages\\torch\\nn\\modules\\module.py:1736: UserWarning: Implicit dimension choice for softmax has been deprecated. Change the call to include dim=X as an argument.\n",
      "  return self._call_impl(*args, **kwargs)\n"
     ]
    },
    {
     "name": "stdout",
     "output_type": "stream",
     "text": [
      "Hidden Layers: [4], Activation: Softmax, Epochs: 50, LR: 10, Batch Size: 32, Accuracy: 0.1000\n"
     ]
    },
    {
     "name": "stderr",
     "output_type": "stream",
     "text": [
      "C:\\Users\\user\\AppData\\Local\\Packages\\PythonSoftwareFoundation.Python.3.12_qbz5n2kfra8p0\\LocalCache\\local-packages\\Python312\\site-packages\\torch\\nn\\modules\\module.py:1736: UserWarning: Implicit dimension choice for softmax has been deprecated. Change the call to include dim=X as an argument.\n",
      "  return self._call_impl(*args, **kwargs)\n"
     ]
    },
    {
     "name": "stdout",
     "output_type": "stream",
     "text": [
      "Hidden Layers: [4], Activation: Softmax, Epochs: 50, LR: 10, Batch Size: 64, Accuracy: 0.0538\n"
     ]
    },
    {
     "name": "stderr",
     "output_type": "stream",
     "text": [
      "C:\\Users\\user\\AppData\\Local\\Packages\\PythonSoftwareFoundation.Python.3.12_qbz5n2kfra8p0\\LocalCache\\local-packages\\Python312\\site-packages\\torch\\nn\\modules\\module.py:1736: UserWarning: Implicit dimension choice for softmax has been deprecated. Change the call to include dim=X as an argument.\n",
      "  return self._call_impl(*args, **kwargs)\n"
     ]
    },
    {
     "name": "stdout",
     "output_type": "stream",
     "text": [
      "Hidden Layers: [4], Activation: Softmax, Epochs: 50, LR: 10, Batch Size: 128, Accuracy: 0.1308\n"
     ]
    },
    {
     "name": "stderr",
     "output_type": "stream",
     "text": [
      "C:\\Users\\user\\AppData\\Local\\Packages\\PythonSoftwareFoundation.Python.3.12_qbz5n2kfra8p0\\LocalCache\\local-packages\\Python312\\site-packages\\torch\\nn\\modules\\module.py:1736: UserWarning: Implicit dimension choice for softmax has been deprecated. Change the call to include dim=X as an argument.\n",
      "  return self._call_impl(*args, **kwargs)\n"
     ]
    },
    {
     "name": "stdout",
     "output_type": "stream",
     "text": [
      "Hidden Layers: [4], Activation: Softmax, Epochs: 50, LR: 10, Batch Size: 256, Accuracy: 0.1231\n"
     ]
    },
    {
     "name": "stderr",
     "output_type": "stream",
     "text": [
      "C:\\Users\\user\\AppData\\Local\\Packages\\PythonSoftwareFoundation.Python.3.12_qbz5n2kfra8p0\\LocalCache\\local-packages\\Python312\\site-packages\\torch\\nn\\modules\\module.py:1736: UserWarning: Implicit dimension choice for softmax has been deprecated. Change the call to include dim=X as an argument.\n",
      "  return self._call_impl(*args, **kwargs)\n"
     ]
    },
    {
     "name": "stdout",
     "output_type": "stream",
     "text": [
      "Hidden Layers: [4], Activation: Softmax, Epochs: 50, LR: 10, Batch Size: 512, Accuracy: 0.0923\n"
     ]
    },
    {
     "name": "stderr",
     "output_type": "stream",
     "text": [
      "C:\\Users\\user\\AppData\\Local\\Packages\\PythonSoftwareFoundation.Python.3.12_qbz5n2kfra8p0\\LocalCache\\local-packages\\Python312\\site-packages\\torch\\nn\\modules\\module.py:1736: UserWarning: Implicit dimension choice for softmax has been deprecated. Change the call to include dim=X as an argument.\n",
      "  return self._call_impl(*args, **kwargs)\n"
     ]
    },
    {
     "name": "stdout",
     "output_type": "stream",
     "text": [
      "Hidden Layers: [4], Activation: Softmax, Epochs: 50, LR: 1, Batch Size: 16, Accuracy: 0.1923\n"
     ]
    },
    {
     "name": "stderr",
     "output_type": "stream",
     "text": [
      "C:\\Users\\user\\AppData\\Local\\Packages\\PythonSoftwareFoundation.Python.3.12_qbz5n2kfra8p0\\LocalCache\\local-packages\\Python312\\site-packages\\torch\\nn\\modules\\module.py:1736: UserWarning: Implicit dimension choice for softmax has been deprecated. Change the call to include dim=X as an argument.\n",
      "  return self._call_impl(*args, **kwargs)\n"
     ]
    },
    {
     "name": "stdout",
     "output_type": "stream",
     "text": [
      "Hidden Layers: [4], Activation: Softmax, Epochs: 50, LR: 1, Batch Size: 32, Accuracy: 0.2000\n"
     ]
    },
    {
     "name": "stderr",
     "output_type": "stream",
     "text": [
      "C:\\Users\\user\\AppData\\Local\\Packages\\PythonSoftwareFoundation.Python.3.12_qbz5n2kfra8p0\\LocalCache\\local-packages\\Python312\\site-packages\\torch\\nn\\modules\\module.py:1736: UserWarning: Implicit dimension choice for softmax has been deprecated. Change the call to include dim=X as an argument.\n",
      "  return self._call_impl(*args, **kwargs)\n"
     ]
    },
    {
     "name": "stdout",
     "output_type": "stream",
     "text": [
      "Hidden Layers: [4], Activation: Softmax, Epochs: 50, LR: 1, Batch Size: 64, Accuracy: 0.1923\n"
     ]
    },
    {
     "name": "stderr",
     "output_type": "stream",
     "text": [
      "C:\\Users\\user\\AppData\\Local\\Packages\\PythonSoftwareFoundation.Python.3.12_qbz5n2kfra8p0\\LocalCache\\local-packages\\Python312\\site-packages\\torch\\nn\\modules\\module.py:1736: UserWarning: Implicit dimension choice for softmax has been deprecated. Change the call to include dim=X as an argument.\n",
      "  return self._call_impl(*args, **kwargs)\n"
     ]
    },
    {
     "name": "stdout",
     "output_type": "stream",
     "text": [
      "Hidden Layers: [4], Activation: Softmax, Epochs: 50, LR: 1, Batch Size: 128, Accuracy: 0.1923\n"
     ]
    },
    {
     "name": "stderr",
     "output_type": "stream",
     "text": [
      "C:\\Users\\user\\AppData\\Local\\Packages\\PythonSoftwareFoundation.Python.3.12_qbz5n2kfra8p0\\LocalCache\\local-packages\\Python312\\site-packages\\torch\\nn\\modules\\module.py:1736: UserWarning: Implicit dimension choice for softmax has been deprecated. Change the call to include dim=X as an argument.\n",
      "  return self._call_impl(*args, **kwargs)\n"
     ]
    },
    {
     "name": "stdout",
     "output_type": "stream",
     "text": [
      "Hidden Layers: [4], Activation: Softmax, Epochs: 50, LR: 1, Batch Size: 256, Accuracy: 0.1615\n"
     ]
    },
    {
     "name": "stderr",
     "output_type": "stream",
     "text": [
      "C:\\Users\\user\\AppData\\Local\\Packages\\PythonSoftwareFoundation.Python.3.12_qbz5n2kfra8p0\\LocalCache\\local-packages\\Python312\\site-packages\\torch\\nn\\modules\\module.py:1736: UserWarning: Implicit dimension choice for softmax has been deprecated. Change the call to include dim=X as an argument.\n",
      "  return self._call_impl(*args, **kwargs)\n"
     ]
    },
    {
     "name": "stdout",
     "output_type": "stream",
     "text": [
      "Hidden Layers: [4], Activation: Softmax, Epochs: 50, LR: 1, Batch Size: 512, Accuracy: 0.1538\n"
     ]
    },
    {
     "name": "stderr",
     "output_type": "stream",
     "text": [
      "C:\\Users\\user\\AppData\\Local\\Packages\\PythonSoftwareFoundation.Python.3.12_qbz5n2kfra8p0\\LocalCache\\local-packages\\Python312\\site-packages\\torch\\nn\\modules\\module.py:1736: UserWarning: Implicit dimension choice for softmax has been deprecated. Change the call to include dim=X as an argument.\n",
      "  return self._call_impl(*args, **kwargs)\n"
     ]
    },
    {
     "name": "stdout",
     "output_type": "stream",
     "text": [
      "Hidden Layers: [4], Activation: Softmax, Epochs: 50, LR: 0.1, Batch Size: 16, Accuracy: 0.2231\n"
     ]
    },
    {
     "name": "stderr",
     "output_type": "stream",
     "text": [
      "C:\\Users\\user\\AppData\\Local\\Packages\\PythonSoftwareFoundation.Python.3.12_qbz5n2kfra8p0\\LocalCache\\local-packages\\Python312\\site-packages\\torch\\nn\\modules\\module.py:1736: UserWarning: Implicit dimension choice for softmax has been deprecated. Change the call to include dim=X as an argument.\n",
      "  return self._call_impl(*args, **kwargs)\n"
     ]
    },
    {
     "name": "stdout",
     "output_type": "stream",
     "text": [
      "Hidden Layers: [4], Activation: Softmax, Epochs: 50, LR: 0.1, Batch Size: 32, Accuracy: 0.3154\n"
     ]
    },
    {
     "name": "stderr",
     "output_type": "stream",
     "text": [
      "C:\\Users\\user\\AppData\\Local\\Packages\\PythonSoftwareFoundation.Python.3.12_qbz5n2kfra8p0\\LocalCache\\local-packages\\Python312\\site-packages\\torch\\nn\\modules\\module.py:1736: UserWarning: Implicit dimension choice for softmax has been deprecated. Change the call to include dim=X as an argument.\n",
      "  return self._call_impl(*args, **kwargs)\n"
     ]
    },
    {
     "name": "stdout",
     "output_type": "stream",
     "text": [
      "Hidden Layers: [4], Activation: Softmax, Epochs: 50, LR: 0.1, Batch Size: 64, Accuracy: 0.3154\n"
     ]
    },
    {
     "name": "stderr",
     "output_type": "stream",
     "text": [
      "C:\\Users\\user\\AppData\\Local\\Packages\\PythonSoftwareFoundation.Python.3.12_qbz5n2kfra8p0\\LocalCache\\local-packages\\Python312\\site-packages\\torch\\nn\\modules\\module.py:1736: UserWarning: Implicit dimension choice for softmax has been deprecated. Change the call to include dim=X as an argument.\n",
      "  return self._call_impl(*args, **kwargs)\n"
     ]
    },
    {
     "name": "stdout",
     "output_type": "stream",
     "text": [
      "Hidden Layers: [4], Activation: Softmax, Epochs: 50, LR: 0.1, Batch Size: 128, Accuracy: 0.3538\n"
     ]
    },
    {
     "name": "stderr",
     "output_type": "stream",
     "text": [
      "C:\\Users\\user\\AppData\\Local\\Packages\\PythonSoftwareFoundation.Python.3.12_qbz5n2kfra8p0\\LocalCache\\local-packages\\Python312\\site-packages\\torch\\nn\\modules\\module.py:1736: UserWarning: Implicit dimension choice for softmax has been deprecated. Change the call to include dim=X as an argument.\n",
      "  return self._call_impl(*args, **kwargs)\n"
     ]
    },
    {
     "name": "stdout",
     "output_type": "stream",
     "text": [
      "Hidden Layers: [4], Activation: Softmax, Epochs: 50, LR: 0.1, Batch Size: 256, Accuracy: 0.3000\n"
     ]
    },
    {
     "name": "stderr",
     "output_type": "stream",
     "text": [
      "C:\\Users\\user\\AppData\\Local\\Packages\\PythonSoftwareFoundation.Python.3.12_qbz5n2kfra8p0\\LocalCache\\local-packages\\Python312\\site-packages\\torch\\nn\\modules\\module.py:1736: UserWarning: Implicit dimension choice for softmax has been deprecated. Change the call to include dim=X as an argument.\n",
      "  return self._call_impl(*args, **kwargs)\n"
     ]
    },
    {
     "name": "stdout",
     "output_type": "stream",
     "text": [
      "Hidden Layers: [4], Activation: Softmax, Epochs: 50, LR: 0.1, Batch Size: 512, Accuracy: 0.1769\n"
     ]
    },
    {
     "name": "stderr",
     "output_type": "stream",
     "text": [
      "C:\\Users\\user\\AppData\\Local\\Packages\\PythonSoftwareFoundation.Python.3.12_qbz5n2kfra8p0\\LocalCache\\local-packages\\Python312\\site-packages\\torch\\nn\\modules\\module.py:1736: UserWarning: Implicit dimension choice for softmax has been deprecated. Change the call to include dim=X as an argument.\n",
      "  return self._call_impl(*args, **kwargs)\n"
     ]
    },
    {
     "name": "stdout",
     "output_type": "stream",
     "text": [
      "Hidden Layers: [4], Activation: Softmax, Epochs: 50, LR: 0.01, Batch Size: 16, Accuracy: 0.3846\n"
     ]
    },
    {
     "name": "stderr",
     "output_type": "stream",
     "text": [
      "C:\\Users\\user\\AppData\\Local\\Packages\\PythonSoftwareFoundation.Python.3.12_qbz5n2kfra8p0\\LocalCache\\local-packages\\Python312\\site-packages\\torch\\nn\\modules\\module.py:1736: UserWarning: Implicit dimension choice for softmax has been deprecated. Change the call to include dim=X as an argument.\n",
      "  return self._call_impl(*args, **kwargs)\n"
     ]
    },
    {
     "name": "stdout",
     "output_type": "stream",
     "text": [
      "Hidden Layers: [4], Activation: Softmax, Epochs: 50, LR: 0.01, Batch Size: 32, Accuracy: 0.2923\n"
     ]
    },
    {
     "name": "stderr",
     "output_type": "stream",
     "text": [
      "C:\\Users\\user\\AppData\\Local\\Packages\\PythonSoftwareFoundation.Python.3.12_qbz5n2kfra8p0\\LocalCache\\local-packages\\Python312\\site-packages\\torch\\nn\\modules\\module.py:1736: UserWarning: Implicit dimension choice for softmax has been deprecated. Change the call to include dim=X as an argument.\n",
      "  return self._call_impl(*args, **kwargs)\n"
     ]
    },
    {
     "name": "stdout",
     "output_type": "stream",
     "text": [
      "Hidden Layers: [4], Activation: Softmax, Epochs: 50, LR: 0.01, Batch Size: 64, Accuracy: 0.2615\n"
     ]
    },
    {
     "name": "stderr",
     "output_type": "stream",
     "text": [
      "C:\\Users\\user\\AppData\\Local\\Packages\\PythonSoftwareFoundation.Python.3.12_qbz5n2kfra8p0\\LocalCache\\local-packages\\Python312\\site-packages\\torch\\nn\\modules\\module.py:1736: UserWarning: Implicit dimension choice for softmax has been deprecated. Change the call to include dim=X as an argument.\n",
      "  return self._call_impl(*args, **kwargs)\n"
     ]
    },
    {
     "name": "stdout",
     "output_type": "stream",
     "text": [
      "Hidden Layers: [4], Activation: Softmax, Epochs: 50, LR: 0.01, Batch Size: 128, Accuracy: 0.2538\n"
     ]
    },
    {
     "name": "stderr",
     "output_type": "stream",
     "text": [
      "C:\\Users\\user\\AppData\\Local\\Packages\\PythonSoftwareFoundation.Python.3.12_qbz5n2kfra8p0\\LocalCache\\local-packages\\Python312\\site-packages\\torch\\nn\\modules\\module.py:1736: UserWarning: Implicit dimension choice for softmax has been deprecated. Change the call to include dim=X as an argument.\n",
      "  return self._call_impl(*args, **kwargs)\n"
     ]
    },
    {
     "name": "stdout",
     "output_type": "stream",
     "text": [
      "Hidden Layers: [4], Activation: Softmax, Epochs: 50, LR: 0.01, Batch Size: 256, Accuracy: 0.2462\n"
     ]
    },
    {
     "name": "stderr",
     "output_type": "stream",
     "text": [
      "C:\\Users\\user\\AppData\\Local\\Packages\\PythonSoftwareFoundation.Python.3.12_qbz5n2kfra8p0\\LocalCache\\local-packages\\Python312\\site-packages\\torch\\nn\\modules\\module.py:1736: UserWarning: Implicit dimension choice for softmax has been deprecated. Change the call to include dim=X as an argument.\n",
      "  return self._call_impl(*args, **kwargs)\n"
     ]
    },
    {
     "name": "stdout",
     "output_type": "stream",
     "text": [
      "Hidden Layers: [4], Activation: Softmax, Epochs: 50, LR: 0.01, Batch Size: 512, Accuracy: 0.2615\n"
     ]
    },
    {
     "name": "stderr",
     "output_type": "stream",
     "text": [
      "C:\\Users\\user\\AppData\\Local\\Packages\\PythonSoftwareFoundation.Python.3.12_qbz5n2kfra8p0\\LocalCache\\local-packages\\Python312\\site-packages\\torch\\nn\\modules\\module.py:1736: UserWarning: Implicit dimension choice for softmax has been deprecated. Change the call to include dim=X as an argument.\n",
      "  return self._call_impl(*args, **kwargs)\n"
     ]
    },
    {
     "name": "stdout",
     "output_type": "stream",
     "text": [
      "Hidden Layers: [4], Activation: Softmax, Epochs: 50, LR: 0.001, Batch Size: 16, Accuracy: 0.2462\n"
     ]
    },
    {
     "name": "stderr",
     "output_type": "stream",
     "text": [
      "C:\\Users\\user\\AppData\\Local\\Packages\\PythonSoftwareFoundation.Python.3.12_qbz5n2kfra8p0\\LocalCache\\local-packages\\Python312\\site-packages\\torch\\nn\\modules\\module.py:1736: UserWarning: Implicit dimension choice for softmax has been deprecated. Change the call to include dim=X as an argument.\n",
      "  return self._call_impl(*args, **kwargs)\n"
     ]
    },
    {
     "name": "stdout",
     "output_type": "stream",
     "text": [
      "Hidden Layers: [4], Activation: Softmax, Epochs: 50, LR: 0.001, Batch Size: 32, Accuracy: 0.2308\n"
     ]
    },
    {
     "name": "stderr",
     "output_type": "stream",
     "text": [
      "C:\\Users\\user\\AppData\\Local\\Packages\\PythonSoftwareFoundation.Python.3.12_qbz5n2kfra8p0\\LocalCache\\local-packages\\Python312\\site-packages\\torch\\nn\\modules\\module.py:1736: UserWarning: Implicit dimension choice for softmax has been deprecated. Change the call to include dim=X as an argument.\n",
      "  return self._call_impl(*args, **kwargs)\n"
     ]
    },
    {
     "name": "stdout",
     "output_type": "stream",
     "text": [
      "Hidden Layers: [4], Activation: Softmax, Epochs: 50, LR: 0.001, Batch Size: 64, Accuracy: 0.1923\n"
     ]
    },
    {
     "name": "stderr",
     "output_type": "stream",
     "text": [
      "C:\\Users\\user\\AppData\\Local\\Packages\\PythonSoftwareFoundation.Python.3.12_qbz5n2kfra8p0\\LocalCache\\local-packages\\Python312\\site-packages\\torch\\nn\\modules\\module.py:1736: UserWarning: Implicit dimension choice for softmax has been deprecated. Change the call to include dim=X as an argument.\n",
      "  return self._call_impl(*args, **kwargs)\n"
     ]
    },
    {
     "name": "stdout",
     "output_type": "stream",
     "text": [
      "Hidden Layers: [4], Activation: Softmax, Epochs: 50, LR: 0.001, Batch Size: 128, Accuracy: 0.1154\n"
     ]
    },
    {
     "name": "stderr",
     "output_type": "stream",
     "text": [
      "C:\\Users\\user\\AppData\\Local\\Packages\\PythonSoftwareFoundation.Python.3.12_qbz5n2kfra8p0\\LocalCache\\local-packages\\Python312\\site-packages\\torch\\nn\\modules\\module.py:1736: UserWarning: Implicit dimension choice for softmax has been deprecated. Change the call to include dim=X as an argument.\n",
      "  return self._call_impl(*args, **kwargs)\n"
     ]
    },
    {
     "name": "stdout",
     "output_type": "stream",
     "text": [
      "Hidden Layers: [4], Activation: Softmax, Epochs: 50, LR: 0.001, Batch Size: 256, Accuracy: 0.0923\n"
     ]
    },
    {
     "name": "stderr",
     "output_type": "stream",
     "text": [
      "C:\\Users\\user\\AppData\\Local\\Packages\\PythonSoftwareFoundation.Python.3.12_qbz5n2kfra8p0\\LocalCache\\local-packages\\Python312\\site-packages\\torch\\nn\\modules\\module.py:1736: UserWarning: Implicit dimension choice for softmax has been deprecated. Change the call to include dim=X as an argument.\n",
      "  return self._call_impl(*args, **kwargs)\n"
     ]
    },
    {
     "name": "stdout",
     "output_type": "stream",
     "text": [
      "Hidden Layers: [4], Activation: Softmax, Epochs: 50, LR: 0.001, Batch Size: 512, Accuracy: 0.1231\n"
     ]
    },
    {
     "name": "stderr",
     "output_type": "stream",
     "text": [
      "C:\\Users\\user\\AppData\\Local\\Packages\\PythonSoftwareFoundation.Python.3.12_qbz5n2kfra8p0\\LocalCache\\local-packages\\Python312\\site-packages\\torch\\nn\\modules\\module.py:1736: UserWarning: Implicit dimension choice for softmax has been deprecated. Change the call to include dim=X as an argument.\n",
      "  return self._call_impl(*args, **kwargs)\n"
     ]
    },
    {
     "name": "stdout",
     "output_type": "stream",
     "text": [
      "Hidden Layers: [4], Activation: Softmax, Epochs: 50, LR: 0.0001, Batch Size: 16, Accuracy: 0.0769\n"
     ]
    },
    {
     "name": "stderr",
     "output_type": "stream",
     "text": [
      "C:\\Users\\user\\AppData\\Local\\Packages\\PythonSoftwareFoundation.Python.3.12_qbz5n2kfra8p0\\LocalCache\\local-packages\\Python312\\site-packages\\torch\\nn\\modules\\module.py:1736: UserWarning: Implicit dimension choice for softmax has been deprecated. Change the call to include dim=X as an argument.\n",
      "  return self._call_impl(*args, **kwargs)\n"
     ]
    },
    {
     "name": "stdout",
     "output_type": "stream",
     "text": [
      "Hidden Layers: [4], Activation: Softmax, Epochs: 50, LR: 0.0001, Batch Size: 32, Accuracy: 0.0923\n"
     ]
    },
    {
     "name": "stderr",
     "output_type": "stream",
     "text": [
      "C:\\Users\\user\\AppData\\Local\\Packages\\PythonSoftwareFoundation.Python.3.12_qbz5n2kfra8p0\\LocalCache\\local-packages\\Python312\\site-packages\\torch\\nn\\modules\\module.py:1736: UserWarning: Implicit dimension choice for softmax has been deprecated. Change the call to include dim=X as an argument.\n",
      "  return self._call_impl(*args, **kwargs)\n"
     ]
    },
    {
     "name": "stdout",
     "output_type": "stream",
     "text": [
      "Hidden Layers: [4], Activation: Softmax, Epochs: 50, LR: 0.0001, Batch Size: 64, Accuracy: 0.0615\n"
     ]
    },
    {
     "name": "stderr",
     "output_type": "stream",
     "text": [
      "C:\\Users\\user\\AppData\\Local\\Packages\\PythonSoftwareFoundation.Python.3.12_qbz5n2kfra8p0\\LocalCache\\local-packages\\Python312\\site-packages\\torch\\nn\\modules\\module.py:1736: UserWarning: Implicit dimension choice for softmax has been deprecated. Change the call to include dim=X as an argument.\n",
      "  return self._call_impl(*args, **kwargs)\n"
     ]
    },
    {
     "name": "stdout",
     "output_type": "stream",
     "text": [
      "Hidden Layers: [4], Activation: Softmax, Epochs: 50, LR: 0.0001, Batch Size: 128, Accuracy: 0.1308\n"
     ]
    },
    {
     "name": "stderr",
     "output_type": "stream",
     "text": [
      "C:\\Users\\user\\AppData\\Local\\Packages\\PythonSoftwareFoundation.Python.3.12_qbz5n2kfra8p0\\LocalCache\\local-packages\\Python312\\site-packages\\torch\\nn\\modules\\module.py:1736: UserWarning: Implicit dimension choice for softmax has been deprecated. Change the call to include dim=X as an argument.\n",
      "  return self._call_impl(*args, **kwargs)\n"
     ]
    },
    {
     "name": "stdout",
     "output_type": "stream",
     "text": [
      "Hidden Layers: [4], Activation: Softmax, Epochs: 50, LR: 0.0001, Batch Size: 256, Accuracy: 0.0538\n"
     ]
    },
    {
     "name": "stderr",
     "output_type": "stream",
     "text": [
      "C:\\Users\\user\\AppData\\Local\\Packages\\PythonSoftwareFoundation.Python.3.12_qbz5n2kfra8p0\\LocalCache\\local-packages\\Python312\\site-packages\\torch\\nn\\modules\\module.py:1736: UserWarning: Implicit dimension choice for softmax has been deprecated. Change the call to include dim=X as an argument.\n",
      "  return self._call_impl(*args, **kwargs)\n"
     ]
    },
    {
     "name": "stdout",
     "output_type": "stream",
     "text": [
      "Hidden Layers: [4], Activation: Softmax, Epochs: 50, LR: 0.0001, Batch Size: 512, Accuracy: 0.0000\n"
     ]
    },
    {
     "name": "stderr",
     "output_type": "stream",
     "text": [
      "C:\\Users\\user\\AppData\\Local\\Packages\\PythonSoftwareFoundation.Python.3.12_qbz5n2kfra8p0\\LocalCache\\local-packages\\Python312\\site-packages\\torch\\nn\\modules\\module.py:1736: UserWarning: Implicit dimension choice for softmax has been deprecated. Change the call to include dim=X as an argument.\n",
      "  return self._call_impl(*args, **kwargs)\n"
     ]
    },
    {
     "name": "stdout",
     "output_type": "stream",
     "text": [
      "Hidden Layers: [4], Activation: Softmax, Epochs: 100, LR: 10, Batch Size: 16, Accuracy: 0.0846\n"
     ]
    },
    {
     "name": "stderr",
     "output_type": "stream",
     "text": [
      "C:\\Users\\user\\AppData\\Local\\Packages\\PythonSoftwareFoundation.Python.3.12_qbz5n2kfra8p0\\LocalCache\\local-packages\\Python312\\site-packages\\torch\\nn\\modules\\module.py:1736: UserWarning: Implicit dimension choice for softmax has been deprecated. Change the call to include dim=X as an argument.\n",
      "  return self._call_impl(*args, **kwargs)\n"
     ]
    },
    {
     "name": "stdout",
     "output_type": "stream",
     "text": [
      "Hidden Layers: [4], Activation: Softmax, Epochs: 100, LR: 10, Batch Size: 32, Accuracy: 0.0385\n"
     ]
    },
    {
     "name": "stderr",
     "output_type": "stream",
     "text": [
      "C:\\Users\\user\\AppData\\Local\\Packages\\PythonSoftwareFoundation.Python.3.12_qbz5n2kfra8p0\\LocalCache\\local-packages\\Python312\\site-packages\\torch\\nn\\modules\\module.py:1736: UserWarning: Implicit dimension choice for softmax has been deprecated. Change the call to include dim=X as an argument.\n",
      "  return self._call_impl(*args, **kwargs)\n"
     ]
    },
    {
     "name": "stdout",
     "output_type": "stream",
     "text": [
      "Hidden Layers: [4], Activation: Softmax, Epochs: 100, LR: 10, Batch Size: 64, Accuracy: 0.0385\n"
     ]
    },
    {
     "name": "stderr",
     "output_type": "stream",
     "text": [
      "C:\\Users\\user\\AppData\\Local\\Packages\\PythonSoftwareFoundation.Python.3.12_qbz5n2kfra8p0\\LocalCache\\local-packages\\Python312\\site-packages\\torch\\nn\\modules\\module.py:1736: UserWarning: Implicit dimension choice for softmax has been deprecated. Change the call to include dim=X as an argument.\n",
      "  return self._call_impl(*args, **kwargs)\n"
     ]
    },
    {
     "name": "stdout",
     "output_type": "stream",
     "text": [
      "Hidden Layers: [4], Activation: Softmax, Epochs: 100, LR: 10, Batch Size: 128, Accuracy: 0.0000\n"
     ]
    },
    {
     "name": "stderr",
     "output_type": "stream",
     "text": [
      "C:\\Users\\user\\AppData\\Local\\Packages\\PythonSoftwareFoundation.Python.3.12_qbz5n2kfra8p0\\LocalCache\\local-packages\\Python312\\site-packages\\torch\\nn\\modules\\module.py:1736: UserWarning: Implicit dimension choice for softmax has been deprecated. Change the call to include dim=X as an argument.\n",
      "  return self._call_impl(*args, **kwargs)\n"
     ]
    },
    {
     "name": "stdout",
     "output_type": "stream",
     "text": [
      "Hidden Layers: [4], Activation: Softmax, Epochs: 100, LR: 10, Batch Size: 256, Accuracy: 0.1231\n"
     ]
    },
    {
     "name": "stderr",
     "output_type": "stream",
     "text": [
      "C:\\Users\\user\\AppData\\Local\\Packages\\PythonSoftwareFoundation.Python.3.12_qbz5n2kfra8p0\\LocalCache\\local-packages\\Python312\\site-packages\\torch\\nn\\modules\\module.py:1736: UserWarning: Implicit dimension choice for softmax has been deprecated. Change the call to include dim=X as an argument.\n",
      "  return self._call_impl(*args, **kwargs)\n"
     ]
    },
    {
     "name": "stdout",
     "output_type": "stream",
     "text": [
      "Hidden Layers: [4], Activation: Softmax, Epochs: 100, LR: 10, Batch Size: 512, Accuracy: 0.1308\n"
     ]
    },
    {
     "name": "stderr",
     "output_type": "stream",
     "text": [
      "C:\\Users\\user\\AppData\\Local\\Packages\\PythonSoftwareFoundation.Python.3.12_qbz5n2kfra8p0\\LocalCache\\local-packages\\Python312\\site-packages\\torch\\nn\\modules\\module.py:1736: UserWarning: Implicit dimension choice for softmax has been deprecated. Change the call to include dim=X as an argument.\n",
      "  return self._call_impl(*args, **kwargs)\n"
     ]
    },
    {
     "name": "stdout",
     "output_type": "stream",
     "text": [
      "Hidden Layers: [4], Activation: Softmax, Epochs: 100, LR: 1, Batch Size: 16, Accuracy: 0.1231\n"
     ]
    },
    {
     "name": "stderr",
     "output_type": "stream",
     "text": [
      "C:\\Users\\user\\AppData\\Local\\Packages\\PythonSoftwareFoundation.Python.3.12_qbz5n2kfra8p0\\LocalCache\\local-packages\\Python312\\site-packages\\torch\\nn\\modules\\module.py:1736: UserWarning: Implicit dimension choice for softmax has been deprecated. Change the call to include dim=X as an argument.\n",
      "  return self._call_impl(*args, **kwargs)\n"
     ]
    },
    {
     "name": "stdout",
     "output_type": "stream",
     "text": [
      "Hidden Layers: [4], Activation: Softmax, Epochs: 100, LR: 1, Batch Size: 32, Accuracy: 0.1231\n"
     ]
    },
    {
     "name": "stderr",
     "output_type": "stream",
     "text": [
      "C:\\Users\\user\\AppData\\Local\\Packages\\PythonSoftwareFoundation.Python.3.12_qbz5n2kfra8p0\\LocalCache\\local-packages\\Python312\\site-packages\\torch\\nn\\modules\\module.py:1736: UserWarning: Implicit dimension choice for softmax has been deprecated. Change the call to include dim=X as an argument.\n",
      "  return self._call_impl(*args, **kwargs)\n"
     ]
    },
    {
     "name": "stdout",
     "output_type": "stream",
     "text": [
      "Hidden Layers: [4], Activation: Softmax, Epochs: 100, LR: 1, Batch Size: 64, Accuracy: 0.2154\n"
     ]
    },
    {
     "name": "stderr",
     "output_type": "stream",
     "text": [
      "C:\\Users\\user\\AppData\\Local\\Packages\\PythonSoftwareFoundation.Python.3.12_qbz5n2kfra8p0\\LocalCache\\local-packages\\Python312\\site-packages\\torch\\nn\\modules\\module.py:1736: UserWarning: Implicit dimension choice for softmax has been deprecated. Change the call to include dim=X as an argument.\n",
      "  return self._call_impl(*args, **kwargs)\n"
     ]
    },
    {
     "name": "stdout",
     "output_type": "stream",
     "text": [
      "Hidden Layers: [4], Activation: Softmax, Epochs: 100, LR: 1, Batch Size: 128, Accuracy: 0.1000\n"
     ]
    },
    {
     "name": "stderr",
     "output_type": "stream",
     "text": [
      "C:\\Users\\user\\AppData\\Local\\Packages\\PythonSoftwareFoundation.Python.3.12_qbz5n2kfra8p0\\LocalCache\\local-packages\\Python312\\site-packages\\torch\\nn\\modules\\module.py:1736: UserWarning: Implicit dimension choice for softmax has been deprecated. Change the call to include dim=X as an argument.\n",
      "  return self._call_impl(*args, **kwargs)\n"
     ]
    },
    {
     "name": "stdout",
     "output_type": "stream",
     "text": [
      "Hidden Layers: [4], Activation: Softmax, Epochs: 100, LR: 1, Batch Size: 256, Accuracy: 0.1308\n"
     ]
    },
    {
     "name": "stderr",
     "output_type": "stream",
     "text": [
      "C:\\Users\\user\\AppData\\Local\\Packages\\PythonSoftwareFoundation.Python.3.12_qbz5n2kfra8p0\\LocalCache\\local-packages\\Python312\\site-packages\\torch\\nn\\modules\\module.py:1736: UserWarning: Implicit dimension choice for softmax has been deprecated. Change the call to include dim=X as an argument.\n",
      "  return self._call_impl(*args, **kwargs)\n"
     ]
    },
    {
     "name": "stdout",
     "output_type": "stream",
     "text": [
      "Hidden Layers: [4], Activation: Softmax, Epochs: 100, LR: 1, Batch Size: 512, Accuracy: 0.2000\n"
     ]
    },
    {
     "name": "stderr",
     "output_type": "stream",
     "text": [
      "C:\\Users\\user\\AppData\\Local\\Packages\\PythonSoftwareFoundation.Python.3.12_qbz5n2kfra8p0\\LocalCache\\local-packages\\Python312\\site-packages\\torch\\nn\\modules\\module.py:1736: UserWarning: Implicit dimension choice for softmax has been deprecated. Change the call to include dim=X as an argument.\n",
      "  return self._call_impl(*args, **kwargs)\n"
     ]
    },
    {
     "name": "stdout",
     "output_type": "stream",
     "text": [
      "Hidden Layers: [4], Activation: Softmax, Epochs: 100, LR: 0.1, Batch Size: 16, Accuracy: 0.2615\n"
     ]
    },
    {
     "name": "stderr",
     "output_type": "stream",
     "text": [
      "C:\\Users\\user\\AppData\\Local\\Packages\\PythonSoftwareFoundation.Python.3.12_qbz5n2kfra8p0\\LocalCache\\local-packages\\Python312\\site-packages\\torch\\nn\\modules\\module.py:1736: UserWarning: Implicit dimension choice for softmax has been deprecated. Change the call to include dim=X as an argument.\n",
      "  return self._call_impl(*args, **kwargs)\n"
     ]
    },
    {
     "name": "stdout",
     "output_type": "stream",
     "text": [
      "Hidden Layers: [4], Activation: Softmax, Epochs: 100, LR: 0.1, Batch Size: 32, Accuracy: 0.3385\n"
     ]
    },
    {
     "name": "stderr",
     "output_type": "stream",
     "text": [
      "C:\\Users\\user\\AppData\\Local\\Packages\\PythonSoftwareFoundation.Python.3.12_qbz5n2kfra8p0\\LocalCache\\local-packages\\Python312\\site-packages\\torch\\nn\\modules\\module.py:1736: UserWarning: Implicit dimension choice for softmax has been deprecated. Change the call to include dim=X as an argument.\n",
      "  return self._call_impl(*args, **kwargs)\n"
     ]
    },
    {
     "name": "stdout",
     "output_type": "stream",
     "text": [
      "Hidden Layers: [4], Activation: Softmax, Epochs: 100, LR: 0.1, Batch Size: 64, Accuracy: 0.3000\n"
     ]
    },
    {
     "name": "stderr",
     "output_type": "stream",
     "text": [
      "C:\\Users\\user\\AppData\\Local\\Packages\\PythonSoftwareFoundation.Python.3.12_qbz5n2kfra8p0\\LocalCache\\local-packages\\Python312\\site-packages\\torch\\nn\\modules\\module.py:1736: UserWarning: Implicit dimension choice for softmax has been deprecated. Change the call to include dim=X as an argument.\n",
      "  return self._call_impl(*args, **kwargs)\n"
     ]
    },
    {
     "name": "stdout",
     "output_type": "stream",
     "text": [
      "Hidden Layers: [4], Activation: Softmax, Epochs: 100, LR: 0.1, Batch Size: 128, Accuracy: 0.2385\n"
     ]
    },
    {
     "name": "stderr",
     "output_type": "stream",
     "text": [
      "C:\\Users\\user\\AppData\\Local\\Packages\\PythonSoftwareFoundation.Python.3.12_qbz5n2kfra8p0\\LocalCache\\local-packages\\Python312\\site-packages\\torch\\nn\\modules\\module.py:1736: UserWarning: Implicit dimension choice for softmax has been deprecated. Change the call to include dim=X as an argument.\n",
      "  return self._call_impl(*args, **kwargs)\n"
     ]
    },
    {
     "name": "stdout",
     "output_type": "stream",
     "text": [
      "Hidden Layers: [4], Activation: Softmax, Epochs: 100, LR: 0.1, Batch Size: 256, Accuracy: 0.2615\n"
     ]
    },
    {
     "name": "stderr",
     "output_type": "stream",
     "text": [
      "C:\\Users\\user\\AppData\\Local\\Packages\\PythonSoftwareFoundation.Python.3.12_qbz5n2kfra8p0\\LocalCache\\local-packages\\Python312\\site-packages\\torch\\nn\\modules\\module.py:1736: UserWarning: Implicit dimension choice for softmax has been deprecated. Change the call to include dim=X as an argument.\n",
      "  return self._call_impl(*args, **kwargs)\n"
     ]
    },
    {
     "name": "stdout",
     "output_type": "stream",
     "text": [
      "Hidden Layers: [4], Activation: Softmax, Epochs: 100, LR: 0.1, Batch Size: 512, Accuracy: 0.2077\n"
     ]
    },
    {
     "name": "stderr",
     "output_type": "stream",
     "text": [
      "C:\\Users\\user\\AppData\\Local\\Packages\\PythonSoftwareFoundation.Python.3.12_qbz5n2kfra8p0\\LocalCache\\local-packages\\Python312\\site-packages\\torch\\nn\\modules\\module.py:1736: UserWarning: Implicit dimension choice for softmax has been deprecated. Change the call to include dim=X as an argument.\n",
      "  return self._call_impl(*args, **kwargs)\n"
     ]
    },
    {
     "name": "stdout",
     "output_type": "stream",
     "text": [
      "Hidden Layers: [4], Activation: Softmax, Epochs: 100, LR: 0.01, Batch Size: 16, Accuracy: 0.4231\n"
     ]
    },
    {
     "name": "stderr",
     "output_type": "stream",
     "text": [
      "C:\\Users\\user\\AppData\\Local\\Packages\\PythonSoftwareFoundation.Python.3.12_qbz5n2kfra8p0\\LocalCache\\local-packages\\Python312\\site-packages\\torch\\nn\\modules\\module.py:1736: UserWarning: Implicit dimension choice for softmax has been deprecated. Change the call to include dim=X as an argument.\n",
      "  return self._call_impl(*args, **kwargs)\n"
     ]
    },
    {
     "name": "stdout",
     "output_type": "stream",
     "text": [
      "Hidden Layers: [4], Activation: Softmax, Epochs: 100, LR: 0.01, Batch Size: 32, Accuracy: 0.3692\n"
     ]
    },
    {
     "name": "stderr",
     "output_type": "stream",
     "text": [
      "C:\\Users\\user\\AppData\\Local\\Packages\\PythonSoftwareFoundation.Python.3.12_qbz5n2kfra8p0\\LocalCache\\local-packages\\Python312\\site-packages\\torch\\nn\\modules\\module.py:1736: UserWarning: Implicit dimension choice for softmax has been deprecated. Change the call to include dim=X as an argument.\n",
      "  return self._call_impl(*args, **kwargs)\n"
     ]
    },
    {
     "name": "stdout",
     "output_type": "stream",
     "text": [
      "Hidden Layers: [4], Activation: Softmax, Epochs: 100, LR: 0.01, Batch Size: 64, Accuracy: 0.3154\n"
     ]
    },
    {
     "name": "stderr",
     "output_type": "stream",
     "text": [
      "C:\\Users\\user\\AppData\\Local\\Packages\\PythonSoftwareFoundation.Python.3.12_qbz5n2kfra8p0\\LocalCache\\local-packages\\Python312\\site-packages\\torch\\nn\\modules\\module.py:1736: UserWarning: Implicit dimension choice for softmax has been deprecated. Change the call to include dim=X as an argument.\n",
      "  return self._call_impl(*args, **kwargs)\n"
     ]
    },
    {
     "name": "stdout",
     "output_type": "stream",
     "text": [
      "Hidden Layers: [4], Activation: Softmax, Epochs: 100, LR: 0.01, Batch Size: 128, Accuracy: 0.2923\n"
     ]
    },
    {
     "name": "stderr",
     "output_type": "stream",
     "text": [
      "C:\\Users\\user\\AppData\\Local\\Packages\\PythonSoftwareFoundation.Python.3.12_qbz5n2kfra8p0\\LocalCache\\local-packages\\Python312\\site-packages\\torch\\nn\\modules\\module.py:1736: UserWarning: Implicit dimension choice for softmax has been deprecated. Change the call to include dim=X as an argument.\n",
      "  return self._call_impl(*args, **kwargs)\n"
     ]
    },
    {
     "name": "stdout",
     "output_type": "stream",
     "text": [
      "Hidden Layers: [4], Activation: Softmax, Epochs: 100, LR: 0.01, Batch Size: 256, Accuracy: 0.2615\n"
     ]
    },
    {
     "name": "stderr",
     "output_type": "stream",
     "text": [
      "C:\\Users\\user\\AppData\\Local\\Packages\\PythonSoftwareFoundation.Python.3.12_qbz5n2kfra8p0\\LocalCache\\local-packages\\Python312\\site-packages\\torch\\nn\\modules\\module.py:1736: UserWarning: Implicit dimension choice for softmax has been deprecated. Change the call to include dim=X as an argument.\n",
      "  return self._call_impl(*args, **kwargs)\n"
     ]
    },
    {
     "name": "stdout",
     "output_type": "stream",
     "text": [
      "Hidden Layers: [4], Activation: Softmax, Epochs: 100, LR: 0.01, Batch Size: 512, Accuracy: 0.2385\n"
     ]
    },
    {
     "name": "stderr",
     "output_type": "stream",
     "text": [
      "C:\\Users\\user\\AppData\\Local\\Packages\\PythonSoftwareFoundation.Python.3.12_qbz5n2kfra8p0\\LocalCache\\local-packages\\Python312\\site-packages\\torch\\nn\\modules\\module.py:1736: UserWarning: Implicit dimension choice for softmax has been deprecated. Change the call to include dim=X as an argument.\n",
      "  return self._call_impl(*args, **kwargs)\n"
     ]
    },
    {
     "name": "stdout",
     "output_type": "stream",
     "text": [
      "Hidden Layers: [4], Activation: Softmax, Epochs: 100, LR: 0.001, Batch Size: 16, Accuracy: 0.2692\n"
     ]
    },
    {
     "name": "stderr",
     "output_type": "stream",
     "text": [
      "C:\\Users\\user\\AppData\\Local\\Packages\\PythonSoftwareFoundation.Python.3.12_qbz5n2kfra8p0\\LocalCache\\local-packages\\Python312\\site-packages\\torch\\nn\\modules\\module.py:1736: UserWarning: Implicit dimension choice for softmax has been deprecated. Change the call to include dim=X as an argument.\n",
      "  return self._call_impl(*args, **kwargs)\n"
     ]
    },
    {
     "name": "stdout",
     "output_type": "stream",
     "text": [
      "Hidden Layers: [4], Activation: Softmax, Epochs: 100, LR: 0.001, Batch Size: 32, Accuracy: 0.3000\n"
     ]
    },
    {
     "name": "stderr",
     "output_type": "stream",
     "text": [
      "C:\\Users\\user\\AppData\\Local\\Packages\\PythonSoftwareFoundation.Python.3.12_qbz5n2kfra8p0\\LocalCache\\local-packages\\Python312\\site-packages\\torch\\nn\\modules\\module.py:1736: UserWarning: Implicit dimension choice for softmax has been deprecated. Change the call to include dim=X as an argument.\n",
      "  return self._call_impl(*args, **kwargs)\n"
     ]
    },
    {
     "name": "stdout",
     "output_type": "stream",
     "text": [
      "Hidden Layers: [4], Activation: Softmax, Epochs: 100, LR: 0.001, Batch Size: 64, Accuracy: 0.2538\n"
     ]
    },
    {
     "name": "stderr",
     "output_type": "stream",
     "text": [
      "C:\\Users\\user\\AppData\\Local\\Packages\\PythonSoftwareFoundation.Python.3.12_qbz5n2kfra8p0\\LocalCache\\local-packages\\Python312\\site-packages\\torch\\nn\\modules\\module.py:1736: UserWarning: Implicit dimension choice for softmax has been deprecated. Change the call to include dim=X as an argument.\n",
      "  return self._call_impl(*args, **kwargs)\n"
     ]
    },
    {
     "name": "stdout",
     "output_type": "stream",
     "text": [
      "Hidden Layers: [4], Activation: Softmax, Epochs: 100, LR: 0.001, Batch Size: 128, Accuracy: 0.2615\n"
     ]
    },
    {
     "name": "stderr",
     "output_type": "stream",
     "text": [
      "C:\\Users\\user\\AppData\\Local\\Packages\\PythonSoftwareFoundation.Python.3.12_qbz5n2kfra8p0\\LocalCache\\local-packages\\Python312\\site-packages\\torch\\nn\\modules\\module.py:1736: UserWarning: Implicit dimension choice for softmax has been deprecated. Change the call to include dim=X as an argument.\n",
      "  return self._call_impl(*args, **kwargs)\n"
     ]
    },
    {
     "name": "stdout",
     "output_type": "stream",
     "text": [
      "Hidden Layers: [4], Activation: Softmax, Epochs: 100, LR: 0.001, Batch Size: 256, Accuracy: 0.1692\n"
     ]
    },
    {
     "name": "stderr",
     "output_type": "stream",
     "text": [
      "C:\\Users\\user\\AppData\\Local\\Packages\\PythonSoftwareFoundation.Python.3.12_qbz5n2kfra8p0\\LocalCache\\local-packages\\Python312\\site-packages\\torch\\nn\\modules\\module.py:1736: UserWarning: Implicit dimension choice for softmax has been deprecated. Change the call to include dim=X as an argument.\n",
      "  return self._call_impl(*args, **kwargs)\n"
     ]
    },
    {
     "name": "stdout",
     "output_type": "stream",
     "text": [
      "Hidden Layers: [4], Activation: Softmax, Epochs: 100, LR: 0.001, Batch Size: 512, Accuracy: 0.1077\n"
     ]
    },
    {
     "name": "stderr",
     "output_type": "stream",
     "text": [
      "C:\\Users\\user\\AppData\\Local\\Packages\\PythonSoftwareFoundation.Python.3.12_qbz5n2kfra8p0\\LocalCache\\local-packages\\Python312\\site-packages\\torch\\nn\\modules\\module.py:1736: UserWarning: Implicit dimension choice for softmax has been deprecated. Change the call to include dim=X as an argument.\n",
      "  return self._call_impl(*args, **kwargs)\n"
     ]
    },
    {
     "name": "stdout",
     "output_type": "stream",
     "text": [
      "Hidden Layers: [4], Activation: Softmax, Epochs: 100, LR: 0.0001, Batch Size: 16, Accuracy: 0.1308\n"
     ]
    },
    {
     "name": "stderr",
     "output_type": "stream",
     "text": [
      "C:\\Users\\user\\AppData\\Local\\Packages\\PythonSoftwareFoundation.Python.3.12_qbz5n2kfra8p0\\LocalCache\\local-packages\\Python312\\site-packages\\torch\\nn\\modules\\module.py:1736: UserWarning: Implicit dimension choice for softmax has been deprecated. Change the call to include dim=X as an argument.\n",
      "  return self._call_impl(*args, **kwargs)\n"
     ]
    },
    {
     "name": "stdout",
     "output_type": "stream",
     "text": [
      "Hidden Layers: [4], Activation: Softmax, Epochs: 100, LR: 0.0001, Batch Size: 32, Accuracy: 0.1615\n"
     ]
    },
    {
     "name": "stderr",
     "output_type": "stream",
     "text": [
      "C:\\Users\\user\\AppData\\Local\\Packages\\PythonSoftwareFoundation.Python.3.12_qbz5n2kfra8p0\\LocalCache\\local-packages\\Python312\\site-packages\\torch\\nn\\modules\\module.py:1736: UserWarning: Implicit dimension choice for softmax has been deprecated. Change the call to include dim=X as an argument.\n",
      "  return self._call_impl(*args, **kwargs)\n"
     ]
    },
    {
     "name": "stdout",
     "output_type": "stream",
     "text": [
      "Hidden Layers: [4], Activation: Softmax, Epochs: 100, LR: 0.0001, Batch Size: 64, Accuracy: 0.1308\n"
     ]
    },
    {
     "name": "stderr",
     "output_type": "stream",
     "text": [
      "C:\\Users\\user\\AppData\\Local\\Packages\\PythonSoftwareFoundation.Python.3.12_qbz5n2kfra8p0\\LocalCache\\local-packages\\Python312\\site-packages\\torch\\nn\\modules\\module.py:1736: UserWarning: Implicit dimension choice for softmax has been deprecated. Change the call to include dim=X as an argument.\n",
      "  return self._call_impl(*args, **kwargs)\n"
     ]
    },
    {
     "name": "stdout",
     "output_type": "stream",
     "text": [
      "Hidden Layers: [4], Activation: Softmax, Epochs: 100, LR: 0.0001, Batch Size: 128, Accuracy: 0.0615\n"
     ]
    },
    {
     "name": "stderr",
     "output_type": "stream",
     "text": [
      "C:\\Users\\user\\AppData\\Local\\Packages\\PythonSoftwareFoundation.Python.3.12_qbz5n2kfra8p0\\LocalCache\\local-packages\\Python312\\site-packages\\torch\\nn\\modules\\module.py:1736: UserWarning: Implicit dimension choice for softmax has been deprecated. Change the call to include dim=X as an argument.\n",
      "  return self._call_impl(*args, **kwargs)\n"
     ]
    },
    {
     "name": "stdout",
     "output_type": "stream",
     "text": [
      "Hidden Layers: [4], Activation: Softmax, Epochs: 100, LR: 0.0001, Batch Size: 256, Accuracy: 0.1231\n"
     ]
    },
    {
     "name": "stderr",
     "output_type": "stream",
     "text": [
      "C:\\Users\\user\\AppData\\Local\\Packages\\PythonSoftwareFoundation.Python.3.12_qbz5n2kfra8p0\\LocalCache\\local-packages\\Python312\\site-packages\\torch\\nn\\modules\\module.py:1736: UserWarning: Implicit dimension choice for softmax has been deprecated. Change the call to include dim=X as an argument.\n",
      "  return self._call_impl(*args, **kwargs)\n"
     ]
    },
    {
     "name": "stdout",
     "output_type": "stream",
     "text": [
      "Hidden Layers: [4], Activation: Softmax, Epochs: 100, LR: 0.0001, Batch Size: 512, Accuracy: 0.0692\n"
     ]
    },
    {
     "name": "stderr",
     "output_type": "stream",
     "text": [
      "C:\\Users\\user\\AppData\\Local\\Packages\\PythonSoftwareFoundation.Python.3.12_qbz5n2kfra8p0\\LocalCache\\local-packages\\Python312\\site-packages\\torch\\nn\\modules\\module.py:1736: UserWarning: Implicit dimension choice for softmax has been deprecated. Change the call to include dim=X as an argument.\n",
      "  return self._call_impl(*args, **kwargs)\n"
     ]
    },
    {
     "name": "stdout",
     "output_type": "stream",
     "text": [
      "Hidden Layers: [4], Activation: Softmax, Epochs: 250, LR: 10, Batch Size: 16, Accuracy: 0.1385\n"
     ]
    },
    {
     "name": "stderr",
     "output_type": "stream",
     "text": [
      "C:\\Users\\user\\AppData\\Local\\Packages\\PythonSoftwareFoundation.Python.3.12_qbz5n2kfra8p0\\LocalCache\\local-packages\\Python312\\site-packages\\torch\\nn\\modules\\module.py:1736: UserWarning: Implicit dimension choice for softmax has been deprecated. Change the call to include dim=X as an argument.\n",
      "  return self._call_impl(*args, **kwargs)\n"
     ]
    },
    {
     "name": "stdout",
     "output_type": "stream",
     "text": [
      "Hidden Layers: [4], Activation: Softmax, Epochs: 250, LR: 10, Batch Size: 32, Accuracy: 0.1000\n"
     ]
    },
    {
     "name": "stderr",
     "output_type": "stream",
     "text": [
      "C:\\Users\\user\\AppData\\Local\\Packages\\PythonSoftwareFoundation.Python.3.12_qbz5n2kfra8p0\\LocalCache\\local-packages\\Python312\\site-packages\\torch\\nn\\modules\\module.py:1736: UserWarning: Implicit dimension choice for softmax has been deprecated. Change the call to include dim=X as an argument.\n",
      "  return self._call_impl(*args, **kwargs)\n"
     ]
    },
    {
     "name": "stdout",
     "output_type": "stream",
     "text": [
      "Hidden Layers: [4], Activation: Softmax, Epochs: 250, LR: 10, Batch Size: 64, Accuracy: 0.1154\n"
     ]
    },
    {
     "name": "stderr",
     "output_type": "stream",
     "text": [
      "C:\\Users\\user\\AppData\\Local\\Packages\\PythonSoftwareFoundation.Python.3.12_qbz5n2kfra8p0\\LocalCache\\local-packages\\Python312\\site-packages\\torch\\nn\\modules\\module.py:1736: UserWarning: Implicit dimension choice for softmax has been deprecated. Change the call to include dim=X as an argument.\n",
      "  return self._call_impl(*args, **kwargs)\n"
     ]
    },
    {
     "name": "stdout",
     "output_type": "stream",
     "text": [
      "Hidden Layers: [4], Activation: Softmax, Epochs: 250, LR: 10, Batch Size: 128, Accuracy: 0.0385\n"
     ]
    },
    {
     "name": "stderr",
     "output_type": "stream",
     "text": [
      "C:\\Users\\user\\AppData\\Local\\Packages\\PythonSoftwareFoundation.Python.3.12_qbz5n2kfra8p0\\LocalCache\\local-packages\\Python312\\site-packages\\torch\\nn\\modules\\module.py:1736: UserWarning: Implicit dimension choice for softmax has been deprecated. Change the call to include dim=X as an argument.\n",
      "  return self._call_impl(*args, **kwargs)\n"
     ]
    },
    {
     "name": "stdout",
     "output_type": "stream",
     "text": [
      "Hidden Layers: [4], Activation: Softmax, Epochs: 250, LR: 10, Batch Size: 256, Accuracy: 0.2308\n"
     ]
    },
    {
     "name": "stderr",
     "output_type": "stream",
     "text": [
      "C:\\Users\\user\\AppData\\Local\\Packages\\PythonSoftwareFoundation.Python.3.12_qbz5n2kfra8p0\\LocalCache\\local-packages\\Python312\\site-packages\\torch\\nn\\modules\\module.py:1736: UserWarning: Implicit dimension choice for softmax has been deprecated. Change the call to include dim=X as an argument.\n",
      "  return self._call_impl(*args, **kwargs)\n"
     ]
    },
    {
     "name": "stdout",
     "output_type": "stream",
     "text": [
      "Hidden Layers: [4], Activation: Softmax, Epochs: 250, LR: 10, Batch Size: 512, Accuracy: 0.1308\n"
     ]
    },
    {
     "name": "stderr",
     "output_type": "stream",
     "text": [
      "C:\\Users\\user\\AppData\\Local\\Packages\\PythonSoftwareFoundation.Python.3.12_qbz5n2kfra8p0\\LocalCache\\local-packages\\Python312\\site-packages\\torch\\nn\\modules\\module.py:1736: UserWarning: Implicit dimension choice for softmax has been deprecated. Change the call to include dim=X as an argument.\n",
      "  return self._call_impl(*args, **kwargs)\n"
     ]
    },
    {
     "name": "stdout",
     "output_type": "stream",
     "text": [
      "Hidden Layers: [4], Activation: Softmax, Epochs: 250, LR: 1, Batch Size: 16, Accuracy: 0.1308\n"
     ]
    },
    {
     "name": "stderr",
     "output_type": "stream",
     "text": [
      "C:\\Users\\user\\AppData\\Local\\Packages\\PythonSoftwareFoundation.Python.3.12_qbz5n2kfra8p0\\LocalCache\\local-packages\\Python312\\site-packages\\torch\\nn\\modules\\module.py:1736: UserWarning: Implicit dimension choice for softmax has been deprecated. Change the call to include dim=X as an argument.\n",
      "  return self._call_impl(*args, **kwargs)\n"
     ]
    },
    {
     "name": "stdout",
     "output_type": "stream",
     "text": [
      "Hidden Layers: [4], Activation: Softmax, Epochs: 250, LR: 1, Batch Size: 32, Accuracy: 0.0769\n"
     ]
    },
    {
     "name": "stderr",
     "output_type": "stream",
     "text": [
      "C:\\Users\\user\\AppData\\Local\\Packages\\PythonSoftwareFoundation.Python.3.12_qbz5n2kfra8p0\\LocalCache\\local-packages\\Python312\\site-packages\\torch\\nn\\modules\\module.py:1736: UserWarning: Implicit dimension choice for softmax has been deprecated. Change the call to include dim=X as an argument.\n",
      "  return self._call_impl(*args, **kwargs)\n"
     ]
    },
    {
     "name": "stdout",
     "output_type": "stream",
     "text": [
      "Hidden Layers: [4], Activation: Softmax, Epochs: 250, LR: 1, Batch Size: 64, Accuracy: 0.2154\n"
     ]
    },
    {
     "name": "stderr",
     "output_type": "stream",
     "text": [
      "C:\\Users\\user\\AppData\\Local\\Packages\\PythonSoftwareFoundation.Python.3.12_qbz5n2kfra8p0\\LocalCache\\local-packages\\Python312\\site-packages\\torch\\nn\\modules\\module.py:1736: UserWarning: Implicit dimension choice for softmax has been deprecated. Change the call to include dim=X as an argument.\n",
      "  return self._call_impl(*args, **kwargs)\n"
     ]
    },
    {
     "name": "stdout",
     "output_type": "stream",
     "text": [
      "Hidden Layers: [4], Activation: Softmax, Epochs: 250, LR: 1, Batch Size: 128, Accuracy: 0.2615\n"
     ]
    },
    {
     "name": "stderr",
     "output_type": "stream",
     "text": [
      "C:\\Users\\user\\AppData\\Local\\Packages\\PythonSoftwareFoundation.Python.3.12_qbz5n2kfra8p0\\LocalCache\\local-packages\\Python312\\site-packages\\torch\\nn\\modules\\module.py:1736: UserWarning: Implicit dimension choice for softmax has been deprecated. Change the call to include dim=X as an argument.\n",
      "  return self._call_impl(*args, **kwargs)\n"
     ]
    },
    {
     "name": "stdout",
     "output_type": "stream",
     "text": [
      "Hidden Layers: [4], Activation: Softmax, Epochs: 250, LR: 1, Batch Size: 256, Accuracy: 0.1769\n"
     ]
    },
    {
     "name": "stderr",
     "output_type": "stream",
     "text": [
      "C:\\Users\\user\\AppData\\Local\\Packages\\PythonSoftwareFoundation.Python.3.12_qbz5n2kfra8p0\\LocalCache\\local-packages\\Python312\\site-packages\\torch\\nn\\modules\\module.py:1736: UserWarning: Implicit dimension choice for softmax has been deprecated. Change the call to include dim=X as an argument.\n",
      "  return self._call_impl(*args, **kwargs)\n"
     ]
    },
    {
     "name": "stdout",
     "output_type": "stream",
     "text": [
      "Hidden Layers: [4], Activation: Softmax, Epochs: 250, LR: 1, Batch Size: 512, Accuracy: 0.0923\n"
     ]
    },
    {
     "name": "stderr",
     "output_type": "stream",
     "text": [
      "C:\\Users\\user\\AppData\\Local\\Packages\\PythonSoftwareFoundation.Python.3.12_qbz5n2kfra8p0\\LocalCache\\local-packages\\Python312\\site-packages\\torch\\nn\\modules\\module.py:1736: UserWarning: Implicit dimension choice for softmax has been deprecated. Change the call to include dim=X as an argument.\n",
      "  return self._call_impl(*args, **kwargs)\n"
     ]
    },
    {
     "name": "stdout",
     "output_type": "stream",
     "text": [
      "Hidden Layers: [4], Activation: Softmax, Epochs: 250, LR: 0.1, Batch Size: 16, Accuracy: 0.3077\n"
     ]
    },
    {
     "name": "stderr",
     "output_type": "stream",
     "text": [
      "C:\\Users\\user\\AppData\\Local\\Packages\\PythonSoftwareFoundation.Python.3.12_qbz5n2kfra8p0\\LocalCache\\local-packages\\Python312\\site-packages\\torch\\nn\\modules\\module.py:1736: UserWarning: Implicit dimension choice for softmax has been deprecated. Change the call to include dim=X as an argument.\n",
      "  return self._call_impl(*args, **kwargs)\n"
     ]
    },
    {
     "name": "stdout",
     "output_type": "stream",
     "text": [
      "Hidden Layers: [4], Activation: Softmax, Epochs: 250, LR: 0.1, Batch Size: 32, Accuracy: 0.2923\n"
     ]
    },
    {
     "name": "stderr",
     "output_type": "stream",
     "text": [
      "C:\\Users\\user\\AppData\\Local\\Packages\\PythonSoftwareFoundation.Python.3.12_qbz5n2kfra8p0\\LocalCache\\local-packages\\Python312\\site-packages\\torch\\nn\\modules\\module.py:1736: UserWarning: Implicit dimension choice for softmax has been deprecated. Change the call to include dim=X as an argument.\n",
      "  return self._call_impl(*args, **kwargs)\n"
     ]
    },
    {
     "name": "stdout",
     "output_type": "stream",
     "text": [
      "Hidden Layers: [4], Activation: Softmax, Epochs: 250, LR: 0.1, Batch Size: 64, Accuracy: 0.2769\n"
     ]
    },
    {
     "name": "stderr",
     "output_type": "stream",
     "text": [
      "C:\\Users\\user\\AppData\\Local\\Packages\\PythonSoftwareFoundation.Python.3.12_qbz5n2kfra8p0\\LocalCache\\local-packages\\Python312\\site-packages\\torch\\nn\\modules\\module.py:1736: UserWarning: Implicit dimension choice for softmax has been deprecated. Change the call to include dim=X as an argument.\n",
      "  return self._call_impl(*args, **kwargs)\n"
     ]
    },
    {
     "name": "stdout",
     "output_type": "stream",
     "text": [
      "Hidden Layers: [4], Activation: Softmax, Epochs: 250, LR: 0.1, Batch Size: 128, Accuracy: 0.3000\n"
     ]
    },
    {
     "name": "stderr",
     "output_type": "stream",
     "text": [
      "C:\\Users\\user\\AppData\\Local\\Packages\\PythonSoftwareFoundation.Python.3.12_qbz5n2kfra8p0\\LocalCache\\local-packages\\Python312\\site-packages\\torch\\nn\\modules\\module.py:1736: UserWarning: Implicit dimension choice for softmax has been deprecated. Change the call to include dim=X as an argument.\n",
      "  return self._call_impl(*args, **kwargs)\n"
     ]
    },
    {
     "name": "stdout",
     "output_type": "stream",
     "text": [
      "Hidden Layers: [4], Activation: Softmax, Epochs: 250, LR: 0.1, Batch Size: 256, Accuracy: 0.2923\n"
     ]
    },
    {
     "name": "stderr",
     "output_type": "stream",
     "text": [
      "C:\\Users\\user\\AppData\\Local\\Packages\\PythonSoftwareFoundation.Python.3.12_qbz5n2kfra8p0\\LocalCache\\local-packages\\Python312\\site-packages\\torch\\nn\\modules\\module.py:1736: UserWarning: Implicit dimension choice for softmax has been deprecated. Change the call to include dim=X as an argument.\n",
      "  return self._call_impl(*args, **kwargs)\n"
     ]
    },
    {
     "name": "stdout",
     "output_type": "stream",
     "text": [
      "Hidden Layers: [4], Activation: Softmax, Epochs: 250, LR: 0.1, Batch Size: 512, Accuracy: 0.2846\n"
     ]
    },
    {
     "name": "stderr",
     "output_type": "stream",
     "text": [
      "C:\\Users\\user\\AppData\\Local\\Packages\\PythonSoftwareFoundation.Python.3.12_qbz5n2kfra8p0\\LocalCache\\local-packages\\Python312\\site-packages\\torch\\nn\\modules\\module.py:1736: UserWarning: Implicit dimension choice for softmax has been deprecated. Change the call to include dim=X as an argument.\n",
      "  return self._call_impl(*args, **kwargs)\n"
     ]
    },
    {
     "name": "stdout",
     "output_type": "stream",
     "text": [
      "Hidden Layers: [4], Activation: Softmax, Epochs: 250, LR: 0.01, Batch Size: 16, Accuracy: 0.4000\n"
     ]
    },
    {
     "name": "stderr",
     "output_type": "stream",
     "text": [
      "C:\\Users\\user\\AppData\\Local\\Packages\\PythonSoftwareFoundation.Python.3.12_qbz5n2kfra8p0\\LocalCache\\local-packages\\Python312\\site-packages\\torch\\nn\\modules\\module.py:1736: UserWarning: Implicit dimension choice for softmax has been deprecated. Change the call to include dim=X as an argument.\n",
      "  return self._call_impl(*args, **kwargs)\n"
     ]
    },
    {
     "name": "stdout",
     "output_type": "stream",
     "text": [
      "Hidden Layers: [4], Activation: Softmax, Epochs: 250, LR: 0.01, Batch Size: 32, Accuracy: 0.4462\n"
     ]
    },
    {
     "name": "stderr",
     "output_type": "stream",
     "text": [
      "C:\\Users\\user\\AppData\\Local\\Packages\\PythonSoftwareFoundation.Python.3.12_qbz5n2kfra8p0\\LocalCache\\local-packages\\Python312\\site-packages\\torch\\nn\\modules\\module.py:1736: UserWarning: Implicit dimension choice for softmax has been deprecated. Change the call to include dim=X as an argument.\n",
      "  return self._call_impl(*args, **kwargs)\n"
     ]
    },
    {
     "name": "stdout",
     "output_type": "stream",
     "text": [
      "Hidden Layers: [4], Activation: Softmax, Epochs: 250, LR: 0.01, Batch Size: 64, Accuracy: 0.4385\n"
     ]
    },
    {
     "name": "stderr",
     "output_type": "stream",
     "text": [
      "C:\\Users\\user\\AppData\\Local\\Packages\\PythonSoftwareFoundation.Python.3.12_qbz5n2kfra8p0\\LocalCache\\local-packages\\Python312\\site-packages\\torch\\nn\\modules\\module.py:1736: UserWarning: Implicit dimension choice for softmax has been deprecated. Change the call to include dim=X as an argument.\n",
      "  return self._call_impl(*args, **kwargs)\n"
     ]
    },
    {
     "name": "stdout",
     "output_type": "stream",
     "text": [
      "Hidden Layers: [4], Activation: Softmax, Epochs: 250, LR: 0.01, Batch Size: 128, Accuracy: 0.4538\n"
     ]
    },
    {
     "name": "stderr",
     "output_type": "stream",
     "text": [
      "C:\\Users\\user\\AppData\\Local\\Packages\\PythonSoftwareFoundation.Python.3.12_qbz5n2kfra8p0\\LocalCache\\local-packages\\Python312\\site-packages\\torch\\nn\\modules\\module.py:1736: UserWarning: Implicit dimension choice for softmax has been deprecated. Change the call to include dim=X as an argument.\n",
      "  return self._call_impl(*args, **kwargs)\n"
     ]
    },
    {
     "name": "stdout",
     "output_type": "stream",
     "text": [
      "Hidden Layers: [4], Activation: Softmax, Epochs: 250, LR: 0.01, Batch Size: 256, Accuracy: 0.3154\n"
     ]
    },
    {
     "name": "stderr",
     "output_type": "stream",
     "text": [
      "C:\\Users\\user\\AppData\\Local\\Packages\\PythonSoftwareFoundation.Python.3.12_qbz5n2kfra8p0\\LocalCache\\local-packages\\Python312\\site-packages\\torch\\nn\\modules\\module.py:1736: UserWarning: Implicit dimension choice for softmax has been deprecated. Change the call to include dim=X as an argument.\n",
      "  return self._call_impl(*args, **kwargs)\n"
     ]
    },
    {
     "name": "stdout",
     "output_type": "stream",
     "text": [
      "Hidden Layers: [4], Activation: Softmax, Epochs: 250, LR: 0.01, Batch Size: 512, Accuracy: 0.3077\n"
     ]
    },
    {
     "name": "stderr",
     "output_type": "stream",
     "text": [
      "C:\\Users\\user\\AppData\\Local\\Packages\\PythonSoftwareFoundation.Python.3.12_qbz5n2kfra8p0\\LocalCache\\local-packages\\Python312\\site-packages\\torch\\nn\\modules\\module.py:1736: UserWarning: Implicit dimension choice for softmax has been deprecated. Change the call to include dim=X as an argument.\n",
      "  return self._call_impl(*args, **kwargs)\n"
     ]
    },
    {
     "name": "stdout",
     "output_type": "stream",
     "text": [
      "Hidden Layers: [4], Activation: Softmax, Epochs: 250, LR: 0.001, Batch Size: 16, Accuracy: 0.2923\n"
     ]
    },
    {
     "name": "stderr",
     "output_type": "stream",
     "text": [
      "C:\\Users\\user\\AppData\\Local\\Packages\\PythonSoftwareFoundation.Python.3.12_qbz5n2kfra8p0\\LocalCache\\local-packages\\Python312\\site-packages\\torch\\nn\\modules\\module.py:1736: UserWarning: Implicit dimension choice for softmax has been deprecated. Change the call to include dim=X as an argument.\n",
      "  return self._call_impl(*args, **kwargs)\n"
     ]
    },
    {
     "name": "stdout",
     "output_type": "stream",
     "text": [
      "Hidden Layers: [4], Activation: Softmax, Epochs: 250, LR: 0.001, Batch Size: 32, Accuracy: 0.2846\n"
     ]
    },
    {
     "name": "stderr",
     "output_type": "stream",
     "text": [
      "C:\\Users\\user\\AppData\\Local\\Packages\\PythonSoftwareFoundation.Python.3.12_qbz5n2kfra8p0\\LocalCache\\local-packages\\Python312\\site-packages\\torch\\nn\\modules\\module.py:1736: UserWarning: Implicit dimension choice for softmax has been deprecated. Change the call to include dim=X as an argument.\n",
      "  return self._call_impl(*args, **kwargs)\n"
     ]
    },
    {
     "name": "stdout",
     "output_type": "stream",
     "text": [
      "Hidden Layers: [4], Activation: Softmax, Epochs: 250, LR: 0.001, Batch Size: 64, Accuracy: 0.3000\n"
     ]
    },
    {
     "name": "stderr",
     "output_type": "stream",
     "text": [
      "C:\\Users\\user\\AppData\\Local\\Packages\\PythonSoftwareFoundation.Python.3.12_qbz5n2kfra8p0\\LocalCache\\local-packages\\Python312\\site-packages\\torch\\nn\\modules\\module.py:1736: UserWarning: Implicit dimension choice for softmax has been deprecated. Change the call to include dim=X as an argument.\n",
      "  return self._call_impl(*args, **kwargs)\n"
     ]
    },
    {
     "name": "stdout",
     "output_type": "stream",
     "text": [
      "Hidden Layers: [4], Activation: Softmax, Epochs: 250, LR: 0.001, Batch Size: 128, Accuracy: 0.2462\n"
     ]
    },
    {
     "name": "stderr",
     "output_type": "stream",
     "text": [
      "C:\\Users\\user\\AppData\\Local\\Packages\\PythonSoftwareFoundation.Python.3.12_qbz5n2kfra8p0\\LocalCache\\local-packages\\Python312\\site-packages\\torch\\nn\\modules\\module.py:1736: UserWarning: Implicit dimension choice for softmax has been deprecated. Change the call to include dim=X as an argument.\n",
      "  return self._call_impl(*args, **kwargs)\n"
     ]
    },
    {
     "name": "stdout",
     "output_type": "stream",
     "text": [
      "Hidden Layers: [4], Activation: Softmax, Epochs: 250, LR: 0.001, Batch Size: 256, Accuracy: 0.2462\n"
     ]
    },
    {
     "name": "stderr",
     "output_type": "stream",
     "text": [
      "C:\\Users\\user\\AppData\\Local\\Packages\\PythonSoftwareFoundation.Python.3.12_qbz5n2kfra8p0\\LocalCache\\local-packages\\Python312\\site-packages\\torch\\nn\\modules\\module.py:1736: UserWarning: Implicit dimension choice for softmax has been deprecated. Change the call to include dim=X as an argument.\n",
      "  return self._call_impl(*args, **kwargs)\n"
     ]
    },
    {
     "name": "stdout",
     "output_type": "stream",
     "text": [
      "Hidden Layers: [4], Activation: Softmax, Epochs: 250, LR: 0.001, Batch Size: 512, Accuracy: 0.1692\n"
     ]
    },
    {
     "name": "stderr",
     "output_type": "stream",
     "text": [
      "C:\\Users\\user\\AppData\\Local\\Packages\\PythonSoftwareFoundation.Python.3.12_qbz5n2kfra8p0\\LocalCache\\local-packages\\Python312\\site-packages\\torch\\nn\\modules\\module.py:1736: UserWarning: Implicit dimension choice for softmax has been deprecated. Change the call to include dim=X as an argument.\n",
      "  return self._call_impl(*args, **kwargs)\n"
     ]
    },
    {
     "name": "stdout",
     "output_type": "stream",
     "text": [
      "Hidden Layers: [4], Activation: Softmax, Epochs: 250, LR: 0.0001, Batch Size: 16, Accuracy: 0.1923\n"
     ]
    },
    {
     "name": "stderr",
     "output_type": "stream",
     "text": [
      "C:\\Users\\user\\AppData\\Local\\Packages\\PythonSoftwareFoundation.Python.3.12_qbz5n2kfra8p0\\LocalCache\\local-packages\\Python312\\site-packages\\torch\\nn\\modules\\module.py:1736: UserWarning: Implicit dimension choice for softmax has been deprecated. Change the call to include dim=X as an argument.\n",
      "  return self._call_impl(*args, **kwargs)\n"
     ]
    },
    {
     "name": "stdout",
     "output_type": "stream",
     "text": [
      "Hidden Layers: [4], Activation: Softmax, Epochs: 250, LR: 0.0001, Batch Size: 32, Accuracy: 0.2308\n"
     ]
    },
    {
     "name": "stderr",
     "output_type": "stream",
     "text": [
      "C:\\Users\\user\\AppData\\Local\\Packages\\PythonSoftwareFoundation.Python.3.12_qbz5n2kfra8p0\\LocalCache\\local-packages\\Python312\\site-packages\\torch\\nn\\modules\\module.py:1736: UserWarning: Implicit dimension choice for softmax has been deprecated. Change the call to include dim=X as an argument.\n",
      "  return self._call_impl(*args, **kwargs)\n"
     ]
    },
    {
     "name": "stdout",
     "output_type": "stream",
     "text": [
      "Hidden Layers: [4], Activation: Softmax, Epochs: 250, LR: 0.0001, Batch Size: 64, Accuracy: 0.1923\n"
     ]
    },
    {
     "name": "stderr",
     "output_type": "stream",
     "text": [
      "C:\\Users\\user\\AppData\\Local\\Packages\\PythonSoftwareFoundation.Python.3.12_qbz5n2kfra8p0\\LocalCache\\local-packages\\Python312\\site-packages\\torch\\nn\\modules\\module.py:1736: UserWarning: Implicit dimension choice for softmax has been deprecated. Change the call to include dim=X as an argument.\n",
      "  return self._call_impl(*args, **kwargs)\n"
     ]
    },
    {
     "name": "stdout",
     "output_type": "stream",
     "text": [
      "Hidden Layers: [4], Activation: Softmax, Epochs: 250, LR: 0.0001, Batch Size: 128, Accuracy: 0.1231\n"
     ]
    },
    {
     "name": "stderr",
     "output_type": "stream",
     "text": [
      "C:\\Users\\user\\AppData\\Local\\Packages\\PythonSoftwareFoundation.Python.3.12_qbz5n2kfra8p0\\LocalCache\\local-packages\\Python312\\site-packages\\torch\\nn\\modules\\module.py:1736: UserWarning: Implicit dimension choice for softmax has been deprecated. Change the call to include dim=X as an argument.\n",
      "  return self._call_impl(*args, **kwargs)\n"
     ]
    },
    {
     "name": "stdout",
     "output_type": "stream",
     "text": [
      "Hidden Layers: [4], Activation: Softmax, Epochs: 250, LR: 0.0001, Batch Size: 256, Accuracy: 0.1385\n"
     ]
    },
    {
     "name": "stderr",
     "output_type": "stream",
     "text": [
      "C:\\Users\\user\\AppData\\Local\\Packages\\PythonSoftwareFoundation.Python.3.12_qbz5n2kfra8p0\\LocalCache\\local-packages\\Python312\\site-packages\\torch\\nn\\modules\\module.py:1736: UserWarning: Implicit dimension choice for softmax has been deprecated. Change the call to include dim=X as an argument.\n",
      "  return self._call_impl(*args, **kwargs)\n"
     ]
    },
    {
     "name": "stdout",
     "output_type": "stream",
     "text": [
      "Hidden Layers: [4], Activation: Softmax, Epochs: 250, LR: 0.0001, Batch Size: 512, Accuracy: 0.0692\n",
      "Hidden Layers: [4], Activation: Tanh, Epochs: 1, LR: 10, Batch Size: 16, Accuracy: 0.1923\n",
      "Hidden Layers: [4], Activation: Tanh, Epochs: 1, LR: 10, Batch Size: 32, Accuracy: 0.1077\n",
      "Hidden Layers: [4], Activation: Tanh, Epochs: 1, LR: 10, Batch Size: 64, Accuracy: 0.0769\n",
      "Hidden Layers: [4], Activation: Tanh, Epochs: 1, LR: 10, Batch Size: 128, Accuracy: 0.0538\n",
      "Hidden Layers: [4], Activation: Tanh, Epochs: 1, LR: 10, Batch Size: 256, Accuracy: 0.1923\n",
      "Hidden Layers: [4], Activation: Tanh, Epochs: 1, LR: 10, Batch Size: 512, Accuracy: 0.1462\n",
      "Hidden Layers: [4], Activation: Tanh, Epochs: 1, LR: 1, Batch Size: 16, Accuracy: 0.1692\n",
      "Hidden Layers: [4], Activation: Tanh, Epochs: 1, LR: 1, Batch Size: 32, Accuracy: 0.1462\n",
      "Hidden Layers: [4], Activation: Tanh, Epochs: 1, LR: 1, Batch Size: 64, Accuracy: 0.1154\n",
      "Hidden Layers: [4], Activation: Tanh, Epochs: 1, LR: 1, Batch Size: 128, Accuracy: 0.1231\n",
      "Hidden Layers: [4], Activation: Tanh, Epochs: 1, LR: 1, Batch Size: 256, Accuracy: 0.1385\n",
      "Hidden Layers: [4], Activation: Tanh, Epochs: 1, LR: 1, Batch Size: 512, Accuracy: 0.0923\n",
      "Hidden Layers: [4], Activation: Tanh, Epochs: 1, LR: 0.1, Batch Size: 16, Accuracy: 0.2615\n",
      "Hidden Layers: [4], Activation: Tanh, Epochs: 1, LR: 0.1, Batch Size: 32, Accuracy: 0.2462\n",
      "Hidden Layers: [4], Activation: Tanh, Epochs: 1, LR: 0.1, Batch Size: 64, Accuracy: 0.1846\n",
      "Hidden Layers: [4], Activation: Tanh, Epochs: 1, LR: 0.1, Batch Size: 128, Accuracy: 0.1923\n",
      "Hidden Layers: [4], Activation: Tanh, Epochs: 1, LR: 0.1, Batch Size: 256, Accuracy: 0.2231\n",
      "Hidden Layers: [4], Activation: Tanh, Epochs: 1, LR: 0.1, Batch Size: 512, Accuracy: 0.1385\n",
      "Hidden Layers: [4], Activation: Tanh, Epochs: 1, LR: 0.01, Batch Size: 16, Accuracy: 0.1615\n",
      "Hidden Layers: [4], Activation: Tanh, Epochs: 1, LR: 0.01, Batch Size: 32, Accuracy: 0.1385\n",
      "Hidden Layers: [4], Activation: Tanh, Epochs: 1, LR: 0.01, Batch Size: 64, Accuracy: 0.1923\n",
      "Hidden Layers: [4], Activation: Tanh, Epochs: 1, LR: 0.01, Batch Size: 128, Accuracy: 0.0538\n",
      "Hidden Layers: [4], Activation: Tanh, Epochs: 1, LR: 0.01, Batch Size: 256, Accuracy: 0.0308\n",
      "Hidden Layers: [4], Activation: Tanh, Epochs: 1, LR: 0.01, Batch Size: 512, Accuracy: 0.0231\n",
      "Hidden Layers: [4], Activation: Tanh, Epochs: 1, LR: 0.001, Batch Size: 16, Accuracy: 0.0308\n",
      "Hidden Layers: [4], Activation: Tanh, Epochs: 1, LR: 0.001, Batch Size: 32, Accuracy: 0.0385\n",
      "Hidden Layers: [4], Activation: Tanh, Epochs: 1, LR: 0.001, Batch Size: 64, Accuracy: 0.0923\n",
      "Hidden Layers: [4], Activation: Tanh, Epochs: 1, LR: 0.001, Batch Size: 128, Accuracy: 0.0308\n",
      "Hidden Layers: [4], Activation: Tanh, Epochs: 1, LR: 0.001, Batch Size: 256, Accuracy: 0.0846\n",
      "Hidden Layers: [4], Activation: Tanh, Epochs: 1, LR: 0.001, Batch Size: 512, Accuracy: 0.0231\n",
      "Hidden Layers: [4], Activation: Tanh, Epochs: 1, LR: 0.0001, Batch Size: 16, Accuracy: 0.0000\n",
      "Hidden Layers: [4], Activation: Tanh, Epochs: 1, LR: 0.0001, Batch Size: 32, Accuracy: 0.0462\n",
      "Hidden Layers: [4], Activation: Tanh, Epochs: 1, LR: 0.0001, Batch Size: 64, Accuracy: 0.0538\n",
      "Hidden Layers: [4], Activation: Tanh, Epochs: 1, LR: 0.0001, Batch Size: 128, Accuracy: 0.0077\n",
      "Hidden Layers: [4], Activation: Tanh, Epochs: 1, LR: 0.0001, Batch Size: 256, Accuracy: 0.0538\n",
      "Hidden Layers: [4], Activation: Tanh, Epochs: 1, LR: 0.0001, Batch Size: 512, Accuracy: 0.1692\n",
      "Hidden Layers: [4], Activation: Tanh, Epochs: 10, LR: 10, Batch Size: 16, Accuracy: 0.1077\n",
      "Hidden Layers: [4], Activation: Tanh, Epochs: 10, LR: 10, Batch Size: 32, Accuracy: 0.1231\n",
      "Hidden Layers: [4], Activation: Tanh, Epochs: 10, LR: 10, Batch Size: 64, Accuracy: 0.1385\n",
      "Hidden Layers: [4], Activation: Tanh, Epochs: 10, LR: 10, Batch Size: 128, Accuracy: 0.0846\n",
      "Hidden Layers: [4], Activation: Tanh, Epochs: 10, LR: 10, Batch Size: 256, Accuracy: 0.1308\n",
      "Hidden Layers: [4], Activation: Tanh, Epochs: 10, LR: 10, Batch Size: 512, Accuracy: 0.1231\n",
      "Hidden Layers: [4], Activation: Tanh, Epochs: 10, LR: 1, Batch Size: 16, Accuracy: 0.1077\n",
      "Hidden Layers: [4], Activation: Tanh, Epochs: 10, LR: 1, Batch Size: 32, Accuracy: 0.1231\n",
      "Hidden Layers: [4], Activation: Tanh, Epochs: 10, LR: 1, Batch Size: 64, Accuracy: 0.1308\n",
      "Hidden Layers: [4], Activation: Tanh, Epochs: 10, LR: 1, Batch Size: 128, Accuracy: 0.1308\n",
      "Hidden Layers: [4], Activation: Tanh, Epochs: 10, LR: 1, Batch Size: 256, Accuracy: 0.2000\n",
      "Hidden Layers: [4], Activation: Tanh, Epochs: 10, LR: 1, Batch Size: 512, Accuracy: 0.0923\n",
      "Hidden Layers: [4], Activation: Tanh, Epochs: 10, LR: 0.1, Batch Size: 16, Accuracy: 0.2308\n",
      "Hidden Layers: [4], Activation: Tanh, Epochs: 10, LR: 0.1, Batch Size: 32, Accuracy: 0.3231\n",
      "Hidden Layers: [4], Activation: Tanh, Epochs: 10, LR: 0.1, Batch Size: 64, Accuracy: 0.3231\n",
      "Hidden Layers: [4], Activation: Tanh, Epochs: 10, LR: 0.1, Batch Size: 128, Accuracy: 0.3154\n",
      "Hidden Layers: [4], Activation: Tanh, Epochs: 10, LR: 0.1, Batch Size: 256, Accuracy: 0.2308\n",
      "Hidden Layers: [4], Activation: Tanh, Epochs: 10, LR: 0.1, Batch Size: 512, Accuracy: 0.2077\n",
      "Hidden Layers: [4], Activation: Tanh, Epochs: 10, LR: 0.01, Batch Size: 16, Accuracy: 0.3692\n",
      "Hidden Layers: [4], Activation: Tanh, Epochs: 10, LR: 0.01, Batch Size: 32, Accuracy: 0.3462\n",
      "Hidden Layers: [4], Activation: Tanh, Epochs: 10, LR: 0.01, Batch Size: 64, Accuracy: 0.3231\n",
      "Hidden Layers: [4], Activation: Tanh, Epochs: 10, LR: 0.01, Batch Size: 128, Accuracy: 0.2231\n",
      "Hidden Layers: [4], Activation: Tanh, Epochs: 10, LR: 0.01, Batch Size: 256, Accuracy: 0.1846\n",
      "Hidden Layers: [4], Activation: Tanh, Epochs: 10, LR: 0.01, Batch Size: 512, Accuracy: 0.1308\n",
      "Hidden Layers: [4], Activation: Tanh, Epochs: 10, LR: 0.001, Batch Size: 16, Accuracy: 0.1692\n",
      "Hidden Layers: [4], Activation: Tanh, Epochs: 10, LR: 0.001, Batch Size: 32, Accuracy: 0.1769\n",
      "Hidden Layers: [4], Activation: Tanh, Epochs: 10, LR: 0.001, Batch Size: 64, Accuracy: 0.1385\n",
      "Hidden Layers: [4], Activation: Tanh, Epochs: 10, LR: 0.001, Batch Size: 128, Accuracy: 0.0538\n",
      "Hidden Layers: [4], Activation: Tanh, Epochs: 10, LR: 0.001, Batch Size: 256, Accuracy: 0.0769\n",
      "Hidden Layers: [4], Activation: Tanh, Epochs: 10, LR: 0.001, Batch Size: 512, Accuracy: 0.0538\n",
      "Hidden Layers: [4], Activation: Tanh, Epochs: 10, LR: 0.0001, Batch Size: 16, Accuracy: 0.0769\n",
      "Hidden Layers: [4], Activation: Tanh, Epochs: 10, LR: 0.0001, Batch Size: 32, Accuracy: 0.0692\n",
      "Hidden Layers: [4], Activation: Tanh, Epochs: 10, LR: 0.0001, Batch Size: 64, Accuracy: 0.1077\n",
      "Hidden Layers: [4], Activation: Tanh, Epochs: 10, LR: 0.0001, Batch Size: 128, Accuracy: 0.0077\n",
      "Hidden Layers: [4], Activation: Tanh, Epochs: 10, LR: 0.0001, Batch Size: 256, Accuracy: 0.0462\n",
      "Hidden Layers: [4], Activation: Tanh, Epochs: 10, LR: 0.0001, Batch Size: 512, Accuracy: 0.1308\n",
      "Hidden Layers: [4], Activation: Tanh, Epochs: 25, LR: 10, Batch Size: 16, Accuracy: 0.0769\n",
      "Hidden Layers: [4], Activation: Tanh, Epochs: 25, LR: 10, Batch Size: 32, Accuracy: 0.0385\n",
      "Hidden Layers: [4], Activation: Tanh, Epochs: 25, LR: 10, Batch Size: 64, Accuracy: 0.1769\n",
      "Hidden Layers: [4], Activation: Tanh, Epochs: 25, LR: 10, Batch Size: 128, Accuracy: 0.1385\n",
      "Hidden Layers: [4], Activation: Tanh, Epochs: 25, LR: 10, Batch Size: 256, Accuracy: 0.1308\n",
      "Hidden Layers: [4], Activation: Tanh, Epochs: 25, LR: 10, Batch Size: 512, Accuracy: 0.0000\n",
      "Hidden Layers: [4], Activation: Tanh, Epochs: 25, LR: 1, Batch Size: 16, Accuracy: 0.0615\n",
      "Hidden Layers: [4], Activation: Tanh, Epochs: 25, LR: 1, Batch Size: 32, Accuracy: 0.1308\n",
      "Hidden Layers: [4], Activation: Tanh, Epochs: 25, LR: 1, Batch Size: 64, Accuracy: 0.1385\n",
      "Hidden Layers: [4], Activation: Tanh, Epochs: 25, LR: 1, Batch Size: 128, Accuracy: 0.1000\n",
      "Hidden Layers: [4], Activation: Tanh, Epochs: 25, LR: 1, Batch Size: 256, Accuracy: 0.1538\n",
      "Hidden Layers: [4], Activation: Tanh, Epochs: 25, LR: 1, Batch Size: 512, Accuracy: 0.1538\n",
      "Hidden Layers: [4], Activation: Tanh, Epochs: 25, LR: 0.1, Batch Size: 16, Accuracy: 0.3000\n",
      "Hidden Layers: [4], Activation: Tanh, Epochs: 25, LR: 0.1, Batch Size: 32, Accuracy: 0.3077\n",
      "Hidden Layers: [4], Activation: Tanh, Epochs: 25, LR: 0.1, Batch Size: 64, Accuracy: 0.3846\n",
      "Hidden Layers: [4], Activation: Tanh, Epochs: 25, LR: 0.1, Batch Size: 128, Accuracy: 0.4000\n",
      "Hidden Layers: [4], Activation: Tanh, Epochs: 25, LR: 0.1, Batch Size: 256, Accuracy: 0.2231\n",
      "Hidden Layers: [4], Activation: Tanh, Epochs: 25, LR: 0.1, Batch Size: 512, Accuracy: 0.3077\n",
      "Hidden Layers: [4], Activation: Tanh, Epochs: 25, LR: 0.01, Batch Size: 16, Accuracy: 0.4538\n",
      "Hidden Layers: [4], Activation: Tanh, Epochs: 25, LR: 0.01, Batch Size: 32, Accuracy: 0.3308\n",
      "Hidden Layers: [4], Activation: Tanh, Epochs: 25, LR: 0.01, Batch Size: 64, Accuracy: 0.4154\n",
      "Hidden Layers: [4], Activation: Tanh, Epochs: 25, LR: 0.01, Batch Size: 128, Accuracy: 0.3692\n",
      "Hidden Layers: [4], Activation: Tanh, Epochs: 25, LR: 0.01, Batch Size: 256, Accuracy: 0.2154\n",
      "Hidden Layers: [4], Activation: Tanh, Epochs: 25, LR: 0.01, Batch Size: 512, Accuracy: 0.1538\n",
      "Hidden Layers: [4], Activation: Tanh, Epochs: 25, LR: 0.001, Batch Size: 16, Accuracy: 0.3000\n",
      "Hidden Layers: [4], Activation: Tanh, Epochs: 25, LR: 0.001, Batch Size: 32, Accuracy: 0.1538\n",
      "Hidden Layers: [4], Activation: Tanh, Epochs: 25, LR: 0.001, Batch Size: 64, Accuracy: 0.2308\n",
      "Hidden Layers: [4], Activation: Tanh, Epochs: 25, LR: 0.001, Batch Size: 128, Accuracy: 0.0769\n",
      "Hidden Layers: [4], Activation: Tanh, Epochs: 25, LR: 0.001, Batch Size: 256, Accuracy: 0.1077\n",
      "Hidden Layers: [4], Activation: Tanh, Epochs: 25, LR: 0.001, Batch Size: 512, Accuracy: 0.0846\n",
      "Hidden Layers: [4], Activation: Tanh, Epochs: 25, LR: 0.0001, Batch Size: 16, Accuracy: 0.1462\n",
      "Hidden Layers: [4], Activation: Tanh, Epochs: 25, LR: 0.0001, Batch Size: 32, Accuracy: 0.1231\n",
      "Hidden Layers: [4], Activation: Tanh, Epochs: 25, LR: 0.0001, Batch Size: 64, Accuracy: 0.0385\n",
      "Hidden Layers: [4], Activation: Tanh, Epochs: 25, LR: 0.0001, Batch Size: 128, Accuracy: 0.1077\n",
      "Hidden Layers: [4], Activation: Tanh, Epochs: 25, LR: 0.0001, Batch Size: 256, Accuracy: 0.0462\n",
      "Hidden Layers: [4], Activation: Tanh, Epochs: 25, LR: 0.0001, Batch Size: 512, Accuracy: 0.0692\n",
      "Hidden Layers: [4], Activation: Tanh, Epochs: 50, LR: 10, Batch Size: 16, Accuracy: 0.0692\n",
      "Hidden Layers: [4], Activation: Tanh, Epochs: 50, LR: 10, Batch Size: 32, Accuracy: 0.0077\n",
      "Hidden Layers: [4], Activation: Tanh, Epochs: 50, LR: 10, Batch Size: 64, Accuracy: 0.0769\n",
      "Hidden Layers: [4], Activation: Tanh, Epochs: 50, LR: 10, Batch Size: 128, Accuracy: 0.1308\n",
      "Hidden Layers: [4], Activation: Tanh, Epochs: 50, LR: 10, Batch Size: 256, Accuracy: 0.0462\n",
      "Hidden Layers: [4], Activation: Tanh, Epochs: 50, LR: 10, Batch Size: 512, Accuracy: 0.1615\n",
      "Hidden Layers: [4], Activation: Tanh, Epochs: 50, LR: 1, Batch Size: 16, Accuracy: 0.1923\n",
      "Hidden Layers: [4], Activation: Tanh, Epochs: 50, LR: 1, Batch Size: 32, Accuracy: 0.1769\n",
      "Hidden Layers: [4], Activation: Tanh, Epochs: 50, LR: 1, Batch Size: 64, Accuracy: 0.0923\n",
      "Hidden Layers: [4], Activation: Tanh, Epochs: 50, LR: 1, Batch Size: 128, Accuracy: 0.2231\n",
      "Hidden Layers: [4], Activation: Tanh, Epochs: 50, LR: 1, Batch Size: 256, Accuracy: 0.1308\n",
      "Hidden Layers: [4], Activation: Tanh, Epochs: 50, LR: 1, Batch Size: 512, Accuracy: 0.2000\n",
      "Hidden Layers: [4], Activation: Tanh, Epochs: 50, LR: 0.1, Batch Size: 16, Accuracy: 0.3231\n",
      "Hidden Layers: [4], Activation: Tanh, Epochs: 50, LR: 0.1, Batch Size: 32, Accuracy: 0.3308\n",
      "Hidden Layers: [4], Activation: Tanh, Epochs: 50, LR: 0.1, Batch Size: 64, Accuracy: 0.3846\n",
      "Hidden Layers: [4], Activation: Tanh, Epochs: 50, LR: 0.1, Batch Size: 128, Accuracy: 0.3769\n",
      "Hidden Layers: [4], Activation: Tanh, Epochs: 50, LR: 0.1, Batch Size: 256, Accuracy: 0.3462\n",
      "Hidden Layers: [4], Activation: Tanh, Epochs: 50, LR: 0.1, Batch Size: 512, Accuracy: 0.2923\n",
      "Hidden Layers: [4], Activation: Tanh, Epochs: 50, LR: 0.01, Batch Size: 16, Accuracy: 0.4154\n",
      "Hidden Layers: [4], Activation: Tanh, Epochs: 50, LR: 0.01, Batch Size: 32, Accuracy: 0.4385\n",
      "Hidden Layers: [4], Activation: Tanh, Epochs: 50, LR: 0.01, Batch Size: 64, Accuracy: 0.4077\n",
      "Hidden Layers: [4], Activation: Tanh, Epochs: 50, LR: 0.01, Batch Size: 128, Accuracy: 0.3615\n",
      "Hidden Layers: [4], Activation: Tanh, Epochs: 50, LR: 0.01, Batch Size: 256, Accuracy: 0.3615\n",
      "Hidden Layers: [4], Activation: Tanh, Epochs: 50, LR: 0.01, Batch Size: 512, Accuracy: 0.2846\n",
      "Hidden Layers: [4], Activation: Tanh, Epochs: 50, LR: 0.001, Batch Size: 16, Accuracy: 0.3923\n",
      "Hidden Layers: [4], Activation: Tanh, Epochs: 50, LR: 0.001, Batch Size: 32, Accuracy: 0.2923\n",
      "Hidden Layers: [4], Activation: Tanh, Epochs: 50, LR: 0.001, Batch Size: 64, Accuracy: 0.2538\n",
      "Hidden Layers: [4], Activation: Tanh, Epochs: 50, LR: 0.001, Batch Size: 128, Accuracy: 0.1923\n",
      "Hidden Layers: [4], Activation: Tanh, Epochs: 50, LR: 0.001, Batch Size: 256, Accuracy: 0.2308\n",
      "Hidden Layers: [4], Activation: Tanh, Epochs: 50, LR: 0.001, Batch Size: 512, Accuracy: 0.1385\n",
      "Hidden Layers: [4], Activation: Tanh, Epochs: 50, LR: 0.0001, Batch Size: 16, Accuracy: 0.1385\n",
      "Hidden Layers: [4], Activation: Tanh, Epochs: 50, LR: 0.0001, Batch Size: 32, Accuracy: 0.0923\n",
      "Hidden Layers: [4], Activation: Tanh, Epochs: 50, LR: 0.0001, Batch Size: 64, Accuracy: 0.0615\n",
      "Hidden Layers: [4], Activation: Tanh, Epochs: 50, LR: 0.0001, Batch Size: 128, Accuracy: 0.1231\n",
      "Hidden Layers: [4], Activation: Tanh, Epochs: 50, LR: 0.0001, Batch Size: 256, Accuracy: 0.1000\n",
      "Hidden Layers: [4], Activation: Tanh, Epochs: 50, LR: 0.0001, Batch Size: 512, Accuracy: 0.0462\n",
      "Hidden Layers: [4], Activation: Tanh, Epochs: 100, LR: 10, Batch Size: 16, Accuracy: 0.2231\n",
      "Hidden Layers: [4], Activation: Tanh, Epochs: 100, LR: 10, Batch Size: 32, Accuracy: 0.0615\n",
      "Hidden Layers: [4], Activation: Tanh, Epochs: 100, LR: 10, Batch Size: 64, Accuracy: 0.1923\n",
      "Hidden Layers: [4], Activation: Tanh, Epochs: 100, LR: 10, Batch Size: 128, Accuracy: 0.0385\n",
      "Hidden Layers: [4], Activation: Tanh, Epochs: 100, LR: 10, Batch Size: 256, Accuracy: 0.1308\n",
      "Hidden Layers: [4], Activation: Tanh, Epochs: 100, LR: 10, Batch Size: 512, Accuracy: 0.1923\n",
      "Hidden Layers: [4], Activation: Tanh, Epochs: 100, LR: 1, Batch Size: 16, Accuracy: 0.1538\n",
      "Hidden Layers: [4], Activation: Tanh, Epochs: 100, LR: 1, Batch Size: 32, Accuracy: 0.1308\n",
      "Hidden Layers: [4], Activation: Tanh, Epochs: 100, LR: 1, Batch Size: 64, Accuracy: 0.2462\n",
      "Hidden Layers: [4], Activation: Tanh, Epochs: 100, LR: 1, Batch Size: 128, Accuracy: 0.1615\n",
      "Hidden Layers: [4], Activation: Tanh, Epochs: 100, LR: 1, Batch Size: 256, Accuracy: 0.1692\n",
      "Hidden Layers: [4], Activation: Tanh, Epochs: 100, LR: 1, Batch Size: 512, Accuracy: 0.1923\n",
      "Hidden Layers: [4], Activation: Tanh, Epochs: 100, LR: 0.1, Batch Size: 16, Accuracy: 0.3308\n",
      "Hidden Layers: [4], Activation: Tanh, Epochs: 100, LR: 0.1, Batch Size: 32, Accuracy: 0.3385\n",
      "Hidden Layers: [4], Activation: Tanh, Epochs: 100, LR: 0.1, Batch Size: 64, Accuracy: 0.2308\n",
      "Hidden Layers: [4], Activation: Tanh, Epochs: 100, LR: 0.1, Batch Size: 128, Accuracy: 0.2538\n",
      "Hidden Layers: [4], Activation: Tanh, Epochs: 100, LR: 0.1, Batch Size: 256, Accuracy: 0.3231\n",
      "Hidden Layers: [4], Activation: Tanh, Epochs: 100, LR: 0.1, Batch Size: 512, Accuracy: 0.2692\n",
      "Hidden Layers: [4], Activation: Tanh, Epochs: 100, LR: 0.01, Batch Size: 16, Accuracy: 0.3846\n",
      "Hidden Layers: [4], Activation: Tanh, Epochs: 100, LR: 0.01, Batch Size: 32, Accuracy: 0.3846\n",
      "Hidden Layers: [4], Activation: Tanh, Epochs: 100, LR: 0.01, Batch Size: 64, Accuracy: 0.4846\n",
      "Hidden Layers: [4], Activation: Tanh, Epochs: 100, LR: 0.01, Batch Size: 128, Accuracy: 0.4308\n",
      "Hidden Layers: [4], Activation: Tanh, Epochs: 100, LR: 0.01, Batch Size: 256, Accuracy: 0.4385\n",
      "Hidden Layers: [4], Activation: Tanh, Epochs: 100, LR: 0.01, Batch Size: 512, Accuracy: 0.3000\n",
      "Hidden Layers: [4], Activation: Tanh, Epochs: 100, LR: 0.001, Batch Size: 16, Accuracy: 0.3923\n",
      "Hidden Layers: [4], Activation: Tanh, Epochs: 100, LR: 0.001, Batch Size: 32, Accuracy: 0.3692\n",
      "Hidden Layers: [4], Activation: Tanh, Epochs: 100, LR: 0.001, Batch Size: 64, Accuracy: 0.3000\n",
      "Hidden Layers: [4], Activation: Tanh, Epochs: 100, LR: 0.001, Batch Size: 128, Accuracy: 0.2462\n",
      "Hidden Layers: [4], Activation: Tanh, Epochs: 100, LR: 0.001, Batch Size: 256, Accuracy: 0.2154\n",
      "Hidden Layers: [4], Activation: Tanh, Epochs: 100, LR: 0.001, Batch Size: 512, Accuracy: 0.1769\n",
      "Hidden Layers: [4], Activation: Tanh, Epochs: 100, LR: 0.0001, Batch Size: 16, Accuracy: 0.2154\n",
      "Hidden Layers: [4], Activation: Tanh, Epochs: 100, LR: 0.0001, Batch Size: 32, Accuracy: 0.2077\n",
      "Hidden Layers: [4], Activation: Tanh, Epochs: 100, LR: 0.0001, Batch Size: 64, Accuracy: 0.0846\n",
      "Hidden Layers: [4], Activation: Tanh, Epochs: 100, LR: 0.0001, Batch Size: 128, Accuracy: 0.0615\n",
      "Hidden Layers: [4], Activation: Tanh, Epochs: 100, LR: 0.0001, Batch Size: 256, Accuracy: 0.0538\n",
      "Hidden Layers: [4], Activation: Tanh, Epochs: 100, LR: 0.0001, Batch Size: 512, Accuracy: 0.0692\n",
      "Hidden Layers: [4], Activation: Tanh, Epochs: 250, LR: 10, Batch Size: 16, Accuracy: 0.1846\n",
      "Hidden Layers: [4], Activation: Tanh, Epochs: 250, LR: 10, Batch Size: 32, Accuracy: 0.1308\n",
      "Hidden Layers: [4], Activation: Tanh, Epochs: 250, LR: 10, Batch Size: 64, Accuracy: 0.1000\n",
      "Hidden Layers: [4], Activation: Tanh, Epochs: 250, LR: 10, Batch Size: 128, Accuracy: 0.2231\n",
      "Hidden Layers: [4], Activation: Tanh, Epochs: 250, LR: 10, Batch Size: 256, Accuracy: 0.0154\n",
      "Hidden Layers: [4], Activation: Tanh, Epochs: 250, LR: 10, Batch Size: 512, Accuracy: 0.0385\n",
      "Hidden Layers: [4], Activation: Tanh, Epochs: 250, LR: 1, Batch Size: 16, Accuracy: 0.0769\n",
      "Hidden Layers: [4], Activation: Tanh, Epochs: 250, LR: 1, Batch Size: 32, Accuracy: 0.1462\n",
      "Hidden Layers: [4], Activation: Tanh, Epochs: 250, LR: 1, Batch Size: 64, Accuracy: 0.1308\n",
      "Hidden Layers: [4], Activation: Tanh, Epochs: 250, LR: 1, Batch Size: 128, Accuracy: 0.2000\n",
      "Hidden Layers: [4], Activation: Tanh, Epochs: 250, LR: 1, Batch Size: 256, Accuracy: 0.2077\n",
      "Hidden Layers: [4], Activation: Tanh, Epochs: 250, LR: 1, Batch Size: 512, Accuracy: 0.0923\n",
      "Hidden Layers: [4], Activation: Tanh, Epochs: 250, LR: 0.1, Batch Size: 16, Accuracy: 0.3462\n",
      "Hidden Layers: [4], Activation: Tanh, Epochs: 250, LR: 0.1, Batch Size: 32, Accuracy: 0.2769\n",
      "Hidden Layers: [4], Activation: Tanh, Epochs: 250, LR: 0.1, Batch Size: 64, Accuracy: 0.3154\n",
      "Hidden Layers: [4], Activation: Tanh, Epochs: 250, LR: 0.1, Batch Size: 128, Accuracy: 0.3000\n",
      "Hidden Layers: [4], Activation: Tanh, Epochs: 250, LR: 0.1, Batch Size: 256, Accuracy: 0.3846\n",
      "Hidden Layers: [4], Activation: Tanh, Epochs: 250, LR: 0.1, Batch Size: 512, Accuracy: 0.3923\n",
      "Hidden Layers: [4], Activation: Tanh, Epochs: 250, LR: 0.01, Batch Size: 16, Accuracy: 0.3538\n",
      "Hidden Layers: [4], Activation: Tanh, Epochs: 250, LR: 0.01, Batch Size: 32, Accuracy: 0.4538\n",
      "Hidden Layers: [4], Activation: Tanh, Epochs: 250, LR: 0.01, Batch Size: 64, Accuracy: 0.4000\n",
      "Hidden Layers: [4], Activation: Tanh, Epochs: 250, LR: 0.01, Batch Size: 128, Accuracy: 0.4000\n",
      "Hidden Layers: [4], Activation: Tanh, Epochs: 250, LR: 0.01, Batch Size: 256, Accuracy: 0.4000\n",
      "Hidden Layers: [4], Activation: Tanh, Epochs: 250, LR: 0.01, Batch Size: 512, Accuracy: 0.4615\n",
      "Hidden Layers: [4], Activation: Tanh, Epochs: 250, LR: 0.001, Batch Size: 16, Accuracy: 0.4462\n",
      "Hidden Layers: [4], Activation: Tanh, Epochs: 250, LR: 0.001, Batch Size: 32, Accuracy: 0.4692\n",
      "Hidden Layers: [4], Activation: Tanh, Epochs: 250, LR: 0.001, Batch Size: 64, Accuracy: 0.3846\n",
      "Hidden Layers: [4], Activation: Tanh, Epochs: 250, LR: 0.001, Batch Size: 128, Accuracy: 0.3462\n",
      "Hidden Layers: [4], Activation: Tanh, Epochs: 250, LR: 0.001, Batch Size: 256, Accuracy: 0.3462\n",
      "Hidden Layers: [4], Activation: Tanh, Epochs: 250, LR: 0.001, Batch Size: 512, Accuracy: 0.1615\n",
      "Hidden Layers: [4], Activation: Tanh, Epochs: 250, LR: 0.0001, Batch Size: 16, Accuracy: 0.2846\n",
      "Hidden Layers: [4], Activation: Tanh, Epochs: 250, LR: 0.0001, Batch Size: 32, Accuracy: 0.1769\n",
      "Hidden Layers: [4], Activation: Tanh, Epochs: 250, LR: 0.0001, Batch Size: 64, Accuracy: 0.1462\n",
      "Hidden Layers: [4], Activation: Tanh, Epochs: 250, LR: 0.0001, Batch Size: 128, Accuracy: 0.1615\n",
      "Hidden Layers: [4], Activation: Tanh, Epochs: 250, LR: 0.0001, Batch Size: 256, Accuracy: 0.0615\n",
      "Hidden Layers: [4], Activation: Tanh, Epochs: 250, LR: 0.0001, Batch Size: 512, Accuracy: 0.0923\n",
      "Hidden Layers: [8, 4], Activation: Identity, Epochs: 1, LR: 10, Batch Size: 16, Accuracy: 0.1154\n",
      "Hidden Layers: [8, 4], Activation: Identity, Epochs: 1, LR: 10, Batch Size: 32, Accuracy: 0.1769\n",
      "Hidden Layers: [8, 4], Activation: Identity, Epochs: 1, LR: 10, Batch Size: 64, Accuracy: 0.1538\n",
      "Hidden Layers: [8, 4], Activation: Identity, Epochs: 1, LR: 10, Batch Size: 128, Accuracy: 0.0615\n",
      "Hidden Layers: [8, 4], Activation: Identity, Epochs: 1, LR: 10, Batch Size: 256, Accuracy: 0.1615\n",
      "Hidden Layers: [8, 4], Activation: Identity, Epochs: 1, LR: 10, Batch Size: 512, Accuracy: 0.0692\n",
      "Hidden Layers: [8, 4], Activation: Identity, Epochs: 1, LR: 1, Batch Size: 16, Accuracy: 0.1462\n",
      "Hidden Layers: [8, 4], Activation: Identity, Epochs: 1, LR: 1, Batch Size: 32, Accuracy: 0.0462\n",
      "Hidden Layers: [8, 4], Activation: Identity, Epochs: 1, LR: 1, Batch Size: 64, Accuracy: 0.1385\n",
      "Hidden Layers: [8, 4], Activation: Identity, Epochs: 1, LR: 1, Batch Size: 128, Accuracy: 0.1923\n",
      "Hidden Layers: [8, 4], Activation: Identity, Epochs: 1, LR: 1, Batch Size: 256, Accuracy: 0.0692\n",
      "Hidden Layers: [8, 4], Activation: Identity, Epochs: 1, LR: 1, Batch Size: 512, Accuracy: 0.1923\n",
      "Hidden Layers: [8, 4], Activation: Identity, Epochs: 1, LR: 0.1, Batch Size: 16, Accuracy: 0.1538\n",
      "Hidden Layers: [8, 4], Activation: Identity, Epochs: 1, LR: 0.1, Batch Size: 32, Accuracy: 0.3231\n",
      "Hidden Layers: [8, 4], Activation: Identity, Epochs: 1, LR: 0.1, Batch Size: 64, Accuracy: 0.2615\n",
      "Hidden Layers: [8, 4], Activation: Identity, Epochs: 1, LR: 0.1, Batch Size: 128, Accuracy: 0.2231\n",
      "Hidden Layers: [8, 4], Activation: Identity, Epochs: 1, LR: 0.1, Batch Size: 256, Accuracy: 0.1615\n",
      "Hidden Layers: [8, 4], Activation: Identity, Epochs: 1, LR: 0.1, Batch Size: 512, Accuracy: 0.1769\n",
      "Hidden Layers: [8, 4], Activation: Identity, Epochs: 1, LR: 0.01, Batch Size: 16, Accuracy: 0.2000\n",
      "Hidden Layers: [8, 4], Activation: Identity, Epochs: 1, LR: 0.01, Batch Size: 32, Accuracy: 0.1846\n",
      "Hidden Layers: [8, 4], Activation: Identity, Epochs: 1, LR: 0.01, Batch Size: 64, Accuracy: 0.1154\n",
      "Hidden Layers: [8, 4], Activation: Identity, Epochs: 1, LR: 0.01, Batch Size: 128, Accuracy: 0.1308\n",
      "Hidden Layers: [8, 4], Activation: Identity, Epochs: 1, LR: 0.01, Batch Size: 256, Accuracy: 0.1308\n",
      "Hidden Layers: [8, 4], Activation: Identity, Epochs: 1, LR: 0.01, Batch Size: 512, Accuracy: 0.0692\n",
      "Hidden Layers: [8, 4], Activation: Identity, Epochs: 1, LR: 0.001, Batch Size: 16, Accuracy: 0.1077\n",
      "Hidden Layers: [8, 4], Activation: Identity, Epochs: 1, LR: 0.001, Batch Size: 32, Accuracy: 0.1692\n",
      "Hidden Layers: [8, 4], Activation: Identity, Epochs: 1, LR: 0.001, Batch Size: 64, Accuracy: 0.1077\n",
      "Hidden Layers: [8, 4], Activation: Identity, Epochs: 1, LR: 0.001, Batch Size: 128, Accuracy: 0.0846\n",
      "Hidden Layers: [8, 4], Activation: Identity, Epochs: 1, LR: 0.001, Batch Size: 256, Accuracy: 0.1231\n",
      "Hidden Layers: [8, 4], Activation: Identity, Epochs: 1, LR: 0.001, Batch Size: 512, Accuracy: 0.0000\n",
      "Hidden Layers: [8, 4], Activation: Identity, Epochs: 1, LR: 0.0001, Batch Size: 16, Accuracy: 0.0385\n",
      "Hidden Layers: [8, 4], Activation: Identity, Epochs: 1, LR: 0.0001, Batch Size: 32, Accuracy: 0.0077\n",
      "Hidden Layers: [8, 4], Activation: Identity, Epochs: 1, LR: 0.0001, Batch Size: 64, Accuracy: 0.0154\n",
      "Hidden Layers: [8, 4], Activation: Identity, Epochs: 1, LR: 0.0001, Batch Size: 128, Accuracy: 0.0154\n",
      "Hidden Layers: [8, 4], Activation: Identity, Epochs: 1, LR: 0.0001, Batch Size: 256, Accuracy: 0.0692\n",
      "Hidden Layers: [8, 4], Activation: Identity, Epochs: 1, LR: 0.0001, Batch Size: 512, Accuracy: 0.0538\n",
      "Hidden Layers: [8, 4], Activation: Identity, Epochs: 10, LR: 10, Batch Size: 16, Accuracy: 0.1615\n",
      "Hidden Layers: [8, 4], Activation: Identity, Epochs: 10, LR: 10, Batch Size: 32, Accuracy: 0.2692\n",
      "Hidden Layers: [8, 4], Activation: Identity, Epochs: 10, LR: 10, Batch Size: 64, Accuracy: 0.1385\n",
      "Hidden Layers: [8, 4], Activation: Identity, Epochs: 10, LR: 10, Batch Size: 128, Accuracy: 0.1846\n",
      "Hidden Layers: [8, 4], Activation: Identity, Epochs: 10, LR: 10, Batch Size: 256, Accuracy: 0.1000\n",
      "Hidden Layers: [8, 4], Activation: Identity, Epochs: 10, LR: 10, Batch Size: 512, Accuracy: 0.1385\n",
      "Hidden Layers: [8, 4], Activation: Identity, Epochs: 10, LR: 1, Batch Size: 16, Accuracy: 0.2077\n",
      "Hidden Layers: [8, 4], Activation: Identity, Epochs: 10, LR: 1, Batch Size: 32, Accuracy: 0.3000\n",
      "Hidden Layers: [8, 4], Activation: Identity, Epochs: 10, LR: 1, Batch Size: 64, Accuracy: 0.2692\n",
      "Hidden Layers: [8, 4], Activation: Identity, Epochs: 10, LR: 1, Batch Size: 128, Accuracy: 0.2308\n",
      "Hidden Layers: [8, 4], Activation: Identity, Epochs: 10, LR: 1, Batch Size: 256, Accuracy: 0.1077\n",
      "Hidden Layers: [8, 4], Activation: Identity, Epochs: 10, LR: 1, Batch Size: 512, Accuracy: 0.1615\n",
      "Hidden Layers: [8, 4], Activation: Identity, Epochs: 10, LR: 0.1, Batch Size: 16, Accuracy: 0.4077\n",
      "Hidden Layers: [8, 4], Activation: Identity, Epochs: 10, LR: 0.1, Batch Size: 32, Accuracy: 0.4000\n",
      "Hidden Layers: [8, 4], Activation: Identity, Epochs: 10, LR: 0.1, Batch Size: 64, Accuracy: 0.3615\n",
      "Hidden Layers: [8, 4], Activation: Identity, Epochs: 10, LR: 0.1, Batch Size: 128, Accuracy: 0.3231\n",
      "Hidden Layers: [8, 4], Activation: Identity, Epochs: 10, LR: 0.1, Batch Size: 256, Accuracy: 0.2385\n",
      "Hidden Layers: [8, 4], Activation: Identity, Epochs: 10, LR: 0.1, Batch Size: 512, Accuracy: 0.2308\n",
      "Hidden Layers: [8, 4], Activation: Identity, Epochs: 10, LR: 0.01, Batch Size: 16, Accuracy: 0.4385\n",
      "Hidden Layers: [8, 4], Activation: Identity, Epochs: 10, LR: 0.01, Batch Size: 32, Accuracy: 0.3538\n",
      "Hidden Layers: [8, 4], Activation: Identity, Epochs: 10, LR: 0.01, Batch Size: 64, Accuracy: 0.3385\n",
      "Hidden Layers: [8, 4], Activation: Identity, Epochs: 10, LR: 0.01, Batch Size: 128, Accuracy: 0.3308\n",
      "Hidden Layers: [8, 4], Activation: Identity, Epochs: 10, LR: 0.01, Batch Size: 256, Accuracy: 0.2308\n",
      "Hidden Layers: [8, 4], Activation: Identity, Epochs: 10, LR: 0.01, Batch Size: 512, Accuracy: 0.2308\n",
      "Hidden Layers: [8, 4], Activation: Identity, Epochs: 10, LR: 0.001, Batch Size: 16, Accuracy: 0.2462\n",
      "Hidden Layers: [8, 4], Activation: Identity, Epochs: 10, LR: 0.001, Batch Size: 32, Accuracy: 0.1308\n",
      "Hidden Layers: [8, 4], Activation: Identity, Epochs: 10, LR: 0.001, Batch Size: 64, Accuracy: 0.2000\n",
      "Hidden Layers: [8, 4], Activation: Identity, Epochs: 10, LR: 0.001, Batch Size: 128, Accuracy: 0.1077\n",
      "Hidden Layers: [8, 4], Activation: Identity, Epochs: 10, LR: 0.001, Batch Size: 256, Accuracy: 0.1154\n",
      "Hidden Layers: [8, 4], Activation: Identity, Epochs: 10, LR: 0.001, Batch Size: 512, Accuracy: 0.0538\n",
      "Hidden Layers: [8, 4], Activation: Identity, Epochs: 10, LR: 0.0001, Batch Size: 16, Accuracy: 0.1462\n",
      "Hidden Layers: [8, 4], Activation: Identity, Epochs: 10, LR: 0.0001, Batch Size: 32, Accuracy: 0.0769\n",
      "Hidden Layers: [8, 4], Activation: Identity, Epochs: 10, LR: 0.0001, Batch Size: 64, Accuracy: 0.1231\n",
      "Hidden Layers: [8, 4], Activation: Identity, Epochs: 10, LR: 0.0001, Batch Size: 128, Accuracy: 0.0923\n",
      "Hidden Layers: [8, 4], Activation: Identity, Epochs: 10, LR: 0.0001, Batch Size: 256, Accuracy: 0.0231\n",
      "Hidden Layers: [8, 4], Activation: Identity, Epochs: 10, LR: 0.0001, Batch Size: 512, Accuracy: 0.0846\n",
      "Hidden Layers: [8, 4], Activation: Identity, Epochs: 25, LR: 10, Batch Size: 16, Accuracy: 0.3077\n",
      "Hidden Layers: [8, 4], Activation: Identity, Epochs: 25, LR: 10, Batch Size: 32, Accuracy: 0.2769\n",
      "Hidden Layers: [8, 4], Activation: Identity, Epochs: 25, LR: 10, Batch Size: 64, Accuracy: 0.3308\n",
      "Hidden Layers: [8, 4], Activation: Identity, Epochs: 25, LR: 10, Batch Size: 128, Accuracy: 0.2231\n",
      "Hidden Layers: [8, 4], Activation: Identity, Epochs: 25, LR: 10, Batch Size: 256, Accuracy: 0.1615\n",
      "Hidden Layers: [8, 4], Activation: Identity, Epochs: 25, LR: 10, Batch Size: 512, Accuracy: 0.1308\n",
      "Hidden Layers: [8, 4], Activation: Identity, Epochs: 25, LR: 1, Batch Size: 16, Accuracy: 0.2231\n",
      "Hidden Layers: [8, 4], Activation: Identity, Epochs: 25, LR: 1, Batch Size: 32, Accuracy: 0.1769\n",
      "Hidden Layers: [8, 4], Activation: Identity, Epochs: 25, LR: 1, Batch Size: 64, Accuracy: 0.3846\n",
      "Hidden Layers: [8, 4], Activation: Identity, Epochs: 25, LR: 1, Batch Size: 128, Accuracy: 0.1462\n",
      "Hidden Layers: [8, 4], Activation: Identity, Epochs: 25, LR: 1, Batch Size: 256, Accuracy: 0.1538\n",
      "Hidden Layers: [8, 4], Activation: Identity, Epochs: 25, LR: 1, Batch Size: 512, Accuracy: 0.1538\n",
      "Hidden Layers: [8, 4], Activation: Identity, Epochs: 25, LR: 0.1, Batch Size: 16, Accuracy: 0.3077\n",
      "Hidden Layers: [8, 4], Activation: Identity, Epochs: 25, LR: 0.1, Batch Size: 32, Accuracy: 0.2846\n",
      "Hidden Layers: [8, 4], Activation: Identity, Epochs: 25, LR: 0.1, Batch Size: 64, Accuracy: 0.3154\n",
      "Hidden Layers: [8, 4], Activation: Identity, Epochs: 25, LR: 0.1, Batch Size: 128, Accuracy: 0.3154\n",
      "Hidden Layers: [8, 4], Activation: Identity, Epochs: 25, LR: 0.1, Batch Size: 256, Accuracy: 0.3231\n",
      "Hidden Layers: [8, 4], Activation: Identity, Epochs: 25, LR: 0.1, Batch Size: 512, Accuracy: 0.3000\n",
      "Hidden Layers: [8, 4], Activation: Identity, Epochs: 25, LR: 0.01, Batch Size: 16, Accuracy: 0.3846\n",
      "Hidden Layers: [8, 4], Activation: Identity, Epochs: 25, LR: 0.01, Batch Size: 32, Accuracy: 0.4154\n",
      "Hidden Layers: [8, 4], Activation: Identity, Epochs: 25, LR: 0.01, Batch Size: 64, Accuracy: 0.3923\n",
      "Hidden Layers: [8, 4], Activation: Identity, Epochs: 25, LR: 0.01, Batch Size: 128, Accuracy: 0.3846\n",
      "Hidden Layers: [8, 4], Activation: Identity, Epochs: 25, LR: 0.01, Batch Size: 256, Accuracy: 0.2615\n",
      "Hidden Layers: [8, 4], Activation: Identity, Epochs: 25, LR: 0.01, Batch Size: 512, Accuracy: 0.2615\n",
      "Hidden Layers: [8, 4], Activation: Identity, Epochs: 25, LR: 0.001, Batch Size: 16, Accuracy: 0.3846\n",
      "Hidden Layers: [8, 4], Activation: Identity, Epochs: 25, LR: 0.001, Batch Size: 32, Accuracy: 0.2538\n",
      "Hidden Layers: [8, 4], Activation: Identity, Epochs: 25, LR: 0.001, Batch Size: 64, Accuracy: 0.2077\n",
      "Hidden Layers: [8, 4], Activation: Identity, Epochs: 25, LR: 0.001, Batch Size: 128, Accuracy: 0.2077\n",
      "Hidden Layers: [8, 4], Activation: Identity, Epochs: 25, LR: 0.001, Batch Size: 256, Accuracy: 0.1308\n",
      "Hidden Layers: [8, 4], Activation: Identity, Epochs: 25, LR: 0.001, Batch Size: 512, Accuracy: 0.0154\n",
      "Hidden Layers: [8, 4], Activation: Identity, Epochs: 25, LR: 0.0001, Batch Size: 16, Accuracy: 0.1231\n",
      "Hidden Layers: [8, 4], Activation: Identity, Epochs: 25, LR: 0.0001, Batch Size: 32, Accuracy: 0.0769\n",
      "Hidden Layers: [8, 4], Activation: Identity, Epochs: 25, LR: 0.0001, Batch Size: 64, Accuracy: 0.0538\n",
      "Hidden Layers: [8, 4], Activation: Identity, Epochs: 25, LR: 0.0001, Batch Size: 128, Accuracy: 0.0077\n",
      "Hidden Layers: [8, 4], Activation: Identity, Epochs: 25, LR: 0.0001, Batch Size: 256, Accuracy: 0.0462\n",
      "Hidden Layers: [8, 4], Activation: Identity, Epochs: 25, LR: 0.0001, Batch Size: 512, Accuracy: 0.0000\n",
      "Hidden Layers: [8, 4], Activation: Identity, Epochs: 50, LR: 10, Batch Size: 16, Accuracy: 0.2154\n",
      "Hidden Layers: [8, 4], Activation: Identity, Epochs: 50, LR: 10, Batch Size: 32, Accuracy: 0.2923\n",
      "Hidden Layers: [8, 4], Activation: Identity, Epochs: 50, LR: 10, Batch Size: 64, Accuracy: 0.3077\n",
      "Hidden Layers: [8, 4], Activation: Identity, Epochs: 50, LR: 10, Batch Size: 128, Accuracy: 0.2000\n",
      "Hidden Layers: [8, 4], Activation: Identity, Epochs: 50, LR: 10, Batch Size: 256, Accuracy: 0.3077\n",
      "Hidden Layers: [8, 4], Activation: Identity, Epochs: 50, LR: 10, Batch Size: 512, Accuracy: 0.1231\n",
      "Hidden Layers: [8, 4], Activation: Identity, Epochs: 50, LR: 1, Batch Size: 16, Accuracy: 0.3385\n",
      "Hidden Layers: [8, 4], Activation: Identity, Epochs: 50, LR: 1, Batch Size: 32, Accuracy: 0.3385\n",
      "Hidden Layers: [8, 4], Activation: Identity, Epochs: 50, LR: 1, Batch Size: 64, Accuracy: 0.4538\n",
      "Hidden Layers: [8, 4], Activation: Identity, Epochs: 50, LR: 1, Batch Size: 128, Accuracy: 0.3154\n",
      "Hidden Layers: [8, 4], Activation: Identity, Epochs: 50, LR: 1, Batch Size: 256, Accuracy: 0.3538\n",
      "Hidden Layers: [8, 4], Activation: Identity, Epochs: 50, LR: 1, Batch Size: 512, Accuracy: 0.2308\n",
      "Hidden Layers: [8, 4], Activation: Identity, Epochs: 50, LR: 0.1, Batch Size: 16, Accuracy: 0.3692\n",
      "Hidden Layers: [8, 4], Activation: Identity, Epochs: 50, LR: 0.1, Batch Size: 32, Accuracy: 0.4000\n",
      "Hidden Layers: [8, 4], Activation: Identity, Epochs: 50, LR: 0.1, Batch Size: 64, Accuracy: 0.4077\n",
      "Hidden Layers: [8, 4], Activation: Identity, Epochs: 50, LR: 0.1, Batch Size: 128, Accuracy: 0.3538\n",
      "Hidden Layers: [8, 4], Activation: Identity, Epochs: 50, LR: 0.1, Batch Size: 256, Accuracy: 0.3077\n",
      "Hidden Layers: [8, 4], Activation: Identity, Epochs: 50, LR: 0.1, Batch Size: 512, Accuracy: 0.3000\n",
      "Hidden Layers: [8, 4], Activation: Identity, Epochs: 50, LR: 0.01, Batch Size: 16, Accuracy: 0.4077\n",
      "Hidden Layers: [8, 4], Activation: Identity, Epochs: 50, LR: 0.01, Batch Size: 32, Accuracy: 0.4923\n",
      "Hidden Layers: [8, 4], Activation: Identity, Epochs: 50, LR: 0.01, Batch Size: 64, Accuracy: 0.3846\n",
      "Hidden Layers: [8, 4], Activation: Identity, Epochs: 50, LR: 0.01, Batch Size: 128, Accuracy: 0.4385\n",
      "Hidden Layers: [8, 4], Activation: Identity, Epochs: 50, LR: 0.01, Batch Size: 256, Accuracy: 0.3231\n",
      "Hidden Layers: [8, 4], Activation: Identity, Epochs: 50, LR: 0.01, Batch Size: 512, Accuracy: 0.2923\n",
      "Hidden Layers: [8, 4], Activation: Identity, Epochs: 50, LR: 0.001, Batch Size: 16, Accuracy: 0.4769\n",
      "Hidden Layers: [8, 4], Activation: Identity, Epochs: 50, LR: 0.001, Batch Size: 32, Accuracy: 0.4308\n",
      "Hidden Layers: [8, 4], Activation: Identity, Epochs: 50, LR: 0.001, Batch Size: 64, Accuracy: 0.3154\n",
      "Hidden Layers: [8, 4], Activation: Identity, Epochs: 50, LR: 0.001, Batch Size: 128, Accuracy: 0.2308\n",
      "Hidden Layers: [8, 4], Activation: Identity, Epochs: 50, LR: 0.001, Batch Size: 256, Accuracy: 0.1615\n",
      "Hidden Layers: [8, 4], Activation: Identity, Epochs: 50, LR: 0.001, Batch Size: 512, Accuracy: 0.1231\n",
      "Hidden Layers: [8, 4], Activation: Identity, Epochs: 50, LR: 0.0001, Batch Size: 16, Accuracy: 0.2615\n",
      "Hidden Layers: [8, 4], Activation: Identity, Epochs: 50, LR: 0.0001, Batch Size: 32, Accuracy: 0.1615\n",
      "Hidden Layers: [8, 4], Activation: Identity, Epochs: 50, LR: 0.0001, Batch Size: 64, Accuracy: 0.0385\n",
      "Hidden Layers: [8, 4], Activation: Identity, Epochs: 50, LR: 0.0001, Batch Size: 128, Accuracy: 0.0846\n",
      "Hidden Layers: [8, 4], Activation: Identity, Epochs: 50, LR: 0.0001, Batch Size: 256, Accuracy: 0.0385\n",
      "Hidden Layers: [8, 4], Activation: Identity, Epochs: 50, LR: 0.0001, Batch Size: 512, Accuracy: 0.0154\n",
      "Hidden Layers: [8, 4], Activation: Identity, Epochs: 100, LR: 10, Batch Size: 16, Accuracy: 0.2154\n",
      "Hidden Layers: [8, 4], Activation: Identity, Epochs: 100, LR: 10, Batch Size: 32, Accuracy: 0.2769\n",
      "Hidden Layers: [8, 4], Activation: Identity, Epochs: 100, LR: 10, Batch Size: 64, Accuracy: 0.3077\n",
      "Hidden Layers: [8, 4], Activation: Identity, Epochs: 100, LR: 10, Batch Size: 128, Accuracy: 0.3231\n",
      "Hidden Layers: [8, 4], Activation: Identity, Epochs: 100, LR: 10, Batch Size: 256, Accuracy: 0.2923\n",
      "Hidden Layers: [8, 4], Activation: Identity, Epochs: 100, LR: 10, Batch Size: 512, Accuracy: 0.1462\n",
      "Hidden Layers: [8, 4], Activation: Identity, Epochs: 100, LR: 1, Batch Size: 16, Accuracy: 0.3462\n",
      "Hidden Layers: [8, 4], Activation: Identity, Epochs: 100, LR: 1, Batch Size: 32, Accuracy: 0.4385\n",
      "Hidden Layers: [8, 4], Activation: Identity, Epochs: 100, LR: 1, Batch Size: 64, Accuracy: 0.2308\n",
      "Hidden Layers: [8, 4], Activation: Identity, Epochs: 100, LR: 1, Batch Size: 128, Accuracy: 0.4308\n",
      "Hidden Layers: [8, 4], Activation: Identity, Epochs: 100, LR: 1, Batch Size: 256, Accuracy: 0.3308\n",
      "Hidden Layers: [8, 4], Activation: Identity, Epochs: 100, LR: 1, Batch Size: 512, Accuracy: 0.3308\n",
      "Hidden Layers: [8, 4], Activation: Identity, Epochs: 100, LR: 0.1, Batch Size: 16, Accuracy: 0.4154\n",
      "Hidden Layers: [8, 4], Activation: Identity, Epochs: 100, LR: 0.1, Batch Size: 32, Accuracy: 0.4154\n",
      "Hidden Layers: [8, 4], Activation: Identity, Epochs: 100, LR: 0.1, Batch Size: 64, Accuracy: 0.4077\n",
      "Hidden Layers: [8, 4], Activation: Identity, Epochs: 100, LR: 0.1, Batch Size: 128, Accuracy: 0.3615\n",
      "Hidden Layers: [8, 4], Activation: Identity, Epochs: 100, LR: 0.1, Batch Size: 256, Accuracy: 0.3846\n",
      "Hidden Layers: [8, 4], Activation: Identity, Epochs: 100, LR: 0.1, Batch Size: 512, Accuracy: 0.3154\n",
      "Hidden Layers: [8, 4], Activation: Identity, Epochs: 100, LR: 0.01, Batch Size: 16, Accuracy: 0.3615\n",
      "Hidden Layers: [8, 4], Activation: Identity, Epochs: 100, LR: 0.01, Batch Size: 32, Accuracy: 0.3769\n",
      "Hidden Layers: [8, 4], Activation: Identity, Epochs: 100, LR: 0.01, Batch Size: 64, Accuracy: 0.3846\n",
      "Hidden Layers: [8, 4], Activation: Identity, Epochs: 100, LR: 0.01, Batch Size: 128, Accuracy: 0.4231\n",
      "Hidden Layers: [8, 4], Activation: Identity, Epochs: 100, LR: 0.01, Batch Size: 256, Accuracy: 0.4308\n",
      "Hidden Layers: [8, 4], Activation: Identity, Epochs: 100, LR: 0.01, Batch Size: 512, Accuracy: 0.3615\n",
      "Hidden Layers: [8, 4], Activation: Identity, Epochs: 100, LR: 0.001, Batch Size: 16, Accuracy: 0.4231\n",
      "Hidden Layers: [8, 4], Activation: Identity, Epochs: 100, LR: 0.001, Batch Size: 32, Accuracy: 0.4769\n",
      "Hidden Layers: [8, 4], Activation: Identity, Epochs: 100, LR: 0.001, Batch Size: 64, Accuracy: 0.3615\n",
      "Hidden Layers: [8, 4], Activation: Identity, Epochs: 100, LR: 0.001, Batch Size: 128, Accuracy: 0.3154\n",
      "Hidden Layers: [8, 4], Activation: Identity, Epochs: 100, LR: 0.001, Batch Size: 256, Accuracy: 0.2692\n",
      "Hidden Layers: [8, 4], Activation: Identity, Epochs: 100, LR: 0.001, Batch Size: 512, Accuracy: 0.1923\n",
      "Hidden Layers: [8, 4], Activation: Identity, Epochs: 100, LR: 0.0001, Batch Size: 16, Accuracy: 0.1692\n",
      "Hidden Layers: [8, 4], Activation: Identity, Epochs: 100, LR: 0.0001, Batch Size: 32, Accuracy: 0.1462\n",
      "Hidden Layers: [8, 4], Activation: Identity, Epochs: 100, LR: 0.0001, Batch Size: 64, Accuracy: 0.1077\n",
      "Hidden Layers: [8, 4], Activation: Identity, Epochs: 100, LR: 0.0001, Batch Size: 128, Accuracy: 0.1077\n",
      "Hidden Layers: [8, 4], Activation: Identity, Epochs: 100, LR: 0.0001, Batch Size: 256, Accuracy: 0.1077\n",
      "Hidden Layers: [8, 4], Activation: Identity, Epochs: 100, LR: 0.0001, Batch Size: 512, Accuracy: 0.0615\n",
      "Hidden Layers: [8, 4], Activation: Identity, Epochs: 250, LR: 10, Batch Size: 16, Accuracy: 0.1385\n",
      "Hidden Layers: [8, 4], Activation: Identity, Epochs: 250, LR: 10, Batch Size: 32, Accuracy: 0.1692\n",
      "Hidden Layers: [8, 4], Activation: Identity, Epochs: 250, LR: 10, Batch Size: 64, Accuracy: 0.2846\n",
      "Hidden Layers: [8, 4], Activation: Identity, Epochs: 250, LR: 10, Batch Size: 128, Accuracy: 0.2462\n",
      "Hidden Layers: [8, 4], Activation: Identity, Epochs: 250, LR: 10, Batch Size: 256, Accuracy: 0.3077\n",
      "Hidden Layers: [8, 4], Activation: Identity, Epochs: 250, LR: 10, Batch Size: 512, Accuracy: 0.1923\n",
      "Hidden Layers: [8, 4], Activation: Identity, Epochs: 250, LR: 1, Batch Size: 16, Accuracy: 0.3231\n",
      "Hidden Layers: [8, 4], Activation: Identity, Epochs: 250, LR: 1, Batch Size: 32, Accuracy: 0.3077\n",
      "Hidden Layers: [8, 4], Activation: Identity, Epochs: 250, LR: 1, Batch Size: 64, Accuracy: 0.3462\n",
      "Hidden Layers: [8, 4], Activation: Identity, Epochs: 250, LR: 1, Batch Size: 128, Accuracy: 0.3385\n",
      "Hidden Layers: [8, 4], Activation: Identity, Epochs: 250, LR: 1, Batch Size: 256, Accuracy: 0.2154\n",
      "Hidden Layers: [8, 4], Activation: Identity, Epochs: 250, LR: 1, Batch Size: 512, Accuracy: 0.2385\n",
      "Hidden Layers: [8, 4], Activation: Identity, Epochs: 250, LR: 0.1, Batch Size: 16, Accuracy: 0.3154\n",
      "Hidden Layers: [8, 4], Activation: Identity, Epochs: 250, LR: 0.1, Batch Size: 32, Accuracy: 0.4154\n",
      "Hidden Layers: [8, 4], Activation: Identity, Epochs: 250, LR: 0.1, Batch Size: 64, Accuracy: 0.3385\n",
      "Hidden Layers: [8, 4], Activation: Identity, Epochs: 250, LR: 0.1, Batch Size: 128, Accuracy: 0.4615\n",
      "Hidden Layers: [8, 4], Activation: Identity, Epochs: 250, LR: 0.1, Batch Size: 256, Accuracy: 0.3615\n",
      "Hidden Layers: [8, 4], Activation: Identity, Epochs: 250, LR: 0.1, Batch Size: 512, Accuracy: 0.4231\n",
      "Hidden Layers: [8, 4], Activation: Identity, Epochs: 250, LR: 0.01, Batch Size: 16, Accuracy: 0.4462\n",
      "Hidden Layers: [8, 4], Activation: Identity, Epochs: 250, LR: 0.01, Batch Size: 32, Accuracy: 0.4462\n",
      "Hidden Layers: [8, 4], Activation: Identity, Epochs: 250, LR: 0.01, Batch Size: 64, Accuracy: 0.4615\n",
      "Hidden Layers: [8, 4], Activation: Identity, Epochs: 250, LR: 0.01, Batch Size: 128, Accuracy: 0.4769\n",
      "Hidden Layers: [8, 4], Activation: Identity, Epochs: 250, LR: 0.01, Batch Size: 256, Accuracy: 0.5000\n",
      "Hidden Layers: [8, 4], Activation: Identity, Epochs: 250, LR: 0.01, Batch Size: 512, Accuracy: 0.4154\n",
      "Hidden Layers: [8, 4], Activation: Identity, Epochs: 250, LR: 0.001, Batch Size: 16, Accuracy: 0.4154\n",
      "Hidden Layers: [8, 4], Activation: Identity, Epochs: 250, LR: 0.001, Batch Size: 32, Accuracy: 0.4692\n",
      "Hidden Layers: [8, 4], Activation: Identity, Epochs: 250, LR: 0.001, Batch Size: 64, Accuracy: 0.4462\n",
      "Hidden Layers: [8, 4], Activation: Identity, Epochs: 250, LR: 0.001, Batch Size: 128, Accuracy: 0.4231\n",
      "Hidden Layers: [8, 4], Activation: Identity, Epochs: 250, LR: 0.001, Batch Size: 256, Accuracy: 0.2462\n",
      "Hidden Layers: [8, 4], Activation: Identity, Epochs: 250, LR: 0.001, Batch Size: 512, Accuracy: 0.3154\n",
      "Hidden Layers: [8, 4], Activation: Identity, Epochs: 250, LR: 0.0001, Batch Size: 16, Accuracy: 0.3154\n",
      "Hidden Layers: [8, 4], Activation: Identity, Epochs: 250, LR: 0.0001, Batch Size: 32, Accuracy: 0.3231\n",
      "Hidden Layers: [8, 4], Activation: Identity, Epochs: 250, LR: 0.0001, Batch Size: 64, Accuracy: 0.2000\n",
      "Hidden Layers: [8, 4], Activation: Identity, Epochs: 250, LR: 0.0001, Batch Size: 128, Accuracy: 0.1769\n",
      "Hidden Layers: [8, 4], Activation: Identity, Epochs: 250, LR: 0.0001, Batch Size: 256, Accuracy: 0.1462\n",
      "Hidden Layers: [8, 4], Activation: Identity, Epochs: 250, LR: 0.0001, Batch Size: 512, Accuracy: 0.0846\n",
      "Hidden Layers: [8, 4], Activation: Sigmoid, Epochs: 1, LR: 10, Batch Size: 16, Accuracy: 0.0077\n",
      "Hidden Layers: [8, 4], Activation: Sigmoid, Epochs: 1, LR: 10, Batch Size: 32, Accuracy: 0.1923\n",
      "Hidden Layers: [8, 4], Activation: Sigmoid, Epochs: 1, LR: 10, Batch Size: 64, Accuracy: 0.0769\n",
      "Hidden Layers: [8, 4], Activation: Sigmoid, Epochs: 1, LR: 10, Batch Size: 128, Accuracy: 0.1231\n",
      "Hidden Layers: [8, 4], Activation: Sigmoid, Epochs: 1, LR: 10, Batch Size: 256, Accuracy: 0.1000\n",
      "Hidden Layers: [8, 4], Activation: Sigmoid, Epochs: 1, LR: 10, Batch Size: 512, Accuracy: 0.1000\n",
      "Hidden Layers: [8, 4], Activation: Sigmoid, Epochs: 1, LR: 1, Batch Size: 16, Accuracy: 0.1231\n",
      "Hidden Layers: [8, 4], Activation: Sigmoid, Epochs: 1, LR: 1, Batch Size: 32, Accuracy: 0.1923\n",
      "Hidden Layers: [8, 4], Activation: Sigmoid, Epochs: 1, LR: 1, Batch Size: 64, Accuracy: 0.1308\n",
      "Hidden Layers: [8, 4], Activation: Sigmoid, Epochs: 1, LR: 1, Batch Size: 128, Accuracy: 0.1923\n",
      "Hidden Layers: [8, 4], Activation: Sigmoid, Epochs: 1, LR: 1, Batch Size: 256, Accuracy: 0.1923\n",
      "Hidden Layers: [8, 4], Activation: Sigmoid, Epochs: 1, LR: 1, Batch Size: 512, Accuracy: 0.1923\n",
      "Hidden Layers: [8, 4], Activation: Sigmoid, Epochs: 1, LR: 0.1, Batch Size: 16, Accuracy: 0.1769\n",
      "Hidden Layers: [8, 4], Activation: Sigmoid, Epochs: 1, LR: 0.1, Batch Size: 32, Accuracy: 0.1000\n",
      "Hidden Layers: [8, 4], Activation: Sigmoid, Epochs: 1, LR: 0.1, Batch Size: 64, Accuracy: 0.1000\n",
      "Hidden Layers: [8, 4], Activation: Sigmoid, Epochs: 1, LR: 0.1, Batch Size: 128, Accuracy: 0.1308\n",
      "Hidden Layers: [8, 4], Activation: Sigmoid, Epochs: 1, LR: 0.1, Batch Size: 256, Accuracy: 0.0923\n",
      "Hidden Layers: [8, 4], Activation: Sigmoid, Epochs: 1, LR: 0.1, Batch Size: 512, Accuracy: 0.1231\n",
      "Hidden Layers: [8, 4], Activation: Sigmoid, Epochs: 1, LR: 0.01, Batch Size: 16, Accuracy: 0.1923\n",
      "Hidden Layers: [8, 4], Activation: Sigmoid, Epochs: 1, LR: 0.01, Batch Size: 32, Accuracy: 0.1385\n",
      "Hidden Layers: [8, 4], Activation: Sigmoid, Epochs: 1, LR: 0.01, Batch Size: 64, Accuracy: 0.1923\n",
      "Hidden Layers: [8, 4], Activation: Sigmoid, Epochs: 1, LR: 0.01, Batch Size: 128, Accuracy: 0.0000\n",
      "Hidden Layers: [8, 4], Activation: Sigmoid, Epochs: 1, LR: 0.01, Batch Size: 256, Accuracy: 0.1308\n",
      "Hidden Layers: [8, 4], Activation: Sigmoid, Epochs: 1, LR: 0.01, Batch Size: 512, Accuracy: 0.1308\n",
      "Hidden Layers: [8, 4], Activation: Sigmoid, Epochs: 1, LR: 0.001, Batch Size: 16, Accuracy: 0.0000\n",
      "Hidden Layers: [8, 4], Activation: Sigmoid, Epochs: 1, LR: 0.001, Batch Size: 32, Accuracy: 0.1308\n",
      "Hidden Layers: [8, 4], Activation: Sigmoid, Epochs: 1, LR: 0.001, Batch Size: 64, Accuracy: 0.0769\n",
      "Hidden Layers: [8, 4], Activation: Sigmoid, Epochs: 1, LR: 0.001, Batch Size: 128, Accuracy: 0.0538\n",
      "Hidden Layers: [8, 4], Activation: Sigmoid, Epochs: 1, LR: 0.001, Batch Size: 256, Accuracy: 0.0154\n",
      "Hidden Layers: [8, 4], Activation: Sigmoid, Epochs: 1, LR: 0.001, Batch Size: 512, Accuracy: 0.0000\n",
      "Hidden Layers: [8, 4], Activation: Sigmoid, Epochs: 1, LR: 0.0001, Batch Size: 16, Accuracy: 0.0000\n",
      "Hidden Layers: [8, 4], Activation: Sigmoid, Epochs: 1, LR: 0.0001, Batch Size: 32, Accuracy: 0.0538\n",
      "Hidden Layers: [8, 4], Activation: Sigmoid, Epochs: 1, LR: 0.0001, Batch Size: 64, Accuracy: 0.1000\n",
      "Hidden Layers: [8, 4], Activation: Sigmoid, Epochs: 1, LR: 0.0001, Batch Size: 128, Accuracy: 0.0000\n",
      "Hidden Layers: [8, 4], Activation: Sigmoid, Epochs: 1, LR: 0.0001, Batch Size: 256, Accuracy: 0.0538\n",
      "Hidden Layers: [8, 4], Activation: Sigmoid, Epochs: 1, LR: 0.0001, Batch Size: 512, Accuracy: 0.0538\n",
      "Hidden Layers: [8, 4], Activation: Sigmoid, Epochs: 10, LR: 10, Batch Size: 16, Accuracy: 0.1308\n",
      "Hidden Layers: [8, 4], Activation: Sigmoid, Epochs: 10, LR: 10, Batch Size: 32, Accuracy: 0.1308\n",
      "Hidden Layers: [8, 4], Activation: Sigmoid, Epochs: 10, LR: 10, Batch Size: 64, Accuracy: 0.1231\n",
      "Hidden Layers: [8, 4], Activation: Sigmoid, Epochs: 10, LR: 10, Batch Size: 128, Accuracy: 0.1308\n",
      "Hidden Layers: [8, 4], Activation: Sigmoid, Epochs: 10, LR: 10, Batch Size: 256, Accuracy: 0.0538\n",
      "Hidden Layers: [8, 4], Activation: Sigmoid, Epochs: 10, LR: 10, Batch Size: 512, Accuracy: 0.1308\n",
      "Hidden Layers: [8, 4], Activation: Sigmoid, Epochs: 10, LR: 1, Batch Size: 16, Accuracy: 0.1308\n",
      "Hidden Layers: [8, 4], Activation: Sigmoid, Epochs: 10, LR: 1, Batch Size: 32, Accuracy: 0.0923\n",
      "Hidden Layers: [8, 4], Activation: Sigmoid, Epochs: 10, LR: 1, Batch Size: 64, Accuracy: 0.1923\n",
      "Hidden Layers: [8, 4], Activation: Sigmoid, Epochs: 10, LR: 1, Batch Size: 128, Accuracy: 0.0923\n",
      "Hidden Layers: [8, 4], Activation: Sigmoid, Epochs: 10, LR: 1, Batch Size: 256, Accuracy: 0.1231\n",
      "Hidden Layers: [8, 4], Activation: Sigmoid, Epochs: 10, LR: 1, Batch Size: 512, Accuracy: 0.1923\n",
      "Hidden Layers: [8, 4], Activation: Sigmoid, Epochs: 10, LR: 0.1, Batch Size: 16, Accuracy: 0.3385\n",
      "Hidden Layers: [8, 4], Activation: Sigmoid, Epochs: 10, LR: 0.1, Batch Size: 32, Accuracy: 0.3308\n",
      "Hidden Layers: [8, 4], Activation: Sigmoid, Epochs: 10, LR: 0.1, Batch Size: 64, Accuracy: 0.4077\n",
      "Hidden Layers: [8, 4], Activation: Sigmoid, Epochs: 10, LR: 0.1, Batch Size: 128, Accuracy: 0.2692\n",
      "Hidden Layers: [8, 4], Activation: Sigmoid, Epochs: 10, LR: 0.1, Batch Size: 256, Accuracy: 0.2538\n",
      "Hidden Layers: [8, 4], Activation: Sigmoid, Epochs: 10, LR: 0.1, Batch Size: 512, Accuracy: 0.2077\n",
      "Hidden Layers: [8, 4], Activation: Sigmoid, Epochs: 10, LR: 0.01, Batch Size: 16, Accuracy: 0.2462\n",
      "Hidden Layers: [8, 4], Activation: Sigmoid, Epochs: 10, LR: 0.01, Batch Size: 32, Accuracy: 0.2692\n",
      "Hidden Layers: [8, 4], Activation: Sigmoid, Epochs: 10, LR: 0.01, Batch Size: 64, Accuracy: 0.1308\n",
      "Hidden Layers: [8, 4], Activation: Sigmoid, Epochs: 10, LR: 0.01, Batch Size: 128, Accuracy: 0.1308\n",
      "Hidden Layers: [8, 4], Activation: Sigmoid, Epochs: 10, LR: 0.01, Batch Size: 256, Accuracy: 0.1000\n",
      "Hidden Layers: [8, 4], Activation: Sigmoid, Epochs: 10, LR: 0.01, Batch Size: 512, Accuracy: 0.1308\n",
      "Hidden Layers: [8, 4], Activation: Sigmoid, Epochs: 10, LR: 0.001, Batch Size: 16, Accuracy: 0.1923\n",
      "Hidden Layers: [8, 4], Activation: Sigmoid, Epochs: 10, LR: 0.001, Batch Size: 32, Accuracy: 0.1308\n",
      "Hidden Layers: [8, 4], Activation: Sigmoid, Epochs: 10, LR: 0.001, Batch Size: 64, Accuracy: 0.0769\n",
      "Hidden Layers: [8, 4], Activation: Sigmoid, Epochs: 10, LR: 0.001, Batch Size: 128, Accuracy: 0.1308\n",
      "Hidden Layers: [8, 4], Activation: Sigmoid, Epochs: 10, LR: 0.001, Batch Size: 256, Accuracy: 0.0077\n",
      "Hidden Layers: [8, 4], Activation: Sigmoid, Epochs: 10, LR: 0.001, Batch Size: 512, Accuracy: 0.0769\n",
      "Hidden Layers: [8, 4], Activation: Sigmoid, Epochs: 10, LR: 0.0001, Batch Size: 16, Accuracy: 0.0538\n",
      "Hidden Layers: [8, 4], Activation: Sigmoid, Epochs: 10, LR: 0.0001, Batch Size: 32, Accuracy: 0.0000\n",
      "Hidden Layers: [8, 4], Activation: Sigmoid, Epochs: 10, LR: 0.0001, Batch Size: 64, Accuracy: 0.0385\n",
      "Hidden Layers: [8, 4], Activation: Sigmoid, Epochs: 10, LR: 0.0001, Batch Size: 128, Accuracy: 0.0000\n",
      "Hidden Layers: [8, 4], Activation: Sigmoid, Epochs: 10, LR: 0.0001, Batch Size: 256, Accuracy: 0.1000\n",
      "Hidden Layers: [8, 4], Activation: Sigmoid, Epochs: 10, LR: 0.0001, Batch Size: 512, Accuracy: 0.0000\n",
      "Hidden Layers: [8, 4], Activation: Sigmoid, Epochs: 25, LR: 10, Batch Size: 16, Accuracy: 0.1231\n",
      "Hidden Layers: [8, 4], Activation: Sigmoid, Epochs: 25, LR: 10, Batch Size: 32, Accuracy: 0.1000\n",
      "Hidden Layers: [8, 4], Activation: Sigmoid, Epochs: 25, LR: 10, Batch Size: 64, Accuracy: 0.1000\n",
      "Hidden Layers: [8, 4], Activation: Sigmoid, Epochs: 25, LR: 10, Batch Size: 128, Accuracy: 0.1308\n",
      "Hidden Layers: [8, 4], Activation: Sigmoid, Epochs: 25, LR: 10, Batch Size: 256, Accuracy: 0.1231\n",
      "Hidden Layers: [8, 4], Activation: Sigmoid, Epochs: 25, LR: 10, Batch Size: 512, Accuracy: 0.0923\n",
      "Hidden Layers: [8, 4], Activation: Sigmoid, Epochs: 25, LR: 1, Batch Size: 16, Accuracy: 0.1308\n",
      "Hidden Layers: [8, 4], Activation: Sigmoid, Epochs: 25, LR: 1, Batch Size: 32, Accuracy: 0.1308\n",
      "Hidden Layers: [8, 4], Activation: Sigmoid, Epochs: 25, LR: 1, Batch Size: 64, Accuracy: 0.1000\n",
      "Hidden Layers: [8, 4], Activation: Sigmoid, Epochs: 25, LR: 1, Batch Size: 128, Accuracy: 0.1308\n",
      "Hidden Layers: [8, 4], Activation: Sigmoid, Epochs: 25, LR: 1, Batch Size: 256, Accuracy: 0.1308\n",
      "Hidden Layers: [8, 4], Activation: Sigmoid, Epochs: 25, LR: 1, Batch Size: 512, Accuracy: 0.1308\n",
      "Hidden Layers: [8, 4], Activation: Sigmoid, Epochs: 25, LR: 0.1, Batch Size: 16, Accuracy: 0.2846\n",
      "Hidden Layers: [8, 4], Activation: Sigmoid, Epochs: 25, LR: 0.1, Batch Size: 32, Accuracy: 0.3538\n",
      "Hidden Layers: [8, 4], Activation: Sigmoid, Epochs: 25, LR: 0.1, Batch Size: 64, Accuracy: 0.3769\n",
      "Hidden Layers: [8, 4], Activation: Sigmoid, Epochs: 25, LR: 0.1, Batch Size: 128, Accuracy: 0.3308\n",
      "Hidden Layers: [8, 4], Activation: Sigmoid, Epochs: 25, LR: 0.1, Batch Size: 256, Accuracy: 0.3462\n",
      "Hidden Layers: [8, 4], Activation: Sigmoid, Epochs: 25, LR: 0.1, Batch Size: 512, Accuracy: 0.2538\n",
      "Hidden Layers: [8, 4], Activation: Sigmoid, Epochs: 25, LR: 0.01, Batch Size: 16, Accuracy: 0.3846\n",
      "Hidden Layers: [8, 4], Activation: Sigmoid, Epochs: 25, LR: 0.01, Batch Size: 32, Accuracy: 0.3231\n",
      "Hidden Layers: [8, 4], Activation: Sigmoid, Epochs: 25, LR: 0.01, Batch Size: 64, Accuracy: 0.3077\n",
      "Hidden Layers: [8, 4], Activation: Sigmoid, Epochs: 25, LR: 0.01, Batch Size: 128, Accuracy: 0.2231\n",
      "Hidden Layers: [8, 4], Activation: Sigmoid, Epochs: 25, LR: 0.01, Batch Size: 256, Accuracy: 0.2538\n",
      "Hidden Layers: [8, 4], Activation: Sigmoid, Epochs: 25, LR: 0.01, Batch Size: 512, Accuracy: 0.1923\n",
      "Hidden Layers: [8, 4], Activation: Sigmoid, Epochs: 25, LR: 0.001, Batch Size: 16, Accuracy: 0.2308\n",
      "Hidden Layers: [8, 4], Activation: Sigmoid, Epochs: 25, LR: 0.001, Batch Size: 32, Accuracy: 0.1308\n",
      "Hidden Layers: [8, 4], Activation: Sigmoid, Epochs: 25, LR: 0.001, Batch Size: 64, Accuracy: 0.1308\n",
      "Hidden Layers: [8, 4], Activation: Sigmoid, Epochs: 25, LR: 0.001, Batch Size: 128, Accuracy: 0.0769\n",
      "Hidden Layers: [8, 4], Activation: Sigmoid, Epochs: 25, LR: 0.001, Batch Size: 256, Accuracy: 0.1154\n",
      "Hidden Layers: [8, 4], Activation: Sigmoid, Epochs: 25, LR: 0.001, Batch Size: 512, Accuracy: 0.0000\n",
      "Hidden Layers: [8, 4], Activation: Sigmoid, Epochs: 25, LR: 0.0001, Batch Size: 16, Accuracy: 0.0000\n",
      "Hidden Layers: [8, 4], Activation: Sigmoid, Epochs: 25, LR: 0.0001, Batch Size: 32, Accuracy: 0.0000\n",
      "Hidden Layers: [8, 4], Activation: Sigmoid, Epochs: 25, LR: 0.0001, Batch Size: 64, Accuracy: 0.0077\n",
      "Hidden Layers: [8, 4], Activation: Sigmoid, Epochs: 25, LR: 0.0001, Batch Size: 128, Accuracy: 0.0000\n",
      "Hidden Layers: [8, 4], Activation: Sigmoid, Epochs: 25, LR: 0.0001, Batch Size: 256, Accuracy: 0.0769\n",
      "Hidden Layers: [8, 4], Activation: Sigmoid, Epochs: 25, LR: 0.0001, Batch Size: 512, Accuracy: 0.0769\n",
      "Hidden Layers: [8, 4], Activation: Sigmoid, Epochs: 50, LR: 10, Batch Size: 16, Accuracy: 0.1923\n",
      "Hidden Layers: [8, 4], Activation: Sigmoid, Epochs: 50, LR: 10, Batch Size: 32, Accuracy: 0.0692\n",
      "Hidden Layers: [8, 4], Activation: Sigmoid, Epochs: 50, LR: 10, Batch Size: 64, Accuracy: 0.1308\n",
      "Hidden Layers: [8, 4], Activation: Sigmoid, Epochs: 50, LR: 10, Batch Size: 128, Accuracy: 0.0923\n",
      "Hidden Layers: [8, 4], Activation: Sigmoid, Epochs: 50, LR: 10, Batch Size: 256, Accuracy: 0.0923\n",
      "Hidden Layers: [8, 4], Activation: Sigmoid, Epochs: 50, LR: 10, Batch Size: 512, Accuracy: 0.0769\n",
      "Hidden Layers: [8, 4], Activation: Sigmoid, Epochs: 50, LR: 1, Batch Size: 16, Accuracy: 0.0923\n",
      "Hidden Layers: [8, 4], Activation: Sigmoid, Epochs: 50, LR: 1, Batch Size: 32, Accuracy: 0.1923\n",
      "Hidden Layers: [8, 4], Activation: Sigmoid, Epochs: 50, LR: 1, Batch Size: 64, Accuracy: 0.1923\n",
      "Hidden Layers: [8, 4], Activation: Sigmoid, Epochs: 50, LR: 1, Batch Size: 128, Accuracy: 0.1923\n",
      "Hidden Layers: [8, 4], Activation: Sigmoid, Epochs: 50, LR: 1, Batch Size: 256, Accuracy: 0.1308\n",
      "Hidden Layers: [8, 4], Activation: Sigmoid, Epochs: 50, LR: 1, Batch Size: 512, Accuracy: 0.1308\n",
      "Hidden Layers: [8, 4], Activation: Sigmoid, Epochs: 50, LR: 0.1, Batch Size: 16, Accuracy: 0.2923\n",
      "Hidden Layers: [8, 4], Activation: Sigmoid, Epochs: 50, LR: 0.1, Batch Size: 32, Accuracy: 0.3923\n",
      "Hidden Layers: [8, 4], Activation: Sigmoid, Epochs: 50, LR: 0.1, Batch Size: 64, Accuracy: 0.3615\n",
      "Hidden Layers: [8, 4], Activation: Sigmoid, Epochs: 50, LR: 0.1, Batch Size: 128, Accuracy: 0.3692\n",
      "Hidden Layers: [8, 4], Activation: Sigmoid, Epochs: 50, LR: 0.1, Batch Size: 256, Accuracy: 0.3692\n",
      "Hidden Layers: [8, 4], Activation: Sigmoid, Epochs: 50, LR: 0.1, Batch Size: 512, Accuracy: 0.2462\n",
      "Hidden Layers: [8, 4], Activation: Sigmoid, Epochs: 50, LR: 0.01, Batch Size: 16, Accuracy: 0.3769\n",
      "Hidden Layers: [8, 4], Activation: Sigmoid, Epochs: 50, LR: 0.01, Batch Size: 32, Accuracy: 0.4308\n",
      "Hidden Layers: [8, 4], Activation: Sigmoid, Epochs: 50, LR: 0.01, Batch Size: 64, Accuracy: 0.2923\n",
      "Hidden Layers: [8, 4], Activation: Sigmoid, Epochs: 50, LR: 0.01, Batch Size: 128, Accuracy: 0.3692\n",
      "Hidden Layers: [8, 4], Activation: Sigmoid, Epochs: 50, LR: 0.01, Batch Size: 256, Accuracy: 0.2231\n",
      "Hidden Layers: [8, 4], Activation: Sigmoid, Epochs: 50, LR: 0.01, Batch Size: 512, Accuracy: 0.2385\n",
      "Hidden Layers: [8, 4], Activation: Sigmoid, Epochs: 50, LR: 0.001, Batch Size: 16, Accuracy: 0.1846\n",
      "Hidden Layers: [8, 4], Activation: Sigmoid, Epochs: 50, LR: 0.001, Batch Size: 32, Accuracy: 0.1692\n",
      "Hidden Layers: [8, 4], Activation: Sigmoid, Epochs: 50, LR: 0.001, Batch Size: 64, Accuracy: 0.1923\n",
      "Hidden Layers: [8, 4], Activation: Sigmoid, Epochs: 50, LR: 0.001, Batch Size: 128, Accuracy: 0.1923\n",
      "Hidden Layers: [8, 4], Activation: Sigmoid, Epochs: 50, LR: 0.001, Batch Size: 256, Accuracy: 0.1000\n",
      "Hidden Layers: [8, 4], Activation: Sigmoid, Epochs: 50, LR: 0.001, Batch Size: 512, Accuracy: 0.1923\n",
      "Hidden Layers: [8, 4], Activation: Sigmoid, Epochs: 50, LR: 0.0001, Batch Size: 16, Accuracy: 0.1154\n",
      "Hidden Layers: [8, 4], Activation: Sigmoid, Epochs: 50, LR: 0.0001, Batch Size: 32, Accuracy: 0.0769\n",
      "Hidden Layers: [8, 4], Activation: Sigmoid, Epochs: 50, LR: 0.0001, Batch Size: 64, Accuracy: 0.1308\n",
      "Hidden Layers: [8, 4], Activation: Sigmoid, Epochs: 50, LR: 0.0001, Batch Size: 128, Accuracy: 0.1923\n",
      "Hidden Layers: [8, 4], Activation: Sigmoid, Epochs: 50, LR: 0.0001, Batch Size: 256, Accuracy: 0.1923\n",
      "Hidden Layers: [8, 4], Activation: Sigmoid, Epochs: 50, LR: 0.0001, Batch Size: 512, Accuracy: 0.1231\n",
      "Hidden Layers: [8, 4], Activation: Sigmoid, Epochs: 100, LR: 10, Batch Size: 16, Accuracy: 0.0923\n",
      "Hidden Layers: [8, 4], Activation: Sigmoid, Epochs: 100, LR: 10, Batch Size: 32, Accuracy: 0.1308\n",
      "Hidden Layers: [8, 4], Activation: Sigmoid, Epochs: 100, LR: 10, Batch Size: 64, Accuracy: 0.1231\n",
      "Hidden Layers: [8, 4], Activation: Sigmoid, Epochs: 100, LR: 10, Batch Size: 128, Accuracy: 0.0538\n",
      "Hidden Layers: [8, 4], Activation: Sigmoid, Epochs: 100, LR: 10, Batch Size: 256, Accuracy: 0.1923\n",
      "Hidden Layers: [8, 4], Activation: Sigmoid, Epochs: 100, LR: 10, Batch Size: 512, Accuracy: 0.0923\n",
      "Hidden Layers: [8, 4], Activation: Sigmoid, Epochs: 100, LR: 1, Batch Size: 16, Accuracy: 0.1308\n",
      "Hidden Layers: [8, 4], Activation: Sigmoid, Epochs: 100, LR: 1, Batch Size: 32, Accuracy: 0.1308\n",
      "Hidden Layers: [8, 4], Activation: Sigmoid, Epochs: 100, LR: 1, Batch Size: 64, Accuracy: 0.1923\n",
      "Hidden Layers: [8, 4], Activation: Sigmoid, Epochs: 100, LR: 1, Batch Size: 128, Accuracy: 0.1000\n",
      "Hidden Layers: [8, 4], Activation: Sigmoid, Epochs: 100, LR: 1, Batch Size: 256, Accuracy: 0.1000\n",
      "Hidden Layers: [8, 4], Activation: Sigmoid, Epochs: 100, LR: 1, Batch Size: 512, Accuracy: 0.1000\n",
      "Hidden Layers: [8, 4], Activation: Sigmoid, Epochs: 100, LR: 0.1, Batch Size: 16, Accuracy: 0.3692\n",
      "Hidden Layers: [8, 4], Activation: Sigmoid, Epochs: 100, LR: 0.1, Batch Size: 32, Accuracy: 0.3538\n",
      "Hidden Layers: [8, 4], Activation: Sigmoid, Epochs: 100, LR: 0.1, Batch Size: 64, Accuracy: 0.3231\n",
      "Hidden Layers: [8, 4], Activation: Sigmoid, Epochs: 100, LR: 0.1, Batch Size: 128, Accuracy: 0.3769\n",
      "Hidden Layers: [8, 4], Activation: Sigmoid, Epochs: 100, LR: 0.1, Batch Size: 256, Accuracy: 0.3308\n",
      "Hidden Layers: [8, 4], Activation: Sigmoid, Epochs: 100, LR: 0.1, Batch Size: 512, Accuracy: 0.2077\n",
      "Hidden Layers: [8, 4], Activation: Sigmoid, Epochs: 100, LR: 0.01, Batch Size: 16, Accuracy: 0.3923\n",
      "Hidden Layers: [8, 4], Activation: Sigmoid, Epochs: 100, LR: 0.01, Batch Size: 32, Accuracy: 0.4077\n",
      "Hidden Layers: [8, 4], Activation: Sigmoid, Epochs: 100, LR: 0.01, Batch Size: 64, Accuracy: 0.4077\n",
      "Hidden Layers: [8, 4], Activation: Sigmoid, Epochs: 100, LR: 0.01, Batch Size: 128, Accuracy: 0.3923\n",
      "Hidden Layers: [8, 4], Activation: Sigmoid, Epochs: 100, LR: 0.01, Batch Size: 256, Accuracy: 0.3000\n",
      "Hidden Layers: [8, 4], Activation: Sigmoid, Epochs: 100, LR: 0.01, Batch Size: 512, Accuracy: 0.1308\n",
      "Hidden Layers: [8, 4], Activation: Sigmoid, Epochs: 100, LR: 0.001, Batch Size: 16, Accuracy: 0.3000\n",
      "Hidden Layers: [8, 4], Activation: Sigmoid, Epochs: 100, LR: 0.001, Batch Size: 32, Accuracy: 0.2846\n",
      "Hidden Layers: [8, 4], Activation: Sigmoid, Epochs: 100, LR: 0.001, Batch Size: 64, Accuracy: 0.2769\n",
      "Hidden Layers: [8, 4], Activation: Sigmoid, Epochs: 100, LR: 0.001, Batch Size: 128, Accuracy: 0.1846\n",
      "Hidden Layers: [8, 4], Activation: Sigmoid, Epochs: 100, LR: 0.001, Batch Size: 256, Accuracy: 0.1308\n",
      "Hidden Layers: [8, 4], Activation: Sigmoid, Epochs: 100, LR: 0.001, Batch Size: 512, Accuracy: 0.1231\n",
      "Hidden Layers: [8, 4], Activation: Sigmoid, Epochs: 100, LR: 0.0001, Batch Size: 16, Accuracy: 0.1692\n",
      "Hidden Layers: [8, 4], Activation: Sigmoid, Epochs: 100, LR: 0.0001, Batch Size: 32, Accuracy: 0.0769\n",
      "Hidden Layers: [8, 4], Activation: Sigmoid, Epochs: 100, LR: 0.0001, Batch Size: 64, Accuracy: 0.1231\n",
      "Hidden Layers: [8, 4], Activation: Sigmoid, Epochs: 100, LR: 0.0001, Batch Size: 128, Accuracy: 0.1231\n",
      "Hidden Layers: [8, 4], Activation: Sigmoid, Epochs: 100, LR: 0.0001, Batch Size: 256, Accuracy: 0.1231\n",
      "Hidden Layers: [8, 4], Activation: Sigmoid, Epochs: 100, LR: 0.0001, Batch Size: 512, Accuracy: 0.0923\n",
      "Hidden Layers: [8, 4], Activation: Sigmoid, Epochs: 250, LR: 10, Batch Size: 16, Accuracy: 0.1231\n",
      "Hidden Layers: [8, 4], Activation: Sigmoid, Epochs: 250, LR: 10, Batch Size: 32, Accuracy: 0.1923\n",
      "Hidden Layers: [8, 4], Activation: Sigmoid, Epochs: 250, LR: 10, Batch Size: 64, Accuracy: 0.1308\n",
      "Hidden Layers: [8, 4], Activation: Sigmoid, Epochs: 250, LR: 10, Batch Size: 128, Accuracy: 0.0077\n",
      "Hidden Layers: [8, 4], Activation: Sigmoid, Epochs: 250, LR: 10, Batch Size: 256, Accuracy: 0.1923\n",
      "Hidden Layers: [8, 4], Activation: Sigmoid, Epochs: 250, LR: 10, Batch Size: 512, Accuracy: 0.1308\n",
      "Hidden Layers: [8, 4], Activation: Sigmoid, Epochs: 250, LR: 1, Batch Size: 16, Accuracy: 0.1923\n",
      "Hidden Layers: [8, 4], Activation: Sigmoid, Epochs: 250, LR: 1, Batch Size: 32, Accuracy: 0.1000\n",
      "Hidden Layers: [8, 4], Activation: Sigmoid, Epochs: 250, LR: 1, Batch Size: 64, Accuracy: 0.1000\n",
      "Hidden Layers: [8, 4], Activation: Sigmoid, Epochs: 250, LR: 1, Batch Size: 128, Accuracy: 0.1000\n",
      "Hidden Layers: [8, 4], Activation: Sigmoid, Epochs: 250, LR: 1, Batch Size: 256, Accuracy: 0.0538\n",
      "Hidden Layers: [8, 4], Activation: Sigmoid, Epochs: 250, LR: 1, Batch Size: 512, Accuracy: 0.1231\n",
      "Hidden Layers: [8, 4], Activation: Sigmoid, Epochs: 250, LR: 0.1, Batch Size: 16, Accuracy: 0.2846\n",
      "Hidden Layers: [8, 4], Activation: Sigmoid, Epochs: 250, LR: 0.1, Batch Size: 32, Accuracy: 0.3077\n",
      "Hidden Layers: [8, 4], Activation: Sigmoid, Epochs: 250, LR: 0.1, Batch Size: 64, Accuracy: 0.4615\n",
      "Hidden Layers: [8, 4], Activation: Sigmoid, Epochs: 250, LR: 0.1, Batch Size: 128, Accuracy: 0.3846\n",
      "Hidden Layers: [8, 4], Activation: Sigmoid, Epochs: 250, LR: 0.1, Batch Size: 256, Accuracy: 0.3846\n",
      "Hidden Layers: [8, 4], Activation: Sigmoid, Epochs: 250, LR: 0.1, Batch Size: 512, Accuracy: 0.2923\n",
      "Hidden Layers: [8, 4], Activation: Sigmoid, Epochs: 250, LR: 0.01, Batch Size: 16, Accuracy: 0.3769\n",
      "Hidden Layers: [8, 4], Activation: Sigmoid, Epochs: 250, LR: 0.01, Batch Size: 32, Accuracy: 0.3769\n",
      "Hidden Layers: [8, 4], Activation: Sigmoid, Epochs: 250, LR: 0.01, Batch Size: 64, Accuracy: 0.3615\n",
      "Hidden Layers: [8, 4], Activation: Sigmoid, Epochs: 250, LR: 0.01, Batch Size: 128, Accuracy: 0.3846\n",
      "Hidden Layers: [8, 4], Activation: Sigmoid, Epochs: 250, LR: 0.01, Batch Size: 256, Accuracy: 0.3077\n",
      "Hidden Layers: [8, 4], Activation: Sigmoid, Epochs: 250, LR: 0.01, Batch Size: 512, Accuracy: 0.2923\n",
      "Hidden Layers: [8, 4], Activation: Sigmoid, Epochs: 250, LR: 0.001, Batch Size: 16, Accuracy: 0.3923\n",
      "Hidden Layers: [8, 4], Activation: Sigmoid, Epochs: 250, LR: 0.001, Batch Size: 32, Accuracy: 0.3462\n",
      "Hidden Layers: [8, 4], Activation: Sigmoid, Epochs: 250, LR: 0.001, Batch Size: 64, Accuracy: 0.2846\n",
      "Hidden Layers: [8, 4], Activation: Sigmoid, Epochs: 250, LR: 0.001, Batch Size: 128, Accuracy: 0.2000\n",
      "Hidden Layers: [8, 4], Activation: Sigmoid, Epochs: 250, LR: 0.001, Batch Size: 256, Accuracy: 0.2000\n",
      "Hidden Layers: [8, 4], Activation: Sigmoid, Epochs: 250, LR: 0.001, Batch Size: 512, Accuracy: 0.1000\n",
      "Hidden Layers: [8, 4], Activation: Sigmoid, Epochs: 250, LR: 0.0001, Batch Size: 16, Accuracy: 0.1308\n",
      "Hidden Layers: [8, 4], Activation: Sigmoid, Epochs: 250, LR: 0.0001, Batch Size: 32, Accuracy: 0.1923\n",
      "Hidden Layers: [8, 4], Activation: Sigmoid, Epochs: 250, LR: 0.0001, Batch Size: 64, Accuracy: 0.1923\n",
      "Hidden Layers: [8, 4], Activation: Sigmoid, Epochs: 250, LR: 0.0001, Batch Size: 128, Accuracy: 0.1923\n",
      "Hidden Layers: [8, 4], Activation: Sigmoid, Epochs: 250, LR: 0.0001, Batch Size: 256, Accuracy: 0.1000\n",
      "Hidden Layers: [8, 4], Activation: Sigmoid, Epochs: 250, LR: 0.0001, Batch Size: 512, Accuracy: 0.0154\n",
      "Hidden Layers: [8, 4], Activation: ReLU, Epochs: 1, LR: 10, Batch Size: 16, Accuracy: 0.1308\n",
      "Hidden Layers: [8, 4], Activation: ReLU, Epochs: 1, LR: 10, Batch Size: 32, Accuracy: 0.1000\n",
      "Hidden Layers: [8, 4], Activation: ReLU, Epochs: 1, LR: 10, Batch Size: 64, Accuracy: 0.0385\n",
      "Hidden Layers: [8, 4], Activation: ReLU, Epochs: 1, LR: 10, Batch Size: 128, Accuracy: 0.1308\n",
      "Hidden Layers: [8, 4], Activation: ReLU, Epochs: 1, LR: 10, Batch Size: 256, Accuracy: 0.1615\n",
      "Hidden Layers: [8, 4], Activation: ReLU, Epochs: 1, LR: 10, Batch Size: 512, Accuracy: 0.1923\n",
      "Hidden Layers: [8, 4], Activation: ReLU, Epochs: 1, LR: 1, Batch Size: 16, Accuracy: 0.0923\n",
      "Hidden Layers: [8, 4], Activation: ReLU, Epochs: 1, LR: 1, Batch Size: 32, Accuracy: 0.1000\n",
      "Hidden Layers: [8, 4], Activation: ReLU, Epochs: 1, LR: 1, Batch Size: 64, Accuracy: 0.0769\n",
      "Hidden Layers: [8, 4], Activation: ReLU, Epochs: 1, LR: 1, Batch Size: 128, Accuracy: 0.1308\n",
      "Hidden Layers: [8, 4], Activation: ReLU, Epochs: 1, LR: 1, Batch Size: 256, Accuracy: 0.1308\n",
      "Hidden Layers: [8, 4], Activation: ReLU, Epochs: 1, LR: 1, Batch Size: 512, Accuracy: 0.0923\n",
      "Hidden Layers: [8, 4], Activation: ReLU, Epochs: 1, LR: 0.1, Batch Size: 16, Accuracy: 0.1077\n",
      "Hidden Layers: [8, 4], Activation: ReLU, Epochs: 1, LR: 0.1, Batch Size: 32, Accuracy: 0.1923\n",
      "Hidden Layers: [8, 4], Activation: ReLU, Epochs: 1, LR: 0.1, Batch Size: 64, Accuracy: 0.2000\n",
      "Hidden Layers: [8, 4], Activation: ReLU, Epochs: 1, LR: 0.1, Batch Size: 128, Accuracy: 0.1154\n",
      "Hidden Layers: [8, 4], Activation: ReLU, Epochs: 1, LR: 0.1, Batch Size: 256, Accuracy: 0.1846\n",
      "Hidden Layers: [8, 4], Activation: ReLU, Epochs: 1, LR: 0.1, Batch Size: 512, Accuracy: 0.0154\n",
      "Hidden Layers: [8, 4], Activation: ReLU, Epochs: 1, LR: 0.01, Batch Size: 16, Accuracy: 0.1308\n",
      "Hidden Layers: [8, 4], Activation: ReLU, Epochs: 1, LR: 0.01, Batch Size: 32, Accuracy: 0.1923\n",
      "Hidden Layers: [8, 4], Activation: ReLU, Epochs: 1, LR: 0.01, Batch Size: 64, Accuracy: 0.1231\n",
      "Hidden Layers: [8, 4], Activation: ReLU, Epochs: 1, LR: 0.01, Batch Size: 128, Accuracy: 0.1923\n",
      "Hidden Layers: [8, 4], Activation: ReLU, Epochs: 1, LR: 0.01, Batch Size: 256, Accuracy: 0.1538\n",
      "Hidden Layers: [8, 4], Activation: ReLU, Epochs: 1, LR: 0.01, Batch Size: 512, Accuracy: 0.0692\n",
      "Hidden Layers: [8, 4], Activation: ReLU, Epochs: 1, LR: 0.001, Batch Size: 16, Accuracy: 0.0077\n",
      "Hidden Layers: [8, 4], Activation: ReLU, Epochs: 1, LR: 0.001, Batch Size: 32, Accuracy: 0.0000\n",
      "Hidden Layers: [8, 4], Activation: ReLU, Epochs: 1, LR: 0.001, Batch Size: 64, Accuracy: 0.1923\n",
      "Hidden Layers: [8, 4], Activation: ReLU, Epochs: 1, LR: 0.001, Batch Size: 128, Accuracy: 0.0000\n",
      "Hidden Layers: [8, 4], Activation: ReLU, Epochs: 1, LR: 0.001, Batch Size: 256, Accuracy: 0.0231\n",
      "Hidden Layers: [8, 4], Activation: ReLU, Epochs: 1, LR: 0.001, Batch Size: 512, Accuracy: 0.0154\n",
      "Hidden Layers: [8, 4], Activation: ReLU, Epochs: 1, LR: 0.0001, Batch Size: 16, Accuracy: 0.1769\n",
      "Hidden Layers: [8, 4], Activation: ReLU, Epochs: 1, LR: 0.0001, Batch Size: 32, Accuracy: 0.0692\n",
      "Hidden Layers: [8, 4], Activation: ReLU, Epochs: 1, LR: 0.0001, Batch Size: 64, Accuracy: 0.0154\n",
      "Hidden Layers: [8, 4], Activation: ReLU, Epochs: 1, LR: 0.0001, Batch Size: 128, Accuracy: 0.0077\n",
      "Hidden Layers: [8, 4], Activation: ReLU, Epochs: 1, LR: 0.0001, Batch Size: 256, Accuracy: 0.0462\n",
      "Hidden Layers: [8, 4], Activation: ReLU, Epochs: 1, LR: 0.0001, Batch Size: 512, Accuracy: 0.0077\n",
      "Hidden Layers: [8, 4], Activation: ReLU, Epochs: 10, LR: 10, Batch Size: 16, Accuracy: 0.1308\n",
      "Hidden Layers: [8, 4], Activation: ReLU, Epochs: 10, LR: 10, Batch Size: 32, Accuracy: 0.1000\n",
      "Hidden Layers: [8, 4], Activation: ReLU, Epochs: 10, LR: 10, Batch Size: 64, Accuracy: 0.1923\n",
      "Hidden Layers: [8, 4], Activation: ReLU, Epochs: 10, LR: 10, Batch Size: 128, Accuracy: 0.1231\n",
      "Hidden Layers: [8, 4], Activation: ReLU, Epochs: 10, LR: 10, Batch Size: 256, Accuracy: 0.0923\n",
      "Hidden Layers: [8, 4], Activation: ReLU, Epochs: 10, LR: 10, Batch Size: 512, Accuracy: 0.0538\n",
      "Hidden Layers: [8, 4], Activation: ReLU, Epochs: 10, LR: 1, Batch Size: 16, Accuracy: 0.1000\n",
      "Hidden Layers: [8, 4], Activation: ReLU, Epochs: 10, LR: 1, Batch Size: 32, Accuracy: 0.1308\n",
      "Hidden Layers: [8, 4], Activation: ReLU, Epochs: 10, LR: 1, Batch Size: 64, Accuracy: 0.1923\n",
      "Hidden Layers: [8, 4], Activation: ReLU, Epochs: 10, LR: 1, Batch Size: 128, Accuracy: 0.1846\n",
      "Hidden Layers: [8, 4], Activation: ReLU, Epochs: 10, LR: 1, Batch Size: 256, Accuracy: 0.1308\n",
      "Hidden Layers: [8, 4], Activation: ReLU, Epochs: 10, LR: 1, Batch Size: 512, Accuracy: 0.1923\n",
      "Hidden Layers: [8, 4], Activation: ReLU, Epochs: 10, LR: 0.1, Batch Size: 16, Accuracy: 0.3154\n",
      "Hidden Layers: [8, 4], Activation: ReLU, Epochs: 10, LR: 0.1, Batch Size: 32, Accuracy: 0.4077\n",
      "Hidden Layers: [8, 4], Activation: ReLU, Epochs: 10, LR: 0.1, Batch Size: 64, Accuracy: 0.3308\n",
      "Hidden Layers: [8, 4], Activation: ReLU, Epochs: 10, LR: 0.1, Batch Size: 128, Accuracy: 0.3615\n",
      "Hidden Layers: [8, 4], Activation: ReLU, Epochs: 10, LR: 0.1, Batch Size: 256, Accuracy: 0.2308\n",
      "Hidden Layers: [8, 4], Activation: ReLU, Epochs: 10, LR: 0.1, Batch Size: 512, Accuracy: 0.1308\n",
      "Hidden Layers: [8, 4], Activation: ReLU, Epochs: 10, LR: 0.01, Batch Size: 16, Accuracy: 0.4538\n",
      "Hidden Layers: [8, 4], Activation: ReLU, Epochs: 10, LR: 0.01, Batch Size: 32, Accuracy: 0.3846\n",
      "Hidden Layers: [8, 4], Activation: ReLU, Epochs: 10, LR: 0.01, Batch Size: 64, Accuracy: 0.3308\n",
      "Hidden Layers: [8, 4], Activation: ReLU, Epochs: 10, LR: 0.01, Batch Size: 128, Accuracy: 0.1923\n",
      "Hidden Layers: [8, 4], Activation: ReLU, Epochs: 10, LR: 0.01, Batch Size: 256, Accuracy: 0.1538\n",
      "Hidden Layers: [8, 4], Activation: ReLU, Epochs: 10, LR: 0.01, Batch Size: 512, Accuracy: 0.2000\n",
      "Hidden Layers: [8, 4], Activation: ReLU, Epochs: 10, LR: 0.001, Batch Size: 16, Accuracy: 0.1769\n",
      "Hidden Layers: [8, 4], Activation: ReLU, Epochs: 10, LR: 0.001, Batch Size: 32, Accuracy: 0.1308\n",
      "Hidden Layers: [8, 4], Activation: ReLU, Epochs: 10, LR: 0.001, Batch Size: 64, Accuracy: 0.0385\n",
      "Hidden Layers: [8, 4], Activation: ReLU, Epochs: 10, LR: 0.001, Batch Size: 128, Accuracy: 0.1308\n",
      "Hidden Layers: [8, 4], Activation: ReLU, Epochs: 10, LR: 0.001, Batch Size: 256, Accuracy: 0.1000\n",
      "Hidden Layers: [8, 4], Activation: ReLU, Epochs: 10, LR: 0.001, Batch Size: 512, Accuracy: 0.1769\n",
      "Hidden Layers: [8, 4], Activation: ReLU, Epochs: 10, LR: 0.0001, Batch Size: 16, Accuracy: 0.1923\n",
      "Hidden Layers: [8, 4], Activation: ReLU, Epochs: 10, LR: 0.0001, Batch Size: 32, Accuracy: 0.0154\n",
      "Hidden Layers: [8, 4], Activation: ReLU, Epochs: 10, LR: 0.0001, Batch Size: 64, Accuracy: 0.0615\n",
      "Hidden Layers: [8, 4], Activation: ReLU, Epochs: 10, LR: 0.0001, Batch Size: 128, Accuracy: 0.0462\n",
      "Hidden Layers: [8, 4], Activation: ReLU, Epochs: 10, LR: 0.0001, Batch Size: 256, Accuracy: 0.0000\n",
      "Hidden Layers: [8, 4], Activation: ReLU, Epochs: 10, LR: 0.0001, Batch Size: 512, Accuracy: 0.0000\n",
      "Hidden Layers: [8, 4], Activation: ReLU, Epochs: 25, LR: 10, Batch Size: 16, Accuracy: 0.1308\n",
      "Hidden Layers: [8, 4], Activation: ReLU, Epochs: 25, LR: 10, Batch Size: 32, Accuracy: 0.0692\n",
      "Hidden Layers: [8, 4], Activation: ReLU, Epochs: 25, LR: 10, Batch Size: 64, Accuracy: 0.0385\n",
      "Hidden Layers: [8, 4], Activation: ReLU, Epochs: 25, LR: 10, Batch Size: 128, Accuracy: 0.0154\n",
      "Hidden Layers: [8, 4], Activation: ReLU, Epochs: 25, LR: 10, Batch Size: 256, Accuracy: 0.0154\n",
      "Hidden Layers: [8, 4], Activation: ReLU, Epochs: 25, LR: 10, Batch Size: 512, Accuracy: 0.1231\n",
      "Hidden Layers: [8, 4], Activation: ReLU, Epochs: 25, LR: 1, Batch Size: 16, Accuracy: 0.0923\n",
      "Hidden Layers: [8, 4], Activation: ReLU, Epochs: 25, LR: 1, Batch Size: 32, Accuracy: 0.1231\n",
      "Hidden Layers: [8, 4], Activation: ReLU, Epochs: 25, LR: 1, Batch Size: 64, Accuracy: 0.1000\n",
      "Hidden Layers: [8, 4], Activation: ReLU, Epochs: 25, LR: 1, Batch Size: 128, Accuracy: 0.1231\n",
      "Hidden Layers: [8, 4], Activation: ReLU, Epochs: 25, LR: 1, Batch Size: 256, Accuracy: 0.1308\n",
      "Hidden Layers: [8, 4], Activation: ReLU, Epochs: 25, LR: 1, Batch Size: 512, Accuracy: 0.1231\n",
      "Hidden Layers: [8, 4], Activation: ReLU, Epochs: 25, LR: 0.1, Batch Size: 16, Accuracy: 0.3692\n",
      "Hidden Layers: [8, 4], Activation: ReLU, Epochs: 25, LR: 0.1, Batch Size: 32, Accuracy: 0.3231\n",
      "Hidden Layers: [8, 4], Activation: ReLU, Epochs: 25, LR: 0.1, Batch Size: 64, Accuracy: 0.3846\n",
      "Hidden Layers: [8, 4], Activation: ReLU, Epochs: 25, LR: 0.1, Batch Size: 128, Accuracy: 0.3615\n",
      "Hidden Layers: [8, 4], Activation: ReLU, Epochs: 25, LR: 0.1, Batch Size: 256, Accuracy: 0.2154\n",
      "Hidden Layers: [8, 4], Activation: ReLU, Epochs: 25, LR: 0.1, Batch Size: 512, Accuracy: 0.2231\n",
      "Hidden Layers: [8, 4], Activation: ReLU, Epochs: 25, LR: 0.01, Batch Size: 16, Accuracy: 0.4308\n",
      "Hidden Layers: [8, 4], Activation: ReLU, Epochs: 25, LR: 0.01, Batch Size: 32, Accuracy: 0.4538\n",
      "Hidden Layers: [8, 4], Activation: ReLU, Epochs: 25, LR: 0.01, Batch Size: 64, Accuracy: 0.4308\n",
      "Hidden Layers: [8, 4], Activation: ReLU, Epochs: 25, LR: 0.01, Batch Size: 128, Accuracy: 0.4000\n",
      "Hidden Layers: [8, 4], Activation: ReLU, Epochs: 25, LR: 0.01, Batch Size: 256, Accuracy: 0.2846\n",
      "Hidden Layers: [8, 4], Activation: ReLU, Epochs: 25, LR: 0.01, Batch Size: 512, Accuracy: 0.1692\n",
      "Hidden Layers: [8, 4], Activation: ReLU, Epochs: 25, LR: 0.001, Batch Size: 16, Accuracy: 0.3385\n",
      "Hidden Layers: [8, 4], Activation: ReLU, Epochs: 25, LR: 0.001, Batch Size: 32, Accuracy: 0.2923\n",
      "Hidden Layers: [8, 4], Activation: ReLU, Epochs: 25, LR: 0.001, Batch Size: 64, Accuracy: 0.1769\n",
      "Hidden Layers: [8, 4], Activation: ReLU, Epochs: 25, LR: 0.001, Batch Size: 128, Accuracy: 0.1538\n",
      "Hidden Layers: [8, 4], Activation: ReLU, Epochs: 25, LR: 0.001, Batch Size: 256, Accuracy: 0.0308\n",
      "Hidden Layers: [8, 4], Activation: ReLU, Epochs: 25, LR: 0.001, Batch Size: 512, Accuracy: 0.0462\n",
      "Hidden Layers: [8, 4], Activation: ReLU, Epochs: 25, LR: 0.0001, Batch Size: 16, Accuracy: 0.0462\n",
      "Hidden Layers: [8, 4], Activation: ReLU, Epochs: 25, LR: 0.0001, Batch Size: 32, Accuracy: 0.0000\n",
      "Hidden Layers: [8, 4], Activation: ReLU, Epochs: 25, LR: 0.0001, Batch Size: 64, Accuracy: 0.1154\n",
      "Hidden Layers: [8, 4], Activation: ReLU, Epochs: 25, LR: 0.0001, Batch Size: 128, Accuracy: 0.0000\n",
      "Hidden Layers: [8, 4], Activation: ReLU, Epochs: 25, LR: 0.0001, Batch Size: 256, Accuracy: 0.0000\n",
      "Hidden Layers: [8, 4], Activation: ReLU, Epochs: 25, LR: 0.0001, Batch Size: 512, Accuracy: 0.0846\n",
      "Hidden Layers: [8, 4], Activation: ReLU, Epochs: 50, LR: 10, Batch Size: 16, Accuracy: 0.0769\n",
      "Hidden Layers: [8, 4], Activation: ReLU, Epochs: 50, LR: 10, Batch Size: 32, Accuracy: 0.0923\n",
      "Hidden Layers: [8, 4], Activation: ReLU, Epochs: 50, LR: 10, Batch Size: 64, Accuracy: 0.1923\n",
      "Hidden Layers: [8, 4], Activation: ReLU, Epochs: 50, LR: 10, Batch Size: 128, Accuracy: 0.0538\n",
      "Hidden Layers: [8, 4], Activation: ReLU, Epochs: 50, LR: 10, Batch Size: 256, Accuracy: 0.1000\n",
      "Hidden Layers: [8, 4], Activation: ReLU, Epochs: 50, LR: 10, Batch Size: 512, Accuracy: 0.1923\n",
      "Hidden Layers: [8, 4], Activation: ReLU, Epochs: 50, LR: 1, Batch Size: 16, Accuracy: 0.1308\n",
      "Hidden Layers: [8, 4], Activation: ReLU, Epochs: 50, LR: 1, Batch Size: 32, Accuracy: 0.1923\n",
      "Hidden Layers: [8, 4], Activation: ReLU, Epochs: 50, LR: 1, Batch Size: 64, Accuracy: 0.1846\n",
      "Hidden Layers: [8, 4], Activation: ReLU, Epochs: 50, LR: 1, Batch Size: 128, Accuracy: 0.1308\n",
      "Hidden Layers: [8, 4], Activation: ReLU, Epochs: 50, LR: 1, Batch Size: 256, Accuracy: 0.1308\n",
      "Hidden Layers: [8, 4], Activation: ReLU, Epochs: 50, LR: 1, Batch Size: 512, Accuracy: 0.0923\n",
      "Hidden Layers: [8, 4], Activation: ReLU, Epochs: 50, LR: 0.1, Batch Size: 16, Accuracy: 0.4385\n",
      "Hidden Layers: [8, 4], Activation: ReLU, Epochs: 50, LR: 0.1, Batch Size: 32, Accuracy: 0.4308\n",
      "Hidden Layers: [8, 4], Activation: ReLU, Epochs: 50, LR: 0.1, Batch Size: 64, Accuracy: 0.4000\n",
      "Hidden Layers: [8, 4], Activation: ReLU, Epochs: 50, LR: 0.1, Batch Size: 128, Accuracy: 0.4462\n",
      "Hidden Layers: [8, 4], Activation: ReLU, Epochs: 50, LR: 0.1, Batch Size: 256, Accuracy: 0.3077\n",
      "Hidden Layers: [8, 4], Activation: ReLU, Epochs: 50, LR: 0.1, Batch Size: 512, Accuracy: 0.3385\n",
      "Hidden Layers: [8, 4], Activation: ReLU, Epochs: 50, LR: 0.01, Batch Size: 16, Accuracy: 0.4769\n",
      "Hidden Layers: [8, 4], Activation: ReLU, Epochs: 50, LR: 0.01, Batch Size: 32, Accuracy: 0.4462\n",
      "Hidden Layers: [8, 4], Activation: ReLU, Epochs: 50, LR: 0.01, Batch Size: 64, Accuracy: 0.3154\n",
      "Hidden Layers: [8, 4], Activation: ReLU, Epochs: 50, LR: 0.01, Batch Size: 128, Accuracy: 0.3846\n",
      "Hidden Layers: [8, 4], Activation: ReLU, Epochs: 50, LR: 0.01, Batch Size: 256, Accuracy: 0.2385\n",
      "Hidden Layers: [8, 4], Activation: ReLU, Epochs: 50, LR: 0.01, Batch Size: 512, Accuracy: 0.3538\n",
      "Hidden Layers: [8, 4], Activation: ReLU, Epochs: 50, LR: 0.001, Batch Size: 16, Accuracy: 0.3846\n",
      "Hidden Layers: [8, 4], Activation: ReLU, Epochs: 50, LR: 0.001, Batch Size: 32, Accuracy: 0.3538\n",
      "Hidden Layers: [8, 4], Activation: ReLU, Epochs: 50, LR: 0.001, Batch Size: 64, Accuracy: 0.2923\n",
      "Hidden Layers: [8, 4], Activation: ReLU, Epochs: 50, LR: 0.001, Batch Size: 128, Accuracy: 0.2385\n",
      "Hidden Layers: [8, 4], Activation: ReLU, Epochs: 50, LR: 0.001, Batch Size: 256, Accuracy: 0.1000\n",
      "Hidden Layers: [8, 4], Activation: ReLU, Epochs: 50, LR: 0.001, Batch Size: 512, Accuracy: 0.1231\n",
      "Hidden Layers: [8, 4], Activation: ReLU, Epochs: 50, LR: 0.0001, Batch Size: 16, Accuracy: 0.2077\n",
      "Hidden Layers: [8, 4], Activation: ReLU, Epochs: 50, LR: 0.0001, Batch Size: 32, Accuracy: 0.1308\n",
      "Hidden Layers: [8, 4], Activation: ReLU, Epochs: 50, LR: 0.0001, Batch Size: 64, Accuracy: 0.0308\n",
      "Hidden Layers: [8, 4], Activation: ReLU, Epochs: 50, LR: 0.0001, Batch Size: 128, Accuracy: 0.0077\n",
      "Hidden Layers: [8, 4], Activation: ReLU, Epochs: 50, LR: 0.0001, Batch Size: 256, Accuracy: 0.1000\n",
      "Hidden Layers: [8, 4], Activation: ReLU, Epochs: 50, LR: 0.0001, Batch Size: 512, Accuracy: 0.0385\n",
      "Hidden Layers: [8, 4], Activation: ReLU, Epochs: 100, LR: 10, Batch Size: 16, Accuracy: 0.0538\n",
      "Hidden Layers: [8, 4], Activation: ReLU, Epochs: 100, LR: 10, Batch Size: 32, Accuracy: 0.0769\n",
      "Hidden Layers: [8, 4], Activation: ReLU, Epochs: 100, LR: 10, Batch Size: 64, Accuracy: 0.1923\n",
      "Hidden Layers: [8, 4], Activation: ReLU, Epochs: 100, LR: 10, Batch Size: 128, Accuracy: 0.1308\n",
      "Hidden Layers: [8, 4], Activation: ReLU, Epochs: 100, LR: 10, Batch Size: 256, Accuracy: 0.1308\n",
      "Hidden Layers: [8, 4], Activation: ReLU, Epochs: 100, LR: 10, Batch Size: 512, Accuracy: 0.0769\n",
      "Hidden Layers: [8, 4], Activation: ReLU, Epochs: 100, LR: 1, Batch Size: 16, Accuracy: 0.1000\n",
      "Hidden Layers: [8, 4], Activation: ReLU, Epochs: 100, LR: 1, Batch Size: 32, Accuracy: 0.0385\n",
      "Hidden Layers: [8, 4], Activation: ReLU, Epochs: 100, LR: 1, Batch Size: 64, Accuracy: 0.1000\n",
      "Hidden Layers: [8, 4], Activation: ReLU, Epochs: 100, LR: 1, Batch Size: 128, Accuracy: 0.1231\n",
      "Hidden Layers: [8, 4], Activation: ReLU, Epochs: 100, LR: 1, Batch Size: 256, Accuracy: 0.1308\n",
      "Hidden Layers: [8, 4], Activation: ReLU, Epochs: 100, LR: 1, Batch Size: 512, Accuracy: 0.1923\n",
      "Hidden Layers: [8, 4], Activation: ReLU, Epochs: 100, LR: 0.1, Batch Size: 16, Accuracy: 0.3385\n",
      "Hidden Layers: [8, 4], Activation: ReLU, Epochs: 100, LR: 0.1, Batch Size: 32, Accuracy: 0.3692\n",
      "Hidden Layers: [8, 4], Activation: ReLU, Epochs: 100, LR: 0.1, Batch Size: 64, Accuracy: 0.4385\n",
      "Hidden Layers: [8, 4], Activation: ReLU, Epochs: 100, LR: 0.1, Batch Size: 128, Accuracy: 0.4154\n",
      "Hidden Layers: [8, 4], Activation: ReLU, Epochs: 100, LR: 0.1, Batch Size: 256, Accuracy: 0.4462\n",
      "Hidden Layers: [8, 4], Activation: ReLU, Epochs: 100, LR: 0.1, Batch Size: 512, Accuracy: 0.2615\n",
      "Hidden Layers: [8, 4], Activation: ReLU, Epochs: 100, LR: 0.01, Batch Size: 16, Accuracy: 0.4154\n",
      "Hidden Layers: [8, 4], Activation: ReLU, Epochs: 100, LR: 0.01, Batch Size: 32, Accuracy: 0.4385\n",
      "Hidden Layers: [8, 4], Activation: ReLU, Epochs: 100, LR: 0.01, Batch Size: 64, Accuracy: 0.5231\n",
      "Hidden Layers: [8, 4], Activation: ReLU, Epochs: 100, LR: 0.01, Batch Size: 128, Accuracy: 0.3231\n",
      "Hidden Layers: [8, 4], Activation: ReLU, Epochs: 100, LR: 0.01, Batch Size: 256, Accuracy: 0.3923\n",
      "Hidden Layers: [8, 4], Activation: ReLU, Epochs: 100, LR: 0.01, Batch Size: 512, Accuracy: 0.3923\n",
      "Hidden Layers: [8, 4], Activation: ReLU, Epochs: 100, LR: 0.001, Batch Size: 16, Accuracy: 0.4385\n",
      "Hidden Layers: [8, 4], Activation: ReLU, Epochs: 100, LR: 0.001, Batch Size: 32, Accuracy: 0.3462\n",
      "Hidden Layers: [8, 4], Activation: ReLU, Epochs: 100, LR: 0.001, Batch Size: 64, Accuracy: 0.4000\n",
      "Hidden Layers: [8, 4], Activation: ReLU, Epochs: 100, LR: 0.001, Batch Size: 128, Accuracy: 0.3154\n",
      "Hidden Layers: [8, 4], Activation: ReLU, Epochs: 100, LR: 0.001, Batch Size: 256, Accuracy: 0.1308\n",
      "Hidden Layers: [8, 4], Activation: ReLU, Epochs: 100, LR: 0.001, Batch Size: 512, Accuracy: 0.1077\n",
      "Hidden Layers: [8, 4], Activation: ReLU, Epochs: 100, LR: 0.0001, Batch Size: 16, Accuracy: 0.1385\n",
      "Hidden Layers: [8, 4], Activation: ReLU, Epochs: 100, LR: 0.0001, Batch Size: 32, Accuracy: 0.1923\n",
      "Hidden Layers: [8, 4], Activation: ReLU, Epochs: 100, LR: 0.0001, Batch Size: 64, Accuracy: 0.0462\n",
      "Hidden Layers: [8, 4], Activation: ReLU, Epochs: 100, LR: 0.0001, Batch Size: 128, Accuracy: 0.1615\n",
      "Hidden Layers: [8, 4], Activation: ReLU, Epochs: 100, LR: 0.0001, Batch Size: 256, Accuracy: 0.0385\n",
      "Hidden Layers: [8, 4], Activation: ReLU, Epochs: 100, LR: 0.0001, Batch Size: 512, Accuracy: 0.1923\n",
      "Hidden Layers: [8, 4], Activation: ReLU, Epochs: 250, LR: 10, Batch Size: 16, Accuracy: 0.0769\n",
      "Hidden Layers: [8, 4], Activation: ReLU, Epochs: 250, LR: 10, Batch Size: 32, Accuracy: 0.1077\n",
      "Hidden Layers: [8, 4], Activation: ReLU, Epochs: 250, LR: 10, Batch Size: 64, Accuracy: 0.0385\n",
      "Hidden Layers: [8, 4], Activation: ReLU, Epochs: 250, LR: 10, Batch Size: 128, Accuracy: 0.1923\n",
      "Hidden Layers: [8, 4], Activation: ReLU, Epochs: 250, LR: 10, Batch Size: 256, Accuracy: 0.1231\n",
      "Hidden Layers: [8, 4], Activation: ReLU, Epochs: 250, LR: 10, Batch Size: 512, Accuracy: 0.1308\n",
      "Hidden Layers: [8, 4], Activation: ReLU, Epochs: 250, LR: 1, Batch Size: 16, Accuracy: 0.1923\n",
      "Hidden Layers: [8, 4], Activation: ReLU, Epochs: 250, LR: 1, Batch Size: 32, Accuracy: 0.1000\n",
      "Hidden Layers: [8, 4], Activation: ReLU, Epochs: 250, LR: 1, Batch Size: 64, Accuracy: 0.0923\n",
      "Hidden Layers: [8, 4], Activation: ReLU, Epochs: 250, LR: 1, Batch Size: 128, Accuracy: 0.1308\n",
      "Hidden Layers: [8, 4], Activation: ReLU, Epochs: 250, LR: 1, Batch Size: 256, Accuracy: 0.0385\n",
      "Hidden Layers: [8, 4], Activation: ReLU, Epochs: 250, LR: 1, Batch Size: 512, Accuracy: 0.1000\n",
      "Hidden Layers: [8, 4], Activation: ReLU, Epochs: 250, LR: 0.1, Batch Size: 16, Accuracy: 0.3462\n",
      "Hidden Layers: [8, 4], Activation: ReLU, Epochs: 250, LR: 0.1, Batch Size: 32, Accuracy: 0.4692\n",
      "Hidden Layers: [8, 4], Activation: ReLU, Epochs: 250, LR: 0.1, Batch Size: 64, Accuracy: 0.4538\n",
      "Hidden Layers: [8, 4], Activation: ReLU, Epochs: 250, LR: 0.1, Batch Size: 128, Accuracy: 0.4308\n",
      "Hidden Layers: [8, 4], Activation: ReLU, Epochs: 250, LR: 0.1, Batch Size: 256, Accuracy: 0.3615\n",
      "Hidden Layers: [8, 4], Activation: ReLU, Epochs: 250, LR: 0.1, Batch Size: 512, Accuracy: 0.3615\n",
      "Hidden Layers: [8, 4], Activation: ReLU, Epochs: 250, LR: 0.01, Batch Size: 16, Accuracy: 0.4154\n",
      "Hidden Layers: [8, 4], Activation: ReLU, Epochs: 250, LR: 0.01, Batch Size: 32, Accuracy: 0.3769\n",
      "Hidden Layers: [8, 4], Activation: ReLU, Epochs: 250, LR: 0.01, Batch Size: 64, Accuracy: 0.3615\n",
      "Hidden Layers: [8, 4], Activation: ReLU, Epochs: 250, LR: 0.01, Batch Size: 128, Accuracy: 0.4154\n",
      "Hidden Layers: [8, 4], Activation: ReLU, Epochs: 250, LR: 0.01, Batch Size: 256, Accuracy: 0.2385\n",
      "Hidden Layers: [8, 4], Activation: ReLU, Epochs: 250, LR: 0.01, Batch Size: 512, Accuracy: 0.3923\n",
      "Hidden Layers: [8, 4], Activation: ReLU, Epochs: 250, LR: 0.001, Batch Size: 16, Accuracy: 0.4692\n",
      "Hidden Layers: [8, 4], Activation: ReLU, Epochs: 250, LR: 0.001, Batch Size: 32, Accuracy: 0.4231\n",
      "Hidden Layers: [8, 4], Activation: ReLU, Epochs: 250, LR: 0.001, Batch Size: 64, Accuracy: 0.4000\n",
      "Hidden Layers: [8, 4], Activation: ReLU, Epochs: 250, LR: 0.001, Batch Size: 128, Accuracy: 0.3923\n",
      "Hidden Layers: [8, 4], Activation: ReLU, Epochs: 250, LR: 0.001, Batch Size: 256, Accuracy: 0.2538\n",
      "Hidden Layers: [8, 4], Activation: ReLU, Epochs: 250, LR: 0.001, Batch Size: 512, Accuracy: 0.1923\n",
      "Hidden Layers: [8, 4], Activation: ReLU, Epochs: 250, LR: 0.0001, Batch Size: 16, Accuracy: 0.3231\n",
      "Hidden Layers: [8, 4], Activation: ReLU, Epochs: 250, LR: 0.0001, Batch Size: 32, Accuracy: 0.2308\n",
      "Hidden Layers: [8, 4], Activation: ReLU, Epochs: 250, LR: 0.0001, Batch Size: 64, Accuracy: 0.1308\n",
      "Hidden Layers: [8, 4], Activation: ReLU, Epochs: 250, LR: 0.0001, Batch Size: 128, Accuracy: 0.0923\n",
      "Hidden Layers: [8, 4], Activation: ReLU, Epochs: 250, LR: 0.0001, Batch Size: 256, Accuracy: 0.0231\n",
      "Hidden Layers: [8, 4], Activation: ReLU, Epochs: 250, LR: 0.0001, Batch Size: 512, Accuracy: 0.0077\n",
      "Hidden Layers: [8, 4], Activation: Softmax, Epochs: 1, LR: 10, Batch Size: 16, Accuracy: 0.0385\n",
      "Hidden Layers: [8, 4], Activation: Softmax, Epochs: 1, LR: 10, Batch Size: 32, Accuracy: 0.1846\n",
      "Hidden Layers: [8, 4], Activation: Softmax, Epochs: 1, LR: 10, Batch Size: 64, Accuracy: 0.0308\n",
      "Hidden Layers: [8, 4], Activation: Softmax, Epochs: 1, LR: 10, Batch Size: 128, Accuracy: 0.1000\n",
      "Hidden Layers: [8, 4], Activation: Softmax, Epochs: 1, LR: 10, Batch Size: 256, Accuracy: 0.1923\n",
      "Hidden Layers: [8, 4], Activation: Softmax, Epochs: 1, LR: 10, Batch Size: 512, Accuracy: 0.1308\n"
     ]
    },
    {
     "name": "stderr",
     "output_type": "stream",
     "text": [
      "C:\\Users\\user\\AppData\\Local\\Packages\\PythonSoftwareFoundation.Python.3.12_qbz5n2kfra8p0\\LocalCache\\local-packages\\Python312\\site-packages\\torch\\nn\\modules\\module.py:1736: UserWarning: Implicit dimension choice for softmax has been deprecated. Change the call to include dim=X as an argument.\n",
      "  return self._call_impl(*args, **kwargs)\n",
      "C:\\Users\\user\\AppData\\Local\\Packages\\PythonSoftwareFoundation.Python.3.12_qbz5n2kfra8p0\\LocalCache\\local-packages\\Python312\\site-packages\\torch\\nn\\modules\\module.py:1736: UserWarning: Implicit dimension choice for softmax has been deprecated. Change the call to include dim=X as an argument.\n",
      "  return self._call_impl(*args, **kwargs)\n",
      "C:\\Users\\user\\AppData\\Local\\Packages\\PythonSoftwareFoundation.Python.3.12_qbz5n2kfra8p0\\LocalCache\\local-packages\\Python312\\site-packages\\torch\\nn\\modules\\module.py:1736: UserWarning: Implicit dimension choice for softmax has been deprecated. Change the call to include dim=X as an argument.\n",
      "  return self._call_impl(*args, **kwargs)\n",
      "C:\\Users\\user\\AppData\\Local\\Packages\\PythonSoftwareFoundation.Python.3.12_qbz5n2kfra8p0\\LocalCache\\local-packages\\Python312\\site-packages\\torch\\nn\\modules\\module.py:1736: UserWarning: Implicit dimension choice for softmax has been deprecated. Change the call to include dim=X as an argument.\n",
      "  return self._call_impl(*args, **kwargs)\n",
      "C:\\Users\\user\\AppData\\Local\\Packages\\PythonSoftwareFoundation.Python.3.12_qbz5n2kfra8p0\\LocalCache\\local-packages\\Python312\\site-packages\\torch\\nn\\modules\\module.py:1736: UserWarning: Implicit dimension choice for softmax has been deprecated. Change the call to include dim=X as an argument.\n",
      "  return self._call_impl(*args, **kwargs)\n",
      "C:\\Users\\user\\AppData\\Local\\Packages\\PythonSoftwareFoundation.Python.3.12_qbz5n2kfra8p0\\LocalCache\\local-packages\\Python312\\site-packages\\torch\\nn\\modules\\module.py:1736: UserWarning: Implicit dimension choice for softmax has been deprecated. Change the call to include dim=X as an argument.\n",
      "  return self._call_impl(*args, **kwargs)\n",
      "C:\\Users\\user\\AppData\\Local\\Packages\\PythonSoftwareFoundation.Python.3.12_qbz5n2kfra8p0\\LocalCache\\local-packages\\Python312\\site-packages\\torch\\nn\\modules\\module.py:1736: UserWarning: Implicit dimension choice for softmax has been deprecated. Change the call to include dim=X as an argument.\n",
      "  return self._call_impl(*args, **kwargs)\n"
     ]
    },
    {
     "name": "stdout",
     "output_type": "stream",
     "text": [
      "Hidden Layers: [8, 4], Activation: Softmax, Epochs: 1, LR: 1, Batch Size: 16, Accuracy: 0.1923\n",
      "Hidden Layers: [8, 4], Activation: Softmax, Epochs: 1, LR: 1, Batch Size: 32, Accuracy: 0.1923\n",
      "Hidden Layers: [8, 4], Activation: Softmax, Epochs: 1, LR: 1, Batch Size: 64, Accuracy: 0.1308\n",
      "Hidden Layers: [8, 4], Activation: Softmax, Epochs: 1, LR: 1, Batch Size: 128, Accuracy: 0.0385\n",
      "Hidden Layers: [8, 4], Activation: Softmax, Epochs: 1, LR: 1, Batch Size: 256, Accuracy: 0.1923\n",
      "Hidden Layers: [8, 4], Activation: Softmax, Epochs: 1, LR: 1, Batch Size: 512, Accuracy: 0.1923\n",
      "Hidden Layers: [8, 4], Activation: Softmax, Epochs: 1, LR: 0.1, Batch Size: 16, Accuracy: 0.2077\n",
      "Hidden Layers: [8, 4], Activation: Softmax, Epochs: 1, LR: 0.1, Batch Size: 32, Accuracy: 0.2000\n"
     ]
    },
    {
     "name": "stderr",
     "output_type": "stream",
     "text": [
      "C:\\Users\\user\\AppData\\Local\\Packages\\PythonSoftwareFoundation.Python.3.12_qbz5n2kfra8p0\\LocalCache\\local-packages\\Python312\\site-packages\\torch\\nn\\modules\\module.py:1736: UserWarning: Implicit dimension choice for softmax has been deprecated. Change the call to include dim=X as an argument.\n",
      "  return self._call_impl(*args, **kwargs)\n",
      "C:\\Users\\user\\AppData\\Local\\Packages\\PythonSoftwareFoundation.Python.3.12_qbz5n2kfra8p0\\LocalCache\\local-packages\\Python312\\site-packages\\torch\\nn\\modules\\module.py:1736: UserWarning: Implicit dimension choice for softmax has been deprecated. Change the call to include dim=X as an argument.\n",
      "  return self._call_impl(*args, **kwargs)\n",
      "C:\\Users\\user\\AppData\\Local\\Packages\\PythonSoftwareFoundation.Python.3.12_qbz5n2kfra8p0\\LocalCache\\local-packages\\Python312\\site-packages\\torch\\nn\\modules\\module.py:1736: UserWarning: Implicit dimension choice for softmax has been deprecated. Change the call to include dim=X as an argument.\n",
      "  return self._call_impl(*args, **kwargs)\n",
      "C:\\Users\\user\\AppData\\Local\\Packages\\PythonSoftwareFoundation.Python.3.12_qbz5n2kfra8p0\\LocalCache\\local-packages\\Python312\\site-packages\\torch\\nn\\modules\\module.py:1736: UserWarning: Implicit dimension choice for softmax has been deprecated. Change the call to include dim=X as an argument.\n",
      "  return self._call_impl(*args, **kwargs)\n",
      "C:\\Users\\user\\AppData\\Local\\Packages\\PythonSoftwareFoundation.Python.3.12_qbz5n2kfra8p0\\LocalCache\\local-packages\\Python312\\site-packages\\torch\\nn\\modules\\module.py:1736: UserWarning: Implicit dimension choice for softmax has been deprecated. Change the call to include dim=X as an argument.\n",
      "  return self._call_impl(*args, **kwargs)\n",
      "C:\\Users\\user\\AppData\\Local\\Packages\\PythonSoftwareFoundation.Python.3.12_qbz5n2kfra8p0\\LocalCache\\local-packages\\Python312\\site-packages\\torch\\nn\\modules\\module.py:1736: UserWarning: Implicit dimension choice for softmax has been deprecated. Change the call to include dim=X as an argument.\n",
      "  return self._call_impl(*args, **kwargs)\n",
      "C:\\Users\\user\\AppData\\Local\\Packages\\PythonSoftwareFoundation.Python.3.12_qbz5n2kfra8p0\\LocalCache\\local-packages\\Python312\\site-packages\\torch\\nn\\modules\\module.py:1736: UserWarning: Implicit dimension choice for softmax has been deprecated. Change the call to include dim=X as an argument.\n",
      "  return self._call_impl(*args, **kwargs)\n",
      "C:\\Users\\user\\AppData\\Local\\Packages\\PythonSoftwareFoundation.Python.3.12_qbz5n2kfra8p0\\LocalCache\\local-packages\\Python312\\site-packages\\torch\\nn\\modules\\module.py:1736: UserWarning: Implicit dimension choice for softmax has been deprecated. Change the call to include dim=X as an argument.\n",
      "  return self._call_impl(*args, **kwargs)\n"
     ]
    },
    {
     "name": "stdout",
     "output_type": "stream",
     "text": [
      "Hidden Layers: [8, 4], Activation: Softmax, Epochs: 1, LR: 0.1, Batch Size: 64, Accuracy: 0.2000\n",
      "Hidden Layers: [8, 4], Activation: Softmax, Epochs: 1, LR: 0.1, Batch Size: 128, Accuracy: 0.1000\n",
      "Hidden Layers: [8, 4], Activation: Softmax, Epochs: 1, LR: 0.1, Batch Size: 256, Accuracy: 0.1000\n",
      "Hidden Layers: [8, 4], Activation: Softmax, Epochs: 1, LR: 0.1, Batch Size: 512, Accuracy: 0.1923\n",
      "Hidden Layers: [8, 4], Activation: Softmax, Epochs: 1, LR: 0.01, Batch Size: 16, Accuracy: 0.1231\n",
      "Hidden Layers: [8, 4], Activation: Softmax, Epochs: 1, LR: 0.01, Batch Size: 32, Accuracy: 0.0000\n",
      "Hidden Layers: [8, 4], Activation: Softmax, Epochs: 1, LR: 0.01, Batch Size: 64, Accuracy: 0.0538\n",
      "Hidden Layers: [8, 4], Activation: Softmax, Epochs: 1, LR: 0.01, Batch Size: 128, Accuracy: 0.1308\n",
      "Hidden Layers: [8, 4], Activation: Softmax, Epochs: 1, LR: 0.01, Batch Size: 256, Accuracy: 0.1231\n",
      "Hidden Layers: [8, 4], Activation: Softmax, Epochs: 1, LR: 0.01, Batch Size: 512, Accuracy: 0.1231\n"
     ]
    },
    {
     "name": "stderr",
     "output_type": "stream",
     "text": [
      "C:\\Users\\user\\AppData\\Local\\Packages\\PythonSoftwareFoundation.Python.3.12_qbz5n2kfra8p0\\LocalCache\\local-packages\\Python312\\site-packages\\torch\\nn\\modules\\module.py:1736: UserWarning: Implicit dimension choice for softmax has been deprecated. Change the call to include dim=X as an argument.\n",
      "  return self._call_impl(*args, **kwargs)\n",
      "C:\\Users\\user\\AppData\\Local\\Packages\\PythonSoftwareFoundation.Python.3.12_qbz5n2kfra8p0\\LocalCache\\local-packages\\Python312\\site-packages\\torch\\nn\\modules\\module.py:1736: UserWarning: Implicit dimension choice for softmax has been deprecated. Change the call to include dim=X as an argument.\n",
      "  return self._call_impl(*args, **kwargs)\n",
      "C:\\Users\\user\\AppData\\Local\\Packages\\PythonSoftwareFoundation.Python.3.12_qbz5n2kfra8p0\\LocalCache\\local-packages\\Python312\\site-packages\\torch\\nn\\modules\\module.py:1736: UserWarning: Implicit dimension choice for softmax has been deprecated. Change the call to include dim=X as an argument.\n",
      "  return self._call_impl(*args, **kwargs)\n",
      "C:\\Users\\user\\AppData\\Local\\Packages\\PythonSoftwareFoundation.Python.3.12_qbz5n2kfra8p0\\LocalCache\\local-packages\\Python312\\site-packages\\torch\\nn\\modules\\module.py:1736: UserWarning: Implicit dimension choice for softmax has been deprecated. Change the call to include dim=X as an argument.\n",
      "  return self._call_impl(*args, **kwargs)\n",
      "C:\\Users\\user\\AppData\\Local\\Packages\\PythonSoftwareFoundation.Python.3.12_qbz5n2kfra8p0\\LocalCache\\local-packages\\Python312\\site-packages\\torch\\nn\\modules\\module.py:1736: UserWarning: Implicit dimension choice for softmax has been deprecated. Change the call to include dim=X as an argument.\n",
      "  return self._call_impl(*args, **kwargs)\n",
      "C:\\Users\\user\\AppData\\Local\\Packages\\PythonSoftwareFoundation.Python.3.12_qbz5n2kfra8p0\\LocalCache\\local-packages\\Python312\\site-packages\\torch\\nn\\modules\\module.py:1736: UserWarning: Implicit dimension choice for softmax has been deprecated. Change the call to include dim=X as an argument.\n",
      "  return self._call_impl(*args, **kwargs)\n",
      "C:\\Users\\user\\AppData\\Local\\Packages\\PythonSoftwareFoundation.Python.3.12_qbz5n2kfra8p0\\LocalCache\\local-packages\\Python312\\site-packages\\torch\\nn\\modules\\module.py:1736: UserWarning: Implicit dimension choice for softmax has been deprecated. Change the call to include dim=X as an argument.\n",
      "  return self._call_impl(*args, **kwargs)\n",
      "C:\\Users\\user\\AppData\\Local\\Packages\\PythonSoftwareFoundation.Python.3.12_qbz5n2kfra8p0\\LocalCache\\local-packages\\Python312\\site-packages\\torch\\nn\\modules\\module.py:1736: UserWarning: Implicit dimension choice for softmax has been deprecated. Change the call to include dim=X as an argument.\n",
      "  return self._call_impl(*args, **kwargs)\n",
      "C:\\Users\\user\\AppData\\Local\\Packages\\PythonSoftwareFoundation.Python.3.12_qbz5n2kfra8p0\\LocalCache\\local-packages\\Python312\\site-packages\\torch\\nn\\modules\\module.py:1736: UserWarning: Implicit dimension choice for softmax has been deprecated. Change the call to include dim=X as an argument.\n",
      "  return self._call_impl(*args, **kwargs)\n",
      "C:\\Users\\user\\AppData\\Local\\Packages\\PythonSoftwareFoundation.Python.3.12_qbz5n2kfra8p0\\LocalCache\\local-packages\\Python312\\site-packages\\torch\\nn\\modules\\module.py:1736: UserWarning: Implicit dimension choice for softmax has been deprecated. Change the call to include dim=X as an argument.\n",
      "  return self._call_impl(*args, **kwargs)\n"
     ]
    },
    {
     "name": "stdout",
     "output_type": "stream",
     "text": [
      "Hidden Layers: [8, 4], Activation: Softmax, Epochs: 1, LR: 0.001, Batch Size: 16, Accuracy: 0.0000\n",
      "Hidden Layers: [8, 4], Activation: Softmax, Epochs: 1, LR: 0.001, Batch Size: 32, Accuracy: 0.0154\n",
      "Hidden Layers: [8, 4], Activation: Softmax, Epochs: 1, LR: 0.001, Batch Size: 64, Accuracy: 0.0385\n",
      "Hidden Layers: [8, 4], Activation: Softmax, Epochs: 1, LR: 0.001, Batch Size: 128, Accuracy: 0.0000\n",
      "Hidden Layers: [8, 4], Activation: Softmax, Epochs: 1, LR: 0.001, Batch Size: 256, Accuracy: 0.0000\n",
      "Hidden Layers: [8, 4], Activation: Softmax, Epochs: 1, LR: 0.001, Batch Size: 512, Accuracy: 0.0000\n",
      "Hidden Layers: [8, 4], Activation: Softmax, Epochs: 1, LR: 0.0001, Batch Size: 16, Accuracy: 0.0385\n",
      "Hidden Layers: [8, 4], Activation: Softmax, Epochs: 1, LR: 0.0001, Batch Size: 32, Accuracy: 0.0000\n"
     ]
    },
    {
     "name": "stderr",
     "output_type": "stream",
     "text": [
      "C:\\Users\\user\\AppData\\Local\\Packages\\PythonSoftwareFoundation.Python.3.12_qbz5n2kfra8p0\\LocalCache\\local-packages\\Python312\\site-packages\\torch\\nn\\modules\\module.py:1736: UserWarning: Implicit dimension choice for softmax has been deprecated. Change the call to include dim=X as an argument.\n",
      "  return self._call_impl(*args, **kwargs)\n",
      "C:\\Users\\user\\AppData\\Local\\Packages\\PythonSoftwareFoundation.Python.3.12_qbz5n2kfra8p0\\LocalCache\\local-packages\\Python312\\site-packages\\torch\\nn\\modules\\module.py:1736: UserWarning: Implicit dimension choice for softmax has been deprecated. Change the call to include dim=X as an argument.\n",
      "  return self._call_impl(*args, **kwargs)\n",
      "C:\\Users\\user\\AppData\\Local\\Packages\\PythonSoftwareFoundation.Python.3.12_qbz5n2kfra8p0\\LocalCache\\local-packages\\Python312\\site-packages\\torch\\nn\\modules\\module.py:1736: UserWarning: Implicit dimension choice for softmax has been deprecated. Change the call to include dim=X as an argument.\n",
      "  return self._call_impl(*args, **kwargs)\n",
      "C:\\Users\\user\\AppData\\Local\\Packages\\PythonSoftwareFoundation.Python.3.12_qbz5n2kfra8p0\\LocalCache\\local-packages\\Python312\\site-packages\\torch\\nn\\modules\\module.py:1736: UserWarning: Implicit dimension choice for softmax has been deprecated. Change the call to include dim=X as an argument.\n",
      "  return self._call_impl(*args, **kwargs)\n",
      "C:\\Users\\user\\AppData\\Local\\Packages\\PythonSoftwareFoundation.Python.3.12_qbz5n2kfra8p0\\LocalCache\\local-packages\\Python312\\site-packages\\torch\\nn\\modules\\module.py:1736: UserWarning: Implicit dimension choice for softmax has been deprecated. Change the call to include dim=X as an argument.\n",
      "  return self._call_impl(*args, **kwargs)\n",
      "C:\\Users\\user\\AppData\\Local\\Packages\\PythonSoftwareFoundation.Python.3.12_qbz5n2kfra8p0\\LocalCache\\local-packages\\Python312\\site-packages\\torch\\nn\\modules\\module.py:1736: UserWarning: Implicit dimension choice for softmax has been deprecated. Change the call to include dim=X as an argument.\n",
      "  return self._call_impl(*args, **kwargs)\n",
      "C:\\Users\\user\\AppData\\Local\\Packages\\PythonSoftwareFoundation.Python.3.12_qbz5n2kfra8p0\\LocalCache\\local-packages\\Python312\\site-packages\\torch\\nn\\modules\\module.py:1736: UserWarning: Implicit dimension choice for softmax has been deprecated. Change the call to include dim=X as an argument.\n",
      "  return self._call_impl(*args, **kwargs)\n",
      "C:\\Users\\user\\AppData\\Local\\Packages\\PythonSoftwareFoundation.Python.3.12_qbz5n2kfra8p0\\LocalCache\\local-packages\\Python312\\site-packages\\torch\\nn\\modules\\module.py:1736: UserWarning: Implicit dimension choice for softmax has been deprecated. Change the call to include dim=X as an argument.\n",
      "  return self._call_impl(*args, **kwargs)\n"
     ]
    },
    {
     "name": "stdout",
     "output_type": "stream",
     "text": [
      "Hidden Layers: [8, 4], Activation: Softmax, Epochs: 1, LR: 0.0001, Batch Size: 64, Accuracy: 0.0385\n",
      "Hidden Layers: [8, 4], Activation: Softmax, Epochs: 1, LR: 0.0001, Batch Size: 128, Accuracy: 0.0385\n",
      "Hidden Layers: [8, 4], Activation: Softmax, Epochs: 1, LR: 0.0001, Batch Size: 256, Accuracy: 0.0077\n"
     ]
    },
    {
     "name": "stderr",
     "output_type": "stream",
     "text": [
      "C:\\Users\\user\\AppData\\Local\\Packages\\PythonSoftwareFoundation.Python.3.12_qbz5n2kfra8p0\\LocalCache\\local-packages\\Python312\\site-packages\\torch\\nn\\modules\\module.py:1736: UserWarning: Implicit dimension choice for softmax has been deprecated. Change the call to include dim=X as an argument.\n",
      "  return self._call_impl(*args, **kwargs)\n",
      "C:\\Users\\user\\AppData\\Local\\Packages\\PythonSoftwareFoundation.Python.3.12_qbz5n2kfra8p0\\LocalCache\\local-packages\\Python312\\site-packages\\torch\\nn\\modules\\module.py:1736: UserWarning: Implicit dimension choice for softmax has been deprecated. Change the call to include dim=X as an argument.\n",
      "  return self._call_impl(*args, **kwargs)\n",
      "C:\\Users\\user\\AppData\\Local\\Packages\\PythonSoftwareFoundation.Python.3.12_qbz5n2kfra8p0\\LocalCache\\local-packages\\Python312\\site-packages\\torch\\nn\\modules\\module.py:1736: UserWarning: Implicit dimension choice for softmax has been deprecated. Change the call to include dim=X as an argument.\n",
      "  return self._call_impl(*args, **kwargs)\n",
      "C:\\Users\\user\\AppData\\Local\\Packages\\PythonSoftwareFoundation.Python.3.12_qbz5n2kfra8p0\\LocalCache\\local-packages\\Python312\\site-packages\\torch\\nn\\modules\\module.py:1736: UserWarning: Implicit dimension choice for softmax has been deprecated. Change the call to include dim=X as an argument.\n",
      "  return self._call_impl(*args, **kwargs)\n"
     ]
    },
    {
     "name": "stdout",
     "output_type": "stream",
     "text": [
      "Hidden Layers: [8, 4], Activation: Softmax, Epochs: 1, LR: 0.0001, Batch Size: 512, Accuracy: 0.0385\n",
      "Hidden Layers: [8, 4], Activation: Softmax, Epochs: 10, LR: 10, Batch Size: 16, Accuracy: 0.0692\n"
     ]
    },
    {
     "name": "stderr",
     "output_type": "stream",
     "text": [
      "C:\\Users\\user\\AppData\\Local\\Packages\\PythonSoftwareFoundation.Python.3.12_qbz5n2kfra8p0\\LocalCache\\local-packages\\Python312\\site-packages\\torch\\nn\\modules\\module.py:1736: UserWarning: Implicit dimension choice for softmax has been deprecated. Change the call to include dim=X as an argument.\n",
      "  return self._call_impl(*args, **kwargs)\n"
     ]
    },
    {
     "name": "stdout",
     "output_type": "stream",
     "text": [
      "Hidden Layers: [8, 4], Activation: Softmax, Epochs: 10, LR: 10, Batch Size: 32, Accuracy: 0.0923\n",
      "Hidden Layers: [8, 4], Activation: Softmax, Epochs: 10, LR: 10, Batch Size: 64, Accuracy: 0.0923\n"
     ]
    },
    {
     "name": "stderr",
     "output_type": "stream",
     "text": [
      "C:\\Users\\user\\AppData\\Local\\Packages\\PythonSoftwareFoundation.Python.3.12_qbz5n2kfra8p0\\LocalCache\\local-packages\\Python312\\site-packages\\torch\\nn\\modules\\module.py:1736: UserWarning: Implicit dimension choice for softmax has been deprecated. Change the call to include dim=X as an argument.\n",
      "  return self._call_impl(*args, **kwargs)\n",
      "C:\\Users\\user\\AppData\\Local\\Packages\\PythonSoftwareFoundation.Python.3.12_qbz5n2kfra8p0\\LocalCache\\local-packages\\Python312\\site-packages\\torch\\nn\\modules\\module.py:1736: UserWarning: Implicit dimension choice for softmax has been deprecated. Change the call to include dim=X as an argument.\n",
      "  return self._call_impl(*args, **kwargs)\n"
     ]
    },
    {
     "name": "stdout",
     "output_type": "stream",
     "text": [
      "Hidden Layers: [8, 4], Activation: Softmax, Epochs: 10, LR: 10, Batch Size: 128, Accuracy: 0.1385\n",
      "Hidden Layers: [8, 4], Activation: Softmax, Epochs: 10, LR: 10, Batch Size: 256, Accuracy: 0.1231\n",
      "Hidden Layers: [8, 4], Activation: Softmax, Epochs: 10, LR: 10, Batch Size: 512, Accuracy: 0.0077\n"
     ]
    },
    {
     "name": "stderr",
     "output_type": "stream",
     "text": [
      "C:\\Users\\user\\AppData\\Local\\Packages\\PythonSoftwareFoundation.Python.3.12_qbz5n2kfra8p0\\LocalCache\\local-packages\\Python312\\site-packages\\torch\\nn\\modules\\module.py:1736: UserWarning: Implicit dimension choice for softmax has been deprecated. Change the call to include dim=X as an argument.\n",
      "  return self._call_impl(*args, **kwargs)\n",
      "C:\\Users\\user\\AppData\\Local\\Packages\\PythonSoftwareFoundation.Python.3.12_qbz5n2kfra8p0\\LocalCache\\local-packages\\Python312\\site-packages\\torch\\nn\\modules\\module.py:1736: UserWarning: Implicit dimension choice for softmax has been deprecated. Change the call to include dim=X as an argument.\n",
      "  return self._call_impl(*args, **kwargs)\n",
      "C:\\Users\\user\\AppData\\Local\\Packages\\PythonSoftwareFoundation.Python.3.12_qbz5n2kfra8p0\\LocalCache\\local-packages\\Python312\\site-packages\\torch\\nn\\modules\\module.py:1736: UserWarning: Implicit dimension choice for softmax has been deprecated. Change the call to include dim=X as an argument.\n",
      "  return self._call_impl(*args, **kwargs)\n"
     ]
    },
    {
     "name": "stdout",
     "output_type": "stream",
     "text": [
      "Hidden Layers: [8, 4], Activation: Softmax, Epochs: 10, LR: 1, Batch Size: 16, Accuracy: 0.0769\n"
     ]
    },
    {
     "name": "stderr",
     "output_type": "stream",
     "text": [
      "C:\\Users\\user\\AppData\\Local\\Packages\\PythonSoftwareFoundation.Python.3.12_qbz5n2kfra8p0\\LocalCache\\local-packages\\Python312\\site-packages\\torch\\nn\\modules\\module.py:1736: UserWarning: Implicit dimension choice for softmax has been deprecated. Change the call to include dim=X as an argument.\n",
      "  return self._call_impl(*args, **kwargs)\n"
     ]
    },
    {
     "name": "stdout",
     "output_type": "stream",
     "text": [
      "Hidden Layers: [8, 4], Activation: Softmax, Epochs: 10, LR: 1, Batch Size: 32, Accuracy: 0.1308\n",
      "Hidden Layers: [8, 4], Activation: Softmax, Epochs: 10, LR: 1, Batch Size: 64, Accuracy: 0.0923\n"
     ]
    },
    {
     "name": "stderr",
     "output_type": "stream",
     "text": [
      "C:\\Users\\user\\AppData\\Local\\Packages\\PythonSoftwareFoundation.Python.3.12_qbz5n2kfra8p0\\LocalCache\\local-packages\\Python312\\site-packages\\torch\\nn\\modules\\module.py:1736: UserWarning: Implicit dimension choice for softmax has been deprecated. Change the call to include dim=X as an argument.\n",
      "  return self._call_impl(*args, **kwargs)\n",
      "C:\\Users\\user\\AppData\\Local\\Packages\\PythonSoftwareFoundation.Python.3.12_qbz5n2kfra8p0\\LocalCache\\local-packages\\Python312\\site-packages\\torch\\nn\\modules\\module.py:1736: UserWarning: Implicit dimension choice for softmax has been deprecated. Change the call to include dim=X as an argument.\n",
      "  return self._call_impl(*args, **kwargs)\n"
     ]
    },
    {
     "name": "stdout",
     "output_type": "stream",
     "text": [
      "Hidden Layers: [8, 4], Activation: Softmax, Epochs: 10, LR: 1, Batch Size: 128, Accuracy: 0.2077\n",
      "Hidden Layers: [8, 4], Activation: Softmax, Epochs: 10, LR: 1, Batch Size: 256, Accuracy: 0.1154\n",
      "Hidden Layers: [8, 4], Activation: Softmax, Epochs: 10, LR: 1, Batch Size: 512, Accuracy: 0.0692\n"
     ]
    },
    {
     "name": "stderr",
     "output_type": "stream",
     "text": [
      "C:\\Users\\user\\AppData\\Local\\Packages\\PythonSoftwareFoundation.Python.3.12_qbz5n2kfra8p0\\LocalCache\\local-packages\\Python312\\site-packages\\torch\\nn\\modules\\module.py:1736: UserWarning: Implicit dimension choice for softmax has been deprecated. Change the call to include dim=X as an argument.\n",
      "  return self._call_impl(*args, **kwargs)\n",
      "C:\\Users\\user\\AppData\\Local\\Packages\\PythonSoftwareFoundation.Python.3.12_qbz5n2kfra8p0\\LocalCache\\local-packages\\Python312\\site-packages\\torch\\nn\\modules\\module.py:1736: UserWarning: Implicit dimension choice for softmax has been deprecated. Change the call to include dim=X as an argument.\n",
      "  return self._call_impl(*args, **kwargs)\n",
      "C:\\Users\\user\\AppData\\Local\\Packages\\PythonSoftwareFoundation.Python.3.12_qbz5n2kfra8p0\\LocalCache\\local-packages\\Python312\\site-packages\\torch\\nn\\modules\\module.py:1736: UserWarning: Implicit dimension choice for softmax has been deprecated. Change the call to include dim=X as an argument.\n",
      "  return self._call_impl(*args, **kwargs)\n"
     ]
    },
    {
     "name": "stdout",
     "output_type": "stream",
     "text": [
      "Hidden Layers: [8, 4], Activation: Softmax, Epochs: 10, LR: 0.1, Batch Size: 16, Accuracy: 0.2000\n"
     ]
    },
    {
     "name": "stderr",
     "output_type": "stream",
     "text": [
      "C:\\Users\\user\\AppData\\Local\\Packages\\PythonSoftwareFoundation.Python.3.12_qbz5n2kfra8p0\\LocalCache\\local-packages\\Python312\\site-packages\\torch\\nn\\modules\\module.py:1736: UserWarning: Implicit dimension choice for softmax has been deprecated. Change the call to include dim=X as an argument.\n",
      "  return self._call_impl(*args, **kwargs)\n"
     ]
    },
    {
     "name": "stdout",
     "output_type": "stream",
     "text": [
      "Hidden Layers: [8, 4], Activation: Softmax, Epochs: 10, LR: 0.1, Batch Size: 32, Accuracy: 0.2923\n",
      "Hidden Layers: [8, 4], Activation: Softmax, Epochs: 10, LR: 0.1, Batch Size: 64, Accuracy: 0.2231\n"
     ]
    },
    {
     "name": "stderr",
     "output_type": "stream",
     "text": [
      "C:\\Users\\user\\AppData\\Local\\Packages\\PythonSoftwareFoundation.Python.3.12_qbz5n2kfra8p0\\LocalCache\\local-packages\\Python312\\site-packages\\torch\\nn\\modules\\module.py:1736: UserWarning: Implicit dimension choice for softmax has been deprecated. Change the call to include dim=X as an argument.\n",
      "  return self._call_impl(*args, **kwargs)\n",
      "C:\\Users\\user\\AppData\\Local\\Packages\\PythonSoftwareFoundation.Python.3.12_qbz5n2kfra8p0\\LocalCache\\local-packages\\Python312\\site-packages\\torch\\nn\\modules\\module.py:1736: UserWarning: Implicit dimension choice for softmax has been deprecated. Change the call to include dim=X as an argument.\n",
      "  return self._call_impl(*args, **kwargs)\n"
     ]
    },
    {
     "name": "stdout",
     "output_type": "stream",
     "text": [
      "Hidden Layers: [8, 4], Activation: Softmax, Epochs: 10, LR: 0.1, Batch Size: 128, Accuracy: 0.2846\n",
      "Hidden Layers: [8, 4], Activation: Softmax, Epochs: 10, LR: 0.1, Batch Size: 256, Accuracy: 0.1923\n",
      "Hidden Layers: [8, 4], Activation: Softmax, Epochs: 10, LR: 0.1, Batch Size: 512, Accuracy: 0.1923\n"
     ]
    },
    {
     "name": "stderr",
     "output_type": "stream",
     "text": [
      "C:\\Users\\user\\AppData\\Local\\Packages\\PythonSoftwareFoundation.Python.3.12_qbz5n2kfra8p0\\LocalCache\\local-packages\\Python312\\site-packages\\torch\\nn\\modules\\module.py:1736: UserWarning: Implicit dimension choice for softmax has been deprecated. Change the call to include dim=X as an argument.\n",
      "  return self._call_impl(*args, **kwargs)\n",
      "C:\\Users\\user\\AppData\\Local\\Packages\\PythonSoftwareFoundation.Python.3.12_qbz5n2kfra8p0\\LocalCache\\local-packages\\Python312\\site-packages\\torch\\nn\\modules\\module.py:1736: UserWarning: Implicit dimension choice for softmax has been deprecated. Change the call to include dim=X as an argument.\n",
      "  return self._call_impl(*args, **kwargs)\n",
      "C:\\Users\\user\\AppData\\Local\\Packages\\PythonSoftwareFoundation.Python.3.12_qbz5n2kfra8p0\\LocalCache\\local-packages\\Python312\\site-packages\\torch\\nn\\modules\\module.py:1736: UserWarning: Implicit dimension choice for softmax has been deprecated. Change the call to include dim=X as an argument.\n",
      "  return self._call_impl(*args, **kwargs)\n"
     ]
    },
    {
     "name": "stdout",
     "output_type": "stream",
     "text": [
      "Hidden Layers: [8, 4], Activation: Softmax, Epochs: 10, LR: 0.01, Batch Size: 16, Accuracy: 0.2231\n"
     ]
    },
    {
     "name": "stderr",
     "output_type": "stream",
     "text": [
      "C:\\Users\\user\\AppData\\Local\\Packages\\PythonSoftwareFoundation.Python.3.12_qbz5n2kfra8p0\\LocalCache\\local-packages\\Python312\\site-packages\\torch\\nn\\modules\\module.py:1736: UserWarning: Implicit dimension choice for softmax has been deprecated. Change the call to include dim=X as an argument.\n",
      "  return self._call_impl(*args, **kwargs)\n"
     ]
    },
    {
     "name": "stdout",
     "output_type": "stream",
     "text": [
      "Hidden Layers: [8, 4], Activation: Softmax, Epochs: 10, LR: 0.01, Batch Size: 32, Accuracy: 0.2846\n",
      "Hidden Layers: [8, 4], Activation: Softmax, Epochs: 10, LR: 0.01, Batch Size: 64, Accuracy: 0.2462\n"
     ]
    },
    {
     "name": "stderr",
     "output_type": "stream",
     "text": [
      "C:\\Users\\user\\AppData\\Local\\Packages\\PythonSoftwareFoundation.Python.3.12_qbz5n2kfra8p0\\LocalCache\\local-packages\\Python312\\site-packages\\torch\\nn\\modules\\module.py:1736: UserWarning: Implicit dimension choice for softmax has been deprecated. Change the call to include dim=X as an argument.\n",
      "  return self._call_impl(*args, **kwargs)\n",
      "C:\\Users\\user\\AppData\\Local\\Packages\\PythonSoftwareFoundation.Python.3.12_qbz5n2kfra8p0\\LocalCache\\local-packages\\Python312\\site-packages\\torch\\nn\\modules\\module.py:1736: UserWarning: Implicit dimension choice for softmax has been deprecated. Change the call to include dim=X as an argument.\n",
      "  return self._call_impl(*args, **kwargs)\n"
     ]
    },
    {
     "name": "stdout",
     "output_type": "stream",
     "text": [
      "Hidden Layers: [8, 4], Activation: Softmax, Epochs: 10, LR: 0.01, Batch Size: 128, Accuracy: 0.1923\n",
      "Hidden Layers: [8, 4], Activation: Softmax, Epochs: 10, LR: 0.01, Batch Size: 256, Accuracy: 0.1000\n"
     ]
    },
    {
     "name": "stderr",
     "output_type": "stream",
     "text": [
      "C:\\Users\\user\\AppData\\Local\\Packages\\PythonSoftwareFoundation.Python.3.12_qbz5n2kfra8p0\\LocalCache\\local-packages\\Python312\\site-packages\\torch\\nn\\modules\\module.py:1736: UserWarning: Implicit dimension choice for softmax has been deprecated. Change the call to include dim=X as an argument.\n",
      "  return self._call_impl(*args, **kwargs)\n",
      "C:\\Users\\user\\AppData\\Local\\Packages\\PythonSoftwareFoundation.Python.3.12_qbz5n2kfra8p0\\LocalCache\\local-packages\\Python312\\site-packages\\torch\\nn\\modules\\module.py:1736: UserWarning: Implicit dimension choice for softmax has been deprecated. Change the call to include dim=X as an argument.\n",
      "  return self._call_impl(*args, **kwargs)\n"
     ]
    },
    {
     "name": "stdout",
     "output_type": "stream",
     "text": [
      "Hidden Layers: [8, 4], Activation: Softmax, Epochs: 10, LR: 0.01, Batch Size: 512, Accuracy: 0.1923\n"
     ]
    },
    {
     "name": "stderr",
     "output_type": "stream",
     "text": [
      "C:\\Users\\user\\AppData\\Local\\Packages\\PythonSoftwareFoundation.Python.3.12_qbz5n2kfra8p0\\LocalCache\\local-packages\\Python312\\site-packages\\torch\\nn\\modules\\module.py:1736: UserWarning: Implicit dimension choice for softmax has been deprecated. Change the call to include dim=X as an argument.\n",
      "  return self._call_impl(*args, **kwargs)\n"
     ]
    },
    {
     "name": "stdout",
     "output_type": "stream",
     "text": [
      "Hidden Layers: [8, 4], Activation: Softmax, Epochs: 10, LR: 0.001, Batch Size: 16, Accuracy: 0.1923\n"
     ]
    },
    {
     "name": "stderr",
     "output_type": "stream",
     "text": [
      "C:\\Users\\user\\AppData\\Local\\Packages\\PythonSoftwareFoundation.Python.3.12_qbz5n2kfra8p0\\LocalCache\\local-packages\\Python312\\site-packages\\torch\\nn\\modules\\module.py:1736: UserWarning: Implicit dimension choice for softmax has been deprecated. Change the call to include dim=X as an argument.\n",
      "  return self._call_impl(*args, **kwargs)\n"
     ]
    },
    {
     "name": "stdout",
     "output_type": "stream",
     "text": [
      "Hidden Layers: [8, 4], Activation: Softmax, Epochs: 10, LR: 0.001, Batch Size: 32, Accuracy: 0.1308\n"
     ]
    },
    {
     "name": "stderr",
     "output_type": "stream",
     "text": [
      "C:\\Users\\user\\AppData\\Local\\Packages\\PythonSoftwareFoundation.Python.3.12_qbz5n2kfra8p0\\LocalCache\\local-packages\\Python312\\site-packages\\torch\\nn\\modules\\module.py:1736: UserWarning: Implicit dimension choice for softmax has been deprecated. Change the call to include dim=X as an argument.\n",
      "  return self._call_impl(*args, **kwargs)\n"
     ]
    },
    {
     "name": "stdout",
     "output_type": "stream",
     "text": [
      "Hidden Layers: [8, 4], Activation: Softmax, Epochs: 10, LR: 0.001, Batch Size: 64, Accuracy: 0.1000\n",
      "Hidden Layers: [8, 4], Activation: Softmax, Epochs: 10, LR: 0.001, Batch Size: 128, Accuracy: 0.0923\n"
     ]
    },
    {
     "name": "stderr",
     "output_type": "stream",
     "text": [
      "C:\\Users\\user\\AppData\\Local\\Packages\\PythonSoftwareFoundation.Python.3.12_qbz5n2kfra8p0\\LocalCache\\local-packages\\Python312\\site-packages\\torch\\nn\\modules\\module.py:1736: UserWarning: Implicit dimension choice for softmax has been deprecated. Change the call to include dim=X as an argument.\n",
      "  return self._call_impl(*args, **kwargs)\n",
      "C:\\Users\\user\\AppData\\Local\\Packages\\PythonSoftwareFoundation.Python.3.12_qbz5n2kfra8p0\\LocalCache\\local-packages\\Python312\\site-packages\\torch\\nn\\modules\\module.py:1736: UserWarning: Implicit dimension choice for softmax has been deprecated. Change the call to include dim=X as an argument.\n",
      "  return self._call_impl(*args, **kwargs)\n"
     ]
    },
    {
     "name": "stdout",
     "output_type": "stream",
     "text": [
      "Hidden Layers: [8, 4], Activation: Softmax, Epochs: 10, LR: 0.001, Batch Size: 256, Accuracy: 0.0692\n",
      "Hidden Layers: [8, 4], Activation: Softmax, Epochs: 10, LR: 0.001, Batch Size: 512, Accuracy: 0.0000\n"
     ]
    },
    {
     "name": "stderr",
     "output_type": "stream",
     "text": [
      "C:\\Users\\user\\AppData\\Local\\Packages\\PythonSoftwareFoundation.Python.3.12_qbz5n2kfra8p0\\LocalCache\\local-packages\\Python312\\site-packages\\torch\\nn\\modules\\module.py:1736: UserWarning: Implicit dimension choice for softmax has been deprecated. Change the call to include dim=X as an argument.\n",
      "  return self._call_impl(*args, **kwargs)\n",
      "C:\\Users\\user\\AppData\\Local\\Packages\\PythonSoftwareFoundation.Python.3.12_qbz5n2kfra8p0\\LocalCache\\local-packages\\Python312\\site-packages\\torch\\nn\\modules\\module.py:1736: UserWarning: Implicit dimension choice for softmax has been deprecated. Change the call to include dim=X as an argument.\n",
      "  return self._call_impl(*args, **kwargs)\n"
     ]
    },
    {
     "name": "stdout",
     "output_type": "stream",
     "text": [
      "Hidden Layers: [8, 4], Activation: Softmax, Epochs: 10, LR: 0.0001, Batch Size: 16, Accuracy: 0.0538\n"
     ]
    },
    {
     "name": "stderr",
     "output_type": "stream",
     "text": [
      "C:\\Users\\user\\AppData\\Local\\Packages\\PythonSoftwareFoundation.Python.3.12_qbz5n2kfra8p0\\LocalCache\\local-packages\\Python312\\site-packages\\torch\\nn\\modules\\module.py:1736: UserWarning: Implicit dimension choice for softmax has been deprecated. Change the call to include dim=X as an argument.\n",
      "  return self._call_impl(*args, **kwargs)\n"
     ]
    },
    {
     "name": "stdout",
     "output_type": "stream",
     "text": [
      "Hidden Layers: [8, 4], Activation: Softmax, Epochs: 10, LR: 0.0001, Batch Size: 32, Accuracy: 0.0154\n"
     ]
    },
    {
     "name": "stderr",
     "output_type": "stream",
     "text": [
      "C:\\Users\\user\\AppData\\Local\\Packages\\PythonSoftwareFoundation.Python.3.12_qbz5n2kfra8p0\\LocalCache\\local-packages\\Python312\\site-packages\\torch\\nn\\modules\\module.py:1736: UserWarning: Implicit dimension choice for softmax has been deprecated. Change the call to include dim=X as an argument.\n",
      "  return self._call_impl(*args, **kwargs)\n"
     ]
    },
    {
     "name": "stdout",
     "output_type": "stream",
     "text": [
      "Hidden Layers: [8, 4], Activation: Softmax, Epochs: 10, LR: 0.0001, Batch Size: 64, Accuracy: 0.0077\n",
      "Hidden Layers: [8, 4], Activation: Softmax, Epochs: 10, LR: 0.0001, Batch Size: 128, Accuracy: 0.1000\n"
     ]
    },
    {
     "name": "stderr",
     "output_type": "stream",
     "text": [
      "C:\\Users\\user\\AppData\\Local\\Packages\\PythonSoftwareFoundation.Python.3.12_qbz5n2kfra8p0\\LocalCache\\local-packages\\Python312\\site-packages\\torch\\nn\\modules\\module.py:1736: UserWarning: Implicit dimension choice for softmax has been deprecated. Change the call to include dim=X as an argument.\n",
      "  return self._call_impl(*args, **kwargs)\n",
      "C:\\Users\\user\\AppData\\Local\\Packages\\PythonSoftwareFoundation.Python.3.12_qbz5n2kfra8p0\\LocalCache\\local-packages\\Python312\\site-packages\\torch\\nn\\modules\\module.py:1736: UserWarning: Implicit dimension choice for softmax has been deprecated. Change the call to include dim=X as an argument.\n",
      "  return self._call_impl(*args, **kwargs)\n"
     ]
    },
    {
     "name": "stdout",
     "output_type": "stream",
     "text": [
      "Hidden Layers: [8, 4], Activation: Softmax, Epochs: 10, LR: 0.0001, Batch Size: 256, Accuracy: 0.0077\n",
      "Hidden Layers: [8, 4], Activation: Softmax, Epochs: 10, LR: 0.0001, Batch Size: 512, Accuracy: 0.0077\n"
     ]
    },
    {
     "name": "stderr",
     "output_type": "stream",
     "text": [
      "C:\\Users\\user\\AppData\\Local\\Packages\\PythonSoftwareFoundation.Python.3.12_qbz5n2kfra8p0\\LocalCache\\local-packages\\Python312\\site-packages\\torch\\nn\\modules\\module.py:1736: UserWarning: Implicit dimension choice for softmax has been deprecated. Change the call to include dim=X as an argument.\n",
      "  return self._call_impl(*args, **kwargs)\n",
      "C:\\Users\\user\\AppData\\Local\\Packages\\PythonSoftwareFoundation.Python.3.12_qbz5n2kfra8p0\\LocalCache\\local-packages\\Python312\\site-packages\\torch\\nn\\modules\\module.py:1736: UserWarning: Implicit dimension choice for softmax has been deprecated. Change the call to include dim=X as an argument.\n",
      "  return self._call_impl(*args, **kwargs)\n"
     ]
    },
    {
     "name": "stdout",
     "output_type": "stream",
     "text": [
      "Hidden Layers: [8, 4], Activation: Softmax, Epochs: 25, LR: 10, Batch Size: 16, Accuracy: 0.1923\n"
     ]
    },
    {
     "name": "stderr",
     "output_type": "stream",
     "text": [
      "C:\\Users\\user\\AppData\\Local\\Packages\\PythonSoftwareFoundation.Python.3.12_qbz5n2kfra8p0\\LocalCache\\local-packages\\Python312\\site-packages\\torch\\nn\\modules\\module.py:1736: UserWarning: Implicit dimension choice for softmax has been deprecated. Change the call to include dim=X as an argument.\n",
      "  return self._call_impl(*args, **kwargs)\n"
     ]
    },
    {
     "name": "stdout",
     "output_type": "stream",
     "text": [
      "Hidden Layers: [8, 4], Activation: Softmax, Epochs: 25, LR: 10, Batch Size: 32, Accuracy: 0.1923\n"
     ]
    },
    {
     "name": "stderr",
     "output_type": "stream",
     "text": [
      "C:\\Users\\user\\AppData\\Local\\Packages\\PythonSoftwareFoundation.Python.3.12_qbz5n2kfra8p0\\LocalCache\\local-packages\\Python312\\site-packages\\torch\\nn\\modules\\module.py:1736: UserWarning: Implicit dimension choice for softmax has been deprecated. Change the call to include dim=X as an argument.\n",
      "  return self._call_impl(*args, **kwargs)\n"
     ]
    },
    {
     "name": "stdout",
     "output_type": "stream",
     "text": [
      "Hidden Layers: [8, 4], Activation: Softmax, Epochs: 25, LR: 10, Batch Size: 64, Accuracy: 0.0769\n"
     ]
    },
    {
     "name": "stderr",
     "output_type": "stream",
     "text": [
      "C:\\Users\\user\\AppData\\Local\\Packages\\PythonSoftwareFoundation.Python.3.12_qbz5n2kfra8p0\\LocalCache\\local-packages\\Python312\\site-packages\\torch\\nn\\modules\\module.py:1736: UserWarning: Implicit dimension choice for softmax has been deprecated. Change the call to include dim=X as an argument.\n",
      "  return self._call_impl(*args, **kwargs)\n"
     ]
    },
    {
     "name": "stdout",
     "output_type": "stream",
     "text": [
      "Hidden Layers: [8, 4], Activation: Softmax, Epochs: 25, LR: 10, Batch Size: 128, Accuracy: 0.1000\n"
     ]
    },
    {
     "name": "stderr",
     "output_type": "stream",
     "text": [
      "C:\\Users\\user\\AppData\\Local\\Packages\\PythonSoftwareFoundation.Python.3.12_qbz5n2kfra8p0\\LocalCache\\local-packages\\Python312\\site-packages\\torch\\nn\\modules\\module.py:1736: UserWarning: Implicit dimension choice for softmax has been deprecated. Change the call to include dim=X as an argument.\n",
      "  return self._call_impl(*args, **kwargs)\n"
     ]
    },
    {
     "name": "stdout",
     "output_type": "stream",
     "text": [
      "Hidden Layers: [8, 4], Activation: Softmax, Epochs: 25, LR: 10, Batch Size: 256, Accuracy: 0.0385\n"
     ]
    },
    {
     "name": "stderr",
     "output_type": "stream",
     "text": [
      "C:\\Users\\user\\AppData\\Local\\Packages\\PythonSoftwareFoundation.Python.3.12_qbz5n2kfra8p0\\LocalCache\\local-packages\\Python312\\site-packages\\torch\\nn\\modules\\module.py:1736: UserWarning: Implicit dimension choice for softmax has been deprecated. Change the call to include dim=X as an argument.\n",
      "  return self._call_impl(*args, **kwargs)\n"
     ]
    },
    {
     "name": "stdout",
     "output_type": "stream",
     "text": [
      "Hidden Layers: [8, 4], Activation: Softmax, Epochs: 25, LR: 10, Batch Size: 512, Accuracy: 0.1000\n"
     ]
    },
    {
     "name": "stderr",
     "output_type": "stream",
     "text": [
      "C:\\Users\\user\\AppData\\Local\\Packages\\PythonSoftwareFoundation.Python.3.12_qbz5n2kfra8p0\\LocalCache\\local-packages\\Python312\\site-packages\\torch\\nn\\modules\\module.py:1736: UserWarning: Implicit dimension choice for softmax has been deprecated. Change the call to include dim=X as an argument.\n",
      "  return self._call_impl(*args, **kwargs)\n"
     ]
    },
    {
     "name": "stdout",
     "output_type": "stream",
     "text": [
      "Hidden Layers: [8, 4], Activation: Softmax, Epochs: 25, LR: 1, Batch Size: 16, Accuracy: 0.1308\n"
     ]
    },
    {
     "name": "stderr",
     "output_type": "stream",
     "text": [
      "C:\\Users\\user\\AppData\\Local\\Packages\\PythonSoftwareFoundation.Python.3.12_qbz5n2kfra8p0\\LocalCache\\local-packages\\Python312\\site-packages\\torch\\nn\\modules\\module.py:1736: UserWarning: Implicit dimension choice for softmax has been deprecated. Change the call to include dim=X as an argument.\n",
      "  return self._call_impl(*args, **kwargs)\n"
     ]
    },
    {
     "name": "stdout",
     "output_type": "stream",
     "text": [
      "Hidden Layers: [8, 4], Activation: Softmax, Epochs: 25, LR: 1, Batch Size: 32, Accuracy: 0.0538\n"
     ]
    },
    {
     "name": "stderr",
     "output_type": "stream",
     "text": [
      "C:\\Users\\user\\AppData\\Local\\Packages\\PythonSoftwareFoundation.Python.3.12_qbz5n2kfra8p0\\LocalCache\\local-packages\\Python312\\site-packages\\torch\\nn\\modules\\module.py:1736: UserWarning: Implicit dimension choice for softmax has been deprecated. Change the call to include dim=X as an argument.\n",
      "  return self._call_impl(*args, **kwargs)\n"
     ]
    },
    {
     "name": "stdout",
     "output_type": "stream",
     "text": [
      "Hidden Layers: [8, 4], Activation: Softmax, Epochs: 25, LR: 1, Batch Size: 64, Accuracy: 0.1308\n"
     ]
    },
    {
     "name": "stderr",
     "output_type": "stream",
     "text": [
      "C:\\Users\\user\\AppData\\Local\\Packages\\PythonSoftwareFoundation.Python.3.12_qbz5n2kfra8p0\\LocalCache\\local-packages\\Python312\\site-packages\\torch\\nn\\modules\\module.py:1736: UserWarning: Implicit dimension choice for softmax has been deprecated. Change the call to include dim=X as an argument.\n",
      "  return self._call_impl(*args, **kwargs)\n"
     ]
    },
    {
     "name": "stdout",
     "output_type": "stream",
     "text": [
      "Hidden Layers: [8, 4], Activation: Softmax, Epochs: 25, LR: 1, Batch Size: 128, Accuracy: 0.2000\n"
     ]
    },
    {
     "name": "stderr",
     "output_type": "stream",
     "text": [
      "C:\\Users\\user\\AppData\\Local\\Packages\\PythonSoftwareFoundation.Python.3.12_qbz5n2kfra8p0\\LocalCache\\local-packages\\Python312\\site-packages\\torch\\nn\\modules\\module.py:1736: UserWarning: Implicit dimension choice for softmax has been deprecated. Change the call to include dim=X as an argument.\n",
      "  return self._call_impl(*args, **kwargs)\n"
     ]
    },
    {
     "name": "stdout",
     "output_type": "stream",
     "text": [
      "Hidden Layers: [8, 4], Activation: Softmax, Epochs: 25, LR: 1, Batch Size: 256, Accuracy: 0.0923\n",
      "Hidden Layers: [8, 4], Activation: Softmax, Epochs: 25, LR: 1, Batch Size: 512, Accuracy: 0.0692\n"
     ]
    },
    {
     "name": "stderr",
     "output_type": "stream",
     "text": [
      "C:\\Users\\user\\AppData\\Local\\Packages\\PythonSoftwareFoundation.Python.3.12_qbz5n2kfra8p0\\LocalCache\\local-packages\\Python312\\site-packages\\torch\\nn\\modules\\module.py:1736: UserWarning: Implicit dimension choice for softmax has been deprecated. Change the call to include dim=X as an argument.\n",
      "  return self._call_impl(*args, **kwargs)\n",
      "C:\\Users\\user\\AppData\\Local\\Packages\\PythonSoftwareFoundation.Python.3.12_qbz5n2kfra8p0\\LocalCache\\local-packages\\Python312\\site-packages\\torch\\nn\\modules\\module.py:1736: UserWarning: Implicit dimension choice for softmax has been deprecated. Change the call to include dim=X as an argument.\n",
      "  return self._call_impl(*args, **kwargs)\n"
     ]
    },
    {
     "name": "stdout",
     "output_type": "stream",
     "text": [
      "Hidden Layers: [8, 4], Activation: Softmax, Epochs: 25, LR: 0.1, Batch Size: 16, Accuracy: 0.2769\n"
     ]
    },
    {
     "name": "stderr",
     "output_type": "stream",
     "text": [
      "C:\\Users\\user\\AppData\\Local\\Packages\\PythonSoftwareFoundation.Python.3.12_qbz5n2kfra8p0\\LocalCache\\local-packages\\Python312\\site-packages\\torch\\nn\\modules\\module.py:1736: UserWarning: Implicit dimension choice for softmax has been deprecated. Change the call to include dim=X as an argument.\n",
      "  return self._call_impl(*args, **kwargs)\n"
     ]
    },
    {
     "name": "stdout",
     "output_type": "stream",
     "text": [
      "Hidden Layers: [8, 4], Activation: Softmax, Epochs: 25, LR: 0.1, Batch Size: 32, Accuracy: 0.2846\n"
     ]
    },
    {
     "name": "stderr",
     "output_type": "stream",
     "text": [
      "C:\\Users\\user\\AppData\\Local\\Packages\\PythonSoftwareFoundation.Python.3.12_qbz5n2kfra8p0\\LocalCache\\local-packages\\Python312\\site-packages\\torch\\nn\\modules\\module.py:1736: UserWarning: Implicit dimension choice for softmax has been deprecated. Change the call to include dim=X as an argument.\n",
      "  return self._call_impl(*args, **kwargs)\n"
     ]
    },
    {
     "name": "stdout",
     "output_type": "stream",
     "text": [
      "Hidden Layers: [8, 4], Activation: Softmax, Epochs: 25, LR: 0.1, Batch Size: 64, Accuracy: 0.3077\n"
     ]
    },
    {
     "name": "stderr",
     "output_type": "stream",
     "text": [
      "C:\\Users\\user\\AppData\\Local\\Packages\\PythonSoftwareFoundation.Python.3.12_qbz5n2kfra8p0\\LocalCache\\local-packages\\Python312\\site-packages\\torch\\nn\\modules\\module.py:1736: UserWarning: Implicit dimension choice for softmax has been deprecated. Change the call to include dim=X as an argument.\n",
      "  return self._call_impl(*args, **kwargs)\n"
     ]
    },
    {
     "name": "stdout",
     "output_type": "stream",
     "text": [
      "Hidden Layers: [8, 4], Activation: Softmax, Epochs: 25, LR: 0.1, Batch Size: 128, Accuracy: 0.2154\n"
     ]
    },
    {
     "name": "stderr",
     "output_type": "stream",
     "text": [
      "C:\\Users\\user\\AppData\\Local\\Packages\\PythonSoftwareFoundation.Python.3.12_qbz5n2kfra8p0\\LocalCache\\local-packages\\Python312\\site-packages\\torch\\nn\\modules\\module.py:1736: UserWarning: Implicit dimension choice for softmax has been deprecated. Change the call to include dim=X as an argument.\n",
      "  return self._call_impl(*args, **kwargs)\n"
     ]
    },
    {
     "name": "stdout",
     "output_type": "stream",
     "text": [
      "Hidden Layers: [8, 4], Activation: Softmax, Epochs: 25, LR: 0.1, Batch Size: 256, Accuracy: 0.2385\n",
      "Hidden Layers: [8, 4], Activation: Softmax, Epochs: 25, LR: 0.1, Batch Size: 512, Accuracy: 0.2000\n"
     ]
    },
    {
     "name": "stderr",
     "output_type": "stream",
     "text": [
      "C:\\Users\\user\\AppData\\Local\\Packages\\PythonSoftwareFoundation.Python.3.12_qbz5n2kfra8p0\\LocalCache\\local-packages\\Python312\\site-packages\\torch\\nn\\modules\\module.py:1736: UserWarning: Implicit dimension choice for softmax has been deprecated. Change the call to include dim=X as an argument.\n",
      "  return self._call_impl(*args, **kwargs)\n",
      "C:\\Users\\user\\AppData\\Local\\Packages\\PythonSoftwareFoundation.Python.3.12_qbz5n2kfra8p0\\LocalCache\\local-packages\\Python312\\site-packages\\torch\\nn\\modules\\module.py:1736: UserWarning: Implicit dimension choice for softmax has been deprecated. Change the call to include dim=X as an argument.\n",
      "  return self._call_impl(*args, **kwargs)\n"
     ]
    },
    {
     "name": "stdout",
     "output_type": "stream",
     "text": [
      "Hidden Layers: [8, 4], Activation: Softmax, Epochs: 25, LR: 0.01, Batch Size: 16, Accuracy: 0.2308\n"
     ]
    },
    {
     "name": "stderr",
     "output_type": "stream",
     "text": [
      "C:\\Users\\user\\AppData\\Local\\Packages\\PythonSoftwareFoundation.Python.3.12_qbz5n2kfra8p0\\LocalCache\\local-packages\\Python312\\site-packages\\torch\\nn\\modules\\module.py:1736: UserWarning: Implicit dimension choice for softmax has been deprecated. Change the call to include dim=X as an argument.\n",
      "  return self._call_impl(*args, **kwargs)\n"
     ]
    },
    {
     "name": "stdout",
     "output_type": "stream",
     "text": [
      "Hidden Layers: [8, 4], Activation: Softmax, Epochs: 25, LR: 0.01, Batch Size: 32, Accuracy: 0.2385\n"
     ]
    },
    {
     "name": "stderr",
     "output_type": "stream",
     "text": [
      "C:\\Users\\user\\AppData\\Local\\Packages\\PythonSoftwareFoundation.Python.3.12_qbz5n2kfra8p0\\LocalCache\\local-packages\\Python312\\site-packages\\torch\\nn\\modules\\module.py:1736: UserWarning: Implicit dimension choice for softmax has been deprecated. Change the call to include dim=X as an argument.\n",
      "  return self._call_impl(*args, **kwargs)\n"
     ]
    },
    {
     "name": "stdout",
     "output_type": "stream",
     "text": [
      "Hidden Layers: [8, 4], Activation: Softmax, Epochs: 25, LR: 0.01, Batch Size: 64, Accuracy: 0.2077\n"
     ]
    },
    {
     "name": "stderr",
     "output_type": "stream",
     "text": [
      "C:\\Users\\user\\AppData\\Local\\Packages\\PythonSoftwareFoundation.Python.3.12_qbz5n2kfra8p0\\LocalCache\\local-packages\\Python312\\site-packages\\torch\\nn\\modules\\module.py:1736: UserWarning: Implicit dimension choice for softmax has been deprecated. Change the call to include dim=X as an argument.\n",
      "  return self._call_impl(*args, **kwargs)\n"
     ]
    },
    {
     "name": "stdout",
     "output_type": "stream",
     "text": [
      "Hidden Layers: [8, 4], Activation: Softmax, Epochs: 25, LR: 0.01, Batch Size: 128, Accuracy: 0.2385\n"
     ]
    },
    {
     "name": "stderr",
     "output_type": "stream",
     "text": [
      "C:\\Users\\user\\AppData\\Local\\Packages\\PythonSoftwareFoundation.Python.3.12_qbz5n2kfra8p0\\LocalCache\\local-packages\\Python312\\site-packages\\torch\\nn\\modules\\module.py:1736: UserWarning: Implicit dimension choice for softmax has been deprecated. Change the call to include dim=X as an argument.\n",
      "  return self._call_impl(*args, **kwargs)\n"
     ]
    },
    {
     "name": "stdout",
     "output_type": "stream",
     "text": [
      "Hidden Layers: [8, 4], Activation: Softmax, Epochs: 25, LR: 0.01, Batch Size: 256, Accuracy: 0.1385\n",
      "Hidden Layers: [8, 4], Activation: Softmax, Epochs: 25, LR: 0.01, Batch Size: 512, Accuracy: 0.0923\n"
     ]
    },
    {
     "name": "stderr",
     "output_type": "stream",
     "text": [
      "C:\\Users\\user\\AppData\\Local\\Packages\\PythonSoftwareFoundation.Python.3.12_qbz5n2kfra8p0\\LocalCache\\local-packages\\Python312\\site-packages\\torch\\nn\\modules\\module.py:1736: UserWarning: Implicit dimension choice for softmax has been deprecated. Change the call to include dim=X as an argument.\n",
      "  return self._call_impl(*args, **kwargs)\n",
      "C:\\Users\\user\\AppData\\Local\\Packages\\PythonSoftwareFoundation.Python.3.12_qbz5n2kfra8p0\\LocalCache\\local-packages\\Python312\\site-packages\\torch\\nn\\modules\\module.py:1736: UserWarning: Implicit dimension choice for softmax has been deprecated. Change the call to include dim=X as an argument.\n",
      "  return self._call_impl(*args, **kwargs)\n"
     ]
    },
    {
     "name": "stdout",
     "output_type": "stream",
     "text": [
      "Hidden Layers: [8, 4], Activation: Softmax, Epochs: 25, LR: 0.001, Batch Size: 16, Accuracy: 0.2615\n"
     ]
    },
    {
     "name": "stderr",
     "output_type": "stream",
     "text": [
      "C:\\Users\\user\\AppData\\Local\\Packages\\PythonSoftwareFoundation.Python.3.12_qbz5n2kfra8p0\\LocalCache\\local-packages\\Python312\\site-packages\\torch\\nn\\modules\\module.py:1736: UserWarning: Implicit dimension choice for softmax has been deprecated. Change the call to include dim=X as an argument.\n",
      "  return self._call_impl(*args, **kwargs)\n"
     ]
    },
    {
     "name": "stdout",
     "output_type": "stream",
     "text": [
      "Hidden Layers: [8, 4], Activation: Softmax, Epochs: 25, LR: 0.001, Batch Size: 32, Accuracy: 0.1923\n"
     ]
    },
    {
     "name": "stderr",
     "output_type": "stream",
     "text": [
      "C:\\Users\\user\\AppData\\Local\\Packages\\PythonSoftwareFoundation.Python.3.12_qbz5n2kfra8p0\\LocalCache\\local-packages\\Python312\\site-packages\\torch\\nn\\modules\\module.py:1736: UserWarning: Implicit dimension choice for softmax has been deprecated. Change the call to include dim=X as an argument.\n",
      "  return self._call_impl(*args, **kwargs)\n"
     ]
    },
    {
     "name": "stdout",
     "output_type": "stream",
     "text": [
      "Hidden Layers: [8, 4], Activation: Softmax, Epochs: 25, LR: 0.001, Batch Size: 64, Accuracy: 0.0923\n"
     ]
    },
    {
     "name": "stderr",
     "output_type": "stream",
     "text": [
      "C:\\Users\\user\\AppData\\Local\\Packages\\PythonSoftwareFoundation.Python.3.12_qbz5n2kfra8p0\\LocalCache\\local-packages\\Python312\\site-packages\\torch\\nn\\modules\\module.py:1736: UserWarning: Implicit dimension choice for softmax has been deprecated. Change the call to include dim=X as an argument.\n",
      "  return self._call_impl(*args, **kwargs)\n"
     ]
    },
    {
     "name": "stdout",
     "output_type": "stream",
     "text": [
      "Hidden Layers: [8, 4], Activation: Softmax, Epochs: 25, LR: 0.001, Batch Size: 128, Accuracy: 0.1769\n",
      "Hidden Layers: [8, 4], Activation: Softmax, Epochs: 25, LR: 0.001, Batch Size: 256, Accuracy: 0.1923\n"
     ]
    },
    {
     "name": "stderr",
     "output_type": "stream",
     "text": [
      "C:\\Users\\user\\AppData\\Local\\Packages\\PythonSoftwareFoundation.Python.3.12_qbz5n2kfra8p0\\LocalCache\\local-packages\\Python312\\site-packages\\torch\\nn\\modules\\module.py:1736: UserWarning: Implicit dimension choice for softmax has been deprecated. Change the call to include dim=X as an argument.\n",
      "  return self._call_impl(*args, **kwargs)\n",
      "C:\\Users\\user\\AppData\\Local\\Packages\\PythonSoftwareFoundation.Python.3.12_qbz5n2kfra8p0\\LocalCache\\local-packages\\Python312\\site-packages\\torch\\nn\\modules\\module.py:1736: UserWarning: Implicit dimension choice for softmax has been deprecated. Change the call to include dim=X as an argument.\n",
      "  return self._call_impl(*args, **kwargs)\n"
     ]
    },
    {
     "name": "stdout",
     "output_type": "stream",
     "text": [
      "Hidden Layers: [8, 4], Activation: Softmax, Epochs: 25, LR: 0.001, Batch Size: 512, Accuracy: 0.0385\n"
     ]
    },
    {
     "name": "stderr",
     "output_type": "stream",
     "text": [
      "C:\\Users\\user\\AppData\\Local\\Packages\\PythonSoftwareFoundation.Python.3.12_qbz5n2kfra8p0\\LocalCache\\local-packages\\Python312\\site-packages\\torch\\nn\\modules\\module.py:1736: UserWarning: Implicit dimension choice for softmax has been deprecated. Change the call to include dim=X as an argument.\n",
      "  return self._call_impl(*args, **kwargs)\n"
     ]
    },
    {
     "name": "stdout",
     "output_type": "stream",
     "text": [
      "Hidden Layers: [8, 4], Activation: Softmax, Epochs: 25, LR: 0.0001, Batch Size: 16, Accuracy: 0.1231\n"
     ]
    },
    {
     "name": "stderr",
     "output_type": "stream",
     "text": [
      "C:\\Users\\user\\AppData\\Local\\Packages\\PythonSoftwareFoundation.Python.3.12_qbz5n2kfra8p0\\LocalCache\\local-packages\\Python312\\site-packages\\torch\\nn\\modules\\module.py:1736: UserWarning: Implicit dimension choice for softmax has been deprecated. Change the call to include dim=X as an argument.\n",
      "  return self._call_impl(*args, **kwargs)\n"
     ]
    },
    {
     "name": "stdout",
     "output_type": "stream",
     "text": [
      "Hidden Layers: [8, 4], Activation: Softmax, Epochs: 25, LR: 0.0001, Batch Size: 32, Accuracy: 0.0923\n"
     ]
    },
    {
     "name": "stderr",
     "output_type": "stream",
     "text": [
      "C:\\Users\\user\\AppData\\Local\\Packages\\PythonSoftwareFoundation.Python.3.12_qbz5n2kfra8p0\\LocalCache\\local-packages\\Python312\\site-packages\\torch\\nn\\modules\\module.py:1736: UserWarning: Implicit dimension choice for softmax has been deprecated. Change the call to include dim=X as an argument.\n",
      "  return self._call_impl(*args, **kwargs)\n"
     ]
    },
    {
     "name": "stdout",
     "output_type": "stream",
     "text": [
      "Hidden Layers: [8, 4], Activation: Softmax, Epochs: 25, LR: 0.0001, Batch Size: 64, Accuracy: 0.0385\n"
     ]
    },
    {
     "name": "stderr",
     "output_type": "stream",
     "text": [
      "C:\\Users\\user\\AppData\\Local\\Packages\\PythonSoftwareFoundation.Python.3.12_qbz5n2kfra8p0\\LocalCache\\local-packages\\Python312\\site-packages\\torch\\nn\\modules\\module.py:1736: UserWarning: Implicit dimension choice for softmax has been deprecated. Change the call to include dim=X as an argument.\n",
      "  return self._call_impl(*args, **kwargs)\n"
     ]
    },
    {
     "name": "stdout",
     "output_type": "stream",
     "text": [
      "Hidden Layers: [8, 4], Activation: Softmax, Epochs: 25, LR: 0.0001, Batch Size: 128, Accuracy: 0.0769\n"
     ]
    },
    {
     "name": "stderr",
     "output_type": "stream",
     "text": [
      "C:\\Users\\user\\AppData\\Local\\Packages\\PythonSoftwareFoundation.Python.3.12_qbz5n2kfra8p0\\LocalCache\\local-packages\\Python312\\site-packages\\torch\\nn\\modules\\module.py:1736: UserWarning: Implicit dimension choice for softmax has been deprecated. Change the call to include dim=X as an argument.\n",
      "  return self._call_impl(*args, **kwargs)\n"
     ]
    },
    {
     "name": "stdout",
     "output_type": "stream",
     "text": [
      "Hidden Layers: [8, 4], Activation: Softmax, Epochs: 25, LR: 0.0001, Batch Size: 256, Accuracy: 0.1308\n"
     ]
    },
    {
     "name": "stderr",
     "output_type": "stream",
     "text": [
      "C:\\Users\\user\\AppData\\Local\\Packages\\PythonSoftwareFoundation.Python.3.12_qbz5n2kfra8p0\\LocalCache\\local-packages\\Python312\\site-packages\\torch\\nn\\modules\\module.py:1736: UserWarning: Implicit dimension choice for softmax has been deprecated. Change the call to include dim=X as an argument.\n",
      "  return self._call_impl(*args, **kwargs)\n"
     ]
    },
    {
     "name": "stdout",
     "output_type": "stream",
     "text": [
      "Hidden Layers: [8, 4], Activation: Softmax, Epochs: 25, LR: 0.0001, Batch Size: 512, Accuracy: 0.1231\n"
     ]
    },
    {
     "name": "stderr",
     "output_type": "stream",
     "text": [
      "C:\\Users\\user\\AppData\\Local\\Packages\\PythonSoftwareFoundation.Python.3.12_qbz5n2kfra8p0\\LocalCache\\local-packages\\Python312\\site-packages\\torch\\nn\\modules\\module.py:1736: UserWarning: Implicit dimension choice for softmax has been deprecated. Change the call to include dim=X as an argument.\n",
      "  return self._call_impl(*args, **kwargs)\n"
     ]
    },
    {
     "name": "stdout",
     "output_type": "stream",
     "text": [
      "Hidden Layers: [8, 4], Activation: Softmax, Epochs: 50, LR: 10, Batch Size: 16, Accuracy: 0.2385\n"
     ]
    },
    {
     "name": "stderr",
     "output_type": "stream",
     "text": [
      "C:\\Users\\user\\AppData\\Local\\Packages\\PythonSoftwareFoundation.Python.3.12_qbz5n2kfra8p0\\LocalCache\\local-packages\\Python312\\site-packages\\torch\\nn\\modules\\module.py:1736: UserWarning: Implicit dimension choice for softmax has been deprecated. Change the call to include dim=X as an argument.\n",
      "  return self._call_impl(*args, **kwargs)\n"
     ]
    },
    {
     "name": "stdout",
     "output_type": "stream",
     "text": [
      "Hidden Layers: [8, 4], Activation: Softmax, Epochs: 50, LR: 10, Batch Size: 32, Accuracy: 0.0923\n"
     ]
    },
    {
     "name": "stderr",
     "output_type": "stream",
     "text": [
      "C:\\Users\\user\\AppData\\Local\\Packages\\PythonSoftwareFoundation.Python.3.12_qbz5n2kfra8p0\\LocalCache\\local-packages\\Python312\\site-packages\\torch\\nn\\modules\\module.py:1736: UserWarning: Implicit dimension choice for softmax has been deprecated. Change the call to include dim=X as an argument.\n",
      "  return self._call_impl(*args, **kwargs)\n"
     ]
    },
    {
     "name": "stdout",
     "output_type": "stream",
     "text": [
      "Hidden Layers: [8, 4], Activation: Softmax, Epochs: 50, LR: 10, Batch Size: 64, Accuracy: 0.1308\n"
     ]
    },
    {
     "name": "stderr",
     "output_type": "stream",
     "text": [
      "C:\\Users\\user\\AppData\\Local\\Packages\\PythonSoftwareFoundation.Python.3.12_qbz5n2kfra8p0\\LocalCache\\local-packages\\Python312\\site-packages\\torch\\nn\\modules\\module.py:1736: UserWarning: Implicit dimension choice for softmax has been deprecated. Change the call to include dim=X as an argument.\n",
      "  return self._call_impl(*args, **kwargs)\n"
     ]
    },
    {
     "name": "stdout",
     "output_type": "stream",
     "text": [
      "Hidden Layers: [8, 4], Activation: Softmax, Epochs: 50, LR: 10, Batch Size: 128, Accuracy: 0.1923\n"
     ]
    },
    {
     "name": "stderr",
     "output_type": "stream",
     "text": [
      "C:\\Users\\user\\AppData\\Local\\Packages\\PythonSoftwareFoundation.Python.3.12_qbz5n2kfra8p0\\LocalCache\\local-packages\\Python312\\site-packages\\torch\\nn\\modules\\module.py:1736: UserWarning: Implicit dimension choice for softmax has been deprecated. Change the call to include dim=X as an argument.\n",
      "  return self._call_impl(*args, **kwargs)\n"
     ]
    },
    {
     "name": "stdout",
     "output_type": "stream",
     "text": [
      "Hidden Layers: [8, 4], Activation: Softmax, Epochs: 50, LR: 10, Batch Size: 256, Accuracy: 0.1308\n"
     ]
    },
    {
     "name": "stderr",
     "output_type": "stream",
     "text": [
      "C:\\Users\\user\\AppData\\Local\\Packages\\PythonSoftwareFoundation.Python.3.12_qbz5n2kfra8p0\\LocalCache\\local-packages\\Python312\\site-packages\\torch\\nn\\modules\\module.py:1736: UserWarning: Implicit dimension choice for softmax has been deprecated. Change the call to include dim=X as an argument.\n",
      "  return self._call_impl(*args, **kwargs)\n"
     ]
    },
    {
     "name": "stdout",
     "output_type": "stream",
     "text": [
      "Hidden Layers: [8, 4], Activation: Softmax, Epochs: 50, LR: 10, Batch Size: 512, Accuracy: 0.1231\n"
     ]
    },
    {
     "name": "stderr",
     "output_type": "stream",
     "text": [
      "C:\\Users\\user\\AppData\\Local\\Packages\\PythonSoftwareFoundation.Python.3.12_qbz5n2kfra8p0\\LocalCache\\local-packages\\Python312\\site-packages\\torch\\nn\\modules\\module.py:1736: UserWarning: Implicit dimension choice for softmax has been deprecated. Change the call to include dim=X as an argument.\n",
      "  return self._call_impl(*args, **kwargs)\n"
     ]
    },
    {
     "name": "stdout",
     "output_type": "stream",
     "text": [
      "Hidden Layers: [8, 4], Activation: Softmax, Epochs: 50, LR: 1, Batch Size: 16, Accuracy: 0.1923\n"
     ]
    },
    {
     "name": "stderr",
     "output_type": "stream",
     "text": [
      "C:\\Users\\user\\AppData\\Local\\Packages\\PythonSoftwareFoundation.Python.3.12_qbz5n2kfra8p0\\LocalCache\\local-packages\\Python312\\site-packages\\torch\\nn\\modules\\module.py:1736: UserWarning: Implicit dimension choice for softmax has been deprecated. Change the call to include dim=X as an argument.\n",
      "  return self._call_impl(*args, **kwargs)\n"
     ]
    },
    {
     "name": "stdout",
     "output_type": "stream",
     "text": [
      "Hidden Layers: [8, 4], Activation: Softmax, Epochs: 50, LR: 1, Batch Size: 32, Accuracy: 0.1231\n"
     ]
    },
    {
     "name": "stderr",
     "output_type": "stream",
     "text": [
      "C:\\Users\\user\\AppData\\Local\\Packages\\PythonSoftwareFoundation.Python.3.12_qbz5n2kfra8p0\\LocalCache\\local-packages\\Python312\\site-packages\\torch\\nn\\modules\\module.py:1736: UserWarning: Implicit dimension choice for softmax has been deprecated. Change the call to include dim=X as an argument.\n",
      "  return self._call_impl(*args, **kwargs)\n"
     ]
    },
    {
     "name": "stdout",
     "output_type": "stream",
     "text": [
      "Hidden Layers: [8, 4], Activation: Softmax, Epochs: 50, LR: 1, Batch Size: 64, Accuracy: 0.1000\n"
     ]
    },
    {
     "name": "stderr",
     "output_type": "stream",
     "text": [
      "C:\\Users\\user\\AppData\\Local\\Packages\\PythonSoftwareFoundation.Python.3.12_qbz5n2kfra8p0\\LocalCache\\local-packages\\Python312\\site-packages\\torch\\nn\\modules\\module.py:1736: UserWarning: Implicit dimension choice for softmax has been deprecated. Change the call to include dim=X as an argument.\n",
      "  return self._call_impl(*args, **kwargs)\n"
     ]
    },
    {
     "name": "stdout",
     "output_type": "stream",
     "text": [
      "Hidden Layers: [8, 4], Activation: Softmax, Epochs: 50, LR: 1, Batch Size: 128, Accuracy: 0.2000\n"
     ]
    },
    {
     "name": "stderr",
     "output_type": "stream",
     "text": [
      "C:\\Users\\user\\AppData\\Local\\Packages\\PythonSoftwareFoundation.Python.3.12_qbz5n2kfra8p0\\LocalCache\\local-packages\\Python312\\site-packages\\torch\\nn\\modules\\module.py:1736: UserWarning: Implicit dimension choice for softmax has been deprecated. Change the call to include dim=X as an argument.\n",
      "  return self._call_impl(*args, **kwargs)\n"
     ]
    },
    {
     "name": "stdout",
     "output_type": "stream",
     "text": [
      "Hidden Layers: [8, 4], Activation: Softmax, Epochs: 50, LR: 1, Batch Size: 256, Accuracy: 0.1846\n"
     ]
    },
    {
     "name": "stderr",
     "output_type": "stream",
     "text": [
      "C:\\Users\\user\\AppData\\Local\\Packages\\PythonSoftwareFoundation.Python.3.12_qbz5n2kfra8p0\\LocalCache\\local-packages\\Python312\\site-packages\\torch\\nn\\modules\\module.py:1736: UserWarning: Implicit dimension choice for softmax has been deprecated. Change the call to include dim=X as an argument.\n",
      "  return self._call_impl(*args, **kwargs)\n"
     ]
    },
    {
     "name": "stdout",
     "output_type": "stream",
     "text": [
      "Hidden Layers: [8, 4], Activation: Softmax, Epochs: 50, LR: 1, Batch Size: 512, Accuracy: 0.2077\n"
     ]
    },
    {
     "name": "stderr",
     "output_type": "stream",
     "text": [
      "C:\\Users\\user\\AppData\\Local\\Packages\\PythonSoftwareFoundation.Python.3.12_qbz5n2kfra8p0\\LocalCache\\local-packages\\Python312\\site-packages\\torch\\nn\\modules\\module.py:1736: UserWarning: Implicit dimension choice for softmax has been deprecated. Change the call to include dim=X as an argument.\n",
      "  return self._call_impl(*args, **kwargs)\n"
     ]
    },
    {
     "name": "stdout",
     "output_type": "stream",
     "text": [
      "Hidden Layers: [8, 4], Activation: Softmax, Epochs: 50, LR: 0.1, Batch Size: 16, Accuracy: 0.3000\n"
     ]
    },
    {
     "name": "stderr",
     "output_type": "stream",
     "text": [
      "C:\\Users\\user\\AppData\\Local\\Packages\\PythonSoftwareFoundation.Python.3.12_qbz5n2kfra8p0\\LocalCache\\local-packages\\Python312\\site-packages\\torch\\nn\\modules\\module.py:1736: UserWarning: Implicit dimension choice for softmax has been deprecated. Change the call to include dim=X as an argument.\n",
      "  return self._call_impl(*args, **kwargs)\n"
     ]
    },
    {
     "name": "stdout",
     "output_type": "stream",
     "text": [
      "Hidden Layers: [8, 4], Activation: Softmax, Epochs: 50, LR: 0.1, Batch Size: 32, Accuracy: 0.3077\n"
     ]
    },
    {
     "name": "stderr",
     "output_type": "stream",
     "text": [
      "C:\\Users\\user\\AppData\\Local\\Packages\\PythonSoftwareFoundation.Python.3.12_qbz5n2kfra8p0\\LocalCache\\local-packages\\Python312\\site-packages\\torch\\nn\\modules\\module.py:1736: UserWarning: Implicit dimension choice for softmax has been deprecated. Change the call to include dim=X as an argument.\n",
      "  return self._call_impl(*args, **kwargs)\n"
     ]
    },
    {
     "name": "stdout",
     "output_type": "stream",
     "text": [
      "Hidden Layers: [8, 4], Activation: Softmax, Epochs: 50, LR: 0.1, Batch Size: 64, Accuracy: 0.3077\n"
     ]
    },
    {
     "name": "stderr",
     "output_type": "stream",
     "text": [
      "C:\\Users\\user\\AppData\\Local\\Packages\\PythonSoftwareFoundation.Python.3.12_qbz5n2kfra8p0\\LocalCache\\local-packages\\Python312\\site-packages\\torch\\nn\\modules\\module.py:1736: UserWarning: Implicit dimension choice for softmax has been deprecated. Change the call to include dim=X as an argument.\n",
      "  return self._call_impl(*args, **kwargs)\n"
     ]
    },
    {
     "name": "stdout",
     "output_type": "stream",
     "text": [
      "Hidden Layers: [8, 4], Activation: Softmax, Epochs: 50, LR: 0.1, Batch Size: 128, Accuracy: 0.2462\n"
     ]
    },
    {
     "name": "stderr",
     "output_type": "stream",
     "text": [
      "C:\\Users\\user\\AppData\\Local\\Packages\\PythonSoftwareFoundation.Python.3.12_qbz5n2kfra8p0\\LocalCache\\local-packages\\Python312\\site-packages\\torch\\nn\\modules\\module.py:1736: UserWarning: Implicit dimension choice for softmax has been deprecated. Change the call to include dim=X as an argument.\n",
      "  return self._call_impl(*args, **kwargs)\n"
     ]
    },
    {
     "name": "stdout",
     "output_type": "stream",
     "text": [
      "Hidden Layers: [8, 4], Activation: Softmax, Epochs: 50, LR: 0.1, Batch Size: 256, Accuracy: 0.2615\n"
     ]
    },
    {
     "name": "stderr",
     "output_type": "stream",
     "text": [
      "C:\\Users\\user\\AppData\\Local\\Packages\\PythonSoftwareFoundation.Python.3.12_qbz5n2kfra8p0\\LocalCache\\local-packages\\Python312\\site-packages\\torch\\nn\\modules\\module.py:1736: UserWarning: Implicit dimension choice for softmax has been deprecated. Change the call to include dim=X as an argument.\n",
      "  return self._call_impl(*args, **kwargs)\n"
     ]
    },
    {
     "name": "stdout",
     "output_type": "stream",
     "text": [
      "Hidden Layers: [8, 4], Activation: Softmax, Epochs: 50, LR: 0.1, Batch Size: 512, Accuracy: 0.2538\n"
     ]
    },
    {
     "name": "stderr",
     "output_type": "stream",
     "text": [
      "C:\\Users\\user\\AppData\\Local\\Packages\\PythonSoftwareFoundation.Python.3.12_qbz5n2kfra8p0\\LocalCache\\local-packages\\Python312\\site-packages\\torch\\nn\\modules\\module.py:1736: UserWarning: Implicit dimension choice for softmax has been deprecated. Change the call to include dim=X as an argument.\n",
      "  return self._call_impl(*args, **kwargs)\n"
     ]
    },
    {
     "name": "stdout",
     "output_type": "stream",
     "text": [
      "Hidden Layers: [8, 4], Activation: Softmax, Epochs: 50, LR: 0.01, Batch Size: 16, Accuracy: 0.2538\n"
     ]
    },
    {
     "name": "stderr",
     "output_type": "stream",
     "text": [
      "C:\\Users\\user\\AppData\\Local\\Packages\\PythonSoftwareFoundation.Python.3.12_qbz5n2kfra8p0\\LocalCache\\local-packages\\Python312\\site-packages\\torch\\nn\\modules\\module.py:1736: UserWarning: Implicit dimension choice for softmax has been deprecated. Change the call to include dim=X as an argument.\n",
      "  return self._call_impl(*args, **kwargs)\n"
     ]
    },
    {
     "name": "stdout",
     "output_type": "stream",
     "text": [
      "Hidden Layers: [8, 4], Activation: Softmax, Epochs: 50, LR: 0.01, Batch Size: 32, Accuracy: 0.2077\n"
     ]
    },
    {
     "name": "stderr",
     "output_type": "stream",
     "text": [
      "C:\\Users\\user\\AppData\\Local\\Packages\\PythonSoftwareFoundation.Python.3.12_qbz5n2kfra8p0\\LocalCache\\local-packages\\Python312\\site-packages\\torch\\nn\\modules\\module.py:1736: UserWarning: Implicit dimension choice for softmax has been deprecated. Change the call to include dim=X as an argument.\n",
      "  return self._call_impl(*args, **kwargs)\n"
     ]
    },
    {
     "name": "stdout",
     "output_type": "stream",
     "text": [
      "Hidden Layers: [8, 4], Activation: Softmax, Epochs: 50, LR: 0.01, Batch Size: 64, Accuracy: 0.2769\n"
     ]
    },
    {
     "name": "stderr",
     "output_type": "stream",
     "text": [
      "C:\\Users\\user\\AppData\\Local\\Packages\\PythonSoftwareFoundation.Python.3.12_qbz5n2kfra8p0\\LocalCache\\local-packages\\Python312\\site-packages\\torch\\nn\\modules\\module.py:1736: UserWarning: Implicit dimension choice for softmax has been deprecated. Change the call to include dim=X as an argument.\n",
      "  return self._call_impl(*args, **kwargs)\n"
     ]
    },
    {
     "name": "stdout",
     "output_type": "stream",
     "text": [
      "Hidden Layers: [8, 4], Activation: Softmax, Epochs: 50, LR: 0.01, Batch Size: 128, Accuracy: 0.2154\n"
     ]
    },
    {
     "name": "stderr",
     "output_type": "stream",
     "text": [
      "C:\\Users\\user\\AppData\\Local\\Packages\\PythonSoftwareFoundation.Python.3.12_qbz5n2kfra8p0\\LocalCache\\local-packages\\Python312\\site-packages\\torch\\nn\\modules\\module.py:1736: UserWarning: Implicit dimension choice for softmax has been deprecated. Change the call to include dim=X as an argument.\n",
      "  return self._call_impl(*args, **kwargs)\n"
     ]
    },
    {
     "name": "stdout",
     "output_type": "stream",
     "text": [
      "Hidden Layers: [8, 4], Activation: Softmax, Epochs: 50, LR: 0.01, Batch Size: 256, Accuracy: 0.2692\n"
     ]
    },
    {
     "name": "stderr",
     "output_type": "stream",
     "text": [
      "C:\\Users\\user\\AppData\\Local\\Packages\\PythonSoftwareFoundation.Python.3.12_qbz5n2kfra8p0\\LocalCache\\local-packages\\Python312\\site-packages\\torch\\nn\\modules\\module.py:1736: UserWarning: Implicit dimension choice for softmax has been deprecated. Change the call to include dim=X as an argument.\n",
      "  return self._call_impl(*args, **kwargs)\n"
     ]
    },
    {
     "name": "stdout",
     "output_type": "stream",
     "text": [
      "Hidden Layers: [8, 4], Activation: Softmax, Epochs: 50, LR: 0.01, Batch Size: 512, Accuracy: 0.1308\n"
     ]
    },
    {
     "name": "stderr",
     "output_type": "stream",
     "text": [
      "C:\\Users\\user\\AppData\\Local\\Packages\\PythonSoftwareFoundation.Python.3.12_qbz5n2kfra8p0\\LocalCache\\local-packages\\Python312\\site-packages\\torch\\nn\\modules\\module.py:1736: UserWarning: Implicit dimension choice for softmax has been deprecated. Change the call to include dim=X as an argument.\n",
      "  return self._call_impl(*args, **kwargs)\n"
     ]
    },
    {
     "name": "stdout",
     "output_type": "stream",
     "text": [
      "Hidden Layers: [8, 4], Activation: Softmax, Epochs: 50, LR: 0.001, Batch Size: 16, Accuracy: 0.2615\n"
     ]
    },
    {
     "name": "stderr",
     "output_type": "stream",
     "text": [
      "C:\\Users\\user\\AppData\\Local\\Packages\\PythonSoftwareFoundation.Python.3.12_qbz5n2kfra8p0\\LocalCache\\local-packages\\Python312\\site-packages\\torch\\nn\\modules\\module.py:1736: UserWarning: Implicit dimension choice for softmax has been deprecated. Change the call to include dim=X as an argument.\n",
      "  return self._call_impl(*args, **kwargs)\n"
     ]
    },
    {
     "name": "stdout",
     "output_type": "stream",
     "text": [
      "Hidden Layers: [8, 4], Activation: Softmax, Epochs: 50, LR: 0.001, Batch Size: 32, Accuracy: 0.2538\n"
     ]
    },
    {
     "name": "stderr",
     "output_type": "stream",
     "text": [
      "C:\\Users\\user\\AppData\\Local\\Packages\\PythonSoftwareFoundation.Python.3.12_qbz5n2kfra8p0\\LocalCache\\local-packages\\Python312\\site-packages\\torch\\nn\\modules\\module.py:1736: UserWarning: Implicit dimension choice for softmax has been deprecated. Change the call to include dim=X as an argument.\n",
      "  return self._call_impl(*args, **kwargs)\n"
     ]
    },
    {
     "name": "stdout",
     "output_type": "stream",
     "text": [
      "Hidden Layers: [8, 4], Activation: Softmax, Epochs: 50, LR: 0.001, Batch Size: 64, Accuracy: 0.2308\n"
     ]
    },
    {
     "name": "stderr",
     "output_type": "stream",
     "text": [
      "C:\\Users\\user\\AppData\\Local\\Packages\\PythonSoftwareFoundation.Python.3.12_qbz5n2kfra8p0\\LocalCache\\local-packages\\Python312\\site-packages\\torch\\nn\\modules\\module.py:1736: UserWarning: Implicit dimension choice for softmax has been deprecated. Change the call to include dim=X as an argument.\n",
      "  return self._call_impl(*args, **kwargs)\n"
     ]
    },
    {
     "name": "stdout",
     "output_type": "stream",
     "text": [
      "Hidden Layers: [8, 4], Activation: Softmax, Epochs: 50, LR: 0.001, Batch Size: 128, Accuracy: 0.1308\n"
     ]
    },
    {
     "name": "stderr",
     "output_type": "stream",
     "text": [
      "C:\\Users\\user\\AppData\\Local\\Packages\\PythonSoftwareFoundation.Python.3.12_qbz5n2kfra8p0\\LocalCache\\local-packages\\Python312\\site-packages\\torch\\nn\\modules\\module.py:1736: UserWarning: Implicit dimension choice for softmax has been deprecated. Change the call to include dim=X as an argument.\n",
      "  return self._call_impl(*args, **kwargs)\n"
     ]
    },
    {
     "name": "stdout",
     "output_type": "stream",
     "text": [
      "Hidden Layers: [8, 4], Activation: Softmax, Epochs: 50, LR: 0.001, Batch Size: 256, Accuracy: 0.1000\n"
     ]
    },
    {
     "name": "stderr",
     "output_type": "stream",
     "text": [
      "C:\\Users\\user\\AppData\\Local\\Packages\\PythonSoftwareFoundation.Python.3.12_qbz5n2kfra8p0\\LocalCache\\local-packages\\Python312\\site-packages\\torch\\nn\\modules\\module.py:1736: UserWarning: Implicit dimension choice for softmax has been deprecated. Change the call to include dim=X as an argument.\n",
      "  return self._call_impl(*args, **kwargs)\n"
     ]
    },
    {
     "name": "stdout",
     "output_type": "stream",
     "text": [
      "Hidden Layers: [8, 4], Activation: Softmax, Epochs: 50, LR: 0.001, Batch Size: 512, Accuracy: 0.1308\n"
     ]
    },
    {
     "name": "stderr",
     "output_type": "stream",
     "text": [
      "C:\\Users\\user\\AppData\\Local\\Packages\\PythonSoftwareFoundation.Python.3.12_qbz5n2kfra8p0\\LocalCache\\local-packages\\Python312\\site-packages\\torch\\nn\\modules\\module.py:1736: UserWarning: Implicit dimension choice for softmax has been deprecated. Change the call to include dim=X as an argument.\n",
      "  return self._call_impl(*args, **kwargs)\n"
     ]
    },
    {
     "name": "stdout",
     "output_type": "stream",
     "text": [
      "Hidden Layers: [8, 4], Activation: Softmax, Epochs: 50, LR: 0.0001, Batch Size: 16, Accuracy: 0.1923\n"
     ]
    },
    {
     "name": "stderr",
     "output_type": "stream",
     "text": [
      "C:\\Users\\user\\AppData\\Local\\Packages\\PythonSoftwareFoundation.Python.3.12_qbz5n2kfra8p0\\LocalCache\\local-packages\\Python312\\site-packages\\torch\\nn\\modules\\module.py:1736: UserWarning: Implicit dimension choice for softmax has been deprecated. Change the call to include dim=X as an argument.\n",
      "  return self._call_impl(*args, **kwargs)\n"
     ]
    },
    {
     "name": "stdout",
     "output_type": "stream",
     "text": [
      "Hidden Layers: [8, 4], Activation: Softmax, Epochs: 50, LR: 0.0001, Batch Size: 32, Accuracy: 0.1923\n"
     ]
    },
    {
     "name": "stderr",
     "output_type": "stream",
     "text": [
      "C:\\Users\\user\\AppData\\Local\\Packages\\PythonSoftwareFoundation.Python.3.12_qbz5n2kfra8p0\\LocalCache\\local-packages\\Python312\\site-packages\\torch\\nn\\modules\\module.py:1736: UserWarning: Implicit dimension choice for softmax has been deprecated. Change the call to include dim=X as an argument.\n",
      "  return self._call_impl(*args, **kwargs)\n"
     ]
    },
    {
     "name": "stdout",
     "output_type": "stream",
     "text": [
      "Hidden Layers: [8, 4], Activation: Softmax, Epochs: 50, LR: 0.0001, Batch Size: 64, Accuracy: 0.1077\n"
     ]
    },
    {
     "name": "stderr",
     "output_type": "stream",
     "text": [
      "C:\\Users\\user\\AppData\\Local\\Packages\\PythonSoftwareFoundation.Python.3.12_qbz5n2kfra8p0\\LocalCache\\local-packages\\Python312\\site-packages\\torch\\nn\\modules\\module.py:1736: UserWarning: Implicit dimension choice for softmax has been deprecated. Change the call to include dim=X as an argument.\n",
      "  return self._call_impl(*args, **kwargs)\n"
     ]
    },
    {
     "name": "stdout",
     "output_type": "stream",
     "text": [
      "Hidden Layers: [8, 4], Activation: Softmax, Epochs: 50, LR: 0.0001, Batch Size: 128, Accuracy: 0.1231\n"
     ]
    },
    {
     "name": "stderr",
     "output_type": "stream",
     "text": [
      "C:\\Users\\user\\AppData\\Local\\Packages\\PythonSoftwareFoundation.Python.3.12_qbz5n2kfra8p0\\LocalCache\\local-packages\\Python312\\site-packages\\torch\\nn\\modules\\module.py:1736: UserWarning: Implicit dimension choice for softmax has been deprecated. Change the call to include dim=X as an argument.\n",
      "  return self._call_impl(*args, **kwargs)\n"
     ]
    },
    {
     "name": "stdout",
     "output_type": "stream",
     "text": [
      "Hidden Layers: [8, 4], Activation: Softmax, Epochs: 50, LR: 0.0001, Batch Size: 256, Accuracy: 0.0000\n"
     ]
    },
    {
     "name": "stderr",
     "output_type": "stream",
     "text": [
      "C:\\Users\\user\\AppData\\Local\\Packages\\PythonSoftwareFoundation.Python.3.12_qbz5n2kfra8p0\\LocalCache\\local-packages\\Python312\\site-packages\\torch\\nn\\modules\\module.py:1736: UserWarning: Implicit dimension choice for softmax has been deprecated. Change the call to include dim=X as an argument.\n",
      "  return self._call_impl(*args, **kwargs)\n"
     ]
    },
    {
     "name": "stdout",
     "output_type": "stream",
     "text": [
      "Hidden Layers: [8, 4], Activation: Softmax, Epochs: 50, LR: 0.0001, Batch Size: 512, Accuracy: 0.0538\n"
     ]
    },
    {
     "name": "stderr",
     "output_type": "stream",
     "text": [
      "C:\\Users\\user\\AppData\\Local\\Packages\\PythonSoftwareFoundation.Python.3.12_qbz5n2kfra8p0\\LocalCache\\local-packages\\Python312\\site-packages\\torch\\nn\\modules\\module.py:1736: UserWarning: Implicit dimension choice for softmax has been deprecated. Change the call to include dim=X as an argument.\n",
      "  return self._call_impl(*args, **kwargs)\n"
     ]
    },
    {
     "name": "stdout",
     "output_type": "stream",
     "text": [
      "Hidden Layers: [8, 4], Activation: Softmax, Epochs: 100, LR: 10, Batch Size: 16, Accuracy: 0.0692\n"
     ]
    },
    {
     "name": "stderr",
     "output_type": "stream",
     "text": [
      "C:\\Users\\user\\AppData\\Local\\Packages\\PythonSoftwareFoundation.Python.3.12_qbz5n2kfra8p0\\LocalCache\\local-packages\\Python312\\site-packages\\torch\\nn\\modules\\module.py:1736: UserWarning: Implicit dimension choice for softmax has been deprecated. Change the call to include dim=X as an argument.\n",
      "  return self._call_impl(*args, **kwargs)\n"
     ]
    },
    {
     "name": "stdout",
     "output_type": "stream",
     "text": [
      "Hidden Layers: [8, 4], Activation: Softmax, Epochs: 100, LR: 10, Batch Size: 32, Accuracy: 0.1231\n"
     ]
    },
    {
     "name": "stderr",
     "output_type": "stream",
     "text": [
      "C:\\Users\\user\\AppData\\Local\\Packages\\PythonSoftwareFoundation.Python.3.12_qbz5n2kfra8p0\\LocalCache\\local-packages\\Python312\\site-packages\\torch\\nn\\modules\\module.py:1736: UserWarning: Implicit dimension choice for softmax has been deprecated. Change the call to include dim=X as an argument.\n",
      "  return self._call_impl(*args, **kwargs)\n"
     ]
    },
    {
     "name": "stdout",
     "output_type": "stream",
     "text": [
      "Hidden Layers: [8, 4], Activation: Softmax, Epochs: 100, LR: 10, Batch Size: 64, Accuracy: 0.0923\n"
     ]
    },
    {
     "name": "stderr",
     "output_type": "stream",
     "text": [
      "C:\\Users\\user\\AppData\\Local\\Packages\\PythonSoftwareFoundation.Python.3.12_qbz5n2kfra8p0\\LocalCache\\local-packages\\Python312\\site-packages\\torch\\nn\\modules\\module.py:1736: UserWarning: Implicit dimension choice for softmax has been deprecated. Change the call to include dim=X as an argument.\n",
      "  return self._call_impl(*args, **kwargs)\n"
     ]
    },
    {
     "name": "stdout",
     "output_type": "stream",
     "text": [
      "Hidden Layers: [8, 4], Activation: Softmax, Epochs: 100, LR: 10, Batch Size: 128, Accuracy: 0.1923\n"
     ]
    },
    {
     "name": "stderr",
     "output_type": "stream",
     "text": [
      "C:\\Users\\user\\AppData\\Local\\Packages\\PythonSoftwareFoundation.Python.3.12_qbz5n2kfra8p0\\LocalCache\\local-packages\\Python312\\site-packages\\torch\\nn\\modules\\module.py:1736: UserWarning: Implicit dimension choice for softmax has been deprecated. Change the call to include dim=X as an argument.\n",
      "  return self._call_impl(*args, **kwargs)\n"
     ]
    },
    {
     "name": "stdout",
     "output_type": "stream",
     "text": [
      "Hidden Layers: [8, 4], Activation: Softmax, Epochs: 100, LR: 10, Batch Size: 256, Accuracy: 0.1231\n"
     ]
    },
    {
     "name": "stderr",
     "output_type": "stream",
     "text": [
      "C:\\Users\\user\\AppData\\Local\\Packages\\PythonSoftwareFoundation.Python.3.12_qbz5n2kfra8p0\\LocalCache\\local-packages\\Python312\\site-packages\\torch\\nn\\modules\\module.py:1736: UserWarning: Implicit dimension choice for softmax has been deprecated. Change the call to include dim=X as an argument.\n",
      "  return self._call_impl(*args, **kwargs)\n"
     ]
    },
    {
     "name": "stdout",
     "output_type": "stream",
     "text": [
      "Hidden Layers: [8, 4], Activation: Softmax, Epochs: 100, LR: 10, Batch Size: 512, Accuracy: 0.0769\n"
     ]
    },
    {
     "name": "stderr",
     "output_type": "stream",
     "text": [
      "C:\\Users\\user\\AppData\\Local\\Packages\\PythonSoftwareFoundation.Python.3.12_qbz5n2kfra8p0\\LocalCache\\local-packages\\Python312\\site-packages\\torch\\nn\\modules\\module.py:1736: UserWarning: Implicit dimension choice for softmax has been deprecated. Change the call to include dim=X as an argument.\n",
      "  return self._call_impl(*args, **kwargs)\n"
     ]
    },
    {
     "name": "stdout",
     "output_type": "stream",
     "text": [
      "Hidden Layers: [8, 4], Activation: Softmax, Epochs: 100, LR: 1, Batch Size: 16, Accuracy: 0.1000\n"
     ]
    },
    {
     "name": "stderr",
     "output_type": "stream",
     "text": [
      "C:\\Users\\user\\AppData\\Local\\Packages\\PythonSoftwareFoundation.Python.3.12_qbz5n2kfra8p0\\LocalCache\\local-packages\\Python312\\site-packages\\torch\\nn\\modules\\module.py:1736: UserWarning: Implicit dimension choice for softmax has been deprecated. Change the call to include dim=X as an argument.\n",
      "  return self._call_impl(*args, **kwargs)\n"
     ]
    },
    {
     "name": "stdout",
     "output_type": "stream",
     "text": [
      "Hidden Layers: [8, 4], Activation: Softmax, Epochs: 100, LR: 1, Batch Size: 32, Accuracy: 0.1000\n"
     ]
    },
    {
     "name": "stderr",
     "output_type": "stream",
     "text": [
      "C:\\Users\\user\\AppData\\Local\\Packages\\PythonSoftwareFoundation.Python.3.12_qbz5n2kfra8p0\\LocalCache\\local-packages\\Python312\\site-packages\\torch\\nn\\modules\\module.py:1736: UserWarning: Implicit dimension choice for softmax has been deprecated. Change the call to include dim=X as an argument.\n",
      "  return self._call_impl(*args, **kwargs)\n"
     ]
    },
    {
     "name": "stdout",
     "output_type": "stream",
     "text": [
      "Hidden Layers: [8, 4], Activation: Softmax, Epochs: 100, LR: 1, Batch Size: 64, Accuracy: 0.1308\n"
     ]
    },
    {
     "name": "stderr",
     "output_type": "stream",
     "text": [
      "C:\\Users\\user\\AppData\\Local\\Packages\\PythonSoftwareFoundation.Python.3.12_qbz5n2kfra8p0\\LocalCache\\local-packages\\Python312\\site-packages\\torch\\nn\\modules\\module.py:1736: UserWarning: Implicit dimension choice for softmax has been deprecated. Change the call to include dim=X as an argument.\n",
      "  return self._call_impl(*args, **kwargs)\n"
     ]
    },
    {
     "name": "stdout",
     "output_type": "stream",
     "text": [
      "Hidden Layers: [8, 4], Activation: Softmax, Epochs: 100, LR: 1, Batch Size: 128, Accuracy: 0.2154\n"
     ]
    },
    {
     "name": "stderr",
     "output_type": "stream",
     "text": [
      "C:\\Users\\user\\AppData\\Local\\Packages\\PythonSoftwareFoundation.Python.3.12_qbz5n2kfra8p0\\LocalCache\\local-packages\\Python312\\site-packages\\torch\\nn\\modules\\module.py:1736: UserWarning: Implicit dimension choice for softmax has been deprecated. Change the call to include dim=X as an argument.\n",
      "  return self._call_impl(*args, **kwargs)\n"
     ]
    },
    {
     "name": "stdout",
     "output_type": "stream",
     "text": [
      "Hidden Layers: [8, 4], Activation: Softmax, Epochs: 100, LR: 1, Batch Size: 256, Accuracy: 0.0923\n"
     ]
    },
    {
     "name": "stderr",
     "output_type": "stream",
     "text": [
      "C:\\Users\\user\\AppData\\Local\\Packages\\PythonSoftwareFoundation.Python.3.12_qbz5n2kfra8p0\\LocalCache\\local-packages\\Python312\\site-packages\\torch\\nn\\modules\\module.py:1736: UserWarning: Implicit dimension choice for softmax has been deprecated. Change the call to include dim=X as an argument.\n",
      "  return self._call_impl(*args, **kwargs)\n"
     ]
    },
    {
     "name": "stdout",
     "output_type": "stream",
     "text": [
      "Hidden Layers: [8, 4], Activation: Softmax, Epochs: 100, LR: 1, Batch Size: 512, Accuracy: 0.2615\n"
     ]
    },
    {
     "name": "stderr",
     "output_type": "stream",
     "text": [
      "C:\\Users\\user\\AppData\\Local\\Packages\\PythonSoftwareFoundation.Python.3.12_qbz5n2kfra8p0\\LocalCache\\local-packages\\Python312\\site-packages\\torch\\nn\\modules\\module.py:1736: UserWarning: Implicit dimension choice for softmax has been deprecated. Change the call to include dim=X as an argument.\n",
      "  return self._call_impl(*args, **kwargs)\n"
     ]
    },
    {
     "name": "stdout",
     "output_type": "stream",
     "text": [
      "Hidden Layers: [8, 4], Activation: Softmax, Epochs: 100, LR: 0.1, Batch Size: 16, Accuracy: 0.2769\n"
     ]
    },
    {
     "name": "stderr",
     "output_type": "stream",
     "text": [
      "C:\\Users\\user\\AppData\\Local\\Packages\\PythonSoftwareFoundation.Python.3.12_qbz5n2kfra8p0\\LocalCache\\local-packages\\Python312\\site-packages\\torch\\nn\\modules\\module.py:1736: UserWarning: Implicit dimension choice for softmax has been deprecated. Change the call to include dim=X as an argument.\n",
      "  return self._call_impl(*args, **kwargs)\n"
     ]
    },
    {
     "name": "stdout",
     "output_type": "stream",
     "text": [
      "Hidden Layers: [8, 4], Activation: Softmax, Epochs: 100, LR: 0.1, Batch Size: 32, Accuracy: 0.3077\n"
     ]
    },
    {
     "name": "stderr",
     "output_type": "stream",
     "text": [
      "C:\\Users\\user\\AppData\\Local\\Packages\\PythonSoftwareFoundation.Python.3.12_qbz5n2kfra8p0\\LocalCache\\local-packages\\Python312\\site-packages\\torch\\nn\\modules\\module.py:1736: UserWarning: Implicit dimension choice for softmax has been deprecated. Change the call to include dim=X as an argument.\n",
      "  return self._call_impl(*args, **kwargs)\n"
     ]
    },
    {
     "name": "stdout",
     "output_type": "stream",
     "text": [
      "Hidden Layers: [8, 4], Activation: Softmax, Epochs: 100, LR: 0.1, Batch Size: 64, Accuracy: 0.2923\n"
     ]
    },
    {
     "name": "stderr",
     "output_type": "stream",
     "text": [
      "C:\\Users\\user\\AppData\\Local\\Packages\\PythonSoftwareFoundation.Python.3.12_qbz5n2kfra8p0\\LocalCache\\local-packages\\Python312\\site-packages\\torch\\nn\\modules\\module.py:1736: UserWarning: Implicit dimension choice for softmax has been deprecated. Change the call to include dim=X as an argument.\n",
      "  return self._call_impl(*args, **kwargs)\n"
     ]
    },
    {
     "name": "stdout",
     "output_type": "stream",
     "text": [
      "Hidden Layers: [8, 4], Activation: Softmax, Epochs: 100, LR: 0.1, Batch Size: 128, Accuracy: 0.2385\n"
     ]
    },
    {
     "name": "stderr",
     "output_type": "stream",
     "text": [
      "C:\\Users\\user\\AppData\\Local\\Packages\\PythonSoftwareFoundation.Python.3.12_qbz5n2kfra8p0\\LocalCache\\local-packages\\Python312\\site-packages\\torch\\nn\\modules\\module.py:1736: UserWarning: Implicit dimension choice for softmax has been deprecated. Change the call to include dim=X as an argument.\n",
      "  return self._call_impl(*args, **kwargs)\n"
     ]
    },
    {
     "name": "stdout",
     "output_type": "stream",
     "text": [
      "Hidden Layers: [8, 4], Activation: Softmax, Epochs: 100, LR: 0.1, Batch Size: 256, Accuracy: 0.2615\n"
     ]
    },
    {
     "name": "stderr",
     "output_type": "stream",
     "text": [
      "C:\\Users\\user\\AppData\\Local\\Packages\\PythonSoftwareFoundation.Python.3.12_qbz5n2kfra8p0\\LocalCache\\local-packages\\Python312\\site-packages\\torch\\nn\\modules\\module.py:1736: UserWarning: Implicit dimension choice for softmax has been deprecated. Change the call to include dim=X as an argument.\n",
      "  return self._call_impl(*args, **kwargs)\n"
     ]
    },
    {
     "name": "stdout",
     "output_type": "stream",
     "text": [
      "Hidden Layers: [8, 4], Activation: Softmax, Epochs: 100, LR: 0.1, Batch Size: 512, Accuracy: 0.2231\n"
     ]
    },
    {
     "name": "stderr",
     "output_type": "stream",
     "text": [
      "C:\\Users\\user\\AppData\\Local\\Packages\\PythonSoftwareFoundation.Python.3.12_qbz5n2kfra8p0\\LocalCache\\local-packages\\Python312\\site-packages\\torch\\nn\\modules\\module.py:1736: UserWarning: Implicit dimension choice for softmax has been deprecated. Change the call to include dim=X as an argument.\n",
      "  return self._call_impl(*args, **kwargs)\n"
     ]
    },
    {
     "name": "stdout",
     "output_type": "stream",
     "text": [
      "Hidden Layers: [8, 4], Activation: Softmax, Epochs: 100, LR: 0.01, Batch Size: 16, Accuracy: 0.3154\n"
     ]
    },
    {
     "name": "stderr",
     "output_type": "stream",
     "text": [
      "C:\\Users\\user\\AppData\\Local\\Packages\\PythonSoftwareFoundation.Python.3.12_qbz5n2kfra8p0\\LocalCache\\local-packages\\Python312\\site-packages\\torch\\nn\\modules\\module.py:1736: UserWarning: Implicit dimension choice for softmax has been deprecated. Change the call to include dim=X as an argument.\n",
      "  return self._call_impl(*args, **kwargs)\n"
     ]
    },
    {
     "name": "stdout",
     "output_type": "stream",
     "text": [
      "Hidden Layers: [8, 4], Activation: Softmax, Epochs: 100, LR: 0.01, Batch Size: 32, Accuracy: 0.2923\n"
     ]
    },
    {
     "name": "stderr",
     "output_type": "stream",
     "text": [
      "C:\\Users\\user\\AppData\\Local\\Packages\\PythonSoftwareFoundation.Python.3.12_qbz5n2kfra8p0\\LocalCache\\local-packages\\Python312\\site-packages\\torch\\nn\\modules\\module.py:1736: UserWarning: Implicit dimension choice for softmax has been deprecated. Change the call to include dim=X as an argument.\n",
      "  return self._call_impl(*args, **kwargs)\n"
     ]
    },
    {
     "name": "stdout",
     "output_type": "stream",
     "text": [
      "Hidden Layers: [8, 4], Activation: Softmax, Epochs: 100, LR: 0.01, Batch Size: 64, Accuracy: 0.2692\n"
     ]
    },
    {
     "name": "stderr",
     "output_type": "stream",
     "text": [
      "C:\\Users\\user\\AppData\\Local\\Packages\\PythonSoftwareFoundation.Python.3.12_qbz5n2kfra8p0\\LocalCache\\local-packages\\Python312\\site-packages\\torch\\nn\\modules\\module.py:1736: UserWarning: Implicit dimension choice for softmax has been deprecated. Change the call to include dim=X as an argument.\n",
      "  return self._call_impl(*args, **kwargs)\n"
     ]
    },
    {
     "name": "stdout",
     "output_type": "stream",
     "text": [
      "Hidden Layers: [8, 4], Activation: Softmax, Epochs: 100, LR: 0.01, Batch Size: 128, Accuracy: 0.2308\n"
     ]
    },
    {
     "name": "stderr",
     "output_type": "stream",
     "text": [
      "C:\\Users\\user\\AppData\\Local\\Packages\\PythonSoftwareFoundation.Python.3.12_qbz5n2kfra8p0\\LocalCache\\local-packages\\Python312\\site-packages\\torch\\nn\\modules\\module.py:1736: UserWarning: Implicit dimension choice for softmax has been deprecated. Change the call to include dim=X as an argument.\n",
      "  return self._call_impl(*args, **kwargs)\n"
     ]
    },
    {
     "name": "stdout",
     "output_type": "stream",
     "text": [
      "Hidden Layers: [8, 4], Activation: Softmax, Epochs: 100, LR: 0.01, Batch Size: 256, Accuracy: 0.2077\n"
     ]
    },
    {
     "name": "stderr",
     "output_type": "stream",
     "text": [
      "C:\\Users\\user\\AppData\\Local\\Packages\\PythonSoftwareFoundation.Python.3.12_qbz5n2kfra8p0\\LocalCache\\local-packages\\Python312\\site-packages\\torch\\nn\\modules\\module.py:1736: UserWarning: Implicit dimension choice for softmax has been deprecated. Change the call to include dim=X as an argument.\n",
      "  return self._call_impl(*args, **kwargs)\n"
     ]
    },
    {
     "name": "stdout",
     "output_type": "stream",
     "text": [
      "Hidden Layers: [8, 4], Activation: Softmax, Epochs: 100, LR: 0.01, Batch Size: 512, Accuracy: 0.2231\n"
     ]
    },
    {
     "name": "stderr",
     "output_type": "stream",
     "text": [
      "C:\\Users\\user\\AppData\\Local\\Packages\\PythonSoftwareFoundation.Python.3.12_qbz5n2kfra8p0\\LocalCache\\local-packages\\Python312\\site-packages\\torch\\nn\\modules\\module.py:1736: UserWarning: Implicit dimension choice for softmax has been deprecated. Change the call to include dim=X as an argument.\n",
      "  return self._call_impl(*args, **kwargs)\n"
     ]
    },
    {
     "name": "stdout",
     "output_type": "stream",
     "text": [
      "Hidden Layers: [8, 4], Activation: Softmax, Epochs: 100, LR: 0.001, Batch Size: 16, Accuracy: 0.2308\n"
     ]
    },
    {
     "name": "stderr",
     "output_type": "stream",
     "text": [
      "C:\\Users\\user\\AppData\\Local\\Packages\\PythonSoftwareFoundation.Python.3.12_qbz5n2kfra8p0\\LocalCache\\local-packages\\Python312\\site-packages\\torch\\nn\\modules\\module.py:1736: UserWarning: Implicit dimension choice for softmax has been deprecated. Change the call to include dim=X as an argument.\n",
      "  return self._call_impl(*args, **kwargs)\n"
     ]
    },
    {
     "name": "stdout",
     "output_type": "stream",
     "text": [
      "Hidden Layers: [8, 4], Activation: Softmax, Epochs: 100, LR: 0.001, Batch Size: 32, Accuracy: 0.2462\n"
     ]
    },
    {
     "name": "stderr",
     "output_type": "stream",
     "text": [
      "C:\\Users\\user\\AppData\\Local\\Packages\\PythonSoftwareFoundation.Python.3.12_qbz5n2kfra8p0\\LocalCache\\local-packages\\Python312\\site-packages\\torch\\nn\\modules\\module.py:1736: UserWarning: Implicit dimension choice for softmax has been deprecated. Change the call to include dim=X as an argument.\n",
      "  return self._call_impl(*args, **kwargs)\n"
     ]
    },
    {
     "name": "stdout",
     "output_type": "stream",
     "text": [
      "Hidden Layers: [8, 4], Activation: Softmax, Epochs: 100, LR: 0.001, Batch Size: 64, Accuracy: 0.2692\n"
     ]
    },
    {
     "name": "stderr",
     "output_type": "stream",
     "text": [
      "C:\\Users\\user\\AppData\\Local\\Packages\\PythonSoftwareFoundation.Python.3.12_qbz5n2kfra8p0\\LocalCache\\local-packages\\Python312\\site-packages\\torch\\nn\\modules\\module.py:1736: UserWarning: Implicit dimension choice for softmax has been deprecated. Change the call to include dim=X as an argument.\n",
      "  return self._call_impl(*args, **kwargs)\n"
     ]
    },
    {
     "name": "stdout",
     "output_type": "stream",
     "text": [
      "Hidden Layers: [8, 4], Activation: Softmax, Epochs: 100, LR: 0.001, Batch Size: 128, Accuracy: 0.1923\n"
     ]
    },
    {
     "name": "stderr",
     "output_type": "stream",
     "text": [
      "C:\\Users\\user\\AppData\\Local\\Packages\\PythonSoftwareFoundation.Python.3.12_qbz5n2kfra8p0\\LocalCache\\local-packages\\Python312\\site-packages\\torch\\nn\\modules\\module.py:1736: UserWarning: Implicit dimension choice for softmax has been deprecated. Change the call to include dim=X as an argument.\n",
      "  return self._call_impl(*args, **kwargs)\n"
     ]
    },
    {
     "name": "stdout",
     "output_type": "stream",
     "text": [
      "Hidden Layers: [8, 4], Activation: Softmax, Epochs: 100, LR: 0.001, Batch Size: 256, Accuracy: 0.1923\n"
     ]
    },
    {
     "name": "stderr",
     "output_type": "stream",
     "text": [
      "C:\\Users\\user\\AppData\\Local\\Packages\\PythonSoftwareFoundation.Python.3.12_qbz5n2kfra8p0\\LocalCache\\local-packages\\Python312\\site-packages\\torch\\nn\\modules\\module.py:1736: UserWarning: Implicit dimension choice for softmax has been deprecated. Change the call to include dim=X as an argument.\n",
      "  return self._call_impl(*args, **kwargs)\n"
     ]
    },
    {
     "name": "stdout",
     "output_type": "stream",
     "text": [
      "Hidden Layers: [8, 4], Activation: Softmax, Epochs: 100, LR: 0.001, Batch Size: 512, Accuracy: 0.0769\n"
     ]
    },
    {
     "name": "stderr",
     "output_type": "stream",
     "text": [
      "C:\\Users\\user\\AppData\\Local\\Packages\\PythonSoftwareFoundation.Python.3.12_qbz5n2kfra8p0\\LocalCache\\local-packages\\Python312\\site-packages\\torch\\nn\\modules\\module.py:1736: UserWarning: Implicit dimension choice for softmax has been deprecated. Change the call to include dim=X as an argument.\n",
      "  return self._call_impl(*args, **kwargs)\n"
     ]
    },
    {
     "name": "stdout",
     "output_type": "stream",
     "text": [
      "Hidden Layers: [8, 4], Activation: Softmax, Epochs: 100, LR: 0.0001, Batch Size: 16, Accuracy: 0.1769\n"
     ]
    },
    {
     "name": "stderr",
     "output_type": "stream",
     "text": [
      "C:\\Users\\user\\AppData\\Local\\Packages\\PythonSoftwareFoundation.Python.3.12_qbz5n2kfra8p0\\LocalCache\\local-packages\\Python312\\site-packages\\torch\\nn\\modules\\module.py:1736: UserWarning: Implicit dimension choice for softmax has been deprecated. Change the call to include dim=X as an argument.\n",
      "  return self._call_impl(*args, **kwargs)\n"
     ]
    },
    {
     "name": "stdout",
     "output_type": "stream",
     "text": [
      "Hidden Layers: [8, 4], Activation: Softmax, Epochs: 100, LR: 0.0001, Batch Size: 32, Accuracy: 0.1923\n"
     ]
    },
    {
     "name": "stderr",
     "output_type": "stream",
     "text": [
      "C:\\Users\\user\\AppData\\Local\\Packages\\PythonSoftwareFoundation.Python.3.12_qbz5n2kfra8p0\\LocalCache\\local-packages\\Python312\\site-packages\\torch\\nn\\modules\\module.py:1736: UserWarning: Implicit dimension choice for softmax has been deprecated. Change the call to include dim=X as an argument.\n",
      "  return self._call_impl(*args, **kwargs)\n"
     ]
    },
    {
     "name": "stdout",
     "output_type": "stream",
     "text": [
      "Hidden Layers: [8, 4], Activation: Softmax, Epochs: 100, LR: 0.0001, Batch Size: 64, Accuracy: 0.1308\n"
     ]
    },
    {
     "name": "stderr",
     "output_type": "stream",
     "text": [
      "C:\\Users\\user\\AppData\\Local\\Packages\\PythonSoftwareFoundation.Python.3.12_qbz5n2kfra8p0\\LocalCache\\local-packages\\Python312\\site-packages\\torch\\nn\\modules\\module.py:1736: UserWarning: Implicit dimension choice for softmax has been deprecated. Change the call to include dim=X as an argument.\n",
      "  return self._call_impl(*args, **kwargs)\n"
     ]
    },
    {
     "name": "stdout",
     "output_type": "stream",
     "text": [
      "Hidden Layers: [8, 4], Activation: Softmax, Epochs: 100, LR: 0.0001, Batch Size: 128, Accuracy: 0.1308\n"
     ]
    },
    {
     "name": "stderr",
     "output_type": "stream",
     "text": [
      "C:\\Users\\user\\AppData\\Local\\Packages\\PythonSoftwareFoundation.Python.3.12_qbz5n2kfra8p0\\LocalCache\\local-packages\\Python312\\site-packages\\torch\\nn\\modules\\module.py:1736: UserWarning: Implicit dimension choice for softmax has been deprecated. Change the call to include dim=X as an argument.\n",
      "  return self._call_impl(*args, **kwargs)\n"
     ]
    },
    {
     "name": "stdout",
     "output_type": "stream",
     "text": [
      "Hidden Layers: [8, 4], Activation: Softmax, Epochs: 100, LR: 0.0001, Batch Size: 256, Accuracy: 0.0000\n"
     ]
    },
    {
     "name": "stderr",
     "output_type": "stream",
     "text": [
      "C:\\Users\\user\\AppData\\Local\\Packages\\PythonSoftwareFoundation.Python.3.12_qbz5n2kfra8p0\\LocalCache\\local-packages\\Python312\\site-packages\\torch\\nn\\modules\\module.py:1736: UserWarning: Implicit dimension choice for softmax has been deprecated. Change the call to include dim=X as an argument.\n",
      "  return self._call_impl(*args, **kwargs)\n"
     ]
    },
    {
     "name": "stdout",
     "output_type": "stream",
     "text": [
      "Hidden Layers: [8, 4], Activation: Softmax, Epochs: 100, LR: 0.0001, Batch Size: 512, Accuracy: 0.1308\n"
     ]
    },
    {
     "name": "stderr",
     "output_type": "stream",
     "text": [
      "C:\\Users\\user\\AppData\\Local\\Packages\\PythonSoftwareFoundation.Python.3.12_qbz5n2kfra8p0\\LocalCache\\local-packages\\Python312\\site-packages\\torch\\nn\\modules\\module.py:1736: UserWarning: Implicit dimension choice for softmax has been deprecated. Change the call to include dim=X as an argument.\n",
      "  return self._call_impl(*args, **kwargs)\n"
     ]
    },
    {
     "name": "stdout",
     "output_type": "stream",
     "text": [
      "Hidden Layers: [8, 4], Activation: Softmax, Epochs: 250, LR: 10, Batch Size: 16, Accuracy: 0.1923\n"
     ]
    },
    {
     "name": "stderr",
     "output_type": "stream",
     "text": [
      "C:\\Users\\user\\AppData\\Local\\Packages\\PythonSoftwareFoundation.Python.3.12_qbz5n2kfra8p0\\LocalCache\\local-packages\\Python312\\site-packages\\torch\\nn\\modules\\module.py:1736: UserWarning: Implicit dimension choice for softmax has been deprecated. Change the call to include dim=X as an argument.\n",
      "  return self._call_impl(*args, **kwargs)\n"
     ]
    },
    {
     "name": "stdout",
     "output_type": "stream",
     "text": [
      "Hidden Layers: [8, 4], Activation: Softmax, Epochs: 250, LR: 10, Batch Size: 32, Accuracy: 0.1231\n"
     ]
    },
    {
     "name": "stderr",
     "output_type": "stream",
     "text": [
      "C:\\Users\\user\\AppData\\Local\\Packages\\PythonSoftwareFoundation.Python.3.12_qbz5n2kfra8p0\\LocalCache\\local-packages\\Python312\\site-packages\\torch\\nn\\modules\\module.py:1736: UserWarning: Implicit dimension choice for softmax has been deprecated. Change the call to include dim=X as an argument.\n",
      "  return self._call_impl(*args, **kwargs)\n"
     ]
    },
    {
     "name": "stdout",
     "output_type": "stream",
     "text": [
      "Hidden Layers: [8, 4], Activation: Softmax, Epochs: 250, LR: 10, Batch Size: 64, Accuracy: 0.1923\n"
     ]
    },
    {
     "name": "stderr",
     "output_type": "stream",
     "text": [
      "C:\\Users\\user\\AppData\\Local\\Packages\\PythonSoftwareFoundation.Python.3.12_qbz5n2kfra8p0\\LocalCache\\local-packages\\Python312\\site-packages\\torch\\nn\\modules\\module.py:1736: UserWarning: Implicit dimension choice for softmax has been deprecated. Change the call to include dim=X as an argument.\n",
      "  return self._call_impl(*args, **kwargs)\n"
     ]
    },
    {
     "name": "stdout",
     "output_type": "stream",
     "text": [
      "Hidden Layers: [8, 4], Activation: Softmax, Epochs: 250, LR: 10, Batch Size: 128, Accuracy: 0.0769\n"
     ]
    },
    {
     "name": "stderr",
     "output_type": "stream",
     "text": [
      "C:\\Users\\user\\AppData\\Local\\Packages\\PythonSoftwareFoundation.Python.3.12_qbz5n2kfra8p0\\LocalCache\\local-packages\\Python312\\site-packages\\torch\\nn\\modules\\module.py:1736: UserWarning: Implicit dimension choice for softmax has been deprecated. Change the call to include dim=X as an argument.\n",
      "  return self._call_impl(*args, **kwargs)\n"
     ]
    },
    {
     "name": "stdout",
     "output_type": "stream",
     "text": [
      "Hidden Layers: [8, 4], Activation: Softmax, Epochs: 250, LR: 10, Batch Size: 256, Accuracy: 0.0923\n"
     ]
    },
    {
     "name": "stderr",
     "output_type": "stream",
     "text": [
      "C:\\Users\\user\\AppData\\Local\\Packages\\PythonSoftwareFoundation.Python.3.12_qbz5n2kfra8p0\\LocalCache\\local-packages\\Python312\\site-packages\\torch\\nn\\modules\\module.py:1736: UserWarning: Implicit dimension choice for softmax has been deprecated. Change the call to include dim=X as an argument.\n",
      "  return self._call_impl(*args, **kwargs)\n"
     ]
    },
    {
     "name": "stdout",
     "output_type": "stream",
     "text": [
      "Hidden Layers: [8, 4], Activation: Softmax, Epochs: 250, LR: 10, Batch Size: 512, Accuracy: 0.0923\n"
     ]
    },
    {
     "name": "stderr",
     "output_type": "stream",
     "text": [
      "C:\\Users\\user\\AppData\\Local\\Packages\\PythonSoftwareFoundation.Python.3.12_qbz5n2kfra8p0\\LocalCache\\local-packages\\Python312\\site-packages\\torch\\nn\\modules\\module.py:1736: UserWarning: Implicit dimension choice for softmax has been deprecated. Change the call to include dim=X as an argument.\n",
      "  return self._call_impl(*args, **kwargs)\n"
     ]
    },
    {
     "name": "stdout",
     "output_type": "stream",
     "text": [
      "Hidden Layers: [8, 4], Activation: Softmax, Epochs: 250, LR: 1, Batch Size: 16, Accuracy: 0.1308\n"
     ]
    },
    {
     "name": "stderr",
     "output_type": "stream",
     "text": [
      "C:\\Users\\user\\AppData\\Local\\Packages\\PythonSoftwareFoundation.Python.3.12_qbz5n2kfra8p0\\LocalCache\\local-packages\\Python312\\site-packages\\torch\\nn\\modules\\module.py:1736: UserWarning: Implicit dimension choice for softmax has been deprecated. Change the call to include dim=X as an argument.\n",
      "  return self._call_impl(*args, **kwargs)\n"
     ]
    },
    {
     "name": "stdout",
     "output_type": "stream",
     "text": [
      "Hidden Layers: [8, 4], Activation: Softmax, Epochs: 250, LR: 1, Batch Size: 32, Accuracy: 0.1308\n"
     ]
    },
    {
     "name": "stderr",
     "output_type": "stream",
     "text": [
      "C:\\Users\\user\\AppData\\Local\\Packages\\PythonSoftwareFoundation.Python.3.12_qbz5n2kfra8p0\\LocalCache\\local-packages\\Python312\\site-packages\\torch\\nn\\modules\\module.py:1736: UserWarning: Implicit dimension choice for softmax has been deprecated. Change the call to include dim=X as an argument.\n",
      "  return self._call_impl(*args, **kwargs)\n"
     ]
    },
    {
     "name": "stdout",
     "output_type": "stream",
     "text": [
      "Hidden Layers: [8, 4], Activation: Softmax, Epochs: 250, LR: 1, Batch Size: 64, Accuracy: 0.0923\n"
     ]
    },
    {
     "name": "stderr",
     "output_type": "stream",
     "text": [
      "C:\\Users\\user\\AppData\\Local\\Packages\\PythonSoftwareFoundation.Python.3.12_qbz5n2kfra8p0\\LocalCache\\local-packages\\Python312\\site-packages\\torch\\nn\\modules\\module.py:1736: UserWarning: Implicit dimension choice for softmax has been deprecated. Change the call to include dim=X as an argument.\n",
      "  return self._call_impl(*args, **kwargs)\n"
     ]
    },
    {
     "name": "stdout",
     "output_type": "stream",
     "text": [
      "Hidden Layers: [8, 4], Activation: Softmax, Epochs: 250, LR: 1, Batch Size: 128, Accuracy: 0.1231\n"
     ]
    },
    {
     "name": "stderr",
     "output_type": "stream",
     "text": [
      "C:\\Users\\user\\AppData\\Local\\Packages\\PythonSoftwareFoundation.Python.3.12_qbz5n2kfra8p0\\LocalCache\\local-packages\\Python312\\site-packages\\torch\\nn\\modules\\module.py:1736: UserWarning: Implicit dimension choice for softmax has been deprecated. Change the call to include dim=X as an argument.\n",
      "  return self._call_impl(*args, **kwargs)\n"
     ]
    },
    {
     "name": "stdout",
     "output_type": "stream",
     "text": [
      "Hidden Layers: [8, 4], Activation: Softmax, Epochs: 250, LR: 1, Batch Size: 256, Accuracy: 0.0923\n"
     ]
    },
    {
     "name": "stderr",
     "output_type": "stream",
     "text": [
      "C:\\Users\\user\\AppData\\Local\\Packages\\PythonSoftwareFoundation.Python.3.12_qbz5n2kfra8p0\\LocalCache\\local-packages\\Python312\\site-packages\\torch\\nn\\modules\\module.py:1736: UserWarning: Implicit dimension choice for softmax has been deprecated. Change the call to include dim=X as an argument.\n",
      "  return self._call_impl(*args, **kwargs)\n"
     ]
    },
    {
     "name": "stdout",
     "output_type": "stream",
     "text": [
      "Hidden Layers: [8, 4], Activation: Softmax, Epochs: 250, LR: 1, Batch Size: 512, Accuracy: 0.1231\n"
     ]
    },
    {
     "name": "stderr",
     "output_type": "stream",
     "text": [
      "C:\\Users\\user\\AppData\\Local\\Packages\\PythonSoftwareFoundation.Python.3.12_qbz5n2kfra8p0\\LocalCache\\local-packages\\Python312\\site-packages\\torch\\nn\\modules\\module.py:1736: UserWarning: Implicit dimension choice for softmax has been deprecated. Change the call to include dim=X as an argument.\n",
      "  return self._call_impl(*args, **kwargs)\n"
     ]
    },
    {
     "name": "stdout",
     "output_type": "stream",
     "text": [
      "Hidden Layers: [8, 4], Activation: Softmax, Epochs: 250, LR: 0.1, Batch Size: 16, Accuracy: 0.3154\n"
     ]
    },
    {
     "name": "stderr",
     "output_type": "stream",
     "text": [
      "C:\\Users\\user\\AppData\\Local\\Packages\\PythonSoftwareFoundation.Python.3.12_qbz5n2kfra8p0\\LocalCache\\local-packages\\Python312\\site-packages\\torch\\nn\\modules\\module.py:1736: UserWarning: Implicit dimension choice for softmax has been deprecated. Change the call to include dim=X as an argument.\n",
      "  return self._call_impl(*args, **kwargs)\n"
     ]
    },
    {
     "name": "stdout",
     "output_type": "stream",
     "text": [
      "Hidden Layers: [8, 4], Activation: Softmax, Epochs: 250, LR: 0.1, Batch Size: 32, Accuracy: 0.2462\n"
     ]
    },
    {
     "name": "stderr",
     "output_type": "stream",
     "text": [
      "C:\\Users\\user\\AppData\\Local\\Packages\\PythonSoftwareFoundation.Python.3.12_qbz5n2kfra8p0\\LocalCache\\local-packages\\Python312\\site-packages\\torch\\nn\\modules\\module.py:1736: UserWarning: Implicit dimension choice for softmax has been deprecated. Change the call to include dim=X as an argument.\n",
      "  return self._call_impl(*args, **kwargs)\n"
     ]
    },
    {
     "name": "stdout",
     "output_type": "stream",
     "text": [
      "Hidden Layers: [8, 4], Activation: Softmax, Epochs: 250, LR: 0.1, Batch Size: 64, Accuracy: 0.3615\n"
     ]
    },
    {
     "name": "stderr",
     "output_type": "stream",
     "text": [
      "C:\\Users\\user\\AppData\\Local\\Packages\\PythonSoftwareFoundation.Python.3.12_qbz5n2kfra8p0\\LocalCache\\local-packages\\Python312\\site-packages\\torch\\nn\\modules\\module.py:1736: UserWarning: Implicit dimension choice for softmax has been deprecated. Change the call to include dim=X as an argument.\n",
      "  return self._call_impl(*args, **kwargs)\n"
     ]
    },
    {
     "name": "stdout",
     "output_type": "stream",
     "text": [
      "Hidden Layers: [8, 4], Activation: Softmax, Epochs: 250, LR: 0.1, Batch Size: 128, Accuracy: 0.3154\n"
     ]
    },
    {
     "name": "stderr",
     "output_type": "stream",
     "text": [
      "C:\\Users\\user\\AppData\\Local\\Packages\\PythonSoftwareFoundation.Python.3.12_qbz5n2kfra8p0\\LocalCache\\local-packages\\Python312\\site-packages\\torch\\nn\\modules\\module.py:1736: UserWarning: Implicit dimension choice for softmax has been deprecated. Change the call to include dim=X as an argument.\n",
      "  return self._call_impl(*args, **kwargs)\n"
     ]
    },
    {
     "name": "stdout",
     "output_type": "stream",
     "text": [
      "Hidden Layers: [8, 4], Activation: Softmax, Epochs: 250, LR: 0.1, Batch Size: 256, Accuracy: 0.2769\n"
     ]
    },
    {
     "name": "stderr",
     "output_type": "stream",
     "text": [
      "C:\\Users\\user\\AppData\\Local\\Packages\\PythonSoftwareFoundation.Python.3.12_qbz5n2kfra8p0\\LocalCache\\local-packages\\Python312\\site-packages\\torch\\nn\\modules\\module.py:1736: UserWarning: Implicit dimension choice for softmax has been deprecated. Change the call to include dim=X as an argument.\n",
      "  return self._call_impl(*args, **kwargs)\n"
     ]
    },
    {
     "name": "stdout",
     "output_type": "stream",
     "text": [
      "Hidden Layers: [8, 4], Activation: Softmax, Epochs: 250, LR: 0.1, Batch Size: 512, Accuracy: 0.2385\n"
     ]
    },
    {
     "name": "stderr",
     "output_type": "stream",
     "text": [
      "C:\\Users\\user\\AppData\\Local\\Packages\\PythonSoftwareFoundation.Python.3.12_qbz5n2kfra8p0\\LocalCache\\local-packages\\Python312\\site-packages\\torch\\nn\\modules\\module.py:1736: UserWarning: Implicit dimension choice for softmax has been deprecated. Change the call to include dim=X as an argument.\n",
      "  return self._call_impl(*args, **kwargs)\n"
     ]
    },
    {
     "name": "stdout",
     "output_type": "stream",
     "text": [
      "Hidden Layers: [8, 4], Activation: Softmax, Epochs: 250, LR: 0.01, Batch Size: 16, Accuracy: 0.3154\n"
     ]
    },
    {
     "name": "stderr",
     "output_type": "stream",
     "text": [
      "C:\\Users\\user\\AppData\\Local\\Packages\\PythonSoftwareFoundation.Python.3.12_qbz5n2kfra8p0\\LocalCache\\local-packages\\Python312\\site-packages\\torch\\nn\\modules\\module.py:1736: UserWarning: Implicit dimension choice for softmax has been deprecated. Change the call to include dim=X as an argument.\n",
      "  return self._call_impl(*args, **kwargs)\n"
     ]
    },
    {
     "name": "stdout",
     "output_type": "stream",
     "text": [
      "Hidden Layers: [8, 4], Activation: Softmax, Epochs: 250, LR: 0.01, Batch Size: 32, Accuracy: 0.4308\n"
     ]
    },
    {
     "name": "stderr",
     "output_type": "stream",
     "text": [
      "C:\\Users\\user\\AppData\\Local\\Packages\\PythonSoftwareFoundation.Python.3.12_qbz5n2kfra8p0\\LocalCache\\local-packages\\Python312\\site-packages\\torch\\nn\\modules\\module.py:1736: UserWarning: Implicit dimension choice for softmax has been deprecated. Change the call to include dim=X as an argument.\n",
      "  return self._call_impl(*args, **kwargs)\n"
     ]
    },
    {
     "name": "stdout",
     "output_type": "stream",
     "text": [
      "Hidden Layers: [8, 4], Activation: Softmax, Epochs: 250, LR: 0.01, Batch Size: 64, Accuracy: 0.3846\n"
     ]
    },
    {
     "name": "stderr",
     "output_type": "stream",
     "text": [
      "C:\\Users\\user\\AppData\\Local\\Packages\\PythonSoftwareFoundation.Python.3.12_qbz5n2kfra8p0\\LocalCache\\local-packages\\Python312\\site-packages\\torch\\nn\\modules\\module.py:1736: UserWarning: Implicit dimension choice for softmax has been deprecated. Change the call to include dim=X as an argument.\n",
      "  return self._call_impl(*args, **kwargs)\n"
     ]
    },
    {
     "name": "stdout",
     "output_type": "stream",
     "text": [
      "Hidden Layers: [8, 4], Activation: Softmax, Epochs: 250, LR: 0.01, Batch Size: 128, Accuracy: 0.3000\n"
     ]
    },
    {
     "name": "stderr",
     "output_type": "stream",
     "text": [
      "C:\\Users\\user\\AppData\\Local\\Packages\\PythonSoftwareFoundation.Python.3.12_qbz5n2kfra8p0\\LocalCache\\local-packages\\Python312\\site-packages\\torch\\nn\\modules\\module.py:1736: UserWarning: Implicit dimension choice for softmax has been deprecated. Change the call to include dim=X as an argument.\n",
      "  return self._call_impl(*args, **kwargs)\n"
     ]
    },
    {
     "name": "stdout",
     "output_type": "stream",
     "text": [
      "Hidden Layers: [8, 4], Activation: Softmax, Epochs: 250, LR: 0.01, Batch Size: 256, Accuracy: 0.2308\n"
     ]
    },
    {
     "name": "stderr",
     "output_type": "stream",
     "text": [
      "C:\\Users\\user\\AppData\\Local\\Packages\\PythonSoftwareFoundation.Python.3.12_qbz5n2kfra8p0\\LocalCache\\local-packages\\Python312\\site-packages\\torch\\nn\\modules\\module.py:1736: UserWarning: Implicit dimension choice for softmax has been deprecated. Change the call to include dim=X as an argument.\n",
      "  return self._call_impl(*args, **kwargs)\n"
     ]
    },
    {
     "name": "stdout",
     "output_type": "stream",
     "text": [
      "Hidden Layers: [8, 4], Activation: Softmax, Epochs: 250, LR: 0.01, Batch Size: 512, Accuracy: 0.3308\n"
     ]
    },
    {
     "name": "stderr",
     "output_type": "stream",
     "text": [
      "C:\\Users\\user\\AppData\\Local\\Packages\\PythonSoftwareFoundation.Python.3.12_qbz5n2kfra8p0\\LocalCache\\local-packages\\Python312\\site-packages\\torch\\nn\\modules\\module.py:1736: UserWarning: Implicit dimension choice for softmax has been deprecated. Change the call to include dim=X as an argument.\n",
      "  return self._call_impl(*args, **kwargs)\n"
     ]
    },
    {
     "name": "stdout",
     "output_type": "stream",
     "text": [
      "Hidden Layers: [8, 4], Activation: Softmax, Epochs: 250, LR: 0.001, Batch Size: 16, Accuracy: 0.3231\n"
     ]
    },
    {
     "name": "stderr",
     "output_type": "stream",
     "text": [
      "C:\\Users\\user\\AppData\\Local\\Packages\\PythonSoftwareFoundation.Python.3.12_qbz5n2kfra8p0\\LocalCache\\local-packages\\Python312\\site-packages\\torch\\nn\\modules\\module.py:1736: UserWarning: Implicit dimension choice for softmax has been deprecated. Change the call to include dim=X as an argument.\n",
      "  return self._call_impl(*args, **kwargs)\n"
     ]
    },
    {
     "name": "stdout",
     "output_type": "stream",
     "text": [
      "Hidden Layers: [8, 4], Activation: Softmax, Epochs: 250, LR: 0.001, Batch Size: 32, Accuracy: 0.2462\n"
     ]
    },
    {
     "name": "stderr",
     "output_type": "stream",
     "text": [
      "C:\\Users\\user\\AppData\\Local\\Packages\\PythonSoftwareFoundation.Python.3.12_qbz5n2kfra8p0\\LocalCache\\local-packages\\Python312\\site-packages\\torch\\nn\\modules\\module.py:1736: UserWarning: Implicit dimension choice for softmax has been deprecated. Change the call to include dim=X as an argument.\n",
      "  return self._call_impl(*args, **kwargs)\n"
     ]
    },
    {
     "name": "stdout",
     "output_type": "stream",
     "text": [
      "Hidden Layers: [8, 4], Activation: Softmax, Epochs: 250, LR: 0.001, Batch Size: 64, Accuracy: 0.2154\n"
     ]
    },
    {
     "name": "stderr",
     "output_type": "stream",
     "text": [
      "C:\\Users\\user\\AppData\\Local\\Packages\\PythonSoftwareFoundation.Python.3.12_qbz5n2kfra8p0\\LocalCache\\local-packages\\Python312\\site-packages\\torch\\nn\\modules\\module.py:1736: UserWarning: Implicit dimension choice for softmax has been deprecated. Change the call to include dim=X as an argument.\n",
      "  return self._call_impl(*args, **kwargs)\n"
     ]
    },
    {
     "name": "stdout",
     "output_type": "stream",
     "text": [
      "Hidden Layers: [8, 4], Activation: Softmax, Epochs: 250, LR: 0.001, Batch Size: 128, Accuracy: 0.3154\n"
     ]
    },
    {
     "name": "stderr",
     "output_type": "stream",
     "text": [
      "C:\\Users\\user\\AppData\\Local\\Packages\\PythonSoftwareFoundation.Python.3.12_qbz5n2kfra8p0\\LocalCache\\local-packages\\Python312\\site-packages\\torch\\nn\\modules\\module.py:1736: UserWarning: Implicit dimension choice for softmax has been deprecated. Change the call to include dim=X as an argument.\n",
      "  return self._call_impl(*args, **kwargs)\n"
     ]
    },
    {
     "name": "stdout",
     "output_type": "stream",
     "text": [
      "Hidden Layers: [8, 4], Activation: Softmax, Epochs: 250, LR: 0.001, Batch Size: 256, Accuracy: 0.1308\n"
     ]
    },
    {
     "name": "stderr",
     "output_type": "stream",
     "text": [
      "C:\\Users\\user\\AppData\\Local\\Packages\\PythonSoftwareFoundation.Python.3.12_qbz5n2kfra8p0\\LocalCache\\local-packages\\Python312\\site-packages\\torch\\nn\\modules\\module.py:1736: UserWarning: Implicit dimension choice for softmax has been deprecated. Change the call to include dim=X as an argument.\n",
      "  return self._call_impl(*args, **kwargs)\n"
     ]
    },
    {
     "name": "stdout",
     "output_type": "stream",
     "text": [
      "Hidden Layers: [8, 4], Activation: Softmax, Epochs: 250, LR: 0.001, Batch Size: 512, Accuracy: 0.1308\n"
     ]
    },
    {
     "name": "stderr",
     "output_type": "stream",
     "text": [
      "C:\\Users\\user\\AppData\\Local\\Packages\\PythonSoftwareFoundation.Python.3.12_qbz5n2kfra8p0\\LocalCache\\local-packages\\Python312\\site-packages\\torch\\nn\\modules\\module.py:1736: UserWarning: Implicit dimension choice for softmax has been deprecated. Change the call to include dim=X as an argument.\n",
      "  return self._call_impl(*args, **kwargs)\n"
     ]
    },
    {
     "name": "stdout",
     "output_type": "stream",
     "text": [
      "Hidden Layers: [8, 4], Activation: Softmax, Epochs: 250, LR: 0.0001, Batch Size: 16, Accuracy: 0.2462\n"
     ]
    },
    {
     "name": "stderr",
     "output_type": "stream",
     "text": [
      "C:\\Users\\user\\AppData\\Local\\Packages\\PythonSoftwareFoundation.Python.3.12_qbz5n2kfra8p0\\LocalCache\\local-packages\\Python312\\site-packages\\torch\\nn\\modules\\module.py:1736: UserWarning: Implicit dimension choice for softmax has been deprecated. Change the call to include dim=X as an argument.\n",
      "  return self._call_impl(*args, **kwargs)\n"
     ]
    },
    {
     "name": "stdout",
     "output_type": "stream",
     "text": [
      "Hidden Layers: [8, 4], Activation: Softmax, Epochs: 250, LR: 0.0001, Batch Size: 32, Accuracy: 0.1692\n"
     ]
    },
    {
     "name": "stderr",
     "output_type": "stream",
     "text": [
      "C:\\Users\\user\\AppData\\Local\\Packages\\PythonSoftwareFoundation.Python.3.12_qbz5n2kfra8p0\\LocalCache\\local-packages\\Python312\\site-packages\\torch\\nn\\modules\\module.py:1736: UserWarning: Implicit dimension choice for softmax has been deprecated. Change the call to include dim=X as an argument.\n",
      "  return self._call_impl(*args, **kwargs)\n"
     ]
    },
    {
     "name": "stdout",
     "output_type": "stream",
     "text": [
      "Hidden Layers: [8, 4], Activation: Softmax, Epochs: 250, LR: 0.0001, Batch Size: 64, Accuracy: 0.0923\n"
     ]
    },
    {
     "name": "stderr",
     "output_type": "stream",
     "text": [
      "C:\\Users\\user\\AppData\\Local\\Packages\\PythonSoftwareFoundation.Python.3.12_qbz5n2kfra8p0\\LocalCache\\local-packages\\Python312\\site-packages\\torch\\nn\\modules\\module.py:1736: UserWarning: Implicit dimension choice for softmax has been deprecated. Change the call to include dim=X as an argument.\n",
      "  return self._call_impl(*args, **kwargs)\n"
     ]
    },
    {
     "name": "stdout",
     "output_type": "stream",
     "text": [
      "Hidden Layers: [8, 4], Activation: Softmax, Epochs: 250, LR: 0.0001, Batch Size: 128, Accuracy: 0.1000\n"
     ]
    },
    {
     "name": "stderr",
     "output_type": "stream",
     "text": [
      "C:\\Users\\user\\AppData\\Local\\Packages\\PythonSoftwareFoundation.Python.3.12_qbz5n2kfra8p0\\LocalCache\\local-packages\\Python312\\site-packages\\torch\\nn\\modules\\module.py:1736: UserWarning: Implicit dimension choice for softmax has been deprecated. Change the call to include dim=X as an argument.\n",
      "  return self._call_impl(*args, **kwargs)\n"
     ]
    },
    {
     "name": "stdout",
     "output_type": "stream",
     "text": [
      "Hidden Layers: [8, 4], Activation: Softmax, Epochs: 250, LR: 0.0001, Batch Size: 256, Accuracy: 0.0385\n"
     ]
    },
    {
     "name": "stderr",
     "output_type": "stream",
     "text": [
      "C:\\Users\\user\\AppData\\Local\\Packages\\PythonSoftwareFoundation.Python.3.12_qbz5n2kfra8p0\\LocalCache\\local-packages\\Python312\\site-packages\\torch\\nn\\modules\\module.py:1736: UserWarning: Implicit dimension choice for softmax has been deprecated. Change the call to include dim=X as an argument.\n",
      "  return self._call_impl(*args, **kwargs)\n"
     ]
    },
    {
     "name": "stdout",
     "output_type": "stream",
     "text": [
      "Hidden Layers: [8, 4], Activation: Softmax, Epochs: 250, LR: 0.0001, Batch Size: 512, Accuracy: 0.1308\n",
      "Hidden Layers: [8, 4], Activation: Tanh, Epochs: 1, LR: 10, Batch Size: 16, Accuracy: 0.0308\n",
      "Hidden Layers: [8, 4], Activation: Tanh, Epochs: 1, LR: 10, Batch Size: 32, Accuracy: 0.1308\n",
      "Hidden Layers: [8, 4], Activation: Tanh, Epochs: 1, LR: 10, Batch Size: 64, Accuracy: 0.0231\n",
      "Hidden Layers: [8, 4], Activation: Tanh, Epochs: 1, LR: 10, Batch Size: 128, Accuracy: 0.0385\n",
      "Hidden Layers: [8, 4], Activation: Tanh, Epochs: 1, LR: 10, Batch Size: 256, Accuracy: 0.1923\n",
      "Hidden Layers: [8, 4], Activation: Tanh, Epochs: 1, LR: 10, Batch Size: 512, Accuracy: 0.1000\n",
      "Hidden Layers: [8, 4], Activation: Tanh, Epochs: 1, LR: 1, Batch Size: 16, Accuracy: 0.1231\n",
      "Hidden Layers: [8, 4], Activation: Tanh, Epochs: 1, LR: 1, Batch Size: 32, Accuracy: 0.0769\n",
      "Hidden Layers: [8, 4], Activation: Tanh, Epochs: 1, LR: 1, Batch Size: 64, Accuracy: 0.0385\n",
      "Hidden Layers: [8, 4], Activation: Tanh, Epochs: 1, LR: 1, Batch Size: 128, Accuracy: 0.1000\n",
      "Hidden Layers: [8, 4], Activation: Tanh, Epochs: 1, LR: 1, Batch Size: 256, Accuracy: 0.0769\n",
      "Hidden Layers: [8, 4], Activation: Tanh, Epochs: 1, LR: 1, Batch Size: 512, Accuracy: 0.1077\n",
      "Hidden Layers: [8, 4], Activation: Tanh, Epochs: 1, LR: 0.1, Batch Size: 16, Accuracy: 0.2923\n",
      "Hidden Layers: [8, 4], Activation: Tanh, Epochs: 1, LR: 0.1, Batch Size: 32, Accuracy: 0.1692\n",
      "Hidden Layers: [8, 4], Activation: Tanh, Epochs: 1, LR: 0.1, Batch Size: 64, Accuracy: 0.2154\n",
      "Hidden Layers: [8, 4], Activation: Tanh, Epochs: 1, LR: 0.1, Batch Size: 128, Accuracy: 0.2615\n",
      "Hidden Layers: [8, 4], Activation: Tanh, Epochs: 1, LR: 0.1, Batch Size: 256, Accuracy: 0.1308\n",
      "Hidden Layers: [8, 4], Activation: Tanh, Epochs: 1, LR: 0.1, Batch Size: 512, Accuracy: 0.1000\n",
      "Hidden Layers: [8, 4], Activation: Tanh, Epochs: 1, LR: 0.01, Batch Size: 16, Accuracy: 0.1923\n",
      "Hidden Layers: [8, 4], Activation: Tanh, Epochs: 1, LR: 0.01, Batch Size: 32, Accuracy: 0.1154\n",
      "Hidden Layers: [8, 4], Activation: Tanh, Epochs: 1, LR: 0.01, Batch Size: 64, Accuracy: 0.0692\n",
      "Hidden Layers: [8, 4], Activation: Tanh, Epochs: 1, LR: 0.01, Batch Size: 128, Accuracy: 0.1615\n",
      "Hidden Layers: [8, 4], Activation: Tanh, Epochs: 1, LR: 0.01, Batch Size: 256, Accuracy: 0.0462\n",
      "Hidden Layers: [8, 4], Activation: Tanh, Epochs: 1, LR: 0.01, Batch Size: 512, Accuracy: 0.0615\n",
      "Hidden Layers: [8, 4], Activation: Tanh, Epochs: 1, LR: 0.001, Batch Size: 16, Accuracy: 0.1538\n",
      "Hidden Layers: [8, 4], Activation: Tanh, Epochs: 1, LR: 0.001, Batch Size: 32, Accuracy: 0.0769\n",
      "Hidden Layers: [8, 4], Activation: Tanh, Epochs: 1, LR: 0.001, Batch Size: 64, Accuracy: 0.0615\n",
      "Hidden Layers: [8, 4], Activation: Tanh, Epochs: 1, LR: 0.001, Batch Size: 128, Accuracy: 0.0077\n",
      "Hidden Layers: [8, 4], Activation: Tanh, Epochs: 1, LR: 0.001, Batch Size: 256, Accuracy: 0.0000\n",
      "Hidden Layers: [8, 4], Activation: Tanh, Epochs: 1, LR: 0.001, Batch Size: 512, Accuracy: 0.0385\n",
      "Hidden Layers: [8, 4], Activation: Tanh, Epochs: 1, LR: 0.0001, Batch Size: 16, Accuracy: 0.0923\n",
      "Hidden Layers: [8, 4], Activation: Tanh, Epochs: 1, LR: 0.0001, Batch Size: 32, Accuracy: 0.0308\n",
      "Hidden Layers: [8, 4], Activation: Tanh, Epochs: 1, LR: 0.0001, Batch Size: 64, Accuracy: 0.0231\n",
      "Hidden Layers: [8, 4], Activation: Tanh, Epochs: 1, LR: 0.0001, Batch Size: 128, Accuracy: 0.0923\n",
      "Hidden Layers: [8, 4], Activation: Tanh, Epochs: 1, LR: 0.0001, Batch Size: 256, Accuracy: 0.0154\n",
      "Hidden Layers: [8, 4], Activation: Tanh, Epochs: 1, LR: 0.0001, Batch Size: 512, Accuracy: 0.0000\n",
      "Hidden Layers: [8, 4], Activation: Tanh, Epochs: 10, LR: 10, Batch Size: 16, Accuracy: 0.0462\n",
      "Hidden Layers: [8, 4], Activation: Tanh, Epochs: 10, LR: 10, Batch Size: 32, Accuracy: 0.1077\n",
      "Hidden Layers: [8, 4], Activation: Tanh, Epochs: 10, LR: 10, Batch Size: 64, Accuracy: 0.0615\n",
      "Hidden Layers: [8, 4], Activation: Tanh, Epochs: 10, LR: 10, Batch Size: 128, Accuracy: 0.0923\n",
      "Hidden Layers: [8, 4], Activation: Tanh, Epochs: 10, LR: 10, Batch Size: 256, Accuracy: 0.0538\n",
      "Hidden Layers: [8, 4], Activation: Tanh, Epochs: 10, LR: 10, Batch Size: 512, Accuracy: 0.0077\n",
      "Hidden Layers: [8, 4], Activation: Tanh, Epochs: 10, LR: 1, Batch Size: 16, Accuracy: 0.0923\n",
      "Hidden Layers: [8, 4], Activation: Tanh, Epochs: 10, LR: 1, Batch Size: 32, Accuracy: 0.1923\n",
      "Hidden Layers: [8, 4], Activation: Tanh, Epochs: 10, LR: 1, Batch Size: 64, Accuracy: 0.0769\n",
      "Hidden Layers: [8, 4], Activation: Tanh, Epochs: 10, LR: 1, Batch Size: 128, Accuracy: 0.0538\n",
      "Hidden Layers: [8, 4], Activation: Tanh, Epochs: 10, LR: 1, Batch Size: 256, Accuracy: 0.1000\n",
      "Hidden Layers: [8, 4], Activation: Tanh, Epochs: 10, LR: 1, Batch Size: 512, Accuracy: 0.1923\n",
      "Hidden Layers: [8, 4], Activation: Tanh, Epochs: 10, LR: 0.1, Batch Size: 16, Accuracy: 0.1846\n",
      "Hidden Layers: [8, 4], Activation: Tanh, Epochs: 10, LR: 0.1, Batch Size: 32, Accuracy: 0.3154\n",
      "Hidden Layers: [8, 4], Activation: Tanh, Epochs: 10, LR: 0.1, Batch Size: 64, Accuracy: 0.3154\n",
      "Hidden Layers: [8, 4], Activation: Tanh, Epochs: 10, LR: 0.1, Batch Size: 128, Accuracy: 0.3538\n",
      "Hidden Layers: [8, 4], Activation: Tanh, Epochs: 10, LR: 0.1, Batch Size: 256, Accuracy: 0.2385\n",
      "Hidden Layers: [8, 4], Activation: Tanh, Epochs: 10, LR: 0.1, Batch Size: 512, Accuracy: 0.2308\n",
      "Hidden Layers: [8, 4], Activation: Tanh, Epochs: 10, LR: 0.01, Batch Size: 16, Accuracy: 0.3846\n",
      "Hidden Layers: [8, 4], Activation: Tanh, Epochs: 10, LR: 0.01, Batch Size: 32, Accuracy: 0.3538\n",
      "Hidden Layers: [8, 4], Activation: Tanh, Epochs: 10, LR: 0.01, Batch Size: 64, Accuracy: 0.3615\n",
      "Hidden Layers: [8, 4], Activation: Tanh, Epochs: 10, LR: 0.01, Batch Size: 128, Accuracy: 0.2385\n",
      "Hidden Layers: [8, 4], Activation: Tanh, Epochs: 10, LR: 0.01, Batch Size: 256, Accuracy: 0.1923\n",
      "Hidden Layers: [8, 4], Activation: Tanh, Epochs: 10, LR: 0.01, Batch Size: 512, Accuracy: 0.1923\n",
      "Hidden Layers: [8, 4], Activation: Tanh, Epochs: 10, LR: 0.001, Batch Size: 16, Accuracy: 0.1385\n",
      "Hidden Layers: [8, 4], Activation: Tanh, Epochs: 10, LR: 0.001, Batch Size: 32, Accuracy: 0.1462\n",
      "Hidden Layers: [8, 4], Activation: Tanh, Epochs: 10, LR: 0.001, Batch Size: 64, Accuracy: 0.1615\n",
      "Hidden Layers: [8, 4], Activation: Tanh, Epochs: 10, LR: 0.001, Batch Size: 128, Accuracy: 0.0462\n",
      "Hidden Layers: [8, 4], Activation: Tanh, Epochs: 10, LR: 0.001, Batch Size: 256, Accuracy: 0.0692\n",
      "Hidden Layers: [8, 4], Activation: Tanh, Epochs: 10, LR: 0.001, Batch Size: 512, Accuracy: 0.0692\n",
      "Hidden Layers: [8, 4], Activation: Tanh, Epochs: 10, LR: 0.0001, Batch Size: 16, Accuracy: 0.0154\n",
      "Hidden Layers: [8, 4], Activation: Tanh, Epochs: 10, LR: 0.0001, Batch Size: 32, Accuracy: 0.2000\n",
      "Hidden Layers: [8, 4], Activation: Tanh, Epochs: 10, LR: 0.0001, Batch Size: 64, Accuracy: 0.0308\n",
      "Hidden Layers: [8, 4], Activation: Tanh, Epochs: 10, LR: 0.0001, Batch Size: 128, Accuracy: 0.0692\n",
      "Hidden Layers: [8, 4], Activation: Tanh, Epochs: 10, LR: 0.0001, Batch Size: 256, Accuracy: 0.1077\n",
      "Hidden Layers: [8, 4], Activation: Tanh, Epochs: 10, LR: 0.0001, Batch Size: 512, Accuracy: 0.0077\n",
      "Hidden Layers: [8, 4], Activation: Tanh, Epochs: 25, LR: 10, Batch Size: 16, Accuracy: 0.0231\n",
      "Hidden Layers: [8, 4], Activation: Tanh, Epochs: 25, LR: 10, Batch Size: 32, Accuracy: 0.1154\n",
      "Hidden Layers: [8, 4], Activation: Tanh, Epochs: 25, LR: 10, Batch Size: 64, Accuracy: 0.1692\n",
      "Hidden Layers: [8, 4], Activation: Tanh, Epochs: 25, LR: 10, Batch Size: 128, Accuracy: 0.1923\n",
      "Hidden Layers: [8, 4], Activation: Tanh, Epochs: 25, LR: 10, Batch Size: 256, Accuracy: 0.1308\n",
      "Hidden Layers: [8, 4], Activation: Tanh, Epochs: 25, LR: 10, Batch Size: 512, Accuracy: 0.0846\n",
      "Hidden Layers: [8, 4], Activation: Tanh, Epochs: 25, LR: 1, Batch Size: 16, Accuracy: 0.0923\n",
      "Hidden Layers: [8, 4], Activation: Tanh, Epochs: 25, LR: 1, Batch Size: 32, Accuracy: 0.1923\n",
      "Hidden Layers: [8, 4], Activation: Tanh, Epochs: 25, LR: 1, Batch Size: 64, Accuracy: 0.1077\n",
      "Hidden Layers: [8, 4], Activation: Tanh, Epochs: 25, LR: 1, Batch Size: 128, Accuracy: 0.1154\n",
      "Hidden Layers: [8, 4], Activation: Tanh, Epochs: 25, LR: 1, Batch Size: 256, Accuracy: 0.2077\n",
      "Hidden Layers: [8, 4], Activation: Tanh, Epochs: 25, LR: 1, Batch Size: 512, Accuracy: 0.1308\n",
      "Hidden Layers: [8, 4], Activation: Tanh, Epochs: 25, LR: 0.1, Batch Size: 16, Accuracy: 0.2154\n",
      "Hidden Layers: [8, 4], Activation: Tanh, Epochs: 25, LR: 0.1, Batch Size: 32, Accuracy: 0.2615\n",
      "Hidden Layers: [8, 4], Activation: Tanh, Epochs: 25, LR: 0.1, Batch Size: 64, Accuracy: 0.3385\n",
      "Hidden Layers: [8, 4], Activation: Tanh, Epochs: 25, LR: 0.1, Batch Size: 128, Accuracy: 0.3462\n",
      "Hidden Layers: [8, 4], Activation: Tanh, Epochs: 25, LR: 0.1, Batch Size: 256, Accuracy: 0.3231\n",
      "Hidden Layers: [8, 4], Activation: Tanh, Epochs: 25, LR: 0.1, Batch Size: 512, Accuracy: 0.2692\n",
      "Hidden Layers: [8, 4], Activation: Tanh, Epochs: 25, LR: 0.01, Batch Size: 16, Accuracy: 0.3538\n",
      "Hidden Layers: [8, 4], Activation: Tanh, Epochs: 25, LR: 0.01, Batch Size: 32, Accuracy: 0.4154\n",
      "Hidden Layers: [8, 4], Activation: Tanh, Epochs: 25, LR: 0.01, Batch Size: 64, Accuracy: 0.3923\n",
      "Hidden Layers: [8, 4], Activation: Tanh, Epochs: 25, LR: 0.01, Batch Size: 128, Accuracy: 0.3615\n",
      "Hidden Layers: [8, 4], Activation: Tanh, Epochs: 25, LR: 0.01, Batch Size: 256, Accuracy: 0.1923\n",
      "Hidden Layers: [8, 4], Activation: Tanh, Epochs: 25, LR: 0.01, Batch Size: 512, Accuracy: 0.2154\n",
      "Hidden Layers: [8, 4], Activation: Tanh, Epochs: 25, LR: 0.001, Batch Size: 16, Accuracy: 0.3154\n",
      "Hidden Layers: [8, 4], Activation: Tanh, Epochs: 25, LR: 0.001, Batch Size: 32, Accuracy: 0.2769\n",
      "Hidden Layers: [8, 4], Activation: Tanh, Epochs: 25, LR: 0.001, Batch Size: 64, Accuracy: 0.2077\n",
      "Hidden Layers: [8, 4], Activation: Tanh, Epochs: 25, LR: 0.001, Batch Size: 128, Accuracy: 0.2231\n",
      "Hidden Layers: [8, 4], Activation: Tanh, Epochs: 25, LR: 0.001, Batch Size: 256, Accuracy: 0.1077\n",
      "Hidden Layers: [8, 4], Activation: Tanh, Epochs: 25, LR: 0.001, Batch Size: 512, Accuracy: 0.1308\n",
      "Hidden Layers: [8, 4], Activation: Tanh, Epochs: 25, LR: 0.0001, Batch Size: 16, Accuracy: 0.1077\n",
      "Hidden Layers: [8, 4], Activation: Tanh, Epochs: 25, LR: 0.0001, Batch Size: 32, Accuracy: 0.1154\n",
      "Hidden Layers: [8, 4], Activation: Tanh, Epochs: 25, LR: 0.0001, Batch Size: 64, Accuracy: 0.0615\n",
      "Hidden Layers: [8, 4], Activation: Tanh, Epochs: 25, LR: 0.0001, Batch Size: 128, Accuracy: 0.0077\n",
      "Hidden Layers: [8, 4], Activation: Tanh, Epochs: 25, LR: 0.0001, Batch Size: 256, Accuracy: 0.0769\n",
      "Hidden Layers: [8, 4], Activation: Tanh, Epochs: 25, LR: 0.0001, Batch Size: 512, Accuracy: 0.0000\n",
      "Hidden Layers: [8, 4], Activation: Tanh, Epochs: 50, LR: 10, Batch Size: 16, Accuracy: 0.1846\n",
      "Hidden Layers: [8, 4], Activation: Tanh, Epochs: 50, LR: 10, Batch Size: 32, Accuracy: 0.1308\n",
      "Hidden Layers: [8, 4], Activation: Tanh, Epochs: 50, LR: 10, Batch Size: 64, Accuracy: 0.1000\n",
      "Hidden Layers: [8, 4], Activation: Tanh, Epochs: 50, LR: 10, Batch Size: 128, Accuracy: 0.1077\n",
      "Hidden Layers: [8, 4], Activation: Tanh, Epochs: 50, LR: 10, Batch Size: 256, Accuracy: 0.1308\n",
      "Hidden Layers: [8, 4], Activation: Tanh, Epochs: 50, LR: 10, Batch Size: 512, Accuracy: 0.0923\n",
      "Hidden Layers: [8, 4], Activation: Tanh, Epochs: 50, LR: 1, Batch Size: 16, Accuracy: 0.1308\n",
      "Hidden Layers: [8, 4], Activation: Tanh, Epochs: 50, LR: 1, Batch Size: 32, Accuracy: 0.0769\n",
      "Hidden Layers: [8, 4], Activation: Tanh, Epochs: 50, LR: 1, Batch Size: 64, Accuracy: 0.1308\n",
      "Hidden Layers: [8, 4], Activation: Tanh, Epochs: 50, LR: 1, Batch Size: 128, Accuracy: 0.1692\n",
      "Hidden Layers: [8, 4], Activation: Tanh, Epochs: 50, LR: 1, Batch Size: 256, Accuracy: 0.1308\n",
      "Hidden Layers: [8, 4], Activation: Tanh, Epochs: 50, LR: 1, Batch Size: 512, Accuracy: 0.1308\n",
      "Hidden Layers: [8, 4], Activation: Tanh, Epochs: 50, LR: 0.1, Batch Size: 16, Accuracy: 0.3154\n",
      "Hidden Layers: [8, 4], Activation: Tanh, Epochs: 50, LR: 0.1, Batch Size: 32, Accuracy: 0.3769\n",
      "Hidden Layers: [8, 4], Activation: Tanh, Epochs: 50, LR: 0.1, Batch Size: 64, Accuracy: 0.3615\n",
      "Hidden Layers: [8, 4], Activation: Tanh, Epochs: 50, LR: 0.1, Batch Size: 128, Accuracy: 0.2769\n",
      "Hidden Layers: [8, 4], Activation: Tanh, Epochs: 50, LR: 0.1, Batch Size: 256, Accuracy: 0.2615\n",
      "Hidden Layers: [8, 4], Activation: Tanh, Epochs: 50, LR: 0.1, Batch Size: 512, Accuracy: 0.2462\n",
      "Hidden Layers: [8, 4], Activation: Tanh, Epochs: 50, LR: 0.01, Batch Size: 16, Accuracy: 0.3846\n",
      "Hidden Layers: [8, 4], Activation: Tanh, Epochs: 50, LR: 0.01, Batch Size: 32, Accuracy: 0.3692\n",
      "Hidden Layers: [8, 4], Activation: Tanh, Epochs: 50, LR: 0.01, Batch Size: 64, Accuracy: 0.3692\n",
      "Hidden Layers: [8, 4], Activation: Tanh, Epochs: 50, LR: 0.01, Batch Size: 128, Accuracy: 0.3846\n",
      "Hidden Layers: [8, 4], Activation: Tanh, Epochs: 50, LR: 0.01, Batch Size: 256, Accuracy: 0.3077\n",
      "Hidden Layers: [8, 4], Activation: Tanh, Epochs: 50, LR: 0.01, Batch Size: 512, Accuracy: 0.2231\n",
      "Hidden Layers: [8, 4], Activation: Tanh, Epochs: 50, LR: 0.001, Batch Size: 16, Accuracy: 0.4154\n",
      "Hidden Layers: [8, 4], Activation: Tanh, Epochs: 50, LR: 0.001, Batch Size: 32, Accuracy: 0.3692\n",
      "Hidden Layers: [8, 4], Activation: Tanh, Epochs: 50, LR: 0.001, Batch Size: 64, Accuracy: 0.2615\n",
      "Hidden Layers: [8, 4], Activation: Tanh, Epochs: 50, LR: 0.001, Batch Size: 128, Accuracy: 0.2000\n",
      "Hidden Layers: [8, 4], Activation: Tanh, Epochs: 50, LR: 0.001, Batch Size: 256, Accuracy: 0.1923\n",
      "Hidden Layers: [8, 4], Activation: Tanh, Epochs: 50, LR: 0.001, Batch Size: 512, Accuracy: 0.0923\n",
      "Hidden Layers: [8, 4], Activation: Tanh, Epochs: 50, LR: 0.0001, Batch Size: 16, Accuracy: 0.1538\n",
      "Hidden Layers: [8, 4], Activation: Tanh, Epochs: 50, LR: 0.0001, Batch Size: 32, Accuracy: 0.1385\n",
      "Hidden Layers: [8, 4], Activation: Tanh, Epochs: 50, LR: 0.0001, Batch Size: 64, Accuracy: 0.1231\n",
      "Hidden Layers: [8, 4], Activation: Tanh, Epochs: 50, LR: 0.0001, Batch Size: 128, Accuracy: 0.0538\n",
      "Hidden Layers: [8, 4], Activation: Tanh, Epochs: 50, LR: 0.0001, Batch Size: 256, Accuracy: 0.0846\n",
      "Hidden Layers: [8, 4], Activation: Tanh, Epochs: 50, LR: 0.0001, Batch Size: 512, Accuracy: 0.0000\n",
      "Hidden Layers: [8, 4], Activation: Tanh, Epochs: 100, LR: 10, Batch Size: 16, Accuracy: 0.1154\n",
      "Hidden Layers: [8, 4], Activation: Tanh, Epochs: 100, LR: 10, Batch Size: 32, Accuracy: 0.0077\n",
      "Hidden Layers: [8, 4], Activation: Tanh, Epochs: 100, LR: 10, Batch Size: 64, Accuracy: 0.0923\n",
      "Hidden Layers: [8, 4], Activation: Tanh, Epochs: 100, LR: 10, Batch Size: 128, Accuracy: 0.0769\n",
      "Hidden Layers: [8, 4], Activation: Tanh, Epochs: 100, LR: 10, Batch Size: 256, Accuracy: 0.1000\n",
      "Hidden Layers: [8, 4], Activation: Tanh, Epochs: 100, LR: 10, Batch Size: 512, Accuracy: 0.0923\n",
      "Hidden Layers: [8, 4], Activation: Tanh, Epochs: 100, LR: 1, Batch Size: 16, Accuracy: 0.1308\n",
      "Hidden Layers: [8, 4], Activation: Tanh, Epochs: 100, LR: 1, Batch Size: 32, Accuracy: 0.0462\n",
      "Hidden Layers: [8, 4], Activation: Tanh, Epochs: 100, LR: 1, Batch Size: 64, Accuracy: 0.1308\n",
      "Hidden Layers: [8, 4], Activation: Tanh, Epochs: 100, LR: 1, Batch Size: 128, Accuracy: 0.0385\n",
      "Hidden Layers: [8, 4], Activation: Tanh, Epochs: 100, LR: 1, Batch Size: 256, Accuracy: 0.1000\n",
      "Hidden Layers: [8, 4], Activation: Tanh, Epochs: 100, LR: 1, Batch Size: 512, Accuracy: 0.0923\n",
      "Hidden Layers: [8, 4], Activation: Tanh, Epochs: 100, LR: 0.1, Batch Size: 16, Accuracy: 0.3154\n",
      "Hidden Layers: [8, 4], Activation: Tanh, Epochs: 100, LR: 0.1, Batch Size: 32, Accuracy: 0.3308\n",
      "Hidden Layers: [8, 4], Activation: Tanh, Epochs: 100, LR: 0.1, Batch Size: 64, Accuracy: 0.3538\n",
      "Hidden Layers: [8, 4], Activation: Tanh, Epochs: 100, LR: 0.1, Batch Size: 128, Accuracy: 0.2769\n",
      "Hidden Layers: [8, 4], Activation: Tanh, Epochs: 100, LR: 0.1, Batch Size: 256, Accuracy: 0.3308\n",
      "Hidden Layers: [8, 4], Activation: Tanh, Epochs: 100, LR: 0.1, Batch Size: 512, Accuracy: 0.3385\n",
      "Hidden Layers: [8, 4], Activation: Tanh, Epochs: 100, LR: 0.01, Batch Size: 16, Accuracy: 0.3846\n",
      "Hidden Layers: [8, 4], Activation: Tanh, Epochs: 100, LR: 0.01, Batch Size: 32, Accuracy: 0.3462\n",
      "Hidden Layers: [8, 4], Activation: Tanh, Epochs: 100, LR: 0.01, Batch Size: 64, Accuracy: 0.3846\n",
      "Hidden Layers: [8, 4], Activation: Tanh, Epochs: 100, LR: 0.01, Batch Size: 128, Accuracy: 0.3538\n",
      "Hidden Layers: [8, 4], Activation: Tanh, Epochs: 100, LR: 0.01, Batch Size: 256, Accuracy: 0.4308\n",
      "Hidden Layers: [8, 4], Activation: Tanh, Epochs: 100, LR: 0.01, Batch Size: 512, Accuracy: 0.3154\n",
      "Hidden Layers: [8, 4], Activation: Tanh, Epochs: 100, LR: 0.001, Batch Size: 16, Accuracy: 0.4154\n",
      "Hidden Layers: [8, 4], Activation: Tanh, Epochs: 100, LR: 0.001, Batch Size: 32, Accuracy: 0.4000\n",
      "Hidden Layers: [8, 4], Activation: Tanh, Epochs: 100, LR: 0.001, Batch Size: 64, Accuracy: 0.3538\n",
      "Hidden Layers: [8, 4], Activation: Tanh, Epochs: 100, LR: 0.001, Batch Size: 128, Accuracy: 0.2000\n",
      "Hidden Layers: [8, 4], Activation: Tanh, Epochs: 100, LR: 0.001, Batch Size: 256, Accuracy: 0.1923\n",
      "Hidden Layers: [8, 4], Activation: Tanh, Epochs: 100, LR: 0.001, Batch Size: 512, Accuracy: 0.2231\n",
      "Hidden Layers: [8, 4], Activation: Tanh, Epochs: 100, LR: 0.0001, Batch Size: 16, Accuracy: 0.2769\n",
      "Hidden Layers: [8, 4], Activation: Tanh, Epochs: 100, LR: 0.0001, Batch Size: 32, Accuracy: 0.1923\n",
      "Hidden Layers: [8, 4], Activation: Tanh, Epochs: 100, LR: 0.0001, Batch Size: 64, Accuracy: 0.1846\n",
      "Hidden Layers: [8, 4], Activation: Tanh, Epochs: 100, LR: 0.0001, Batch Size: 128, Accuracy: 0.1308\n",
      "Hidden Layers: [8, 4], Activation: Tanh, Epochs: 100, LR: 0.0001, Batch Size: 256, Accuracy: 0.1077\n",
      "Hidden Layers: [8, 4], Activation: Tanh, Epochs: 100, LR: 0.0001, Batch Size: 512, Accuracy: 0.1000\n",
      "Hidden Layers: [8, 4], Activation: Tanh, Epochs: 250, LR: 10, Batch Size: 16, Accuracy: 0.2000\n",
      "Hidden Layers: [8, 4], Activation: Tanh, Epochs: 250, LR: 10, Batch Size: 32, Accuracy: 0.1231\n",
      "Hidden Layers: [8, 4], Activation: Tanh, Epochs: 250, LR: 10, Batch Size: 64, Accuracy: 0.0769\n",
      "Hidden Layers: [8, 4], Activation: Tanh, Epochs: 250, LR: 10, Batch Size: 128, Accuracy: 0.1000\n",
      "Hidden Layers: [8, 4], Activation: Tanh, Epochs: 250, LR: 10, Batch Size: 256, Accuracy: 0.0692\n",
      "Hidden Layers: [8, 4], Activation: Tanh, Epochs: 250, LR: 10, Batch Size: 512, Accuracy: 0.0769\n",
      "Hidden Layers: [8, 4], Activation: Tanh, Epochs: 250, LR: 1, Batch Size: 16, Accuracy: 0.0385\n",
      "Hidden Layers: [8, 4], Activation: Tanh, Epochs: 250, LR: 1, Batch Size: 32, Accuracy: 0.0692\n",
      "Hidden Layers: [8, 4], Activation: Tanh, Epochs: 250, LR: 1, Batch Size: 64, Accuracy: 0.1308\n",
      "Hidden Layers: [8, 4], Activation: Tanh, Epochs: 250, LR: 1, Batch Size: 128, Accuracy: 0.1923\n",
      "Hidden Layers: [8, 4], Activation: Tanh, Epochs: 250, LR: 1, Batch Size: 256, Accuracy: 0.0923\n",
      "Hidden Layers: [8, 4], Activation: Tanh, Epochs: 250, LR: 1, Batch Size: 512, Accuracy: 0.0923\n",
      "Hidden Layers: [8, 4], Activation: Tanh, Epochs: 250, LR: 0.1, Batch Size: 16, Accuracy: 0.2231\n",
      "Hidden Layers: [8, 4], Activation: Tanh, Epochs: 250, LR: 0.1, Batch Size: 32, Accuracy: 0.3154\n",
      "Hidden Layers: [8, 4], Activation: Tanh, Epochs: 250, LR: 0.1, Batch Size: 64, Accuracy: 0.3462\n",
      "Hidden Layers: [8, 4], Activation: Tanh, Epochs: 250, LR: 0.1, Batch Size: 128, Accuracy: 0.3077\n",
      "Hidden Layers: [8, 4], Activation: Tanh, Epochs: 250, LR: 0.1, Batch Size: 256, Accuracy: 0.3231\n",
      "Hidden Layers: [8, 4], Activation: Tanh, Epochs: 250, LR: 0.1, Batch Size: 512, Accuracy: 0.2615\n",
      "Hidden Layers: [8, 4], Activation: Tanh, Epochs: 250, LR: 0.01, Batch Size: 16, Accuracy: 0.3846\n",
      "Hidden Layers: [8, 4], Activation: Tanh, Epochs: 250, LR: 0.01, Batch Size: 32, Accuracy: 0.3769\n",
      "Hidden Layers: [8, 4], Activation: Tanh, Epochs: 250, LR: 0.01, Batch Size: 64, Accuracy: 0.3846\n",
      "Hidden Layers: [8, 4], Activation: Tanh, Epochs: 250, LR: 0.01, Batch Size: 128, Accuracy: 0.3692\n",
      "Hidden Layers: [8, 4], Activation: Tanh, Epochs: 250, LR: 0.01, Batch Size: 256, Accuracy: 0.4077\n",
      "Hidden Layers: [8, 4], Activation: Tanh, Epochs: 250, LR: 0.01, Batch Size: 512, Accuracy: 0.4308\n",
      "Hidden Layers: [8, 4], Activation: Tanh, Epochs: 250, LR: 0.001, Batch Size: 16, Accuracy: 0.4077\n",
      "Hidden Layers: [8, 4], Activation: Tanh, Epochs: 250, LR: 0.001, Batch Size: 32, Accuracy: 0.4692\n",
      "Hidden Layers: [8, 4], Activation: Tanh, Epochs: 250, LR: 0.001, Batch Size: 64, Accuracy: 0.3615\n",
      "Hidden Layers: [8, 4], Activation: Tanh, Epochs: 250, LR: 0.001, Batch Size: 128, Accuracy: 0.4154\n",
      "Hidden Layers: [8, 4], Activation: Tanh, Epochs: 250, LR: 0.001, Batch Size: 256, Accuracy: 0.3000\n",
      "Hidden Layers: [8, 4], Activation: Tanh, Epochs: 250, LR: 0.001, Batch Size: 512, Accuracy: 0.2615\n",
      "Hidden Layers: [8, 4], Activation: Tanh, Epochs: 250, LR: 0.0001, Batch Size: 16, Accuracy: 0.3231\n",
      "Hidden Layers: [8, 4], Activation: Tanh, Epochs: 250, LR: 0.0001, Batch Size: 32, Accuracy: 0.2462\n",
      "Hidden Layers: [8, 4], Activation: Tanh, Epochs: 250, LR: 0.0001, Batch Size: 64, Accuracy: 0.2077\n",
      "Hidden Layers: [8, 4], Activation: Tanh, Epochs: 250, LR: 0.0001, Batch Size: 128, Accuracy: 0.0846\n",
      "Hidden Layers: [8, 4], Activation: Tanh, Epochs: 250, LR: 0.0001, Batch Size: 256, Accuracy: 0.0923\n",
      "Hidden Layers: [8, 4], Activation: Tanh, Epochs: 250, LR: 0.0001, Batch Size: 512, Accuracy: 0.0231\n",
      "Hidden Layers: [16, 8, 4], Activation: Identity, Epochs: 1, LR: 10, Batch Size: 16, Accuracy: 0.0538\n",
      "Hidden Layers: [16, 8, 4], Activation: Identity, Epochs: 1, LR: 10, Batch Size: 32, Accuracy: 0.1000\n",
      "Hidden Layers: [16, 8, 4], Activation: Identity, Epochs: 1, LR: 10, Batch Size: 64, Accuracy: 0.0538\n",
      "Hidden Layers: [16, 8, 4], Activation: Identity, Epochs: 1, LR: 10, Batch Size: 128, Accuracy: 0.0000\n",
      "Hidden Layers: [16, 8, 4], Activation: Identity, Epochs: 1, LR: 10, Batch Size: 256, Accuracy: 0.1846\n",
      "Hidden Layers: [16, 8, 4], Activation: Identity, Epochs: 1, LR: 10, Batch Size: 512, Accuracy: 0.0000\n",
      "Hidden Layers: [16, 8, 4], Activation: Identity, Epochs: 1, LR: 1, Batch Size: 16, Accuracy: 0.0231\n",
      "Hidden Layers: [16, 8, 4], Activation: Identity, Epochs: 1, LR: 1, Batch Size: 32, Accuracy: 0.0692\n",
      "Hidden Layers: [16, 8, 4], Activation: Identity, Epochs: 1, LR: 1, Batch Size: 64, Accuracy: 0.1000\n",
      "Hidden Layers: [16, 8, 4], Activation: Identity, Epochs: 1, LR: 1, Batch Size: 128, Accuracy: 0.0154\n",
      "Hidden Layers: [16, 8, 4], Activation: Identity, Epochs: 1, LR: 1, Batch Size: 256, Accuracy: 0.1462\n",
      "Hidden Layers: [16, 8, 4], Activation: Identity, Epochs: 1, LR: 1, Batch Size: 512, Accuracy: 0.1231\n",
      "Hidden Layers: [16, 8, 4], Activation: Identity, Epochs: 1, LR: 0.1, Batch Size: 16, Accuracy: 0.2538\n",
      "Hidden Layers: [16, 8, 4], Activation: Identity, Epochs: 1, LR: 0.1, Batch Size: 32, Accuracy: 0.2154\n",
      "Hidden Layers: [16, 8, 4], Activation: Identity, Epochs: 1, LR: 0.1, Batch Size: 64, Accuracy: 0.2154\n",
      "Hidden Layers: [16, 8, 4], Activation: Identity, Epochs: 1, LR: 0.1, Batch Size: 128, Accuracy: 0.1385\n",
      "Hidden Layers: [16, 8, 4], Activation: Identity, Epochs: 1, LR: 0.1, Batch Size: 256, Accuracy: 0.1923\n",
      "Hidden Layers: [16, 8, 4], Activation: Identity, Epochs: 1, LR: 0.1, Batch Size: 512, Accuracy: 0.1308\n",
      "Hidden Layers: [16, 8, 4], Activation: Identity, Epochs: 1, LR: 0.01, Batch Size: 16, Accuracy: 0.2538\n",
      "Hidden Layers: [16, 8, 4], Activation: Identity, Epochs: 1, LR: 0.01, Batch Size: 32, Accuracy: 0.2385\n",
      "Hidden Layers: [16, 8, 4], Activation: Identity, Epochs: 1, LR: 0.01, Batch Size: 64, Accuracy: 0.1308\n",
      "Hidden Layers: [16, 8, 4], Activation: Identity, Epochs: 1, LR: 0.01, Batch Size: 128, Accuracy: 0.1308\n",
      "Hidden Layers: [16, 8, 4], Activation: Identity, Epochs: 1, LR: 0.01, Batch Size: 256, Accuracy: 0.1077\n",
      "Hidden Layers: [16, 8, 4], Activation: Identity, Epochs: 1, LR: 0.01, Batch Size: 512, Accuracy: 0.0846\n",
      "Hidden Layers: [16, 8, 4], Activation: Identity, Epochs: 1, LR: 0.001, Batch Size: 16, Accuracy: 0.1077\n",
      "Hidden Layers: [16, 8, 4], Activation: Identity, Epochs: 1, LR: 0.001, Batch Size: 32, Accuracy: 0.0385\n",
      "Hidden Layers: [16, 8, 4], Activation: Identity, Epochs: 1, LR: 0.001, Batch Size: 64, Accuracy: 0.0923\n",
      "Hidden Layers: [16, 8, 4], Activation: Identity, Epochs: 1, LR: 0.001, Batch Size: 128, Accuracy: 0.1231\n",
      "Hidden Layers: [16, 8, 4], Activation: Identity, Epochs: 1, LR: 0.001, Batch Size: 256, Accuracy: 0.0231\n",
      "Hidden Layers: [16, 8, 4], Activation: Identity, Epochs: 1, LR: 0.001, Batch Size: 512, Accuracy: 0.0231\n",
      "Hidden Layers: [16, 8, 4], Activation: Identity, Epochs: 1, LR: 0.0001, Batch Size: 16, Accuracy: 0.0077\n",
      "Hidden Layers: [16, 8, 4], Activation: Identity, Epochs: 1, LR: 0.0001, Batch Size: 32, Accuracy: 0.0000\n",
      "Hidden Layers: [16, 8, 4], Activation: Identity, Epochs: 1, LR: 0.0001, Batch Size: 64, Accuracy: 0.0923\n",
      "Hidden Layers: [16, 8, 4], Activation: Identity, Epochs: 1, LR: 0.0001, Batch Size: 128, Accuracy: 0.0769\n",
      "Hidden Layers: [16, 8, 4], Activation: Identity, Epochs: 1, LR: 0.0001, Batch Size: 256, Accuracy: 0.0231\n",
      "Hidden Layers: [16, 8, 4], Activation: Identity, Epochs: 1, LR: 0.0001, Batch Size: 512, Accuracy: 0.0077\n",
      "Hidden Layers: [16, 8, 4], Activation: Identity, Epochs: 10, LR: 10, Batch Size: 16, Accuracy: 0.2154\n",
      "Hidden Layers: [16, 8, 4], Activation: Identity, Epochs: 10, LR: 10, Batch Size: 32, Accuracy: 0.1923\n",
      "Hidden Layers: [16, 8, 4], Activation: Identity, Epochs: 10, LR: 10, Batch Size: 64, Accuracy: 0.1462\n",
      "Hidden Layers: [16, 8, 4], Activation: Identity, Epochs: 10, LR: 10, Batch Size: 128, Accuracy: 0.0769\n",
      "Hidden Layers: [16, 8, 4], Activation: Identity, Epochs: 10, LR: 10, Batch Size: 256, Accuracy: 0.1077\n",
      "Hidden Layers: [16, 8, 4], Activation: Identity, Epochs: 10, LR: 10, Batch Size: 512, Accuracy: 0.1077\n",
      "Hidden Layers: [16, 8, 4], Activation: Identity, Epochs: 10, LR: 1, Batch Size: 16, Accuracy: 0.3462\n",
      "Hidden Layers: [16, 8, 4], Activation: Identity, Epochs: 10, LR: 1, Batch Size: 32, Accuracy: 0.3769\n",
      "Hidden Layers: [16, 8, 4], Activation: Identity, Epochs: 10, LR: 1, Batch Size: 64, Accuracy: 0.2692\n",
      "Hidden Layers: [16, 8, 4], Activation: Identity, Epochs: 10, LR: 1, Batch Size: 128, Accuracy: 0.0846\n",
      "Hidden Layers: [16, 8, 4], Activation: Identity, Epochs: 10, LR: 1, Batch Size: 256, Accuracy: 0.1231\n",
      "Hidden Layers: [16, 8, 4], Activation: Identity, Epochs: 10, LR: 1, Batch Size: 512, Accuracy: 0.0846\n",
      "Hidden Layers: [16, 8, 4], Activation: Identity, Epochs: 10, LR: 0.1, Batch Size: 16, Accuracy: 0.2538\n",
      "Hidden Layers: [16, 8, 4], Activation: Identity, Epochs: 10, LR: 0.1, Batch Size: 32, Accuracy: 0.2538\n",
      "Hidden Layers: [16, 8, 4], Activation: Identity, Epochs: 10, LR: 0.1, Batch Size: 64, Accuracy: 0.3692\n",
      "Hidden Layers: [16, 8, 4], Activation: Identity, Epochs: 10, LR: 0.1, Batch Size: 128, Accuracy: 0.3077\n",
      "Hidden Layers: [16, 8, 4], Activation: Identity, Epochs: 10, LR: 0.1, Batch Size: 256, Accuracy: 0.2231\n",
      "Hidden Layers: [16, 8, 4], Activation: Identity, Epochs: 10, LR: 0.1, Batch Size: 512, Accuracy: 0.1308\n",
      "Hidden Layers: [16, 8, 4], Activation: Identity, Epochs: 10, LR: 0.01, Batch Size: 16, Accuracy: 0.3615\n",
      "Hidden Layers: [16, 8, 4], Activation: Identity, Epochs: 10, LR: 0.01, Batch Size: 32, Accuracy: 0.4615\n",
      "Hidden Layers: [16, 8, 4], Activation: Identity, Epochs: 10, LR: 0.01, Batch Size: 64, Accuracy: 0.3692\n",
      "Hidden Layers: [16, 8, 4], Activation: Identity, Epochs: 10, LR: 0.01, Batch Size: 128, Accuracy: 0.3077\n",
      "Hidden Layers: [16, 8, 4], Activation: Identity, Epochs: 10, LR: 0.01, Batch Size: 256, Accuracy: 0.1538\n",
      "Hidden Layers: [16, 8, 4], Activation: Identity, Epochs: 10, LR: 0.01, Batch Size: 512, Accuracy: 0.2154\n",
      "Hidden Layers: [16, 8, 4], Activation: Identity, Epochs: 10, LR: 0.001, Batch Size: 16, Accuracy: 0.1308\n",
      "Hidden Layers: [16, 8, 4], Activation: Identity, Epochs: 10, LR: 0.001, Batch Size: 32, Accuracy: 0.1692\n",
      "Hidden Layers: [16, 8, 4], Activation: Identity, Epochs: 10, LR: 0.001, Batch Size: 64, Accuracy: 0.1308\n",
      "Hidden Layers: [16, 8, 4], Activation: Identity, Epochs: 10, LR: 0.001, Batch Size: 128, Accuracy: 0.1923\n",
      "Hidden Layers: [16, 8, 4], Activation: Identity, Epochs: 10, LR: 0.001, Batch Size: 256, Accuracy: 0.1385\n",
      "Hidden Layers: [16, 8, 4], Activation: Identity, Epochs: 10, LR: 0.001, Batch Size: 512, Accuracy: 0.0769\n",
      "Hidden Layers: [16, 8, 4], Activation: Identity, Epochs: 10, LR: 0.0001, Batch Size: 16, Accuracy: 0.0000\n",
      "Hidden Layers: [16, 8, 4], Activation: Identity, Epochs: 10, LR: 0.0001, Batch Size: 32, Accuracy: 0.0154\n",
      "Hidden Layers: [16, 8, 4], Activation: Identity, Epochs: 10, LR: 0.0001, Batch Size: 64, Accuracy: 0.0000\n",
      "Hidden Layers: [16, 8, 4], Activation: Identity, Epochs: 10, LR: 0.0001, Batch Size: 128, Accuracy: 0.0846\n",
      "Hidden Layers: [16, 8, 4], Activation: Identity, Epochs: 10, LR: 0.0001, Batch Size: 256, Accuracy: 0.0385\n",
      "Hidden Layers: [16, 8, 4], Activation: Identity, Epochs: 10, LR: 0.0001, Batch Size: 512, Accuracy: 0.0000\n",
      "Hidden Layers: [16, 8, 4], Activation: Identity, Epochs: 25, LR: 10, Batch Size: 16, Accuracy: 0.3077\n",
      "Hidden Layers: [16, 8, 4], Activation: Identity, Epochs: 25, LR: 10, Batch Size: 32, Accuracy: 0.2769\n",
      "Hidden Layers: [16, 8, 4], Activation: Identity, Epochs: 25, LR: 10, Batch Size: 64, Accuracy: 0.1538\n",
      "Hidden Layers: [16, 8, 4], Activation: Identity, Epochs: 25, LR: 10, Batch Size: 128, Accuracy: 0.2154\n",
      "Hidden Layers: [16, 8, 4], Activation: Identity, Epochs: 25, LR: 10, Batch Size: 256, Accuracy: 0.1462\n",
      "Hidden Layers: [16, 8, 4], Activation: Identity, Epochs: 25, LR: 10, Batch Size: 512, Accuracy: 0.0846\n",
      "Hidden Layers: [16, 8, 4], Activation: Identity, Epochs: 25, LR: 1, Batch Size: 16, Accuracy: 0.4231\n",
      "Hidden Layers: [16, 8, 4], Activation: Identity, Epochs: 25, LR: 1, Batch Size: 32, Accuracy: 0.3692\n",
      "Hidden Layers: [16, 8, 4], Activation: Identity, Epochs: 25, LR: 1, Batch Size: 64, Accuracy: 0.3923\n",
      "Hidden Layers: [16, 8, 4], Activation: Identity, Epochs: 25, LR: 1, Batch Size: 128, Accuracy: 0.2692\n",
      "Hidden Layers: [16, 8, 4], Activation: Identity, Epochs: 25, LR: 1, Batch Size: 256, Accuracy: 0.1308\n",
      "Hidden Layers: [16, 8, 4], Activation: Identity, Epochs: 25, LR: 1, Batch Size: 512, Accuracy: 0.2077\n",
      "Hidden Layers: [16, 8, 4], Activation: Identity, Epochs: 25, LR: 0.1, Batch Size: 16, Accuracy: 0.2692\n",
      "Hidden Layers: [16, 8, 4], Activation: Identity, Epochs: 25, LR: 0.1, Batch Size: 32, Accuracy: 0.3692\n",
      "Hidden Layers: [16, 8, 4], Activation: Identity, Epochs: 25, LR: 0.1, Batch Size: 64, Accuracy: 0.3923\n",
      "Hidden Layers: [16, 8, 4], Activation: Identity, Epochs: 25, LR: 0.1, Batch Size: 128, Accuracy: 0.4154\n",
      "Hidden Layers: [16, 8, 4], Activation: Identity, Epochs: 25, LR: 0.1, Batch Size: 256, Accuracy: 0.2615\n",
      "Hidden Layers: [16, 8, 4], Activation: Identity, Epochs: 25, LR: 0.1, Batch Size: 512, Accuracy: 0.2538\n",
      "Hidden Layers: [16, 8, 4], Activation: Identity, Epochs: 25, LR: 0.01, Batch Size: 16, Accuracy: 0.4385\n",
      "Hidden Layers: [16, 8, 4], Activation: Identity, Epochs: 25, LR: 0.01, Batch Size: 32, Accuracy: 0.4615\n",
      "Hidden Layers: [16, 8, 4], Activation: Identity, Epochs: 25, LR: 0.01, Batch Size: 64, Accuracy: 0.4615\n",
      "Hidden Layers: [16, 8, 4], Activation: Identity, Epochs: 25, LR: 0.01, Batch Size: 128, Accuracy: 0.3615\n",
      "Hidden Layers: [16, 8, 4], Activation: Identity, Epochs: 25, LR: 0.01, Batch Size: 256, Accuracy: 0.3154\n",
      "Hidden Layers: [16, 8, 4], Activation: Identity, Epochs: 25, LR: 0.01, Batch Size: 512, Accuracy: 0.3692\n",
      "Hidden Layers: [16, 8, 4], Activation: Identity, Epochs: 25, LR: 0.001, Batch Size: 16, Accuracy: 0.4000\n",
      "Hidden Layers: [16, 8, 4], Activation: Identity, Epochs: 25, LR: 0.001, Batch Size: 32, Accuracy: 0.3769\n",
      "Hidden Layers: [16, 8, 4], Activation: Identity, Epochs: 25, LR: 0.001, Batch Size: 64, Accuracy: 0.2462\n",
      "Hidden Layers: [16, 8, 4], Activation: Identity, Epochs: 25, LR: 0.001, Batch Size: 128, Accuracy: 0.1462\n",
      "Hidden Layers: [16, 8, 4], Activation: Identity, Epochs: 25, LR: 0.001, Batch Size: 256, Accuracy: 0.1154\n",
      "Hidden Layers: [16, 8, 4], Activation: Identity, Epochs: 25, LR: 0.001, Batch Size: 512, Accuracy: 0.1000\n",
      "Hidden Layers: [16, 8, 4], Activation: Identity, Epochs: 25, LR: 0.0001, Batch Size: 16, Accuracy: 0.2308\n",
      "Hidden Layers: [16, 8, 4], Activation: Identity, Epochs: 25, LR: 0.0001, Batch Size: 32, Accuracy: 0.1000\n",
      "Hidden Layers: [16, 8, 4], Activation: Identity, Epochs: 25, LR: 0.0001, Batch Size: 64, Accuracy: 0.0923\n",
      "Hidden Layers: [16, 8, 4], Activation: Identity, Epochs: 25, LR: 0.0001, Batch Size: 128, Accuracy: 0.0077\n",
      "Hidden Layers: [16, 8, 4], Activation: Identity, Epochs: 25, LR: 0.0001, Batch Size: 256, Accuracy: 0.0077\n",
      "Hidden Layers: [16, 8, 4], Activation: Identity, Epochs: 25, LR: 0.0001, Batch Size: 512, Accuracy: 0.0231\n",
      "Hidden Layers: [16, 8, 4], Activation: Identity, Epochs: 50, LR: 10, Batch Size: 16, Accuracy: 0.1692\n",
      "Hidden Layers: [16, 8, 4], Activation: Identity, Epochs: 50, LR: 10, Batch Size: 32, Accuracy: 0.2692\n",
      "Hidden Layers: [16, 8, 4], Activation: Identity, Epochs: 50, LR: 10, Batch Size: 64, Accuracy: 0.2846\n",
      "Hidden Layers: [16, 8, 4], Activation: Identity, Epochs: 50, LR: 10, Batch Size: 128, Accuracy: 0.1923\n",
      "Hidden Layers: [16, 8, 4], Activation: Identity, Epochs: 50, LR: 10, Batch Size: 256, Accuracy: 0.2385\n",
      "Hidden Layers: [16, 8, 4], Activation: Identity, Epochs: 50, LR: 10, Batch Size: 512, Accuracy: 0.1154\n",
      "Hidden Layers: [16, 8, 4], Activation: Identity, Epochs: 50, LR: 1, Batch Size: 16, Accuracy: 0.3615\n",
      "Hidden Layers: [16, 8, 4], Activation: Identity, Epochs: 50, LR: 1, Batch Size: 32, Accuracy: 0.4231\n",
      "Hidden Layers: [16, 8, 4], Activation: Identity, Epochs: 50, LR: 1, Batch Size: 64, Accuracy: 0.3923\n",
      "Hidden Layers: [16, 8, 4], Activation: Identity, Epochs: 50, LR: 1, Batch Size: 128, Accuracy: 0.3308\n",
      "Hidden Layers: [16, 8, 4], Activation: Identity, Epochs: 50, LR: 1, Batch Size: 256, Accuracy: 0.2769\n",
      "Hidden Layers: [16, 8, 4], Activation: Identity, Epochs: 50, LR: 1, Batch Size: 512, Accuracy: 0.1538\n",
      "Hidden Layers: [16, 8, 4], Activation: Identity, Epochs: 50, LR: 0.1, Batch Size: 16, Accuracy: 0.4462\n",
      "Hidden Layers: [16, 8, 4], Activation: Identity, Epochs: 50, LR: 0.1, Batch Size: 32, Accuracy: 0.4385\n",
      "Hidden Layers: [16, 8, 4], Activation: Identity, Epochs: 50, LR: 0.1, Batch Size: 64, Accuracy: 0.3462\n",
      "Hidden Layers: [16, 8, 4], Activation: Identity, Epochs: 50, LR: 0.1, Batch Size: 128, Accuracy: 0.3769\n",
      "Hidden Layers: [16, 8, 4], Activation: Identity, Epochs: 50, LR: 0.1, Batch Size: 256, Accuracy: 0.2692\n",
      "Hidden Layers: [16, 8, 4], Activation: Identity, Epochs: 50, LR: 0.1, Batch Size: 512, Accuracy: 0.2769\n",
      "Hidden Layers: [16, 8, 4], Activation: Identity, Epochs: 50, LR: 0.01, Batch Size: 16, Accuracy: 0.4462\n",
      "Hidden Layers: [16, 8, 4], Activation: Identity, Epochs: 50, LR: 0.01, Batch Size: 32, Accuracy: 0.4385\n",
      "Hidden Layers: [16, 8, 4], Activation: Identity, Epochs: 50, LR: 0.01, Batch Size: 64, Accuracy: 0.4308\n",
      "Hidden Layers: [16, 8, 4], Activation: Identity, Epochs: 50, LR: 0.01, Batch Size: 128, Accuracy: 0.4692\n",
      "Hidden Layers: [16, 8, 4], Activation: Identity, Epochs: 50, LR: 0.01, Batch Size: 256, Accuracy: 0.3615\n",
      "Hidden Layers: [16, 8, 4], Activation: Identity, Epochs: 50, LR: 0.01, Batch Size: 512, Accuracy: 0.3462\n",
      "Hidden Layers: [16, 8, 4], Activation: Identity, Epochs: 50, LR: 0.001, Batch Size: 16, Accuracy: 0.4000\n",
      "Hidden Layers: [16, 8, 4], Activation: Identity, Epochs: 50, LR: 0.001, Batch Size: 32, Accuracy: 0.4385\n",
      "Hidden Layers: [16, 8, 4], Activation: Identity, Epochs: 50, LR: 0.001, Batch Size: 64, Accuracy: 0.3462\n",
      "Hidden Layers: [16, 8, 4], Activation: Identity, Epochs: 50, LR: 0.001, Batch Size: 128, Accuracy: 0.3154\n",
      "Hidden Layers: [16, 8, 4], Activation: Identity, Epochs: 50, LR: 0.001, Batch Size: 256, Accuracy: 0.1000\n",
      "Hidden Layers: [16, 8, 4], Activation: Identity, Epochs: 50, LR: 0.001, Batch Size: 512, Accuracy: 0.1846\n",
      "Hidden Layers: [16, 8, 4], Activation: Identity, Epochs: 50, LR: 0.0001, Batch Size: 16, Accuracy: 0.1077\n",
      "Hidden Layers: [16, 8, 4], Activation: Identity, Epochs: 50, LR: 0.0001, Batch Size: 32, Accuracy: 0.1615\n",
      "Hidden Layers: [16, 8, 4], Activation: Identity, Epochs: 50, LR: 0.0001, Batch Size: 64, Accuracy: 0.1077\n",
      "Hidden Layers: [16, 8, 4], Activation: Identity, Epochs: 50, LR: 0.0001, Batch Size: 128, Accuracy: 0.0923\n",
      "Hidden Layers: [16, 8, 4], Activation: Identity, Epochs: 50, LR: 0.0001, Batch Size: 256, Accuracy: 0.0692\n",
      "Hidden Layers: [16, 8, 4], Activation: Identity, Epochs: 50, LR: 0.0001, Batch Size: 512, Accuracy: 0.0769\n",
      "Hidden Layers: [16, 8, 4], Activation: Identity, Epochs: 100, LR: 10, Batch Size: 16, Accuracy: 0.1462\n",
      "Hidden Layers: [16, 8, 4], Activation: Identity, Epochs: 100, LR: 10, Batch Size: 32, Accuracy: 0.1462\n",
      "Hidden Layers: [16, 8, 4], Activation: Identity, Epochs: 100, LR: 10, Batch Size: 64, Accuracy: 0.4000\n",
      "Hidden Layers: [16, 8, 4], Activation: Identity, Epochs: 100, LR: 10, Batch Size: 128, Accuracy: 0.3308\n",
      "Hidden Layers: [16, 8, 4], Activation: Identity, Epochs: 100, LR: 10, Batch Size: 256, Accuracy: 0.2231\n",
      "Hidden Layers: [16, 8, 4], Activation: Identity, Epochs: 100, LR: 10, Batch Size: 512, Accuracy: 0.1923\n",
      "Hidden Layers: [16, 8, 4], Activation: Identity, Epochs: 100, LR: 1, Batch Size: 16, Accuracy: 0.2846\n",
      "Hidden Layers: [16, 8, 4], Activation: Identity, Epochs: 100, LR: 1, Batch Size: 32, Accuracy: 0.3538\n",
      "Hidden Layers: [16, 8, 4], Activation: Identity, Epochs: 100, LR: 1, Batch Size: 64, Accuracy: 0.4538\n",
      "Hidden Layers: [16, 8, 4], Activation: Identity, Epochs: 100, LR: 1, Batch Size: 128, Accuracy: 0.3154\n",
      "Hidden Layers: [16, 8, 4], Activation: Identity, Epochs: 100, LR: 1, Batch Size: 256, Accuracy: 0.2923\n",
      "Hidden Layers: [16, 8, 4], Activation: Identity, Epochs: 100, LR: 1, Batch Size: 512, Accuracy: 0.2000\n",
      "Hidden Layers: [16, 8, 4], Activation: Identity, Epochs: 100, LR: 0.1, Batch Size: 16, Accuracy: 0.3923\n",
      "Hidden Layers: [16, 8, 4], Activation: Identity, Epochs: 100, LR: 0.1, Batch Size: 32, Accuracy: 0.4385\n",
      "Hidden Layers: [16, 8, 4], Activation: Identity, Epochs: 100, LR: 0.1, Batch Size: 64, Accuracy: 0.4385\n",
      "Hidden Layers: [16, 8, 4], Activation: Identity, Epochs: 100, LR: 0.1, Batch Size: 128, Accuracy: 0.3923\n",
      "Hidden Layers: [16, 8, 4], Activation: Identity, Epochs: 100, LR: 0.1, Batch Size: 256, Accuracy: 0.3846\n",
      "Hidden Layers: [16, 8, 4], Activation: Identity, Epochs: 100, LR: 0.1, Batch Size: 512, Accuracy: 0.3231\n",
      "Hidden Layers: [16, 8, 4], Activation: Identity, Epochs: 100, LR: 0.01, Batch Size: 16, Accuracy: 0.4538\n",
      "Hidden Layers: [16, 8, 4], Activation: Identity, Epochs: 100, LR: 0.01, Batch Size: 32, Accuracy: 0.4615\n",
      "Hidden Layers: [16, 8, 4], Activation: Identity, Epochs: 100, LR: 0.01, Batch Size: 64, Accuracy: 0.4615\n",
      "Hidden Layers: [16, 8, 4], Activation: Identity, Epochs: 100, LR: 0.01, Batch Size: 128, Accuracy: 0.4077\n",
      "Hidden Layers: [16, 8, 4], Activation: Identity, Epochs: 100, LR: 0.01, Batch Size: 256, Accuracy: 0.4077\n",
      "Hidden Layers: [16, 8, 4], Activation: Identity, Epochs: 100, LR: 0.01, Batch Size: 512, Accuracy: 0.3231\n",
      "Hidden Layers: [16, 8, 4], Activation: Identity, Epochs: 100, LR: 0.001, Batch Size: 16, Accuracy: 0.4923\n",
      "Hidden Layers: [16, 8, 4], Activation: Identity, Epochs: 100, LR: 0.001, Batch Size: 32, Accuracy: 0.4077\n",
      "Hidden Layers: [16, 8, 4], Activation: Identity, Epochs: 100, LR: 0.001, Batch Size: 64, Accuracy: 0.3923\n",
      "Hidden Layers: [16, 8, 4], Activation: Identity, Epochs: 100, LR: 0.001, Batch Size: 128, Accuracy: 0.3692\n",
      "Hidden Layers: [16, 8, 4], Activation: Identity, Epochs: 100, LR: 0.001, Batch Size: 256, Accuracy: 0.2538\n",
      "Hidden Layers: [16, 8, 4], Activation: Identity, Epochs: 100, LR: 0.001, Batch Size: 512, Accuracy: 0.1615\n",
      "Hidden Layers: [16, 8, 4], Activation: Identity, Epochs: 100, LR: 0.0001, Batch Size: 16, Accuracy: 0.3385\n",
      "Hidden Layers: [16, 8, 4], Activation: Identity, Epochs: 100, LR: 0.0001, Batch Size: 32, Accuracy: 0.1000\n",
      "Hidden Layers: [16, 8, 4], Activation: Identity, Epochs: 100, LR: 0.0001, Batch Size: 64, Accuracy: 0.2000\n",
      "Hidden Layers: [16, 8, 4], Activation: Identity, Epochs: 100, LR: 0.0001, Batch Size: 128, Accuracy: 0.1000\n",
      "Hidden Layers: [16, 8, 4], Activation: Identity, Epochs: 100, LR: 0.0001, Batch Size: 256, Accuracy: 0.1231\n",
      "Hidden Layers: [16, 8, 4], Activation: Identity, Epochs: 100, LR: 0.0001, Batch Size: 512, Accuracy: 0.0385\n",
      "Hidden Layers: [16, 8, 4], Activation: Identity, Epochs: 250, LR: 10, Batch Size: 16, Accuracy: 0.1692\n",
      "Hidden Layers: [16, 8, 4], Activation: Identity, Epochs: 250, LR: 10, Batch Size: 32, Accuracy: 0.1923\n",
      "Hidden Layers: [16, 8, 4], Activation: Identity, Epochs: 250, LR: 10, Batch Size: 64, Accuracy: 0.2231\n",
      "Hidden Layers: [16, 8, 4], Activation: Identity, Epochs: 250, LR: 10, Batch Size: 128, Accuracy: 0.2308\n",
      "Hidden Layers: [16, 8, 4], Activation: Identity, Epochs: 250, LR: 10, Batch Size: 256, Accuracy: 0.3385\n",
      "Hidden Layers: [16, 8, 4], Activation: Identity, Epochs: 250, LR: 10, Batch Size: 512, Accuracy: 0.1846\n",
      "Hidden Layers: [16, 8, 4], Activation: Identity, Epochs: 250, LR: 1, Batch Size: 16, Accuracy: 0.2769\n",
      "Hidden Layers: [16, 8, 4], Activation: Identity, Epochs: 250, LR: 1, Batch Size: 32, Accuracy: 0.3846\n",
      "Hidden Layers: [16, 8, 4], Activation: Identity, Epochs: 250, LR: 1, Batch Size: 64, Accuracy: 0.3846\n",
      "Hidden Layers: [16, 8, 4], Activation: Identity, Epochs: 250, LR: 1, Batch Size: 128, Accuracy: 0.3846\n",
      "Hidden Layers: [16, 8, 4], Activation: Identity, Epochs: 250, LR: 1, Batch Size: 256, Accuracy: 0.4077\n",
      "Hidden Layers: [16, 8, 4], Activation: Identity, Epochs: 250, LR: 1, Batch Size: 512, Accuracy: 0.5000\n",
      "Hidden Layers: [16, 8, 4], Activation: Identity, Epochs: 250, LR: 0.1, Batch Size: 16, Accuracy: 0.3385\n",
      "Hidden Layers: [16, 8, 4], Activation: Identity, Epochs: 250, LR: 0.1, Batch Size: 32, Accuracy: 0.4462\n",
      "Hidden Layers: [16, 8, 4], Activation: Identity, Epochs: 250, LR: 0.1, Batch Size: 64, Accuracy: 0.4538\n",
      "Hidden Layers: [16, 8, 4], Activation: Identity, Epochs: 250, LR: 0.1, Batch Size: 128, Accuracy: 0.3923\n",
      "Hidden Layers: [16, 8, 4], Activation: Identity, Epochs: 250, LR: 0.1, Batch Size: 256, Accuracy: 0.1538\n",
      "Hidden Layers: [16, 8, 4], Activation: Identity, Epochs: 250, LR: 0.1, Batch Size: 512, Accuracy: 0.4308\n",
      "Hidden Layers: [16, 8, 4], Activation: Identity, Epochs: 250, LR: 0.01, Batch Size: 16, Accuracy: 0.4231\n",
      "Hidden Layers: [16, 8, 4], Activation: Identity, Epochs: 250, LR: 0.01, Batch Size: 32, Accuracy: 0.4385\n",
      "Hidden Layers: [16, 8, 4], Activation: Identity, Epochs: 250, LR: 0.01, Batch Size: 64, Accuracy: 0.4538\n",
      "Hidden Layers: [16, 8, 4], Activation: Identity, Epochs: 250, LR: 0.01, Batch Size: 128, Accuracy: 0.4077\n",
      "Hidden Layers: [16, 8, 4], Activation: Identity, Epochs: 250, LR: 0.01, Batch Size: 256, Accuracy: 0.3923\n",
      "Hidden Layers: [16, 8, 4], Activation: Identity, Epochs: 250, LR: 0.01, Batch Size: 512, Accuracy: 0.4923\n",
      "Hidden Layers: [16, 8, 4], Activation: Identity, Epochs: 250, LR: 0.001, Batch Size: 16, Accuracy: 0.4538\n",
      "Hidden Layers: [16, 8, 4], Activation: Identity, Epochs: 250, LR: 0.001, Batch Size: 32, Accuracy: 0.4769\n",
      "Hidden Layers: [16, 8, 4], Activation: Identity, Epochs: 250, LR: 0.001, Batch Size: 64, Accuracy: 0.5000\n",
      "Hidden Layers: [16, 8, 4], Activation: Identity, Epochs: 250, LR: 0.001, Batch Size: 128, Accuracy: 0.4692\n",
      "Hidden Layers: [16, 8, 4], Activation: Identity, Epochs: 250, LR: 0.001, Batch Size: 256, Accuracy: 0.2923\n",
      "Hidden Layers: [16, 8, 4], Activation: Identity, Epochs: 250, LR: 0.001, Batch Size: 512, Accuracy: 0.2385\n",
      "Hidden Layers: [16, 8, 4], Activation: Identity, Epochs: 250, LR: 0.0001, Batch Size: 16, Accuracy: 0.3923\n",
      "Hidden Layers: [16, 8, 4], Activation: Identity, Epochs: 250, LR: 0.0001, Batch Size: 32, Accuracy: 0.2769\n",
      "Hidden Layers: [16, 8, 4], Activation: Identity, Epochs: 250, LR: 0.0001, Batch Size: 64, Accuracy: 0.2231\n",
      "Hidden Layers: [16, 8, 4], Activation: Identity, Epochs: 250, LR: 0.0001, Batch Size: 128, Accuracy: 0.1615\n",
      "Hidden Layers: [16, 8, 4], Activation: Identity, Epochs: 250, LR: 0.0001, Batch Size: 256, Accuracy: 0.1077\n",
      "Hidden Layers: [16, 8, 4], Activation: Identity, Epochs: 250, LR: 0.0001, Batch Size: 512, Accuracy: 0.1000\n",
      "Hidden Layers: [16, 8, 4], Activation: Sigmoid, Epochs: 1, LR: 10, Batch Size: 16, Accuracy: 0.0385\n",
      "Hidden Layers: [16, 8, 4], Activation: Sigmoid, Epochs: 1, LR: 10, Batch Size: 32, Accuracy: 0.1000\n",
      "Hidden Layers: [16, 8, 4], Activation: Sigmoid, Epochs: 1, LR: 10, Batch Size: 64, Accuracy: 0.0923\n",
      "Hidden Layers: [16, 8, 4], Activation: Sigmoid, Epochs: 1, LR: 10, Batch Size: 128, Accuracy: 0.0385\n",
      "Hidden Layers: [16, 8, 4], Activation: Sigmoid, Epochs: 1, LR: 10, Batch Size: 256, Accuracy: 0.1923\n",
      "Hidden Layers: [16, 8, 4], Activation: Sigmoid, Epochs: 1, LR: 10, Batch Size: 512, Accuracy: 0.1308\n",
      "Hidden Layers: [16, 8, 4], Activation: Sigmoid, Epochs: 1, LR: 1, Batch Size: 16, Accuracy: 0.1923\n",
      "Hidden Layers: [16, 8, 4], Activation: Sigmoid, Epochs: 1, LR: 1, Batch Size: 32, Accuracy: 0.1923\n",
      "Hidden Layers: [16, 8, 4], Activation: Sigmoid, Epochs: 1, LR: 1, Batch Size: 64, Accuracy: 0.1308\n",
      "Hidden Layers: [16, 8, 4], Activation: Sigmoid, Epochs: 1, LR: 1, Batch Size: 128, Accuracy: 0.1308\n",
      "Hidden Layers: [16, 8, 4], Activation: Sigmoid, Epochs: 1, LR: 1, Batch Size: 256, Accuracy: 0.1923\n",
      "Hidden Layers: [16, 8, 4], Activation: Sigmoid, Epochs: 1, LR: 1, Batch Size: 512, Accuracy: 0.0923\n",
      "Hidden Layers: [16, 8, 4], Activation: Sigmoid, Epochs: 1, LR: 0.1, Batch Size: 16, Accuracy: 0.1000\n",
      "Hidden Layers: [16, 8, 4], Activation: Sigmoid, Epochs: 1, LR: 0.1, Batch Size: 32, Accuracy: 0.1308\n",
      "Hidden Layers: [16, 8, 4], Activation: Sigmoid, Epochs: 1, LR: 0.1, Batch Size: 64, Accuracy: 0.1923\n",
      "Hidden Layers: [16, 8, 4], Activation: Sigmoid, Epochs: 1, LR: 0.1, Batch Size: 128, Accuracy: 0.1308\n",
      "Hidden Layers: [16, 8, 4], Activation: Sigmoid, Epochs: 1, LR: 0.1, Batch Size: 256, Accuracy: 0.1923\n",
      "Hidden Layers: [16, 8, 4], Activation: Sigmoid, Epochs: 1, LR: 0.1, Batch Size: 512, Accuracy: 0.0538\n",
      "Hidden Layers: [16, 8, 4], Activation: Sigmoid, Epochs: 1, LR: 0.01, Batch Size: 16, Accuracy: 0.1000\n",
      "Hidden Layers: [16, 8, 4], Activation: Sigmoid, Epochs: 1, LR: 0.01, Batch Size: 32, Accuracy: 0.1923\n",
      "Hidden Layers: [16, 8, 4], Activation: Sigmoid, Epochs: 1, LR: 0.01, Batch Size: 64, Accuracy: 0.1231\n",
      "Hidden Layers: [16, 8, 4], Activation: Sigmoid, Epochs: 1, LR: 0.01, Batch Size: 128, Accuracy: 0.1308\n",
      "Hidden Layers: [16, 8, 4], Activation: Sigmoid, Epochs: 1, LR: 0.01, Batch Size: 256, Accuracy: 0.0077\n",
      "Hidden Layers: [16, 8, 4], Activation: Sigmoid, Epochs: 1, LR: 0.01, Batch Size: 512, Accuracy: 0.0769\n",
      "Hidden Layers: [16, 8, 4], Activation: Sigmoid, Epochs: 1, LR: 0.001, Batch Size: 16, Accuracy: 0.1000\n",
      "Hidden Layers: [16, 8, 4], Activation: Sigmoid, Epochs: 1, LR: 0.001, Batch Size: 32, Accuracy: 0.0000\n",
      "Hidden Layers: [16, 8, 4], Activation: Sigmoid, Epochs: 1, LR: 0.001, Batch Size: 64, Accuracy: 0.0000\n",
      "Hidden Layers: [16, 8, 4], Activation: Sigmoid, Epochs: 1, LR: 0.001, Batch Size: 128, Accuracy: 0.0000\n",
      "Hidden Layers: [16, 8, 4], Activation: Sigmoid, Epochs: 1, LR: 0.001, Batch Size: 256, Accuracy: 0.0000\n",
      "Hidden Layers: [16, 8, 4], Activation: Sigmoid, Epochs: 1, LR: 0.001, Batch Size: 512, Accuracy: 0.0692\n",
      "Hidden Layers: [16, 8, 4], Activation: Sigmoid, Epochs: 1, LR: 0.0001, Batch Size: 16, Accuracy: 0.0000\n",
      "Hidden Layers: [16, 8, 4], Activation: Sigmoid, Epochs: 1, LR: 0.0001, Batch Size: 32, Accuracy: 0.0000\n",
      "Hidden Layers: [16, 8, 4], Activation: Sigmoid, Epochs: 1, LR: 0.0001, Batch Size: 64, Accuracy: 0.0692\n",
      "Hidden Layers: [16, 8, 4], Activation: Sigmoid, Epochs: 1, LR: 0.0001, Batch Size: 128, Accuracy: 0.0000\n",
      "Hidden Layers: [16, 8, 4], Activation: Sigmoid, Epochs: 1, LR: 0.0001, Batch Size: 256, Accuracy: 0.0000\n",
      "Hidden Layers: [16, 8, 4], Activation: Sigmoid, Epochs: 1, LR: 0.0001, Batch Size: 512, Accuracy: 0.0000\n",
      "Hidden Layers: [16, 8, 4], Activation: Sigmoid, Epochs: 10, LR: 10, Batch Size: 16, Accuracy: 0.1923\n",
      "Hidden Layers: [16, 8, 4], Activation: Sigmoid, Epochs: 10, LR: 10, Batch Size: 32, Accuracy: 0.0769\n",
      "Hidden Layers: [16, 8, 4], Activation: Sigmoid, Epochs: 10, LR: 10, Batch Size: 64, Accuracy: 0.0154\n",
      "Hidden Layers: [16, 8, 4], Activation: Sigmoid, Epochs: 10, LR: 10, Batch Size: 128, Accuracy: 0.0769\n",
      "Hidden Layers: [16, 8, 4], Activation: Sigmoid, Epochs: 10, LR: 10, Batch Size: 256, Accuracy: 0.0923\n",
      "Hidden Layers: [16, 8, 4], Activation: Sigmoid, Epochs: 10, LR: 10, Batch Size: 512, Accuracy: 0.0385\n",
      "Hidden Layers: [16, 8, 4], Activation: Sigmoid, Epochs: 10, LR: 1, Batch Size: 16, Accuracy: 0.0385\n",
      "Hidden Layers: [16, 8, 4], Activation: Sigmoid, Epochs: 10, LR: 1, Batch Size: 32, Accuracy: 0.1231\n",
      "Hidden Layers: [16, 8, 4], Activation: Sigmoid, Epochs: 10, LR: 1, Batch Size: 64, Accuracy: 0.1308\n",
      "Hidden Layers: [16, 8, 4], Activation: Sigmoid, Epochs: 10, LR: 1, Batch Size: 128, Accuracy: 0.0923\n",
      "Hidden Layers: [16, 8, 4], Activation: Sigmoid, Epochs: 10, LR: 1, Batch Size: 256, Accuracy: 0.1308\n",
      "Hidden Layers: [16, 8, 4], Activation: Sigmoid, Epochs: 10, LR: 1, Batch Size: 512, Accuracy: 0.0923\n",
      "Hidden Layers: [16, 8, 4], Activation: Sigmoid, Epochs: 10, LR: 0.1, Batch Size: 16, Accuracy: 0.3385\n",
      "Hidden Layers: [16, 8, 4], Activation: Sigmoid, Epochs: 10, LR: 0.1, Batch Size: 32, Accuracy: 0.3462\n",
      "Hidden Layers: [16, 8, 4], Activation: Sigmoid, Epochs: 10, LR: 0.1, Batch Size: 64, Accuracy: 0.3385\n",
      "Hidden Layers: [16, 8, 4], Activation: Sigmoid, Epochs: 10, LR: 0.1, Batch Size: 128, Accuracy: 0.2462\n",
      "Hidden Layers: [16, 8, 4], Activation: Sigmoid, Epochs: 10, LR: 0.1, Batch Size: 256, Accuracy: 0.1923\n",
      "Hidden Layers: [16, 8, 4], Activation: Sigmoid, Epochs: 10, LR: 0.1, Batch Size: 512, Accuracy: 0.1923\n",
      "Hidden Layers: [16, 8, 4], Activation: Sigmoid, Epochs: 10, LR: 0.01, Batch Size: 16, Accuracy: 0.2538\n",
      "Hidden Layers: [16, 8, 4], Activation: Sigmoid, Epochs: 10, LR: 0.01, Batch Size: 32, Accuracy: 0.2308\n",
      "Hidden Layers: [16, 8, 4], Activation: Sigmoid, Epochs: 10, LR: 0.01, Batch Size: 64, Accuracy: 0.1923\n",
      "Hidden Layers: [16, 8, 4], Activation: Sigmoid, Epochs: 10, LR: 0.01, Batch Size: 128, Accuracy: 0.1923\n",
      "Hidden Layers: [16, 8, 4], Activation: Sigmoid, Epochs: 10, LR: 0.01, Batch Size: 256, Accuracy: 0.1923\n",
      "Hidden Layers: [16, 8, 4], Activation: Sigmoid, Epochs: 10, LR: 0.01, Batch Size: 512, Accuracy: 0.1000\n",
      "Hidden Layers: [16, 8, 4], Activation: Sigmoid, Epochs: 10, LR: 0.001, Batch Size: 16, Accuracy: 0.2077\n",
      "Hidden Layers: [16, 8, 4], Activation: Sigmoid, Epochs: 10, LR: 0.001, Batch Size: 32, Accuracy: 0.1231\n",
      "Hidden Layers: [16, 8, 4], Activation: Sigmoid, Epochs: 10, LR: 0.001, Batch Size: 64, Accuracy: 0.0077\n",
      "Hidden Layers: [16, 8, 4], Activation: Sigmoid, Epochs: 10, LR: 0.001, Batch Size: 128, Accuracy: 0.1308\n",
      "Hidden Layers: [16, 8, 4], Activation: Sigmoid, Epochs: 10, LR: 0.001, Batch Size: 256, Accuracy: 0.0000\n",
      "Hidden Layers: [16, 8, 4], Activation: Sigmoid, Epochs: 10, LR: 0.001, Batch Size: 512, Accuracy: 0.0538\n",
      "Hidden Layers: [16, 8, 4], Activation: Sigmoid, Epochs: 10, LR: 0.0001, Batch Size: 16, Accuracy: 0.0769\n",
      "Hidden Layers: [16, 8, 4], Activation: Sigmoid, Epochs: 10, LR: 0.0001, Batch Size: 32, Accuracy: 0.0154\n",
      "Hidden Layers: [16, 8, 4], Activation: Sigmoid, Epochs: 10, LR: 0.0001, Batch Size: 64, Accuracy: 0.0769\n",
      "Hidden Layers: [16, 8, 4], Activation: Sigmoid, Epochs: 10, LR: 0.0001, Batch Size: 128, Accuracy: 0.0000\n",
      "Hidden Layers: [16, 8, 4], Activation: Sigmoid, Epochs: 10, LR: 0.0001, Batch Size: 256, Accuracy: 0.0769\n",
      "Hidden Layers: [16, 8, 4], Activation: Sigmoid, Epochs: 10, LR: 0.0001, Batch Size: 512, Accuracy: 0.0000\n",
      "Hidden Layers: [16, 8, 4], Activation: Sigmoid, Epochs: 25, LR: 10, Batch Size: 16, Accuracy: 0.0385\n",
      "Hidden Layers: [16, 8, 4], Activation: Sigmoid, Epochs: 25, LR: 10, Batch Size: 32, Accuracy: 0.0769\n",
      "Hidden Layers: [16, 8, 4], Activation: Sigmoid, Epochs: 25, LR: 10, Batch Size: 64, Accuracy: 0.0692\n",
      "Hidden Layers: [16, 8, 4], Activation: Sigmoid, Epochs: 25, LR: 10, Batch Size: 128, Accuracy: 0.1923\n",
      "Hidden Layers: [16, 8, 4], Activation: Sigmoid, Epochs: 25, LR: 10, Batch Size: 256, Accuracy: 0.0538\n",
      "Hidden Layers: [16, 8, 4], Activation: Sigmoid, Epochs: 25, LR: 10, Batch Size: 512, Accuracy: 0.1000\n",
      "Hidden Layers: [16, 8, 4], Activation: Sigmoid, Epochs: 25, LR: 1, Batch Size: 16, Accuracy: 0.1308\n",
      "Hidden Layers: [16, 8, 4], Activation: Sigmoid, Epochs: 25, LR: 1, Batch Size: 32, Accuracy: 0.1000\n",
      "Hidden Layers: [16, 8, 4], Activation: Sigmoid, Epochs: 25, LR: 1, Batch Size: 64, Accuracy: 0.1231\n",
      "Hidden Layers: [16, 8, 4], Activation: Sigmoid, Epochs: 25, LR: 1, Batch Size: 128, Accuracy: 0.1231\n",
      "Hidden Layers: [16, 8, 4], Activation: Sigmoid, Epochs: 25, LR: 1, Batch Size: 256, Accuracy: 0.1231\n",
      "Hidden Layers: [16, 8, 4], Activation: Sigmoid, Epochs: 25, LR: 1, Batch Size: 512, Accuracy: 0.0538\n",
      "Hidden Layers: [16, 8, 4], Activation: Sigmoid, Epochs: 25, LR: 0.1, Batch Size: 16, Accuracy: 0.3615\n",
      "Hidden Layers: [16, 8, 4], Activation: Sigmoid, Epochs: 25, LR: 0.1, Batch Size: 32, Accuracy: 0.1923\n",
      "Hidden Layers: [16, 8, 4], Activation: Sigmoid, Epochs: 25, LR: 0.1, Batch Size: 64, Accuracy: 0.2538\n",
      "Hidden Layers: [16, 8, 4], Activation: Sigmoid, Epochs: 25, LR: 0.1, Batch Size: 128, Accuracy: 0.3077\n",
      "Hidden Layers: [16, 8, 4], Activation: Sigmoid, Epochs: 25, LR: 0.1, Batch Size: 256, Accuracy: 0.2462\n",
      "Hidden Layers: [16, 8, 4], Activation: Sigmoid, Epochs: 25, LR: 0.1, Batch Size: 512, Accuracy: 0.1000\n",
      "Hidden Layers: [16, 8, 4], Activation: Sigmoid, Epochs: 25, LR: 0.01, Batch Size: 16, Accuracy: 0.3769\n",
      "Hidden Layers: [16, 8, 4], Activation: Sigmoid, Epochs: 25, LR: 0.01, Batch Size: 32, Accuracy: 0.3000\n",
      "Hidden Layers: [16, 8, 4], Activation: Sigmoid, Epochs: 25, LR: 0.01, Batch Size: 64, Accuracy: 0.3000\n",
      "Hidden Layers: [16, 8, 4], Activation: Sigmoid, Epochs: 25, LR: 0.01, Batch Size: 128, Accuracy: 0.2231\n",
      "Hidden Layers: [16, 8, 4], Activation: Sigmoid, Epochs: 25, LR: 0.01, Batch Size: 256, Accuracy: 0.1923\n",
      "Hidden Layers: [16, 8, 4], Activation: Sigmoid, Epochs: 25, LR: 0.01, Batch Size: 512, Accuracy: 0.1923\n",
      "Hidden Layers: [16, 8, 4], Activation: Sigmoid, Epochs: 25, LR: 0.001, Batch Size: 16, Accuracy: 0.1385\n",
      "Hidden Layers: [16, 8, 4], Activation: Sigmoid, Epochs: 25, LR: 0.001, Batch Size: 32, Accuracy: 0.1923\n",
      "Hidden Layers: [16, 8, 4], Activation: Sigmoid, Epochs: 25, LR: 0.001, Batch Size: 64, Accuracy: 0.1923\n",
      "Hidden Layers: [16, 8, 4], Activation: Sigmoid, Epochs: 25, LR: 0.001, Batch Size: 128, Accuracy: 0.1000\n",
      "Hidden Layers: [16, 8, 4], Activation: Sigmoid, Epochs: 25, LR: 0.001, Batch Size: 256, Accuracy: 0.0000\n",
      "Hidden Layers: [16, 8, 4], Activation: Sigmoid, Epochs: 25, LR: 0.001, Batch Size: 512, Accuracy: 0.0000\n",
      "Hidden Layers: [16, 8, 4], Activation: Sigmoid, Epochs: 25, LR: 0.0001, Batch Size: 16, Accuracy: 0.1923\n",
      "Hidden Layers: [16, 8, 4], Activation: Sigmoid, Epochs: 25, LR: 0.0001, Batch Size: 32, Accuracy: 0.0000\n",
      "Hidden Layers: [16, 8, 4], Activation: Sigmoid, Epochs: 25, LR: 0.0001, Batch Size: 64, Accuracy: 0.0538\n",
      "Hidden Layers: [16, 8, 4], Activation: Sigmoid, Epochs: 25, LR: 0.0001, Batch Size: 128, Accuracy: 0.0000\n",
      "Hidden Layers: [16, 8, 4], Activation: Sigmoid, Epochs: 25, LR: 0.0001, Batch Size: 256, Accuracy: 0.0077\n",
      "Hidden Layers: [16, 8, 4], Activation: Sigmoid, Epochs: 25, LR: 0.0001, Batch Size: 512, Accuracy: 0.0692\n",
      "Hidden Layers: [16, 8, 4], Activation: Sigmoid, Epochs: 50, LR: 10, Batch Size: 16, Accuracy: 0.1000\n",
      "Hidden Layers: [16, 8, 4], Activation: Sigmoid, Epochs: 50, LR: 10, Batch Size: 32, Accuracy: 0.0538\n",
      "Hidden Layers: [16, 8, 4], Activation: Sigmoid, Epochs: 50, LR: 10, Batch Size: 64, Accuracy: 0.1308\n",
      "Hidden Layers: [16, 8, 4], Activation: Sigmoid, Epochs: 50, LR: 10, Batch Size: 128, Accuracy: 0.1231\n",
      "Hidden Layers: [16, 8, 4], Activation: Sigmoid, Epochs: 50, LR: 10, Batch Size: 256, Accuracy: 0.1923\n",
      "Hidden Layers: [16, 8, 4], Activation: Sigmoid, Epochs: 50, LR: 10, Batch Size: 512, Accuracy: 0.0923\n",
      "Hidden Layers: [16, 8, 4], Activation: Sigmoid, Epochs: 50, LR: 1, Batch Size: 16, Accuracy: 0.0923\n",
      "Hidden Layers: [16, 8, 4], Activation: Sigmoid, Epochs: 50, LR: 1, Batch Size: 32, Accuracy: 0.1923\n",
      "Hidden Layers: [16, 8, 4], Activation: Sigmoid, Epochs: 50, LR: 1, Batch Size: 64, Accuracy: 0.1923\n",
      "Hidden Layers: [16, 8, 4], Activation: Sigmoid, Epochs: 50, LR: 1, Batch Size: 128, Accuracy: 0.1923\n",
      "Hidden Layers: [16, 8, 4], Activation: Sigmoid, Epochs: 50, LR: 1, Batch Size: 256, Accuracy: 0.1923\n",
      "Hidden Layers: [16, 8, 4], Activation: Sigmoid, Epochs: 50, LR: 1, Batch Size: 512, Accuracy: 0.0923\n",
      "Hidden Layers: [16, 8, 4], Activation: Sigmoid, Epochs: 50, LR: 0.1, Batch Size: 16, Accuracy: 0.3385\n",
      "Hidden Layers: [16, 8, 4], Activation: Sigmoid, Epochs: 50, LR: 0.1, Batch Size: 32, Accuracy: 0.3231\n",
      "Hidden Layers: [16, 8, 4], Activation: Sigmoid, Epochs: 50, LR: 0.1, Batch Size: 64, Accuracy: 0.3692\n",
      "Hidden Layers: [16, 8, 4], Activation: Sigmoid, Epochs: 50, LR: 0.1, Batch Size: 128, Accuracy: 0.2846\n",
      "Hidden Layers: [16, 8, 4], Activation: Sigmoid, Epochs: 50, LR: 0.1, Batch Size: 256, Accuracy: 0.3231\n",
      "Hidden Layers: [16, 8, 4], Activation: Sigmoid, Epochs: 50, LR: 0.1, Batch Size: 512, Accuracy: 0.2000\n",
      "Hidden Layers: [16, 8, 4], Activation: Sigmoid, Epochs: 50, LR: 0.01, Batch Size: 16, Accuracy: 0.4462\n",
      "Hidden Layers: [16, 8, 4], Activation: Sigmoid, Epochs: 50, LR: 0.01, Batch Size: 32, Accuracy: 0.3846\n",
      "Hidden Layers: [16, 8, 4], Activation: Sigmoid, Epochs: 50, LR: 0.01, Batch Size: 64, Accuracy: 0.3000\n",
      "Hidden Layers: [16, 8, 4], Activation: Sigmoid, Epochs: 50, LR: 0.01, Batch Size: 128, Accuracy: 0.2462\n",
      "Hidden Layers: [16, 8, 4], Activation: Sigmoid, Epochs: 50, LR: 0.01, Batch Size: 256, Accuracy: 0.2077\n",
      "Hidden Layers: [16, 8, 4], Activation: Sigmoid, Epochs: 50, LR: 0.01, Batch Size: 512, Accuracy: 0.1231\n",
      "Hidden Layers: [16, 8, 4], Activation: Sigmoid, Epochs: 50, LR: 0.001, Batch Size: 16, Accuracy: 0.2154\n",
      "Hidden Layers: [16, 8, 4], Activation: Sigmoid, Epochs: 50, LR: 0.001, Batch Size: 32, Accuracy: 0.1615\n",
      "Hidden Layers: [16, 8, 4], Activation: Sigmoid, Epochs: 50, LR: 0.001, Batch Size: 64, Accuracy: 0.1923\n",
      "Hidden Layers: [16, 8, 4], Activation: Sigmoid, Epochs: 50, LR: 0.001, Batch Size: 128, Accuracy: 0.1000\n",
      "Hidden Layers: [16, 8, 4], Activation: Sigmoid, Epochs: 50, LR: 0.001, Batch Size: 256, Accuracy: 0.1308\n",
      "Hidden Layers: [16, 8, 4], Activation: Sigmoid, Epochs: 50, LR: 0.001, Batch Size: 512, Accuracy: 0.1000\n",
      "Hidden Layers: [16, 8, 4], Activation: Sigmoid, Epochs: 50, LR: 0.0001, Batch Size: 16, Accuracy: 0.1308\n",
      "Hidden Layers: [16, 8, 4], Activation: Sigmoid, Epochs: 50, LR: 0.0001, Batch Size: 32, Accuracy: 0.1000\n",
      "Hidden Layers: [16, 8, 4], Activation: Sigmoid, Epochs: 50, LR: 0.0001, Batch Size: 64, Accuracy: 0.0077\n",
      "Hidden Layers: [16, 8, 4], Activation: Sigmoid, Epochs: 50, LR: 0.0001, Batch Size: 128, Accuracy: 0.0000\n",
      "Hidden Layers: [16, 8, 4], Activation: Sigmoid, Epochs: 50, LR: 0.0001, Batch Size: 256, Accuracy: 0.0154\n",
      "Hidden Layers: [16, 8, 4], Activation: Sigmoid, Epochs: 50, LR: 0.0001, Batch Size: 512, Accuracy: 0.0000\n",
      "Hidden Layers: [16, 8, 4], Activation: Sigmoid, Epochs: 100, LR: 10, Batch Size: 16, Accuracy: 0.0000\n",
      "Hidden Layers: [16, 8, 4], Activation: Sigmoid, Epochs: 100, LR: 10, Batch Size: 32, Accuracy: 0.1308\n",
      "Hidden Layers: [16, 8, 4], Activation: Sigmoid, Epochs: 100, LR: 10, Batch Size: 64, Accuracy: 0.0538\n",
      "Hidden Layers: [16, 8, 4], Activation: Sigmoid, Epochs: 100, LR: 10, Batch Size: 128, Accuracy: 0.0769\n",
      "Hidden Layers: [16, 8, 4], Activation: Sigmoid, Epochs: 100, LR: 10, Batch Size: 256, Accuracy: 0.0923\n",
      "Hidden Layers: [16, 8, 4], Activation: Sigmoid, Epochs: 100, LR: 10, Batch Size: 512, Accuracy: 0.0923\n",
      "Hidden Layers: [16, 8, 4], Activation: Sigmoid, Epochs: 100, LR: 1, Batch Size: 16, Accuracy: 0.1000\n",
      "Hidden Layers: [16, 8, 4], Activation: Sigmoid, Epochs: 100, LR: 1, Batch Size: 32, Accuracy: 0.0385\n",
      "Hidden Layers: [16, 8, 4], Activation: Sigmoid, Epochs: 100, LR: 1, Batch Size: 64, Accuracy: 0.1000\n",
      "Hidden Layers: [16, 8, 4], Activation: Sigmoid, Epochs: 100, LR: 1, Batch Size: 128, Accuracy: 0.1000\n",
      "Hidden Layers: [16, 8, 4], Activation: Sigmoid, Epochs: 100, LR: 1, Batch Size: 256, Accuracy: 0.0769\n",
      "Hidden Layers: [16, 8, 4], Activation: Sigmoid, Epochs: 100, LR: 1, Batch Size: 512, Accuracy: 0.1923\n",
      "Hidden Layers: [16, 8, 4], Activation: Sigmoid, Epochs: 100, LR: 0.1, Batch Size: 16, Accuracy: 0.3846\n",
      "Hidden Layers: [16, 8, 4], Activation: Sigmoid, Epochs: 100, LR: 0.1, Batch Size: 32, Accuracy: 0.3615\n",
      "Hidden Layers: [16, 8, 4], Activation: Sigmoid, Epochs: 100, LR: 0.1, Batch Size: 64, Accuracy: 0.3154\n",
      "Hidden Layers: [16, 8, 4], Activation: Sigmoid, Epochs: 100, LR: 0.1, Batch Size: 128, Accuracy: 0.3385\n",
      "Hidden Layers: [16, 8, 4], Activation: Sigmoid, Epochs: 100, LR: 0.1, Batch Size: 256, Accuracy: 0.3385\n",
      "Hidden Layers: [16, 8, 4], Activation: Sigmoid, Epochs: 100, LR: 0.1, Batch Size: 512, Accuracy: 0.3000\n",
      "Hidden Layers: [16, 8, 4], Activation: Sigmoid, Epochs: 100, LR: 0.01, Batch Size: 16, Accuracy: 0.3769\n",
      "Hidden Layers: [16, 8, 4], Activation: Sigmoid, Epochs: 100, LR: 0.01, Batch Size: 32, Accuracy: 0.3231\n",
      "Hidden Layers: [16, 8, 4], Activation: Sigmoid, Epochs: 100, LR: 0.01, Batch Size: 64, Accuracy: 0.3615\n",
      "Hidden Layers: [16, 8, 4], Activation: Sigmoid, Epochs: 100, LR: 0.01, Batch Size: 128, Accuracy: 0.2692\n",
      "Hidden Layers: [16, 8, 4], Activation: Sigmoid, Epochs: 100, LR: 0.01, Batch Size: 256, Accuracy: 0.3385\n",
      "Hidden Layers: [16, 8, 4], Activation: Sigmoid, Epochs: 100, LR: 0.01, Batch Size: 512, Accuracy: 0.1923\n",
      "Hidden Layers: [16, 8, 4], Activation: Sigmoid, Epochs: 100, LR: 0.001, Batch Size: 16, Accuracy: 0.3000\n",
      "Hidden Layers: [16, 8, 4], Activation: Sigmoid, Epochs: 100, LR: 0.001, Batch Size: 32, Accuracy: 0.2308\n",
      "Hidden Layers: [16, 8, 4], Activation: Sigmoid, Epochs: 100, LR: 0.001, Batch Size: 64, Accuracy: 0.2000\n",
      "Hidden Layers: [16, 8, 4], Activation: Sigmoid, Epochs: 100, LR: 0.001, Batch Size: 128, Accuracy: 0.2231\n",
      "Hidden Layers: [16, 8, 4], Activation: Sigmoid, Epochs: 100, LR: 0.001, Batch Size: 256, Accuracy: 0.1308\n",
      "Hidden Layers: [16, 8, 4], Activation: Sigmoid, Epochs: 100, LR: 0.001, Batch Size: 512, Accuracy: 0.1000\n",
      "Hidden Layers: [16, 8, 4], Activation: Sigmoid, Epochs: 100, LR: 0.0001, Batch Size: 16, Accuracy: 0.1923\n",
      "Hidden Layers: [16, 8, 4], Activation: Sigmoid, Epochs: 100, LR: 0.0001, Batch Size: 32, Accuracy: 0.1923\n",
      "Hidden Layers: [16, 8, 4], Activation: Sigmoid, Epochs: 100, LR: 0.0001, Batch Size: 64, Accuracy: 0.1000\n",
      "Hidden Layers: [16, 8, 4], Activation: Sigmoid, Epochs: 100, LR: 0.0001, Batch Size: 128, Accuracy: 0.0154\n",
      "Hidden Layers: [16, 8, 4], Activation: Sigmoid, Epochs: 100, LR: 0.0001, Batch Size: 256, Accuracy: 0.0538\n",
      "Hidden Layers: [16, 8, 4], Activation: Sigmoid, Epochs: 100, LR: 0.0001, Batch Size: 512, Accuracy: 0.0923\n",
      "Hidden Layers: [16, 8, 4], Activation: Sigmoid, Epochs: 250, LR: 10, Batch Size: 16, Accuracy: 0.1000\n",
      "Hidden Layers: [16, 8, 4], Activation: Sigmoid, Epochs: 250, LR: 10, Batch Size: 32, Accuracy: 0.1231\n",
      "Hidden Layers: [16, 8, 4], Activation: Sigmoid, Epochs: 250, LR: 10, Batch Size: 64, Accuracy: 0.1000\n",
      "Hidden Layers: [16, 8, 4], Activation: Sigmoid, Epochs: 250, LR: 10, Batch Size: 128, Accuracy: 0.1000\n",
      "Hidden Layers: [16, 8, 4], Activation: Sigmoid, Epochs: 250, LR: 10, Batch Size: 256, Accuracy: 0.0538\n",
      "Hidden Layers: [16, 8, 4], Activation: Sigmoid, Epochs: 250, LR: 10, Batch Size: 512, Accuracy: 0.1308\n",
      "Hidden Layers: [16, 8, 4], Activation: Sigmoid, Epochs: 250, LR: 1, Batch Size: 16, Accuracy: 0.1000\n",
      "Hidden Layers: [16, 8, 4], Activation: Sigmoid, Epochs: 250, LR: 1, Batch Size: 32, Accuracy: 0.1923\n",
      "Hidden Layers: [16, 8, 4], Activation: Sigmoid, Epochs: 250, LR: 1, Batch Size: 64, Accuracy: 0.1308\n",
      "Hidden Layers: [16, 8, 4], Activation: Sigmoid, Epochs: 250, LR: 1, Batch Size: 128, Accuracy: 0.1000\n",
      "Hidden Layers: [16, 8, 4], Activation: Sigmoid, Epochs: 250, LR: 1, Batch Size: 256, Accuracy: 0.1923\n",
      "Hidden Layers: [16, 8, 4], Activation: Sigmoid, Epochs: 250, LR: 1, Batch Size: 512, Accuracy: 0.1000\n",
      "Hidden Layers: [16, 8, 4], Activation: Sigmoid, Epochs: 250, LR: 0.1, Batch Size: 16, Accuracy: 0.3846\n",
      "Hidden Layers: [16, 8, 4], Activation: Sigmoid, Epochs: 250, LR: 0.1, Batch Size: 32, Accuracy: 0.3615\n",
      "Hidden Layers: [16, 8, 4], Activation: Sigmoid, Epochs: 250, LR: 0.1, Batch Size: 64, Accuracy: 0.3462\n",
      "Hidden Layers: [16, 8, 4], Activation: Sigmoid, Epochs: 250, LR: 0.1, Batch Size: 128, Accuracy: 0.3846\n",
      "Hidden Layers: [16, 8, 4], Activation: Sigmoid, Epochs: 250, LR: 0.1, Batch Size: 256, Accuracy: 0.3692\n",
      "Hidden Layers: [16, 8, 4], Activation: Sigmoid, Epochs: 250, LR: 0.1, Batch Size: 512, Accuracy: 0.3231\n",
      "Hidden Layers: [16, 8, 4], Activation: Sigmoid, Epochs: 250, LR: 0.01, Batch Size: 16, Accuracy: 0.4077\n",
      "Hidden Layers: [16, 8, 4], Activation: Sigmoid, Epochs: 250, LR: 0.01, Batch Size: 32, Accuracy: 0.3923\n",
      "Hidden Layers: [16, 8, 4], Activation: Sigmoid, Epochs: 250, LR: 0.01, Batch Size: 64, Accuracy: 0.3769\n",
      "Hidden Layers: [16, 8, 4], Activation: Sigmoid, Epochs: 250, LR: 0.01, Batch Size: 128, Accuracy: 0.3846\n",
      "Hidden Layers: [16, 8, 4], Activation: Sigmoid, Epochs: 250, LR: 0.01, Batch Size: 256, Accuracy: 0.4154\n",
      "Hidden Layers: [16, 8, 4], Activation: Sigmoid, Epochs: 250, LR: 0.01, Batch Size: 512, Accuracy: 0.3154\n",
      "Hidden Layers: [16, 8, 4], Activation: Sigmoid, Epochs: 250, LR: 0.001, Batch Size: 16, Accuracy: 0.3231\n",
      "Hidden Layers: [16, 8, 4], Activation: Sigmoid, Epochs: 250, LR: 0.001, Batch Size: 32, Accuracy: 0.3846\n",
      "Hidden Layers: [16, 8, 4], Activation: Sigmoid, Epochs: 250, LR: 0.001, Batch Size: 64, Accuracy: 0.2692\n",
      "Hidden Layers: [16, 8, 4], Activation: Sigmoid, Epochs: 250, LR: 0.001, Batch Size: 128, Accuracy: 0.1692\n",
      "Hidden Layers: [16, 8, 4], Activation: Sigmoid, Epochs: 250, LR: 0.001, Batch Size: 256, Accuracy: 0.1308\n",
      "Hidden Layers: [16, 8, 4], Activation: Sigmoid, Epochs: 250, LR: 0.001, Batch Size: 512, Accuracy: 0.1308\n",
      "Hidden Layers: [16, 8, 4], Activation: Sigmoid, Epochs: 250, LR: 0.0001, Batch Size: 16, Accuracy: 0.1385\n",
      "Hidden Layers: [16, 8, 4], Activation: Sigmoid, Epochs: 250, LR: 0.0001, Batch Size: 32, Accuracy: 0.0923\n",
      "Hidden Layers: [16, 8, 4], Activation: Sigmoid, Epochs: 250, LR: 0.0001, Batch Size: 64, Accuracy: 0.1000\n",
      "Hidden Layers: [16, 8, 4], Activation: Sigmoid, Epochs: 250, LR: 0.0001, Batch Size: 128, Accuracy: 0.1308\n",
      "Hidden Layers: [16, 8, 4], Activation: Sigmoid, Epochs: 250, LR: 0.0001, Batch Size: 256, Accuracy: 0.1231\n",
      "Hidden Layers: [16, 8, 4], Activation: Sigmoid, Epochs: 250, LR: 0.0001, Batch Size: 512, Accuracy: 0.1923\n",
      "Hidden Layers: [16, 8, 4], Activation: ReLU, Epochs: 1, LR: 10, Batch Size: 16, Accuracy: 0.1000\n",
      "Hidden Layers: [16, 8, 4], Activation: ReLU, Epochs: 1, LR: 10, Batch Size: 32, Accuracy: 0.1923\n",
      "Hidden Layers: [16, 8, 4], Activation: ReLU, Epochs: 1, LR: 10, Batch Size: 64, Accuracy: 0.0692\n",
      "Hidden Layers: [16, 8, 4], Activation: ReLU, Epochs: 1, LR: 10, Batch Size: 128, Accuracy: 0.0923\n",
      "Hidden Layers: [16, 8, 4], Activation: ReLU, Epochs: 1, LR: 10, Batch Size: 256, Accuracy: 0.1000\n",
      "Hidden Layers: [16, 8, 4], Activation: ReLU, Epochs: 1, LR: 10, Batch Size: 512, Accuracy: 0.0769\n",
      "Hidden Layers: [16, 8, 4], Activation: ReLU, Epochs: 1, LR: 1, Batch Size: 16, Accuracy: 0.0923\n",
      "Hidden Layers: [16, 8, 4], Activation: ReLU, Epochs: 1, LR: 1, Batch Size: 32, Accuracy: 0.1923\n",
      "Hidden Layers: [16, 8, 4], Activation: ReLU, Epochs: 1, LR: 1, Batch Size: 64, Accuracy: 0.1923\n",
      "Hidden Layers: [16, 8, 4], Activation: ReLU, Epochs: 1, LR: 1, Batch Size: 128, Accuracy: 0.1000\n",
      "Hidden Layers: [16, 8, 4], Activation: ReLU, Epochs: 1, LR: 1, Batch Size: 256, Accuracy: 0.1231\n",
      "Hidden Layers: [16, 8, 4], Activation: ReLU, Epochs: 1, LR: 1, Batch Size: 512, Accuracy: 0.1308\n",
      "Hidden Layers: [16, 8, 4], Activation: ReLU, Epochs: 1, LR: 0.1, Batch Size: 16, Accuracy: 0.2385\n",
      "Hidden Layers: [16, 8, 4], Activation: ReLU, Epochs: 1, LR: 0.1, Batch Size: 32, Accuracy: 0.1308\n",
      "Hidden Layers: [16, 8, 4], Activation: ReLU, Epochs: 1, LR: 0.1, Batch Size: 64, Accuracy: 0.1308\n",
      "Hidden Layers: [16, 8, 4], Activation: ReLU, Epochs: 1, LR: 0.1, Batch Size: 128, Accuracy: 0.1462\n",
      "Hidden Layers: [16, 8, 4], Activation: ReLU, Epochs: 1, LR: 0.1, Batch Size: 256, Accuracy: 0.1000\n",
      "Hidden Layers: [16, 8, 4], Activation: ReLU, Epochs: 1, LR: 0.1, Batch Size: 512, Accuracy: 0.0000\n",
      "Hidden Layers: [16, 8, 4], Activation: ReLU, Epochs: 1, LR: 0.01, Batch Size: 16, Accuracy: 0.1923\n",
      "Hidden Layers: [16, 8, 4], Activation: ReLU, Epochs: 1, LR: 0.01, Batch Size: 32, Accuracy: 0.1000\n",
      "Hidden Layers: [16, 8, 4], Activation: ReLU, Epochs: 1, LR: 0.01, Batch Size: 64, Accuracy: 0.1000\n",
      "Hidden Layers: [16, 8, 4], Activation: ReLU, Epochs: 1, LR: 0.01, Batch Size: 128, Accuracy: 0.1231\n",
      "Hidden Layers: [16, 8, 4], Activation: ReLU, Epochs: 1, LR: 0.01, Batch Size: 256, Accuracy: 0.1154\n",
      "Hidden Layers: [16, 8, 4], Activation: ReLU, Epochs: 1, LR: 0.01, Batch Size: 512, Accuracy: 0.0077\n",
      "Hidden Layers: [16, 8, 4], Activation: ReLU, Epochs: 1, LR: 0.001, Batch Size: 16, Accuracy: 0.0154\n",
      "Hidden Layers: [16, 8, 4], Activation: ReLU, Epochs: 1, LR: 0.001, Batch Size: 32, Accuracy: 0.0231\n",
      "Hidden Layers: [16, 8, 4], Activation: ReLU, Epochs: 1, LR: 0.001, Batch Size: 64, Accuracy: 0.0769\n",
      "Hidden Layers: [16, 8, 4], Activation: ReLU, Epochs: 1, LR: 0.001, Batch Size: 128, Accuracy: 0.1308\n",
      "Hidden Layers: [16, 8, 4], Activation: ReLU, Epochs: 1, LR: 0.001, Batch Size: 256, Accuracy: 0.0000\n",
      "Hidden Layers: [16, 8, 4], Activation: ReLU, Epochs: 1, LR: 0.001, Batch Size: 512, Accuracy: 0.0769\n",
      "Hidden Layers: [16, 8, 4], Activation: ReLU, Epochs: 1, LR: 0.0001, Batch Size: 16, Accuracy: 0.0769\n",
      "Hidden Layers: [16, 8, 4], Activation: ReLU, Epochs: 1, LR: 0.0001, Batch Size: 32, Accuracy: 0.1923\n",
      "Hidden Layers: [16, 8, 4], Activation: ReLU, Epochs: 1, LR: 0.0001, Batch Size: 64, Accuracy: 0.0000\n",
      "Hidden Layers: [16, 8, 4], Activation: ReLU, Epochs: 1, LR: 0.0001, Batch Size: 128, Accuracy: 0.0692\n",
      "Hidden Layers: [16, 8, 4], Activation: ReLU, Epochs: 1, LR: 0.0001, Batch Size: 256, Accuracy: 0.0692\n",
      "Hidden Layers: [16, 8, 4], Activation: ReLU, Epochs: 1, LR: 0.0001, Batch Size: 512, Accuracy: 0.0000\n",
      "Hidden Layers: [16, 8, 4], Activation: ReLU, Epochs: 10, LR: 10, Batch Size: 16, Accuracy: 0.1923\n",
      "Hidden Layers: [16, 8, 4], Activation: ReLU, Epochs: 10, LR: 10, Batch Size: 32, Accuracy: 0.0769\n",
      "Hidden Layers: [16, 8, 4], Activation: ReLU, Epochs: 10, LR: 10, Batch Size: 64, Accuracy: 0.1923\n",
      "Hidden Layers: [16, 8, 4], Activation: ReLU, Epochs: 10, LR: 10, Batch Size: 128, Accuracy: 0.0923\n",
      "Hidden Layers: [16, 8, 4], Activation: ReLU, Epochs: 10, LR: 10, Batch Size: 256, Accuracy: 0.1000\n",
      "Hidden Layers: [16, 8, 4], Activation: ReLU, Epochs: 10, LR: 10, Batch Size: 512, Accuracy: 0.0385\n",
      "Hidden Layers: [16, 8, 4], Activation: ReLU, Epochs: 10, LR: 1, Batch Size: 16, Accuracy: 0.0385\n",
      "Hidden Layers: [16, 8, 4], Activation: ReLU, Epochs: 10, LR: 1, Batch Size: 32, Accuracy: 0.1000\n",
      "Hidden Layers: [16, 8, 4], Activation: ReLU, Epochs: 10, LR: 1, Batch Size: 64, Accuracy: 0.1308\n",
      "Hidden Layers: [16, 8, 4], Activation: ReLU, Epochs: 10, LR: 1, Batch Size: 128, Accuracy: 0.0769\n",
      "Hidden Layers: [16, 8, 4], Activation: ReLU, Epochs: 10, LR: 1, Batch Size: 256, Accuracy: 0.1000\n",
      "Hidden Layers: [16, 8, 4], Activation: ReLU, Epochs: 10, LR: 1, Batch Size: 512, Accuracy: 0.1923\n",
      "Hidden Layers: [16, 8, 4], Activation: ReLU, Epochs: 10, LR: 0.1, Batch Size: 16, Accuracy: 0.1308\n",
      "Hidden Layers: [16, 8, 4], Activation: ReLU, Epochs: 10, LR: 0.1, Batch Size: 32, Accuracy: 0.3462\n",
      "Hidden Layers: [16, 8, 4], Activation: ReLU, Epochs: 10, LR: 0.1, Batch Size: 64, Accuracy: 0.3231\n",
      "Hidden Layers: [16, 8, 4], Activation: ReLU, Epochs: 10, LR: 0.1, Batch Size: 128, Accuracy: 0.2462\n",
      "Hidden Layers: [16, 8, 4], Activation: ReLU, Epochs: 10, LR: 0.1, Batch Size: 256, Accuracy: 0.1923\n",
      "Hidden Layers: [16, 8, 4], Activation: ReLU, Epochs: 10, LR: 0.1, Batch Size: 512, Accuracy: 0.1308\n",
      "Hidden Layers: [16, 8, 4], Activation: ReLU, Epochs: 10, LR: 0.01, Batch Size: 16, Accuracy: 0.3538\n",
      "Hidden Layers: [16, 8, 4], Activation: ReLU, Epochs: 10, LR: 0.01, Batch Size: 32, Accuracy: 0.3462\n",
      "Hidden Layers: [16, 8, 4], Activation: ReLU, Epochs: 10, LR: 0.01, Batch Size: 64, Accuracy: 0.2923\n",
      "Hidden Layers: [16, 8, 4], Activation: ReLU, Epochs: 10, LR: 0.01, Batch Size: 128, Accuracy: 0.2308\n",
      "Hidden Layers: [16, 8, 4], Activation: ReLU, Epochs: 10, LR: 0.01, Batch Size: 256, Accuracy: 0.1923\n",
      "Hidden Layers: [16, 8, 4], Activation: ReLU, Epochs: 10, LR: 0.01, Batch Size: 512, Accuracy: 0.1000\n",
      "Hidden Layers: [16, 8, 4], Activation: ReLU, Epochs: 10, LR: 0.001, Batch Size: 16, Accuracy: 0.1692\n",
      "Hidden Layers: [16, 8, 4], Activation: ReLU, Epochs: 10, LR: 0.001, Batch Size: 32, Accuracy: 0.1231\n",
      "Hidden Layers: [16, 8, 4], Activation: ReLU, Epochs: 10, LR: 0.001, Batch Size: 64, Accuracy: 0.1846\n",
      "Hidden Layers: [16, 8, 4], Activation: ReLU, Epochs: 10, LR: 0.001, Batch Size: 128, Accuracy: 0.0154\n",
      "Hidden Layers: [16, 8, 4], Activation: ReLU, Epochs: 10, LR: 0.001, Batch Size: 256, Accuracy: 0.0385\n",
      "Hidden Layers: [16, 8, 4], Activation: ReLU, Epochs: 10, LR: 0.001, Batch Size: 512, Accuracy: 0.0000\n",
      "Hidden Layers: [16, 8, 4], Activation: ReLU, Epochs: 10, LR: 0.0001, Batch Size: 16, Accuracy: 0.1923\n",
      "Hidden Layers: [16, 8, 4], Activation: ReLU, Epochs: 10, LR: 0.0001, Batch Size: 32, Accuracy: 0.0385\n",
      "Hidden Layers: [16, 8, 4], Activation: ReLU, Epochs: 10, LR: 0.0001, Batch Size: 64, Accuracy: 0.1308\n",
      "Hidden Layers: [16, 8, 4], Activation: ReLU, Epochs: 10, LR: 0.0001, Batch Size: 128, Accuracy: 0.1615\n",
      "Hidden Layers: [16, 8, 4], Activation: ReLU, Epochs: 10, LR: 0.0001, Batch Size: 256, Accuracy: 0.0923\n",
      "Hidden Layers: [16, 8, 4], Activation: ReLU, Epochs: 10, LR: 0.0001, Batch Size: 512, Accuracy: 0.0769\n",
      "Hidden Layers: [16, 8, 4], Activation: ReLU, Epochs: 25, LR: 10, Batch Size: 16, Accuracy: 0.1000\n",
      "Hidden Layers: [16, 8, 4], Activation: ReLU, Epochs: 25, LR: 10, Batch Size: 32, Accuracy: 0.1923\n",
      "Hidden Layers: [16, 8, 4], Activation: ReLU, Epochs: 25, LR: 10, Batch Size: 64, Accuracy: 0.1231\n",
      "Hidden Layers: [16, 8, 4], Activation: ReLU, Epochs: 25, LR: 10, Batch Size: 128, Accuracy: 0.1923\n",
      "Hidden Layers: [16, 8, 4], Activation: ReLU, Epochs: 25, LR: 10, Batch Size: 256, Accuracy: 0.0923\n",
      "Hidden Layers: [16, 8, 4], Activation: ReLU, Epochs: 25, LR: 10, Batch Size: 512, Accuracy: 0.1000\n",
      "Hidden Layers: [16, 8, 4], Activation: ReLU, Epochs: 25, LR: 1, Batch Size: 16, Accuracy: 0.1923\n",
      "Hidden Layers: [16, 8, 4], Activation: ReLU, Epochs: 25, LR: 1, Batch Size: 32, Accuracy: 0.0923\n",
      "Hidden Layers: [16, 8, 4], Activation: ReLU, Epochs: 25, LR: 1, Batch Size: 64, Accuracy: 0.1000\n",
      "Hidden Layers: [16, 8, 4], Activation: ReLU, Epochs: 25, LR: 1, Batch Size: 128, Accuracy: 0.1308\n",
      "Hidden Layers: [16, 8, 4], Activation: ReLU, Epochs: 25, LR: 1, Batch Size: 256, Accuracy: 0.1000\n",
      "Hidden Layers: [16, 8, 4], Activation: ReLU, Epochs: 25, LR: 1, Batch Size: 512, Accuracy: 0.1000\n",
      "Hidden Layers: [16, 8, 4], Activation: ReLU, Epochs: 25, LR: 0.1, Batch Size: 16, Accuracy: 0.3462\n",
      "Hidden Layers: [16, 8, 4], Activation: ReLU, Epochs: 25, LR: 0.1, Batch Size: 32, Accuracy: 0.4154\n",
      "Hidden Layers: [16, 8, 4], Activation: ReLU, Epochs: 25, LR: 0.1, Batch Size: 64, Accuracy: 0.4846\n",
      "Hidden Layers: [16, 8, 4], Activation: ReLU, Epochs: 25, LR: 0.1, Batch Size: 128, Accuracy: 0.2077\n",
      "Hidden Layers: [16, 8, 4], Activation: ReLU, Epochs: 25, LR: 0.1, Batch Size: 256, Accuracy: 0.1923\n",
      "Hidden Layers: [16, 8, 4], Activation: ReLU, Epochs: 25, LR: 0.1, Batch Size: 512, Accuracy: 0.1846\n",
      "Hidden Layers: [16, 8, 4], Activation: ReLU, Epochs: 25, LR: 0.01, Batch Size: 16, Accuracy: 0.4000\n",
      "Hidden Layers: [16, 8, 4], Activation: ReLU, Epochs: 25, LR: 0.01, Batch Size: 32, Accuracy: 0.4692\n",
      "Hidden Layers: [16, 8, 4], Activation: ReLU, Epochs: 25, LR: 0.01, Batch Size: 64, Accuracy: 0.2769\n",
      "Hidden Layers: [16, 8, 4], Activation: ReLU, Epochs: 25, LR: 0.01, Batch Size: 128, Accuracy: 0.3692\n",
      "Hidden Layers: [16, 8, 4], Activation: ReLU, Epochs: 25, LR: 0.01, Batch Size: 256, Accuracy: 0.2692\n",
      "Hidden Layers: [16, 8, 4], Activation: ReLU, Epochs: 25, LR: 0.01, Batch Size: 512, Accuracy: 0.2308\n",
      "Hidden Layers: [16, 8, 4], Activation: ReLU, Epochs: 25, LR: 0.001, Batch Size: 16, Accuracy: 0.3231\n",
      "Hidden Layers: [16, 8, 4], Activation: ReLU, Epochs: 25, LR: 0.001, Batch Size: 32, Accuracy: 0.3692\n",
      "Hidden Layers: [16, 8, 4], Activation: ReLU, Epochs: 25, LR: 0.001, Batch Size: 64, Accuracy: 0.2769\n",
      "Hidden Layers: [16, 8, 4], Activation: ReLU, Epochs: 25, LR: 0.001, Batch Size: 128, Accuracy: 0.1385\n",
      "Hidden Layers: [16, 8, 4], Activation: ReLU, Epochs: 25, LR: 0.001, Batch Size: 256, Accuracy: 0.0000\n",
      "Hidden Layers: [16, 8, 4], Activation: ReLU, Epochs: 25, LR: 0.001, Batch Size: 512, Accuracy: 0.0538\n",
      "Hidden Layers: [16, 8, 4], Activation: ReLU, Epochs: 25, LR: 0.0001, Batch Size: 16, Accuracy: 0.0692\n",
      "Hidden Layers: [16, 8, 4], Activation: ReLU, Epochs: 25, LR: 0.0001, Batch Size: 32, Accuracy: 0.1231\n",
      "Hidden Layers: [16, 8, 4], Activation: ReLU, Epochs: 25, LR: 0.0001, Batch Size: 64, Accuracy: 0.1308\n",
      "Hidden Layers: [16, 8, 4], Activation: ReLU, Epochs: 25, LR: 0.0001, Batch Size: 128, Accuracy: 0.1000\n",
      "Hidden Layers: [16, 8, 4], Activation: ReLU, Epochs: 25, LR: 0.0001, Batch Size: 256, Accuracy: 0.0923\n",
      "Hidden Layers: [16, 8, 4], Activation: ReLU, Epochs: 25, LR: 0.0001, Batch Size: 512, Accuracy: 0.1923\n",
      "Hidden Layers: [16, 8, 4], Activation: ReLU, Epochs: 50, LR: 10, Batch Size: 16, Accuracy: 0.0769\n",
      "Hidden Layers: [16, 8, 4], Activation: ReLU, Epochs: 50, LR: 10, Batch Size: 32, Accuracy: 0.0769\n",
      "Hidden Layers: [16, 8, 4], Activation: ReLU, Epochs: 50, LR: 10, Batch Size: 64, Accuracy: 0.0769\n",
      "Hidden Layers: [16, 8, 4], Activation: ReLU, Epochs: 50, LR: 10, Batch Size: 128, Accuracy: 0.1000\n",
      "Hidden Layers: [16, 8, 4], Activation: ReLU, Epochs: 50, LR: 10, Batch Size: 256, Accuracy: 0.0692\n",
      "Hidden Layers: [16, 8, 4], Activation: ReLU, Epochs: 50, LR: 10, Batch Size: 512, Accuracy: 0.0154\n",
      "Hidden Layers: [16, 8, 4], Activation: ReLU, Epochs: 50, LR: 1, Batch Size: 16, Accuracy: 0.0923\n",
      "Hidden Layers: [16, 8, 4], Activation: ReLU, Epochs: 50, LR: 1, Batch Size: 32, Accuracy: 0.1923\n",
      "Hidden Layers: [16, 8, 4], Activation: ReLU, Epochs: 50, LR: 1, Batch Size: 64, Accuracy: 0.1000\n",
      "Hidden Layers: [16, 8, 4], Activation: ReLU, Epochs: 50, LR: 1, Batch Size: 128, Accuracy: 0.1308\n",
      "Hidden Layers: [16, 8, 4], Activation: ReLU, Epochs: 50, LR: 1, Batch Size: 256, Accuracy: 0.1000\n",
      "Hidden Layers: [16, 8, 4], Activation: ReLU, Epochs: 50, LR: 1, Batch Size: 512, Accuracy: 0.1308\n",
      "Hidden Layers: [16, 8, 4], Activation: ReLU, Epochs: 50, LR: 0.1, Batch Size: 16, Accuracy: 0.3154\n",
      "Hidden Layers: [16, 8, 4], Activation: ReLU, Epochs: 50, LR: 0.1, Batch Size: 32, Accuracy: 0.4000\n",
      "Hidden Layers: [16, 8, 4], Activation: ReLU, Epochs: 50, LR: 0.1, Batch Size: 64, Accuracy: 0.4077\n",
      "Hidden Layers: [16, 8, 4], Activation: ReLU, Epochs: 50, LR: 0.1, Batch Size: 128, Accuracy: 0.2923\n",
      "Hidden Layers: [16, 8, 4], Activation: ReLU, Epochs: 50, LR: 0.1, Batch Size: 256, Accuracy: 0.4154\n",
      "Hidden Layers: [16, 8, 4], Activation: ReLU, Epochs: 50, LR: 0.1, Batch Size: 512, Accuracy: 0.2769\n",
      "Hidden Layers: [16, 8, 4], Activation: ReLU, Epochs: 50, LR: 0.01, Batch Size: 16, Accuracy: 0.3692\n",
      "Hidden Layers: [16, 8, 4], Activation: ReLU, Epochs: 50, LR: 0.01, Batch Size: 32, Accuracy: 0.4000\n",
      "Hidden Layers: [16, 8, 4], Activation: ReLU, Epochs: 50, LR: 0.01, Batch Size: 64, Accuracy: 0.4769\n",
      "Hidden Layers: [16, 8, 4], Activation: ReLU, Epochs: 50, LR: 0.01, Batch Size: 128, Accuracy: 0.3692\n",
      "Hidden Layers: [16, 8, 4], Activation: ReLU, Epochs: 50, LR: 0.01, Batch Size: 256, Accuracy: 0.3615\n",
      "Hidden Layers: [16, 8, 4], Activation: ReLU, Epochs: 50, LR: 0.01, Batch Size: 512, Accuracy: 0.1462\n",
      "Hidden Layers: [16, 8, 4], Activation: ReLU, Epochs: 50, LR: 0.001, Batch Size: 16, Accuracy: 0.4231\n",
      "Hidden Layers: [16, 8, 4], Activation: ReLU, Epochs: 50, LR: 0.001, Batch Size: 32, Accuracy: 0.4154\n",
      "Hidden Layers: [16, 8, 4], Activation: ReLU, Epochs: 50, LR: 0.001, Batch Size: 64, Accuracy: 0.2846\n",
      "Hidden Layers: [16, 8, 4], Activation: ReLU, Epochs: 50, LR: 0.001, Batch Size: 128, Accuracy: 0.0923\n",
      "Hidden Layers: [16, 8, 4], Activation: ReLU, Epochs: 50, LR: 0.001, Batch Size: 256, Accuracy: 0.1462\n",
      "Hidden Layers: [16, 8, 4], Activation: ReLU, Epochs: 50, LR: 0.001, Batch Size: 512, Accuracy: 0.1923\n",
      "Hidden Layers: [16, 8, 4], Activation: ReLU, Epochs: 50, LR: 0.0001, Batch Size: 16, Accuracy: 0.1538\n",
      "Hidden Layers: [16, 8, 4], Activation: ReLU, Epochs: 50, LR: 0.0001, Batch Size: 32, Accuracy: 0.0769\n",
      "Hidden Layers: [16, 8, 4], Activation: ReLU, Epochs: 50, LR: 0.0001, Batch Size: 64, Accuracy: 0.0077\n",
      "Hidden Layers: [16, 8, 4], Activation: ReLU, Epochs: 50, LR: 0.0001, Batch Size: 128, Accuracy: 0.0692\n",
      "Hidden Layers: [16, 8, 4], Activation: ReLU, Epochs: 50, LR: 0.0001, Batch Size: 256, Accuracy: 0.1923\n",
      "Hidden Layers: [16, 8, 4], Activation: ReLU, Epochs: 50, LR: 0.0001, Batch Size: 512, Accuracy: 0.0692\n",
      "Hidden Layers: [16, 8, 4], Activation: ReLU, Epochs: 100, LR: 10, Batch Size: 16, Accuracy: 0.0538\n",
      "Hidden Layers: [16, 8, 4], Activation: ReLU, Epochs: 100, LR: 10, Batch Size: 32, Accuracy: 0.1308\n",
      "Hidden Layers: [16, 8, 4], Activation: ReLU, Epochs: 100, LR: 10, Batch Size: 64, Accuracy: 0.0385\n",
      "Hidden Layers: [16, 8, 4], Activation: ReLU, Epochs: 100, LR: 10, Batch Size: 128, Accuracy: 0.0692\n",
      "Hidden Layers: [16, 8, 4], Activation: ReLU, Epochs: 100, LR: 10, Batch Size: 256, Accuracy: 0.1923\n",
      "Hidden Layers: [16, 8, 4], Activation: ReLU, Epochs: 100, LR: 10, Batch Size: 512, Accuracy: 0.1923\n",
      "Hidden Layers: [16, 8, 4], Activation: ReLU, Epochs: 100, LR: 1, Batch Size: 16, Accuracy: 0.1308\n",
      "Hidden Layers: [16, 8, 4], Activation: ReLU, Epochs: 100, LR: 1, Batch Size: 32, Accuracy: 0.1923\n",
      "Hidden Layers: [16, 8, 4], Activation: ReLU, Epochs: 100, LR: 1, Batch Size: 64, Accuracy: 0.1308\n",
      "Hidden Layers: [16, 8, 4], Activation: ReLU, Epochs: 100, LR: 1, Batch Size: 128, Accuracy: 0.1308\n",
      "Hidden Layers: [16, 8, 4], Activation: ReLU, Epochs: 100, LR: 1, Batch Size: 256, Accuracy: 0.1308\n",
      "Hidden Layers: [16, 8, 4], Activation: ReLU, Epochs: 100, LR: 1, Batch Size: 512, Accuracy: 0.1308\n",
      "Hidden Layers: [16, 8, 4], Activation: ReLU, Epochs: 100, LR: 0.1, Batch Size: 16, Accuracy: 0.1308\n",
      "Hidden Layers: [16, 8, 4], Activation: ReLU, Epochs: 100, LR: 0.1, Batch Size: 32, Accuracy: 0.3385\n",
      "Hidden Layers: [16, 8, 4], Activation: ReLU, Epochs: 100, LR: 0.1, Batch Size: 64, Accuracy: 0.3077\n",
      "Hidden Layers: [16, 8, 4], Activation: ReLU, Epochs: 100, LR: 0.1, Batch Size: 128, Accuracy: 0.4000\n",
      "Hidden Layers: [16, 8, 4], Activation: ReLU, Epochs: 100, LR: 0.1, Batch Size: 256, Accuracy: 0.1923\n",
      "Hidden Layers: [16, 8, 4], Activation: ReLU, Epochs: 100, LR: 0.1, Batch Size: 512, Accuracy: 0.1000\n",
      "Hidden Layers: [16, 8, 4], Activation: ReLU, Epochs: 100, LR: 0.01, Batch Size: 16, Accuracy: 0.3769\n",
      "Hidden Layers: [16, 8, 4], Activation: ReLU, Epochs: 100, LR: 0.01, Batch Size: 32, Accuracy: 0.4154\n",
      "Hidden Layers: [16, 8, 4], Activation: ReLU, Epochs: 100, LR: 0.01, Batch Size: 64, Accuracy: 0.4154\n",
      "Hidden Layers: [16, 8, 4], Activation: ReLU, Epochs: 100, LR: 0.01, Batch Size: 128, Accuracy: 0.4846\n",
      "Hidden Layers: [16, 8, 4], Activation: ReLU, Epochs: 100, LR: 0.01, Batch Size: 256, Accuracy: 0.3538\n",
      "Hidden Layers: [16, 8, 4], Activation: ReLU, Epochs: 100, LR: 0.01, Batch Size: 512, Accuracy: 0.3231\n",
      "Hidden Layers: [16, 8, 4], Activation: ReLU, Epochs: 100, LR: 0.001, Batch Size: 16, Accuracy: 0.4385\n",
      "Hidden Layers: [16, 8, 4], Activation: ReLU, Epochs: 100, LR: 0.001, Batch Size: 32, Accuracy: 0.4692\n",
      "Hidden Layers: [16, 8, 4], Activation: ReLU, Epochs: 100, LR: 0.001, Batch Size: 64, Accuracy: 0.3769\n",
      "Hidden Layers: [16, 8, 4], Activation: ReLU, Epochs: 100, LR: 0.001, Batch Size: 128, Accuracy: 0.3462\n",
      "Hidden Layers: [16, 8, 4], Activation: ReLU, Epochs: 100, LR: 0.001, Batch Size: 256, Accuracy: 0.2538\n",
      "Hidden Layers: [16, 8, 4], Activation: ReLU, Epochs: 100, LR: 0.001, Batch Size: 512, Accuracy: 0.0692\n",
      "Hidden Layers: [16, 8, 4], Activation: ReLU, Epochs: 100, LR: 0.0001, Batch Size: 16, Accuracy: 0.2462\n",
      "Hidden Layers: [16, 8, 4], Activation: ReLU, Epochs: 100, LR: 0.0001, Batch Size: 32, Accuracy: 0.0692\n",
      "Hidden Layers: [16, 8, 4], Activation: ReLU, Epochs: 100, LR: 0.0001, Batch Size: 64, Accuracy: 0.2308\n",
      "Hidden Layers: [16, 8, 4], Activation: ReLU, Epochs: 100, LR: 0.0001, Batch Size: 128, Accuracy: 0.0769\n",
      "Hidden Layers: [16, 8, 4], Activation: ReLU, Epochs: 100, LR: 0.0001, Batch Size: 256, Accuracy: 0.0692\n",
      "Hidden Layers: [16, 8, 4], Activation: ReLU, Epochs: 100, LR: 0.0001, Batch Size: 512, Accuracy: 0.0769\n",
      "Hidden Layers: [16, 8, 4], Activation: ReLU, Epochs: 250, LR: 10, Batch Size: 16, Accuracy: 0.1231\n",
      "Hidden Layers: [16, 8, 4], Activation: ReLU, Epochs: 250, LR: 10, Batch Size: 32, Accuracy: 0.1308\n",
      "Hidden Layers: [16, 8, 4], Activation: ReLU, Epochs: 250, LR: 10, Batch Size: 64, Accuracy: 0.0385\n",
      "Hidden Layers: [16, 8, 4], Activation: ReLU, Epochs: 250, LR: 10, Batch Size: 128, Accuracy: 0.0077\n",
      "Hidden Layers: [16, 8, 4], Activation: ReLU, Epochs: 250, LR: 10, Batch Size: 256, Accuracy: 0.1923\n",
      "Hidden Layers: [16, 8, 4], Activation: ReLU, Epochs: 250, LR: 10, Batch Size: 512, Accuracy: 0.1231\n",
      "Hidden Layers: [16, 8, 4], Activation: ReLU, Epochs: 250, LR: 1, Batch Size: 16, Accuracy: 0.1000\n",
      "Hidden Layers: [16, 8, 4], Activation: ReLU, Epochs: 250, LR: 1, Batch Size: 32, Accuracy: 0.1308\n",
      "Hidden Layers: [16, 8, 4], Activation: ReLU, Epochs: 250, LR: 1, Batch Size: 64, Accuracy: 0.1000\n",
      "Hidden Layers: [16, 8, 4], Activation: ReLU, Epochs: 250, LR: 1, Batch Size: 128, Accuracy: 0.1000\n",
      "Hidden Layers: [16, 8, 4], Activation: ReLU, Epochs: 250, LR: 1, Batch Size: 256, Accuracy: 0.1923\n",
      "Hidden Layers: [16, 8, 4], Activation: ReLU, Epochs: 250, LR: 1, Batch Size: 512, Accuracy: 0.0538\n",
      "Hidden Layers: [16, 8, 4], Activation: ReLU, Epochs: 250, LR: 0.1, Batch Size: 16, Accuracy: 0.2154\n",
      "Hidden Layers: [16, 8, 4], Activation: ReLU, Epochs: 250, LR: 0.1, Batch Size: 32, Accuracy: 0.4154\n",
      "Hidden Layers: [16, 8, 4], Activation: ReLU, Epochs: 250, LR: 0.1, Batch Size: 64, Accuracy: 0.3923\n",
      "Hidden Layers: [16, 8, 4], Activation: ReLU, Epochs: 250, LR: 0.1, Batch Size: 128, Accuracy: 0.3923\n",
      "Hidden Layers: [16, 8, 4], Activation: ReLU, Epochs: 250, LR: 0.1, Batch Size: 256, Accuracy: 0.1077\n",
      "Hidden Layers: [16, 8, 4], Activation: ReLU, Epochs: 250, LR: 0.1, Batch Size: 512, Accuracy: 0.2769\n",
      "Hidden Layers: [16, 8, 4], Activation: ReLU, Epochs: 250, LR: 0.01, Batch Size: 16, Accuracy: 0.3308\n",
      "Hidden Layers: [16, 8, 4], Activation: ReLU, Epochs: 250, LR: 0.01, Batch Size: 32, Accuracy: 0.4077\n",
      "Hidden Layers: [16, 8, 4], Activation: ReLU, Epochs: 250, LR: 0.01, Batch Size: 64, Accuracy: 0.3846\n",
      "Hidden Layers: [16, 8, 4], Activation: ReLU, Epochs: 250, LR: 0.01, Batch Size: 128, Accuracy: 0.3385\n",
      "Hidden Layers: [16, 8, 4], Activation: ReLU, Epochs: 250, LR: 0.01, Batch Size: 256, Accuracy: 0.4231\n",
      "Hidden Layers: [16, 8, 4], Activation: ReLU, Epochs: 250, LR: 0.01, Batch Size: 512, Accuracy: 0.3769\n",
      "Hidden Layers: [16, 8, 4], Activation: ReLU, Epochs: 250, LR: 0.001, Batch Size: 16, Accuracy: 0.5231\n",
      "Hidden Layers: [16, 8, 4], Activation: ReLU, Epochs: 250, LR: 0.001, Batch Size: 32, Accuracy: 0.4538\n",
      "Hidden Layers: [16, 8, 4], Activation: ReLU, Epochs: 250, LR: 0.001, Batch Size: 64, Accuracy: 0.4923\n",
      "Hidden Layers: [16, 8, 4], Activation: ReLU, Epochs: 250, LR: 0.001, Batch Size: 128, Accuracy: 0.3846\n",
      "Hidden Layers: [16, 8, 4], Activation: ReLU, Epochs: 250, LR: 0.001, Batch Size: 256, Accuracy: 0.3615\n",
      "Hidden Layers: [16, 8, 4], Activation: ReLU, Epochs: 250, LR: 0.001, Batch Size: 512, Accuracy: 0.2462\n",
      "Hidden Layers: [16, 8, 4], Activation: ReLU, Epochs: 250, LR: 0.0001, Batch Size: 16, Accuracy: 0.2308\n",
      "Hidden Layers: [16, 8, 4], Activation: ReLU, Epochs: 250, LR: 0.0001, Batch Size: 32, Accuracy: 0.1154\n",
      "Hidden Layers: [16, 8, 4], Activation: ReLU, Epochs: 250, LR: 0.0001, Batch Size: 64, Accuracy: 0.1769\n",
      "Hidden Layers: [16, 8, 4], Activation: ReLU, Epochs: 250, LR: 0.0001, Batch Size: 128, Accuracy: 0.2385\n",
      "Hidden Layers: [16, 8, 4], Activation: ReLU, Epochs: 250, LR: 0.0001, Batch Size: 256, Accuracy: 0.1385\n",
      "Hidden Layers: [16, 8, 4], Activation: ReLU, Epochs: 250, LR: 0.0001, Batch Size: 512, Accuracy: 0.0385\n",
      "Hidden Layers: [16, 8, 4], Activation: Softmax, Epochs: 1, LR: 10, Batch Size: 16, Accuracy: 0.0769\n",
      "Hidden Layers: [16, 8, 4], Activation: Softmax, Epochs: 1, LR: 10, Batch Size: 32, Accuracy: 0.1308\n",
      "Hidden Layers: [16, 8, 4], Activation: Softmax, Epochs: 1, LR: 10, Batch Size: 64, Accuracy: 0.0538\n",
      "Hidden Layers: [16, 8, 4], Activation: Softmax, Epochs: 1, LR: 10, Batch Size: 128, Accuracy: 0.0923\n",
      "Hidden Layers: [16, 8, 4], Activation: Softmax, Epochs: 1, LR: 10, Batch Size: 256, Accuracy: 0.1308\n",
      "Hidden Layers: [16, 8, 4], Activation: Softmax, Epochs: 1, LR: 10, Batch Size: 512, Accuracy: 0.0769\n",
      "Hidden Layers: [16, 8, 4], Activation: Softmax, Epochs: 1, LR: 1, Batch Size: 16, Accuracy: 0.0385\n"
     ]
    },
    {
     "name": "stderr",
     "output_type": "stream",
     "text": [
      "C:\\Users\\user\\AppData\\Local\\Packages\\PythonSoftwareFoundation.Python.3.12_qbz5n2kfra8p0\\LocalCache\\local-packages\\Python312\\site-packages\\torch\\nn\\modules\\module.py:1736: UserWarning: Implicit dimension choice for softmax has been deprecated. Change the call to include dim=X as an argument.\n",
      "  return self._call_impl(*args, **kwargs)\n",
      "C:\\Users\\user\\AppData\\Local\\Packages\\PythonSoftwareFoundation.Python.3.12_qbz5n2kfra8p0\\LocalCache\\local-packages\\Python312\\site-packages\\torch\\nn\\modules\\module.py:1736: UserWarning: Implicit dimension choice for softmax has been deprecated. Change the call to include dim=X as an argument.\n",
      "  return self._call_impl(*args, **kwargs)\n",
      "C:\\Users\\user\\AppData\\Local\\Packages\\PythonSoftwareFoundation.Python.3.12_qbz5n2kfra8p0\\LocalCache\\local-packages\\Python312\\site-packages\\torch\\nn\\modules\\module.py:1736: UserWarning: Implicit dimension choice for softmax has been deprecated. Change the call to include dim=X as an argument.\n",
      "  return self._call_impl(*args, **kwargs)\n",
      "C:\\Users\\user\\AppData\\Local\\Packages\\PythonSoftwareFoundation.Python.3.12_qbz5n2kfra8p0\\LocalCache\\local-packages\\Python312\\site-packages\\torch\\nn\\modules\\module.py:1736: UserWarning: Implicit dimension choice for softmax has been deprecated. Change the call to include dim=X as an argument.\n",
      "  return self._call_impl(*args, **kwargs)\n",
      "C:\\Users\\user\\AppData\\Local\\Packages\\PythonSoftwareFoundation.Python.3.12_qbz5n2kfra8p0\\LocalCache\\local-packages\\Python312\\site-packages\\torch\\nn\\modules\\module.py:1736: UserWarning: Implicit dimension choice for softmax has been deprecated. Change the call to include dim=X as an argument.\n",
      "  return self._call_impl(*args, **kwargs)\n",
      "C:\\Users\\user\\AppData\\Local\\Packages\\PythonSoftwareFoundation.Python.3.12_qbz5n2kfra8p0\\LocalCache\\local-packages\\Python312\\site-packages\\torch\\nn\\modules\\module.py:1736: UserWarning: Implicit dimension choice for softmax has been deprecated. Change the call to include dim=X as an argument.\n",
      "  return self._call_impl(*args, **kwargs)\n",
      "C:\\Users\\user\\AppData\\Local\\Packages\\PythonSoftwareFoundation.Python.3.12_qbz5n2kfra8p0\\LocalCache\\local-packages\\Python312\\site-packages\\torch\\nn\\modules\\module.py:1736: UserWarning: Implicit dimension choice for softmax has been deprecated. Change the call to include dim=X as an argument.\n",
      "  return self._call_impl(*args, **kwargs)\n",
      "C:\\Users\\user\\AppData\\Local\\Packages\\PythonSoftwareFoundation.Python.3.12_qbz5n2kfra8p0\\LocalCache\\local-packages\\Python312\\site-packages\\torch\\nn\\modules\\module.py:1736: UserWarning: Implicit dimension choice for softmax has been deprecated. Change the call to include dim=X as an argument.\n",
      "  return self._call_impl(*args, **kwargs)\n"
     ]
    },
    {
     "name": "stdout",
     "output_type": "stream",
     "text": [
      "Hidden Layers: [16, 8, 4], Activation: Softmax, Epochs: 1, LR: 1, Batch Size: 32, Accuracy: 0.0769\n",
      "Hidden Layers: [16, 8, 4], Activation: Softmax, Epochs: 1, LR: 1, Batch Size: 64, Accuracy: 0.1385\n",
      "Hidden Layers: [16, 8, 4], Activation: Softmax, Epochs: 1, LR: 1, Batch Size: 128, Accuracy: 0.0538\n",
      "Hidden Layers: [16, 8, 4], Activation: Softmax, Epochs: 1, LR: 1, Batch Size: 256, Accuracy: 0.1923\n",
      "Hidden Layers: [16, 8, 4], Activation: Softmax, Epochs: 1, LR: 1, Batch Size: 512, Accuracy: 0.0923\n",
      "Hidden Layers: [16, 8, 4], Activation: Softmax, Epochs: 1, LR: 0.1, Batch Size: 16, Accuracy: 0.2000\n",
      "Hidden Layers: [16, 8, 4], Activation: Softmax, Epochs: 1, LR: 0.1, Batch Size: 32, Accuracy: 0.1923\n",
      "Hidden Layers: [16, 8, 4], Activation: Softmax, Epochs: 1, LR: 0.1, Batch Size: 64, Accuracy: 0.1923\n",
      "Hidden Layers: [16, 8, 4], Activation: Softmax, Epochs: 1, LR: 0.1, Batch Size: 128, Accuracy: 0.1923\n",
      "Hidden Layers: [16, 8, 4], Activation: Softmax, Epochs: 1, LR: 0.1, Batch Size: 256, Accuracy: 0.1000\n"
     ]
    },
    {
     "name": "stderr",
     "output_type": "stream",
     "text": [
      "C:\\Users\\user\\AppData\\Local\\Packages\\PythonSoftwareFoundation.Python.3.12_qbz5n2kfra8p0\\LocalCache\\local-packages\\Python312\\site-packages\\torch\\nn\\modules\\module.py:1736: UserWarning: Implicit dimension choice for softmax has been deprecated. Change the call to include dim=X as an argument.\n",
      "  return self._call_impl(*args, **kwargs)\n",
      "C:\\Users\\user\\AppData\\Local\\Packages\\PythonSoftwareFoundation.Python.3.12_qbz5n2kfra8p0\\LocalCache\\local-packages\\Python312\\site-packages\\torch\\nn\\modules\\module.py:1736: UserWarning: Implicit dimension choice for softmax has been deprecated. Change the call to include dim=X as an argument.\n",
      "  return self._call_impl(*args, **kwargs)\n",
      "C:\\Users\\user\\AppData\\Local\\Packages\\PythonSoftwareFoundation.Python.3.12_qbz5n2kfra8p0\\LocalCache\\local-packages\\Python312\\site-packages\\torch\\nn\\modules\\module.py:1736: UserWarning: Implicit dimension choice for softmax has been deprecated. Change the call to include dim=X as an argument.\n",
      "  return self._call_impl(*args, **kwargs)\n",
      "C:\\Users\\user\\AppData\\Local\\Packages\\PythonSoftwareFoundation.Python.3.12_qbz5n2kfra8p0\\LocalCache\\local-packages\\Python312\\site-packages\\torch\\nn\\modules\\module.py:1736: UserWarning: Implicit dimension choice for softmax has been deprecated. Change the call to include dim=X as an argument.\n",
      "  return self._call_impl(*args, **kwargs)\n",
      "C:\\Users\\user\\AppData\\Local\\Packages\\PythonSoftwareFoundation.Python.3.12_qbz5n2kfra8p0\\LocalCache\\local-packages\\Python312\\site-packages\\torch\\nn\\modules\\module.py:1736: UserWarning: Implicit dimension choice for softmax has been deprecated. Change the call to include dim=X as an argument.\n",
      "  return self._call_impl(*args, **kwargs)\n",
      "C:\\Users\\user\\AppData\\Local\\Packages\\PythonSoftwareFoundation.Python.3.12_qbz5n2kfra8p0\\LocalCache\\local-packages\\Python312\\site-packages\\torch\\nn\\modules\\module.py:1736: UserWarning: Implicit dimension choice for softmax has been deprecated. Change the call to include dim=X as an argument.\n",
      "  return self._call_impl(*args, **kwargs)\n",
      "C:\\Users\\user\\AppData\\Local\\Packages\\PythonSoftwareFoundation.Python.3.12_qbz5n2kfra8p0\\LocalCache\\local-packages\\Python312\\site-packages\\torch\\nn\\modules\\module.py:1736: UserWarning: Implicit dimension choice for softmax has been deprecated. Change the call to include dim=X as an argument.\n",
      "  return self._call_impl(*args, **kwargs)\n",
      "C:\\Users\\user\\AppData\\Local\\Packages\\PythonSoftwareFoundation.Python.3.12_qbz5n2kfra8p0\\LocalCache\\local-packages\\Python312\\site-packages\\torch\\nn\\modules\\module.py:1736: UserWarning: Implicit dimension choice for softmax has been deprecated. Change the call to include dim=X as an argument.\n",
      "  return self._call_impl(*args, **kwargs)\n",
      "C:\\Users\\user\\AppData\\Local\\Packages\\PythonSoftwareFoundation.Python.3.12_qbz5n2kfra8p0\\LocalCache\\local-packages\\Python312\\site-packages\\torch\\nn\\modules\\module.py:1736: UserWarning: Implicit dimension choice for softmax has been deprecated. Change the call to include dim=X as an argument.\n",
      "  return self._call_impl(*args, **kwargs)\n",
      "C:\\Users\\user\\AppData\\Local\\Packages\\PythonSoftwareFoundation.Python.3.12_qbz5n2kfra8p0\\LocalCache\\local-packages\\Python312\\site-packages\\torch\\nn\\modules\\module.py:1736: UserWarning: Implicit dimension choice for softmax has been deprecated. Change the call to include dim=X as an argument.\n",
      "  return self._call_impl(*args, **kwargs)\n"
     ]
    },
    {
     "name": "stdout",
     "output_type": "stream",
     "text": [
      "Hidden Layers: [16, 8, 4], Activation: Softmax, Epochs: 1, LR: 0.1, Batch Size: 512, Accuracy: 0.1000\n",
      "Hidden Layers: [16, 8, 4], Activation: Softmax, Epochs: 1, LR: 0.01, Batch Size: 16, Accuracy: 0.1923\n",
      "Hidden Layers: [16, 8, 4], Activation: Softmax, Epochs: 1, LR: 0.01, Batch Size: 32, Accuracy: 0.1923\n",
      "Hidden Layers: [16, 8, 4], Activation: Softmax, Epochs: 1, LR: 0.01, Batch Size: 64, Accuracy: 0.1000\n",
      "Hidden Layers: [16, 8, 4], Activation: Softmax, Epochs: 1, LR: 0.01, Batch Size: 128, Accuracy: 0.0385\n",
      "Hidden Layers: [16, 8, 4], Activation: Softmax, Epochs: 1, LR: 0.01, Batch Size: 256, Accuracy: 0.0000\n",
      "Hidden Layers: [16, 8, 4], Activation: Softmax, Epochs: 1, LR: 0.01, Batch Size: 512, Accuracy: 0.1308\n"
     ]
    },
    {
     "name": "stderr",
     "output_type": "stream",
     "text": [
      "C:\\Users\\user\\AppData\\Local\\Packages\\PythonSoftwareFoundation.Python.3.12_qbz5n2kfra8p0\\LocalCache\\local-packages\\Python312\\site-packages\\torch\\nn\\modules\\module.py:1736: UserWarning: Implicit dimension choice for softmax has been deprecated. Change the call to include dim=X as an argument.\n",
      "  return self._call_impl(*args, **kwargs)\n",
      "C:\\Users\\user\\AppData\\Local\\Packages\\PythonSoftwareFoundation.Python.3.12_qbz5n2kfra8p0\\LocalCache\\local-packages\\Python312\\site-packages\\torch\\nn\\modules\\module.py:1736: UserWarning: Implicit dimension choice for softmax has been deprecated. Change the call to include dim=X as an argument.\n",
      "  return self._call_impl(*args, **kwargs)\n",
      "C:\\Users\\user\\AppData\\Local\\Packages\\PythonSoftwareFoundation.Python.3.12_qbz5n2kfra8p0\\LocalCache\\local-packages\\Python312\\site-packages\\torch\\nn\\modules\\module.py:1736: UserWarning: Implicit dimension choice for softmax has been deprecated. Change the call to include dim=X as an argument.\n",
      "  return self._call_impl(*args, **kwargs)\n",
      "C:\\Users\\user\\AppData\\Local\\Packages\\PythonSoftwareFoundation.Python.3.12_qbz5n2kfra8p0\\LocalCache\\local-packages\\Python312\\site-packages\\torch\\nn\\modules\\module.py:1736: UserWarning: Implicit dimension choice for softmax has been deprecated. Change the call to include dim=X as an argument.\n",
      "  return self._call_impl(*args, **kwargs)\n",
      "C:\\Users\\user\\AppData\\Local\\Packages\\PythonSoftwareFoundation.Python.3.12_qbz5n2kfra8p0\\LocalCache\\local-packages\\Python312\\site-packages\\torch\\nn\\modules\\module.py:1736: UserWarning: Implicit dimension choice for softmax has been deprecated. Change the call to include dim=X as an argument.\n",
      "  return self._call_impl(*args, **kwargs)\n",
      "C:\\Users\\user\\AppData\\Local\\Packages\\PythonSoftwareFoundation.Python.3.12_qbz5n2kfra8p0\\LocalCache\\local-packages\\Python312\\site-packages\\torch\\nn\\modules\\module.py:1736: UserWarning: Implicit dimension choice for softmax has been deprecated. Change the call to include dim=X as an argument.\n",
      "  return self._call_impl(*args, **kwargs)\n",
      "C:\\Users\\user\\AppData\\Local\\Packages\\PythonSoftwareFoundation.Python.3.12_qbz5n2kfra8p0\\LocalCache\\local-packages\\Python312\\site-packages\\torch\\nn\\modules\\module.py:1736: UserWarning: Implicit dimension choice for softmax has been deprecated. Change the call to include dim=X as an argument.\n",
      "  return self._call_impl(*args, **kwargs)\n"
     ]
    },
    {
     "name": "stdout",
     "output_type": "stream",
     "text": [
      "Hidden Layers: [16, 8, 4], Activation: Softmax, Epochs: 1, LR: 0.001, Batch Size: 16, Accuracy: 0.0538\n",
      "Hidden Layers: [16, 8, 4], Activation: Softmax, Epochs: 1, LR: 0.001, Batch Size: 32, Accuracy: 0.0154\n",
      "Hidden Layers: [16, 8, 4], Activation: Softmax, Epochs: 1, LR: 0.001, Batch Size: 64, Accuracy: 0.1231\n",
      "Hidden Layers: [16, 8, 4], Activation: Softmax, Epochs: 1, LR: 0.001, Batch Size: 128, Accuracy: 0.0077\n",
      "Hidden Layers: [16, 8, 4], Activation: Softmax, Epochs: 1, LR: 0.001, Batch Size: 256, Accuracy: 0.0000\n",
      "Hidden Layers: [16, 8, 4], Activation: Softmax, Epochs: 1, LR: 0.001, Batch Size: 512, Accuracy: 0.0077\n",
      "Hidden Layers: [16, 8, 4], Activation: Softmax, Epochs: 1, LR: 0.0001, Batch Size: 16, Accuracy: 0.0000\n",
      "Hidden Layers: [16, 8, 4], Activation: Softmax, Epochs: 1, LR: 0.0001, Batch Size: 32, Accuracy: 0.0000\n"
     ]
    },
    {
     "name": "stderr",
     "output_type": "stream",
     "text": [
      "C:\\Users\\user\\AppData\\Local\\Packages\\PythonSoftwareFoundation.Python.3.12_qbz5n2kfra8p0\\LocalCache\\local-packages\\Python312\\site-packages\\torch\\nn\\modules\\module.py:1736: UserWarning: Implicit dimension choice for softmax has been deprecated. Change the call to include dim=X as an argument.\n",
      "  return self._call_impl(*args, **kwargs)\n",
      "C:\\Users\\user\\AppData\\Local\\Packages\\PythonSoftwareFoundation.Python.3.12_qbz5n2kfra8p0\\LocalCache\\local-packages\\Python312\\site-packages\\torch\\nn\\modules\\module.py:1736: UserWarning: Implicit dimension choice for softmax has been deprecated. Change the call to include dim=X as an argument.\n",
      "  return self._call_impl(*args, **kwargs)\n",
      "C:\\Users\\user\\AppData\\Local\\Packages\\PythonSoftwareFoundation.Python.3.12_qbz5n2kfra8p0\\LocalCache\\local-packages\\Python312\\site-packages\\torch\\nn\\modules\\module.py:1736: UserWarning: Implicit dimension choice for softmax has been deprecated. Change the call to include dim=X as an argument.\n",
      "  return self._call_impl(*args, **kwargs)\n",
      "C:\\Users\\user\\AppData\\Local\\Packages\\PythonSoftwareFoundation.Python.3.12_qbz5n2kfra8p0\\LocalCache\\local-packages\\Python312\\site-packages\\torch\\nn\\modules\\module.py:1736: UserWarning: Implicit dimension choice for softmax has been deprecated. Change the call to include dim=X as an argument.\n",
      "  return self._call_impl(*args, **kwargs)\n",
      "C:\\Users\\user\\AppData\\Local\\Packages\\PythonSoftwareFoundation.Python.3.12_qbz5n2kfra8p0\\LocalCache\\local-packages\\Python312\\site-packages\\torch\\nn\\modules\\module.py:1736: UserWarning: Implicit dimension choice for softmax has been deprecated. Change the call to include dim=X as an argument.\n",
      "  return self._call_impl(*args, **kwargs)\n",
      "C:\\Users\\user\\AppData\\Local\\Packages\\PythonSoftwareFoundation.Python.3.12_qbz5n2kfra8p0\\LocalCache\\local-packages\\Python312\\site-packages\\torch\\nn\\modules\\module.py:1736: UserWarning: Implicit dimension choice for softmax has been deprecated. Change the call to include dim=X as an argument.\n",
      "  return self._call_impl(*args, **kwargs)\n",
      "C:\\Users\\user\\AppData\\Local\\Packages\\PythonSoftwareFoundation.Python.3.12_qbz5n2kfra8p0\\LocalCache\\local-packages\\Python312\\site-packages\\torch\\nn\\modules\\module.py:1736: UserWarning: Implicit dimension choice for softmax has been deprecated. Change the call to include dim=X as an argument.\n",
      "  return self._call_impl(*args, **kwargs)\n",
      "C:\\Users\\user\\AppData\\Local\\Packages\\PythonSoftwareFoundation.Python.3.12_qbz5n2kfra8p0\\LocalCache\\local-packages\\Python312\\site-packages\\torch\\nn\\modules\\module.py:1736: UserWarning: Implicit dimension choice for softmax has been deprecated. Change the call to include dim=X as an argument.\n",
      "  return self._call_impl(*args, **kwargs)\n"
     ]
    },
    {
     "name": "stdout",
     "output_type": "stream",
     "text": [
      "Hidden Layers: [16, 8, 4], Activation: Softmax, Epochs: 1, LR: 0.0001, Batch Size: 64, Accuracy: 0.1923\n",
      "Hidden Layers: [16, 8, 4], Activation: Softmax, Epochs: 1, LR: 0.0001, Batch Size: 128, Accuracy: 0.0000\n",
      "Hidden Layers: [16, 8, 4], Activation: Softmax, Epochs: 1, LR: 0.0001, Batch Size: 256, Accuracy: 0.0154\n",
      "Hidden Layers: [16, 8, 4], Activation: Softmax, Epochs: 1, LR: 0.0001, Batch Size: 512, Accuracy: 0.0000\n"
     ]
    },
    {
     "name": "stderr",
     "output_type": "stream",
     "text": [
      "C:\\Users\\user\\AppData\\Local\\Packages\\PythonSoftwareFoundation.Python.3.12_qbz5n2kfra8p0\\LocalCache\\local-packages\\Python312\\site-packages\\torch\\nn\\modules\\module.py:1736: UserWarning: Implicit dimension choice for softmax has been deprecated. Change the call to include dim=X as an argument.\n",
      "  return self._call_impl(*args, **kwargs)\n",
      "C:\\Users\\user\\AppData\\Local\\Packages\\PythonSoftwareFoundation.Python.3.12_qbz5n2kfra8p0\\LocalCache\\local-packages\\Python312\\site-packages\\torch\\nn\\modules\\module.py:1736: UserWarning: Implicit dimension choice for softmax has been deprecated. Change the call to include dim=X as an argument.\n",
      "  return self._call_impl(*args, **kwargs)\n",
      "C:\\Users\\user\\AppData\\Local\\Packages\\PythonSoftwareFoundation.Python.3.12_qbz5n2kfra8p0\\LocalCache\\local-packages\\Python312\\site-packages\\torch\\nn\\modules\\module.py:1736: UserWarning: Implicit dimension choice for softmax has been deprecated. Change the call to include dim=X as an argument.\n",
      "  return self._call_impl(*args, **kwargs)\n",
      "C:\\Users\\user\\AppData\\Local\\Packages\\PythonSoftwareFoundation.Python.3.12_qbz5n2kfra8p0\\LocalCache\\local-packages\\Python312\\site-packages\\torch\\nn\\modules\\module.py:1736: UserWarning: Implicit dimension choice for softmax has been deprecated. Change the call to include dim=X as an argument.\n",
      "  return self._call_impl(*args, **kwargs)\n"
     ]
    },
    {
     "name": "stdout",
     "output_type": "stream",
     "text": [
      "Hidden Layers: [16, 8, 4], Activation: Softmax, Epochs: 10, LR: 10, Batch Size: 16, Accuracy: 0.1231\n"
     ]
    },
    {
     "name": "stderr",
     "output_type": "stream",
     "text": [
      "C:\\Users\\user\\AppData\\Local\\Packages\\PythonSoftwareFoundation.Python.3.12_qbz5n2kfra8p0\\LocalCache\\local-packages\\Python312\\site-packages\\torch\\nn\\modules\\module.py:1736: UserWarning: Implicit dimension choice for softmax has been deprecated. Change the call to include dim=X as an argument.\n",
      "  return self._call_impl(*args, **kwargs)\n"
     ]
    },
    {
     "name": "stdout",
     "output_type": "stream",
     "text": [
      "Hidden Layers: [16, 8, 4], Activation: Softmax, Epochs: 10, LR: 10, Batch Size: 32, Accuracy: 0.0385\n",
      "Hidden Layers: [16, 8, 4], Activation: Softmax, Epochs: 10, LR: 10, Batch Size: 64, Accuracy: 0.1231\n"
     ]
    },
    {
     "name": "stderr",
     "output_type": "stream",
     "text": [
      "C:\\Users\\user\\AppData\\Local\\Packages\\PythonSoftwareFoundation.Python.3.12_qbz5n2kfra8p0\\LocalCache\\local-packages\\Python312\\site-packages\\torch\\nn\\modules\\module.py:1736: UserWarning: Implicit dimension choice for softmax has been deprecated. Change the call to include dim=X as an argument.\n",
      "  return self._call_impl(*args, **kwargs)\n",
      "C:\\Users\\user\\AppData\\Local\\Packages\\PythonSoftwareFoundation.Python.3.12_qbz5n2kfra8p0\\LocalCache\\local-packages\\Python312\\site-packages\\torch\\nn\\modules\\module.py:1736: UserWarning: Implicit dimension choice for softmax has been deprecated. Change the call to include dim=X as an argument.\n",
      "  return self._call_impl(*args, **kwargs)\n"
     ]
    },
    {
     "name": "stdout",
     "output_type": "stream",
     "text": [
      "Hidden Layers: [16, 8, 4], Activation: Softmax, Epochs: 10, LR: 10, Batch Size: 128, Accuracy: 0.1923\n",
      "Hidden Layers: [16, 8, 4], Activation: Softmax, Epochs: 10, LR: 10, Batch Size: 256, Accuracy: 0.1308\n",
      "Hidden Layers: [16, 8, 4], Activation: Softmax, Epochs: 10, LR: 10, Batch Size: 512, Accuracy: 0.1923\n"
     ]
    },
    {
     "name": "stderr",
     "output_type": "stream",
     "text": [
      "C:\\Users\\user\\AppData\\Local\\Packages\\PythonSoftwareFoundation.Python.3.12_qbz5n2kfra8p0\\LocalCache\\local-packages\\Python312\\site-packages\\torch\\nn\\modules\\module.py:1736: UserWarning: Implicit dimension choice for softmax has been deprecated. Change the call to include dim=X as an argument.\n",
      "  return self._call_impl(*args, **kwargs)\n",
      "C:\\Users\\user\\AppData\\Local\\Packages\\PythonSoftwareFoundation.Python.3.12_qbz5n2kfra8p0\\LocalCache\\local-packages\\Python312\\site-packages\\torch\\nn\\modules\\module.py:1736: UserWarning: Implicit dimension choice for softmax has been deprecated. Change the call to include dim=X as an argument.\n",
      "  return self._call_impl(*args, **kwargs)\n",
      "C:\\Users\\user\\AppData\\Local\\Packages\\PythonSoftwareFoundation.Python.3.12_qbz5n2kfra8p0\\LocalCache\\local-packages\\Python312\\site-packages\\torch\\nn\\modules\\module.py:1736: UserWarning: Implicit dimension choice for softmax has been deprecated. Change the call to include dim=X as an argument.\n",
      "  return self._call_impl(*args, **kwargs)\n"
     ]
    },
    {
     "name": "stdout",
     "output_type": "stream",
     "text": [
      "Hidden Layers: [16, 8, 4], Activation: Softmax, Epochs: 10, LR: 1, Batch Size: 16, Accuracy: 0.1923\n"
     ]
    },
    {
     "name": "stderr",
     "output_type": "stream",
     "text": [
      "C:\\Users\\user\\AppData\\Local\\Packages\\PythonSoftwareFoundation.Python.3.12_qbz5n2kfra8p0\\LocalCache\\local-packages\\Python312\\site-packages\\torch\\nn\\modules\\module.py:1736: UserWarning: Implicit dimension choice for softmax has been deprecated. Change the call to include dim=X as an argument.\n",
      "  return self._call_impl(*args, **kwargs)\n"
     ]
    },
    {
     "name": "stdout",
     "output_type": "stream",
     "text": [
      "Hidden Layers: [16, 8, 4], Activation: Softmax, Epochs: 10, LR: 1, Batch Size: 32, Accuracy: 0.1308\n",
      "Hidden Layers: [16, 8, 4], Activation: Softmax, Epochs: 10, LR: 1, Batch Size: 64, Accuracy: 0.1000\n"
     ]
    },
    {
     "name": "stderr",
     "output_type": "stream",
     "text": [
      "C:\\Users\\user\\AppData\\Local\\Packages\\PythonSoftwareFoundation.Python.3.12_qbz5n2kfra8p0\\LocalCache\\local-packages\\Python312\\site-packages\\torch\\nn\\modules\\module.py:1736: UserWarning: Implicit dimension choice for softmax has been deprecated. Change the call to include dim=X as an argument.\n",
      "  return self._call_impl(*args, **kwargs)\n",
      "C:\\Users\\user\\AppData\\Local\\Packages\\PythonSoftwareFoundation.Python.3.12_qbz5n2kfra8p0\\LocalCache\\local-packages\\Python312\\site-packages\\torch\\nn\\modules\\module.py:1736: UserWarning: Implicit dimension choice for softmax has been deprecated. Change the call to include dim=X as an argument.\n",
      "  return self._call_impl(*args, **kwargs)\n"
     ]
    },
    {
     "name": "stdout",
     "output_type": "stream",
     "text": [
      "Hidden Layers: [16, 8, 4], Activation: Softmax, Epochs: 10, LR: 1, Batch Size: 128, Accuracy: 0.1923\n"
     ]
    },
    {
     "name": "stderr",
     "output_type": "stream",
     "text": [
      "C:\\Users\\user\\AppData\\Local\\Packages\\PythonSoftwareFoundation.Python.3.12_qbz5n2kfra8p0\\LocalCache\\local-packages\\Python312\\site-packages\\torch\\nn\\modules\\module.py:1736: UserWarning: Implicit dimension choice for softmax has been deprecated. Change the call to include dim=X as an argument.\n",
      "  return self._call_impl(*args, **kwargs)\n"
     ]
    },
    {
     "name": "stdout",
     "output_type": "stream",
     "text": [
      "Hidden Layers: [16, 8, 4], Activation: Softmax, Epochs: 10, LR: 1, Batch Size: 256, Accuracy: 0.1923\n",
      "Hidden Layers: [16, 8, 4], Activation: Softmax, Epochs: 10, LR: 1, Batch Size: 512, Accuracy: 0.1308\n"
     ]
    },
    {
     "name": "stderr",
     "output_type": "stream",
     "text": [
      "C:\\Users\\user\\AppData\\Local\\Packages\\PythonSoftwareFoundation.Python.3.12_qbz5n2kfra8p0\\LocalCache\\local-packages\\Python312\\site-packages\\torch\\nn\\modules\\module.py:1736: UserWarning: Implicit dimension choice for softmax has been deprecated. Change the call to include dim=X as an argument.\n",
      "  return self._call_impl(*args, **kwargs)\n",
      "C:\\Users\\user\\AppData\\Local\\Packages\\PythonSoftwareFoundation.Python.3.12_qbz5n2kfra8p0\\LocalCache\\local-packages\\Python312\\site-packages\\torch\\nn\\modules\\module.py:1736: UserWarning: Implicit dimension choice for softmax has been deprecated. Change the call to include dim=X as an argument.\n",
      "  return self._call_impl(*args, **kwargs)\n"
     ]
    },
    {
     "name": "stdout",
     "output_type": "stream",
     "text": [
      "Hidden Layers: [16, 8, 4], Activation: Softmax, Epochs: 10, LR: 0.1, Batch Size: 16, Accuracy: 0.1923\n"
     ]
    },
    {
     "name": "stderr",
     "output_type": "stream",
     "text": [
      "C:\\Users\\user\\AppData\\Local\\Packages\\PythonSoftwareFoundation.Python.3.12_qbz5n2kfra8p0\\LocalCache\\local-packages\\Python312\\site-packages\\torch\\nn\\modules\\module.py:1736: UserWarning: Implicit dimension choice for softmax has been deprecated. Change the call to include dim=X as an argument.\n",
      "  return self._call_impl(*args, **kwargs)\n"
     ]
    },
    {
     "name": "stdout",
     "output_type": "stream",
     "text": [
      "Hidden Layers: [16, 8, 4], Activation: Softmax, Epochs: 10, LR: 0.1, Batch Size: 32, Accuracy: 0.1615\n",
      "Hidden Layers: [16, 8, 4], Activation: Softmax, Epochs: 10, LR: 0.1, Batch Size: 64, Accuracy: 0.2000\n"
     ]
    },
    {
     "name": "stderr",
     "output_type": "stream",
     "text": [
      "C:\\Users\\user\\AppData\\Local\\Packages\\PythonSoftwareFoundation.Python.3.12_qbz5n2kfra8p0\\LocalCache\\local-packages\\Python312\\site-packages\\torch\\nn\\modules\\module.py:1736: UserWarning: Implicit dimension choice for softmax has been deprecated. Change the call to include dim=X as an argument.\n",
      "  return self._call_impl(*args, **kwargs)\n",
      "C:\\Users\\user\\AppData\\Local\\Packages\\PythonSoftwareFoundation.Python.3.12_qbz5n2kfra8p0\\LocalCache\\local-packages\\Python312\\site-packages\\torch\\nn\\modules\\module.py:1736: UserWarning: Implicit dimension choice for softmax has been deprecated. Change the call to include dim=X as an argument.\n",
      "  return self._call_impl(*args, **kwargs)\n"
     ]
    },
    {
     "name": "stdout",
     "output_type": "stream",
     "text": [
      "Hidden Layers: [16, 8, 4], Activation: Softmax, Epochs: 10, LR: 0.1, Batch Size: 128, Accuracy: 0.1846\n",
      "Hidden Layers: [16, 8, 4], Activation: Softmax, Epochs: 10, LR: 0.1, Batch Size: 256, Accuracy: 0.2077\n",
      "Hidden Layers: [16, 8, 4], Activation: Softmax, Epochs: 10, LR: 0.1, Batch Size: 512, Accuracy: 0.1308\n"
     ]
    },
    {
     "name": "stderr",
     "output_type": "stream",
     "text": [
      "C:\\Users\\user\\AppData\\Local\\Packages\\PythonSoftwareFoundation.Python.3.12_qbz5n2kfra8p0\\LocalCache\\local-packages\\Python312\\site-packages\\torch\\nn\\modules\\module.py:1736: UserWarning: Implicit dimension choice for softmax has been deprecated. Change the call to include dim=X as an argument.\n",
      "  return self._call_impl(*args, **kwargs)\n",
      "C:\\Users\\user\\AppData\\Local\\Packages\\PythonSoftwareFoundation.Python.3.12_qbz5n2kfra8p0\\LocalCache\\local-packages\\Python312\\site-packages\\torch\\nn\\modules\\module.py:1736: UserWarning: Implicit dimension choice for softmax has been deprecated. Change the call to include dim=X as an argument.\n",
      "  return self._call_impl(*args, **kwargs)\n",
      "C:\\Users\\user\\AppData\\Local\\Packages\\PythonSoftwareFoundation.Python.3.12_qbz5n2kfra8p0\\LocalCache\\local-packages\\Python312\\site-packages\\torch\\nn\\modules\\module.py:1736: UserWarning: Implicit dimension choice for softmax has been deprecated. Change the call to include dim=X as an argument.\n",
      "  return self._call_impl(*args, **kwargs)\n"
     ]
    },
    {
     "name": "stdout",
     "output_type": "stream",
     "text": [
      "Hidden Layers: [16, 8, 4], Activation: Softmax, Epochs: 10, LR: 0.01, Batch Size: 16, Accuracy: 0.2077\n"
     ]
    },
    {
     "name": "stderr",
     "output_type": "stream",
     "text": [
      "C:\\Users\\user\\AppData\\Local\\Packages\\PythonSoftwareFoundation.Python.3.12_qbz5n2kfra8p0\\LocalCache\\local-packages\\Python312\\site-packages\\torch\\nn\\modules\\module.py:1736: UserWarning: Implicit dimension choice for softmax has been deprecated. Change the call to include dim=X as an argument.\n",
      "  return self._call_impl(*args, **kwargs)\n"
     ]
    },
    {
     "name": "stdout",
     "output_type": "stream",
     "text": [
      "Hidden Layers: [16, 8, 4], Activation: Softmax, Epochs: 10, LR: 0.01, Batch Size: 32, Accuracy: 0.2077\n",
      "Hidden Layers: [16, 8, 4], Activation: Softmax, Epochs: 10, LR: 0.01, Batch Size: 64, Accuracy: 0.1308\n"
     ]
    },
    {
     "name": "stderr",
     "output_type": "stream",
     "text": [
      "C:\\Users\\user\\AppData\\Local\\Packages\\PythonSoftwareFoundation.Python.3.12_qbz5n2kfra8p0\\LocalCache\\local-packages\\Python312\\site-packages\\torch\\nn\\modules\\module.py:1736: UserWarning: Implicit dimension choice for softmax has been deprecated. Change the call to include dim=X as an argument.\n",
      "  return self._call_impl(*args, **kwargs)\n",
      "C:\\Users\\user\\AppData\\Local\\Packages\\PythonSoftwareFoundation.Python.3.12_qbz5n2kfra8p0\\LocalCache\\local-packages\\Python312\\site-packages\\torch\\nn\\modules\\module.py:1736: UserWarning: Implicit dimension choice for softmax has been deprecated. Change the call to include dim=X as an argument.\n",
      "  return self._call_impl(*args, **kwargs)\n"
     ]
    },
    {
     "name": "stdout",
     "output_type": "stream",
     "text": [
      "Hidden Layers: [16, 8, 4], Activation: Softmax, Epochs: 10, LR: 0.01, Batch Size: 128, Accuracy: 0.1923\n",
      "Hidden Layers: [16, 8, 4], Activation: Softmax, Epochs: 10, LR: 0.01, Batch Size: 256, Accuracy: 0.1000\n",
      "Hidden Layers: [16, 8, 4], Activation: Softmax, Epochs: 10, LR: 0.01, Batch Size: 512, Accuracy: 0.1000\n"
     ]
    },
    {
     "name": "stderr",
     "output_type": "stream",
     "text": [
      "C:\\Users\\user\\AppData\\Local\\Packages\\PythonSoftwareFoundation.Python.3.12_qbz5n2kfra8p0\\LocalCache\\local-packages\\Python312\\site-packages\\torch\\nn\\modules\\module.py:1736: UserWarning: Implicit dimension choice for softmax has been deprecated. Change the call to include dim=X as an argument.\n",
      "  return self._call_impl(*args, **kwargs)\n",
      "C:\\Users\\user\\AppData\\Local\\Packages\\PythonSoftwareFoundation.Python.3.12_qbz5n2kfra8p0\\LocalCache\\local-packages\\Python312\\site-packages\\torch\\nn\\modules\\module.py:1736: UserWarning: Implicit dimension choice for softmax has been deprecated. Change the call to include dim=X as an argument.\n",
      "  return self._call_impl(*args, **kwargs)\n",
      "C:\\Users\\user\\AppData\\Local\\Packages\\PythonSoftwareFoundation.Python.3.12_qbz5n2kfra8p0\\LocalCache\\local-packages\\Python312\\site-packages\\torch\\nn\\modules\\module.py:1736: UserWarning: Implicit dimension choice for softmax has been deprecated. Change the call to include dim=X as an argument.\n",
      "  return self._call_impl(*args, **kwargs)\n"
     ]
    },
    {
     "name": "stdout",
     "output_type": "stream",
     "text": [
      "Hidden Layers: [16, 8, 4], Activation: Softmax, Epochs: 10, LR: 0.001, Batch Size: 16, Accuracy: 0.1923\n"
     ]
    },
    {
     "name": "stderr",
     "output_type": "stream",
     "text": [
      "C:\\Users\\user\\AppData\\Local\\Packages\\PythonSoftwareFoundation.Python.3.12_qbz5n2kfra8p0\\LocalCache\\local-packages\\Python312\\site-packages\\torch\\nn\\modules\\module.py:1736: UserWarning: Implicit dimension choice for softmax has been deprecated. Change the call to include dim=X as an argument.\n",
      "  return self._call_impl(*args, **kwargs)\n"
     ]
    },
    {
     "name": "stdout",
     "output_type": "stream",
     "text": [
      "Hidden Layers: [16, 8, 4], Activation: Softmax, Epochs: 10, LR: 0.001, Batch Size: 32, Accuracy: 0.1000\n",
      "Hidden Layers: [16, 8, 4], Activation: Softmax, Epochs: 10, LR: 0.001, Batch Size: 64, Accuracy: 0.1308\n"
     ]
    },
    {
     "name": "stderr",
     "output_type": "stream",
     "text": [
      "C:\\Users\\user\\AppData\\Local\\Packages\\PythonSoftwareFoundation.Python.3.12_qbz5n2kfra8p0\\LocalCache\\local-packages\\Python312\\site-packages\\torch\\nn\\modules\\module.py:1736: UserWarning: Implicit dimension choice for softmax has been deprecated. Change the call to include dim=X as an argument.\n",
      "  return self._call_impl(*args, **kwargs)\n",
      "C:\\Users\\user\\AppData\\Local\\Packages\\PythonSoftwareFoundation.Python.3.12_qbz5n2kfra8p0\\LocalCache\\local-packages\\Python312\\site-packages\\torch\\nn\\modules\\module.py:1736: UserWarning: Implicit dimension choice for softmax has been deprecated. Change the call to include dim=X as an argument.\n",
      "  return self._call_impl(*args, **kwargs)\n"
     ]
    },
    {
     "name": "stdout",
     "output_type": "stream",
     "text": [
      "Hidden Layers: [16, 8, 4], Activation: Softmax, Epochs: 10, LR: 0.001, Batch Size: 128, Accuracy: 0.1000\n",
      "Hidden Layers: [16, 8, 4], Activation: Softmax, Epochs: 10, LR: 0.001, Batch Size: 256, Accuracy: 0.1231\n",
      "Hidden Layers: [16, 8, 4], Activation: Softmax, Epochs: 10, LR: 0.001, Batch Size: 512, Accuracy: 0.0385\n"
     ]
    },
    {
     "name": "stderr",
     "output_type": "stream",
     "text": [
      "C:\\Users\\user\\AppData\\Local\\Packages\\PythonSoftwareFoundation.Python.3.12_qbz5n2kfra8p0\\LocalCache\\local-packages\\Python312\\site-packages\\torch\\nn\\modules\\module.py:1736: UserWarning: Implicit dimension choice for softmax has been deprecated. Change the call to include dim=X as an argument.\n",
      "  return self._call_impl(*args, **kwargs)\n",
      "C:\\Users\\user\\AppData\\Local\\Packages\\PythonSoftwareFoundation.Python.3.12_qbz5n2kfra8p0\\LocalCache\\local-packages\\Python312\\site-packages\\torch\\nn\\modules\\module.py:1736: UserWarning: Implicit dimension choice for softmax has been deprecated. Change the call to include dim=X as an argument.\n",
      "  return self._call_impl(*args, **kwargs)\n",
      "C:\\Users\\user\\AppData\\Local\\Packages\\PythonSoftwareFoundation.Python.3.12_qbz5n2kfra8p0\\LocalCache\\local-packages\\Python312\\site-packages\\torch\\nn\\modules\\module.py:1736: UserWarning: Implicit dimension choice for softmax has been deprecated. Change the call to include dim=X as an argument.\n",
      "  return self._call_impl(*args, **kwargs)\n"
     ]
    },
    {
     "name": "stdout",
     "output_type": "stream",
     "text": [
      "Hidden Layers: [16, 8, 4], Activation: Softmax, Epochs: 10, LR: 0.0001, Batch Size: 16, Accuracy: 0.0538\n"
     ]
    },
    {
     "name": "stderr",
     "output_type": "stream",
     "text": [
      "C:\\Users\\user\\AppData\\Local\\Packages\\PythonSoftwareFoundation.Python.3.12_qbz5n2kfra8p0\\LocalCache\\local-packages\\Python312\\site-packages\\torch\\nn\\modules\\module.py:1736: UserWarning: Implicit dimension choice for softmax has been deprecated. Change the call to include dim=X as an argument.\n",
      "  return self._call_impl(*args, **kwargs)\n"
     ]
    },
    {
     "name": "stdout",
     "output_type": "stream",
     "text": [
      "Hidden Layers: [16, 8, 4], Activation: Softmax, Epochs: 10, LR: 0.0001, Batch Size: 32, Accuracy: 0.0692\n",
      "Hidden Layers: [16, 8, 4], Activation: Softmax, Epochs: 10, LR: 0.0001, Batch Size: 64, Accuracy: 0.0769\n"
     ]
    },
    {
     "name": "stderr",
     "output_type": "stream",
     "text": [
      "C:\\Users\\user\\AppData\\Local\\Packages\\PythonSoftwareFoundation.Python.3.12_qbz5n2kfra8p0\\LocalCache\\local-packages\\Python312\\site-packages\\torch\\nn\\modules\\module.py:1736: UserWarning: Implicit dimension choice for softmax has been deprecated. Change the call to include dim=X as an argument.\n",
      "  return self._call_impl(*args, **kwargs)\n",
      "C:\\Users\\user\\AppData\\Local\\Packages\\PythonSoftwareFoundation.Python.3.12_qbz5n2kfra8p0\\LocalCache\\local-packages\\Python312\\site-packages\\torch\\nn\\modules\\module.py:1736: UserWarning: Implicit dimension choice for softmax has been deprecated. Change the call to include dim=X as an argument.\n",
      "  return self._call_impl(*args, **kwargs)\n"
     ]
    },
    {
     "name": "stdout",
     "output_type": "stream",
     "text": [
      "Hidden Layers: [16, 8, 4], Activation: Softmax, Epochs: 10, LR: 0.0001, Batch Size: 128, Accuracy: 0.0385\n",
      "Hidden Layers: [16, 8, 4], Activation: Softmax, Epochs: 10, LR: 0.0001, Batch Size: 256, Accuracy: 0.0077\n",
      "Hidden Layers: [16, 8, 4], Activation: Softmax, Epochs: 10, LR: 0.0001, Batch Size: 512, Accuracy: 0.1231\n"
     ]
    },
    {
     "name": "stderr",
     "output_type": "stream",
     "text": [
      "C:\\Users\\user\\AppData\\Local\\Packages\\PythonSoftwareFoundation.Python.3.12_qbz5n2kfra8p0\\LocalCache\\local-packages\\Python312\\site-packages\\torch\\nn\\modules\\module.py:1736: UserWarning: Implicit dimension choice for softmax has been deprecated. Change the call to include dim=X as an argument.\n",
      "  return self._call_impl(*args, **kwargs)\n",
      "C:\\Users\\user\\AppData\\Local\\Packages\\PythonSoftwareFoundation.Python.3.12_qbz5n2kfra8p0\\LocalCache\\local-packages\\Python312\\site-packages\\torch\\nn\\modules\\module.py:1736: UserWarning: Implicit dimension choice for softmax has been deprecated. Change the call to include dim=X as an argument.\n",
      "  return self._call_impl(*args, **kwargs)\n",
      "C:\\Users\\user\\AppData\\Local\\Packages\\PythonSoftwareFoundation.Python.3.12_qbz5n2kfra8p0\\LocalCache\\local-packages\\Python312\\site-packages\\torch\\nn\\modules\\module.py:1736: UserWarning: Implicit dimension choice for softmax has been deprecated. Change the call to include dim=X as an argument.\n",
      "  return self._call_impl(*args, **kwargs)\n"
     ]
    },
    {
     "name": "stdout",
     "output_type": "stream",
     "text": [
      "Hidden Layers: [16, 8, 4], Activation: Softmax, Epochs: 25, LR: 10, Batch Size: 16, Accuracy: 0.0692\n"
     ]
    },
    {
     "name": "stderr",
     "output_type": "stream",
     "text": [
      "C:\\Users\\user\\AppData\\Local\\Packages\\PythonSoftwareFoundation.Python.3.12_qbz5n2kfra8p0\\LocalCache\\local-packages\\Python312\\site-packages\\torch\\nn\\modules\\module.py:1736: UserWarning: Implicit dimension choice for softmax has been deprecated. Change the call to include dim=X as an argument.\n",
      "  return self._call_impl(*args, **kwargs)\n"
     ]
    },
    {
     "name": "stdout",
     "output_type": "stream",
     "text": [
      "Hidden Layers: [16, 8, 4], Activation: Softmax, Epochs: 25, LR: 10, Batch Size: 32, Accuracy: 0.0769\n"
     ]
    },
    {
     "name": "stderr",
     "output_type": "stream",
     "text": [
      "C:\\Users\\user\\AppData\\Local\\Packages\\PythonSoftwareFoundation.Python.3.12_qbz5n2kfra8p0\\LocalCache\\local-packages\\Python312\\site-packages\\torch\\nn\\modules\\module.py:1736: UserWarning: Implicit dimension choice for softmax has been deprecated. Change the call to include dim=X as an argument.\n",
      "  return self._call_impl(*args, **kwargs)\n"
     ]
    },
    {
     "name": "stdout",
     "output_type": "stream",
     "text": [
      "Hidden Layers: [16, 8, 4], Activation: Softmax, Epochs: 25, LR: 10, Batch Size: 64, Accuracy: 0.0692\n"
     ]
    },
    {
     "name": "stderr",
     "output_type": "stream",
     "text": [
      "C:\\Users\\user\\AppData\\Local\\Packages\\PythonSoftwareFoundation.Python.3.12_qbz5n2kfra8p0\\LocalCache\\local-packages\\Python312\\site-packages\\torch\\nn\\modules\\module.py:1736: UserWarning: Implicit dimension choice for softmax has been deprecated. Change the call to include dim=X as an argument.\n",
      "  return self._call_impl(*args, **kwargs)\n"
     ]
    },
    {
     "name": "stdout",
     "output_type": "stream",
     "text": [
      "Hidden Layers: [16, 8, 4], Activation: Softmax, Epochs: 25, LR: 10, Batch Size: 128, Accuracy: 0.1231\n"
     ]
    },
    {
     "name": "stderr",
     "output_type": "stream",
     "text": [
      "C:\\Users\\user\\AppData\\Local\\Packages\\PythonSoftwareFoundation.Python.3.12_qbz5n2kfra8p0\\LocalCache\\local-packages\\Python312\\site-packages\\torch\\nn\\modules\\module.py:1736: UserWarning: Implicit dimension choice for softmax has been deprecated. Change the call to include dim=X as an argument.\n",
      "  return self._call_impl(*args, **kwargs)\n"
     ]
    },
    {
     "name": "stdout",
     "output_type": "stream",
     "text": [
      "Hidden Layers: [16, 8, 4], Activation: Softmax, Epochs: 25, LR: 10, Batch Size: 256, Accuracy: 0.1308\n",
      "Hidden Layers: [16, 8, 4], Activation: Softmax, Epochs: 25, LR: 10, Batch Size: 512, Accuracy: 0.1000\n"
     ]
    },
    {
     "name": "stderr",
     "output_type": "stream",
     "text": [
      "C:\\Users\\user\\AppData\\Local\\Packages\\PythonSoftwareFoundation.Python.3.12_qbz5n2kfra8p0\\LocalCache\\local-packages\\Python312\\site-packages\\torch\\nn\\modules\\module.py:1736: UserWarning: Implicit dimension choice for softmax has been deprecated. Change the call to include dim=X as an argument.\n",
      "  return self._call_impl(*args, **kwargs)\n",
      "C:\\Users\\user\\AppData\\Local\\Packages\\PythonSoftwareFoundation.Python.3.12_qbz5n2kfra8p0\\LocalCache\\local-packages\\Python312\\site-packages\\torch\\nn\\modules\\module.py:1736: UserWarning: Implicit dimension choice for softmax has been deprecated. Change the call to include dim=X as an argument.\n",
      "  return self._call_impl(*args, **kwargs)\n"
     ]
    },
    {
     "name": "stdout",
     "output_type": "stream",
     "text": [
      "Hidden Layers: [16, 8, 4], Activation: Softmax, Epochs: 25, LR: 1, Batch Size: 16, Accuracy: 0.1923\n"
     ]
    },
    {
     "name": "stderr",
     "output_type": "stream",
     "text": [
      "C:\\Users\\user\\AppData\\Local\\Packages\\PythonSoftwareFoundation.Python.3.12_qbz5n2kfra8p0\\LocalCache\\local-packages\\Python312\\site-packages\\torch\\nn\\modules\\module.py:1736: UserWarning: Implicit dimension choice for softmax has been deprecated. Change the call to include dim=X as an argument.\n",
      "  return self._call_impl(*args, **kwargs)\n"
     ]
    },
    {
     "name": "stdout",
     "output_type": "stream",
     "text": [
      "Hidden Layers: [16, 8, 4], Activation: Softmax, Epochs: 25, LR: 1, Batch Size: 32, Accuracy: 0.1231\n"
     ]
    },
    {
     "name": "stderr",
     "output_type": "stream",
     "text": [
      "C:\\Users\\user\\AppData\\Local\\Packages\\PythonSoftwareFoundation.Python.3.12_qbz5n2kfra8p0\\LocalCache\\local-packages\\Python312\\site-packages\\torch\\nn\\modules\\module.py:1736: UserWarning: Implicit dimension choice for softmax has been deprecated. Change the call to include dim=X as an argument.\n",
      "  return self._call_impl(*args, **kwargs)\n"
     ]
    },
    {
     "name": "stdout",
     "output_type": "stream",
     "text": [
      "Hidden Layers: [16, 8, 4], Activation: Softmax, Epochs: 25, LR: 1, Batch Size: 64, Accuracy: 0.0923\n"
     ]
    },
    {
     "name": "stderr",
     "output_type": "stream",
     "text": [
      "C:\\Users\\user\\AppData\\Local\\Packages\\PythonSoftwareFoundation.Python.3.12_qbz5n2kfra8p0\\LocalCache\\local-packages\\Python312\\site-packages\\torch\\nn\\modules\\module.py:1736: UserWarning: Implicit dimension choice for softmax has been deprecated. Change the call to include dim=X as an argument.\n",
      "  return self._call_impl(*args, **kwargs)\n"
     ]
    },
    {
     "name": "stdout",
     "output_type": "stream",
     "text": [
      "Hidden Layers: [16, 8, 4], Activation: Softmax, Epochs: 25, LR: 1, Batch Size: 128, Accuracy: 0.1308\n"
     ]
    },
    {
     "name": "stderr",
     "output_type": "stream",
     "text": [
      "C:\\Users\\user\\AppData\\Local\\Packages\\PythonSoftwareFoundation.Python.3.12_qbz5n2kfra8p0\\LocalCache\\local-packages\\Python312\\site-packages\\torch\\nn\\modules\\module.py:1736: UserWarning: Implicit dimension choice for softmax has been deprecated. Change the call to include dim=X as an argument.\n",
      "  return self._call_impl(*args, **kwargs)\n"
     ]
    },
    {
     "name": "stdout",
     "output_type": "stream",
     "text": [
      "Hidden Layers: [16, 8, 4], Activation: Softmax, Epochs: 25, LR: 1, Batch Size: 256, Accuracy: 0.1308\n"
     ]
    },
    {
     "name": "stderr",
     "output_type": "stream",
     "text": [
      "C:\\Users\\user\\AppData\\Local\\Packages\\PythonSoftwareFoundation.Python.3.12_qbz5n2kfra8p0\\LocalCache\\local-packages\\Python312\\site-packages\\torch\\nn\\modules\\module.py:1736: UserWarning: Implicit dimension choice for softmax has been deprecated. Change the call to include dim=X as an argument.\n",
      "  return self._call_impl(*args, **kwargs)\n"
     ]
    },
    {
     "name": "stdout",
     "output_type": "stream",
     "text": [
      "Hidden Layers: [16, 8, 4], Activation: Softmax, Epochs: 25, LR: 1, Batch Size: 512, Accuracy: 0.1000\n"
     ]
    },
    {
     "name": "stderr",
     "output_type": "stream",
     "text": [
      "C:\\Users\\user\\AppData\\Local\\Packages\\PythonSoftwareFoundation.Python.3.12_qbz5n2kfra8p0\\LocalCache\\local-packages\\Python312\\site-packages\\torch\\nn\\modules\\module.py:1736: UserWarning: Implicit dimension choice for softmax has been deprecated. Change the call to include dim=X as an argument.\n",
      "  return self._call_impl(*args, **kwargs)\n"
     ]
    },
    {
     "name": "stdout",
     "output_type": "stream",
     "text": [
      "Hidden Layers: [16, 8, 4], Activation: Softmax, Epochs: 25, LR: 0.1, Batch Size: 16, Accuracy: 0.2077\n"
     ]
    },
    {
     "name": "stderr",
     "output_type": "stream",
     "text": [
      "C:\\Users\\user\\AppData\\Local\\Packages\\PythonSoftwareFoundation.Python.3.12_qbz5n2kfra8p0\\LocalCache\\local-packages\\Python312\\site-packages\\torch\\nn\\modules\\module.py:1736: UserWarning: Implicit dimension choice for softmax has been deprecated. Change the call to include dim=X as an argument.\n",
      "  return self._call_impl(*args, **kwargs)\n"
     ]
    },
    {
     "name": "stdout",
     "output_type": "stream",
     "text": [
      "Hidden Layers: [16, 8, 4], Activation: Softmax, Epochs: 25, LR: 0.1, Batch Size: 32, Accuracy: 0.2231\n"
     ]
    },
    {
     "name": "stderr",
     "output_type": "stream",
     "text": [
      "C:\\Users\\user\\AppData\\Local\\Packages\\PythonSoftwareFoundation.Python.3.12_qbz5n2kfra8p0\\LocalCache\\local-packages\\Python312\\site-packages\\torch\\nn\\modules\\module.py:1736: UserWarning: Implicit dimension choice for softmax has been deprecated. Change the call to include dim=X as an argument.\n",
      "  return self._call_impl(*args, **kwargs)\n"
     ]
    },
    {
     "name": "stdout",
     "output_type": "stream",
     "text": [
      "Hidden Layers: [16, 8, 4], Activation: Softmax, Epochs: 25, LR: 0.1, Batch Size: 64, Accuracy: 0.2231\n"
     ]
    },
    {
     "name": "stderr",
     "output_type": "stream",
     "text": [
      "C:\\Users\\user\\AppData\\Local\\Packages\\PythonSoftwareFoundation.Python.3.12_qbz5n2kfra8p0\\LocalCache\\local-packages\\Python312\\site-packages\\torch\\nn\\modules\\module.py:1736: UserWarning: Implicit dimension choice for softmax has been deprecated. Change the call to include dim=X as an argument.\n",
      "  return self._call_impl(*args, **kwargs)\n"
     ]
    },
    {
     "name": "stdout",
     "output_type": "stream",
     "text": [
      "Hidden Layers: [16, 8, 4], Activation: Softmax, Epochs: 25, LR: 0.1, Batch Size: 128, Accuracy: 0.2308\n"
     ]
    },
    {
     "name": "stderr",
     "output_type": "stream",
     "text": [
      "C:\\Users\\user\\AppData\\Local\\Packages\\PythonSoftwareFoundation.Python.3.12_qbz5n2kfra8p0\\LocalCache\\local-packages\\Python312\\site-packages\\torch\\nn\\modules\\module.py:1736: UserWarning: Implicit dimension choice for softmax has been deprecated. Change the call to include dim=X as an argument.\n",
      "  return self._call_impl(*args, **kwargs)\n"
     ]
    },
    {
     "name": "stdout",
     "output_type": "stream",
     "text": [
      "Hidden Layers: [16, 8, 4], Activation: Softmax, Epochs: 25, LR: 0.1, Batch Size: 256, Accuracy: 0.2077\n"
     ]
    },
    {
     "name": "stderr",
     "output_type": "stream",
     "text": [
      "C:\\Users\\user\\AppData\\Local\\Packages\\PythonSoftwareFoundation.Python.3.12_qbz5n2kfra8p0\\LocalCache\\local-packages\\Python312\\site-packages\\torch\\nn\\modules\\module.py:1736: UserWarning: Implicit dimension choice for softmax has been deprecated. Change the call to include dim=X as an argument.\n",
      "  return self._call_impl(*args, **kwargs)\n"
     ]
    },
    {
     "name": "stdout",
     "output_type": "stream",
     "text": [
      "Hidden Layers: [16, 8, 4], Activation: Softmax, Epochs: 25, LR: 0.1, Batch Size: 512, Accuracy: 0.2077\n"
     ]
    },
    {
     "name": "stderr",
     "output_type": "stream",
     "text": [
      "C:\\Users\\user\\AppData\\Local\\Packages\\PythonSoftwareFoundation.Python.3.12_qbz5n2kfra8p0\\LocalCache\\local-packages\\Python312\\site-packages\\torch\\nn\\modules\\module.py:1736: UserWarning: Implicit dimension choice for softmax has been deprecated. Change the call to include dim=X as an argument.\n",
      "  return self._call_impl(*args, **kwargs)\n"
     ]
    },
    {
     "name": "stdout",
     "output_type": "stream",
     "text": [
      "Hidden Layers: [16, 8, 4], Activation: Softmax, Epochs: 25, LR: 0.01, Batch Size: 16, Accuracy: 0.2385\n"
     ]
    },
    {
     "name": "stderr",
     "output_type": "stream",
     "text": [
      "C:\\Users\\user\\AppData\\Local\\Packages\\PythonSoftwareFoundation.Python.3.12_qbz5n2kfra8p0\\LocalCache\\local-packages\\Python312\\site-packages\\torch\\nn\\modules\\module.py:1736: UserWarning: Implicit dimension choice for softmax has been deprecated. Change the call to include dim=X as an argument.\n",
      "  return self._call_impl(*args, **kwargs)\n"
     ]
    },
    {
     "name": "stdout",
     "output_type": "stream",
     "text": [
      "Hidden Layers: [16, 8, 4], Activation: Softmax, Epochs: 25, LR: 0.01, Batch Size: 32, Accuracy: 0.2231\n"
     ]
    },
    {
     "name": "stderr",
     "output_type": "stream",
     "text": [
      "C:\\Users\\user\\AppData\\Local\\Packages\\PythonSoftwareFoundation.Python.3.12_qbz5n2kfra8p0\\LocalCache\\local-packages\\Python312\\site-packages\\torch\\nn\\modules\\module.py:1736: UserWarning: Implicit dimension choice for softmax has been deprecated. Change the call to include dim=X as an argument.\n",
      "  return self._call_impl(*args, **kwargs)\n"
     ]
    },
    {
     "name": "stdout",
     "output_type": "stream",
     "text": [
      "Hidden Layers: [16, 8, 4], Activation: Softmax, Epochs: 25, LR: 0.01, Batch Size: 64, Accuracy: 0.2231\n"
     ]
    },
    {
     "name": "stderr",
     "output_type": "stream",
     "text": [
      "C:\\Users\\user\\AppData\\Local\\Packages\\PythonSoftwareFoundation.Python.3.12_qbz5n2kfra8p0\\LocalCache\\local-packages\\Python312\\site-packages\\torch\\nn\\modules\\module.py:1736: UserWarning: Implicit dimension choice for softmax has been deprecated. Change the call to include dim=X as an argument.\n",
      "  return self._call_impl(*args, **kwargs)\n"
     ]
    },
    {
     "name": "stdout",
     "output_type": "stream",
     "text": [
      "Hidden Layers: [16, 8, 4], Activation: Softmax, Epochs: 25, LR: 0.01, Batch Size: 128, Accuracy: 0.2462\n"
     ]
    },
    {
     "name": "stderr",
     "output_type": "stream",
     "text": [
      "C:\\Users\\user\\AppData\\Local\\Packages\\PythonSoftwareFoundation.Python.3.12_qbz5n2kfra8p0\\LocalCache\\local-packages\\Python312\\site-packages\\torch\\nn\\modules\\module.py:1736: UserWarning: Implicit dimension choice for softmax has been deprecated. Change the call to include dim=X as an argument.\n",
      "  return self._call_impl(*args, **kwargs)\n"
     ]
    },
    {
     "name": "stdout",
     "output_type": "stream",
     "text": [
      "Hidden Layers: [16, 8, 4], Activation: Softmax, Epochs: 25, LR: 0.01, Batch Size: 256, Accuracy: 0.1923\n",
      "Hidden Layers: [16, 8, 4], Activation: Softmax, Epochs: 25, LR: 0.01, Batch Size: 512, Accuracy: 0.1231\n"
     ]
    },
    {
     "name": "stderr",
     "output_type": "stream",
     "text": [
      "C:\\Users\\user\\AppData\\Local\\Packages\\PythonSoftwareFoundation.Python.3.12_qbz5n2kfra8p0\\LocalCache\\local-packages\\Python312\\site-packages\\torch\\nn\\modules\\module.py:1736: UserWarning: Implicit dimension choice for softmax has been deprecated. Change the call to include dim=X as an argument.\n",
      "  return self._call_impl(*args, **kwargs)\n",
      "C:\\Users\\user\\AppData\\Local\\Packages\\PythonSoftwareFoundation.Python.3.12_qbz5n2kfra8p0\\LocalCache\\local-packages\\Python312\\site-packages\\torch\\nn\\modules\\module.py:1736: UserWarning: Implicit dimension choice for softmax has been deprecated. Change the call to include dim=X as an argument.\n",
      "  return self._call_impl(*args, **kwargs)\n"
     ]
    },
    {
     "name": "stdout",
     "output_type": "stream",
     "text": [
      "Hidden Layers: [16, 8, 4], Activation: Softmax, Epochs: 25, LR: 0.001, Batch Size: 16, Accuracy: 0.1923\n"
     ]
    },
    {
     "name": "stderr",
     "output_type": "stream",
     "text": [
      "C:\\Users\\user\\AppData\\Local\\Packages\\PythonSoftwareFoundation.Python.3.12_qbz5n2kfra8p0\\LocalCache\\local-packages\\Python312\\site-packages\\torch\\nn\\modules\\module.py:1736: UserWarning: Implicit dimension choice for softmax has been deprecated. Change the call to include dim=X as an argument.\n",
      "  return self._call_impl(*args, **kwargs)\n"
     ]
    },
    {
     "name": "stdout",
     "output_type": "stream",
     "text": [
      "Hidden Layers: [16, 8, 4], Activation: Softmax, Epochs: 25, LR: 0.001, Batch Size: 32, Accuracy: 0.0923\n"
     ]
    },
    {
     "name": "stderr",
     "output_type": "stream",
     "text": [
      "C:\\Users\\user\\AppData\\Local\\Packages\\PythonSoftwareFoundation.Python.3.12_qbz5n2kfra8p0\\LocalCache\\local-packages\\Python312\\site-packages\\torch\\nn\\modules\\module.py:1736: UserWarning: Implicit dimension choice for softmax has been deprecated. Change the call to include dim=X as an argument.\n",
      "  return self._call_impl(*args, **kwargs)\n"
     ]
    },
    {
     "name": "stdout",
     "output_type": "stream",
     "text": [
      "Hidden Layers: [16, 8, 4], Activation: Softmax, Epochs: 25, LR: 0.001, Batch Size: 64, Accuracy: 0.1231\n"
     ]
    },
    {
     "name": "stderr",
     "output_type": "stream",
     "text": [
      "C:\\Users\\user\\AppData\\Local\\Packages\\PythonSoftwareFoundation.Python.3.12_qbz5n2kfra8p0\\LocalCache\\local-packages\\Python312\\site-packages\\torch\\nn\\modules\\module.py:1736: UserWarning: Implicit dimension choice for softmax has been deprecated. Change the call to include dim=X as an argument.\n",
      "  return self._call_impl(*args, **kwargs)\n"
     ]
    },
    {
     "name": "stdout",
     "output_type": "stream",
     "text": [
      "Hidden Layers: [16, 8, 4], Activation: Softmax, Epochs: 25, LR: 0.001, Batch Size: 128, Accuracy: 0.0385\n"
     ]
    },
    {
     "name": "stderr",
     "output_type": "stream",
     "text": [
      "C:\\Users\\user\\AppData\\Local\\Packages\\PythonSoftwareFoundation.Python.3.12_qbz5n2kfra8p0\\LocalCache\\local-packages\\Python312\\site-packages\\torch\\nn\\modules\\module.py:1736: UserWarning: Implicit dimension choice for softmax has been deprecated. Change the call to include dim=X as an argument.\n",
      "  return self._call_impl(*args, **kwargs)\n"
     ]
    },
    {
     "name": "stdout",
     "output_type": "stream",
     "text": [
      "Hidden Layers: [16, 8, 4], Activation: Softmax, Epochs: 25, LR: 0.001, Batch Size: 256, Accuracy: 0.1000\n"
     ]
    },
    {
     "name": "stderr",
     "output_type": "stream",
     "text": [
      "C:\\Users\\user\\AppData\\Local\\Packages\\PythonSoftwareFoundation.Python.3.12_qbz5n2kfra8p0\\LocalCache\\local-packages\\Python312\\site-packages\\torch\\nn\\modules\\module.py:1736: UserWarning: Implicit dimension choice for softmax has been deprecated. Change the call to include dim=X as an argument.\n",
      "  return self._call_impl(*args, **kwargs)\n"
     ]
    },
    {
     "name": "stdout",
     "output_type": "stream",
     "text": [
      "Hidden Layers: [16, 8, 4], Activation: Softmax, Epochs: 25, LR: 0.001, Batch Size: 512, Accuracy: 0.1308\n"
     ]
    },
    {
     "name": "stderr",
     "output_type": "stream",
     "text": [
      "C:\\Users\\user\\AppData\\Local\\Packages\\PythonSoftwareFoundation.Python.3.12_qbz5n2kfra8p0\\LocalCache\\local-packages\\Python312\\site-packages\\torch\\nn\\modules\\module.py:1736: UserWarning: Implicit dimension choice for softmax has been deprecated. Change the call to include dim=X as an argument.\n",
      "  return self._call_impl(*args, **kwargs)\n"
     ]
    },
    {
     "name": "stdout",
     "output_type": "stream",
     "text": [
      "Hidden Layers: [16, 8, 4], Activation: Softmax, Epochs: 25, LR: 0.0001, Batch Size: 16, Accuracy: 0.1308\n"
     ]
    },
    {
     "name": "stderr",
     "output_type": "stream",
     "text": [
      "C:\\Users\\user\\AppData\\Local\\Packages\\PythonSoftwareFoundation.Python.3.12_qbz5n2kfra8p0\\LocalCache\\local-packages\\Python312\\site-packages\\torch\\nn\\modules\\module.py:1736: UserWarning: Implicit dimension choice for softmax has been deprecated. Change the call to include dim=X as an argument.\n",
      "  return self._call_impl(*args, **kwargs)\n"
     ]
    },
    {
     "name": "stdout",
     "output_type": "stream",
     "text": [
      "Hidden Layers: [16, 8, 4], Activation: Softmax, Epochs: 25, LR: 0.0001, Batch Size: 32, Accuracy: 0.0769\n"
     ]
    },
    {
     "name": "stderr",
     "output_type": "stream",
     "text": [
      "C:\\Users\\user\\AppData\\Local\\Packages\\PythonSoftwareFoundation.Python.3.12_qbz5n2kfra8p0\\LocalCache\\local-packages\\Python312\\site-packages\\torch\\nn\\modules\\module.py:1736: UserWarning: Implicit dimension choice for softmax has been deprecated. Change the call to include dim=X as an argument.\n",
      "  return self._call_impl(*args, **kwargs)\n"
     ]
    },
    {
     "name": "stdout",
     "output_type": "stream",
     "text": [
      "Hidden Layers: [16, 8, 4], Activation: Softmax, Epochs: 25, LR: 0.0001, Batch Size: 64, Accuracy: 0.0000\n"
     ]
    },
    {
     "name": "stderr",
     "output_type": "stream",
     "text": [
      "C:\\Users\\user\\AppData\\Local\\Packages\\PythonSoftwareFoundation.Python.3.12_qbz5n2kfra8p0\\LocalCache\\local-packages\\Python312\\site-packages\\torch\\nn\\modules\\module.py:1736: UserWarning: Implicit dimension choice for softmax has been deprecated. Change the call to include dim=X as an argument.\n",
      "  return self._call_impl(*args, **kwargs)\n"
     ]
    },
    {
     "name": "stdout",
     "output_type": "stream",
     "text": [
      "Hidden Layers: [16, 8, 4], Activation: Softmax, Epochs: 25, LR: 0.0001, Batch Size: 128, Accuracy: 0.0077\n"
     ]
    },
    {
     "name": "stderr",
     "output_type": "stream",
     "text": [
      "C:\\Users\\user\\AppData\\Local\\Packages\\PythonSoftwareFoundation.Python.3.12_qbz5n2kfra8p0\\LocalCache\\local-packages\\Python312\\site-packages\\torch\\nn\\modules\\module.py:1736: UserWarning: Implicit dimension choice for softmax has been deprecated. Change the call to include dim=X as an argument.\n",
      "  return self._call_impl(*args, **kwargs)\n"
     ]
    },
    {
     "name": "stdout",
     "output_type": "stream",
     "text": [
      "Hidden Layers: [16, 8, 4], Activation: Softmax, Epochs: 25, LR: 0.0001, Batch Size: 256, Accuracy: 0.0385\n",
      "Hidden Layers: [16, 8, 4], Activation: Softmax, Epochs: 25, LR: 0.0001, Batch Size: 512, Accuracy: 0.0000\n"
     ]
    },
    {
     "name": "stderr",
     "output_type": "stream",
     "text": [
      "C:\\Users\\user\\AppData\\Local\\Packages\\PythonSoftwareFoundation.Python.3.12_qbz5n2kfra8p0\\LocalCache\\local-packages\\Python312\\site-packages\\torch\\nn\\modules\\module.py:1736: UserWarning: Implicit dimension choice for softmax has been deprecated. Change the call to include dim=X as an argument.\n",
      "  return self._call_impl(*args, **kwargs)\n",
      "C:\\Users\\user\\AppData\\Local\\Packages\\PythonSoftwareFoundation.Python.3.12_qbz5n2kfra8p0\\LocalCache\\local-packages\\Python312\\site-packages\\torch\\nn\\modules\\module.py:1736: UserWarning: Implicit dimension choice for softmax has been deprecated. Change the call to include dim=X as an argument.\n",
      "  return self._call_impl(*args, **kwargs)\n"
     ]
    },
    {
     "name": "stdout",
     "output_type": "stream",
     "text": [
      "Hidden Layers: [16, 8, 4], Activation: Softmax, Epochs: 50, LR: 10, Batch Size: 16, Accuracy: 0.1923\n"
     ]
    },
    {
     "name": "stderr",
     "output_type": "stream",
     "text": [
      "C:\\Users\\user\\AppData\\Local\\Packages\\PythonSoftwareFoundation.Python.3.12_qbz5n2kfra8p0\\LocalCache\\local-packages\\Python312\\site-packages\\torch\\nn\\modules\\module.py:1736: UserWarning: Implicit dimension choice for softmax has been deprecated. Change the call to include dim=X as an argument.\n",
      "  return self._call_impl(*args, **kwargs)\n"
     ]
    },
    {
     "name": "stdout",
     "output_type": "stream",
     "text": [
      "Hidden Layers: [16, 8, 4], Activation: Softmax, Epochs: 50, LR: 10, Batch Size: 32, Accuracy: 0.0385\n"
     ]
    },
    {
     "name": "stderr",
     "output_type": "stream",
     "text": [
      "C:\\Users\\user\\AppData\\Local\\Packages\\PythonSoftwareFoundation.Python.3.12_qbz5n2kfra8p0\\LocalCache\\local-packages\\Python312\\site-packages\\torch\\nn\\modules\\module.py:1736: UserWarning: Implicit dimension choice for softmax has been deprecated. Change the call to include dim=X as an argument.\n",
      "  return self._call_impl(*args, **kwargs)\n"
     ]
    },
    {
     "name": "stdout",
     "output_type": "stream",
     "text": [
      "Hidden Layers: [16, 8, 4], Activation: Softmax, Epochs: 50, LR: 10, Batch Size: 64, Accuracy: 0.0692\n"
     ]
    },
    {
     "name": "stderr",
     "output_type": "stream",
     "text": [
      "C:\\Users\\user\\AppData\\Local\\Packages\\PythonSoftwareFoundation.Python.3.12_qbz5n2kfra8p0\\LocalCache\\local-packages\\Python312\\site-packages\\torch\\nn\\modules\\module.py:1736: UserWarning: Implicit dimension choice for softmax has been deprecated. Change the call to include dim=X as an argument.\n",
      "  return self._call_impl(*args, **kwargs)\n"
     ]
    },
    {
     "name": "stdout",
     "output_type": "stream",
     "text": [
      "Hidden Layers: [16, 8, 4], Activation: Softmax, Epochs: 50, LR: 10, Batch Size: 128, Accuracy: 0.0923\n"
     ]
    },
    {
     "name": "stderr",
     "output_type": "stream",
     "text": [
      "C:\\Users\\user\\AppData\\Local\\Packages\\PythonSoftwareFoundation.Python.3.12_qbz5n2kfra8p0\\LocalCache\\local-packages\\Python312\\site-packages\\torch\\nn\\modules\\module.py:1736: UserWarning: Implicit dimension choice for softmax has been deprecated. Change the call to include dim=X as an argument.\n",
      "  return self._call_impl(*args, **kwargs)\n"
     ]
    },
    {
     "name": "stdout",
     "output_type": "stream",
     "text": [
      "Hidden Layers: [16, 8, 4], Activation: Softmax, Epochs: 50, LR: 10, Batch Size: 256, Accuracy: 0.0846\n"
     ]
    },
    {
     "name": "stderr",
     "output_type": "stream",
     "text": [
      "C:\\Users\\user\\AppData\\Local\\Packages\\PythonSoftwareFoundation.Python.3.12_qbz5n2kfra8p0\\LocalCache\\local-packages\\Python312\\site-packages\\torch\\nn\\modules\\module.py:1736: UserWarning: Implicit dimension choice for softmax has been deprecated. Change the call to include dim=X as an argument.\n",
      "  return self._call_impl(*args, **kwargs)\n"
     ]
    },
    {
     "name": "stdout",
     "output_type": "stream",
     "text": [
      "Hidden Layers: [16, 8, 4], Activation: Softmax, Epochs: 50, LR: 10, Batch Size: 512, Accuracy: 0.0154\n"
     ]
    },
    {
     "name": "stderr",
     "output_type": "stream",
     "text": [
      "C:\\Users\\user\\AppData\\Local\\Packages\\PythonSoftwareFoundation.Python.3.12_qbz5n2kfra8p0\\LocalCache\\local-packages\\Python312\\site-packages\\torch\\nn\\modules\\module.py:1736: UserWarning: Implicit dimension choice for softmax has been deprecated. Change the call to include dim=X as an argument.\n",
      "  return self._call_impl(*args, **kwargs)\n"
     ]
    },
    {
     "name": "stdout",
     "output_type": "stream",
     "text": [
      "Hidden Layers: [16, 8, 4], Activation: Softmax, Epochs: 50, LR: 1, Batch Size: 16, Accuracy: 0.1000\n"
     ]
    },
    {
     "name": "stderr",
     "output_type": "stream",
     "text": [
      "C:\\Users\\user\\AppData\\Local\\Packages\\PythonSoftwareFoundation.Python.3.12_qbz5n2kfra8p0\\LocalCache\\local-packages\\Python312\\site-packages\\torch\\nn\\modules\\module.py:1736: UserWarning: Implicit dimension choice for softmax has been deprecated. Change the call to include dim=X as an argument.\n",
      "  return self._call_impl(*args, **kwargs)\n"
     ]
    },
    {
     "name": "stdout",
     "output_type": "stream",
     "text": [
      "Hidden Layers: [16, 8, 4], Activation: Softmax, Epochs: 50, LR: 1, Batch Size: 32, Accuracy: 0.1308\n"
     ]
    },
    {
     "name": "stderr",
     "output_type": "stream",
     "text": [
      "C:\\Users\\user\\AppData\\Local\\Packages\\PythonSoftwareFoundation.Python.3.12_qbz5n2kfra8p0\\LocalCache\\local-packages\\Python312\\site-packages\\torch\\nn\\modules\\module.py:1736: UserWarning: Implicit dimension choice for softmax has been deprecated. Change the call to include dim=X as an argument.\n",
      "  return self._call_impl(*args, **kwargs)\n"
     ]
    },
    {
     "name": "stdout",
     "output_type": "stream",
     "text": [
      "Hidden Layers: [16, 8, 4], Activation: Softmax, Epochs: 50, LR: 1, Batch Size: 64, Accuracy: 0.1231\n"
     ]
    },
    {
     "name": "stderr",
     "output_type": "stream",
     "text": [
      "C:\\Users\\user\\AppData\\Local\\Packages\\PythonSoftwareFoundation.Python.3.12_qbz5n2kfra8p0\\LocalCache\\local-packages\\Python312\\site-packages\\torch\\nn\\modules\\module.py:1736: UserWarning: Implicit dimension choice for softmax has been deprecated. Change the call to include dim=X as an argument.\n",
      "  return self._call_impl(*args, **kwargs)\n"
     ]
    },
    {
     "name": "stdout",
     "output_type": "stream",
     "text": [
      "Hidden Layers: [16, 8, 4], Activation: Softmax, Epochs: 50, LR: 1, Batch Size: 128, Accuracy: 0.1923\n"
     ]
    },
    {
     "name": "stderr",
     "output_type": "stream",
     "text": [
      "C:\\Users\\user\\AppData\\Local\\Packages\\PythonSoftwareFoundation.Python.3.12_qbz5n2kfra8p0\\LocalCache\\local-packages\\Python312\\site-packages\\torch\\nn\\modules\\module.py:1736: UserWarning: Implicit dimension choice for softmax has been deprecated. Change the call to include dim=X as an argument.\n",
      "  return self._call_impl(*args, **kwargs)\n"
     ]
    },
    {
     "name": "stdout",
     "output_type": "stream",
     "text": [
      "Hidden Layers: [16, 8, 4], Activation: Softmax, Epochs: 50, LR: 1, Batch Size: 256, Accuracy: 0.0769\n"
     ]
    },
    {
     "name": "stderr",
     "output_type": "stream",
     "text": [
      "C:\\Users\\user\\AppData\\Local\\Packages\\PythonSoftwareFoundation.Python.3.12_qbz5n2kfra8p0\\LocalCache\\local-packages\\Python312\\site-packages\\torch\\nn\\modules\\module.py:1736: UserWarning: Implicit dimension choice for softmax has been deprecated. Change the call to include dim=X as an argument.\n",
      "  return self._call_impl(*args, **kwargs)\n"
     ]
    },
    {
     "name": "stdout",
     "output_type": "stream",
     "text": [
      "Hidden Layers: [16, 8, 4], Activation: Softmax, Epochs: 50, LR: 1, Batch Size: 512, Accuracy: 0.1923\n"
     ]
    },
    {
     "name": "stderr",
     "output_type": "stream",
     "text": [
      "C:\\Users\\user\\AppData\\Local\\Packages\\PythonSoftwareFoundation.Python.3.12_qbz5n2kfra8p0\\LocalCache\\local-packages\\Python312\\site-packages\\torch\\nn\\modules\\module.py:1736: UserWarning: Implicit dimension choice for softmax has been deprecated. Change the call to include dim=X as an argument.\n",
      "  return self._call_impl(*args, **kwargs)\n"
     ]
    },
    {
     "name": "stdout",
     "output_type": "stream",
     "text": [
      "Hidden Layers: [16, 8, 4], Activation: Softmax, Epochs: 50, LR: 0.1, Batch Size: 16, Accuracy: 0.2077\n"
     ]
    },
    {
     "name": "stderr",
     "output_type": "stream",
     "text": [
      "C:\\Users\\user\\AppData\\Local\\Packages\\PythonSoftwareFoundation.Python.3.12_qbz5n2kfra8p0\\LocalCache\\local-packages\\Python312\\site-packages\\torch\\nn\\modules\\module.py:1736: UserWarning: Implicit dimension choice for softmax has been deprecated. Change the call to include dim=X as an argument.\n",
      "  return self._call_impl(*args, **kwargs)\n"
     ]
    },
    {
     "name": "stdout",
     "output_type": "stream",
     "text": [
      "Hidden Layers: [16, 8, 4], Activation: Softmax, Epochs: 50, LR: 0.1, Batch Size: 32, Accuracy: 0.2077\n"
     ]
    },
    {
     "name": "stderr",
     "output_type": "stream",
     "text": [
      "C:\\Users\\user\\AppData\\Local\\Packages\\PythonSoftwareFoundation.Python.3.12_qbz5n2kfra8p0\\LocalCache\\local-packages\\Python312\\site-packages\\torch\\nn\\modules\\module.py:1736: UserWarning: Implicit dimension choice for softmax has been deprecated. Change the call to include dim=X as an argument.\n",
      "  return self._call_impl(*args, **kwargs)\n"
     ]
    },
    {
     "name": "stdout",
     "output_type": "stream",
     "text": [
      "Hidden Layers: [16, 8, 4], Activation: Softmax, Epochs: 50, LR: 0.1, Batch Size: 64, Accuracy: 0.3538\n"
     ]
    },
    {
     "name": "stderr",
     "output_type": "stream",
     "text": [
      "C:\\Users\\user\\AppData\\Local\\Packages\\PythonSoftwareFoundation.Python.3.12_qbz5n2kfra8p0\\LocalCache\\local-packages\\Python312\\site-packages\\torch\\nn\\modules\\module.py:1736: UserWarning: Implicit dimension choice for softmax has been deprecated. Change the call to include dim=X as an argument.\n",
      "  return self._call_impl(*args, **kwargs)\n"
     ]
    },
    {
     "name": "stdout",
     "output_type": "stream",
     "text": [
      "Hidden Layers: [16, 8, 4], Activation: Softmax, Epochs: 50, LR: 0.1, Batch Size: 128, Accuracy: 0.2769\n"
     ]
    },
    {
     "name": "stderr",
     "output_type": "stream",
     "text": [
      "C:\\Users\\user\\AppData\\Local\\Packages\\PythonSoftwareFoundation.Python.3.12_qbz5n2kfra8p0\\LocalCache\\local-packages\\Python312\\site-packages\\torch\\nn\\modules\\module.py:1736: UserWarning: Implicit dimension choice for softmax has been deprecated. Change the call to include dim=X as an argument.\n",
      "  return self._call_impl(*args, **kwargs)\n"
     ]
    },
    {
     "name": "stdout",
     "output_type": "stream",
     "text": [
      "Hidden Layers: [16, 8, 4], Activation: Softmax, Epochs: 50, LR: 0.1, Batch Size: 256, Accuracy: 0.2077\n"
     ]
    },
    {
     "name": "stderr",
     "output_type": "stream",
     "text": [
      "C:\\Users\\user\\AppData\\Local\\Packages\\PythonSoftwareFoundation.Python.3.12_qbz5n2kfra8p0\\LocalCache\\local-packages\\Python312\\site-packages\\torch\\nn\\modules\\module.py:1736: UserWarning: Implicit dimension choice for softmax has been deprecated. Change the call to include dim=X as an argument.\n",
      "  return self._call_impl(*args, **kwargs)\n"
     ]
    },
    {
     "name": "stdout",
     "output_type": "stream",
     "text": [
      "Hidden Layers: [16, 8, 4], Activation: Softmax, Epochs: 50, LR: 0.1, Batch Size: 512, Accuracy: 0.2154\n"
     ]
    },
    {
     "name": "stderr",
     "output_type": "stream",
     "text": [
      "C:\\Users\\user\\AppData\\Local\\Packages\\PythonSoftwareFoundation.Python.3.12_qbz5n2kfra8p0\\LocalCache\\local-packages\\Python312\\site-packages\\torch\\nn\\modules\\module.py:1736: UserWarning: Implicit dimension choice for softmax has been deprecated. Change the call to include dim=X as an argument.\n",
      "  return self._call_impl(*args, **kwargs)\n"
     ]
    },
    {
     "name": "stdout",
     "output_type": "stream",
     "text": [
      "Hidden Layers: [16, 8, 4], Activation: Softmax, Epochs: 50, LR: 0.01, Batch Size: 16, Accuracy: 0.2692\n"
     ]
    },
    {
     "name": "stderr",
     "output_type": "stream",
     "text": [
      "C:\\Users\\user\\AppData\\Local\\Packages\\PythonSoftwareFoundation.Python.3.12_qbz5n2kfra8p0\\LocalCache\\local-packages\\Python312\\site-packages\\torch\\nn\\modules\\module.py:1736: UserWarning: Implicit dimension choice for softmax has been deprecated. Change the call to include dim=X as an argument.\n",
      "  return self._call_impl(*args, **kwargs)\n"
     ]
    },
    {
     "name": "stdout",
     "output_type": "stream",
     "text": [
      "Hidden Layers: [16, 8, 4], Activation: Softmax, Epochs: 50, LR: 0.01, Batch Size: 32, Accuracy: 0.2538\n"
     ]
    },
    {
     "name": "stderr",
     "output_type": "stream",
     "text": [
      "C:\\Users\\user\\AppData\\Local\\Packages\\PythonSoftwareFoundation.Python.3.12_qbz5n2kfra8p0\\LocalCache\\local-packages\\Python312\\site-packages\\torch\\nn\\modules\\module.py:1736: UserWarning: Implicit dimension choice for softmax has been deprecated. Change the call to include dim=X as an argument.\n",
      "  return self._call_impl(*args, **kwargs)\n"
     ]
    },
    {
     "name": "stdout",
     "output_type": "stream",
     "text": [
      "Hidden Layers: [16, 8, 4], Activation: Softmax, Epochs: 50, LR: 0.01, Batch Size: 64, Accuracy: 0.2462\n"
     ]
    },
    {
     "name": "stderr",
     "output_type": "stream",
     "text": [
      "C:\\Users\\user\\AppData\\Local\\Packages\\PythonSoftwareFoundation.Python.3.12_qbz5n2kfra8p0\\LocalCache\\local-packages\\Python312\\site-packages\\torch\\nn\\modules\\module.py:1736: UserWarning: Implicit dimension choice for softmax has been deprecated. Change the call to include dim=X as an argument.\n",
      "  return self._call_impl(*args, **kwargs)\n"
     ]
    },
    {
     "name": "stdout",
     "output_type": "stream",
     "text": [
      "Hidden Layers: [16, 8, 4], Activation: Softmax, Epochs: 50, LR: 0.01, Batch Size: 128, Accuracy: 0.2615\n"
     ]
    },
    {
     "name": "stderr",
     "output_type": "stream",
     "text": [
      "C:\\Users\\user\\AppData\\Local\\Packages\\PythonSoftwareFoundation.Python.3.12_qbz5n2kfra8p0\\LocalCache\\local-packages\\Python312\\site-packages\\torch\\nn\\modules\\module.py:1736: UserWarning: Implicit dimension choice for softmax has been deprecated. Change the call to include dim=X as an argument.\n",
      "  return self._call_impl(*args, **kwargs)\n"
     ]
    },
    {
     "name": "stdout",
     "output_type": "stream",
     "text": [
      "Hidden Layers: [16, 8, 4], Activation: Softmax, Epochs: 50, LR: 0.01, Batch Size: 256, Accuracy: 0.2154\n"
     ]
    },
    {
     "name": "stderr",
     "output_type": "stream",
     "text": [
      "C:\\Users\\user\\AppData\\Local\\Packages\\PythonSoftwareFoundation.Python.3.12_qbz5n2kfra8p0\\LocalCache\\local-packages\\Python312\\site-packages\\torch\\nn\\modules\\module.py:1736: UserWarning: Implicit dimension choice for softmax has been deprecated. Change the call to include dim=X as an argument.\n",
      "  return self._call_impl(*args, **kwargs)\n"
     ]
    },
    {
     "name": "stdout",
     "output_type": "stream",
     "text": [
      "Hidden Layers: [16, 8, 4], Activation: Softmax, Epochs: 50, LR: 0.01, Batch Size: 512, Accuracy: 0.1923\n"
     ]
    },
    {
     "name": "stderr",
     "output_type": "stream",
     "text": [
      "C:\\Users\\user\\AppData\\Local\\Packages\\PythonSoftwareFoundation.Python.3.12_qbz5n2kfra8p0\\LocalCache\\local-packages\\Python312\\site-packages\\torch\\nn\\modules\\module.py:1736: UserWarning: Implicit dimension choice for softmax has been deprecated. Change the call to include dim=X as an argument.\n",
      "  return self._call_impl(*args, **kwargs)\n"
     ]
    },
    {
     "name": "stdout",
     "output_type": "stream",
     "text": [
      "Hidden Layers: [16, 8, 4], Activation: Softmax, Epochs: 50, LR: 0.001, Batch Size: 16, Accuracy: 0.2000\n"
     ]
    },
    {
     "name": "stderr",
     "output_type": "stream",
     "text": [
      "C:\\Users\\user\\AppData\\Local\\Packages\\PythonSoftwareFoundation.Python.3.12_qbz5n2kfra8p0\\LocalCache\\local-packages\\Python312\\site-packages\\torch\\nn\\modules\\module.py:1736: UserWarning: Implicit dimension choice for softmax has been deprecated. Change the call to include dim=X as an argument.\n",
      "  return self._call_impl(*args, **kwargs)\n"
     ]
    },
    {
     "name": "stdout",
     "output_type": "stream",
     "text": [
      "Hidden Layers: [16, 8, 4], Activation: Softmax, Epochs: 50, LR: 0.001, Batch Size: 32, Accuracy: 0.1923\n"
     ]
    },
    {
     "name": "stderr",
     "output_type": "stream",
     "text": [
      "C:\\Users\\user\\AppData\\Local\\Packages\\PythonSoftwareFoundation.Python.3.12_qbz5n2kfra8p0\\LocalCache\\local-packages\\Python312\\site-packages\\torch\\nn\\modules\\module.py:1736: UserWarning: Implicit dimension choice for softmax has been deprecated. Change the call to include dim=X as an argument.\n",
      "  return self._call_impl(*args, **kwargs)\n"
     ]
    },
    {
     "name": "stdout",
     "output_type": "stream",
     "text": [
      "Hidden Layers: [16, 8, 4], Activation: Softmax, Epochs: 50, LR: 0.001, Batch Size: 64, Accuracy: 0.1923\n"
     ]
    },
    {
     "name": "stderr",
     "output_type": "stream",
     "text": [
      "C:\\Users\\user\\AppData\\Local\\Packages\\PythonSoftwareFoundation.Python.3.12_qbz5n2kfra8p0\\LocalCache\\local-packages\\Python312\\site-packages\\torch\\nn\\modules\\module.py:1736: UserWarning: Implicit dimension choice for softmax has been deprecated. Change the call to include dim=X as an argument.\n",
      "  return self._call_impl(*args, **kwargs)\n"
     ]
    },
    {
     "name": "stdout",
     "output_type": "stream",
     "text": [
      "Hidden Layers: [16, 8, 4], Activation: Softmax, Epochs: 50, LR: 0.001, Batch Size: 128, Accuracy: 0.1308\n"
     ]
    },
    {
     "name": "stderr",
     "output_type": "stream",
     "text": [
      "C:\\Users\\user\\AppData\\Local\\Packages\\PythonSoftwareFoundation.Python.3.12_qbz5n2kfra8p0\\LocalCache\\local-packages\\Python312\\site-packages\\torch\\nn\\modules\\module.py:1736: UserWarning: Implicit dimension choice for softmax has been deprecated. Change the call to include dim=X as an argument.\n",
      "  return self._call_impl(*args, **kwargs)\n"
     ]
    },
    {
     "name": "stdout",
     "output_type": "stream",
     "text": [
      "Hidden Layers: [16, 8, 4], Activation: Softmax, Epochs: 50, LR: 0.001, Batch Size: 256, Accuracy: 0.1000\n"
     ]
    },
    {
     "name": "stderr",
     "output_type": "stream",
     "text": [
      "C:\\Users\\user\\AppData\\Local\\Packages\\PythonSoftwareFoundation.Python.3.12_qbz5n2kfra8p0\\LocalCache\\local-packages\\Python312\\site-packages\\torch\\nn\\modules\\module.py:1736: UserWarning: Implicit dimension choice for softmax has been deprecated. Change the call to include dim=X as an argument.\n",
      "  return self._call_impl(*args, **kwargs)\n"
     ]
    },
    {
     "name": "stdout",
     "output_type": "stream",
     "text": [
      "Hidden Layers: [16, 8, 4], Activation: Softmax, Epochs: 50, LR: 0.001, Batch Size: 512, Accuracy: 0.1923\n"
     ]
    },
    {
     "name": "stderr",
     "output_type": "stream",
     "text": [
      "C:\\Users\\user\\AppData\\Local\\Packages\\PythonSoftwareFoundation.Python.3.12_qbz5n2kfra8p0\\LocalCache\\local-packages\\Python312\\site-packages\\torch\\nn\\modules\\module.py:1736: UserWarning: Implicit dimension choice for softmax has been deprecated. Change the call to include dim=X as an argument.\n",
      "  return self._call_impl(*args, **kwargs)\n"
     ]
    },
    {
     "name": "stdout",
     "output_type": "stream",
     "text": [
      "Hidden Layers: [16, 8, 4], Activation: Softmax, Epochs: 50, LR: 0.0001, Batch Size: 16, Accuracy: 0.1308\n"
     ]
    },
    {
     "name": "stderr",
     "output_type": "stream",
     "text": [
      "C:\\Users\\user\\AppData\\Local\\Packages\\PythonSoftwareFoundation.Python.3.12_qbz5n2kfra8p0\\LocalCache\\local-packages\\Python312\\site-packages\\torch\\nn\\modules\\module.py:1736: UserWarning: Implicit dimension choice for softmax has been deprecated. Change the call to include dim=X as an argument.\n",
      "  return self._call_impl(*args, **kwargs)\n"
     ]
    },
    {
     "name": "stdout",
     "output_type": "stream",
     "text": [
      "Hidden Layers: [16, 8, 4], Activation: Softmax, Epochs: 50, LR: 0.0001, Batch Size: 32, Accuracy: 0.0385\n"
     ]
    },
    {
     "name": "stderr",
     "output_type": "stream",
     "text": [
      "C:\\Users\\user\\AppData\\Local\\Packages\\PythonSoftwareFoundation.Python.3.12_qbz5n2kfra8p0\\LocalCache\\local-packages\\Python312\\site-packages\\torch\\nn\\modules\\module.py:1736: UserWarning: Implicit dimension choice for softmax has been deprecated. Change the call to include dim=X as an argument.\n",
      "  return self._call_impl(*args, **kwargs)\n"
     ]
    },
    {
     "name": "stdout",
     "output_type": "stream",
     "text": [
      "Hidden Layers: [16, 8, 4], Activation: Softmax, Epochs: 50, LR: 0.0001, Batch Size: 64, Accuracy: 0.0692\n"
     ]
    },
    {
     "name": "stderr",
     "output_type": "stream",
     "text": [
      "C:\\Users\\user\\AppData\\Local\\Packages\\PythonSoftwareFoundation.Python.3.12_qbz5n2kfra8p0\\LocalCache\\local-packages\\Python312\\site-packages\\torch\\nn\\modules\\module.py:1736: UserWarning: Implicit dimension choice for softmax has been deprecated. Change the call to include dim=X as an argument.\n",
      "  return self._call_impl(*args, **kwargs)\n"
     ]
    },
    {
     "name": "stdout",
     "output_type": "stream",
     "text": [
      "Hidden Layers: [16, 8, 4], Activation: Softmax, Epochs: 50, LR: 0.0001, Batch Size: 128, Accuracy: 0.1923\n"
     ]
    },
    {
     "name": "stderr",
     "output_type": "stream",
     "text": [
      "C:\\Users\\user\\AppData\\Local\\Packages\\PythonSoftwareFoundation.Python.3.12_qbz5n2kfra8p0\\LocalCache\\local-packages\\Python312\\site-packages\\torch\\nn\\modules\\module.py:1736: UserWarning: Implicit dimension choice for softmax has been deprecated. Change the call to include dim=X as an argument.\n",
      "  return self._call_impl(*args, **kwargs)\n"
     ]
    },
    {
     "name": "stdout",
     "output_type": "stream",
     "text": [
      "Hidden Layers: [16, 8, 4], Activation: Softmax, Epochs: 50, LR: 0.0001, Batch Size: 256, Accuracy: 0.0000\n"
     ]
    },
    {
     "name": "stderr",
     "output_type": "stream",
     "text": [
      "C:\\Users\\user\\AppData\\Local\\Packages\\PythonSoftwareFoundation.Python.3.12_qbz5n2kfra8p0\\LocalCache\\local-packages\\Python312\\site-packages\\torch\\nn\\modules\\module.py:1736: UserWarning: Implicit dimension choice for softmax has been deprecated. Change the call to include dim=X as an argument.\n",
      "  return self._call_impl(*args, **kwargs)\n"
     ]
    },
    {
     "name": "stdout",
     "output_type": "stream",
     "text": [
      "Hidden Layers: [16, 8, 4], Activation: Softmax, Epochs: 50, LR: 0.0001, Batch Size: 512, Accuracy: 0.0769\n"
     ]
    },
    {
     "name": "stderr",
     "output_type": "stream",
     "text": [
      "C:\\Users\\user\\AppData\\Local\\Packages\\PythonSoftwareFoundation.Python.3.12_qbz5n2kfra8p0\\LocalCache\\local-packages\\Python312\\site-packages\\torch\\nn\\modules\\module.py:1736: UserWarning: Implicit dimension choice for softmax has been deprecated. Change the call to include dim=X as an argument.\n",
      "  return self._call_impl(*args, **kwargs)\n"
     ]
    },
    {
     "name": "stdout",
     "output_type": "stream",
     "text": [
      "Hidden Layers: [16, 8, 4], Activation: Softmax, Epochs: 100, LR: 10, Batch Size: 16, Accuracy: 0.1769\n"
     ]
    },
    {
     "name": "stderr",
     "output_type": "stream",
     "text": [
      "C:\\Users\\user\\AppData\\Local\\Packages\\PythonSoftwareFoundation.Python.3.12_qbz5n2kfra8p0\\LocalCache\\local-packages\\Python312\\site-packages\\torch\\nn\\modules\\module.py:1736: UserWarning: Implicit dimension choice for softmax has been deprecated. Change the call to include dim=X as an argument.\n",
      "  return self._call_impl(*args, **kwargs)\n"
     ]
    },
    {
     "name": "stdout",
     "output_type": "stream",
     "text": [
      "Hidden Layers: [16, 8, 4], Activation: Softmax, Epochs: 100, LR: 10, Batch Size: 32, Accuracy: 0.1000\n"
     ]
    },
    {
     "name": "stderr",
     "output_type": "stream",
     "text": [
      "C:\\Users\\user\\AppData\\Local\\Packages\\PythonSoftwareFoundation.Python.3.12_qbz5n2kfra8p0\\LocalCache\\local-packages\\Python312\\site-packages\\torch\\nn\\modules\\module.py:1736: UserWarning: Implicit dimension choice for softmax has been deprecated. Change the call to include dim=X as an argument.\n",
      "  return self._call_impl(*args, **kwargs)\n"
     ]
    },
    {
     "name": "stdout",
     "output_type": "stream",
     "text": [
      "Hidden Layers: [16, 8, 4], Activation: Softmax, Epochs: 100, LR: 10, Batch Size: 64, Accuracy: 0.0692\n"
     ]
    },
    {
     "name": "stderr",
     "output_type": "stream",
     "text": [
      "C:\\Users\\user\\AppData\\Local\\Packages\\PythonSoftwareFoundation.Python.3.12_qbz5n2kfra8p0\\LocalCache\\local-packages\\Python312\\site-packages\\torch\\nn\\modules\\module.py:1736: UserWarning: Implicit dimension choice for softmax has been deprecated. Change the call to include dim=X as an argument.\n",
      "  return self._call_impl(*args, **kwargs)\n"
     ]
    },
    {
     "name": "stdout",
     "output_type": "stream",
     "text": [
      "Hidden Layers: [16, 8, 4], Activation: Softmax, Epochs: 100, LR: 10, Batch Size: 128, Accuracy: 0.0154\n"
     ]
    },
    {
     "name": "stderr",
     "output_type": "stream",
     "text": [
      "C:\\Users\\user\\AppData\\Local\\Packages\\PythonSoftwareFoundation.Python.3.12_qbz5n2kfra8p0\\LocalCache\\local-packages\\Python312\\site-packages\\torch\\nn\\modules\\module.py:1736: UserWarning: Implicit dimension choice for softmax has been deprecated. Change the call to include dim=X as an argument.\n",
      "  return self._call_impl(*args, **kwargs)\n"
     ]
    },
    {
     "name": "stdout",
     "output_type": "stream",
     "text": [
      "Hidden Layers: [16, 8, 4], Activation: Softmax, Epochs: 100, LR: 10, Batch Size: 256, Accuracy: 0.1923\n"
     ]
    },
    {
     "name": "stderr",
     "output_type": "stream",
     "text": [
      "C:\\Users\\user\\AppData\\Local\\Packages\\PythonSoftwareFoundation.Python.3.12_qbz5n2kfra8p0\\LocalCache\\local-packages\\Python312\\site-packages\\torch\\nn\\modules\\module.py:1736: UserWarning: Implicit dimension choice for softmax has been deprecated. Change the call to include dim=X as an argument.\n",
      "  return self._call_impl(*args, **kwargs)\n"
     ]
    },
    {
     "name": "stdout",
     "output_type": "stream",
     "text": [
      "Hidden Layers: [16, 8, 4], Activation: Softmax, Epochs: 100, LR: 10, Batch Size: 512, Accuracy: 0.1231\n"
     ]
    },
    {
     "name": "stderr",
     "output_type": "stream",
     "text": [
      "C:\\Users\\user\\AppData\\Local\\Packages\\PythonSoftwareFoundation.Python.3.12_qbz5n2kfra8p0\\LocalCache\\local-packages\\Python312\\site-packages\\torch\\nn\\modules\\module.py:1736: UserWarning: Implicit dimension choice for softmax has been deprecated. Change the call to include dim=X as an argument.\n",
      "  return self._call_impl(*args, **kwargs)\n"
     ]
    },
    {
     "name": "stdout",
     "output_type": "stream",
     "text": [
      "Hidden Layers: [16, 8, 4], Activation: Softmax, Epochs: 100, LR: 1, Batch Size: 16, Accuracy: 0.1923\n"
     ]
    },
    {
     "name": "stderr",
     "output_type": "stream",
     "text": [
      "C:\\Users\\user\\AppData\\Local\\Packages\\PythonSoftwareFoundation.Python.3.12_qbz5n2kfra8p0\\LocalCache\\local-packages\\Python312\\site-packages\\torch\\nn\\modules\\module.py:1736: UserWarning: Implicit dimension choice for softmax has been deprecated. Change the call to include dim=X as an argument.\n",
      "  return self._call_impl(*args, **kwargs)\n"
     ]
    },
    {
     "name": "stdout",
     "output_type": "stream",
     "text": [
      "Hidden Layers: [16, 8, 4], Activation: Softmax, Epochs: 100, LR: 1, Batch Size: 32, Accuracy: 0.1231\n"
     ]
    },
    {
     "name": "stderr",
     "output_type": "stream",
     "text": [
      "C:\\Users\\user\\AppData\\Local\\Packages\\PythonSoftwareFoundation.Python.3.12_qbz5n2kfra8p0\\LocalCache\\local-packages\\Python312\\site-packages\\torch\\nn\\modules\\module.py:1736: UserWarning: Implicit dimension choice for softmax has been deprecated. Change the call to include dim=X as an argument.\n",
      "  return self._call_impl(*args, **kwargs)\n"
     ]
    },
    {
     "name": "stdout",
     "output_type": "stream",
     "text": [
      "Hidden Layers: [16, 8, 4], Activation: Softmax, Epochs: 100, LR: 1, Batch Size: 64, Accuracy: 0.1154\n"
     ]
    },
    {
     "name": "stderr",
     "output_type": "stream",
     "text": [
      "C:\\Users\\user\\AppData\\Local\\Packages\\PythonSoftwareFoundation.Python.3.12_qbz5n2kfra8p0\\LocalCache\\local-packages\\Python312\\site-packages\\torch\\nn\\modules\\module.py:1736: UserWarning: Implicit dimension choice for softmax has been deprecated. Change the call to include dim=X as an argument.\n",
      "  return self._call_impl(*args, **kwargs)\n"
     ]
    },
    {
     "name": "stdout",
     "output_type": "stream",
     "text": [
      "Hidden Layers: [16, 8, 4], Activation: Softmax, Epochs: 100, LR: 1, Batch Size: 128, Accuracy: 0.0385\n"
     ]
    },
    {
     "name": "stderr",
     "output_type": "stream",
     "text": [
      "C:\\Users\\user\\AppData\\Local\\Packages\\PythonSoftwareFoundation.Python.3.12_qbz5n2kfra8p0\\LocalCache\\local-packages\\Python312\\site-packages\\torch\\nn\\modules\\module.py:1736: UserWarning: Implicit dimension choice for softmax has been deprecated. Change the call to include dim=X as an argument.\n",
      "  return self._call_impl(*args, **kwargs)\n"
     ]
    },
    {
     "name": "stdout",
     "output_type": "stream",
     "text": [
      "Hidden Layers: [16, 8, 4], Activation: Softmax, Epochs: 100, LR: 1, Batch Size: 256, Accuracy: 0.1308\n"
     ]
    },
    {
     "name": "stderr",
     "output_type": "stream",
     "text": [
      "C:\\Users\\user\\AppData\\Local\\Packages\\PythonSoftwareFoundation.Python.3.12_qbz5n2kfra8p0\\LocalCache\\local-packages\\Python312\\site-packages\\torch\\nn\\modules\\module.py:1736: UserWarning: Implicit dimension choice for softmax has been deprecated. Change the call to include dim=X as an argument.\n",
      "  return self._call_impl(*args, **kwargs)\n"
     ]
    },
    {
     "name": "stdout",
     "output_type": "stream",
     "text": [
      "Hidden Layers: [16, 8, 4], Activation: Softmax, Epochs: 100, LR: 1, Batch Size: 512, Accuracy: 0.1308\n"
     ]
    },
    {
     "name": "stderr",
     "output_type": "stream",
     "text": [
      "C:\\Users\\user\\AppData\\Local\\Packages\\PythonSoftwareFoundation.Python.3.12_qbz5n2kfra8p0\\LocalCache\\local-packages\\Python312\\site-packages\\torch\\nn\\modules\\module.py:1736: UserWarning: Implicit dimension choice for softmax has been deprecated. Change the call to include dim=X as an argument.\n",
      "  return self._call_impl(*args, **kwargs)\n"
     ]
    },
    {
     "name": "stdout",
     "output_type": "stream",
     "text": [
      "Hidden Layers: [16, 8, 4], Activation: Softmax, Epochs: 100, LR: 0.1, Batch Size: 16, Accuracy: 0.2692\n"
     ]
    },
    {
     "name": "stderr",
     "output_type": "stream",
     "text": [
      "C:\\Users\\user\\AppData\\Local\\Packages\\PythonSoftwareFoundation.Python.3.12_qbz5n2kfra8p0\\LocalCache\\local-packages\\Python312\\site-packages\\torch\\nn\\modules\\module.py:1736: UserWarning: Implicit dimension choice for softmax has been deprecated. Change the call to include dim=X as an argument.\n",
      "  return self._call_impl(*args, **kwargs)\n"
     ]
    },
    {
     "name": "stdout",
     "output_type": "stream",
     "text": [
      "Hidden Layers: [16, 8, 4], Activation: Softmax, Epochs: 100, LR: 0.1, Batch Size: 32, Accuracy: 0.2769\n"
     ]
    },
    {
     "name": "stderr",
     "output_type": "stream",
     "text": [
      "C:\\Users\\user\\AppData\\Local\\Packages\\PythonSoftwareFoundation.Python.3.12_qbz5n2kfra8p0\\LocalCache\\local-packages\\Python312\\site-packages\\torch\\nn\\modules\\module.py:1736: UserWarning: Implicit dimension choice for softmax has been deprecated. Change the call to include dim=X as an argument.\n",
      "  return self._call_impl(*args, **kwargs)\n"
     ]
    },
    {
     "name": "stdout",
     "output_type": "stream",
     "text": [
      "Hidden Layers: [16, 8, 4], Activation: Softmax, Epochs: 100, LR: 0.1, Batch Size: 64, Accuracy: 0.3077\n"
     ]
    },
    {
     "name": "stderr",
     "output_type": "stream",
     "text": [
      "C:\\Users\\user\\AppData\\Local\\Packages\\PythonSoftwareFoundation.Python.3.12_qbz5n2kfra8p0\\LocalCache\\local-packages\\Python312\\site-packages\\torch\\nn\\modules\\module.py:1736: UserWarning: Implicit dimension choice for softmax has been deprecated. Change the call to include dim=X as an argument.\n",
      "  return self._call_impl(*args, **kwargs)\n"
     ]
    },
    {
     "name": "stdout",
     "output_type": "stream",
     "text": [
      "Hidden Layers: [16, 8, 4], Activation: Softmax, Epochs: 100, LR: 0.1, Batch Size: 128, Accuracy: 0.2692\n"
     ]
    },
    {
     "name": "stderr",
     "output_type": "stream",
     "text": [
      "C:\\Users\\user\\AppData\\Local\\Packages\\PythonSoftwareFoundation.Python.3.12_qbz5n2kfra8p0\\LocalCache\\local-packages\\Python312\\site-packages\\torch\\nn\\modules\\module.py:1736: UserWarning: Implicit dimension choice for softmax has been deprecated. Change the call to include dim=X as an argument.\n",
      "  return self._call_impl(*args, **kwargs)\n"
     ]
    },
    {
     "name": "stdout",
     "output_type": "stream",
     "text": [
      "Hidden Layers: [16, 8, 4], Activation: Softmax, Epochs: 100, LR: 0.1, Batch Size: 256, Accuracy: 0.2308\n"
     ]
    },
    {
     "name": "stderr",
     "output_type": "stream",
     "text": [
      "C:\\Users\\user\\AppData\\Local\\Packages\\PythonSoftwareFoundation.Python.3.12_qbz5n2kfra8p0\\LocalCache\\local-packages\\Python312\\site-packages\\torch\\nn\\modules\\module.py:1736: UserWarning: Implicit dimension choice for softmax has been deprecated. Change the call to include dim=X as an argument.\n",
      "  return self._call_impl(*args, **kwargs)\n"
     ]
    },
    {
     "name": "stdout",
     "output_type": "stream",
     "text": [
      "Hidden Layers: [16, 8, 4], Activation: Softmax, Epochs: 100, LR: 0.1, Batch Size: 512, Accuracy: 0.2308\n"
     ]
    },
    {
     "name": "stderr",
     "output_type": "stream",
     "text": [
      "C:\\Users\\user\\AppData\\Local\\Packages\\PythonSoftwareFoundation.Python.3.12_qbz5n2kfra8p0\\LocalCache\\local-packages\\Python312\\site-packages\\torch\\nn\\modules\\module.py:1736: UserWarning: Implicit dimension choice for softmax has been deprecated. Change the call to include dim=X as an argument.\n",
      "  return self._call_impl(*args, **kwargs)\n"
     ]
    },
    {
     "name": "stdout",
     "output_type": "stream",
     "text": [
      "Hidden Layers: [16, 8, 4], Activation: Softmax, Epochs: 100, LR: 0.01, Batch Size: 16, Accuracy: 0.2538\n"
     ]
    },
    {
     "name": "stderr",
     "output_type": "stream",
     "text": [
      "C:\\Users\\user\\AppData\\Local\\Packages\\PythonSoftwareFoundation.Python.3.12_qbz5n2kfra8p0\\LocalCache\\local-packages\\Python312\\site-packages\\torch\\nn\\modules\\module.py:1736: UserWarning: Implicit dimension choice for softmax has been deprecated. Change the call to include dim=X as an argument.\n",
      "  return self._call_impl(*args, **kwargs)\n"
     ]
    },
    {
     "name": "stdout",
     "output_type": "stream",
     "text": [
      "Hidden Layers: [16, 8, 4], Activation: Softmax, Epochs: 100, LR: 0.01, Batch Size: 32, Accuracy: 0.2615\n"
     ]
    },
    {
     "name": "stderr",
     "output_type": "stream",
     "text": [
      "C:\\Users\\user\\AppData\\Local\\Packages\\PythonSoftwareFoundation.Python.3.12_qbz5n2kfra8p0\\LocalCache\\local-packages\\Python312\\site-packages\\torch\\nn\\modules\\module.py:1736: UserWarning: Implicit dimension choice for softmax has been deprecated. Change the call to include dim=X as an argument.\n",
      "  return self._call_impl(*args, **kwargs)\n"
     ]
    },
    {
     "name": "stdout",
     "output_type": "stream",
     "text": [
      "Hidden Layers: [16, 8, 4], Activation: Softmax, Epochs: 100, LR: 0.01, Batch Size: 64, Accuracy: 0.2385\n"
     ]
    },
    {
     "name": "stderr",
     "output_type": "stream",
     "text": [
      "C:\\Users\\user\\AppData\\Local\\Packages\\PythonSoftwareFoundation.Python.3.12_qbz5n2kfra8p0\\LocalCache\\local-packages\\Python312\\site-packages\\torch\\nn\\modules\\module.py:1736: UserWarning: Implicit dimension choice for softmax has been deprecated. Change the call to include dim=X as an argument.\n",
      "  return self._call_impl(*args, **kwargs)\n"
     ]
    },
    {
     "name": "stdout",
     "output_type": "stream",
     "text": [
      "Hidden Layers: [16, 8, 4], Activation: Softmax, Epochs: 100, LR: 0.01, Batch Size: 128, Accuracy: 0.2462\n"
     ]
    },
    {
     "name": "stderr",
     "output_type": "stream",
     "text": [
      "C:\\Users\\user\\AppData\\Local\\Packages\\PythonSoftwareFoundation.Python.3.12_qbz5n2kfra8p0\\LocalCache\\local-packages\\Python312\\site-packages\\torch\\nn\\modules\\module.py:1736: UserWarning: Implicit dimension choice for softmax has been deprecated. Change the call to include dim=X as an argument.\n",
      "  return self._call_impl(*args, **kwargs)\n"
     ]
    },
    {
     "name": "stdout",
     "output_type": "stream",
     "text": [
      "Hidden Layers: [16, 8, 4], Activation: Softmax, Epochs: 100, LR: 0.01, Batch Size: 256, Accuracy: 0.2000\n"
     ]
    },
    {
     "name": "stderr",
     "output_type": "stream",
     "text": [
      "C:\\Users\\user\\AppData\\Local\\Packages\\PythonSoftwareFoundation.Python.3.12_qbz5n2kfra8p0\\LocalCache\\local-packages\\Python312\\site-packages\\torch\\nn\\modules\\module.py:1736: UserWarning: Implicit dimension choice for softmax has been deprecated. Change the call to include dim=X as an argument.\n",
      "  return self._call_impl(*args, **kwargs)\n"
     ]
    },
    {
     "name": "stdout",
     "output_type": "stream",
     "text": [
      "Hidden Layers: [16, 8, 4], Activation: Softmax, Epochs: 100, LR: 0.01, Batch Size: 512, Accuracy: 0.2462\n"
     ]
    },
    {
     "name": "stderr",
     "output_type": "stream",
     "text": [
      "C:\\Users\\user\\AppData\\Local\\Packages\\PythonSoftwareFoundation.Python.3.12_qbz5n2kfra8p0\\LocalCache\\local-packages\\Python312\\site-packages\\torch\\nn\\modules\\module.py:1736: UserWarning: Implicit dimension choice for softmax has been deprecated. Change the call to include dim=X as an argument.\n",
      "  return self._call_impl(*args, **kwargs)\n"
     ]
    },
    {
     "name": "stdout",
     "output_type": "stream",
     "text": [
      "Hidden Layers: [16, 8, 4], Activation: Softmax, Epochs: 100, LR: 0.001, Batch Size: 16, Accuracy: 0.2154\n"
     ]
    },
    {
     "name": "stderr",
     "output_type": "stream",
     "text": [
      "C:\\Users\\user\\AppData\\Local\\Packages\\PythonSoftwareFoundation.Python.3.12_qbz5n2kfra8p0\\LocalCache\\local-packages\\Python312\\site-packages\\torch\\nn\\modules\\module.py:1736: UserWarning: Implicit dimension choice for softmax has been deprecated. Change the call to include dim=X as an argument.\n",
      "  return self._call_impl(*args, **kwargs)\n"
     ]
    },
    {
     "name": "stdout",
     "output_type": "stream",
     "text": [
      "Hidden Layers: [16, 8, 4], Activation: Softmax, Epochs: 100, LR: 0.001, Batch Size: 32, Accuracy: 0.1692\n"
     ]
    },
    {
     "name": "stderr",
     "output_type": "stream",
     "text": [
      "C:\\Users\\user\\AppData\\Local\\Packages\\PythonSoftwareFoundation.Python.3.12_qbz5n2kfra8p0\\LocalCache\\local-packages\\Python312\\site-packages\\torch\\nn\\modules\\module.py:1736: UserWarning: Implicit dimension choice for softmax has been deprecated. Change the call to include dim=X as an argument.\n",
      "  return self._call_impl(*args, **kwargs)\n"
     ]
    },
    {
     "name": "stdout",
     "output_type": "stream",
     "text": [
      "Hidden Layers: [16, 8, 4], Activation: Softmax, Epochs: 100, LR: 0.001, Batch Size: 64, Accuracy: 0.1923\n"
     ]
    },
    {
     "name": "stderr",
     "output_type": "stream",
     "text": [
      "C:\\Users\\user\\AppData\\Local\\Packages\\PythonSoftwareFoundation.Python.3.12_qbz5n2kfra8p0\\LocalCache\\local-packages\\Python312\\site-packages\\torch\\nn\\modules\\module.py:1736: UserWarning: Implicit dimension choice for softmax has been deprecated. Change the call to include dim=X as an argument.\n",
      "  return self._call_impl(*args, **kwargs)\n"
     ]
    },
    {
     "name": "stdout",
     "output_type": "stream",
     "text": [
      "Hidden Layers: [16, 8, 4], Activation: Softmax, Epochs: 100, LR: 0.001, Batch Size: 128, Accuracy: 0.1308\n"
     ]
    },
    {
     "name": "stderr",
     "output_type": "stream",
     "text": [
      "C:\\Users\\user\\AppData\\Local\\Packages\\PythonSoftwareFoundation.Python.3.12_qbz5n2kfra8p0\\LocalCache\\local-packages\\Python312\\site-packages\\torch\\nn\\modules\\module.py:1736: UserWarning: Implicit dimension choice for softmax has been deprecated. Change the call to include dim=X as an argument.\n",
      "  return self._call_impl(*args, **kwargs)\n"
     ]
    },
    {
     "name": "stdout",
     "output_type": "stream",
     "text": [
      "Hidden Layers: [16, 8, 4], Activation: Softmax, Epochs: 100, LR: 0.001, Batch Size: 256, Accuracy: 0.1923\n"
     ]
    },
    {
     "name": "stderr",
     "output_type": "stream",
     "text": [
      "C:\\Users\\user\\AppData\\Local\\Packages\\PythonSoftwareFoundation.Python.3.12_qbz5n2kfra8p0\\LocalCache\\local-packages\\Python312\\site-packages\\torch\\nn\\modules\\module.py:1736: UserWarning: Implicit dimension choice for softmax has been deprecated. Change the call to include dim=X as an argument.\n",
      "  return self._call_impl(*args, **kwargs)\n"
     ]
    },
    {
     "name": "stdout",
     "output_type": "stream",
     "text": [
      "Hidden Layers: [16, 8, 4], Activation: Softmax, Epochs: 100, LR: 0.001, Batch Size: 512, Accuracy: 0.0923\n"
     ]
    },
    {
     "name": "stderr",
     "output_type": "stream",
     "text": [
      "C:\\Users\\user\\AppData\\Local\\Packages\\PythonSoftwareFoundation.Python.3.12_qbz5n2kfra8p0\\LocalCache\\local-packages\\Python312\\site-packages\\torch\\nn\\modules\\module.py:1736: UserWarning: Implicit dimension choice for softmax has been deprecated. Change the call to include dim=X as an argument.\n",
      "  return self._call_impl(*args, **kwargs)\n"
     ]
    },
    {
     "name": "stdout",
     "output_type": "stream",
     "text": [
      "Hidden Layers: [16, 8, 4], Activation: Softmax, Epochs: 100, LR: 0.0001, Batch Size: 16, Accuracy: 0.1923\n"
     ]
    },
    {
     "name": "stderr",
     "output_type": "stream",
     "text": [
      "C:\\Users\\user\\AppData\\Local\\Packages\\PythonSoftwareFoundation.Python.3.12_qbz5n2kfra8p0\\LocalCache\\local-packages\\Python312\\site-packages\\torch\\nn\\modules\\module.py:1736: UserWarning: Implicit dimension choice for softmax has been deprecated. Change the call to include dim=X as an argument.\n",
      "  return self._call_impl(*args, **kwargs)\n"
     ]
    },
    {
     "name": "stdout",
     "output_type": "stream",
     "text": [
      "Hidden Layers: [16, 8, 4], Activation: Softmax, Epochs: 100, LR: 0.0001, Batch Size: 32, Accuracy: 0.0077\n"
     ]
    },
    {
     "name": "stderr",
     "output_type": "stream",
     "text": [
      "C:\\Users\\user\\AppData\\Local\\Packages\\PythonSoftwareFoundation.Python.3.12_qbz5n2kfra8p0\\LocalCache\\local-packages\\Python312\\site-packages\\torch\\nn\\modules\\module.py:1736: UserWarning: Implicit dimension choice for softmax has been deprecated. Change the call to include dim=X as an argument.\n",
      "  return self._call_impl(*args, **kwargs)\n"
     ]
    },
    {
     "name": "stdout",
     "output_type": "stream",
     "text": [
      "Hidden Layers: [16, 8, 4], Activation: Softmax, Epochs: 100, LR: 0.0001, Batch Size: 64, Accuracy: 0.1923\n"
     ]
    },
    {
     "name": "stderr",
     "output_type": "stream",
     "text": [
      "C:\\Users\\user\\AppData\\Local\\Packages\\PythonSoftwareFoundation.Python.3.12_qbz5n2kfra8p0\\LocalCache\\local-packages\\Python312\\site-packages\\torch\\nn\\modules\\module.py:1736: UserWarning: Implicit dimension choice for softmax has been deprecated. Change the call to include dim=X as an argument.\n",
      "  return self._call_impl(*args, **kwargs)\n"
     ]
    },
    {
     "name": "stdout",
     "output_type": "stream",
     "text": [
      "Hidden Layers: [16, 8, 4], Activation: Softmax, Epochs: 100, LR: 0.0001, Batch Size: 128, Accuracy: 0.1308\n"
     ]
    },
    {
     "name": "stderr",
     "output_type": "stream",
     "text": [
      "C:\\Users\\user\\AppData\\Local\\Packages\\PythonSoftwareFoundation.Python.3.12_qbz5n2kfra8p0\\LocalCache\\local-packages\\Python312\\site-packages\\torch\\nn\\modules\\module.py:1736: UserWarning: Implicit dimension choice for softmax has been deprecated. Change the call to include dim=X as an argument.\n",
      "  return self._call_impl(*args, **kwargs)\n"
     ]
    },
    {
     "name": "stdout",
     "output_type": "stream",
     "text": [
      "Hidden Layers: [16, 8, 4], Activation: Softmax, Epochs: 100, LR: 0.0001, Batch Size: 256, Accuracy: 0.0923\n"
     ]
    },
    {
     "name": "stderr",
     "output_type": "stream",
     "text": [
      "C:\\Users\\user\\AppData\\Local\\Packages\\PythonSoftwareFoundation.Python.3.12_qbz5n2kfra8p0\\LocalCache\\local-packages\\Python312\\site-packages\\torch\\nn\\modules\\module.py:1736: UserWarning: Implicit dimension choice for softmax has been deprecated. Change the call to include dim=X as an argument.\n",
      "  return self._call_impl(*args, **kwargs)\n"
     ]
    },
    {
     "name": "stdout",
     "output_type": "stream",
     "text": [
      "Hidden Layers: [16, 8, 4], Activation: Softmax, Epochs: 100, LR: 0.0001, Batch Size: 512, Accuracy: 0.0000\n"
     ]
    },
    {
     "name": "stderr",
     "output_type": "stream",
     "text": [
      "C:\\Users\\user\\AppData\\Local\\Packages\\PythonSoftwareFoundation.Python.3.12_qbz5n2kfra8p0\\LocalCache\\local-packages\\Python312\\site-packages\\torch\\nn\\modules\\module.py:1736: UserWarning: Implicit dimension choice for softmax has been deprecated. Change the call to include dim=X as an argument.\n",
      "  return self._call_impl(*args, **kwargs)\n"
     ]
    },
    {
     "name": "stdout",
     "output_type": "stream",
     "text": [
      "Hidden Layers: [16, 8, 4], Activation: Softmax, Epochs: 250, LR: 10, Batch Size: 16, Accuracy: 0.1231\n"
     ]
    },
    {
     "name": "stderr",
     "output_type": "stream",
     "text": [
      "C:\\Users\\user\\AppData\\Local\\Packages\\PythonSoftwareFoundation.Python.3.12_qbz5n2kfra8p0\\LocalCache\\local-packages\\Python312\\site-packages\\torch\\nn\\modules\\module.py:1736: UserWarning: Implicit dimension choice for softmax has been deprecated. Change the call to include dim=X as an argument.\n",
      "  return self._call_impl(*args, **kwargs)\n"
     ]
    },
    {
     "name": "stdout",
     "output_type": "stream",
     "text": [
      "Hidden Layers: [16, 8, 4], Activation: Softmax, Epochs: 250, LR: 10, Batch Size: 32, Accuracy: 0.0000\n"
     ]
    },
    {
     "name": "stderr",
     "output_type": "stream",
     "text": [
      "C:\\Users\\user\\AppData\\Local\\Packages\\PythonSoftwareFoundation.Python.3.12_qbz5n2kfra8p0\\LocalCache\\local-packages\\Python312\\site-packages\\torch\\nn\\modules\\module.py:1736: UserWarning: Implicit dimension choice for softmax has been deprecated. Change the call to include dim=X as an argument.\n",
      "  return self._call_impl(*args, **kwargs)\n"
     ]
    },
    {
     "name": "stdout",
     "output_type": "stream",
     "text": [
      "Hidden Layers: [16, 8, 4], Activation: Softmax, Epochs: 250, LR: 10, Batch Size: 64, Accuracy: 0.1923\n"
     ]
    },
    {
     "name": "stderr",
     "output_type": "stream",
     "text": [
      "C:\\Users\\user\\AppData\\Local\\Packages\\PythonSoftwareFoundation.Python.3.12_qbz5n2kfra8p0\\LocalCache\\local-packages\\Python312\\site-packages\\torch\\nn\\modules\\module.py:1736: UserWarning: Implicit dimension choice for softmax has been deprecated. Change the call to include dim=X as an argument.\n",
      "  return self._call_impl(*args, **kwargs)\n"
     ]
    },
    {
     "name": "stdout",
     "output_type": "stream",
     "text": [
      "Hidden Layers: [16, 8, 4], Activation: Softmax, Epochs: 250, LR: 10, Batch Size: 128, Accuracy: 0.1000\n"
     ]
    },
    {
     "name": "stderr",
     "output_type": "stream",
     "text": [
      "C:\\Users\\user\\AppData\\Local\\Packages\\PythonSoftwareFoundation.Python.3.12_qbz5n2kfra8p0\\LocalCache\\local-packages\\Python312\\site-packages\\torch\\nn\\modules\\module.py:1736: UserWarning: Implicit dimension choice for softmax has been deprecated. Change the call to include dim=X as an argument.\n",
      "  return self._call_impl(*args, **kwargs)\n"
     ]
    },
    {
     "name": "stdout",
     "output_type": "stream",
     "text": [
      "Hidden Layers: [16, 8, 4], Activation: Softmax, Epochs: 250, LR: 10, Batch Size: 256, Accuracy: 0.1000\n"
     ]
    },
    {
     "name": "stderr",
     "output_type": "stream",
     "text": [
      "C:\\Users\\user\\AppData\\Local\\Packages\\PythonSoftwareFoundation.Python.3.12_qbz5n2kfra8p0\\LocalCache\\local-packages\\Python312\\site-packages\\torch\\nn\\modules\\module.py:1736: UserWarning: Implicit dimension choice for softmax has been deprecated. Change the call to include dim=X as an argument.\n",
      "  return self._call_impl(*args, **kwargs)\n"
     ]
    },
    {
     "name": "stdout",
     "output_type": "stream",
     "text": [
      "Hidden Layers: [16, 8, 4], Activation: Softmax, Epochs: 250, LR: 10, Batch Size: 512, Accuracy: 0.0538\n"
     ]
    },
    {
     "name": "stderr",
     "output_type": "stream",
     "text": [
      "C:\\Users\\user\\AppData\\Local\\Packages\\PythonSoftwareFoundation.Python.3.12_qbz5n2kfra8p0\\LocalCache\\local-packages\\Python312\\site-packages\\torch\\nn\\modules\\module.py:1736: UserWarning: Implicit dimension choice for softmax has been deprecated. Change the call to include dim=X as an argument.\n",
      "  return self._call_impl(*args, **kwargs)\n"
     ]
    },
    {
     "name": "stdout",
     "output_type": "stream",
     "text": [
      "Hidden Layers: [16, 8, 4], Activation: Softmax, Epochs: 250, LR: 1, Batch Size: 16, Accuracy: 0.1923\n"
     ]
    },
    {
     "name": "stderr",
     "output_type": "stream",
     "text": [
      "C:\\Users\\user\\AppData\\Local\\Packages\\PythonSoftwareFoundation.Python.3.12_qbz5n2kfra8p0\\LocalCache\\local-packages\\Python312\\site-packages\\torch\\nn\\modules\\module.py:1736: UserWarning: Implicit dimension choice for softmax has been deprecated. Change the call to include dim=X as an argument.\n",
      "  return self._call_impl(*args, **kwargs)\n"
     ]
    },
    {
     "name": "stdout",
     "output_type": "stream",
     "text": [
      "Hidden Layers: [16, 8, 4], Activation: Softmax, Epochs: 250, LR: 1, Batch Size: 32, Accuracy: 0.1308\n"
     ]
    },
    {
     "name": "stderr",
     "output_type": "stream",
     "text": [
      "C:\\Users\\user\\AppData\\Local\\Packages\\PythonSoftwareFoundation.Python.3.12_qbz5n2kfra8p0\\LocalCache\\local-packages\\Python312\\site-packages\\torch\\nn\\modules\\module.py:1736: UserWarning: Implicit dimension choice for softmax has been deprecated. Change the call to include dim=X as an argument.\n",
      "  return self._call_impl(*args, **kwargs)\n"
     ]
    },
    {
     "name": "stdout",
     "output_type": "stream",
     "text": [
      "Hidden Layers: [16, 8, 4], Activation: Softmax, Epochs: 250, LR: 1, Batch Size: 64, Accuracy: 0.1308\n"
     ]
    },
    {
     "name": "stderr",
     "output_type": "stream",
     "text": [
      "C:\\Users\\user\\AppData\\Local\\Packages\\PythonSoftwareFoundation.Python.3.12_qbz5n2kfra8p0\\LocalCache\\local-packages\\Python312\\site-packages\\torch\\nn\\modules\\module.py:1736: UserWarning: Implicit dimension choice for softmax has been deprecated. Change the call to include dim=X as an argument.\n",
      "  return self._call_impl(*args, **kwargs)\n"
     ]
    },
    {
     "name": "stdout",
     "output_type": "stream",
     "text": [
      "Hidden Layers: [16, 8, 4], Activation: Softmax, Epochs: 250, LR: 1, Batch Size: 128, Accuracy: 0.1769\n"
     ]
    },
    {
     "name": "stderr",
     "output_type": "stream",
     "text": [
      "C:\\Users\\user\\AppData\\Local\\Packages\\PythonSoftwareFoundation.Python.3.12_qbz5n2kfra8p0\\LocalCache\\local-packages\\Python312\\site-packages\\torch\\nn\\modules\\module.py:1736: UserWarning: Implicit dimension choice for softmax has been deprecated. Change the call to include dim=X as an argument.\n",
      "  return self._call_impl(*args, **kwargs)\n"
     ]
    },
    {
     "name": "stdout",
     "output_type": "stream",
     "text": [
      "Hidden Layers: [16, 8, 4], Activation: Softmax, Epochs: 250, LR: 1, Batch Size: 256, Accuracy: 0.0923\n"
     ]
    },
    {
     "name": "stderr",
     "output_type": "stream",
     "text": [
      "C:\\Users\\user\\AppData\\Local\\Packages\\PythonSoftwareFoundation.Python.3.12_qbz5n2kfra8p0\\LocalCache\\local-packages\\Python312\\site-packages\\torch\\nn\\modules\\module.py:1736: UserWarning: Implicit dimension choice for softmax has been deprecated. Change the call to include dim=X as an argument.\n",
      "  return self._call_impl(*args, **kwargs)\n"
     ]
    },
    {
     "name": "stdout",
     "output_type": "stream",
     "text": [
      "Hidden Layers: [16, 8, 4], Activation: Softmax, Epochs: 250, LR: 1, Batch Size: 512, Accuracy: 0.0385\n"
     ]
    },
    {
     "name": "stderr",
     "output_type": "stream",
     "text": [
      "C:\\Users\\user\\AppData\\Local\\Packages\\PythonSoftwareFoundation.Python.3.12_qbz5n2kfra8p0\\LocalCache\\local-packages\\Python312\\site-packages\\torch\\nn\\modules\\module.py:1736: UserWarning: Implicit dimension choice for softmax has been deprecated. Change the call to include dim=X as an argument.\n",
      "  return self._call_impl(*args, **kwargs)\n"
     ]
    },
    {
     "name": "stdout",
     "output_type": "stream",
     "text": [
      "Hidden Layers: [16, 8, 4], Activation: Softmax, Epochs: 250, LR: 0.1, Batch Size: 16, Accuracy: 0.1692\n"
     ]
    },
    {
     "name": "stderr",
     "output_type": "stream",
     "text": [
      "C:\\Users\\user\\AppData\\Local\\Packages\\PythonSoftwareFoundation.Python.3.12_qbz5n2kfra8p0\\LocalCache\\local-packages\\Python312\\site-packages\\torch\\nn\\modules\\module.py:1736: UserWarning: Implicit dimension choice for softmax has been deprecated. Change the call to include dim=X as an argument.\n",
      "  return self._call_impl(*args, **kwargs)\n"
     ]
    },
    {
     "name": "stdout",
     "output_type": "stream",
     "text": [
      "Hidden Layers: [16, 8, 4], Activation: Softmax, Epochs: 250, LR: 0.1, Batch Size: 32, Accuracy: 0.2308\n"
     ]
    },
    {
     "name": "stderr",
     "output_type": "stream",
     "text": [
      "C:\\Users\\user\\AppData\\Local\\Packages\\PythonSoftwareFoundation.Python.3.12_qbz5n2kfra8p0\\LocalCache\\local-packages\\Python312\\site-packages\\torch\\nn\\modules\\module.py:1736: UserWarning: Implicit dimension choice for softmax has been deprecated. Change the call to include dim=X as an argument.\n",
      "  return self._call_impl(*args, **kwargs)\n"
     ]
    },
    {
     "name": "stdout",
     "output_type": "stream",
     "text": [
      "Hidden Layers: [16, 8, 4], Activation: Softmax, Epochs: 250, LR: 0.1, Batch Size: 64, Accuracy: 0.3000\n"
     ]
    },
    {
     "name": "stderr",
     "output_type": "stream",
     "text": [
      "C:\\Users\\user\\AppData\\Local\\Packages\\PythonSoftwareFoundation.Python.3.12_qbz5n2kfra8p0\\LocalCache\\local-packages\\Python312\\site-packages\\torch\\nn\\modules\\module.py:1736: UserWarning: Implicit dimension choice for softmax has been deprecated. Change the call to include dim=X as an argument.\n",
      "  return self._call_impl(*args, **kwargs)\n"
     ]
    },
    {
     "name": "stdout",
     "output_type": "stream",
     "text": [
      "Hidden Layers: [16, 8, 4], Activation: Softmax, Epochs: 250, LR: 0.1, Batch Size: 128, Accuracy: 0.2923\n"
     ]
    },
    {
     "name": "stderr",
     "output_type": "stream",
     "text": [
      "C:\\Users\\user\\AppData\\Local\\Packages\\PythonSoftwareFoundation.Python.3.12_qbz5n2kfra8p0\\LocalCache\\local-packages\\Python312\\site-packages\\torch\\nn\\modules\\module.py:1736: UserWarning: Implicit dimension choice for softmax has been deprecated. Change the call to include dim=X as an argument.\n",
      "  return self._call_impl(*args, **kwargs)\n"
     ]
    },
    {
     "name": "stdout",
     "output_type": "stream",
     "text": [
      "Hidden Layers: [16, 8, 4], Activation: Softmax, Epochs: 250, LR: 0.1, Batch Size: 256, Accuracy: 0.2462\n"
     ]
    },
    {
     "name": "stderr",
     "output_type": "stream",
     "text": [
      "C:\\Users\\user\\AppData\\Local\\Packages\\PythonSoftwareFoundation.Python.3.12_qbz5n2kfra8p0\\LocalCache\\local-packages\\Python312\\site-packages\\torch\\nn\\modules\\module.py:1736: UserWarning: Implicit dimension choice for softmax has been deprecated. Change the call to include dim=X as an argument.\n",
      "  return self._call_impl(*args, **kwargs)\n"
     ]
    },
    {
     "name": "stdout",
     "output_type": "stream",
     "text": [
      "Hidden Layers: [16, 8, 4], Activation: Softmax, Epochs: 250, LR: 0.1, Batch Size: 512, Accuracy: 0.2154\n"
     ]
    },
    {
     "name": "stderr",
     "output_type": "stream",
     "text": [
      "C:\\Users\\user\\AppData\\Local\\Packages\\PythonSoftwareFoundation.Python.3.12_qbz5n2kfra8p0\\LocalCache\\local-packages\\Python312\\site-packages\\torch\\nn\\modules\\module.py:1736: UserWarning: Implicit dimension choice for softmax has been deprecated. Change the call to include dim=X as an argument.\n",
      "  return self._call_impl(*args, **kwargs)\n"
     ]
    },
    {
     "name": "stdout",
     "output_type": "stream",
     "text": [
      "Hidden Layers: [16, 8, 4], Activation: Softmax, Epochs: 250, LR: 0.01, Batch Size: 16, Accuracy: 0.2846\n"
     ]
    },
    {
     "name": "stderr",
     "output_type": "stream",
     "text": [
      "C:\\Users\\user\\AppData\\Local\\Packages\\PythonSoftwareFoundation.Python.3.12_qbz5n2kfra8p0\\LocalCache\\local-packages\\Python312\\site-packages\\torch\\nn\\modules\\module.py:1736: UserWarning: Implicit dimension choice for softmax has been deprecated. Change the call to include dim=X as an argument.\n",
      "  return self._call_impl(*args, **kwargs)\n"
     ]
    },
    {
     "name": "stdout",
     "output_type": "stream",
     "text": [
      "Hidden Layers: [16, 8, 4], Activation: Softmax, Epochs: 250, LR: 0.01, Batch Size: 32, Accuracy: 0.2462\n"
     ]
    },
    {
     "name": "stderr",
     "output_type": "stream",
     "text": [
      "C:\\Users\\user\\AppData\\Local\\Packages\\PythonSoftwareFoundation.Python.3.12_qbz5n2kfra8p0\\LocalCache\\local-packages\\Python312\\site-packages\\torch\\nn\\modules\\module.py:1736: UserWarning: Implicit dimension choice for softmax has been deprecated. Change the call to include dim=X as an argument.\n",
      "  return self._call_impl(*args, **kwargs)\n"
     ]
    },
    {
     "name": "stdout",
     "output_type": "stream",
     "text": [
      "Hidden Layers: [16, 8, 4], Activation: Softmax, Epochs: 250, LR: 0.01, Batch Size: 64, Accuracy: 0.2923\n"
     ]
    },
    {
     "name": "stderr",
     "output_type": "stream",
     "text": [
      "C:\\Users\\user\\AppData\\Local\\Packages\\PythonSoftwareFoundation.Python.3.12_qbz5n2kfra8p0\\LocalCache\\local-packages\\Python312\\site-packages\\torch\\nn\\modules\\module.py:1736: UserWarning: Implicit dimension choice for softmax has been deprecated. Change the call to include dim=X as an argument.\n",
      "  return self._call_impl(*args, **kwargs)\n"
     ]
    },
    {
     "name": "stdout",
     "output_type": "stream",
     "text": [
      "Hidden Layers: [16, 8, 4], Activation: Softmax, Epochs: 250, LR: 0.01, Batch Size: 128, Accuracy: 0.2769\n"
     ]
    },
    {
     "name": "stderr",
     "output_type": "stream",
     "text": [
      "C:\\Users\\user\\AppData\\Local\\Packages\\PythonSoftwareFoundation.Python.3.12_qbz5n2kfra8p0\\LocalCache\\local-packages\\Python312\\site-packages\\torch\\nn\\modules\\module.py:1736: UserWarning: Implicit dimension choice for softmax has been deprecated. Change the call to include dim=X as an argument.\n",
      "  return self._call_impl(*args, **kwargs)\n"
     ]
    },
    {
     "name": "stdout",
     "output_type": "stream",
     "text": [
      "Hidden Layers: [16, 8, 4], Activation: Softmax, Epochs: 250, LR: 0.01, Batch Size: 256, Accuracy: 0.3077\n"
     ]
    },
    {
     "name": "stderr",
     "output_type": "stream",
     "text": [
      "C:\\Users\\user\\AppData\\Local\\Packages\\PythonSoftwareFoundation.Python.3.12_qbz5n2kfra8p0\\LocalCache\\local-packages\\Python312\\site-packages\\torch\\nn\\modules\\module.py:1736: UserWarning: Implicit dimension choice for softmax has been deprecated. Change the call to include dim=X as an argument.\n",
      "  return self._call_impl(*args, **kwargs)\n"
     ]
    },
    {
     "name": "stdout",
     "output_type": "stream",
     "text": [
      "Hidden Layers: [16, 8, 4], Activation: Softmax, Epochs: 250, LR: 0.01, Batch Size: 512, Accuracy: 0.3000\n"
     ]
    },
    {
     "name": "stderr",
     "output_type": "stream",
     "text": [
      "C:\\Users\\user\\AppData\\Local\\Packages\\PythonSoftwareFoundation.Python.3.12_qbz5n2kfra8p0\\LocalCache\\local-packages\\Python312\\site-packages\\torch\\nn\\modules\\module.py:1736: UserWarning: Implicit dimension choice for softmax has been deprecated. Change the call to include dim=X as an argument.\n",
      "  return self._call_impl(*args, **kwargs)\n"
     ]
    },
    {
     "name": "stdout",
     "output_type": "stream",
     "text": [
      "Hidden Layers: [16, 8, 4], Activation: Softmax, Epochs: 250, LR: 0.001, Batch Size: 16, Accuracy: 0.2077\n"
     ]
    },
    {
     "name": "stderr",
     "output_type": "stream",
     "text": [
      "C:\\Users\\user\\AppData\\Local\\Packages\\PythonSoftwareFoundation.Python.3.12_qbz5n2kfra8p0\\LocalCache\\local-packages\\Python312\\site-packages\\torch\\nn\\modules\\module.py:1736: UserWarning: Implicit dimension choice for softmax has been deprecated. Change the call to include dim=X as an argument.\n",
      "  return self._call_impl(*args, **kwargs)\n"
     ]
    },
    {
     "name": "stdout",
     "output_type": "stream",
     "text": [
      "Hidden Layers: [16, 8, 4], Activation: Softmax, Epochs: 250, LR: 0.001, Batch Size: 32, Accuracy: 0.2231\n"
     ]
    },
    {
     "name": "stderr",
     "output_type": "stream",
     "text": [
      "C:\\Users\\user\\AppData\\Local\\Packages\\PythonSoftwareFoundation.Python.3.12_qbz5n2kfra8p0\\LocalCache\\local-packages\\Python312\\site-packages\\torch\\nn\\modules\\module.py:1736: UserWarning: Implicit dimension choice for softmax has been deprecated. Change the call to include dim=X as an argument.\n",
      "  return self._call_impl(*args, **kwargs)\n"
     ]
    },
    {
     "name": "stdout",
     "output_type": "stream",
     "text": [
      "Hidden Layers: [16, 8, 4], Activation: Softmax, Epochs: 250, LR: 0.001, Batch Size: 64, Accuracy: 0.2000\n"
     ]
    },
    {
     "name": "stderr",
     "output_type": "stream",
     "text": [
      "C:\\Users\\user\\AppData\\Local\\Packages\\PythonSoftwareFoundation.Python.3.12_qbz5n2kfra8p0\\LocalCache\\local-packages\\Python312\\site-packages\\torch\\nn\\modules\\module.py:1736: UserWarning: Implicit dimension choice for softmax has been deprecated. Change the call to include dim=X as an argument.\n",
      "  return self._call_impl(*args, **kwargs)\n"
     ]
    },
    {
     "name": "stdout",
     "output_type": "stream",
     "text": [
      "Hidden Layers: [16, 8, 4], Activation: Softmax, Epochs: 250, LR: 0.001, Batch Size: 128, Accuracy: 0.2231\n"
     ]
    },
    {
     "name": "stderr",
     "output_type": "stream",
     "text": [
      "C:\\Users\\user\\AppData\\Local\\Packages\\PythonSoftwareFoundation.Python.3.12_qbz5n2kfra8p0\\LocalCache\\local-packages\\Python312\\site-packages\\torch\\nn\\modules\\module.py:1736: UserWarning: Implicit dimension choice for softmax has been deprecated. Change the call to include dim=X as an argument.\n",
      "  return self._call_impl(*args, **kwargs)\n"
     ]
    },
    {
     "name": "stdout",
     "output_type": "stream",
     "text": [
      "Hidden Layers: [16, 8, 4], Activation: Softmax, Epochs: 250, LR: 0.001, Batch Size: 256, Accuracy: 0.1923\n"
     ]
    },
    {
     "name": "stderr",
     "output_type": "stream",
     "text": [
      "C:\\Users\\user\\AppData\\Local\\Packages\\PythonSoftwareFoundation.Python.3.12_qbz5n2kfra8p0\\LocalCache\\local-packages\\Python312\\site-packages\\torch\\nn\\modules\\module.py:1736: UserWarning: Implicit dimension choice for softmax has been deprecated. Change the call to include dim=X as an argument.\n",
      "  return self._call_impl(*args, **kwargs)\n"
     ]
    },
    {
     "name": "stdout",
     "output_type": "stream",
     "text": [
      "Hidden Layers: [16, 8, 4], Activation: Softmax, Epochs: 250, LR: 0.001, Batch Size: 512, Accuracy: 0.1923\n"
     ]
    },
    {
     "name": "stderr",
     "output_type": "stream",
     "text": [
      "C:\\Users\\user\\AppData\\Local\\Packages\\PythonSoftwareFoundation.Python.3.12_qbz5n2kfra8p0\\LocalCache\\local-packages\\Python312\\site-packages\\torch\\nn\\modules\\module.py:1736: UserWarning: Implicit dimension choice for softmax has been deprecated. Change the call to include dim=X as an argument.\n",
      "  return self._call_impl(*args, **kwargs)\n"
     ]
    },
    {
     "name": "stdout",
     "output_type": "stream",
     "text": [
      "Hidden Layers: [16, 8, 4], Activation: Softmax, Epochs: 250, LR: 0.0001, Batch Size: 16, Accuracy: 0.1923\n"
     ]
    },
    {
     "name": "stderr",
     "output_type": "stream",
     "text": [
      "C:\\Users\\user\\AppData\\Local\\Packages\\PythonSoftwareFoundation.Python.3.12_qbz5n2kfra8p0\\LocalCache\\local-packages\\Python312\\site-packages\\torch\\nn\\modules\\module.py:1736: UserWarning: Implicit dimension choice for softmax has been deprecated. Change the call to include dim=X as an argument.\n",
      "  return self._call_impl(*args, **kwargs)\n"
     ]
    },
    {
     "name": "stdout",
     "output_type": "stream",
     "text": [
      "Hidden Layers: [16, 8, 4], Activation: Softmax, Epochs: 250, LR: 0.0001, Batch Size: 32, Accuracy: 0.1923\n"
     ]
    },
    {
     "name": "stderr",
     "output_type": "stream",
     "text": [
      "C:\\Users\\user\\AppData\\Local\\Packages\\PythonSoftwareFoundation.Python.3.12_qbz5n2kfra8p0\\LocalCache\\local-packages\\Python312\\site-packages\\torch\\nn\\modules\\module.py:1736: UserWarning: Implicit dimension choice for softmax has been deprecated. Change the call to include dim=X as an argument.\n",
      "  return self._call_impl(*args, **kwargs)\n"
     ]
    },
    {
     "name": "stdout",
     "output_type": "stream",
     "text": [
      "Hidden Layers: [16, 8, 4], Activation: Softmax, Epochs: 250, LR: 0.0001, Batch Size: 64, Accuracy: 0.1923\n"
     ]
    },
    {
     "name": "stderr",
     "output_type": "stream",
     "text": [
      "C:\\Users\\user\\AppData\\Local\\Packages\\PythonSoftwareFoundation.Python.3.12_qbz5n2kfra8p0\\LocalCache\\local-packages\\Python312\\site-packages\\torch\\nn\\modules\\module.py:1736: UserWarning: Implicit dimension choice for softmax has been deprecated. Change the call to include dim=X as an argument.\n",
      "  return self._call_impl(*args, **kwargs)\n"
     ]
    },
    {
     "name": "stdout",
     "output_type": "stream",
     "text": [
      "Hidden Layers: [16, 8, 4], Activation: Softmax, Epochs: 250, LR: 0.0001, Batch Size: 128, Accuracy: 0.1000\n"
     ]
    },
    {
     "name": "stderr",
     "output_type": "stream",
     "text": [
      "C:\\Users\\user\\AppData\\Local\\Packages\\PythonSoftwareFoundation.Python.3.12_qbz5n2kfra8p0\\LocalCache\\local-packages\\Python312\\site-packages\\torch\\nn\\modules\\module.py:1736: UserWarning: Implicit dimension choice for softmax has been deprecated. Change the call to include dim=X as an argument.\n",
      "  return self._call_impl(*args, **kwargs)\n"
     ]
    },
    {
     "name": "stdout",
     "output_type": "stream",
     "text": [
      "Hidden Layers: [16, 8, 4], Activation: Softmax, Epochs: 250, LR: 0.0001, Batch Size: 256, Accuracy: 0.0154\n"
     ]
    },
    {
     "name": "stderr",
     "output_type": "stream",
     "text": [
      "C:\\Users\\user\\AppData\\Local\\Packages\\PythonSoftwareFoundation.Python.3.12_qbz5n2kfra8p0\\LocalCache\\local-packages\\Python312\\site-packages\\torch\\nn\\modules\\module.py:1736: UserWarning: Implicit dimension choice for softmax has been deprecated. Change the call to include dim=X as an argument.\n",
      "  return self._call_impl(*args, **kwargs)\n"
     ]
    },
    {
     "name": "stdout",
     "output_type": "stream",
     "text": [
      "Hidden Layers: [16, 8, 4], Activation: Softmax, Epochs: 250, LR: 0.0001, Batch Size: 512, Accuracy: 0.0538\n",
      "Hidden Layers: [16, 8, 4], Activation: Tanh, Epochs: 1, LR: 10, Batch Size: 16, Accuracy: 0.1308\n",
      "Hidden Layers: [16, 8, 4], Activation: Tanh, Epochs: 1, LR: 10, Batch Size: 32, Accuracy: 0.1308\n",
      "Hidden Layers: [16, 8, 4], Activation: Tanh, Epochs: 1, LR: 10, Batch Size: 64, Accuracy: 0.0154\n",
      "Hidden Layers: [16, 8, 4], Activation: Tanh, Epochs: 1, LR: 10, Batch Size: 128, Accuracy: 0.1077\n",
      "Hidden Layers: [16, 8, 4], Activation: Tanh, Epochs: 1, LR: 10, Batch Size: 256, Accuracy: 0.1000\n",
      "Hidden Layers: [16, 8, 4], Activation: Tanh, Epochs: 1, LR: 10, Batch Size: 512, Accuracy: 0.0077\n",
      "Hidden Layers: [16, 8, 4], Activation: Tanh, Epochs: 1, LR: 1, Batch Size: 16, Accuracy: 0.1923\n",
      "Hidden Layers: [16, 8, 4], Activation: Tanh, Epochs: 1, LR: 1, Batch Size: 32, Accuracy: 0.0385\n",
      "Hidden Layers: [16, 8, 4], Activation: Tanh, Epochs: 1, LR: 1, Batch Size: 64, Accuracy: 0.1923\n",
      "Hidden Layers: [16, 8, 4], Activation: Tanh, Epochs: 1, LR: 1, Batch Size: 128, Accuracy: 0.1308\n",
      "Hidden Layers: [16, 8, 4], Activation: Tanh, Epochs: 1, LR: 1, Batch Size: 256, Accuracy: 0.1154\n",
      "Hidden Layers: [16, 8, 4], Activation: Tanh, Epochs: 1, LR: 1, Batch Size: 512, Accuracy: 0.0538\n",
      "Hidden Layers: [16, 8, 4], Activation: Tanh, Epochs: 1, LR: 0.1, Batch Size: 16, Accuracy: 0.0769\n",
      "Hidden Layers: [16, 8, 4], Activation: Tanh, Epochs: 1, LR: 0.1, Batch Size: 32, Accuracy: 0.1308\n",
      "Hidden Layers: [16, 8, 4], Activation: Tanh, Epochs: 1, LR: 0.1, Batch Size: 64, Accuracy: 0.1923\n",
      "Hidden Layers: [16, 8, 4], Activation: Tanh, Epochs: 1, LR: 0.1, Batch Size: 128, Accuracy: 0.1385\n",
      "Hidden Layers: [16, 8, 4], Activation: Tanh, Epochs: 1, LR: 0.1, Batch Size: 256, Accuracy: 0.1000\n",
      "Hidden Layers: [16, 8, 4], Activation: Tanh, Epochs: 1, LR: 0.1, Batch Size: 512, Accuracy: 0.1923\n",
      "Hidden Layers: [16, 8, 4], Activation: Tanh, Epochs: 1, LR: 0.01, Batch Size: 16, Accuracy: 0.1462\n",
      "Hidden Layers: [16, 8, 4], Activation: Tanh, Epochs: 1, LR: 0.01, Batch Size: 32, Accuracy: 0.1923\n",
      "Hidden Layers: [16, 8, 4], Activation: Tanh, Epochs: 1, LR: 0.01, Batch Size: 64, Accuracy: 0.1077\n",
      "Hidden Layers: [16, 8, 4], Activation: Tanh, Epochs: 1, LR: 0.01, Batch Size: 128, Accuracy: 0.1231\n",
      "Hidden Layers: [16, 8, 4], Activation: Tanh, Epochs: 1, LR: 0.01, Batch Size: 256, Accuracy: 0.0462\n",
      "Hidden Layers: [16, 8, 4], Activation: Tanh, Epochs: 1, LR: 0.01, Batch Size: 512, Accuracy: 0.0231\n",
      "Hidden Layers: [16, 8, 4], Activation: Tanh, Epochs: 1, LR: 0.001, Batch Size: 16, Accuracy: 0.0692\n",
      "Hidden Layers: [16, 8, 4], Activation: Tanh, Epochs: 1, LR: 0.001, Batch Size: 32, Accuracy: 0.1231\n",
      "Hidden Layers: [16, 8, 4], Activation: Tanh, Epochs: 1, LR: 0.001, Batch Size: 64, Accuracy: 0.0308\n",
      "Hidden Layers: [16, 8, 4], Activation: Tanh, Epochs: 1, LR: 0.001, Batch Size: 128, Accuracy: 0.0231\n",
      "Hidden Layers: [16, 8, 4], Activation: Tanh, Epochs: 1, LR: 0.001, Batch Size: 256, Accuracy: 0.0000\n",
      "Hidden Layers: [16, 8, 4], Activation: Tanh, Epochs: 1, LR: 0.001, Batch Size: 512, Accuracy: 0.0385\n",
      "Hidden Layers: [16, 8, 4], Activation: Tanh, Epochs: 1, LR: 0.0001, Batch Size: 16, Accuracy: 0.0692\n",
      "Hidden Layers: [16, 8, 4], Activation: Tanh, Epochs: 1, LR: 0.0001, Batch Size: 32, Accuracy: 0.0385\n",
      "Hidden Layers: [16, 8, 4], Activation: Tanh, Epochs: 1, LR: 0.0001, Batch Size: 64, Accuracy: 0.0692\n",
      "Hidden Layers: [16, 8, 4], Activation: Tanh, Epochs: 1, LR: 0.0001, Batch Size: 128, Accuracy: 0.0923\n",
      "Hidden Layers: [16, 8, 4], Activation: Tanh, Epochs: 1, LR: 0.0001, Batch Size: 256, Accuracy: 0.0000\n",
      "Hidden Layers: [16, 8, 4], Activation: Tanh, Epochs: 1, LR: 0.0001, Batch Size: 512, Accuracy: 0.1308\n",
      "Hidden Layers: [16, 8, 4], Activation: Tanh, Epochs: 10, LR: 10, Batch Size: 16, Accuracy: 0.1769\n",
      "Hidden Layers: [16, 8, 4], Activation: Tanh, Epochs: 10, LR: 10, Batch Size: 32, Accuracy: 0.1462\n",
      "Hidden Layers: [16, 8, 4], Activation: Tanh, Epochs: 10, LR: 10, Batch Size: 64, Accuracy: 0.1769\n",
      "Hidden Layers: [16, 8, 4], Activation: Tanh, Epochs: 10, LR: 10, Batch Size: 128, Accuracy: 0.1308\n",
      "Hidden Layers: [16, 8, 4], Activation: Tanh, Epochs: 10, LR: 10, Batch Size: 256, Accuracy: 0.0000\n",
      "Hidden Layers: [16, 8, 4], Activation: Tanh, Epochs: 10, LR: 10, Batch Size: 512, Accuracy: 0.1000\n",
      "Hidden Layers: [16, 8, 4], Activation: Tanh, Epochs: 10, LR: 1, Batch Size: 16, Accuracy: 0.0385\n",
      "Hidden Layers: [16, 8, 4], Activation: Tanh, Epochs: 10, LR: 1, Batch Size: 32, Accuracy: 0.1923\n",
      "Hidden Layers: [16, 8, 4], Activation: Tanh, Epochs: 10, LR: 1, Batch Size: 64, Accuracy: 0.1000\n",
      "Hidden Layers: [16, 8, 4], Activation: Tanh, Epochs: 10, LR: 1, Batch Size: 128, Accuracy: 0.0923\n",
      "Hidden Layers: [16, 8, 4], Activation: Tanh, Epochs: 10, LR: 1, Batch Size: 256, Accuracy: 0.0385\n",
      "Hidden Layers: [16, 8, 4], Activation: Tanh, Epochs: 10, LR: 1, Batch Size: 512, Accuracy: 0.1000\n",
      "Hidden Layers: [16, 8, 4], Activation: Tanh, Epochs: 10, LR: 0.1, Batch Size: 16, Accuracy: 0.2231\n",
      "Hidden Layers: [16, 8, 4], Activation: Tanh, Epochs: 10, LR: 0.1, Batch Size: 32, Accuracy: 0.3077\n",
      "Hidden Layers: [16, 8, 4], Activation: Tanh, Epochs: 10, LR: 0.1, Batch Size: 64, Accuracy: 0.3154\n",
      "Hidden Layers: [16, 8, 4], Activation: Tanh, Epochs: 10, LR: 0.1, Batch Size: 128, Accuracy: 0.3231\n",
      "Hidden Layers: [16, 8, 4], Activation: Tanh, Epochs: 10, LR: 0.1, Batch Size: 256, Accuracy: 0.1769\n",
      "Hidden Layers: [16, 8, 4], Activation: Tanh, Epochs: 10, LR: 0.1, Batch Size: 512, Accuracy: 0.2462\n",
      "Hidden Layers: [16, 8, 4], Activation: Tanh, Epochs: 10, LR: 0.01, Batch Size: 16, Accuracy: 0.3846\n",
      "Hidden Layers: [16, 8, 4], Activation: Tanh, Epochs: 10, LR: 0.01, Batch Size: 32, Accuracy: 0.2692\n",
      "Hidden Layers: [16, 8, 4], Activation: Tanh, Epochs: 10, LR: 0.01, Batch Size: 64, Accuracy: 0.3308\n",
      "Hidden Layers: [16, 8, 4], Activation: Tanh, Epochs: 10, LR: 0.01, Batch Size: 128, Accuracy: 0.2538\n",
      "Hidden Layers: [16, 8, 4], Activation: Tanh, Epochs: 10, LR: 0.01, Batch Size: 256, Accuracy: 0.2615\n",
      "Hidden Layers: [16, 8, 4], Activation: Tanh, Epochs: 10, LR: 0.01, Batch Size: 512, Accuracy: 0.2231\n",
      "Hidden Layers: [16, 8, 4], Activation: Tanh, Epochs: 10, LR: 0.001, Batch Size: 16, Accuracy: 0.1923\n",
      "Hidden Layers: [16, 8, 4], Activation: Tanh, Epochs: 10, LR: 0.001, Batch Size: 32, Accuracy: 0.2462\n",
      "Hidden Layers: [16, 8, 4], Activation: Tanh, Epochs: 10, LR: 0.001, Batch Size: 64, Accuracy: 0.1923\n",
      "Hidden Layers: [16, 8, 4], Activation: Tanh, Epochs: 10, LR: 0.001, Batch Size: 128, Accuracy: 0.0769\n",
      "Hidden Layers: [16, 8, 4], Activation: Tanh, Epochs: 10, LR: 0.001, Batch Size: 256, Accuracy: 0.0692\n",
      "Hidden Layers: [16, 8, 4], Activation: Tanh, Epochs: 10, LR: 0.001, Batch Size: 512, Accuracy: 0.0077\n",
      "Hidden Layers: [16, 8, 4], Activation: Tanh, Epochs: 10, LR: 0.0001, Batch Size: 16, Accuracy: 0.1462\n",
      "Hidden Layers: [16, 8, 4], Activation: Tanh, Epochs: 10, LR: 0.0001, Batch Size: 32, Accuracy: 0.0692\n",
      "Hidden Layers: [16, 8, 4], Activation: Tanh, Epochs: 10, LR: 0.0001, Batch Size: 64, Accuracy: 0.0231\n",
      "Hidden Layers: [16, 8, 4], Activation: Tanh, Epochs: 10, LR: 0.0001, Batch Size: 128, Accuracy: 0.0923\n",
      "Hidden Layers: [16, 8, 4], Activation: Tanh, Epochs: 10, LR: 0.0001, Batch Size: 256, Accuracy: 0.0615\n",
      "Hidden Layers: [16, 8, 4], Activation: Tanh, Epochs: 10, LR: 0.0001, Batch Size: 512, Accuracy: 0.0000\n",
      "Hidden Layers: [16, 8, 4], Activation: Tanh, Epochs: 25, LR: 10, Batch Size: 16, Accuracy: 0.1923\n",
      "Hidden Layers: [16, 8, 4], Activation: Tanh, Epochs: 25, LR: 10, Batch Size: 32, Accuracy: 0.1308\n",
      "Hidden Layers: [16, 8, 4], Activation: Tanh, Epochs: 25, LR: 10, Batch Size: 64, Accuracy: 0.0769\n",
      "Hidden Layers: [16, 8, 4], Activation: Tanh, Epochs: 25, LR: 10, Batch Size: 128, Accuracy: 0.0385\n",
      "Hidden Layers: [16, 8, 4], Activation: Tanh, Epochs: 25, LR: 10, Batch Size: 256, Accuracy: 0.1154\n",
      "Hidden Layers: [16, 8, 4], Activation: Tanh, Epochs: 25, LR: 10, Batch Size: 512, Accuracy: 0.1308\n",
      "Hidden Layers: [16, 8, 4], Activation: Tanh, Epochs: 25, LR: 1, Batch Size: 16, Accuracy: 0.1231\n",
      "Hidden Layers: [16, 8, 4], Activation: Tanh, Epochs: 25, LR: 1, Batch Size: 32, Accuracy: 0.1923\n",
      "Hidden Layers: [16, 8, 4], Activation: Tanh, Epochs: 25, LR: 1, Batch Size: 64, Accuracy: 0.1000\n",
      "Hidden Layers: [16, 8, 4], Activation: Tanh, Epochs: 25, LR: 1, Batch Size: 128, Accuracy: 0.1923\n",
      "Hidden Layers: [16, 8, 4], Activation: Tanh, Epochs: 25, LR: 1, Batch Size: 256, Accuracy: 0.1923\n",
      "Hidden Layers: [16, 8, 4], Activation: Tanh, Epochs: 25, LR: 1, Batch Size: 512, Accuracy: 0.1231\n",
      "Hidden Layers: [16, 8, 4], Activation: Tanh, Epochs: 25, LR: 0.1, Batch Size: 16, Accuracy: 0.2385\n",
      "Hidden Layers: [16, 8, 4], Activation: Tanh, Epochs: 25, LR: 0.1, Batch Size: 32, Accuracy: 0.2846\n",
      "Hidden Layers: [16, 8, 4], Activation: Tanh, Epochs: 25, LR: 0.1, Batch Size: 64, Accuracy: 0.3308\n",
      "Hidden Layers: [16, 8, 4], Activation: Tanh, Epochs: 25, LR: 0.1, Batch Size: 128, Accuracy: 0.3538\n",
      "Hidden Layers: [16, 8, 4], Activation: Tanh, Epochs: 25, LR: 0.1, Batch Size: 256, Accuracy: 0.3308\n",
      "Hidden Layers: [16, 8, 4], Activation: Tanh, Epochs: 25, LR: 0.1, Batch Size: 512, Accuracy: 0.1846\n",
      "Hidden Layers: [16, 8, 4], Activation: Tanh, Epochs: 25, LR: 0.01, Batch Size: 16, Accuracy: 0.3385\n",
      "Hidden Layers: [16, 8, 4], Activation: Tanh, Epochs: 25, LR: 0.01, Batch Size: 32, Accuracy: 0.3769\n",
      "Hidden Layers: [16, 8, 4], Activation: Tanh, Epochs: 25, LR: 0.01, Batch Size: 64, Accuracy: 0.2923\n",
      "Hidden Layers: [16, 8, 4], Activation: Tanh, Epochs: 25, LR: 0.01, Batch Size: 128, Accuracy: 0.3308\n",
      "Hidden Layers: [16, 8, 4], Activation: Tanh, Epochs: 25, LR: 0.01, Batch Size: 256, Accuracy: 0.2615\n",
      "Hidden Layers: [16, 8, 4], Activation: Tanh, Epochs: 25, LR: 0.01, Batch Size: 512, Accuracy: 0.3462\n",
      "Hidden Layers: [16, 8, 4], Activation: Tanh, Epochs: 25, LR: 0.001, Batch Size: 16, Accuracy: 0.3308\n",
      "Hidden Layers: [16, 8, 4], Activation: Tanh, Epochs: 25, LR: 0.001, Batch Size: 32, Accuracy: 0.2462\n",
      "Hidden Layers: [16, 8, 4], Activation: Tanh, Epochs: 25, LR: 0.001, Batch Size: 64, Accuracy: 0.2462\n",
      "Hidden Layers: [16, 8, 4], Activation: Tanh, Epochs: 25, LR: 0.001, Batch Size: 128, Accuracy: 0.1923\n",
      "Hidden Layers: [16, 8, 4], Activation: Tanh, Epochs: 25, LR: 0.001, Batch Size: 256, Accuracy: 0.1154\n",
      "Hidden Layers: [16, 8, 4], Activation: Tanh, Epochs: 25, LR: 0.001, Batch Size: 512, Accuracy: 0.0846\n",
      "Hidden Layers: [16, 8, 4], Activation: Tanh, Epochs: 25, LR: 0.0001, Batch Size: 16, Accuracy: 0.1385\n",
      "Hidden Layers: [16, 8, 4], Activation: Tanh, Epochs: 25, LR: 0.0001, Batch Size: 32, Accuracy: 0.0308\n",
      "Hidden Layers: [16, 8, 4], Activation: Tanh, Epochs: 25, LR: 0.0001, Batch Size: 64, Accuracy: 0.0385\n",
      "Hidden Layers: [16, 8, 4], Activation: Tanh, Epochs: 25, LR: 0.0001, Batch Size: 128, Accuracy: 0.0154\n",
      "Hidden Layers: [16, 8, 4], Activation: Tanh, Epochs: 25, LR: 0.0001, Batch Size: 256, Accuracy: 0.0769\n",
      "Hidden Layers: [16, 8, 4], Activation: Tanh, Epochs: 25, LR: 0.0001, Batch Size: 512, Accuracy: 0.0000\n",
      "Hidden Layers: [16, 8, 4], Activation: Tanh, Epochs: 50, LR: 10, Batch Size: 16, Accuracy: 0.0077\n",
      "Hidden Layers: [16, 8, 4], Activation: Tanh, Epochs: 50, LR: 10, Batch Size: 32, Accuracy: 0.1308\n",
      "Hidden Layers: [16, 8, 4], Activation: Tanh, Epochs: 50, LR: 10, Batch Size: 64, Accuracy: 0.1308\n",
      "Hidden Layers: [16, 8, 4], Activation: Tanh, Epochs: 50, LR: 10, Batch Size: 128, Accuracy: 0.1231\n",
      "Hidden Layers: [16, 8, 4], Activation: Tanh, Epochs: 50, LR: 10, Batch Size: 256, Accuracy: 0.1923\n",
      "Hidden Layers: [16, 8, 4], Activation: Tanh, Epochs: 50, LR: 10, Batch Size: 512, Accuracy: 0.0538\n",
      "Hidden Layers: [16, 8, 4], Activation: Tanh, Epochs: 50, LR: 1, Batch Size: 16, Accuracy: 0.0538\n",
      "Hidden Layers: [16, 8, 4], Activation: Tanh, Epochs: 50, LR: 1, Batch Size: 32, Accuracy: 0.1000\n",
      "Hidden Layers: [16, 8, 4], Activation: Tanh, Epochs: 50, LR: 1, Batch Size: 64, Accuracy: 0.0692\n",
      "Hidden Layers: [16, 8, 4], Activation: Tanh, Epochs: 50, LR: 1, Batch Size: 128, Accuracy: 0.1308\n",
      "Hidden Layers: [16, 8, 4], Activation: Tanh, Epochs: 50, LR: 1, Batch Size: 256, Accuracy: 0.1923\n",
      "Hidden Layers: [16, 8, 4], Activation: Tanh, Epochs: 50, LR: 1, Batch Size: 512, Accuracy: 0.1923\n",
      "Hidden Layers: [16, 8, 4], Activation: Tanh, Epochs: 50, LR: 0.1, Batch Size: 16, Accuracy: 0.1308\n",
      "Hidden Layers: [16, 8, 4], Activation: Tanh, Epochs: 50, LR: 0.1, Batch Size: 32, Accuracy: 0.2308\n",
      "Hidden Layers: [16, 8, 4], Activation: Tanh, Epochs: 50, LR: 0.1, Batch Size: 64, Accuracy: 0.3154\n",
      "Hidden Layers: [16, 8, 4], Activation: Tanh, Epochs: 50, LR: 0.1, Batch Size: 128, Accuracy: 0.2692\n",
      "Hidden Layers: [16, 8, 4], Activation: Tanh, Epochs: 50, LR: 0.1, Batch Size: 256, Accuracy: 0.3000\n",
      "Hidden Layers: [16, 8, 4], Activation: Tanh, Epochs: 50, LR: 0.1, Batch Size: 512, Accuracy: 0.2231\n",
      "Hidden Layers: [16, 8, 4], Activation: Tanh, Epochs: 50, LR: 0.01, Batch Size: 16, Accuracy: 0.3769\n",
      "Hidden Layers: [16, 8, 4], Activation: Tanh, Epochs: 50, LR: 0.01, Batch Size: 32, Accuracy: 0.4000\n",
      "Hidden Layers: [16, 8, 4], Activation: Tanh, Epochs: 50, LR: 0.01, Batch Size: 64, Accuracy: 0.3308\n",
      "Hidden Layers: [16, 8, 4], Activation: Tanh, Epochs: 50, LR: 0.01, Batch Size: 128, Accuracy: 0.3769\n",
      "Hidden Layers: [16, 8, 4], Activation: Tanh, Epochs: 50, LR: 0.01, Batch Size: 256, Accuracy: 0.3231\n",
      "Hidden Layers: [16, 8, 4], Activation: Tanh, Epochs: 50, LR: 0.01, Batch Size: 512, Accuracy: 0.3692\n",
      "Hidden Layers: [16, 8, 4], Activation: Tanh, Epochs: 50, LR: 0.001, Batch Size: 16, Accuracy: 0.4000\n",
      "Hidden Layers: [16, 8, 4], Activation: Tanh, Epochs: 50, LR: 0.001, Batch Size: 32, Accuracy: 0.2846\n",
      "Hidden Layers: [16, 8, 4], Activation: Tanh, Epochs: 50, LR: 0.001, Batch Size: 64, Accuracy: 0.3846\n",
      "Hidden Layers: [16, 8, 4], Activation: Tanh, Epochs: 50, LR: 0.001, Batch Size: 128, Accuracy: 0.2308\n",
      "Hidden Layers: [16, 8, 4], Activation: Tanh, Epochs: 50, LR: 0.001, Batch Size: 256, Accuracy: 0.2000\n",
      "Hidden Layers: [16, 8, 4], Activation: Tanh, Epochs: 50, LR: 0.001, Batch Size: 512, Accuracy: 0.1077\n",
      "Hidden Layers: [16, 8, 4], Activation: Tanh, Epochs: 50, LR: 0.0001, Batch Size: 16, Accuracy: 0.1923\n",
      "Hidden Layers: [16, 8, 4], Activation: Tanh, Epochs: 50, LR: 0.0001, Batch Size: 32, Accuracy: 0.1769\n",
      "Hidden Layers: [16, 8, 4], Activation: Tanh, Epochs: 50, LR: 0.0001, Batch Size: 64, Accuracy: 0.1923\n",
      "Hidden Layers: [16, 8, 4], Activation: Tanh, Epochs: 50, LR: 0.0001, Batch Size: 128, Accuracy: 0.0923\n",
      "Hidden Layers: [16, 8, 4], Activation: Tanh, Epochs: 50, LR: 0.0001, Batch Size: 256, Accuracy: 0.0000\n",
      "Hidden Layers: [16, 8, 4], Activation: Tanh, Epochs: 50, LR: 0.0001, Batch Size: 512, Accuracy: 0.0077\n",
      "Hidden Layers: [16, 8, 4], Activation: Tanh, Epochs: 100, LR: 10, Batch Size: 16, Accuracy: 0.1308\n",
      "Hidden Layers: [16, 8, 4], Activation: Tanh, Epochs: 100, LR: 10, Batch Size: 32, Accuracy: 0.1154\n",
      "Hidden Layers: [16, 8, 4], Activation: Tanh, Epochs: 100, LR: 10, Batch Size: 64, Accuracy: 0.0923\n",
      "Hidden Layers: [16, 8, 4], Activation: Tanh, Epochs: 100, LR: 10, Batch Size: 128, Accuracy: 0.1077\n",
      "Hidden Layers: [16, 8, 4], Activation: Tanh, Epochs: 100, LR: 10, Batch Size: 256, Accuracy: 0.1615\n",
      "Hidden Layers: [16, 8, 4], Activation: Tanh, Epochs: 100, LR: 10, Batch Size: 512, Accuracy: 0.1231\n",
      "Hidden Layers: [16, 8, 4], Activation: Tanh, Epochs: 100, LR: 1, Batch Size: 16, Accuracy: 0.0923\n",
      "Hidden Layers: [16, 8, 4], Activation: Tanh, Epochs: 100, LR: 1, Batch Size: 32, Accuracy: 0.1923\n",
      "Hidden Layers: [16, 8, 4], Activation: Tanh, Epochs: 100, LR: 1, Batch Size: 64, Accuracy: 0.1231\n",
      "Hidden Layers: [16, 8, 4], Activation: Tanh, Epochs: 100, LR: 1, Batch Size: 128, Accuracy: 0.1308\n",
      "Hidden Layers: [16, 8, 4], Activation: Tanh, Epochs: 100, LR: 1, Batch Size: 256, Accuracy: 0.1923\n",
      "Hidden Layers: [16, 8, 4], Activation: Tanh, Epochs: 100, LR: 1, Batch Size: 512, Accuracy: 0.1231\n",
      "Hidden Layers: [16, 8, 4], Activation: Tanh, Epochs: 100, LR: 0.1, Batch Size: 16, Accuracy: 0.2308\n",
      "Hidden Layers: [16, 8, 4], Activation: Tanh, Epochs: 100, LR: 0.1, Batch Size: 32, Accuracy: 0.2692\n",
      "Hidden Layers: [16, 8, 4], Activation: Tanh, Epochs: 100, LR: 0.1, Batch Size: 64, Accuracy: 0.3538\n",
      "Hidden Layers: [16, 8, 4], Activation: Tanh, Epochs: 100, LR: 0.1, Batch Size: 128, Accuracy: 0.2385\n",
      "Hidden Layers: [16, 8, 4], Activation: Tanh, Epochs: 100, LR: 0.1, Batch Size: 256, Accuracy: 0.2692\n",
      "Hidden Layers: [16, 8, 4], Activation: Tanh, Epochs: 100, LR: 0.1, Batch Size: 512, Accuracy: 0.2846\n",
      "Hidden Layers: [16, 8, 4], Activation: Tanh, Epochs: 100, LR: 0.01, Batch Size: 16, Accuracy: 0.3538\n",
      "Hidden Layers: [16, 8, 4], Activation: Tanh, Epochs: 100, LR: 0.01, Batch Size: 32, Accuracy: 0.4538\n",
      "Hidden Layers: [16, 8, 4], Activation: Tanh, Epochs: 100, LR: 0.01, Batch Size: 64, Accuracy: 0.4615\n",
      "Hidden Layers: [16, 8, 4], Activation: Tanh, Epochs: 100, LR: 0.01, Batch Size: 128, Accuracy: 0.4154\n",
      "Hidden Layers: [16, 8, 4], Activation: Tanh, Epochs: 100, LR: 0.01, Batch Size: 256, Accuracy: 0.3077\n",
      "Hidden Layers: [16, 8, 4], Activation: Tanh, Epochs: 100, LR: 0.01, Batch Size: 512, Accuracy: 0.3615\n",
      "Hidden Layers: [16, 8, 4], Activation: Tanh, Epochs: 100, LR: 0.001, Batch Size: 16, Accuracy: 0.4231\n",
      "Hidden Layers: [16, 8, 4], Activation: Tanh, Epochs: 100, LR: 0.001, Batch Size: 32, Accuracy: 0.4231\n",
      "Hidden Layers: [16, 8, 4], Activation: Tanh, Epochs: 100, LR: 0.001, Batch Size: 64, Accuracy: 0.4000\n",
      "Hidden Layers: [16, 8, 4], Activation: Tanh, Epochs: 100, LR: 0.001, Batch Size: 128, Accuracy: 0.3154\n",
      "Hidden Layers: [16, 8, 4], Activation: Tanh, Epochs: 100, LR: 0.001, Batch Size: 256, Accuracy: 0.1231\n",
      "Hidden Layers: [16, 8, 4], Activation: Tanh, Epochs: 100, LR: 0.001, Batch Size: 512, Accuracy: 0.1923\n",
      "Hidden Layers: [16, 8, 4], Activation: Tanh, Epochs: 100, LR: 0.0001, Batch Size: 16, Accuracy: 0.1923\n",
      "Hidden Layers: [16, 8, 4], Activation: Tanh, Epochs: 100, LR: 0.0001, Batch Size: 32, Accuracy: 0.1462\n",
      "Hidden Layers: [16, 8, 4], Activation: Tanh, Epochs: 100, LR: 0.0001, Batch Size: 64, Accuracy: 0.1231\n",
      "Hidden Layers: [16, 8, 4], Activation: Tanh, Epochs: 100, LR: 0.0001, Batch Size: 128, Accuracy: 0.0769\n",
      "Hidden Layers: [16, 8, 4], Activation: Tanh, Epochs: 100, LR: 0.0001, Batch Size: 256, Accuracy: 0.1000\n",
      "Hidden Layers: [16, 8, 4], Activation: Tanh, Epochs: 100, LR: 0.0001, Batch Size: 512, Accuracy: 0.0231\n",
      "Hidden Layers: [16, 8, 4], Activation: Tanh, Epochs: 250, LR: 10, Batch Size: 16, Accuracy: 0.0692\n",
      "Hidden Layers: [16, 8, 4], Activation: Tanh, Epochs: 250, LR: 10, Batch Size: 32, Accuracy: 0.2000\n",
      "Hidden Layers: [16, 8, 4], Activation: Tanh, Epochs: 250, LR: 10, Batch Size: 64, Accuracy: 0.1154\n",
      "Hidden Layers: [16, 8, 4], Activation: Tanh, Epochs: 250, LR: 10, Batch Size: 128, Accuracy: 0.0385\n",
      "Hidden Layers: [16, 8, 4], Activation: Tanh, Epochs: 250, LR: 10, Batch Size: 256, Accuracy: 0.1308\n",
      "Hidden Layers: [16, 8, 4], Activation: Tanh, Epochs: 250, LR: 10, Batch Size: 512, Accuracy: 0.1923\n",
      "Hidden Layers: [16, 8, 4], Activation: Tanh, Epochs: 250, LR: 1, Batch Size: 16, Accuracy: 0.0923\n",
      "Hidden Layers: [16, 8, 4], Activation: Tanh, Epochs: 250, LR: 1, Batch Size: 32, Accuracy: 0.1231\n",
      "Hidden Layers: [16, 8, 4], Activation: Tanh, Epochs: 250, LR: 1, Batch Size: 64, Accuracy: 0.1000\n",
      "Hidden Layers: [16, 8, 4], Activation: Tanh, Epochs: 250, LR: 1, Batch Size: 128, Accuracy: 0.1308\n",
      "Hidden Layers: [16, 8, 4], Activation: Tanh, Epochs: 250, LR: 1, Batch Size: 256, Accuracy: 0.1769\n",
      "Hidden Layers: [16, 8, 4], Activation: Tanh, Epochs: 250, LR: 1, Batch Size: 512, Accuracy: 0.1923\n",
      "Hidden Layers: [16, 8, 4], Activation: Tanh, Epochs: 250, LR: 0.1, Batch Size: 16, Accuracy: 0.2538\n",
      "Hidden Layers: [16, 8, 4], Activation: Tanh, Epochs: 250, LR: 0.1, Batch Size: 32, Accuracy: 0.3077\n",
      "Hidden Layers: [16, 8, 4], Activation: Tanh, Epochs: 250, LR: 0.1, Batch Size: 64, Accuracy: 0.3231\n",
      "Hidden Layers: [16, 8, 4], Activation: Tanh, Epochs: 250, LR: 0.1, Batch Size: 128, Accuracy: 0.3077\n",
      "Hidden Layers: [16, 8, 4], Activation: Tanh, Epochs: 250, LR: 0.1, Batch Size: 256, Accuracy: 0.2692\n",
      "Hidden Layers: [16, 8, 4], Activation: Tanh, Epochs: 250, LR: 0.1, Batch Size: 512, Accuracy: 0.2077\n",
      "Hidden Layers: [16, 8, 4], Activation: Tanh, Epochs: 250, LR: 0.01, Batch Size: 16, Accuracy: 0.4000\n",
      "Hidden Layers: [16, 8, 4], Activation: Tanh, Epochs: 250, LR: 0.01, Batch Size: 32, Accuracy: 0.3308\n",
      "Hidden Layers: [16, 8, 4], Activation: Tanh, Epochs: 250, LR: 0.01, Batch Size: 64, Accuracy: 0.3615\n",
      "Hidden Layers: [16, 8, 4], Activation: Tanh, Epochs: 250, LR: 0.01, Batch Size: 128, Accuracy: 0.3615\n",
      "Hidden Layers: [16, 8, 4], Activation: Tanh, Epochs: 250, LR: 0.01, Batch Size: 256, Accuracy: 0.4000\n",
      "Hidden Layers: [16, 8, 4], Activation: Tanh, Epochs: 250, LR: 0.01, Batch Size: 512, Accuracy: 0.4154\n",
      "Hidden Layers: [16, 8, 4], Activation: Tanh, Epochs: 250, LR: 0.001, Batch Size: 16, Accuracy: 0.3462\n",
      "Hidden Layers: [16, 8, 4], Activation: Tanh, Epochs: 250, LR: 0.001, Batch Size: 32, Accuracy: 0.3077\n",
      "Hidden Layers: [16, 8, 4], Activation: Tanh, Epochs: 250, LR: 0.001, Batch Size: 64, Accuracy: 0.3538\n",
      "Hidden Layers: [16, 8, 4], Activation: Tanh, Epochs: 250, LR: 0.001, Batch Size: 128, Accuracy: 0.3615\n",
      "Hidden Layers: [16, 8, 4], Activation: Tanh, Epochs: 250, LR: 0.001, Batch Size: 256, Accuracy: 0.3308\n",
      "Hidden Layers: [16, 8, 4], Activation: Tanh, Epochs: 250, LR: 0.001, Batch Size: 512, Accuracy: 0.3538\n",
      "Hidden Layers: [16, 8, 4], Activation: Tanh, Epochs: 250, LR: 0.0001, Batch Size: 16, Accuracy: 0.3692\n",
      "Hidden Layers: [16, 8, 4], Activation: Tanh, Epochs: 250, LR: 0.0001, Batch Size: 32, Accuracy: 0.2538\n",
      "Hidden Layers: [16, 8, 4], Activation: Tanh, Epochs: 250, LR: 0.0001, Batch Size: 64, Accuracy: 0.1308\n",
      "Hidden Layers: [16, 8, 4], Activation: Tanh, Epochs: 250, LR: 0.0001, Batch Size: 128, Accuracy: 0.1692\n",
      "Hidden Layers: [16, 8, 4], Activation: Tanh, Epochs: 250, LR: 0.0001, Batch Size: 256, Accuracy: 0.1000\n",
      "Hidden Layers: [16, 8, 4], Activation: Tanh, Epochs: 250, LR: 0.0001, Batch Size: 512, Accuracy: 0.1615\n",
      "Best Configuration: ([8, 4], 'ReLU', 100, 0.01, 64, 0.5230769230769231)\n"
     ]
    }
   ],
   "source": [
    "# Perform grid search\n",
    "results = []\n",
    "for hidden_layers, activation_fn, epochs, lr, batch_size in itertools.product(\n",
    "        hidden_layers_options, activation_options, epoch_options, learning_rate_options, batch_size_options):\n",
    "    \n",
    "    # Create DataLoader\n",
    "    train_loader = DataLoader(train_dataset, batch_size=batch_size, shuffle=True)\n",
    "    test_loader = DataLoader(test_dataset, batch_size=batch_size)\n",
    "    \n",
    "    # Initialize model, loss, and optimizer\n",
    "    model = MLPModel(input_size=X_train.shape[1], hidden_layers=hidden_layers, activation_fn=activation_fn)\n",
    "    criterion = nn.CrossEntropyLoss()\n",
    "    optimizer = optim.Adam(model.parameters(), lr=lr)\n",
    "    \n",
    "    # Training loop\n",
    "    for epoch in range(epochs):\n",
    "        model.train()\n",
    "        for X_batch, y_batch in train_loader:\n",
    "            optimizer.zero_grad()\n",
    "            outputs = model(X_batch)\n",
    "            loss = criterion(outputs, y_batch)\n",
    "            loss.backward()\n",
    "            optimizer.step()\n",
    "\n",
    "    # Evaluate model\n",
    "    model.eval()\n",
    "    y_pred = []\n",
    "    with torch.no_grad():\n",
    "        for X_batch, _ in test_loader:\n",
    "            outputs = model(X_batch)\n",
    "            _, predicted = torch.max(outputs, 1)\n",
    "            y_pred.extend(predicted.numpy())\n",
    "\n",
    "    accuracy = accuracy_score(y_test, y_pred)\n",
    "    results.append((hidden_layers, activation_fn.__name__, epochs, lr, batch_size, accuracy))\n",
    "    print(f\"Hidden Layers: {hidden_layers}, Activation: {activation_fn.__name__}, Epochs: {epochs}, \"\n",
    "          f\"LR: {lr}, Batch Size: {batch_size}, Accuracy: {accuracy:.4f}\")\n",
    "\n",
    "# Find best configuration\n",
    "best_config = max(results, key=lambda x: x[-1])\n",
    "print(\"Best Configuration:\", best_config)"
   ]
  },
  {
   "cell_type": "code",
   "execution_count": null,
   "metadata": {},
   "outputs": [],
   "source": []
  }
 ],
 "metadata": {
  "kernelspec": {
   "display_name": "Python 3",
   "language": "python",
   "name": "python3"
  },
  "language_info": {
   "codemirror_mode": {
    "name": "ipython",
    "version": 3
   },
   "file_extension": ".py",
   "mimetype": "text/x-python",
   "name": "python",
   "nbconvert_exporter": "python",
   "pygments_lexer": "ipython3",
   "version": "3.12.8"
  }
 },
 "nbformat": 4,
 "nbformat_minor": 2
}
