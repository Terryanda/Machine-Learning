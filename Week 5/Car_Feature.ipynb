{
  "nbformat": 4,
  "nbformat_minor": 0,
  "metadata": {
    "colab": {
      "provenance": []
    },
    "kernelspec": {
      "name": "python3",
      "display_name": "Python 3"
    },
    "language_info": {
      "name": "python"
    }
  },
  "cells": [
    {
      "cell_type": "code",
      "execution_count": 26,
      "metadata": {
        "id": "Dcytigwoe9X1"
      },
      "outputs": [],
      "source": [
        "import pandas as pd\n",
        "from sklearn.model_selection import train_test_split\n",
        "from sklearn.linear_model import LinearRegression\n",
        "from sklearn.preprocessing import PolynomialFeatures\n",
        "from sklearn.metrics import mean_squared_error, r2_score\n",
        "import numpy as np"
      ]
    },
    {
      "cell_type": "code",
      "source": [
        "# Load dataset\n",
        "data = pd.read_csv('/content/data.csv')"
      ],
      "metadata": {
        "id": "4W6hUjYaf--8"
      },
      "execution_count": 27,
      "outputs": []
    },
    {
      "cell_type": "code",
      "source": [
        "# Pilih fitur numerik yang relevan dan target\n",
        "X = data[['Year', 'Engine HP', 'Engine Cylinders', 'highway MPG', 'city mpg', 'Popularity']].fillna(0)\n",
        "y = data['MSRP']"
      ],
      "metadata": {
        "id": "0vYagUKPgQGs"
      },
      "execution_count": 28,
      "outputs": []
    },
    {
      "cell_type": "code",
      "source": [
        "# Bagi data menjadi train dan test set\n",
        "X_train, X_test, y_train, y_test = train_test_split(X, y, test_size=0.2, random_state=42)"
      ],
      "metadata": {
        "id": "Dkn-0aiilItW"
      },
      "execution_count": 29,
      "outputs": []
    },
    {
      "cell_type": "code",
      "source": [
        "# Model 1: Regresi Linear Sederhana\n",
        "linear_model = LinearRegression()\n",
        "linear_model.fit(X_train, y_train)\n",
        "y_pred_linear = linear_model.predict(X_test)"
      ],
      "metadata": {
        "id": "GOPGG3oplLcm"
      },
      "execution_count": 30,
      "outputs": []
    },
    {
      "cell_type": "code",
      "source": [
        "# Model 2: Regresi Linear dengan Basis Fungsi Polinomial\n",
        "poly = PolynomialFeatures(degree=2)\n",
        "X_train_poly = poly.fit_transform(X_train)\n",
        "X_test_poly = poly.transform(X_test)\n",
        "\n",
        "poly_model = LinearRegression()\n",
        "poly_model.fit(X_train_poly, y_train)\n",
        "y_pred_poly = poly_model.predict(X_test_poly)"
      ],
      "metadata": {
        "id": "kSIOqOaflL0l"
      },
      "execution_count": 31,
      "outputs": []
    },
    {
      "cell_type": "code",
      "source": [
        "# Hitung metrik\n",
        "def calculate_metrics(y_true, y_pred):\n",
        "    mse = mean_squared_error(y_true, y_pred)\n",
        "    rmse = np.sqrt(mse)\n",
        "    r2 = r2_score(y_true, y_pred)\n",
        "    return mse, rmse, r2\n",
        "\n",
        "mse_linear, rmse_linear, r2_linear = calculate_metrics(y_test, y_pred_linear)\n",
        "mse_poly, rmse_poly, r2_poly = calculate_metrics(y_test, y_pred_poly)"
      ],
      "metadata": {
        "id": "cVzrZ-UwlOJV"
      },
      "execution_count": 32,
      "outputs": []
    },
    {
      "cell_type": "code",
      "source": [
        "# Cetak hasil\n",
        "print(\"Linear Regression:\")\n",
        "print(f\"MSE: {mse_linear}, RMSE: {rmse_linear}, R^2: {r2_linear}\")\n",
        "\n",
        "print(\"\\nPolynomial Basis Regression:\")\n",
        "print(f\"MSE: {mse_poly}, RMSE: {rmse_poly}, R^2: {r2_poly}\")"
      ],
      "metadata": {
        "colab": {
          "base_uri": "https://localhost:8080/"
        },
        "id": "k2vQ14zclRCF",
        "outputId": "6be8add6-c6cd-4eb9-bef0-2854a8d39a40"
      },
      "execution_count": 33,
      "outputs": [
        {
          "output_type": "stream",
          "name": "stdout",
          "text": [
            "Linear Regression:\n",
            "MSE: 1061058627.7650267, RMSE: 32573.89488171512, R^2: 0.5548447760048814\n",
            "\n",
            "Polynomial Basis Regression:\n",
            "MSE: 639842631.2028921, RMSE: 25295.1108161813, R^2: 0.7315612140917198\n"
          ]
        }
      ]
    }
  ]
}